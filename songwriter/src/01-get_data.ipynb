{
 "cells": [
  {
   "cell_type": "code",
   "execution_count": 2,
   "metadata": {},
   "outputs": [],
   "source": [
    "import tqdm\n",
    "import time\n",
    "import multiprocessing\n",
    "import requests\n",
    "import pandas as pd"
   ]
  },
  {
   "cell_type": "code",
   "execution_count": 2,
   "metadata": {},
   "outputs": [],
   "source": [
    "API_KEY = \"660a4395f992ff67786584e238f501aa\"\n",
    "ARTIST_URL = \"https://www.vagalume.com.br/{artist}/index.js\"\n",
    "HEADERS = {'User-Agent': 'Mozilla/5.0'}"
   ]
  },
  {
   "cell_type": "markdown",
   "metadata": {},
   "source": [
    "---"
   ]
  },
  {
   "cell_type": "markdown",
   "metadata": {},
   "source": [
    "Example\n",
    "---"
   ]
  },
  {
   "cell_type": "code",
   "execution_count": 3,
   "metadata": {},
   "outputs": [],
   "source": [
    "url = ARTIST_URL.format(artist=\"roberto-carlos\")\n",
    "resp = requests.get(url=url, headers=HEADERS)"
   ]
  },
  {
   "cell_type": "code",
   "execution_count": 4,
   "metadata": {},
   "outputs": [
    {
     "data": {
      "text/plain": [
       "25"
      ]
     },
     "execution_count": 4,
     "metadata": {},
     "output_type": "execute_result"
    }
   ],
   "source": [
    "len(resp.json()['artist']['toplyrics']['item'])"
   ]
  },
  {
   "cell_type": "code",
   "execution_count": 5,
   "metadata": {},
   "outputs": [],
   "source": [
    "resp = requests.get(url=\"https://api.vagalume.com.br/search.php?art=roberto-carlos&mus=nossa-senhora-2\")"
   ]
  },
  {
   "cell_type": "code",
   "execution_count": 6,
   "metadata": {},
   "outputs": [
    {
     "data": {
      "text/plain": [
       "{'type': 'exact',\n",
       " 'art': {'id': '3ade68b5g3758eda3',\n",
       "  'name': 'Roberto Carlos',\n",
       "  'url': 'https://www.vagalume.com.br/roberto-carlos/'},\n",
       " 'mus': [{'id': '3ade68b7g2f8d8ea3',\n",
       "   'name': 'Nossa Senhora',\n",
       "   'url': 'https://www.vagalume.com.br/roberto-carlos/nossa-senhora-2.html',\n",
       "   'lang': 1,\n",
       "   'text': 'Cubra-me com seu manto de amor\\nGuarda-me na paz desse olhar\\nCura-me as feridas e a dor me faz suportar\\nQue as pedras do meu caminho\\nMeus pés suportem pisar\\nMesmo ferido de espinhos me ajude a passar\\n\\nSe ficaram mágoas em mim\\nMãe tira do meu coração\\nE aqueles que eu fiz sofrer peço perdão\\nSe eu curvar meu corpo na dor\\nMe alivia o peso da cruz\\nInterceda por mim minha mãe junto a Jesus\\n\\nNossa Senhora me dê a mão\\nCuida do meu coração\\nDa minha vida do meu destino\\n\\nNossa Senhora me dê a mão\\nCuida do meu coração\\nDa minha vida do meu destino\\nDo meu caminho\\nCuida de mim\\n\\nSempre que o meu pranto rolar\\nPonha sobre mim suas mãos\\nAumenta minha fé e acalma o meu coração\\nGrande é a procissão a pedir\\nA misericórdia o perdão\\nA cura do corpo e pra alma a salvação\\n\\nPobres pecadores oh mãe\\nTão necessitados de vós\\nSanta Mãe de Deus tem piedade de nós\\nDe joelhos aos vossos pés\\nEstendei a nós vossas mãos\\nRogai por todos nós vossos filhos meus irmãos\\n\\n\\nNossa Senhora me dê a mão\\nCuida do meu coração\\nDa minha vida do Meu destino\\n\\nNossa Senhora me dê a mão\\nCuida do meu coração\\nDa minha vida do Meu destino\\nDo meu caminho\\nCuida de mim\\n\\nNossa Senhora me dê a mão\\nCuida do meu coração\\nDa minha vida do Meu destino\\n\\nNossa Senhora me dê a mão\\nCuida do meu coração\\nDa minha vida do Meu destino\\nDo meu caminho\\nCuida de mim'}],\n",
       " 'badwords': False}"
      ]
     },
     "execution_count": 6,
     "metadata": {},
     "output_type": "execute_result"
    }
   ],
   "source": [
    "resp.json()"
   ]
  },
  {
   "cell_type": "markdown",
   "metadata": {},
   "source": [
    "---"
   ]
  },
  {
   "cell_type": "markdown",
   "metadata": {},
   "source": [
    "# Download Top 100 Artists"
   ]
  },
  {
   "cell_type": "code",
   "execution_count": 14,
   "metadata": {},
   "outputs": [],
   "source": [
    "period = 202003\n",
    "limit = 100\n",
    "RANK_URL = f\"https://api.vagalume.com.br/rank.php?apikey=660a4395f992ff67786584e238f501aa&type=art&period=month&periodVal={period}&limit={limit}\""
   ]
  },
  {
   "cell_type": "code",
   "execution_count": 15,
   "metadata": {},
   "outputs": [],
   "source": [
    "top_100_artists = requests.get(url=RANK_URL, headers=HEADERS)"
   ]
  },
  {
   "cell_type": "code",
   "execution_count": 19,
   "metadata": {},
   "outputs": [],
   "source": [
    "artists_df = pd.DataFrame.from_dict(top_100_artists.json()['art']['month']['all'])"
   ]
  },
  {
   "cell_type": "code",
   "execution_count": 20,
   "metadata": {},
   "outputs": [],
   "source": [
    "artists_df[\"selecionado\"] = 1"
   ]
  },
  {
   "cell_type": "code",
   "execution_count": 21,
   "metadata": {},
   "outputs": [],
   "source": [
    "artists_df.to_csv(\"../data/artistas.csv\", index=False, sep=\";\")"
   ]
  },
  {
   "cell_type": "markdown",
   "metadata": {},
   "source": [
    "---"
   ]
  },
  {
   "cell_type": "markdown",
   "metadata": {},
   "source": [
    "# List of top artists"
   ]
  },
  {
   "cell_type": "code",
   "execution_count": 22,
   "metadata": {},
   "outputs": [],
   "source": [
    "# read updated artistas with selected ones\n",
    "artists_df = pd.read_csv(\"../data/artistas.csv\", sep=\";\")"
   ]
  },
  {
   "cell_type": "code",
   "execution_count": 23,
   "metadata": {},
   "outputs": [
    {
     "data": {
      "text/html": [
       "<div>\n",
       "<style scoped>\n",
       "    .dataframe tbody tr th:only-of-type {\n",
       "        vertical-align: middle;\n",
       "    }\n",
       "\n",
       "    .dataframe tbody tr th {\n",
       "        vertical-align: top;\n",
       "    }\n",
       "\n",
       "    .dataframe thead th {\n",
       "        text-align: right;\n",
       "    }\n",
       "</style>\n",
       "<table border=\"1\" class=\"dataframe\">\n",
       "  <thead>\n",
       "    <tr style=\"text-align: right;\">\n",
       "      <th></th>\n",
       "      <th>id</th>\n",
       "      <th>name</th>\n",
       "      <th>url</th>\n",
       "      <th>pic_small</th>\n",
       "      <th>pic_medium</th>\n",
       "      <th>uniques</th>\n",
       "      <th>views</th>\n",
       "      <th>rank</th>\n",
       "      <th>selecionado</th>\n",
       "    </tr>\n",
       "  </thead>\n",
       "  <tbody>\n",
       "    <tr>\n",
       "      <th>0</th>\n",
       "      <td>3ade68b7ga71d2ea3</td>\n",
       "      <td>Dua Lipa</td>\n",
       "      <td>https://www.vagalume.com.br/dua-lipa/</td>\n",
       "      <td>https://s2.vagalume.com/dua-lipa/images/profil...</td>\n",
       "      <td>https://s2.vagalume.com/dua-lipa/images/dua-li...</td>\n",
       "      <td>110987</td>\n",
       "      <td>195605</td>\n",
       "      <td>233.6</td>\n",
       "      <td>1</td>\n",
       "    </tr>\n",
       "    <tr>\n",
       "      <th>1</th>\n",
       "      <td>3ade68b7g30dd1ea3</td>\n",
       "      <td>Ed Sheeran</td>\n",
       "      <td>https://www.vagalume.com.br/ed-sheeran/</td>\n",
       "      <td>https://s2.vagalume.com/ed-sheeran/images/prof...</td>\n",
       "      <td>https://s2.vagalume.com/ed-sheeran/images/ed-s...</td>\n",
       "      <td>54795</td>\n",
       "      <td>118926</td>\n",
       "      <td>115.3</td>\n",
       "      <td>1</td>\n",
       "    </tr>\n",
       "    <tr>\n",
       "      <th>2</th>\n",
       "      <td>3ade68b6g61f9eda3</td>\n",
       "      <td>Maroon 5</td>\n",
       "      <td>https://www.vagalume.com.br/maroon-5/</td>\n",
       "      <td>https://s2.vagalume.com/maroon-5/images/profil...</td>\n",
       "      <td>https://s2.vagalume.com/maroon-5/images/maroon...</td>\n",
       "      <td>43029</td>\n",
       "      <td>116561</td>\n",
       "      <td>90.6</td>\n",
       "      <td>1</td>\n",
       "    </tr>\n",
       "    <tr>\n",
       "      <th>3</th>\n",
       "      <td>3ade68b5gbfe6eda3</td>\n",
       "      <td>Eminem</td>\n",
       "      <td>https://www.vagalume.com.br/eminem/</td>\n",
       "      <td>https://s2.vagalume.com/eminem/images/profile.jpg</td>\n",
       "      <td>https://s2.vagalume.com/eminem/images/eminem.jpg</td>\n",
       "      <td>33962</td>\n",
       "      <td>57524</td>\n",
       "      <td>71.5</td>\n",
       "      <td>1</td>\n",
       "    </tr>\n",
       "    <tr>\n",
       "      <th>4</th>\n",
       "      <td>3ade68b7gd85f1ea3</td>\n",
       "      <td>Imagine Dragons</td>\n",
       "      <td>https://www.vagalume.com.br/imagine-dragons/</td>\n",
       "      <td>https://s2.vagalume.com/imagine-dragons/images...</td>\n",
       "      <td>https://s2.vagalume.com/imagine-dragons/images...</td>\n",
       "      <td>33379</td>\n",
       "      <td>72174</td>\n",
       "      <td>70.3</td>\n",
       "      <td>1</td>\n",
       "    </tr>\n",
       "  </tbody>\n",
       "</table>\n",
       "</div>"
      ],
      "text/plain": [
       "                  id             name  \\\n",
       "0  3ade68b7ga71d2ea3         Dua Lipa   \n",
       "1  3ade68b7g30dd1ea3       Ed Sheeran   \n",
       "2  3ade68b6g61f9eda3         Maroon 5   \n",
       "3  3ade68b5gbfe6eda3           Eminem   \n",
       "4  3ade68b7gd85f1ea3  Imagine Dragons   \n",
       "\n",
       "                                            url  \\\n",
       "0         https://www.vagalume.com.br/dua-lipa/   \n",
       "1       https://www.vagalume.com.br/ed-sheeran/   \n",
       "2         https://www.vagalume.com.br/maroon-5/   \n",
       "3           https://www.vagalume.com.br/eminem/   \n",
       "4  https://www.vagalume.com.br/imagine-dragons/   \n",
       "\n",
       "                                           pic_small  \\\n",
       "0  https://s2.vagalume.com/dua-lipa/images/profil...   \n",
       "1  https://s2.vagalume.com/ed-sheeran/images/prof...   \n",
       "2  https://s2.vagalume.com/maroon-5/images/profil...   \n",
       "3  https://s2.vagalume.com/eminem/images/profile.jpg   \n",
       "4  https://s2.vagalume.com/imagine-dragons/images...   \n",
       "\n",
       "                                          pic_medium  uniques   views   rank  \\\n",
       "0  https://s2.vagalume.com/dua-lipa/images/dua-li...   110987  195605  233.6   \n",
       "1  https://s2.vagalume.com/ed-sheeran/images/ed-s...    54795  118926  115.3   \n",
       "2  https://s2.vagalume.com/maroon-5/images/maroon...    43029  116561   90.6   \n",
       "3   https://s2.vagalume.com/eminem/images/eminem.jpg    33962   57524   71.5   \n",
       "4  https://s2.vagalume.com/imagine-dragons/images...    33379   72174   70.3   \n",
       "\n",
       "   selecionado  \n",
       "0            1  \n",
       "1            1  \n",
       "2            1  \n",
       "3            1  \n",
       "4            1  "
      ]
     },
     "execution_count": 23,
     "metadata": {},
     "output_type": "execute_result"
    }
   ],
   "source": [
    "artists_df.head()"
   ]
  },
  {
   "cell_type": "code",
   "execution_count": 26,
   "metadata": {},
   "outputs": [],
   "source": [
    "artists_df = artists_df.query(\"selecionado == 1\")"
   ]
  },
  {
   "cell_type": "code",
   "execution_count": 27,
   "metadata": {},
   "outputs": [],
   "source": [
    "artist_url_list = artists_df[\"url\"].values"
   ]
  },
  {
   "cell_type": "code",
   "execution_count": 28,
   "metadata": {},
   "outputs": [
    {
     "data": {
      "text/plain": [
       "array(['https://www.vagalume.com.br/dua-lipa/',\n",
       "       'https://www.vagalume.com.br/ed-sheeran/',\n",
       "       'https://www.vagalume.com.br/maroon-5/'], dtype=object)"
      ]
     },
     "execution_count": 28,
     "metadata": {},
     "output_type": "execute_result"
    }
   ],
   "source": [
    "artist_url_list[:3]"
   ]
  },
  {
   "cell_type": "code",
   "execution_count": 29,
   "metadata": {},
   "outputs": [],
   "source": [
    "def get_artist_songs(artist_url: str) -> pd.DataFrame:\n",
    "    url = artist_url + \"index.js\"\n",
    "    resp = requests.get(url=url, headers=HEADERS)\n",
    "    \n",
    "    songs_df = pd.DataFrame.from_dict(resp.json()['artist']['toplyrics']['item'])\n",
    "    songs_df[\"url_artista\"] = artist_url\n",
    "    \n",
    "    return songs_df"
   ]
  },
  {
   "cell_type": "code",
   "execution_count": 30,
   "metadata": {},
   "outputs": [],
   "source": [
    "with multiprocessing.Pool(processes=8) as pool:\n",
    "    results = pool.map(get_artist_songs, artist_url_list)"
   ]
  },
  {
   "cell_type": "code",
   "execution_count": 31,
   "metadata": {},
   "outputs": [],
   "source": [
    "songs_df = pd.concat(results)"
   ]
  },
  {
   "cell_type": "code",
   "execution_count": 32,
   "metadata": {},
   "outputs": [],
   "source": [
    "songs_df = songs_df.merge(artists_df, left_on=\"url_artista\", right_on=\"url\", suffixes=[\"_musica\", \"_artista\"])"
   ]
  },
  {
   "cell_type": "code",
   "execution_count": 33,
   "metadata": {},
   "outputs": [],
   "source": [
    "songs_df.to_csv(\"../data/musicas.csv\", sep=\";\", index=False)"
   ]
  },
  {
   "cell_type": "markdown",
   "metadata": {},
   "source": [
    "---"
   ]
  },
  {
   "cell_type": "markdown",
   "metadata": {},
   "source": [
    "# Get Lyrics"
   ]
  },
  {
   "cell_type": "code",
   "execution_count": 34,
   "metadata": {},
   "outputs": [],
   "source": [
    "MUSIC_URL = \"https://api.vagalume.com.br/search.php?musid={musid}\""
   ]
  },
  {
   "cell_type": "code",
   "execution_count": 35,
   "metadata": {},
   "outputs": [],
   "source": [
    "songs_df = pd.read_csv(\"../data/musicas.csv\", sep=\";\")"
   ]
  },
  {
   "cell_type": "code",
   "execution_count": 36,
   "metadata": {},
   "outputs": [
    {
     "data": {
      "text/html": [
       "<div>\n",
       "<style scoped>\n",
       "    .dataframe tbody tr th:only-of-type {\n",
       "        vertical-align: middle;\n",
       "    }\n",
       "\n",
       "    .dataframe tbody tr th {\n",
       "        vertical-align: top;\n",
       "    }\n",
       "\n",
       "    .dataframe thead th {\n",
       "        text-align: right;\n",
       "    }\n",
       "</style>\n",
       "<table border=\"1\" class=\"dataframe\">\n",
       "  <thead>\n",
       "    <tr style=\"text-align: right;\">\n",
       "      <th></th>\n",
       "      <th>id_musica</th>\n",
       "      <th>desc</th>\n",
       "      <th>url_musica</th>\n",
       "      <th>url_artista</th>\n",
       "      <th>id_artista</th>\n",
       "      <th>name</th>\n",
       "      <th>url_artista.1</th>\n",
       "      <th>pic_small</th>\n",
       "      <th>pic_medium</th>\n",
       "      <th>uniques</th>\n",
       "      <th>views</th>\n",
       "      <th>rank</th>\n",
       "      <th>selecionado</th>\n",
       "    </tr>\n",
       "  </thead>\n",
       "  <tbody>\n",
       "    <tr>\n",
       "      <th>0</th>\n",
       "      <td>3ade68b8gaccee0b3</td>\n",
       "      <td>Levitating (feat. DaBaby)</td>\n",
       "      <td>/dua-lipa/levitating-feat-dababy.html</td>\n",
       "      <td>https://www.vagalume.com.br/dua-lipa/</td>\n",
       "      <td>3ade68b7ga71d2ea3</td>\n",
       "      <td>Dua Lipa</td>\n",
       "      <td>https://www.vagalume.com.br/dua-lipa/</td>\n",
       "      <td>https://s2.vagalume.com/dua-lipa/images/profil...</td>\n",
       "      <td>https://s2.vagalume.com/dua-lipa/images/dua-li...</td>\n",
       "      <td>110987</td>\n",
       "      <td>195605</td>\n",
       "      <td>233.6</td>\n",
       "      <td>1</td>\n",
       "    </tr>\n",
       "    <tr>\n",
       "      <th>1</th>\n",
       "      <td>3ade68b8g03c1e0b3</td>\n",
       "      <td>Don't Start Now</td>\n",
       "      <td>/dua-lipa/dont-start-now.html</td>\n",
       "      <td>https://www.vagalume.com.br/dua-lipa/</td>\n",
       "      <td>3ade68b7ga71d2ea3</td>\n",
       "      <td>Dua Lipa</td>\n",
       "      <td>https://www.vagalume.com.br/dua-lipa/</td>\n",
       "      <td>https://s2.vagalume.com/dua-lipa/images/profil...</td>\n",
       "      <td>https://s2.vagalume.com/dua-lipa/images/dua-li...</td>\n",
       "      <td>110987</td>\n",
       "      <td>195605</td>\n",
       "      <td>233.6</td>\n",
       "      <td>1</td>\n",
       "    </tr>\n",
       "    <tr>\n",
       "      <th>2</th>\n",
       "      <td>3ade68b8gd627e0b3</td>\n",
       "      <td>Break My Heart</td>\n",
       "      <td>/dua-lipa/break-my-heart.html</td>\n",
       "      <td>https://www.vagalume.com.br/dua-lipa/</td>\n",
       "      <td>3ade68b7ga71d2ea3</td>\n",
       "      <td>Dua Lipa</td>\n",
       "      <td>https://www.vagalume.com.br/dua-lipa/</td>\n",
       "      <td>https://s2.vagalume.com/dua-lipa/images/profil...</td>\n",
       "      <td>https://s2.vagalume.com/dua-lipa/images/dua-li...</td>\n",
       "      <td>110987</td>\n",
       "      <td>195605</td>\n",
       "      <td>233.6</td>\n",
       "      <td>1</td>\n",
       "    </tr>\n",
       "    <tr>\n",
       "      <th>3</th>\n",
       "      <td>3ade68b8gaa27e0b3</td>\n",
       "      <td>Levitating</td>\n",
       "      <td>/dua-lipa/levitating.html</td>\n",
       "      <td>https://www.vagalume.com.br/dua-lipa/</td>\n",
       "      <td>3ade68b7ga71d2ea3</td>\n",
       "      <td>Dua Lipa</td>\n",
       "      <td>https://www.vagalume.com.br/dua-lipa/</td>\n",
       "      <td>https://s2.vagalume.com/dua-lipa/images/profil...</td>\n",
       "      <td>https://s2.vagalume.com/dua-lipa/images/dua-li...</td>\n",
       "      <td>110987</td>\n",
       "      <td>195605</td>\n",
       "      <td>233.6</td>\n",
       "      <td>1</td>\n",
       "    </tr>\n",
       "    <tr>\n",
       "      <th>4</th>\n",
       "      <td>3ade68b8g534fb0b3</td>\n",
       "      <td>New Rules</td>\n",
       "      <td>/dua-lipa/new-rules.html</td>\n",
       "      <td>https://www.vagalume.com.br/dua-lipa/</td>\n",
       "      <td>3ade68b7ga71d2ea3</td>\n",
       "      <td>Dua Lipa</td>\n",
       "      <td>https://www.vagalume.com.br/dua-lipa/</td>\n",
       "      <td>https://s2.vagalume.com/dua-lipa/images/profil...</td>\n",
       "      <td>https://s2.vagalume.com/dua-lipa/images/dua-li...</td>\n",
       "      <td>110987</td>\n",
       "      <td>195605</td>\n",
       "      <td>233.6</td>\n",
       "      <td>1</td>\n",
       "    </tr>\n",
       "  </tbody>\n",
       "</table>\n",
       "</div>"
      ],
      "text/plain": [
       "           id_musica                       desc  \\\n",
       "0  3ade68b8gaccee0b3  Levitating (feat. DaBaby)   \n",
       "1  3ade68b8g03c1e0b3            Don't Start Now   \n",
       "2  3ade68b8gd627e0b3             Break My Heart   \n",
       "3  3ade68b8gaa27e0b3                 Levitating   \n",
       "4  3ade68b8g534fb0b3                  New Rules   \n",
       "\n",
       "                              url_musica  \\\n",
       "0  /dua-lipa/levitating-feat-dababy.html   \n",
       "1          /dua-lipa/dont-start-now.html   \n",
       "2          /dua-lipa/break-my-heart.html   \n",
       "3              /dua-lipa/levitating.html   \n",
       "4               /dua-lipa/new-rules.html   \n",
       "\n",
       "                             url_artista         id_artista      name  \\\n",
       "0  https://www.vagalume.com.br/dua-lipa/  3ade68b7ga71d2ea3  Dua Lipa   \n",
       "1  https://www.vagalume.com.br/dua-lipa/  3ade68b7ga71d2ea3  Dua Lipa   \n",
       "2  https://www.vagalume.com.br/dua-lipa/  3ade68b7ga71d2ea3  Dua Lipa   \n",
       "3  https://www.vagalume.com.br/dua-lipa/  3ade68b7ga71d2ea3  Dua Lipa   \n",
       "4  https://www.vagalume.com.br/dua-lipa/  3ade68b7ga71d2ea3  Dua Lipa   \n",
       "\n",
       "                           url_artista.1  \\\n",
       "0  https://www.vagalume.com.br/dua-lipa/   \n",
       "1  https://www.vagalume.com.br/dua-lipa/   \n",
       "2  https://www.vagalume.com.br/dua-lipa/   \n",
       "3  https://www.vagalume.com.br/dua-lipa/   \n",
       "4  https://www.vagalume.com.br/dua-lipa/   \n",
       "\n",
       "                                           pic_small  \\\n",
       "0  https://s2.vagalume.com/dua-lipa/images/profil...   \n",
       "1  https://s2.vagalume.com/dua-lipa/images/profil...   \n",
       "2  https://s2.vagalume.com/dua-lipa/images/profil...   \n",
       "3  https://s2.vagalume.com/dua-lipa/images/profil...   \n",
       "4  https://s2.vagalume.com/dua-lipa/images/profil...   \n",
       "\n",
       "                                          pic_medium  uniques   views   rank  \\\n",
       "0  https://s2.vagalume.com/dua-lipa/images/dua-li...   110987  195605  233.6   \n",
       "1  https://s2.vagalume.com/dua-lipa/images/dua-li...   110987  195605  233.6   \n",
       "2  https://s2.vagalume.com/dua-lipa/images/dua-li...   110987  195605  233.6   \n",
       "3  https://s2.vagalume.com/dua-lipa/images/dua-li...   110987  195605  233.6   \n",
       "4  https://s2.vagalume.com/dua-lipa/images/dua-li...   110987  195605  233.6   \n",
       "\n",
       "   selecionado  \n",
       "0            1  \n",
       "1            1  \n",
       "2            1  \n",
       "3            1  \n",
       "4            1  "
      ]
     },
     "execution_count": 36,
     "metadata": {},
     "output_type": "execute_result"
    }
   ],
   "source": [
    "songs_df.head()"
   ]
  },
  {
   "cell_type": "code",
   "execution_count": 37,
   "metadata": {},
   "outputs": [
    {
     "data": {
      "text/plain": [
       "(2396, 13)"
      ]
     },
     "execution_count": 37,
     "metadata": {},
     "output_type": "execute_result"
    }
   ],
   "source": [
    "songs_df.shape"
   ]
  },
  {
   "cell_type": "code",
   "execution_count": 38,
   "metadata": {},
   "outputs": [],
   "source": [
    "musid_list = songs_df[\"id_musica\"].values"
   ]
  },
  {
   "cell_type": "code",
   "execution_count": 39,
   "metadata": {},
   "outputs": [
    {
     "data": {
      "text/plain": [
       "array(['3ade68b8gaccee0b3', '3ade68b8g03c1e0b3', '3ade68b8gd627e0b3',\n",
       "       '3ade68b8gaa27e0b3'], dtype=object)"
      ]
     },
     "execution_count": 39,
     "metadata": {},
     "output_type": "execute_result"
    }
   ],
   "source": [
    "musid_list[:4]"
   ]
  },
  {
   "cell_type": "code",
   "execution_count": 40,
   "metadata": {},
   "outputs": [],
   "source": [
    "def get_lyrics(musid: str) -> pd.DataFrame:\n",
    "    try:\n",
    "        url = MUSIC_URL.format(musid=musid)\n",
    "        resp = requests.get(url=url, headers=HEADERS)\n",
    "\n",
    "        lyrics_df = pd.DataFrame.from_dict(resp.json()['mus'])    \n",
    "        \n",
    "        # sleep so we don't get our IP blocked\n",
    "        time.sleep(5)\n",
    "        \n",
    "        return lyrics_df\n",
    "    except Exception as e:\n",
    "        print(e, musid)\n",
    "        return pd.DataFrame()"
   ]
  },
  {
   "cell_type": "code",
   "execution_count": 41,
   "metadata": {
    "scrolled": true
   },
   "outputs": [
    {
     "name": "stderr",
     "output_type": "stream",
     "text": [
      "100%|██████████| 2396/2396 [3:47:31<00:00,  5.70s/it]  \n"
     ]
    }
   ],
   "source": [
    "lyrics_results = []\n",
    "\n",
    "# Wont be able to use parallelism because the site is blocking our requests\n",
    "for mid in tqdm.tqdm(musid_list):\n",
    "    lyrics_results.append(get_lyrics(mid))"
   ]
  },
  {
   "cell_type": "code",
   "execution_count": 42,
   "metadata": {},
   "outputs": [],
   "source": [
    "lyrics_df = pd.concat(lyrics_results)"
   ]
  },
  {
   "cell_type": "code",
   "execution_count": 43,
   "metadata": {},
   "outputs": [],
   "source": [
    "lyrics_df = lyrics_df.merge(songs_df, left_on=\"id\", right_on=\"id_musica\", suffixes=[\"_letra\", \"_musica\"])"
   ]
  },
  {
   "cell_type": "code",
   "execution_count": 44,
   "metadata": {},
   "outputs": [],
   "source": [
    "lyrics_df.to_csv(\"../data/letras.csv\", sep=\";\", index=False)"
   ]
  },
  {
   "cell_type": "code",
   "execution_count": 45,
   "metadata": {},
   "outputs": [
    {
     "data": {
      "text/html": [
       "<div>\n",
       "<style scoped>\n",
       "    .dataframe tbody tr th:only-of-type {\n",
       "        vertical-align: middle;\n",
       "    }\n",
       "\n",
       "    .dataframe tbody tr th {\n",
       "        vertical-align: top;\n",
       "    }\n",
       "\n",
       "    .dataframe thead th {\n",
       "        text-align: right;\n",
       "    }\n",
       "</style>\n",
       "<table border=\"1\" class=\"dataframe\">\n",
       "  <thead>\n",
       "    <tr style=\"text-align: right;\">\n",
       "      <th></th>\n",
       "      <th>id</th>\n",
       "      <th>name_letra</th>\n",
       "      <th>url</th>\n",
       "      <th>lang</th>\n",
       "      <th>text</th>\n",
       "      <th>translate</th>\n",
       "      <th>id_musica</th>\n",
       "      <th>desc</th>\n",
       "      <th>url_musica</th>\n",
       "      <th>url_artista</th>\n",
       "      <th>id_artista</th>\n",
       "      <th>name_musica</th>\n",
       "      <th>url_artista.1</th>\n",
       "      <th>pic_small</th>\n",
       "      <th>pic_medium</th>\n",
       "      <th>uniques</th>\n",
       "      <th>views</th>\n",
       "      <th>rank</th>\n",
       "      <th>selecionado</th>\n",
       "    </tr>\n",
       "  </thead>\n",
       "  <tbody>\n",
       "    <tr>\n",
       "      <th>0</th>\n",
       "      <td>3ade68b8gaccee0b3</td>\n",
       "      <td>Levitating (feat. DaBaby)</td>\n",
       "      <td>https://www.vagalume.com.br/dua-lipa/levitatin...</td>\n",
       "      <td>2</td>\n",
       "      <td>[DaBaby:]\\nBillboard Baby, Dua Lipa make 'em d...</td>\n",
       "      <td>[{'id': '3ade68b8g95eee0b3', 'lang': 1, 'url':...</td>\n",
       "      <td>3ade68b8gaccee0b3</td>\n",
       "      <td>Levitating (feat. DaBaby)</td>\n",
       "      <td>/dua-lipa/levitating-feat-dababy.html</td>\n",
       "      <td>https://www.vagalume.com.br/dua-lipa/</td>\n",
       "      <td>3ade68b7ga71d2ea3</td>\n",
       "      <td>Dua Lipa</td>\n",
       "      <td>https://www.vagalume.com.br/dua-lipa/</td>\n",
       "      <td>https://s2.vagalume.com/dua-lipa/images/profil...</td>\n",
       "      <td>https://s2.vagalume.com/dua-lipa/images/dua-li...</td>\n",
       "      <td>110987</td>\n",
       "      <td>195605</td>\n",
       "      <td>233.6</td>\n",
       "      <td>1</td>\n",
       "    </tr>\n",
       "    <tr>\n",
       "      <th>1</th>\n",
       "      <td>3ade68b8g03c1e0b3</td>\n",
       "      <td>Don't Start Now</td>\n",
       "      <td>https://www.vagalume.com.br/dua-lipa/dont-star...</td>\n",
       "      <td>2</td>\n",
       "      <td>If you don't wanna see me\\n\\nDid a full 180, c...</td>\n",
       "      <td>[{'id': '3ade68b8g13c1e0b3', 'lang': 1, 'url':...</td>\n",
       "      <td>3ade68b8g03c1e0b3</td>\n",
       "      <td>Don't Start Now</td>\n",
       "      <td>/dua-lipa/dont-start-now.html</td>\n",
       "      <td>https://www.vagalume.com.br/dua-lipa/</td>\n",
       "      <td>3ade68b7ga71d2ea3</td>\n",
       "      <td>Dua Lipa</td>\n",
       "      <td>https://www.vagalume.com.br/dua-lipa/</td>\n",
       "      <td>https://s2.vagalume.com/dua-lipa/images/profil...</td>\n",
       "      <td>https://s2.vagalume.com/dua-lipa/images/dua-li...</td>\n",
       "      <td>110987</td>\n",
       "      <td>195605</td>\n",
       "      <td>233.6</td>\n",
       "      <td>1</td>\n",
       "    </tr>\n",
       "    <tr>\n",
       "      <th>2</th>\n",
       "      <td>3ade68b8gd627e0b3</td>\n",
       "      <td>Break My Heart</td>\n",
       "      <td>https://www.vagalume.com.br/dua-lipa/break-my-...</td>\n",
       "      <td>2</td>\n",
       "      <td>I've always been the one to say the first good...</td>\n",
       "      <td>[{'id': '3ade68b8ge627e0b3', 'lang': 1, 'url':...</td>\n",
       "      <td>3ade68b8gd627e0b3</td>\n",
       "      <td>Break My Heart</td>\n",
       "      <td>/dua-lipa/break-my-heart.html</td>\n",
       "      <td>https://www.vagalume.com.br/dua-lipa/</td>\n",
       "      <td>3ade68b7ga71d2ea3</td>\n",
       "      <td>Dua Lipa</td>\n",
       "      <td>https://www.vagalume.com.br/dua-lipa/</td>\n",
       "      <td>https://s2.vagalume.com/dua-lipa/images/profil...</td>\n",
       "      <td>https://s2.vagalume.com/dua-lipa/images/dua-li...</td>\n",
       "      <td>110987</td>\n",
       "      <td>195605</td>\n",
       "      <td>233.6</td>\n",
       "      <td>1</td>\n",
       "    </tr>\n",
       "    <tr>\n",
       "      <th>3</th>\n",
       "      <td>3ade68b8gaa27e0b3</td>\n",
       "      <td>Levitating</td>\n",
       "      <td>https://www.vagalume.com.br/dua-lipa/levitatin...</td>\n",
       "      <td>2</td>\n",
       "      <td>If you wanna run away with me\\nI know a galaxy...</td>\n",
       "      <td>[{'id': '3ade68b8gfd27e0b3', 'lang': 1, 'url':...</td>\n",
       "      <td>3ade68b8gaa27e0b3</td>\n",
       "      <td>Levitating</td>\n",
       "      <td>/dua-lipa/levitating.html</td>\n",
       "      <td>https://www.vagalume.com.br/dua-lipa/</td>\n",
       "      <td>3ade68b7ga71d2ea3</td>\n",
       "      <td>Dua Lipa</td>\n",
       "      <td>https://www.vagalume.com.br/dua-lipa/</td>\n",
       "      <td>https://s2.vagalume.com/dua-lipa/images/profil...</td>\n",
       "      <td>https://s2.vagalume.com/dua-lipa/images/dua-li...</td>\n",
       "      <td>110987</td>\n",
       "      <td>195605</td>\n",
       "      <td>233.6</td>\n",
       "      <td>1</td>\n",
       "    </tr>\n",
       "    <tr>\n",
       "      <th>4</th>\n",
       "      <td>3ade68b8g534fb0b3</td>\n",
       "      <td>New Rules</td>\n",
       "      <td>https://www.vagalume.com.br/dua-lipa/new-rules...</td>\n",
       "      <td>2</td>\n",
       "      <td>Talkin' in my sleep at night\\nMakin' myself cr...</td>\n",
       "      <td>[{'id': '3ade68b8g634fb0b3', 'lang': 1, 'url':...</td>\n",
       "      <td>3ade68b8g534fb0b3</td>\n",
       "      <td>New Rules</td>\n",
       "      <td>/dua-lipa/new-rules.html</td>\n",
       "      <td>https://www.vagalume.com.br/dua-lipa/</td>\n",
       "      <td>3ade68b7ga71d2ea3</td>\n",
       "      <td>Dua Lipa</td>\n",
       "      <td>https://www.vagalume.com.br/dua-lipa/</td>\n",
       "      <td>https://s2.vagalume.com/dua-lipa/images/profil...</td>\n",
       "      <td>https://s2.vagalume.com/dua-lipa/images/dua-li...</td>\n",
       "      <td>110987</td>\n",
       "      <td>195605</td>\n",
       "      <td>233.6</td>\n",
       "      <td>1</td>\n",
       "    </tr>\n",
       "  </tbody>\n",
       "</table>\n",
       "</div>"
      ],
      "text/plain": [
       "                  id                 name_letra  \\\n",
       "0  3ade68b8gaccee0b3  Levitating (feat. DaBaby)   \n",
       "1  3ade68b8g03c1e0b3            Don't Start Now   \n",
       "2  3ade68b8gd627e0b3             Break My Heart   \n",
       "3  3ade68b8gaa27e0b3                 Levitating   \n",
       "4  3ade68b8g534fb0b3                  New Rules   \n",
       "\n",
       "                                                 url  lang  \\\n",
       "0  https://www.vagalume.com.br/dua-lipa/levitatin...     2   \n",
       "1  https://www.vagalume.com.br/dua-lipa/dont-star...     2   \n",
       "2  https://www.vagalume.com.br/dua-lipa/break-my-...     2   \n",
       "3  https://www.vagalume.com.br/dua-lipa/levitatin...     2   \n",
       "4  https://www.vagalume.com.br/dua-lipa/new-rules...     2   \n",
       "\n",
       "                                                text  \\\n",
       "0  [DaBaby:]\\nBillboard Baby, Dua Lipa make 'em d...   \n",
       "1  If you don't wanna see me\\n\\nDid a full 180, c...   \n",
       "2  I've always been the one to say the first good...   \n",
       "3  If you wanna run away with me\\nI know a galaxy...   \n",
       "4  Talkin' in my sleep at night\\nMakin' myself cr...   \n",
       "\n",
       "                                           translate          id_musica  \\\n",
       "0  [{'id': '3ade68b8g95eee0b3', 'lang': 1, 'url':...  3ade68b8gaccee0b3   \n",
       "1  [{'id': '3ade68b8g13c1e0b3', 'lang': 1, 'url':...  3ade68b8g03c1e0b3   \n",
       "2  [{'id': '3ade68b8ge627e0b3', 'lang': 1, 'url':...  3ade68b8gd627e0b3   \n",
       "3  [{'id': '3ade68b8gfd27e0b3', 'lang': 1, 'url':...  3ade68b8gaa27e0b3   \n",
       "4  [{'id': '3ade68b8g634fb0b3', 'lang': 1, 'url':...  3ade68b8g534fb0b3   \n",
       "\n",
       "                        desc                             url_musica  \\\n",
       "0  Levitating (feat. DaBaby)  /dua-lipa/levitating-feat-dababy.html   \n",
       "1            Don't Start Now          /dua-lipa/dont-start-now.html   \n",
       "2             Break My Heart          /dua-lipa/break-my-heart.html   \n",
       "3                 Levitating              /dua-lipa/levitating.html   \n",
       "4                  New Rules               /dua-lipa/new-rules.html   \n",
       "\n",
       "                             url_artista         id_artista name_musica  \\\n",
       "0  https://www.vagalume.com.br/dua-lipa/  3ade68b7ga71d2ea3    Dua Lipa   \n",
       "1  https://www.vagalume.com.br/dua-lipa/  3ade68b7ga71d2ea3    Dua Lipa   \n",
       "2  https://www.vagalume.com.br/dua-lipa/  3ade68b7ga71d2ea3    Dua Lipa   \n",
       "3  https://www.vagalume.com.br/dua-lipa/  3ade68b7ga71d2ea3    Dua Lipa   \n",
       "4  https://www.vagalume.com.br/dua-lipa/  3ade68b7ga71d2ea3    Dua Lipa   \n",
       "\n",
       "                           url_artista.1  \\\n",
       "0  https://www.vagalume.com.br/dua-lipa/   \n",
       "1  https://www.vagalume.com.br/dua-lipa/   \n",
       "2  https://www.vagalume.com.br/dua-lipa/   \n",
       "3  https://www.vagalume.com.br/dua-lipa/   \n",
       "4  https://www.vagalume.com.br/dua-lipa/   \n",
       "\n",
       "                                           pic_small  \\\n",
       "0  https://s2.vagalume.com/dua-lipa/images/profil...   \n",
       "1  https://s2.vagalume.com/dua-lipa/images/profil...   \n",
       "2  https://s2.vagalume.com/dua-lipa/images/profil...   \n",
       "3  https://s2.vagalume.com/dua-lipa/images/profil...   \n",
       "4  https://s2.vagalume.com/dua-lipa/images/profil...   \n",
       "\n",
       "                                          pic_medium  uniques   views   rank  \\\n",
       "0  https://s2.vagalume.com/dua-lipa/images/dua-li...   110987  195605  233.6   \n",
       "1  https://s2.vagalume.com/dua-lipa/images/dua-li...   110987  195605  233.6   \n",
       "2  https://s2.vagalume.com/dua-lipa/images/dua-li...   110987  195605  233.6   \n",
       "3  https://s2.vagalume.com/dua-lipa/images/dua-li...   110987  195605  233.6   \n",
       "4  https://s2.vagalume.com/dua-lipa/images/dua-li...   110987  195605  233.6   \n",
       "\n",
       "   selecionado  \n",
       "0            1  \n",
       "1            1  \n",
       "2            1  \n",
       "3            1  \n",
       "4            1  "
      ]
     },
     "execution_count": 45,
     "metadata": {},
     "output_type": "execute_result"
    }
   ],
   "source": [
    "lyrics_df.head()"
   ]
  },
  {
   "cell_type": "markdown",
   "metadata": {},
   "source": [
    "---"
   ]
  },
  {
   "cell_type": "code",
   "execution_count": 4,
   "metadata": {},
   "outputs": [],
   "source": [
    "lyrics_df = pd.read_csv(\"../data/letras.csv\", sep=\";\")"
   ]
  },
  {
   "cell_type": "code",
   "execution_count": 8,
   "metadata": {},
   "outputs": [
    {
     "data": {
      "text/html": [
       "<div>\n",
       "<style scoped>\n",
       "    .dataframe tbody tr th:only-of-type {\n",
       "        vertical-align: middle;\n",
       "    }\n",
       "\n",
       "    .dataframe tbody tr th {\n",
       "        vertical-align: top;\n",
       "    }\n",
       "\n",
       "    .dataframe thead th {\n",
       "        text-align: right;\n",
       "    }\n",
       "</style>\n",
       "<table border=\"1\" class=\"dataframe\">\n",
       "  <thead>\n",
       "    <tr style=\"text-align: right;\">\n",
       "      <th></th>\n",
       "      <th>artista</th>\n",
       "      <th>musica</th>\n",
       "      <th>letra</th>\n",
       "      <th>lang</th>\n",
       "    </tr>\n",
       "  </thead>\n",
       "  <tbody>\n",
       "    <tr>\n",
       "      <th>0</th>\n",
       "      <td>Dua Lipa</td>\n",
       "      <td>Levitating (feat. DaBaby)</td>\n",
       "      <td>[DaBaby:]\\nBillboard Baby, Dua Lipa make 'em d...</td>\n",
       "      <td>2</td>\n",
       "    </tr>\n",
       "    <tr>\n",
       "      <th>1</th>\n",
       "      <td>Dua Lipa</td>\n",
       "      <td>Don't Start Now</td>\n",
       "      <td>If you don't wanna see me\\n\\nDid a full 180, c...</td>\n",
       "      <td>2</td>\n",
       "    </tr>\n",
       "    <tr>\n",
       "      <th>2</th>\n",
       "      <td>Dua Lipa</td>\n",
       "      <td>Break My Heart</td>\n",
       "      <td>I've always been the one to say the first good...</td>\n",
       "      <td>2</td>\n",
       "    </tr>\n",
       "    <tr>\n",
       "      <th>3</th>\n",
       "      <td>Dua Lipa</td>\n",
       "      <td>Levitating</td>\n",
       "      <td>If you wanna run away with me\\nI know a galaxy...</td>\n",
       "      <td>2</td>\n",
       "    </tr>\n",
       "    <tr>\n",
       "      <th>4</th>\n",
       "      <td>Dua Lipa</td>\n",
       "      <td>New Rules</td>\n",
       "      <td>Talkin' in my sleep at night\\nMakin' myself cr...</td>\n",
       "      <td>2</td>\n",
       "    </tr>\n",
       "  </tbody>\n",
       "</table>\n",
       "</div>"
      ],
      "text/plain": [
       "    artista                     musica  \\\n",
       "0  Dua Lipa  Levitating (feat. DaBaby)   \n",
       "1  Dua Lipa            Don't Start Now   \n",
       "2  Dua Lipa             Break My Heart   \n",
       "3  Dua Lipa                 Levitating   \n",
       "4  Dua Lipa                  New Rules   \n",
       "\n",
       "                                               letra  lang  \n",
       "0  [DaBaby:]\\nBillboard Baby, Dua Lipa make 'em d...     2  \n",
       "1  If you don't wanna see me\\n\\nDid a full 180, c...     2  \n",
       "2  I've always been the one to say the first good...     2  \n",
       "3  If you wanna run away with me\\nI know a galaxy...     2  \n",
       "4  Talkin' in my sleep at night\\nMakin' myself cr...     2  "
      ]
     },
     "execution_count": 8,
     "metadata": {},
     "output_type": "execute_result"
    }
   ],
   "source": [
    "final_df = lyrics_df[[\"name_musica\", \"name_letra\", \"text\", \"lang\"]]\n",
    "final_df.columns = [\"artista\", \"musica\", \"letra\", \"lang\"]\n",
    "final_df.head()"
   ]
  },
  {
   "cell_type": "code",
   "execution_count": 9,
   "metadata": {},
   "outputs": [],
   "source": [
    "final_df.to_csv(\"../data/data_raw.csv\", sep=\";\", index=False)"
   ]
  }
 ],
 "metadata": {
  "kernelspec": {
   "display_name": "Python 3",
   "language": "python",
   "name": "python3"
  },
  "language_info": {
   "codemirror_mode": {
    "name": "ipython",
    "version": 3
   },
   "file_extension": ".py",
   "mimetype": "text/x-python",
   "name": "python",
   "nbconvert_exporter": "python",
   "pygments_lexer": "ipython3",
   "version": "3.8.5"
  }
 },
 "nbformat": 4,
 "nbformat_minor": 4
}
