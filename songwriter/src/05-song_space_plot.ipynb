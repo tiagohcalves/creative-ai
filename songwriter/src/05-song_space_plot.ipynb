{
 "cells": [
  {
   "cell_type": "code",
   "execution_count": 141,
   "metadata": {},
   "outputs": [],
   "source": [
    "import pickle\n",
    "\n",
    "import numpy as np\n",
    "import pandas as pd\n",
    "from sklearn.decomposition import TruncatedSVD\n",
    "from sklearn.feature_extraction.text import TfidfVectorizer\n",
    "from sklearn.manifold import TSNE\n",
    "from sklearn.neighbors import NearestNeighbors\n",
    "from sklearn.pipeline import Pipeline\n",
    "from sklearn.preprocessing import Normalizer\n",
    "\n",
    "import plotly.express as px"
   ]
  },
  {
   "cell_type": "code",
   "execution_count": 2,
   "metadata": {},
   "outputs": [],
   "source": [
    "lyrics_df = pd.read_csv(\"../data/processed/lyrics.csv\", sep=\";\")"
   ]
  },
  {
   "cell_type": "code",
   "execution_count": 3,
   "metadata": {},
   "outputs": [],
   "source": [
    "with open(\"../data/processed/song_encodings.pkl\", \"rb\") as infile:\n",
    "    song_encodings_map = pickle.load(infile)"
   ]
  },
  {
   "cell_type": "code",
   "execution_count": 4,
   "metadata": {},
   "outputs": [],
   "source": [
    "with open(\"../data/processed/song_encodings_big.pkl\", \"rb\") as infile:\n",
    "    new_song_encodings = pickle.load(infile)"
   ]
  },
  {
   "cell_type": "code",
   "execution_count": 5,
   "metadata": {},
   "outputs": [],
   "source": [
    "with open(\"../data/processed/sentence_encodings.pkl\", \"rb\") as infile:\n",
    "    sentence_encodings = pickle.load(infile)"
   ]
  },
  {
   "cell_type": "code",
   "execution_count": 6,
   "metadata": {},
   "outputs": [],
   "source": [
    "song_idxs = lyrics_df.reset_index().groupby(\"song_idx\")[\"index\"].apply(list)"
   ]
  },
  {
   "cell_type": "code",
   "execution_count": 13,
   "metadata": {},
   "outputs": [],
   "source": [
    "# # save setences by song to improve performance\n",
    "# for i, sidx in song_idxs.iteritems():\n",
    "#     np.savez_compressed(\n",
    "#         f\"../data/processed/song_sentence_encodings/{i}\", \n",
    "#         sentence_encodings[sidx]\n",
    "#     )"
   ]
  },
  {
   "cell_type": "markdown",
   "metadata": {},
   "source": [
    "---"
   ]
  },
  {
   "cell_type": "markdown",
   "metadata": {},
   "source": [
    "FAILED"
   ]
  },
  {
   "cell_type": "markdown",
   "metadata": {},
   "source": [
    "Reduce and aggregate vectors"
   ]
  },
  {
   "cell_type": "code",
   "execution_count": 9,
   "metadata": {},
   "outputs": [],
   "source": [
    "new_song_encodings = []\n",
    "n_vectors = 10\n",
    "\n",
    "\n",
    "for _, sidx in song_idxs.iteritems():\n",
    "    new_encoding = []\n",
    "    n = sentence_encodings[sidx].shape[0]\n",
    "    \n",
    "    if n < n_vectors:\n",
    "        new_encoding = sentence_encodings[sidx].tolist()\n",
    "        for i in range(n, n_vectors):\n",
    "            new_encoding.append(sentence_encodings[sidx][-1])\n",
    "    else:\n",
    "        step = (n // n_vectors) + 1 if n%n_vectors != 0 else n/n_vectors\n",
    "\n",
    "        for i in range(n_vectors):\n",
    "            j = int(min(i+step, n))\n",
    "            new_encoding.append(sentence_encodings[sidx][i:j].mean(axis=0))\n",
    "\n",
    "    new_song_encodings.append(np.concatenate(new_encoding))\n",
    "    \n",
    "new_song_encodings = np.array(new_song_encodings)"
   ]
  },
  {
   "cell_type": "code",
   "execution_count": 10,
   "metadata": {},
   "outputs": [
    {
     "data": {
      "text/plain": [
       "(1556, 1280)"
      ]
     },
     "execution_count": 10,
     "metadata": {},
     "output_type": "execute_result"
    }
   ],
   "source": [
    "new_song_encodings.shape"
   ]
  },
  {
   "cell_type": "code",
   "execution_count": 11,
   "metadata": {},
   "outputs": [],
   "source": [
    "with open(\"../data/processed/song_encodings_big.pkl\", \"wb\") as outfile:\n",
    "    pickle.dump(new_song_encodings, outfile)"
   ]
  },
  {
   "cell_type": "markdown",
   "metadata": {},
   "source": [
    "---"
   ]
  },
  {
   "cell_type": "markdown",
   "metadata": {},
   "source": [
    "Tf-idf"
   ]
  },
  {
   "cell_type": "code",
   "execution_count": 26,
   "metadata": {},
   "outputs": [],
   "source": [
    "songs_df = lyrics_df[[\"song_idx\", \"artista\", \"musica\", \"letra\"]].drop_duplicates().reset_index(drop=True)"
   ]
  },
  {
   "cell_type": "code",
   "execution_count": 142,
   "metadata": {},
   "outputs": [],
   "source": [
    "vectorizer = Pipeline([\n",
    "    ('vec', TfidfVectorizer(ngram_range=(1,3))),\n",
    "    ('svd', TruncatedSVD(n_components=100)),\n",
    "    ('norm', Normalizer())\n",
    "])"
   ]
  },
  {
   "cell_type": "code",
   "execution_count": 143,
   "metadata": {},
   "outputs": [],
   "source": [
    "song_vecs = vectorizer.fit_transform(songs_df[\"letra\"])"
   ]
  },
  {
   "cell_type": "code",
   "execution_count": 145,
   "metadata": {},
   "outputs": [
    {
     "data": {
      "text/plain": [
       "(1556, 100)"
      ]
     },
     "execution_count": 145,
     "metadata": {},
     "output_type": "execute_result"
    }
   ],
   "source": [
    "song_vecs.shape"
   ]
  },
  {
   "cell_type": "markdown",
   "metadata": {},
   "source": [
    "---"
   ]
  },
  {
   "cell_type": "markdown",
   "metadata": {},
   "source": [
    "Nearest Neighbors"
   ]
  },
  {
   "cell_type": "code",
   "execution_count": 146,
   "metadata": {},
   "outputs": [],
   "source": [
    "nn = NearestNeighbors()"
   ]
  },
  {
   "cell_type": "code",
   "execution_count": 147,
   "metadata": {},
   "outputs": [],
   "source": [
    "nn.fit(song_vecs)\n",
    "distances, indices = nn.kneighbors(song_vecs)"
   ]
  },
  {
   "cell_type": "code",
   "execution_count": 158,
   "metadata": {},
   "outputs": [
    {
     "data": {
      "text/html": [
       "<div>\n",
       "<style scoped>\n",
       "    .dataframe tbody tr th:only-of-type {\n",
       "        vertical-align: middle;\n",
       "    }\n",
       "\n",
       "    .dataframe tbody tr th {\n",
       "        vertical-align: top;\n",
       "    }\n",
       "\n",
       "    .dataframe thead th {\n",
       "        text-align: right;\n",
       "    }\n",
       "</style>\n",
       "<table border=\"1\" class=\"dataframe\">\n",
       "  <thead>\n",
       "    <tr style=\"text-align: right;\">\n",
       "      <th></th>\n",
       "      <th>song_idx</th>\n",
       "      <th>artista</th>\n",
       "      <th>musica</th>\n",
       "      <th>letra</th>\n",
       "      <th>x</th>\n",
       "      <th>y</th>\n",
       "    </tr>\n",
       "  </thead>\n",
       "  <tbody>\n",
       "    <tr>\n",
       "      <th>979</th>\n",
       "      <td>1388</td>\n",
       "      <td>Avril Lavigne</td>\n",
       "      <td>Girlfriend</td>\n",
       "      <td>Hey hey you you \\nI don't like your girlfriend...</td>\n",
       "      <td>-27.474003</td>\n",
       "      <td>-62.575726</td>\n",
       "    </tr>\n",
       "  </tbody>\n",
       "</table>\n",
       "</div>"
      ],
      "text/plain": [
       "     song_idx        artista      musica  \\\n",
       "979      1388  Avril Lavigne  Girlfriend   \n",
       "\n",
       "                                                 letra          x          y  \n",
       "979  Hey hey you you \\nI don't like your girlfriend... -27.474003 -62.575726  "
      ]
     },
     "execution_count": 158,
     "metadata": {},
     "output_type": "execute_result"
    }
   ],
   "source": [
    "songs_df.sample()"
   ]
  },
  {
   "cell_type": "code",
   "execution_count": 160,
   "metadata": {},
   "outputs": [
    {
     "data": {
      "text/plain": [
       "array([979, 436, 985,  12, 120])"
      ]
     },
     "execution_count": 160,
     "metadata": {},
     "output_type": "execute_result"
    }
   ],
   "source": [
    "indices[979]"
   ]
  },
  {
   "cell_type": "code",
   "execution_count": 161,
   "metadata": {},
   "outputs": [
    {
     "data": {
      "text/plain": [
       "array([0.        , 0.62037047, 0.62417973, 0.66745753, 0.68273186])"
      ]
     },
     "execution_count": 161,
     "metadata": {},
     "output_type": "execute_result"
    }
   ],
   "source": [
    "distances[979]"
   ]
  },
  {
   "cell_type": "code",
   "execution_count": 162,
   "metadata": {},
   "outputs": [
    {
     "data": {
      "text/html": [
       "<div>\n",
       "<style scoped>\n",
       "    .dataframe tbody tr th:only-of-type {\n",
       "        vertical-align: middle;\n",
       "    }\n",
       "\n",
       "    .dataframe tbody tr th {\n",
       "        vertical-align: top;\n",
       "    }\n",
       "\n",
       "    .dataframe thead th {\n",
       "        text-align: right;\n",
       "    }\n",
       "</style>\n",
       "<table border=\"1\" class=\"dataframe\">\n",
       "  <thead>\n",
       "    <tr style=\"text-align: right;\">\n",
       "      <th></th>\n",
       "      <th>song_idx</th>\n",
       "      <th>artista</th>\n",
       "      <th>musica</th>\n",
       "      <th>letra</th>\n",
       "      <th>x</th>\n",
       "      <th>y</th>\n",
       "    </tr>\n",
       "  </thead>\n",
       "  <tbody>\n",
       "    <tr>\n",
       "      <th>979</th>\n",
       "      <td>1388</td>\n",
       "      <td>Avril Lavigne</td>\n",
       "      <td>Girlfriend</td>\n",
       "      <td>Hey hey you you \\nI don't like your girlfriend...</td>\n",
       "      <td>-27.474003</td>\n",
       "      <td>-62.575726</td>\n",
       "    </tr>\n",
       "    <tr>\n",
       "      <th>436</th>\n",
       "      <td>613</td>\n",
       "      <td>The Weeknd</td>\n",
       "      <td>Blinding Lights</td>\n",
       "      <td>I been tryna call\\nI've been on my own for lon...</td>\n",
       "      <td>-28.711708</td>\n",
       "      <td>-62.503078</td>\n",
       "    </tr>\n",
       "    <tr>\n",
       "      <th>985</th>\n",
       "      <td>1394</td>\n",
       "      <td>Avril Lavigne</td>\n",
       "      <td>Rock N Roll</td>\n",
       "      <td>Let em know that we're still Rock n' Roll\\n\\nI...</td>\n",
       "      <td>-27.736774</td>\n",
       "      <td>-63.173401</td>\n",
       "    </tr>\n",
       "    <tr>\n",
       "      <th>12</th>\n",
       "      <td>12</td>\n",
       "      <td>Dua Lipa</td>\n",
       "      <td>Future Nostalgia</td>\n",
       "      <td>Future\\n(Future nostalgia)\\n(Future nostalgia)...</td>\n",
       "      <td>-26.718521</td>\n",
       "      <td>-61.385666</td>\n",
       "    </tr>\n",
       "    <tr>\n",
       "      <th>120</th>\n",
       "      <td>121</td>\n",
       "      <td>Imagine Dragons</td>\n",
       "      <td>West Coast</td>\n",
       "      <td>One more day we'll spend together\\nLay your ey...</td>\n",
       "      <td>-28.535753</td>\n",
       "      <td>-63.887722</td>\n",
       "    </tr>\n",
       "  </tbody>\n",
       "</table>\n",
       "</div>"
      ],
      "text/plain": [
       "     song_idx          artista            musica  \\\n",
       "979      1388    Avril Lavigne        Girlfriend   \n",
       "436       613       The Weeknd   Blinding Lights   \n",
       "985      1394    Avril Lavigne       Rock N Roll   \n",
       "12         12         Dua Lipa  Future Nostalgia   \n",
       "120       121  Imagine Dragons        West Coast   \n",
       "\n",
       "                                                 letra          x          y  \n",
       "979  Hey hey you you \\nI don't like your girlfriend... -27.474003 -62.575726  \n",
       "436  I been tryna call\\nI've been on my own for lon... -28.711708 -62.503078  \n",
       "985  Let em know that we're still Rock n' Roll\\n\\nI... -27.736774 -63.173401  \n",
       "12   Future\\n(Future nostalgia)\\n(Future nostalgia)... -26.718521 -61.385666  \n",
       "120  One more day we'll spend together\\nLay your ey... -28.535753 -63.887722  "
      ]
     },
     "execution_count": 162,
     "metadata": {},
     "output_type": "execute_result"
    }
   ],
   "source": [
    "songs_df.iloc[indices[979]]"
   ]
  },
  {
   "cell_type": "markdown",
   "metadata": {},
   "source": [
    "---"
   ]
  },
  {
   "cell_type": "code",
   "execution_count": 163,
   "metadata": {},
   "outputs": [],
   "source": [
    "tsne = TSNE(perplexity=10)"
   ]
  },
  {
   "cell_type": "code",
   "execution_count": 164,
   "metadata": {},
   "outputs": [],
   "source": [
    "song_embeddings = tsne.fit_transform(song_vecs)"
   ]
  },
  {
   "cell_type": "code",
   "execution_count": 165,
   "metadata": {},
   "outputs": [],
   "source": [
    "songs_df[\"x\"] = song_embeddings[:,0]\n",
    "songs_df[\"y\"] = song_embeddings[:,1]"
   ]
  },
  {
   "cell_type": "code",
   "execution_count": 170,
   "metadata": {},
   "outputs": [],
   "source": [
    "songs_df.to_csv(\"../data/processed/songs_with_coordinates.csv\", sep=\";\", index=False)"
   ]
  },
  {
   "cell_type": "markdown",
   "metadata": {},
   "source": [
    "---"
   ]
  },
  {
   "cell_type": "code",
   "execution_count": 168,
   "metadata": {},
   "outputs": [
    {
     "data": {
      "application/vnd.plotly.v1+json": {
       "config": {
        "plotlyServerURL": "https://plot.ly"
       },
       "data": [
        {
         "customdata": [
          [
           "Let Go"
          ]
         ],
         "hovertemplate": "artista=-M- (Mathieu Chedid)<br>x=%{x}<br>y=%{y}<br>musica=%{customdata[0]}<extra></extra>",
         "legendgroup": "-M- (Mathieu Chedid)",
         "marker": {
          "color": "#636efa",
          "opacity": 0.7,
          "symbol": "circle"
         },
         "mode": "markers",
         "name": "-M- (Mathieu Chedid)",
         "showlegend": true,
         "type": "scattergl",
         "x": [
          -66.27098846435547
         ],
         "xaxis": "x",
         "y": [
          27.23780059814453
         ],
         "yaxis": "y"
        },
        {
         "customdata": [
          [
           "Someone Like You"
          ],
          [
           "Hello"
          ],
          [
           "River Lea"
          ],
          [
           "If It Hadn't Been For Love"
          ],
          [
           "Sweetest Devotion"
          ],
          [
           "Chasing Pavements"
          ],
          [
           "Lay Me Down"
          ],
          [
           "Lovesong"
          ],
          [
           "Love In The Dark"
          ],
          [
           "Hometown Glory"
          ],
          [
           "Remedy"
          ],
          [
           "Million Years Ago"
          ],
          [
           "Crazy For You"
          ],
          [
           "Turning Tables"
          ],
          [
           "Water Under The Bridge"
          ],
          [
           "Set Fire To The Rain"
          ],
          [
           "Send My Love (To Your New Lover)"
          ],
          [
           "When We Were Young"
          ],
          [
           "One and Only"
          ],
          [
           "Rolling In The Deep"
          ],
          [
           "Make You Feel My Love"
          ],
          [
           "All I Ask"
          ],
          [
           "Don't You Remember"
          ],
          [
           "I Miss You"
          ],
          [
           "Skyfall"
          ]
         ],
         "hovertemplate": "artista=Adele<br>x=%{x}<br>y=%{y}<br>musica=%{customdata[0]}<extra></extra>",
         "legendgroup": "Adele",
         "marker": {
          "color": "#EF553B",
          "opacity": 0.7,
          "symbol": "circle"
         },
         "mode": "markers",
         "name": "Adele",
         "showlegend": true,
         "type": "scattergl",
         "x": [
          -19.31600570678711,
          -37.424800872802734,
          -17.310094833374023,
          1.4441243410110474,
          38.26191711425781,
          34.938472747802734,
          -12.098505020141602,
          -58.338314056396484,
          46.65183639526367,
          -21.479997634887695,
          -23.20897102355957,
          43.17998123168945,
          -8.091423034667969,
          -4.327754497528076,
          -29.399385452270508,
          -31.642412185668945,
          5.496428489685059,
          -16.661109924316406,
          -7.818377494812012,
          -19.5148983001709,
          21.401058197021484,
          28.812376022338867,
          -4.279733657836914,
          -14.427820205688477,
          -35.64071273803711
         ],
         "xaxis": "x",
         "y": [
          -9.745161056518555,
          67.47827911376953,
          11.74078369140625,
          0.7183332443237305,
          -11.405900955200195,
          -63.20555114746094,
          5.687611103057861,
          -40.60317611694336,
          39.3108024597168,
          45.04890823364258,
          -45.767723083496094,
          -3.8243885040283203,
          -45.490257263183594,
          -25.404582977294922,
          -27.249305725097656,
          35.765987396240234,
          -18.75278091430664,
          54.5808219909668,
          -27.276355743408203,
          -19.79591178894043,
          -31.656452178955078,
          1.3150811195373535,
          33.70104217529297,
          23.173612594604492,
          47.56455993652344
         ],
         "yaxis": "y"
        },
        {
         "customdata": [
          [
           "Falling In Love (Is Hard On The Knees)"
          ],
          [
           "Dude (Looks Like A Lady)"
          ],
          [
           "Girls Of Summer"
          ],
          [
           "The Other Side"
          ],
          [
           "Full Circle"
          ],
          [
           "Janie's Got a Gun"
          ],
          [
           "Love In An Elevator"
          ],
          [
           "Livin' On The Edge"
          ],
          [
           "All Your Love"
          ],
          [
           "What Could Have Been Love"
          ],
          [
           "Sweet Emotion"
          ],
          [
           "Sing For The Moment"
          ],
          [
           "Pink"
          ],
          [
           "Walk This Way"
          ],
          [
           "Jaded"
          ],
          [
           "Fly Away From Here"
          ],
          [
           "Hole In My Soul"
          ],
          [
           "Angel"
          ],
          [
           "Amazing"
          ],
          [
           "Crazy"
          ],
          [
           "Dream On"
          ],
          [
           "Cryin'"
          ],
          [
           "I Don't Want To Miss A Thing"
          ],
          [
           "What It Takes"
          ]
         ],
         "hovertemplate": "artista=Aerosmith<br>x=%{x}<br>y=%{y}<br>musica=%{customdata[0]}<extra></extra>",
         "legendgroup": "Aerosmith",
         "marker": {
          "color": "#00cc96",
          "opacity": 0.7,
          "symbol": "circle"
         },
         "mode": "markers",
         "name": "Aerosmith",
         "showlegend": true,
         "type": "scattergl",
         "x": [
          34.16654968261719,
          8.859766960144043,
          43.83634567260742,
          31.37586784362793,
          -6.1552605628967285,
          28.683984756469727,
          38.69309616088867,
          19.828147888183594,
          13.829453468322754,
          -35.07448196411133,
          -9.623188018798828,
          -70.93006134033203,
          -9.953877449035645,
          -40.46940231323242,
          31.65565299987793,
          19.625839233398438,
          -21.006330490112305,
          14.131611824035645,
          -11.916000366210938,
          -7.688704490661621,
          -70.64151763916016,
          24.895675659179688,
          21.906330108642578,
          -37.655147552490234
         ],
         "xaxis": "x",
         "y": [
          -2.0292532444000244,
          21.2928524017334,
          32.09783172607422,
          39.85818099975586,
          59.60356521606445,
          -48.40806579589844,
          10.32580852508545,
          -1.0651366710662842,
          -31.064550399780273,
          -0.534286618232727,
          -12.601099014282227,
          -22.119369506835938,
          37.33610916137695,
          40.50466537475586,
          18.749101638793945,
          60.26091766357422,
          11.144835472106934,
          -29.834665298461914,
          15.691110610961914,
          -46.5107421875,
          -21.909162521362305,
          72.39119720458984,
          4.578729152679443,
          -21.238170623779297
         ],
         "yaxis": "y"
        },
        {
         "customdata": [
          [
           "A Woman's Worth"
          ],
          [
           "Authors Of Forever"
          ],
          [
           "Girl On Fire (Inferno Version) (feat. Nicki Minaj)"
          ],
          [
           "Gramercy Park"
          ],
          [
           "Show Me Love (feat. Miguel)"
          ],
          [
           "Me x 7 (feat. Tierra Whack)"
          ],
          [
           "Time Machine"
          ],
          [
           "Superwoman"
          ],
          [
           "Brand New Me"
          ],
          [
           "Wasted Energy"
          ],
          [
           "You Don't Know My Name"
          ],
          [
           "So Done (feat. Khalid)"
          ],
          [
           "Underdog"
          ],
          [
           "Love Looks Better"
          ],
          [
           "Fallin'"
          ],
          [
           "Girl On Fire"
          ],
          [
           "No One"
          ],
          [
           "You Save Me (feat. Snoh Aalegra)"
          ],
          [
           "Empire State Of Mind (part. Ii)"
          ],
          [
           "3 Hour Drive (feat. Sampha)"
          ],
          [
           "If I Ain't Got You"
          ],
          [
           "Empire State Of Mind"
          ],
          [
           "Truth Without Love"
          ],
          [
           "Karma"
          ],
          [
           "Show Me Love (Ft. Miguel, 21 Savage) (Remix)"
          ]
         ],
         "hovertemplate": "artista=Alicia Keys<br>x=%{x}<br>y=%{y}<br>musica=%{customdata[0]}<extra></extra>",
         "legendgroup": "Alicia Keys",
         "marker": {
          "color": "#ab63fa",
          "opacity": 0.7,
          "symbol": "circle"
         },
         "mode": "markers",
         "name": "Alicia Keys",
         "showlegend": true,
         "type": "scattergl",
         "x": [
          10.035183906555176,
          -17.095638275146484,
          5.796643257141113,
          32.96977615356445,
          28.307003021240234,
          63.71820068359375,
          -29.95635414123535,
          -29.777135848999023,
          -36.425506591796875,
          17.91562843322754,
          22.365955352783203,
          36.04944610595703,
          41.97575378417969,
          15.648723602294922,
          15.823710441589355,
          5.788445472717285,
          50.45002365112305,
          -4.829092979431152,
          -63.78165054321289,
          20.417734146118164,
          -19.516372680664062,
          -63.75625991821289,
          -5.436001777648926,
          32.326560974121094,
          28.293737411499023
         ],
         "xaxis": "x",
         "y": [
          47.485809326171875,
          47.05892562866211,
          56.67012405395508,
          31.671890258789062,
          25.406213760375977,
          24.934574127197266,
          -49.194766998291016,
          2.5739874839782715,
          -5.7647504806518555,
          -36.47365188598633,
          20.892370223999023,
          49.95382308959961,
          63.26533508300781,
          -35.56661605834961,
          -58.959171295166016,
          56.68992614746094,
          -50.91181945800781,
          -4.570362091064453,
          10.26291561126709,
          -16.93883514404297,
          -4.286377906799316,
          10.256974220275879,
          -51.97793197631836,
          50.67559814453125,
          25.379714965820312
         ],
         "yaxis": "y"
        },
        {
         "customdata": [
          [
           "Beauty and The Beast (Feat. John Legend)"
          ],
          [
           "fake smile"
          ],
          [
           "make up"
          ],
          [
           "Love Me Harder (Feat. The Weeknd)"
          ],
          [
           "in my head"
          ],
          [
           "Don't Call Me Angel (With Miley Cyrus, Lana Del Rey)"
          ],
          [
           "Break Free (Feat. Zedd)"
          ],
          [
           "imagine"
          ],
          [
           "(You Make Me Feel Like) a Natural Woman (Aretha Franklin tribute)"
          ],
          [
           "bloodline"
          ],
          [
           "breathin"
          ],
          [
           "needy"
          ],
          [
           "break up with your girlfriend, i'm bored"
          ],
          [
           "Into You"
          ],
          [
           "Side to Side (Feat. Nicki Minaj)"
          ],
          [
           "no tears left to cry"
          ],
          [
           "One Last Time"
          ],
          [
           "God is a woman"
          ],
          [
           "thank u, next"
          ],
          [
           "7 rings"
          ],
          [
           "Stuck With U (with Justin Bieber)"
          ],
          [
           "Dangerous Woman"
          ],
          [
           "How I Look On You"
          ],
          [
           "Problem (feat. Iggy Azalea)"
          ],
          [
           "I Have Nothing"
          ]
         ],
         "hovertemplate": "artista=Ariana Grande<br>x=%{x}<br>y=%{y}<br>musica=%{customdata[0]}<extra></extra>",
         "legendgroup": "Ariana Grande",
         "marker": {
          "color": "#FFA15A",
          "opacity": 0.7,
          "symbol": "circle"
         },
         "mode": "markers",
         "name": "Ariana Grande",
         "showlegend": true,
         "type": "scattergl",
         "x": [
          47.15964889526367,
          44.714439392089844,
          74.11100006103516,
          36.61799240112305,
          -3.7557497024536133,
          -27.228479385375977,
          -14.502511024475098,
          44.286502838134766,
          -56.42417526245117,
          73.6390151977539,
          35.201141357421875,
          14.430383682250977,
          45.69862747192383,
          45.58708953857422,
          -2.7173521518707275,
          38.48267364501953,
          13.331318855285645,
          6.146923065185547,
          28.267824172973633,
          35.07506561279297,
          1.1750104427337646,
          -37.67726135253906,
          -3.9500722885131836,
          -20.709251403808594,
          -20.92401123046875
         ],
         "xaxis": "x",
         "y": [
          -24.659975051879883,
          63.52590560913086,
          3.291919231414795,
          -24.713123321533203,
          -16.200525283813477,
          -37.008094787597656,
          9.746336936950684,
          -0.971918523311615,
          -30.148563385009766,
          4.507382392883301,
          21.929931640625,
          -13.348026275634766,
          34.8840446472168,
          -44.90227127075195,
          -4.956282615661621,
          9.236681938171387,
          12.75119400024414,
          -35.29551315307617,
          -21.61603546142578,
          10.02358627319336,
          -59.29161071777344,
          6.740187644958496,
          2.40160870552063,
          -38.12202453613281,
          -70.95513916015625
         ],
         "yaxis": "y"
        },
        {
         "customdata": [
          [
           "We Are Warriors"
          ],
          [
           "Girlfriend"
          ],
          [
           "Complicated"
          ],
          [
           "I'm With You"
          ],
          [
           "When You're Gone"
          ],
          [
           "Wish You Were Here"
          ],
          [
           "Sk8er Boi"
          ],
          [
           "Rock N Roll"
          ],
          [
           "My Happy Ending"
          ],
          [
           "Smile"
          ],
          [
           "Nobody's Home"
          ],
          [
           "Head Above Water"
          ],
          [
           "What The Hell"
          ],
          [
           "Don't Tell Me"
          ],
          [
           "Let Me Go (Feat. Chad Kroeger)"
          ],
          [
           "The Best Damn Thing"
          ],
          [
           "Innocence"
          ],
          [
           "Hot"
          ],
          [
           "Tomorrow"
          ],
          [
           "Keep Holding On"
          ],
          [
           "Losing Grip"
          ],
          [
           "I Fell In Love With The Devil"
          ],
          [
           "Goodbye"
          ],
          [
           "Things I'll Never Say"
          ],
          [
           "Nobody's Fool"
          ]
         ],
         "hovertemplate": "artista=Avril Lavigne<br>x=%{x}<br>y=%{y}<br>musica=%{customdata[0]}<extra></extra>",
         "legendgroup": "Avril Lavigne",
         "marker": {
          "color": "#19d3f3",
          "opacity": 0.7,
          "symbol": "circle"
         },
         "mode": "markers",
         "name": "Avril Lavigne",
         "showlegend": true,
         "type": "scattergl",
         "x": [
          -17.674253463745117,
          58.435028076171875,
          6.154423236846924,
          41.50957489013672,
          4.837889194488525,
          -65.88111877441406,
          -43.96491622924805,
          57.10115051269531,
          46.87284851074219,
          1.0809617042541504,
          8.899511337280273,
          -27.330251693725586,
          77.54842376708984,
          -37.09031677246094,
          -68.0447006225586,
          56.4998664855957,
          14.11815071105957,
          35.29178237915039,
          50.40119552612305,
          44.1625862121582,
          9.988815307617188,
          17.824254989624023,
          -15.157358169555664,
          68.14190673828125,
          78.3695297241211
         ],
         "xaxis": "x",
         "y": [
          47.13539505004883,
          -2.7611947059631348,
          -24.384929656982422,
          42.25349807739258,
          -13.441317558288574,
          27.267683029174805,
          34.090415954589844,
          -2.2681949138641357,
          -53.15896224975586,
          -32.677635192871094,
          50.699317932128906,
          -27.428552627563477,
          -13.472545623779297,
          -20.77463722229004,
          26.7630558013916,
          -2.4843733310699463,
          -8.484480857849121,
          -1.9968475103378296,
          30.068286895751953,
          41.8709831237793,
          -26.70652961730957,
          -57.746315002441406,
          -35.60179901123047,
          -25.154184341430664,
          -11.646191596984863
         ],
         "yaxis": "y"
        },
        {
         "customdata": [
          [
           "Savage Love (Laxed - Siren Beat) [BTS Remix]"
          ],
          [
           "Dynamite"
          ]
         ],
         "hovertemplate": "artista=BTS<br>x=%{x}<br>y=%{y}<br>musica=%{customdata[0]}<extra></extra>",
         "legendgroup": "BTS",
         "marker": {
          "color": "#FF6692",
          "opacity": 0.7,
          "symbol": "circle"
         },
         "mode": "markers",
         "name": "BTS",
         "showlegend": true,
         "type": "scattergl",
         "x": [
          79.29816436767578,
          69.51830291748047
         ],
         "xaxis": "x",
         "y": [
          -12.560365676879883,
          24.01333236694336
         ],
         "yaxis": "y"
        },
        {
         "customdata": [
          [
           "Quit Playing Games (With My Heart)"
          ],
          [
           "As Long As You Love Me"
          ],
          [
           "Everybody (Backstreet's Back)"
          ],
          [
           "Incomplete"
          ],
          [
           "All I Have To Give"
          ],
          [
           "Drowning"
          ],
          [
           "Don't Go Breaking My Heart"
          ],
          [
           "Show Me The Meaning Of Being Lonely"
          ],
          [
           "No Place"
          ],
          [
           "I Still..."
          ],
          [
           "Chateau"
          ],
          [
           "Nobody Else"
          ],
          [
           "We've Got It Goin' On"
          ],
          [
           "New Love"
          ],
          [
           "The One"
          ],
          [
           "Helpless When She Smiles"
          ],
          [
           "I'll Never Break Your Heart"
          ],
          [
           "Breathe (2019)"
          ],
          [
           "Larger Than Life"
          ],
          [
           "The Call"
          ],
          [
           "Don't Wanna Lose You Now"
          ],
          [
           "Chances"
          ],
          [
           "I Want It That Way"
          ],
          [
           "Shape Of My Heart"
          ],
          [
           "Inconsolable"
          ]
         ],
         "hovertemplate": "artista=Backstreet Boys<br>x=%{x}<br>y=%{y}<br>musica=%{customdata[0]}<extra></extra>",
         "legendgroup": "Backstreet Boys",
         "marker": {
          "color": "#B6E880",
          "opacity": 0.7,
          "symbol": "circle"
         },
         "mode": "markers",
         "name": "Backstreet Boys",
         "showlegend": true,
         "type": "scattergl",
         "x": [
          94.54006958007812,
          43.18376541137695,
          11.127764701843262,
          -16.930086135864258,
          -20.74207305908203,
          -2.4169487953186035,
          0.2723214626312256,
          9.490368843078613,
          25.143159866333008,
          -31.71932601928711,
          30.72044563293457,
          -59.60826110839844,
          27.41111946105957,
          50.43930435180664,
          10.39211368560791,
          8.177362442016602,
          -9.58902645111084,
          -62.23533630371094,
          8.742932319641113,
          9.833834648132324,
          -28.32581901550293,
          -0.04837378114461899,
          -33.13583755493164,
          0.6726943850517273,
          -19.4097957611084
         ],
         "xaxis": "x",
         "y": [
          9.534878730773926,
          -24.867225646972656,
          29.288494110107422,
          -0.13180148601531982,
          -21.783735275268555,
          -19.91290855407715,
          -40.2895622253418,
          1.4367501735687256,
          36.7996826171875,
          -5.419054985046387,
          51.42222595214844,
          -1.6189018487930298,
          58.72365188598633,
          -52.681026458740234,
          12.901256561279297,
          49.7514762878418,
          -25.2157039642334,
          20.48573875427246,
          32.06269836425781,
          -12.604456901550293,
          -7.979254722595215,
          31.28573989868164,
          -29.76381492614746,
          -37.69013214111328,
          -31.23021125793457
         ],
         "yaxis": "y"
        },
        {
         "customdata": [
          [
           "Rocket"
          ],
          [
           "Halo"
          ],
          [
           "Irreplaceable"
          ],
          [
           "If I Were A Boy"
          ],
          [
           "Pretty Hurts"
          ],
          [
           "Listen"
          ],
          [
           "Brown Skin Girl (With Saint Jhn and Wizkid feat. Blue Ivy Carter)"
          ],
          [
           "Crazy In Love (feat. Jay Z)"
          ],
          [
           "***Flawless (Feat. Chimamanda Ngozi Adichie)"
          ],
          [
           "Formation"
          ],
          [
           "Freedom (Feat. Kendrick Lamar)"
          ],
          [
           "Me, Myself And I"
          ],
          [
           "Love On Top"
          ],
          [
           "Diva"
          ],
          [
           "Already (with Shatta Wale and Major Lazer)"
          ],
          [
           "My Power (With Tierra Whack, Moonchild Sanelly, Nija)"
          ],
          [
           "***Flawless (Feat. Nicki Minaj)"
          ],
          [
           "Hold Up"
          ],
          [
           "Ego"
          ],
          [
           "Black Parade"
          ],
          [
           "Sorry"
          ],
          [
           "I Was Here"
          ],
          [
           "Single Ladies (Put A Ring On It)"
          ],
          [
           "Hello"
          ],
          [
           "Spirit"
          ]
         ],
         "hovertemplate": "artista=Beyoncé<br>x=%{x}<br>y=%{y}<br>musica=%{customdata[0]}<extra></extra>",
         "legendgroup": "Beyoncé",
         "marker": {
          "color": "#FF97FF",
          "opacity": 0.7,
          "symbol": "circle"
         },
         "mode": "markers",
         "name": "Beyoncé",
         "showlegend": true,
         "type": "scattergl",
         "x": [
          31.95960807800293,
          19.613731384277344,
          -8.641785621643066,
          13.638394355773926,
          -6.8917670249938965,
          -12.20101547241211,
          11.676323890686035,
          11.95112419128418,
          -39.916622161865234,
          -61.57865905761719,
          -42.37739181518555,
          -3.4093570709228516,
          14.321173667907715,
          96.78678894042969,
          40.43077087402344,
          -37.435569763183594,
          -39.91672897338867,
          -11.554908752441406,
          39.93724822998047,
          55.35997772216797,
          -36.55391311645508,
          -27.1898193359375,
          -42.54596710205078,
          -38.197540283203125,
          41.67060852050781
         ],
         "xaxis": "x",
         "y": [
          -5.0712103843688965,
          -29.521272659301758,
          -8.558920860290527,
          -15.07958984375,
          16.78778648376465,
          -7.777316570281982,
          -23.76499366760254,
          -77.99147033691406,
          25.912263870239258,
          -9.420342445373535,
          10.545086860656738,
          -11.369133949279785,
          -29.34349822998047,
          7.284996509552002,
          -44.29856872558594,
          13.722478866577148,
          25.910213470458984,
          -35.73279571533203,
          8.464727401733398,
          -1.1564359664916992,
          -51.889041900634766,
          -6.541177749633789,
          -25.075960159301758,
          66.90130615234375,
          37.79231262207031
         ],
         "yaxis": "y"
        },
        {
         "customdata": [
          [
           "No Time To Die"
          ],
          [
           "​when the party's over"
          ],
          [
           "I Love You"
          ],
          [
           "Lovely (with Khalid)"
          ],
          [
           "Everything I Wanted"
          ],
          [
           "Ocean Eyes"
          ],
          [
           "my future"
          ],
          [
           "All The Good Girls Go To Hell"
          ],
          [
           "Idontwannabeyouanymore"
          ],
          [
           "My Strange Addiction"
          ],
          [
           "Ilomilo"
          ],
          [
           "Xanny"
          ],
          [
           "Bad Guy"
          ]
         ],
         "hovertemplate": "artista=Billie Eilish<br>x=%{x}<br>y=%{y}<br>musica=%{customdata[0]}<extra></extra>",
         "legendgroup": "Billie Eilish",
         "marker": {
          "color": "#FECB52",
          "opacity": 0.7,
          "symbol": "circle"
         },
         "mode": "markers",
         "name": "Billie Eilish",
         "showlegend": true,
         "type": "scattergl",
         "x": [
          -3.0120489597320557,
          7.932626724243164,
          41.06719970703125,
          26.684263229370117,
          -15.74669075012207,
          21.704591751098633,
          -0.8167428970336914,
          -28.36536979675293,
          -14.298274993896484,
          14.055776596069336,
          -14.455018043518066,
          32.54216003417969,
          32.93048095703125
         ],
         "xaxis": "x",
         "y": [
          -29.245792388916016,
          21.118494033813477,
          65.42086029052734,
          37.53926086425781,
          -24.903879165649414,
          -17.16208839416504,
          -69.82820892333984,
          14.497082710266113,
          -24.83201026916504,
          -19.161884307861328,
          -24.458576202392578,
          30.95889663696289,
          -5.161901950836182
         ],
         "yaxis": "y"
        },
        {
         "customdata": [
          [
           "Missing You"
          ],
          [
           "Big Love"
          ],
          [
           "Just Can't Get Enough"
          ],
          [
           "Don't Phunk With My Heart"
          ],
          [
           "Girl Like Me (With Shakira)"
          ],
          [
           "Feel The Beat (With Maluma)"
          ],
          [
           "Let's Get It Started"
          ],
          [
           "eXplosion (With Anitta)"
          ],
          [
           "I Gotta Feeling"
          ],
          [
           "Where Is The Love?"
          ],
          [
           "RITMO (Bad Boys For Life) (With J Balvin)"
          ],
          [
           "MAMACITA (With Ozuna & J. Rey Soul)"
          ],
          [
           "Vida Loca (With Nicky Jam and Tyga)"
          ],
          [
           "ACTION"
          ],
          [
           "Don't Lie"
          ],
          [
           "Pump It"
          ],
          [
           "Mas Que Nada"
          ],
          [
           "Boom Boom Pow"
          ],
          [
           "Meet Me Halfway"
          ],
          [
           "Shut Up"
          ],
          [
           "The Time (Dirty Bit)"
          ],
          [
           "On My Own"
          ],
          [
           "My Humps"
          ]
         ],
         "hovertemplate": "artista=Black Eyed Peas<br>x=%{x}<br>y=%{y}<br>musica=%{customdata[0]}<extra></extra>",
         "legendgroup": "Black Eyed Peas",
         "marker": {
          "color": "#636efa",
          "opacity": 0.7,
          "symbol": "circle"
         },
         "mode": "markers",
         "name": "Black Eyed Peas",
         "showlegend": true,
         "type": "scattergl",
         "x": [
          -1.3759702444076538,
          -19.670881271362305,
          30.95770263671875,
          50.17525100708008,
          66.2704849243164,
          21.094959259033203,
          38.379207611083984,
          -3.0994505882263184,
          -42.17659378051758,
          -10.171356201171875,
          -12.180444717407227,
          75.34403991699219,
          66.0776138305664,
          -34.66487503051758,
          50.653411865234375,
          48.19623565673828,
          77.594970703125,
          3.2192013263702393,
          -8.56546401977539,
          -18.64153480529785,
          -55.751861572265625,
          -28.075088500976562,
          -37.99156951904297
         ],
         "xaxis": "x",
         "y": [
          -68.87865447998047,
          49.40618896484375,
          -13.793246269226074,
          -12.621211051940918,
          22.224102020263672,
          -30.236005783081055,
          -49.34788131713867,
          8.643308639526367,
          -31.30847930908203,
          28.891521453857422,
          29.675586700439453,
          1.0064526796340942,
          21.700124740600586,
          15.153239250183105,
          -12.981526374816895,
          -57.794105529785156,
          -10.68275260925293,
          -4.218677997589111,
          -42.648094177246094,
          -13.3635835647583,
          5.149103164672852,
          20.445384979248047,
          9.236871719360352
         ],
         "yaxis": "y"
        },
        {
         "customdata": [
          [
           "Buffalo Soldier"
          ],
          [
           "Exodus"
          ],
          [
           "I Shot The Sheriff"
          ],
          [
           "Soul Rebel"
          ],
          [
           "Kaya"
          ],
          [
           "Get Up Stand Up"
          ],
          [
           "Coming In From The Cold"
          ],
          [
           "Lively Up Yourself"
          ],
          [
           "Slave Driver"
          ],
          [
           "Iron Lion Zion"
          ],
          [
           "Turn Your Lights Down Low"
          ],
          [
           "Stir It Up"
          ],
          [
           "Concrete Jungle"
          ],
          [
           "Satisfy My Soul"
          ],
          [
           "Three Little Birds"
          ],
          [
           "Is This Love?"
          ],
          [
           "Redemption Song"
          ],
          [
           "No Woman No Cry"
          ],
          [
           "One Love / People Get Ready"
          ],
          [
           "Jammin'"
          ],
          [
           "Natural Mystic"
          ],
          [
           "Waiting In Vain"
          ],
          [
           "Sun Is Shining"
          ],
          [
           "Could You Be Loved"
          ],
          [
           "Positive Vibration"
          ]
         ],
         "hovertemplate": "artista=Bob Marley<br>x=%{x}<br>y=%{y}<br>musica=%{customdata[0]}<extra></extra>",
         "legendgroup": "Bob Marley",
         "marker": {
          "color": "#EF553B",
          "opacity": 0.7,
          "symbol": "circle"
         },
         "mode": "markers",
         "name": "Bob Marley",
         "showlegend": true,
         "type": "scattergl",
         "x": [
          -43.25400924682617,
          64.50537872314453,
          42.5235710144043,
          5.722783088684082,
          -48.045867919921875,
          34.40751647949219,
          -8.365479469299316,
          60.54319763183594,
          28.746856689453125,
          3.966381072998047,
          29.679841995239258,
          21.95623207092285,
          -61.389503479003906,
          -53.942386627197266,
          -38.707244873046875,
          12.742255210876465,
          -37.4101448059082,
          55.15534210205078,
          -53.909759521484375,
          -12.258712768554688,
          -24.80344581604004,
          21.494020462036133,
          51.006221771240234,
          65.28411865234375,
          27.905073165893555
         ],
         "xaxis": "x",
         "y": [
          31.67184066772461,
          -38.34719467163086,
          66.31219482421875,
          -16.469295501708984,
          9.156002044677734,
          -66.14696502685547,
          19.834144592285156,
          -3.669689655303955,
          -11.547370910644531,
          34.45085525512695,
          10.918416023254395,
          -56.128726959228516,
          10.333111763000488,
          -27.59284019470215,
          -34.95375061035156,
          -39.502777099609375,
          20.619415283203125,
          -15.972162246704102,
          22.209575653076172,
          45.2402229309082,
          -44.51219940185547,
          4.954601287841797,
          -13.548564910888672,
          -14.730047225952148,
          14.704354286193848
         ],
         "yaxis": "y"
        },
        {
         "customdata": [
          [
           "Story Of Love"
          ],
          [
           "Livin' On A Prayer"
          ],
          [
           "Beautiful Drug"
          ],
          [
           "Blood In The Water"
          ],
          [
           "Bed Of Roses"
          ],
          [
           "I'll Be There For You"
          ],
          [
           "Misunderstood"
          ],
          [
           "Do What You Can"
          ],
          [
           "Let It Rain"
          ],
          [
           "You Give Love A Bad Name"
          ],
          [
           "Limitless"
          ],
          [
           "Lower The Flag"
          ],
          [
           "Always"
          ],
          [
           "Brothers In Arms"
          ],
          [
           "Thank You For Loving Me"
          ],
          [
           "American Reckoning"
          ],
          [
           "These Days"
          ],
          [
           "Have a Nice Day"
          ],
          [
           "Wanted Dead Or Alive"
          ],
          [
           "This Ain't A Love Song"
          ],
          [
           "Never Say Goodbye"
          ],
          [
           "Miracle"
          ],
          [
           "Do What You Can (With Jennifer Nettles)"
          ],
          [
           "Blaze Of Glory"
          ],
          [
           "It's My Life"
          ]
         ],
         "hovertemplate": "artista=Bon Jovi<br>x=%{x}<br>y=%{y}<br>musica=%{customdata[0]}<extra></extra>",
         "legendgroup": "Bon Jovi",
         "marker": {
          "color": "#00cc96",
          "opacity": 0.7,
          "symbol": "circle"
         },
         "mode": "markers",
         "name": "Bon Jovi",
         "showlegend": true,
         "type": "scattergl",
         "x": [
          -39.86117172241211,
          -13.928956031799316,
          3.374002456665039,
          -26.980876922607422,
          -8.337930679321289,
          -15.000802040100098,
          -34.03031921386719,
          24.788291931152344,
          -35.5389404296875,
          19.869245529174805,
          -51.605369567871094,
          -8.806171417236328,
          -15.91370964050293,
          -10.605825424194336,
          28.210954666137695,
          -5.191304683685303,
          -29.92268180847168,
          3.878304958343506,
          -17.608606338500977,
          -5.716027736663818,
          -34.75490951538086,
          -10.12736701965332,
          24.787965774536133,
          -43.19221115112305,
          2.8916313648223877
         ],
         "xaxis": "x",
         "y": [
          0.2768571972846985,
          45.976253509521484,
          -52.79738235473633,
          26.959611892700195,
          5.307408809661865,
          -48.73296356201172,
          0.5245755910873413,
          71.567626953125,
          26.278207778930664,
          -17.97599983215332,
          12.630592346191406,
          49.50074005126953,
          -44.19970703125,
          10.215471267700195,
          -22.318464279174805,
          33.58932876586914,
          14.80196762084961,
          35.7849235534668,
          14.825029373168945,
          -51.60768127441406,
          58.4682731628418,
          17.923154830932617,
          71.55754089355469,
          8.375055313110352,
          36.46938705444336
         ],
         "yaxis": "y"
        },
        {
         "customdata": [
          [
           "Just The Way You Are"
          ],
          [
           "Locked Out Of Heaven"
          ],
          [
           "Nothin' On You (remix)"
          ],
          [
           "Chunky"
          ],
          [
           "Finesse"
          ],
          [
           "Rest Of My Life"
          ],
          [
           "Gorilla"
          ],
          [
           "Too Good To Say Goodbye"
          ],
          [
           "Just The Way You Are (Remix) (Feat. Lupe Fiasco)"
          ],
          [
           "Don't Give Up"
          ],
          [
           "Finesse (Remix) (Feat. Cardi B)"
          ],
          [
           "Nothin' On You"
          ],
          [
           "Talking To The Moon"
          ],
          [
           "Marry You"
          ],
          [
           "Treasure"
          ],
          [
           "Versace On The Floor"
          ],
          [
           "Billionaire"
          ],
          [
           "That's What I Like"
          ],
          [
           "Grenade"
          ],
          [
           "It Will Rain"
          ],
          [
           "24k Magic"
          ],
          [
           "The Lazy Song"
          ],
          [
           "When I Was Your Man"
          ],
          [
           "Uptown Funk!"
          ],
          [
           "Count On Me"
          ]
         ],
         "hovertemplate": "artista=Bruno Mars<br>x=%{x}<br>y=%{y}<br>musica=%{customdata[0]}<extra></extra>",
         "legendgroup": "Bruno Mars",
         "marker": {
          "color": "#ab63fa",
          "opacity": 0.7,
          "symbol": "circle"
         },
         "mode": "markers",
         "name": "Bruno Mars",
         "showlegend": true,
         "type": "scattergl",
         "x": [
          -32.78792953491211,
          47.81108474731445,
          -43.9434814453125,
          -0.8040692806243896,
          28.049917221069336,
          2.394449234008789,
          3.8603384494781494,
          -35.170318603515625,
          -32.814701080322266,
          35.84272384643555,
          28.041248321533203,
          -43.957664489746094,
          18.63117027282715,
          53.97964859008789,
          12.935062408447266,
          54.94784164428711,
          -1.4437918663024902,
          26.173744201660156,
          54.121437072753906,
          -16.017534255981445,
          -25.980928421020508,
          52.912208557128906,
          41.274925231933594,
          53.80182647705078,
          -16.6351375579834
         ],
         "xaxis": "x",
         "y": [
          -65.81671142578125,
          39.621768951416016,
          0.5892996191978455,
          10.292193412780762,
          59.29282760620117,
          8.700726509094238,
          -28.177078247070312,
          -24.505491256713867,
          -65.79460906982422,
          -65.4962387084961,
          59.28353500366211,
          0.5857340693473816,
          27.2230281829834,
          35.57020950317383,
          -19.123889923095703,
          -6.590590953826904,
          12.550695419311523,
          14.257974624633789,
          35.80966567993164,
          -45.324092864990234,
          9.965606689453125,
          35.07292175292969,
          67.3502426147461,
          16.667184829711914,
          -46.56311798095703
         ],
         "yaxis": "y"
        },
        {
         "customdata": [
          [
           "Interlude"
          ],
          [
           "A Thousand Years (Part 2) (Feat. Steve Kaze)"
          ],
          [
           "I Believe"
          ],
          [
           "Distance (Feat. Jason Mraz)"
          ],
          [
           "I Don't Wanna Break"
          ],
          [
           "Distance"
          ],
          [
           "Burning Gold"
          ],
          [
           "Tiny Victories"
          ],
          [
           "Trust"
          ],
          [
           "Sea Of Lovers"
          ],
          [
           "Til There Was You"
          ],
          [
           "I Will Follow You Into The Dark"
          ],
          [
           "The Lonely"
          ],
          [
           "Be My Forever (Feat. Ed Sheeran)"
          ],
          [
           "You Mean The Whole Wide World To Me"
          ],
          [
           "The Words"
          ],
          [
           "I Like You"
          ],
          [
           "Arms"
          ],
          [
           "You Are My Sunshine"
          ],
          [
           "Jar Of Hearts"
          ],
          [
           "Human"
          ],
          [
           "A Thousand Years"
          ],
          [
           "Human (Passion Pit Remix)"
          ],
          [
           "Ave Maria"
          ],
          [
           "One Night"
          ]
         ],
         "hovertemplate": "artista=Christina Perri<br>x=%{x}<br>y=%{y}<br>musica=%{customdata[0]}<extra></extra>",
         "legendgroup": "Christina Perri",
         "marker": {
          "color": "#FFA15A",
          "opacity": 0.7,
          "symbol": "circle"
         },
         "mode": "markers",
         "name": "Christina Perri",
         "showlegend": true,
         "type": "scattergl",
         "x": [
          -88.059326171875,
          -24.516632080078125,
          -15.590492248535156,
          21.480802536010742,
          21.663135528564453,
          21.481243133544922,
          -25.45456886291504,
          -16.798669815063477,
          -26.760272979736328,
          -8.99351978302002,
          -25.796266555786133,
          -10.847502708435059,
          -21.867692947387695,
          14.994922637939453,
          55.05082702636719,
          -14.125545501708984,
          -56.37028503417969,
          -6.664884090423584,
          -54.92190933227539,
          52.42002868652344,
          66.48797607421875,
          -24.522096633911133,
          66.4880142211914,
          -21.896068572998047,
          9.533178329467773
         ],
         "xaxis": "x",
         "y": [
          -11.957693099975586,
          71.3284683227539,
          11.34666633605957,
          49.5875358581543,
          6.089848518371582,
          49.5875129699707,
          45.11561965942383,
          13.954055786132812,
          -1.3858577013015747,
          16.853782653808594,
          -6.261936187744141,
          16.702556610107422,
          21.51725959777832,
          42.42427062988281,
          14.196381568908691,
          19.033584594726562,
          -30.11491584777832,
          -24.03456687927246,
          -32.76679229736328,
          8.466119766235352,
          10.136641502380371,
          71.33126831054688,
          10.13630485534668,
          -2.3612215518951416,
          14.168787956237793
         ],
         "yaxis": "y"
        },
        {
         "customdata": [
          [
           "Speed Of Sound"
          ],
          [
           "Green Eyes"
          ],
          [
           "The Scientist"
          ],
          [
           "Viva La Vida"
          ],
          [
           "Paradise"
          ],
          [
           "Yellow"
          ],
          [
           "Fix You"
          ],
          [
           "God Put A Smile Upon Your Face"
          ],
          [
           "Always In My Head"
          ],
          [
           "Something Just Like This (feat. The Chainsmokers)"
          ],
          [
           "Hymn for the Weekend (Feat. Beyoncé)"
          ],
          [
           "Clocks"
          ],
          [
           "Magic"
          ],
          [
           "A Sky Full Of Stars"
          ],
          [
           "Sunrise"
          ],
          [
           "Charlie Brown"
          ],
          [
           "Every Teardrop Is a Waterfall"
          ],
          [
           "A Head Full Of Dreams"
          ],
          [
           "Trouble"
          ],
          [
           "Orphans"
          ],
          [
           "Everyday Life"
          ],
          [
           "In My Place"
          ],
          [
           "Adventure Of A Lifetime"
          ],
          [
           "Up&Up"
          ]
         ],
         "hovertemplate": "artista=Coldplay<br>x=%{x}<br>y=%{y}<br>musica=%{customdata[0]}<extra></extra>",
         "legendgroup": "Coldplay",
         "marker": {
          "color": "#19d3f3",
          "opacity": 0.7,
          "symbol": "circle"
         },
         "mode": "markers",
         "name": "Coldplay",
         "showlegend": true,
         "type": "scattergl",
         "x": [
          -43.19380187988281,
          13.181971549987793,
          7.0905375480651855,
          -21.789186477661133,
          50.460166931152344,
          -4.053019046783447,
          -40.992488861083984,
          45.52017593383789,
          15.826000213623047,
          0.2081807404756546,
          79.49800109863281,
          24.85205078125,
          42.07060241699219,
          10.01854133605957,
          -88.97142028808594,
          -15.892319679260254,
          41.61328125,
          43.55192947387695,
          -43.791778564453125,
          45.81248092651367,
          -14.476705551147461,
          51.22163772583008,
          -57.47141647338867,
          38.708587646484375
         ],
         "xaxis": "x",
         "y": [
          -24.105257034301758,
          -16.600072860717773,
          68.18820190429688,
          17.746183395385742,
          -54.92080307006836,
          1.2285792827606201,
          -45.42543411254883,
          -59.89960479736328,
          -22.931514739990234,
          80.40621185302734,
          -8.627497673034668,
          -37.02982711791992,
          66.43252563476562,
          -26.462453842163086,
          -12.122842788696289,
          30.859792709350586,
          -53.400543212890625,
          67.15477752685547,
          22.665111541748047,
          -54.27013397216797,
          23.299715042114258,
          37.89984893798828,
          -30.55050277709961,
          -49.415042877197266
         ],
         "yaxis": "y"
        },
        {
         "customdata": [
          [
           "Confident"
          ],
          [
           "I Love Me"
          ],
          [
           "Sorry Not Sorry"
          ],
          [
           "Stone Cold"
          ],
          [
           "Anyone"
          ],
          [
           "Sober"
          ],
          [
           "Skyscraper"
          ],
          [
           "Give Your Heart A Break"
          ],
          [
           "Heart Attack"
          ],
          [
           "Cool For The Summer"
          ],
          [
           "Gift Of A Friend"
          ],
          [
           "Nightingale"
          ],
          [
           "This Is Me (Gotta Find You) (Feat. Joe Jonas)"
          ],
          [
           "Sorry (Unreleased)"
          ],
          [
           "Warrior"
          ],
          [
           "Father"
          ],
          [
           "Let It Go"
          ],
          [
           "Really Don't Care (Feat. Cher Lloyd)"
          ],
          [
           "Lonely (Feat. Lil Wayne)"
          ],
          [
           "Don't Forget"
          ],
          [
           "Be Okay"
          ],
          [
           "Tell Me You Love Me"
          ],
          [
           "OK Not To Be OK (With Marshmello)"
          ],
          [
           "Still Have Me"
          ]
         ],
         "hovertemplate": "artista=Demi Lovato<br>x=%{x}<br>y=%{y}<br>musica=%{customdata[0]}<extra></extra>",
         "legendgroup": "Demi Lovato",
         "marker": {
          "color": "#FF6692",
          "opacity": 0.7,
          "symbol": "circle"
         },
         "mode": "markers",
         "name": "Demi Lovato",
         "showlegend": true,
         "type": "scattergl",
         "x": [
          63.00447082519531,
          47.27251434326172,
          -36.542964935302734,
          -6.6747517585754395,
          -38.42206573486328,
          37.13341522216797,
          -26.315603256225586,
          -7.47053337097168,
          -54.095489501953125,
          9.279037475585938,
          3.4731950759887695,
          0.8965149521827698,
          -20.057958602905273,
          7.899271488189697,
          26.30063247680664,
          -2.1450629234313965,
          -68.7581558227539,
          46.14799499511719,
          -5.666329383850098,
          -17.057382583618164,
          -61.49679946899414,
          33.11237716674805,
          2.59822940826416,
          -32.3742561340332
         ],
         "xaxis": "x",
         "y": [
          -36.822593688964844,
          38.05237579345703,
          -51.89475631713867,
          -41.371673583984375,
          19.06820297241211,
          -67.18923950195312,
          6.595195770263672,
          -26.775299072265625,
          -31.33854103088379,
          29.265995025634766,
          -13.501032829284668,
          -15.847700119018555,
          4.8390889167785645,
          -17.872434616088867,
          -10.13671588897705,
          -27.520381927490234,
          27.047819137573242,
          -48.85023498535156,
          -6.988735675811768,
          53.744380950927734,
          -9.490026473999023,
          -17.553205490112305,
          -10.622218132019043,
          -2.9158949851989746
         ],
         "yaxis": "y"
        },
        {
         "customdata": [
          [
           "Deep Pockets"
          ],
          [
           "Sacrifices (Feat. 2 Chainz, Young Thug)"
          ],
          [
           "Desires (Feat. Future)"
          ],
          [
           "Take Care (Feat. Rihanna)"
          ],
          [
           "Legend"
          ],
          [
           "Nonstop"
          ],
          [
           "Finesse"
          ],
          [
           "Know Yourself"
          ],
          [
           "Chicago Freestyle"
          ],
          [
           "Time Flies"
          ],
          [
           "Don't Matter To Me (Feat. Michael Jackson)"
          ],
          [
           "Ratchet Happy Birthday"
          ],
          [
           "All Me (Feat. 2 Chainz, Big Sean)"
          ],
          [
           "Hotline Bling"
          ],
          [
           "One Dance (Feat. Justin Bieber) (Remix)"
          ],
          [
           "One Dance"
          ],
          [
           "When To Say When / Chicago Freestyle (Video Version)"
          ],
          [
           "Popstar"
          ],
          [
           "Toosie Slide"
          ],
          [
           "God's Plan"
          ],
          [
           "Laugh Now Cry Later (Ft. Lil Durk)"
          ],
          [
           "When to Say When"
          ],
          [
           "War"
          ],
          [
           "Forever (Feat. Kanye West, Lil' Wayne & Eminem)"
          ],
          [
           "In My Feelings"
          ]
         ],
         "hovertemplate": "artista=Drake<br>x=%{x}<br>y=%{y}<br>musica=%{customdata[0]}<extra></extra>",
         "legendgroup": "Drake",
         "marker": {
          "color": "#B6E880",
          "opacity": 0.7,
          "symbol": "circle"
         },
         "mode": "markers",
         "name": "Drake",
         "showlegend": true,
         "type": "scattergl",
         "x": [
          -34.49024200439453,
          -30.754701614379883,
          -5.038330078125,
          1.002325177192688,
          -66.3115234375,
          -32.2263069152832,
          -34.68706130981445,
          -7.432150840759277,
          -60.29511260986328,
          -6.625178813934326,
          2.0827341079711914,
          41.079559326171875,
          -33.746368408203125,
          -26.49959373474121,
          -67.48909759521484,
          -67.53946685791016,
          -60.255470275878906,
          47.545074462890625,
          41.20356750488281,
          -34.91938400268555,
          -32.679771423339844,
          -60.2184944152832,
          -31.30025863647461,
          -29.537311553955078,
          -11.779008865356445
         ],
         "xaxis": "x",
         "y": [
          9.23481559753418,
          13.083023071289062,
          -5.396640777587891,
          -23.805496215820312,
          1.958999752998352,
          10.103445053100586,
          -13.8587007522583,
          -2.4704489707946777,
          41.474327087402344,
          -5.676717758178711,
          -24.020856857299805,
          -45.242820739746094,
          10.644815444946289,
          -20.807947158813477,
          0.2250531166791916,
          0.144667387008667,
          41.28364944458008,
          32.24245834350586,
          15.351499557495117,
          11.561593055725098,
          12.030669212341309,
          41.09518814086914,
          13.645423889160156,
          13.849031448364258,
          -19.901123046875
         ],
         "yaxis": "y"
        },
        {
         "customdata": [
          [
           "Levitating (feat. DaBaby)"
          ],
          [
           "No Lie"
          ],
          [
           "Be The One"
          ],
          [
           "Love Again"
          ],
          [
           "Future Nostalgia"
          ],
          [
           "Pretty Please"
          ],
          [
           "Kiss and Make Up (With BLACKPINK)"
          ],
          [
           "Cool"
          ],
          [
           "Un Día (One Day) (With J Balvin, Bad Bunny, Tainy)"
          ],
          [
           "One Kiss"
          ],
          [
           "Boys Will Be Boys"
          ],
          [
           "That Kind of Woman"
          ],
          [
           "If It Ain't Me (Feat. Normani)"
          ],
          [
           "Hotter Than Hell"
          ],
          [
           "Electricity (With Silk City)"
          ],
          [
           "Genesis"
          ],
          [
           "Blow Your Mind (Mwah)"
          ],
          [
           "Hallucinate"
          ],
          [
           "Levitating (Feat. Madonna and Missy Elliott) (The Blessed Madonna Remix)"
          ],
          [
           "Physical"
          ],
          [
           "New Rules"
          ],
          [
           "Levitating"
          ],
          [
           "Break My Heart"
          ],
          [
           "Don't Start Now"
          ],
          [
           "IDGAF"
          ]
         ],
         "hovertemplate": "artista=Dua Lipa<br>x=%{x}<br>y=%{y}<br>musica=%{customdata[0]}<extra></extra>",
         "legendgroup": "Dua Lipa",
         "marker": {
          "color": "#FF97FF",
          "opacity": 0.7,
          "symbol": "circle"
         },
         "mode": "markers",
         "name": "Dua Lipa",
         "showlegend": true,
         "type": "scattergl",
         "x": [
          55.18703079223633,
          -41.814266204833984,
          11.72118854522705,
          78.74480438232422,
          59.088863372802734,
          7.440922260284424,
          -16.22489356994629,
          -3.459824323654175,
          -14.607839584350586,
          13.083890914916992,
          -23.389678955078125,
          -38.44396209716797,
          9.73973560333252,
          8.183565139770508,
          -8.26446533203125,
          6.4269232749938965,
          -29.94658660888672,
          -28.176023483276367,
          55.540706634521484,
          21.374853134155273,
          -29.881004333496094,
          55.2053108215332,
          11.865555763244629,
          38.484561920166016,
          0.756604790687561
         ],
         "xaxis": "x",
         "y": [
          43.185916900634766,
          -31.220123291015625,
          12.558663368225098,
          -13.378185272216797,
          -2.708930015563965,
          -4.408573627471924,
          -38.00970458984375,
          -5.91839075088501,
          -42.18013000488281,
          -57.575801849365234,
          -46.27674865722656,
          -4.4809184074401855,
          -78.50860595703125,
          -7.816883087158203,
          -41.2119026184082,
          67.04712677001953,
          -49.19847869873047,
          -20.87917709350586,
          43.3228645324707,
          -57.96128463745117,
          -33.97693634033203,
          43.19580841064453,
          -57.09018325805664,
          15.989208221435547,
          -21.067466735839844
         ],
         "yaxis": "y"
        },
        {
         "customdata": [
          [
           "Perfect Duet (With Beyoncé)"
          ],
          [
           "Beautiful People (feat. Khalid)"
          ],
          [
           "Friends"
          ],
          [
           "One"
          ],
          [
           "The A Team"
          ],
          [
           "Best Part Of Me (feat. YEBBA)"
          ],
          [
           "Dive"
          ],
          [
           "Don't"
          ],
          [
           "I See Fire"
          ],
          [
           "Galway Girl"
          ],
          [
           "All Of The Stars"
          ],
          [
           "Castle On The Hill"
          ],
          [
           "Happier"
          ],
          [
           "Kiss Me"
          ],
          [
           "Sing"
          ],
          [
           "South Of The Border (Ft. Camila Cabello & Cardi B)"
          ],
          [
           "I Don't Care (With Justin Bieber)"
          ],
          [
           "Give Me Love"
          ],
          [
           "Thinking Out Loud"
          ],
          [
           "Perfect Symphony (With Andrea Bocelli)"
          ],
          [
           "Tenerife Sea"
          ],
          [
           "Eraser"
          ],
          [
           "Photograph"
          ],
          [
           "Shape Of You"
          ],
          [
           "Perfect"
          ]
         ],
         "hovertemplate": "artista=Ed Sheeran<br>x=%{x}<br>y=%{y}<br>musica=%{customdata[0]}<extra></extra>",
         "legendgroup": "Ed Sheeran",
         "marker": {
          "color": "#FECB52",
          "opacity": 0.7,
          "symbol": "circle"
         },
         "mode": "markers",
         "name": "Ed Sheeran",
         "showlegend": true,
         "type": "scattergl",
         "x": [
          -82.3655014038086,
          -21.420387268066406,
          33.63814163208008,
          -15.907729148864746,
          5.071658134460449,
          15.583675384521484,
          -23.98356056213379,
          76.30220031738281,
          -22.728139877319336,
          32.34366226196289,
          -17.389955520629883,
          -56.90840530395508,
          -14.759695053100586,
          13.333159446716309,
          47.5938606262207,
          8.341462135314941,
          42.36732864379883,
          32.37675857543945,
          -23.814939498901367,
          -82.27000427246094,
          14.22572135925293,
          -23.633373260498047,
          -3.3336188793182373,
          20.49459457397461,
          -82.36571502685547
         ],
         "xaxis": "x",
         "y": [
          18.367422103881836,
          47.39616775512695,
          -18.399816513061523,
          -5.706953525543213,
          37.66788864135742,
          -60.298744201660156,
          -34.24834442138672,
          -11.926413536071777,
          29.591861724853516,
          19.78826141357422,
          29.427265167236328,
          -27.217823028564453,
          -18.3080997467041,
          -55.86052703857422,
          -52.02188491821289,
          41.52833557128906,
          66.9946060180664,
          19.82662010192871,
          54.77040100097656,
          18.273359298706055,
          -59.726436614990234,
          13.75639820098877,
          -12.337916374206543,
          -57.679107666015625,
          18.366762161254883
         ],
         "yaxis": "y"
        },
        {
         "customdata": [
          [
           "Empty Garden (hey Hey Johnny)"
          ],
          [
           "Don't Go Breaking My Heart (Feat. Kiki Dee)"
          ],
          [
           "I'm Still Standing"
          ],
          [
           "You Gotta Love Someone"
          ],
          [
           "Blue Eyes"
          ],
          [
           "Candle In The Wind (1997)"
          ],
          [
           "Circle Of Life"
          ],
          [
           "I Want Love"
          ],
          [
           "Saturday Night's Alright For Fighting"
          ],
          [
           "Sad Songs (Say So Much)"
          ],
          [
           "I Think I'm Going To Kill Myself"
          ],
          [
           "Bennie And The Jets"
          ],
          [
           "I Guess That's Why They Call It The Blues"
          ],
          [
           "Sacrifice"
          ],
          [
           "Daniel"
          ],
          [
           "Tiny Dancer"
          ],
          [
           "Candle In The Wind"
          ],
          [
           "Don't Let The Sun Go Down On Me"
          ],
          [
           "Nikita"
          ],
          [
           "Goodbye Yellow Brick Road"
          ],
          [
           "Can You Feel The Love Tonight?"
          ],
          [
           "Skyline Pigeon"
          ],
          [
           "Rocket Man"
          ],
          [
           "Your Song"
          ],
          [
           "The One"
          ]
         ],
         "hovertemplate": "artista=Elton John<br>x=%{x}<br>y=%{y}<br>musica=%{customdata[0]}<extra></extra>",
         "legendgroup": "Elton John",
         "marker": {
          "color": "#636efa",
          "opacity": 0.7,
          "symbol": "circle"
         },
         "mode": "markers",
         "name": "Elton John",
         "showlegend": true,
         "type": "scattergl",
         "x": [
          16.4659423828125,
          0.2628799080848694,
          46.66868209838867,
          -38.798519134521484,
          -10.414469718933105,
          -31.97545051574707,
          -20.441909790039062,
          11.837247848510742,
          -18.411312103271484,
          -37.5164909362793,
          -20.79108428955078,
          3.5979316234588623,
          -29.538185119628906,
          -16.915626525878906,
          -4.082911014556885,
          8.199475288391113,
          -31.992475509643555,
          -43.67037582397461,
          -9.380081176757812,
          7.123051643371582,
          21.74002456665039,
          18.264738082885742,
          -39.95277786254883,
          15.570385932922363,
          -28.513147354125977
         ],
         "xaxis": "x",
         "y": [
          23.342802047729492,
          -40.137569427490234,
          37.06733322143555,
          -43.59299087524414,
          24.005462646484375,
          38.78512954711914,
          30.229007720947266,
          -3.4767696857452393,
          7.930507183074951,
          20.45905113220215,
          8.797625541687012,
          14.236627578735352,
          16.300922393798828,
          -16.850549697875977,
          17.968835830688477,
          42.49298095703125,
          38.683326721191406,
          7.319863796234131,
          15.469571113586426,
          65.20773315429688,
          -30.086416244506836,
          58.53490447998047,
          -30.693466186523438,
          -6.623798370361328,
          31.23224639892578
         ],
         "yaxis": "y"
        },
        {
         "customdata": [
          [
           "Amazing Grace"
          ],
          [
           "Kiss Me Quick"
          ],
          [
           "Burning Love"
          ],
          [
           "Jailhouse Rock"
          ],
          [
           "And I Love You So"
          ],
          [
           "It's Now Or Never"
          ],
          [
           "Can't Help Falling In Love"
          ],
          [
           "Stand by Me"
          ],
          [
           "Bridge Over Troubled Water"
          ],
          [
           "My Way"
          ],
          [
           "Suspicious Minds"
          ],
          [
           "Always On My Mind"
          ],
          [
           "Unchained Melody"
          ],
          [
           "If I Can Dream"
          ],
          [
           "Love Me Tender"
          ],
          [
           "Blue Suede Shoes"
          ],
          [
           "I Can't Stop Loving You"
          ],
          [
           "You'll Never Walk Alone"
          ],
          [
           "You've Lost That Lovin' Feelin'"
          ],
          [
           "Don't Be Cruel"
          ],
          [
           "So High"
          ],
          [
           "The Wonder Of You"
          ],
          [
           "How Great Thou Art"
          ],
          [
           "I've Got Confidence"
          ],
          [
           "Sweet Caroline"
          ]
         ],
         "hovertemplate": "artista=Elvis Presley<br>x=%{x}<br>y=%{y}<br>musica=%{customdata[0]}<extra></extra>",
         "legendgroup": "Elvis Presley",
         "marker": {
          "color": "#EF553B",
          "opacity": 0.7,
          "symbol": "circle"
         },
         "mode": "markers",
         "name": "Elvis Presley",
         "showlegend": true,
         "type": "scattergl",
         "x": [
          -27.38018798828125,
          -16.046363830566406,
          44.98596954345703,
          -29.086788177490234,
          37.113651275634766,
          17.943523406982422,
          13.199814796447754,
          29.802391052246094,
          -12.069174766540527,
          -27.909181594848633,
          -11.421224594116211,
          -32.894187927246094,
          16.102691650390625,
          -4.21556282043457,
          37.2169189453125,
          10.257539749145508,
          44.63977813720703,
          -46.87725830078125,
          -7.215879440307617,
          -8.328056335449219,
          29.01357078552246,
          37.17510223388672,
          -22.154356002807617,
          -47.798336029052734,
          1.613675832748413
         ],
         "xaxis": "x",
         "y": [
          -12.83857250213623,
          -37.100528717041016,
          66.04248046875,
          31.051189422607422,
          -20.086421966552734,
          -38.75119400024414,
          -56.747623443603516,
          -73.62203216552734,
          5.2090044021606445,
          17.578062057495117,
          51.57620620727539,
          -13.866500854492188,
          -41.29094314575195,
          19.01996421813965,
          -23.011938095092773,
          -79.90738677978516,
          20.893245697021484,
          -22.64383888244629,
          -48.06206130981445,
          -31.87820816040039,
          -11.983467102050781,
          -18.918704986572266,
          19.694950103759766,
          34.81766128540039,
          4.2533650398254395
         ],
         "yaxis": "y"
        },
        {
         "customdata": [
          [
           "Venom"
          ],
          [
           "When I'm Gone"
          ],
          [
           "Till I Collapse (feat. Nate Dogg)"
          ],
          [
           "Mockingbird"
          ],
          [
           "Offended"
          ],
          [
           "Not Afraid"
          ],
          [
           "Without Me"
          ],
          [
           "Godzilla (Feat. Juice WRLD)"
          ],
          [
           "Stan (feat. Dido)"
          ],
          [
           "Lose Yourself"
          ],
          [
           "Love The Way You Lie (feat. Rihanna)"
          ],
          [
           "The Real Slim Shady"
          ],
          [
           "My Name Is"
          ],
          [
           "Superman (feat. Dina Rae)"
          ],
          [
           "The Monster (Feat. Rihanna)"
          ],
          [
           "Cleanin' Out My Closet"
          ],
          [
           "Space Bound"
          ],
          [
           "Sing For The Moment"
          ],
          [
           "Lucky You (Feat. Joyner Lucas)"
          ],
          [
           "8 Mile Tree Last Battle"
          ],
          [
           "My Darling"
          ],
          [
           "Premonition (Intro)"
          ],
          [
           "The Way I Am"
          ],
          [
           "Beautiful"
          ],
          [
           "Rap God"
          ]
         ],
         "hovertemplate": "artista=Eminem<br>x=%{x}<br>y=%{y}<br>musica=%{customdata[0]}<extra></extra>",
         "legendgroup": "Eminem",
         "marker": {
          "color": "#00cc96",
          "opacity": 0.7,
          "symbol": "circle"
         },
         "mode": "markers",
         "name": "Eminem",
         "showlegend": true,
         "type": "scattergl",
         "x": [
          -27.91265869140625,
          -14.169912338256836,
          -28.919275283813477,
          -17.439002990722656,
          -27.378015518188477,
          -28.406116485595703,
          78.86373138427734,
          -27.51189422607422,
          -12.462255477905273,
          -44.30207061767578,
          -37.556671142578125,
          33.6062126159668,
          -28.903541564941406,
          -12.14245319366455,
          -21.965944290161133,
          -32.51532745361328,
          -16.322301864624023,
          -71.01465606689453,
          -28.19319725036621,
          -28.807592391967773,
          -9.855770111083984,
          -29.16242027282715,
          -29.24730110168457,
          -24.659406661987305,
          -27.435039520263672
         ],
         "xaxis": "x",
         "y": [
          9.4758882522583,
          -13.755331993103027,
          5.721142768859863,
          -13.243575096130371,
          9.154294967651367,
          7.448275566101074,
          -10.892098426818848,
          12.676217079162598,
          -11.422874450683594,
          29.7271728515625,
          -61.653785705566406,
          -66.91121673583984,
          -19.06561851501465,
          -32.51144790649414,
          11.338685989379883,
          5.73627233505249,
          -18.062416076660156,
          -22.177656173706055,
          11.153632164001465,
          8.265869140625,
          -22.593746185302734,
          9.978190422058105,
          4.391129016876221,
          5.047518253326416,
          10.213872909545898
         ],
         "yaxis": "y"
        },
        {
         "customdata": [
          [
           "It's A Free World, Baby"
          ],
          [
           "Angel Of The Morning"
          ],
          [
           "Copacabana"
          ],
          [
           "Every Word Means No"
          ],
          [
           "I'd Love You To Want Me"
          ],
          [
           "Endless Love (Duet With Chandler)"
          ],
          [
           "Holiday Song"
          ],
          [
           "Trouble With Boys"
          ],
          [
           "Baby Got Back"
          ],
          [
           "Emma"
          ],
          [
           "Friends 'til The End"
          ],
          [
           "I'll Be There For You"
          ],
          [
           "I'm In The Shower"
          ]
         ],
         "hovertemplate": "artista=Friends<br>x=%{x}<br>y=%{y}<br>musica=%{customdata[0]}<extra></extra>",
         "legendgroup": "Friends",
         "marker": {
          "color": "#ab63fa",
          "opacity": 0.7,
          "symbol": "circle"
         },
         "mode": "markers",
         "name": "Friends",
         "showlegend": true,
         "type": "scattergl",
         "x": [
          -35.227718353271484,
          -27.223817825317383,
          6.860042095184326,
          -17.550352096557617,
          35.84732437133789,
          45.991817474365234,
          -31.46554183959961,
          -44.493858337402344,
          -41.770267486572266,
          -29.792877197265625,
          -15.546429634094238,
          -15.465764999389648,
          17.39670753479004
         ],
         "xaxis": "x",
         "y": [
          -18.66121482849121,
          -38.004234313964844,
          44.77521514892578,
          -12.344562530517578,
          49.93573760986328,
          -12.171042442321777,
          -35.59192657470703,
          20.36798667907715,
          -34.115936279296875,
          -18.122465133666992,
          -48.52701187133789,
          -48.80278778076172,
          -8.374090194702148
         ],
         "yaxis": "y"
        },
        {
         "customdata": [
          [
           "Aquele Abraço"
          ]
         ],
         "hovertemplate": "artista=Gilberto Gil<br>x=%{x}<br>y=%{y}<br>musica=%{customdata[0]}<extra></extra>",
         "legendgroup": "Gilberto Gil",
         "marker": {
          "color": "#FFA15A",
          "opacity": 0.7,
          "symbol": "circle"
         },
         "mode": "markers",
         "name": "Gilberto Gil",
         "showlegend": true,
         "type": "scattergl",
         "x": [
          65.37566375732422
         ],
         "xaxis": "x",
         "y": [
          -24.64127540588379
         ],
         "yaxis": "y"
        },
        {
         "customdata": [
          [
           "Out Ta Get Me"
          ],
          [
           "Live And Let Die"
          ],
          [
           "Sweet Child O' Mine"
          ],
          [
           "November Rain"
          ],
          [
           "Don't Cry"
          ],
          [
           "Patience"
          ],
          [
           "Knockin' On Heaven's Door"
          ],
          [
           "Welcome To The Jungle"
          ],
          [
           "Paradise City"
          ],
          [
           "Estranged"
          ],
          [
           "Civil War"
          ],
          [
           "Yesterdays"
          ],
          [
           "Nightrain"
          ],
          [
           "Mr. Brownstone"
          ],
          [
           "Since I Don't Have You"
          ],
          [
           "November Rain (Piano Version/1986 Sound City Session)"
          ],
          [
           "Rocket Queen"
          ],
          [
           "So Fine"
          ],
          [
           "Better"
          ],
          [
           "This I Love"
          ],
          [
           "Sympathy For The Devil"
          ],
          [
           "Chinese Democracy"
          ],
          [
           "It's So Easy"
          ],
          [
           "Used To Love Her"
          ],
          [
           "You Could Be Mine"
          ]
         ],
         "hovertemplate": "artista=Guns N' Roses<br>x=%{x}<br>y=%{y}<br>musica=%{customdata[0]}<extra></extra>",
         "legendgroup": "Guns N' Roses",
         "marker": {
          "color": "#19d3f3",
          "opacity": 0.7,
          "symbol": "circle"
         },
         "mode": "markers",
         "name": "Guns N' Roses",
         "showlegend": true,
         "type": "scattergl",
         "x": [
          -43.08210754394531,
          20.690649032592773,
          45.807823181152344,
          -22.813640594482422,
          -5.353829860687256,
          6.674167633056641,
          -32.911376953125,
          30.621862411499023,
          31.5083065032959,
          -16.353788375854492,
          -19.444854736328125,
          -46.10882568359375,
          -26.80807113647461,
          49.91868209838867,
          47.36786651611328,
          -22.738786697387695,
          2.7932145595550537,
          3.087339162826538,
          -26.691659927368164,
          6.644366264343262,
          -29.039688110351562,
          25.32147979736328,
          32.01009750366211,
          10.696040153503418,
          4.443127155303955
         ],
         "xaxis": "x",
         "y": [
          16.089567184448242,
          -20.837697982788086,
          -58.99665832519531,
          -59.54287338256836,
          -33.226478576660156,
          -42.72304153442383,
          -41.921504974365234,
          17.804895401000977,
          40.92374038696289,
          -9.62850284576416,
          37.20520782470703,
          22.81125831604004,
          13.476299285888672,
          -15.371347427368164,
          -45.89299011230469,
          -59.439170837402344,
          -16.28545379638672,
          8.535879135131836,
          -0.8496259450912476,
          51.45534896850586,
          -18.878450393676758,
          -8.397053718566895,
          -1.6472930908203125,
          49.55759811401367,
          8.155304908752441
         ],
         "yaxis": "y"
        },
        {
         "customdata": [
          [
           "Cherry"
          ],
          [
           "Sunflower, Vol. 6"
          ],
          [
           "Watermelon Sugar"
          ],
          [
           "Adore You"
          ],
          [
           "Lights Up"
          ],
          [
           "Golden"
          ],
          [
           "Falling"
          ],
          [
           "Medicine"
          ],
          [
           "Sign Of The Times"
          ]
         ],
         "hovertemplate": "artista=Harry Styles<br>x=%{x}<br>y=%{y}<br>musica=%{customdata[0]}<extra></extra>",
         "legendgroup": "Harry Styles",
         "marker": {
          "color": "#FF6692",
          "opacity": 0.7,
          "symbol": "circle"
         },
         "mode": "markers",
         "name": "Harry Styles",
         "showlegend": true,
         "type": "scattergl",
         "x": [
          -28.740468978881836,
          55.45220184326172,
          31.7560977935791,
          -0.02491440623998642,
          68.8768310546875,
          34.48255157470703,
          11.839920997619629,
          78.78659057617188,
          -6.453595161437988
         ],
         "xaxis": "x",
         "y": [
          -35.92753219604492,
          16.705785751342773,
          -12.160035133361816,
          -45.29999542236328,
          -25.973241806030273,
          -1.1676416397094727,
          -53.006561279296875,
          -9.658805847167969,
          58.68970489501953
         ],
         "yaxis": "y"
        },
        {
         "customdata": [
          [
           "Hino das Ilhas Fiji"
          ],
          [
           "Hino dos Estados Unidos"
          ]
         ],
         "hovertemplate": "artista=Hinos<br>x=%{x}<br>y=%{y}<br>musica=%{customdata[0]}<extra></extra>",
         "legendgroup": "Hinos",
         "marker": {
          "color": "#B6E880",
          "opacity": 0.7,
          "symbol": "circle"
         },
         "mode": "markers",
         "name": "Hinos",
         "showlegend": true,
         "type": "scattergl",
         "x": [
          -21.973251342773438,
          -19.53459930419922
         ],
         "xaxis": "x",
         "y": [
          31.11231231689453,
          29.543804168701172
         ],
         "yaxis": "y"
        },
        {
         "customdata": [
          [
           "Warriors"
          ],
          [
           "Sucker For Pain (Feat. Lil Wayne, Wiz Khalifa, Ty Dolla $ign, Logic & X Ambassadors)"
          ],
          [
           "Walking The Wire"
          ],
          [
           "Rise Up"
          ],
          [
           "Believer (Remix) (Ft. Lil Wayne)"
          ],
          [
           "I'm So Sorry"
          ],
          [
           "West Coast"
          ],
          [
           "Born To Be Yours (With Kygo)"
          ],
          [
           "Boomerang"
          ],
          [
           "I Don't Know Why"
          ],
          [
           "Dream"
          ],
          [
           "Not Today"
          ],
          [
           "Love"
          ],
          [
           "On Top Of The World"
          ],
          [
           "Believer"
          ],
          [
           "Demons"
          ],
          [
           "Thunder"
          ],
          [
           "Bad Liar"
          ],
          [
           "Radioactive"
          ],
          [
           "Whatever It Takes"
          ],
          [
           "Radioactive (Feat. Kendrick Lamar)"
          ],
          [
           "Birds"
          ],
          [
           "It's Time"
          ],
          [
           "Next To Me"
          ],
          [
           "Natural"
          ]
         ],
         "hovertemplate": "artista=Imagine Dragons<br>x=%{x}<br>y=%{y}<br>musica=%{customdata[0]}<extra></extra>",
         "legendgroup": "Imagine Dragons",
         "marker": {
          "color": "#FF97FF",
          "opacity": 0.7,
          "symbol": "circle"
         },
         "mode": "markers",
         "name": "Imagine Dragons",
         "showlegend": true,
         "type": "scattergl",
         "x": [
          -20.922935485839844,
          -26.447731018066406,
          -12.805663108825684,
          16.549436569213867,
          -49.693607330322266,
          -38.02324676513672,
          56.62061309814453,
          -39.60023498535156,
          10.503462791442871,
          38.67766189575195,
          -17.619253158569336,
          -17.69476318359375,
          -2.1348915100097656,
          16.587051391601562,
          -49.69649124145508,
          1.8266748189926147,
          -24.153675079345703,
          33.96174240112305,
          -52.125980377197266,
          -24.885347366333008,
          -52.12561798095703,
          40.66730880737305,
          -21.26464080810547,
          -10.75107479095459,
          -10.828046798706055
         ],
         "xaxis": "x",
         "y": [
          46.394081115722656,
          11.536267280578613,
          46.523834228515625,
          36.82460403442383,
          2.7967240810394287,
          -42.97422790527344,
          -3.5366835594177246,
          39.617218017578125,
          -14.403468132019043,
          -21.910865783691406,
          24.55095863342285,
          61.18928909301758,
          -70.30858612060547,
          35.773399353027344,
          2.79727840423584,
          23.84808921813965,
          27.8729305267334,
          -6.1332197189331055,
          52.798309326171875,
          12.129744529724121,
          52.79909896850586,
          64.1137924194336,
          -30.06544303894043,
          0.9532466530799866,
          14.110834121704102
         ],
         "yaxis": "y"
        },
        {
         "customdata": [
          [
           "Starting All Over Again"
          ],
          [
           "Maui Hawaiian Sup'pa Man"
          ],
          [
           "Tengoku Kara Kaminari (thunder From Heaven)"
          ],
          [
           "Ahi Wela"
          ],
          [
           "Kamalani"
          ],
          [
           "What a Wonderful World"
          ],
          [
           "E Ala E"
          ],
          [
           "Hawaiian Like Me"
          ],
          [
           "Hawaii 78"
          ],
          [
           "In This Life"
          ],
          [
           "Margarita"
          ],
          [
           "Somewhere Over The Rainbow"
          ],
          [
           "Sea Of Love"
          ]
         ],
         "hovertemplate": "artista=Israel Kamakawiwo'ole<br>x=%{x}<br>y=%{y}<br>musica=%{customdata[0]}<extra></extra>",
         "legendgroup": "Israel Kamakawiwo'ole",
         "marker": {
          "color": "#FECB52",
          "opacity": 0.7,
          "symbol": "circle"
         },
         "mode": "markers",
         "name": "Israel Kamakawiwo'ole",
         "showlegend": true,
         "type": "scattergl",
         "x": [
          -10.071089744567871,
          -44.421321868896484,
          -19.995431900024414,
          -15.127350807189941,
          -60.07596969604492,
          -24.73024559020996,
          -17.452781677246094,
          -15.783281326293945,
          -34.958709716796875,
          -9.289886474609375,
          -16.99610710144043,
          -4.310037136077881,
          -16.52107810974121
         ],
         "xaxis": "x",
         "y": [
          37.90055465698242,
          32.390201568603516,
          44.49653625488281,
          27.050579071044922,
          26.047340393066406,
          33.75458526611328,
          32.118404388427734,
          -28.855918884277344,
          25.02063751220703,
          21.79254722595215,
          31.260845184326172,
          19.449491500854492,
          -34.947792053222656
         ],
         "yaxis": "y"
        },
        {
         "customdata": [
          [
           "It's Killing Me"
          ],
          [
           "Quite Miss Home"
          ],
          [
           "Can't Take My Eyes Off You"
          ],
          [
           "Car's Outside"
          ],
          [
           "Back From The Edge"
          ],
          [
           "If You Let Me"
          ],
          [
           "Empty Space"
          ],
          [
           "Fall"
          ],
          [
           "Say You Won't Let Go"
          ],
          [
           "Naked"
          ],
          [
           "Impossible"
          ],
          [
           "Falling Like The Stars"
          ],
          [
           "Train Wreck"
          ],
          [
           "Can I Be Him"
          ],
          [
           "Always"
          ],
          [
           "Rewrite The Stars (with Anne-Marie)"
          ],
          [
           "At My Weakest"
          ],
          [
           "Is This Love"
          ],
          [
           "I Am"
          ],
          [
           "Safe Inside"
          ],
          [
           "Finally"
          ],
          [
           "Maybe"
          ],
          [
           "Certain Things (feat. Chasing Grace)"
          ],
          [
           "You're Nobody 'Til Somebody Loves You"
          ],
          [
           "You (Feat. Travis Barker)"
          ]
         ],
         "hovertemplate": "artista=James Arthur<br>x=%{x}<br>y=%{y}<br>musica=%{customdata[0]}<extra></extra>",
         "legendgroup": "James Arthur",
         "marker": {
          "color": "#636efa",
          "opacity": 0.7,
          "symbol": "circle"
         },
         "mode": "markers",
         "name": "James Arthur",
         "showlegend": true,
         "type": "scattergl",
         "x": [
          -11.976268768310547,
          16.405288696289062,
          -9.719441413879395,
          -13.703857421875,
          6.348606586456299,
          -6.238347053527832,
          40.5897102355957,
          2.7732646465301514,
          -12.127093315124512,
          2.770347833633423,
          4.557041168212891,
          15.621476173400879,
          -42.92117691040039,
          11.978480339050293,
          -6.337683200836182,
          -6.431158542633057,
          -8.198675155639648,
          12.94144058227539,
          41.96588134765625,
          8.738661766052246,
          -45.74647521972656,
          -17.40375328063965,
          5.0314459800720215,
          6.398979187011719,
          -35.85017013549805
         ],
         "xaxis": "x",
         "y": [
          -30.398225784301758,
          -4.8346991539001465,
          -33.67140197753906,
          -23.29245948791504,
          65.91136169433594,
          -41.1948127746582,
          -23.47441864013672,
          27.010337829589844,
          -19.55013084411621,
          -16.986162185668945,
          -37.21441650390625,
          -58.433929443359375,
          9.291614532470703,
          12.19582748413086,
          -21.319398880004883,
          51.49949645996094,
          -45.48623275756836,
          -39.53706741333008,
          67.89384460449219,
          -14.699775695800781,
          16.496370315551758,
          -14.581978797912598,
          -11.955846786499023,
          -10.687538146972656,
          34.13504409790039
         ],
         "yaxis": "y"
        },
        {
         "customdata": [
          [
           "I Won't Give Up"
          ],
          [
           "93 Million Miles"
          ],
          [
           "Lucky (feat Ximena Sariñana)"
          ],
          [
           "Hearing Double"
          ],
          [
           "The World As I See It"
          ],
          [
           "Love Is Still The Answer"
          ],
          [
           "You Can Rely On Me"
          ],
          [
           "5/6"
          ],
          [
           "Love Love Love"
          ],
          [
           "A Beautiful Mess"
          ],
          [
           "I'm Yours (Versão Videoclipe)"
          ],
          [
           "Coffee Cup Song"
          ],
          [
           "You do You (Feat. Tiffany Haddish)"
          ],
          [
           "Better With You"
          ],
          [
           "Wise Woman"
          ],
          [
           "Make Love"
          ],
          [
           "Butterfly"
          ],
          [
           "Let's See What The Night Can Do"
          ],
          [
           "Have It All"
          ],
          [
           "Song For A Friend"
          ],
          [
           "Love Someone"
          ],
          [
           "Look For The Good"
          ],
          [
           "Gratitude"
          ],
          [
           "I'm Yours"
          ],
          [
           "Lucky (feat. Colbie Caillat)"
          ]
         ],
         "hovertemplate": "artista=Jason Mraz<br>x=%{x}<br>y=%{y}<br>musica=%{customdata[0]}<extra></extra>",
         "legendgroup": "Jason Mraz",
         "marker": {
          "color": "#EF553B",
          "opacity": 0.7,
          "symbol": "circle"
         },
         "mode": "markers",
         "name": "Jason Mraz",
         "showlegend": true,
         "type": "scattergl",
         "x": [
          34.02764892578125,
          17.185747146606445,
          64.84921264648438,
          -11.355812072753906,
          32.8228645324707,
          -2.272052764892578,
          18.42743682861328,
          -19.523286819458008,
          -1.8380367755889893,
          -21.93735694885254,
          -29.95000648498535,
          0.06712418049573898,
          28.86461639404297,
          -40.532066345214844,
          9.803744316101074,
          29.723373413085938,
          24.480289459228516,
          -10.716537475585938,
          -20.497587203979492,
          10.415947914123535,
          -39.4738883972168,
          26.613849639892578,
          27.69830894470215,
          -29.950347900390625,
          -19.95357894897461
         ],
         "xaxis": "x",
         "y": [
          -64.24893951416016,
          -3.4470598697662354,
          -24.530427932739258,
          -27.012765884399414,
          -34.33984375,
          -69.55680084228516,
          -1.812320590019226,
          -20.630939483642578,
          -69.4733657836914,
          49.66856384277344,
          -55.094181060791016,
          -68.08184051513672,
          2.248138189315796,
          -10.296497344970703,
          47.79164123535156,
          -32.9868049621582,
          -7.826174736022949,
          -17.8327693939209,
          -25.399202346801758,
          -34.666725158691406,
          -44.1929931640625,
          -21.70376968383789,
          -21.81765365600586,
          -55.094791412353516,
          40.65668487548828
         ],
         "yaxis": "y"
        },
        {
         "customdata": [
          [
           "Conversations In The Dark"
          ],
          [
           "If You're Out There"
          ],
          [
           "Favorite Place"
          ],
          [
           "I Do"
          ],
          [
           "Tonight (Best You Ever Had) (feat. Ludacris)"
          ],
          [
           "Save Room"
          ],
          [
           "Aim High"
          ],
          [
           "Beauty and The Beast"
          ],
          [
           "I Love, You Love"
          ],
          [
           "Actions"
          ],
          [
           "All Of Me"
          ],
          [
           "It Don't Have To Change"
          ],
          [
           "Ooh Laa"
          ],
          [
           "Always"
          ],
          [
           "P.D.A. (We Just Don't Care)"
          ],
          [
           "A Million"
          ],
          [
           "Never Break"
          ],
          [
           "Ordinary People"
          ],
          [
           "A Good Night (Feat. BloodPop®)"
          ],
          [
           "U Move, I Move (Feat. Jhené Aiko)"
          ],
          [
           "Preach"
          ],
          [
           "Our Generation (the Hope Of The World)"
          ],
          [
           "Wild (Ft. Gary Clark Jr.)"
          ],
          [
           "You & I (Nobody in the World)"
          ],
          [
           "Love Me Now"
          ]
         ],
         "hovertemplate": "artista=John Legend<br>x=%{x}<br>y=%{y}<br>musica=%{customdata[0]}<extra></extra>",
         "legendgroup": "John Legend",
         "marker": {
          "color": "#00cc96",
          "opacity": 0.7,
          "symbol": "circle"
         },
         "mode": "markers",
         "name": "John Legend",
         "showlegend": true,
         "type": "scattergl",
         "x": [
          -7.159326076507568,
          6.565207481384277,
          32.40351104736328,
          53.45966339111328,
          6.763686656951904,
          13.100563049316406,
          -9.23575496673584,
          47.15964889526367,
          -1.8135340213775635,
          68.7129135131836,
          18.757156372070312,
          40.50989532470703,
          40.50829315185547,
          -58.223934173583984,
          44.43387985229492,
          18.456377029418945,
          -34.58990478515625,
          -13.290895462036133,
          -40.787254333496094,
          14.060600280761719,
          44.73377990722656,
          -7.137612819671631,
          21.557695388793945,
          -3.2661848068237305,
          36.28702163696289
         ],
         "xaxis": "x",
         "y": [
          -21.616649627685547,
          -18.9431095123291,
          32.37031936645508,
          16.077531814575195,
          11.090441703796387,
          -44.316131591796875,
          -22.4261531829834,
          -24.65998077392578,
          -68.01105499267578,
          -25.182525634765625,
          -17.032737731933594,
          69.02273559570312,
          66.5,
          -41.07518768310547,
          -36.54268264770508,
          7.3728837966918945,
          46.949703216552734,
          48.10993957519531,
          -32.26237487792969,
          2.3203377723693848,
          -51.87388229370117,
          48.2005615234375,
          8.74545955657959,
          38.50601577758789,
          -24.65120506286621
         ],
         "yaxis": "y"
        },
        {
         "customdata": [
          [
           "Real Love"
          ],
          [
           "Woman"
          ],
          [
           "God"
          ],
          [
           "Imagine"
          ],
          [
           "Intuition"
          ],
          [
           "Working Class Hero"
          ],
          [
           "Watching The Wheels"
          ],
          [
           "Give Peace A Chance"
          ],
          [
           "Gimme Some Truth"
          ],
          [
           "Nobody Loves You (When You're Down And Out)"
          ],
          [
           "Instant Karma"
          ],
          [
           "Isolation"
          ],
          [
           "Whatever Gets You Through The Night"
          ],
          [
           "I Know (I Know)"
          ],
          [
           "Jealous Guy"
          ],
          [
           "Oh My Love"
          ],
          [
           "Stand By Me"
          ],
          [
           "Mother"
          ],
          [
           "(Just Like) Starting Over"
          ],
          [
           "Love"
          ],
          [
           "How do You Sleep?"
          ],
          [
           "Mind Games"
          ],
          [
           "In My Life"
          ],
          [
           "Beautiful Boy (Darling Boy)"
          ]
         ],
         "hovertemplate": "artista=John Lennon<br>x=%{x}<br>y=%{y}<br>musica=%{customdata[0]}<extra></extra>",
         "legendgroup": "John Lennon",
         "marker": {
          "color": "#ab63fa",
          "opacity": 0.7,
          "symbol": "circle"
         },
         "mode": "markers",
         "name": "John Lennon",
         "showlegend": true,
         "type": "scattergl",
         "x": [
          7.166798114776611,
          0.48492613434791565,
          -50.52180862426758,
          44.28339767456055,
          63.02017593383789,
          33.96860122680664,
          -69.17610931396484,
          -22.54615020751953,
          1.8689736127853394,
          5.105494976043701,
          -3.61905574798584,
          -6.131903171539307,
          22.213422775268555,
          -32.23329544067383,
          -32.98634719848633,
          -0.7660608291625977,
          29.77251625061035,
          -35.86613845825195,
          -14.198626518249512,
          -3.4109818935394287,
          55.96419143676758,
          -9.402179718017578,
          -62.59319305419922,
          3.393096685409546
         ],
         "xaxis": "x",
         "y": [
          -38.86746597290039,
          80.37271118164062,
          -15.999314308166504,
          -1.75010347366333,
          25.24567413330078,
          0.48620736598968506,
          25.900997161865234,
          46.70527267456055,
          -49.31048583984375,
          -12.89362907409668,
          4.3425822257995605,
          41.327152252197266,
          -58.045677185058594,
          -8.12678050994873,
          5.233659744262695,
          21.41804313659668,
          -73.64572143554688,
          57.82030487060547,
          48.99867248535156,
          -68.87681579589844,
          9.936023712158203,
          28.470518112182617,
          -19.07284164428711,
          -52.87297058105469
         ],
         "yaxis": "y"
        },
        {
         "customdata": [
          [
           "Come Back To Bed"
          ],
          [
           "Slow Dancing In A Burning Room"
          ],
          [
           "Free Fallin'"
          ],
          [
           "Your Body Is A Wonderland"
          ],
          [
           "Gravity"
          ],
          [
           "Daughters"
          ],
          [
           "XO"
          ],
          [
           "Half Of My Heart"
          ],
          [
           "Never On The Day You Leave"
          ],
          [
           "3x5"
          ],
          [
           "Who Says"
          ],
          [
           "No Such Thing"
          ],
          [
           "Love Is a Verb"
          ],
          [
           "Waiting On The World To Change"
          ],
          [
           "New Light"
          ],
          [
           "Love On The Weekend"
          ],
          [
           "Say"
          ],
          [
           "Heartbreak Warfare"
          ],
          [
           "Stop This Train"
          ],
          [
           "I'm Gonna Find Another You"
          ],
          [
           "Edge Of Desire"
          ],
          [
           "I Guess I Just Feel Like"
          ],
          [
           "Still Feel Like Your Man"
          ],
          [
           "In Your Atmosphere"
          ],
          [
           "Who You Love (Feat. Katy Perry)"
          ]
         ],
         "hovertemplate": "artista=John Mayer<br>x=%{x}<br>y=%{y}<br>musica=%{customdata[0]}<extra></extra>",
         "legendgroup": "John Mayer",
         "marker": {
          "color": "#FFA15A",
          "opacity": 0.7,
          "symbol": "circle"
         },
         "mode": "markers",
         "name": "John Mayer",
         "showlegend": true,
         "type": "scattergl",
         "x": [
          7.277953147888184,
          -12.166447639465332,
          8.557328224182129,
          10.664478302001953,
          -3.0526084899902344,
          -23.922571182250977,
          38.094703674316406,
          0.19185870885849,
          -13.584674835205078,
          -15.748003959655762,
          -63.220943450927734,
          -25.828786849975586,
          28.617868423461914,
          -3.9380478858947754,
          54.92118835449219,
          26.744585037231445,
          7.50704288482666,
          -30.351354598999023,
          19.656259536743164,
          6.859309196472168,
          -14.417189598083496,
          6.671030521392822,
          6.1827616691589355,
          -14.661240577697754,
          10.649331092834473
         ],
         "xaxis": "x",
         "y": [
          65.75923919677734,
          43.81363296508789,
          40.323974609375,
          29.29286003112793,
          26.80742073059082,
          -47.3687744140625,
          -23.78801918029785,
          -38.374664306640625,
          -13.335928916931152,
          -1.3075602054595947,
          10.988252639770508,
          15.645768165588379,
          25.916244506835938,
          40.7479248046875,
          14.672207832336426,
          23.701692581176758,
          -45.76451110839844,
          -26.84161949157715,
          -11.103857040405273,
          -24.783491134643555,
          -0.39776068925857544,
          20.287559509277344,
          19.00783920288086,
          -22.986806869506836,
          -34.620235443115234
         ],
         "yaxis": "y"
        },
        {
         "customdata": [
          [
           "Company"
          ],
          [
           "Love Yourself"
          ],
          [
           "Stuck With U (With Ariana Grande)"
          ],
          [
           "Yummy"
          ],
          [
           "Sorry"
          ],
          [
           "Baby"
          ],
          [
           "Confident (Feat. Chance The Rapper)"
          ],
          [
           "Eenie Meenie"
          ],
          [
           "Never Say Never (feat. Jaden Smith)"
          ],
          [
           "Purpose"
          ],
          [
           "One Time"
          ],
          [
           "Love Me"
          ],
          [
           "Forever (Feat. Post Malone and Clever)"
          ],
          [
           "What Do You Mean?"
          ],
          [
           "As Long As You Love Me (feat. Big Sean)"
          ],
          [
           "Heartbreaker"
          ],
          [
           "E.T.A."
          ],
          [
           "All That Matters"
          ],
          [
           "Come Around Me"
          ],
          [
           "Baby (feat. Ludacris)"
          ],
          [
           "One Less Lonely Girl"
          ],
          [
           "Habitual"
          ],
          [
           "All Around Me"
          ],
          [
           "HOLY (Ft. Chance The Rapper)"
          ],
          [
           "Intentions (Ft. Quavo)"
          ]
         ],
         "hovertemplate": "artista=Justin Bieber<br>x=%{x}<br>y=%{y}<br>musica=%{customdata[0]}<extra></extra>",
         "legendgroup": "Justin Bieber",
         "marker": {
          "color": "#19d3f3",
          "opacity": 0.7,
          "symbol": "circle"
         },
         "mode": "markers",
         "name": "Justin Bieber",
         "showlegend": true,
         "type": "scattergl",
         "x": [
          -2.3594114780426025,
          -30.436168670654297,
          1.1750130653381348,
          47.87083435058594,
          43.57054901123047,
          -8.995030403137207,
          52.33607864379883,
          -14.621809005737305,
          38.02668762207031,
          17.27639389038086,
          -19.71356773376465,
          37.691009521484375,
          -24.89599609375,
          54.99314880371094,
          42.94647979736328,
          -8.134258270263672,
          -1.0196244716644287,
          49.68470001220703,
          -5.715931415557861,
          -8.99514389038086,
          -20.53948402404785,
          -2.3298561573028564,
          49.17699432373047,
          13.714421272277832,
          51.80269241333008
         ],
         "xaxis": "x",
         "y": [
          49.23930358886719,
          -5.502194404602051,
          -59.291648864746094,
          35.15393829345703,
          6.511938571929932,
          -57.93028259277344,
          -12.38865852355957,
          -14.756872177124023,
          8.564897537231445,
          -17.18205451965332,
          -37.44147491455078,
          -22.70313835144043,
          -1.734758973121643,
          10.567961692810059,
          -24.665769577026367,
          -30.9574031829834,
          11.9393310546875,
          39.715579986572266,
          -8.804372787475586,
          -57.93229675292969,
          -38.00957107543945,
          55.18012619018555,
          38.90736770629883,
          4.105055809020996,
          -37.786277770996094
         ],
         "yaxis": "y"
        },
        {
         "customdata": [
          [
           "Suit & Tie (Feat. Jay Z)"
          ],
          [
           "Like I Love You (feat. Clipse)"
          ],
          [
           "Perfect For Me"
          ],
          [
           "Take Back The Night"
          ],
          [
           "4 Minutes"
          ],
          [
           "Pusher Love Girl"
          ],
          [
           "Filthy"
          ],
          [
           "Rock Your Body"
          ],
          [
           "Señorita"
          ],
          [
           "(And She Said) Take Me Now (feat. Janet Jackson)"
          ],
          [
           "True Colors (Feat. Anna Kendrick)"
          ],
          [
           "Summer Love"
          ],
          [
           "Love Never Felt So Good"
          ],
          [
           "Not A Bad Thing"
          ],
          [
           "Don't Slack (With Anderson .Paak)"
          ],
          [
           "The Other Side (With SZA)"
          ],
          [
           "My Love (feat. T.I.)"
          ],
          [
           "TKO"
          ],
          [
           "SexyBack"
          ],
          [
           "Cry Me A River"
          ],
          [
           "Say Something (feat. Chris Stapleton)"
          ],
          [
           "What Goes Around.../...Comes Around (Interlude)"
          ],
          [
           "Can't Stop The Feeling"
          ],
          [
           "Mirrors"
          ],
          [
           "Apologize"
          ]
         ],
         "hovertemplate": "artista=Justin Timberlake<br>x=%{x}<br>y=%{y}<br>musica=%{customdata[0]}<extra></extra>",
         "legendgroup": "Justin Timberlake",
         "marker": {
          "color": "#FF6692",
          "opacity": 0.7,
          "symbol": "circle"
         },
         "mode": "markers",
         "name": "Justin Timberlake",
         "showlegend": true,
         "type": "scattergl",
         "x": [
          -26.334754943847656,
          -10.807753562927246,
          7.865734577178955,
          1.0991328954696655,
          27.167804718017578,
          15.000906944274902,
          2.6030385494232178,
          40.51106643676758,
          68.19701385498047,
          24.87630844116211,
          -22.309396743774414,
          12.811552047729492,
          14.400009155273438,
          13.173489570617676,
          12.062836647033691,
          3.139092445373535,
          15.807439804077148,
          -32.011470794677734,
          -3.8260273933410645,
          -4.604262828826904,
          55.078189849853516,
          32.3812255859375,
          41.36152648925781,
          25.32229232788086,
          43.22425842285156
         ],
         "xaxis": "x",
         "y": [
          8.286665916442871,
          -34.22868347167969,
          -21.452064514160156,
          79.61007690429688,
          14.523173332214355,
          -42.94851303100586,
          -26.147260665893555,
          16.229267120361328,
          22.39883804321289,
          -4.063493728637695,
          -44.96464157104492,
          -59.45174789428711,
          6.152170181274414,
          -59.33026885986328,
          4.227004051208496,
          -7.322272300720215,
          -36.70649719238281,
          -41.628456115722656,
          8.281562805175781,
          -32.470458984375,
          -15.985572814941406,
          50.651222229003906,
          18.202054977416992,
          -37.848358154296875,
          6.045887470245361
         ],
         "yaxis": "y"
        },
        {
         "customdata": [
          [
           "Champagne Problems"
          ],
          [
           "Hot N' Cold"
          ],
          [
           "I Kissed A Girl"
          ],
          [
           "Teenage Dream"
          ],
          [
           "E.T. (feat. Kanye West)"
          ],
          [
           "Cry About It Later"
          ],
          [
           "The One That Got Away"
          ],
          [
           "Smile"
          ],
          [
           "Firework"
          ],
          [
           "Dark Horse (Feat. Juicy J)"
          ],
          [
           "Roar"
          ],
          [
           "California Gurls (feat. Snoop Dogg)"
          ],
          [
           "What Makes a Woman"
          ],
          [
           "Daisies"
          ],
          [
           "Last Friday Night (T.G.I.F.)"
          ],
          [
           "Birthday"
          ],
          [
           "Tucked"
          ],
          [
           "Only Love"
          ],
          [
           "Thinking Of You"
          ],
          [
           "Resilient"
          ],
          [
           "Part Of Me"
          ],
          [
           "Unconditionally"
          ],
          [
           "365 (With Zedd)"
          ],
          [
           "Not The End Of The World"
          ],
          [
           "Never Really Over"
          ]
         ],
         "hovertemplate": "artista=Katy Perry<br>x=%{x}<br>y=%{y}<br>musica=%{customdata[0]}<extra></extra>",
         "legendgroup": "Katy Perry",
         "marker": {
          "color": "#B6E880",
          "opacity": 0.7,
          "symbol": "circle"
         },
         "mode": "markers",
         "name": "Katy Perry",
         "showlegend": true,
         "type": "scattergl",
         "x": [
          -20.432016372680664,
          8.23379898071289,
          -42.15475082397461,
          -57.70844268798828,
          9.761433601379395,
          -5.513046741485596,
          12.006529808044434,
          -6.903603553771973,
          3.2093985080718994,
          11.587647438049316,
          43.005088806152344,
          -15.589374542236328,
          -36.71316909790039,
          -42.7791748046875,
          -16.313547134399414,
          8.730039596557617,
          94.7446517944336,
          0.5671104788780212,
          -5.413339614868164,
          -21.42995262145996,
          -14.338531494140625,
          -12.614424705505371,
          11.159073829650879,
          95.63240051269531,
          -17.065704345703125
         ],
         "xaxis": "x",
         "y": [
          48.47624969482422,
          -18.661121368408203,
          -28.130136489868164,
          -28.73134422302246,
          -8.225858688354492,
          -34.36406326293945,
          13.695293426513672,
          -49.3430061340332,
          -5.2325029373168945,
          -22.797033309936523,
          -49.00545120239258,
          33.24986267089844,
          -1.6649720668792725,
          16.403343200683594,
          40.450233459472656,
          -7.97660493850708,
          7.5792717933654785,
          16.978479385375977,
          14.153864860534668,
          2.178450107574463,
          9.483567237854004,
          -36.48588562011719,
          11.69640064239502,
          6.197680473327637,
          60.25832748413086
         ],
         "yaxis": "y"
        },
        {
         "customdata": [
          [
           "Free Woman"
          ],
          [
           "I'll Never Love Again"
          ],
          [
           "Always Remember Us This Way"
          ],
          [
           "Fun Tonight"
          ],
          [
           "Yoü And I"
          ],
          [
           "Plastic Doll"
          ],
          [
           "Paparazzi"
          ],
          [
           "Replay"
          ],
          [
           "Chromatica I"
          ],
          [
           "Enigma"
          ],
          [
           "Telephone (feat. Beyoncé)"
          ],
          [
           "Shallow (With Bradley Cooper)"
          ],
          [
           "911"
          ],
          [
           "1000 Doves"
          ],
          [
           "Stupid Love"
          ],
          [
           "Poker Face"
          ],
          [
           "Bad Romance"
          ],
          [
           "Alejandro"
          ],
          [
           "Born This Way"
          ],
          [
           "Sour Candy (with Blackpink)"
          ],
          [
           "Million Reasons"
          ],
          [
           "Sine From Above (with Elton John)"
          ],
          [
           "Alice"
          ],
          [
           "Rain On Me (With Ariana Grande)"
          ],
          [
           "Babylon"
          ]
         ],
         "hovertemplate": "artista=Lady Gaga<br>x=%{x}<br>y=%{y}<br>musica=%{customdata[0]}<extra></extra>",
         "legendgroup": "Lady Gaga",
         "marker": {
          "color": "#FF97FF",
          "opacity": 0.7,
          "symbol": "circle"
         },
         "mode": "markers",
         "name": "Lady Gaga",
         "showlegend": true,
         "type": "scattergl",
         "x": [
          33.402164459228516,
          22.043376922607422,
          22.364585876464844,
          46.17677307128906,
          -37.19829559326172,
          80.70558166503906,
          6.773382663726807,
          -33.380096435546875,
          -87.32231903076172,
          6.817575931549072,
          73.7688217163086,
          -26.549327850341797,
          -2.746737003326416,
          10.37160873413086,
          52.07646942138672,
          49.92472457885742,
          52.21018600463867,
          11.95169734954834,
          -39.8808479309082,
          47.83097457885742,
          -6.041767120361328,
          -25.38787078857422,
          66.46743774414062,
          -47.564083099365234,
          16.110063552856445
         ],
         "xaxis": "x",
         "y": [
          9.93478775024414,
          5.837191581726074,
          20.892662048339844,
          -50.88524627685547,
          6.555060386657715,
          -10.864025115966797,
          8.296167373657227,
          -13.504145622253418,
          -12.53282356262207,
          7.8230156898498535,
          2.2168354988098145,
          27.154067993164062,
          26.716150283813477,
          -1.784231424331665,
          -53.126216888427734,
          -56.49543380737305,
          -54.65300369262695,
          -79.35962677001953,
          39.909584045410156,
          38.2104606628418,
          -13.08508014678955,
          -6.174932956695557,
          24.81987762451172,
          9.27978229522705,
          -44.3994255065918
         ],
         "yaxis": "y"
        },
        {
         "customdata": [
          [
           "Summertime Sadness"
          ],
          [
           "Carmen"
          ],
          [
           "Hope is a dangerous thing for a woman like me to have - but I have it"
          ],
          [
           "Born To Die"
          ],
          [
           "Video Games"
          ],
          [
           "Happiness Is a Butterfly"
          ],
          [
           "Young And Beautiful"
          ],
          [
           "Blue Jeans"
          ],
          [
           "LA Who Am I to Love You?"
          ],
          [
           "Norman Fucking Rockwell"
          ],
          [
           "Lust For Life (Feat. The Weeknd)"
          ],
          [
           "Fuck It I Love You"
          ],
          [
           "Doin' Time"
          ],
          [
           "Cinnamon Girl"
          ],
          [
           "Cherry"
          ],
          [
           "West Coast"
          ],
          [
           "Love"
          ],
          [
           "Love Song"
          ],
          [
           "Mariners Apartment Complex"
          ],
          [
           "Ride"
          ],
          [
           "The Land of 1000 Fires"
          ],
          [
           "13 Beaches"
          ],
          [
           "Ride (Monologue)"
          ],
          [
           "Dark Paradise"
          ],
          [
           "Ultraviolence"
          ]
         ],
         "hovertemplate": "artista=Lana Del Rey<br>x=%{x}<br>y=%{y}<br>musica=%{customdata[0]}<extra></extra>",
         "legendgroup": "Lana Del Rey",
         "marker": {
          "color": "#FECB52",
          "opacity": 0.7,
          "symbol": "circle"
         },
         "mode": "markers",
         "name": "Lana Del Rey",
         "showlegend": true,
         "type": "scattergl",
         "x": [
          42.42788314819336,
          7.083209991455078,
          -35.66965866088867,
          -56.8646240234375,
          -4.146712779998779,
          41.50838088989258,
          35.68305969238281,
          -15.793524742126465,
          -35.09661865234375,
          3.4972121715545654,
          8.676458358764648,
          -32.60665512084961,
          -22.72486114501953,
          66.640625,
          -16.605823516845703,
          26.653682708740234,
          67.58604431152344,
          -15.184557914733887,
          12.902632713317871,
          -48.63467788696289,
          -21.235694885253906,
          -34.76398849487305,
          -48.63575744628906,
          62.73375701904297,
          -48.80898666381836
         ],
         "xaxis": "x",
         "y": [
          -47.45686721801758,
          49.25297546386719,
          -0.9821758270263672,
          -25.977968215942383,
          0.2110215574502945,
          16.727720260620117,
          -22.302734375,
          -42.898345947265625,
          -6.457139492034912,
          -7.423658847808838,
          32.02375793457031,
          -14.707067489624023,
          24.723215103149414,
          24.099763870239258,
          -20.545673370361328,
          23.565139770507812,
          23.678428649902344,
          19.214733123779297,
          -21.70635223388672,
          -56.16164016723633,
          16.497169494628906,
          -7.107703685760498,
          -56.160057067871094,
          -37.889198303222656,
          32.75804138183594
         ],
         "yaxis": "y"
        },
        {
         "customdata": [
          [
           "One"
          ],
          [
           "Someone You Loved"
          ],
          [
           "Before You Go"
          ],
          [
           "Bruises"
          ],
          [
           "Hold Me While You Wait"
          ],
          [
           "Grace"
          ],
          [
           "Forever"
          ],
          [
           "Maybe"
          ],
          [
           "Don't Get Me Wrong"
          ]
         ],
         "hovertemplate": "artista=Lewis Capaldi<br>x=%{x}<br>y=%{y}<br>musica=%{customdata[0]}<extra></extra>",
         "legendgroup": "Lewis Capaldi",
         "marker": {
          "color": "#636efa",
          "opacity": 0.7,
          "symbol": "circle"
         },
         "mode": "markers",
         "name": "Lewis Capaldi",
         "showlegend": true,
         "type": "scattergl",
         "x": [
          28.699796676635742,
          0.2173732966184616,
          -18.306211471557617,
          28.404558181762695,
          17.24026107788086,
          18.886240005493164,
          -16.701234817504883,
          -27.394153594970703,
          -45.03152847290039
         ],
         "xaxis": "x",
         "y": [
          -21.859220504760742,
          -11.125993728637695,
          -18.569311141967773,
          -14.841706275939941,
          -37.712650299072266,
          16.278810501098633,
          59.54060745239258,
          21.710742950439453,
          -6.391058921813965
         ],
         "yaxis": "y"
        },
        {
         "customdata": [
          [
           "Somewhere I Belong"
          ],
          [
           "Leave Out All The Rest"
          ],
          [
           "Crawling"
          ],
          [
           "Numb"
          ],
          [
           "In The End"
          ],
          [
           "Burn It Down"
          ],
          [
           "One More Light"
          ],
          [
           "In The End (demo Lpu 11)"
          ],
          [
           "Castle Of Glass"
          ],
          [
           "What I've Done"
          ],
          [
           "Faint"
          ],
          [
           "Papercut"
          ],
          [
           "Breaking The Habit"
          ],
          [
           "Waiting For The End"
          ],
          [
           "From The Inside"
          ],
          [
           "New Divide"
          ],
          [
           "One Step Closer"
          ],
          [
           "Heavy (feat. Kiiara)"
          ],
          [
           "A Place For My Head"
          ],
          [
           "Lying From You"
          ],
          [
           "Iridescent"
          ],
          [
           "Points Of Authority"
          ],
          [
           "Lost In The Echo"
          ],
          [
           "Shadow Of The Day"
          ],
          [
           "Talking To Myself"
          ]
         ],
         "hovertemplate": "artista=Linkin Park<br>x=%{x}<br>y=%{y}<br>musica=%{customdata[0]}<extra></extra>",
         "legendgroup": "Linkin Park",
         "marker": {
          "color": "#EF553B",
          "opacity": 0.7,
          "symbol": "circle"
         },
         "mode": "markers",
         "name": "Linkin Park",
         "showlegend": true,
         "type": "scattergl",
         "x": [
          3.118347644805908,
          -0.20748698711395264,
          5.293370246887207,
          33.451602935791016,
          -47.89248275756836,
          -6.060640811920166,
          -22.841188430786133,
          -47.89147186279297,
          -13.14321231842041,
          -71.66773986816406,
          -17.948646545410156,
          7.243199825286865,
          14.322881698608398,
          -16.19691276550293,
          -23.83602523803711,
          -39.963924407958984,
          -25.302465438842773,
          -49.2316780090332,
          18.06477928161621,
          -20.651376724243164,
          -69.01576232910156,
          4.908108711242676,
          -62.407066345214844,
          -35.25934982299805,
          22.228639602661133
         ],
         "xaxis": "x",
         "y": [
          25.38890838623047,
          -12.046154022216797,
          24.778728485107422,
          1.5728625059127808,
          45.68497085571289,
          23.88512420654297,
          48.07633590698242,
          45.68436050415039,
          -48.05119705200195,
          -10.381792068481445,
          2.8343567848205566,
          20.979909896850586,
          12.785537719726562,
          11.693188667297363,
          8.819965362548828,
          -18.2457332611084,
          71.63710021972656,
          -5.701868534088135,
          14.729363441467285,
          4.782704830169678,
          27.13676643371582,
          -26.13003921508789,
          21.57505226135254,
          44.73542785644531,
          28.657197952270508
         ],
         "yaxis": "y"
        },
        {
         "customdata": [
          [
           "Eu Te Quero (Com Zeeba)"
          ]
         ],
         "hovertemplate": "artista=Manu Gavassi<br>x=%{x}<br>y=%{y}<br>musica=%{customdata[0]}<extra></extra>",
         "legendgroup": "Manu Gavassi",
         "marker": {
          "color": "#00cc96",
          "opacity": 0.7,
          "symbol": "circle"
         },
         "mode": "markers",
         "name": "Manu Gavassi",
         "showlegend": true,
         "type": "scattergl",
         "x": [
          52.32115936279297
         ],
         "xaxis": "x",
         "y": [
          -36.71786880493164
         ],
         "yaxis": "y"
        },
        {
         "customdata": [
          [
           "This Love"
          ],
          [
           "Moves Like Jagger (feat. Christina Aguilera)"
          ],
          [
           "Nobody's Love"
          ],
          [
           "Animals"
          ],
          [
           "Payphone (Feat. Wiz Khalifa)"
          ],
          [
           "Maps"
          ],
          [
           "Don't Wanna Know (Feat. Kendrick Lamar)"
          ],
          [
           "Girls Like You"
          ],
          [
           "Cold (Feat. Future)"
          ],
          [
           "Love Somebody"
          ],
          [
           "What Lovers Do (feat. SZA)"
          ],
          [
           "Daylight"
          ],
          [
           "Lost Stars"
          ],
          [
           "Won't Go Home Without You"
          ],
          [
           "It Was Always You"
          ],
          [
           "Payphone (Non-Rap Version)"
          ],
          [
           "Best 4 U"
          ],
          [
           "Harder To Breathe"
          ],
          [
           "She Will Be Loved"
          ],
          [
           "One More Night"
          ],
          [
           "Sugar"
          ],
          [
           "Sunday Morning"
          ],
          [
           "Girls Like You (Feat. Cardi B)"
          ],
          [
           "Memories"
          ]
         ],
         "hovertemplate": "artista=Maroon 5<br>x=%{x}<br>y=%{y}<br>musica=%{customdata[0]}<extra></extra>",
         "legendgroup": "Maroon 5",
         "marker": {
          "color": "#ab63fa",
          "opacity": 0.7,
          "symbol": "circle"
         },
         "mode": "markers",
         "name": "Maroon 5",
         "showlegend": true,
         "type": "scattergl",
         "x": [
          6.2119059562683105,
          23.75250816345215,
          1.1376153230667114,
          18.864850997924805,
          -51.44750213623047,
          -14.270084381103516,
          46.327423095703125,
          45.859046936035156,
          33.851707458496094,
          35.860374450683594,
          40.26308059692383,
          6.508754253387451,
          -17.767972946166992,
          -6.626244068145752,
          -29.20757293701172,
          -51.44820022583008,
          46.229156494140625,
          -20.26567840576172,
          7.844749927520752,
          -11.98678970336914,
          14.071166038513184,
          -14.896258354187012,
          45.87742614746094,
          0.39330852031707764
         ],
         "xaxis": "x",
         "y": [
          51.703880310058594,
          -6.929018974304199,
          -0.30955594778060913,
          -1.6069800853729248,
          -48.06782531738281,
          -50.47397232055664,
          -12.240289688110352,
          38.086219787597656,
          -1.604722261428833,
          42.88878631591797,
          -21.823915481567383,
          11.126531600952148,
          39.871334075927734,
          -13.512350082397461,
          -11.799924850463867,
          -48.06836700439453,
          -45.909996032714844,
          -11.798921585083008,
          48.05101776123047,
          -41.139434814453125,
          -43.46399688720703,
          -1.2339918613433838,
          38.08637619018555,
          80.18694305419922
         ],
         "yaxis": "y"
        },
        {
         "customdata": [
          [
           "The Unforgiven"
          ],
          [
           "To Live Is To Die"
          ],
          [
           "Until It Sleeps"
          ],
          [
           "The Unforgiven Iii"
          ],
          [
           "Bleeding Me"
          ],
          [
           "Turn The Page"
          ],
          [
           "Of Wolf And Man"
          ],
          [
           "The Memory Remains"
          ],
          [
           "All Within My Hands"
          ],
          [
           "Fade To Black"
          ],
          [
           "Nothing Else Matters"
          ],
          [
           "The Call of Ktulu"
          ],
          [
           "For Whom The Bell Tolls"
          ],
          [
           "The Ecstasy Of Gold"
          ],
          [
           "Sad But True"
          ],
          [
           "Wherever I May Roam"
          ],
          [
           "The Unforgiven Ii"
          ],
          [
           "Whiskey In The Jar"
          ],
          [
           "One"
          ],
          [
           "Master Of Puppets"
          ],
          [
           "Enter Sandman"
          ],
          [
           "Creeping Death"
          ],
          [
           "Ride The Lightning"
          ],
          [
           "Fuel"
          ],
          [
           "Seek And Destroy"
          ]
         ],
         "hovertemplate": "artista=Metallica<br>x=%{x}<br>y=%{y}<br>musica=%{customdata[0]}<extra></extra>",
         "legendgroup": "Metallica",
         "marker": {
          "color": "#FFA15A",
          "opacity": 0.7,
          "symbol": "circle"
         },
         "mode": "markers",
         "name": "Metallica",
         "showlegend": true,
         "type": "scattergl",
         "x": [
          -71.99655151367188,
          30.77573585510254,
          14.06097412109375,
          -47.494197845458984,
          -0.9442315697669983,
          -7.699482440948486,
          5.430304050445557,
          49.61305236816406,
          23.36666488647461,
          5.9390411376953125,
          -48.157752990722656,
          -88.25816345214844,
          -33.923927307128906,
          -88.059326171875,
          18.71825408935547,
          29.50632095336914,
          -72.2411880493164,
          -29.541950225830078,
          1.013482689857483,
          62.1275749206543,
          8.735721588134766,
          -69.79959869384766,
          1.4191045761108398,
          44.939109802246094,
          -47.062408447265625
         ],
         "xaxis": "x",
         "y": [
          -10.484109878540039,
          42.31245803833008,
          3.93129301071167,
          34.05558395385742,
          23.723766326904297,
          11.802448272705078,
          65.16677856445312,
          33.5934944152832,
          29.513320922851562,
          24.044296264648438,
          17.785415649414062,
          -12.839325904846191,
          24.02613067626953,
          -11.957693099975586,
          -29.191654205322266,
          38.68600082397461,
          -10.571185111999512,
          25.744277954101562,
          22.56854248046875,
          -38.90359878540039,
          29.198204040527344,
          29.37342643737793,
          23.070749282836914,
          67.63697814941406,
          -15.19737434387207
         ],
         "yaxis": "y"
        },
        {
         "customdata": [
          [
           "Man In The Mirror"
          ],
          [
           "Bad"
          ],
          [
           "The Way You Make Me Feel"
          ],
          [
           "Remember The Time"
          ],
          [
           "Ben"
          ],
          [
           "Love Never Felt So Good (Feat. Justin Timberlake)"
          ],
          [
           "Thriller"
          ],
          [
           "Billie Jean"
          ],
          [
           "Beat It"
          ],
          [
           "We Are The World"
          ],
          [
           "Black Or White"
          ],
          [
           "Don't Stop 'Til You Get Enough"
          ],
          [
           "Earth Song"
          ],
          [
           "Human Nature"
          ],
          [
           "Smooth Criminal"
          ],
          [
           "They Don't Care About Us"
          ],
          [
           "You Are Not Alone"
          ],
          [
           "Music And Me"
          ],
          [
           "Happy"
          ],
          [
           "Heal The World"
          ],
          [
           "I'll Be There"
          ],
          [
           "One Day In Your Life"
          ],
          [
           "I Just Can't Stop Loving You (feat. Siedah Garrett)"
          ],
          [
           "The Girl Is Mine (feat. Paul Mccartney)"
          ],
          [
           "Will You Be There"
          ]
         ],
         "hovertemplate": "artista=Michael Jackson<br>x=%{x}<br>y=%{y}<br>musica=%{customdata[0]}<extra></extra>",
         "legendgroup": "Michael Jackson",
         "marker": {
          "color": "#19d3f3",
          "opacity": 0.7,
          "symbol": "circle"
         },
         "mode": "markers",
         "name": "Michael Jackson",
         "showlegend": true,
         "type": "scattergl",
         "x": [
          -23.879493713378906,
          33.59580612182617,
          -56.871498107910156,
          -3.8931477069854736,
          22.4717960357666,
          14.400075912475586,
          -11.456002235412598,
          7.560383319854736,
          34.817020416259766,
          -19.907583236694336,
          6.440486907958984,
          39.08320999145508,
          -53.191429138183594,
          -42.12875747680664,
          13.191866874694824,
          -52.25650405883789,
          15.835792541503906,
          -50.44150161743164,
          -26.382823944091797,
          -9.26102066040039,
          -16.613473892211914,
          -15.60588550567627,
          44.898197174072266,
          6.267003536224365,
          9.929818153381348
         ],
         "xaxis": "x",
         "y": [
          15.218071937561035,
          -5.714672565460205,
          -28.911500930786133,
          33.75697326660156,
          -7.814218044281006,
          6.151987552642822,
          15.327547073364258,
          44.288246154785156,
          8.945342063903809,
          46.5819091796875,
          -19.817134857177734,
          21.92865753173828,
          21.283849716186523,
          17.284345626831055,
          -21.021203994750977,
          20.355539321899414,
          -22.933815002441406,
          -13.041178703308105,
          -13.017061233520508,
          -42.83425521850586,
          -47.798343658447266,
          -43.235599517822266,
          20.883941650390625,
          55.97061538696289,
          0.6907126307487488
         ],
         "yaxis": "y"
        },
        {
         "customdata": [
          [
           "Slide Away"
          ],
          [
           "Mother's Daughter"
          ],
          [
           "Malibu"
          ],
          [
           "Party In The U.S.A."
          ],
          [
           "We Can't Stop"
          ],
          [
           "Nothing Breaks Like a Heart"
          ],
          [
           "When I Look At You"
          ],
          [
           "Wrecking Ball"
          ],
          [
           "The Climb"
          ],
          [
           "Heart Of Glass"
          ],
          [
           "Midnight Sky"
          ],
          [
           "Adore You"
          ],
          [
           "7 Things"
          ],
          [
           "Butterfly Fly Away"
          ],
          [
           "Can't Be Tamed"
          ],
          [
           "You'll Always Find Your Way Back Home"
          ],
          [
           "Bad Karma"
          ],
          [
           "Adore You (Cedric Gervais Remix)"
          ],
          [
           "(Happy Xmas) War Is Over (Ft. Mark Ronson, Sean Ono Lennon)"
          ],
          [
           "Butterfly Fly Away (extended Version)"
          ],
          [
           "Jolene"
          ],
          [
           "True Friend"
          ],
          [
           "Ordinary Girl"
          ],
          [
           "I'll Always Remember You"
          ],
          [
           "Who Owns My Heart"
          ]
         ],
         "hovertemplate": "artista=Miley Cyrus<br>x=%{x}<br>y=%{y}<br>musica=%{customdata[0]}<extra></extra>",
         "legendgroup": "Miley Cyrus",
         "marker": {
          "color": "#FF6692",
          "opacity": 0.7,
          "symbol": "circle"
         },
         "mode": "markers",
         "name": "Miley Cyrus",
         "showlegend": true,
         "type": "scattergl",
         "x": [
          5.292157173156738,
          -66.528564453125,
          -11.341099739074707,
          -32.45378112792969,
          -12.388972282409668,
          -23.744163513183594,
          -20.91101837158203,
          -7.6092939376831055,
          -10.20390796661377,
          0.9088931679725647,
          75.1230239868164,
          0.7250345349311829,
          -54.719295501708984,
          18.727313995361328,
          14.577818870544434,
          17.682369232177734,
          10.99140739440918,
          0.7013965845108032,
          17.224485397338867,
          18.748077392578125,
          -30.208162307739258,
          5.266602039337158,
          0.8637853264808655,
          -9.56466007232666,
          5.197066783905029
         ],
         "xaxis": "x",
         "y": [
          67.7428207397461,
          1.6523481607437134,
          1.5394763946533203,
          17.959684371948242,
          51.151161193847656,
          -5.816577434539795,
          0.8129704594612122,
          -20.58977508544922,
          38.48289489746094,
          16.498760223388672,
          -12.263218879699707,
          -47.23172378540039,
          -30.139915466308594,
          60.82387924194336,
          -12.987040519714355,
          -2.200068235397339,
          -78.81761932373047,
          -47.20437240600586,
          -8.31389045715332,
          60.8043327331543,
          -35.1810188293457,
          -15.083499908447266,
          31.255781173706055,
          46.740333557128906,
          -35.73521423339844
         ],
         "yaxis": "y"
        },
        {
         "customdata": [
          [
           "Plateau"
          ],
          [
           "The Man Who Sold The World"
          ],
          [
           "Lithium"
          ],
          [
           "About A Girl"
          ],
          [
           "Something In The Way"
          ],
          [
           "Heart Shaped Box"
          ],
          [
           "Jesus Doesn't Want Me For A Sunbeam"
          ],
          [
           "Polly"
          ],
          [
           "In Bloom"
          ],
          [
           "Where Did You Sleep Last Night?"
          ],
          [
           "All Apologies"
          ],
          [
           "Rape Me"
          ],
          [
           "Serve The Servants"
          ],
          [
           "You Know You're Right"
          ],
          [
           "Pennyroyal Tea"
          ],
          [
           "Come As You Are"
          ],
          [
           "Sliver"
          ],
          [
           "Do Re Mi"
          ],
          [
           "Love Buzz"
          ],
          [
           "Drain You"
          ],
          [
           "On A Plain"
          ],
          [
           "Aero Zeppelin"
          ],
          [
           "Dumb"
          ],
          [
           "Breed"
          ],
          [
           "Smells Like Teen Spirit"
          ]
         ],
         "hovertemplate": "artista=Nirvana<br>x=%{x}<br>y=%{y}<br>musica=%{customdata[0]}<extra></extra>",
         "legendgroup": "Nirvana",
         "marker": {
          "color": "#B6E880",
          "opacity": 0.7,
          "symbol": "circle"
         },
         "mode": "markers",
         "name": "Nirvana",
         "showlegend": true,
         "type": "scattergl",
         "x": [
          -41.257999420166016,
          -35.48798370361328,
          45.48503494262695,
          54.441619873046875,
          -21.684207916259766,
          16.42408561706543,
          -3.929172992706299,
          -15.727465629577637,
          -47.86465835571289,
          -4.066460132598877,
          -24.266685485839844,
          44.202842712402344,
          53.178077697753906,
          -48.090030670166016,
          -50.71426773071289,
          45.261024475097656,
          31.593229293823242,
          -43.44457244873047,
          21.263357162475586,
          2.120151996612549,
          -27.225160598754883,
          -7.273223876953125,
          -48.392486572265625,
          44.36806106567383,
          -38.41773986816406
         ],
         "xaxis": "x",
         "y": [
          1.5179615020751953,
          31.502275466918945,
          29.45205307006836,
          15.851832389831543,
          33.50407409667969,
          22.23539161682129,
          -31.828445434570312,
          4.359696865081787,
          30.424379348754883,
          27.185972213745117,
          42.88911437988281,
          -3.602184534072876,
          -12.733345985412598,
          -15.255179405212402,
          -12.193466186523438,
          -24.821382522583008,
          41.000919342041016,
          15.036758422851562,
          -31.35803985595703,
          -7.572180271148682,
          -2.1451666355133057,
          29.271448135375977,
          -4.553543567657471,
          -35.796470642089844,
          66.65010070800781
         ],
         "yaxis": "y"
        },
        {
         "customdata": [
          [
           "Somebody"
          ],
          [
           "Paradise"
          ],
          [
           "Beautiful life"
          ],
          [
           "Dana Dana"
          ],
          [
           "Better"
          ],
          [
           "All Day"
          ],
          [
           "Come Together"
          ],
          [
           "Feel It Now"
          ],
          [
           "Who Would Think That Love"
          ],
          [
           "Summer in the City"
          ],
          [
           "Na na Na"
          ],
          [
           "The Weekend's Here"
          ],
          [
           "Chained Up"
          ],
          [
           "Paraná"
          ],
          [
           "By My Side"
          ]
         ],
         "hovertemplate": "artista=Now United<br>x=%{x}<br>y=%{y}<br>musica=%{customdata[0]}<extra></extra>",
         "legendgroup": "Now United",
         "marker": {
          "color": "#FF97FF",
          "opacity": 0.7,
          "symbol": "circle"
         },
         "mode": "markers",
         "name": "Now United",
         "showlegend": true,
         "type": "scattergl",
         "x": [
          9.702136039733887,
          41.42103958129883,
          77.78947448730469,
          16.361101150512695,
          68.56526947021484,
          75.54139709472656,
          48.179954528808594,
          22.46539878845215,
          -12.23725700378418,
          32.873512268066406,
          94.4164047241211,
          -6.391322612762451,
          49.20158767700195,
          74.20983123779297,
          48.766990661621094
         ],
         "xaxis": "x",
         "y": [
          -46.3243522644043,
          42.28247833251953,
          -12.32840633392334,
          34.93641662597656,
          21.28965950012207,
          2.3943402767181396,
          -50.21658706665039,
          -27.14329719543457,
          57.35762405395508,
          3.8003621101379395,
          7.986534595489502,
          57.68439483642578,
          -55.29403305053711,
          1.5177608728408813,
          -49.04671859741211
         ],
         "yaxis": "y"
        },
        {
         "customdata": [
          [
           "Songbird"
          ],
          [
           "(As Long As They've Got) Cigarettes In Hell"
          ],
          [
           "Roll With It"
          ],
          [
           "Some Might Say"
          ],
          [
           "Rock'n'Roll Star"
          ],
          [
           "Go Let It Out"
          ],
          [
           "Don't Stop..."
          ],
          [
           "Acquiesce"
          ],
          [
           "Cast No Shadow"
          ],
          [
           "(Get Off Your) High Horse Lady"
          ],
          [
           "(It's Good) To Be Free"
          ],
          [
           "Cigarettes & Alcohol"
          ],
          [
           "Little By Little"
          ],
          [
           "Let There Be Love"
          ],
          [
           "Whatever"
          ],
          [
           "Supersonic"
          ],
          [
           "Champagne Supernova"
          ],
          [
           "Stop Crying Your Heart Out"
          ],
          [
           "Don't Look Back In Anger"
          ],
          [
           "Slide Away"
          ],
          [
           "Wonderwall"
          ],
          [
           "Don't Go Away"
          ],
          [
           "Live Forever"
          ],
          [
           "All Around The World"
          ],
          [
           "Stand By Me"
          ]
         ],
         "hovertemplate": "artista=Oasis<br>x=%{x}<br>y=%{y}<br>musica=%{customdata[0]}<extra></extra>",
         "legendgroup": "Oasis",
         "marker": {
          "color": "#FECB52",
          "opacity": 0.7,
          "symbol": "circle"
         },
         "mode": "markers",
         "name": "Oasis",
         "showlegend": true,
         "type": "scattergl",
         "x": [
          10.010533332824707,
          44.249874114990234,
          25.191835403442383,
          -42.145320892333984,
          -34.97464370727539,
          -68.352783203125,
          39.65364456176758,
          -10.661458015441895,
          -45.748104095458984,
          33.114620208740234,
          28.701671600341797,
          -21.014238357543945,
          -20.57662582397461,
          -10.83596420288086,
          -37.5678596496582,
          8.256562232971191,
          -28.780105590820312,
          8.059579849243164,
          -14.997997283935547,
          35.01034927368164,
          12.26193618774414,
          7.050678730010986,
          3.812417984008789,
          94.61121368408203,
          29.495189666748047
         ],
         "xaxis": "x",
         "y": [
          50.110591888427734,
          -24.96321678161621,
          -7.056947708129883,
          1.4765716791152954,
          8.498623847961426,
          27.478294372558594,
          22.50080680847168,
          43.89729690551758,
          32.573570251464844,
          -41.072784423828125,
          3.254033327102661,
          -6.723816394805908,
          -25.422103881835938,
          22.522653579711914,
          -31.05687141418457,
          52.60807418823242,
          48.41862869262695,
          -47.91513442993164,
          -10.840242385864258,
          42.5025520324707,
          11.219805717468262,
          -44.95421600341797,
          36.53559112548828,
          5.584011077880859,
          -73.89081573486328
         ],
         "yaxis": "y"
        },
        {
         "customdata": [
          [
           "Moments"
          ],
          [
           "Walking in the Wind"
          ],
          [
           "Stockholm Syndrome"
          ],
          [
           "No Control"
          ],
          [
           "Over Again"
          ],
          [
           "End of The Day"
          ],
          [
           "One Thing"
          ],
          [
           "Steal My Girl"
          ],
          [
           "Midnight Memories"
          ],
          [
           "A.M"
          ],
          [
           "Best Song Ever"
          ],
          [
           "Olivia"
          ],
          [
           "Perfect"
          ],
          [
           "If I Could Fly"
          ],
          [
           "Diana"
          ],
          [
           "History"
          ],
          [
           "Little Things"
          ],
          [
           "You & I"
          ],
          [
           "Drag Me Down"
          ],
          [
           "18"
          ],
          [
           "What Makes You Beautiful"
          ],
          [
           "Story of My Life"
          ],
          [
           "Night Changes"
          ],
          [
           "Fool's Gold"
          ],
          [
           "Infinity"
          ]
         ],
         "hovertemplate": "artista=One Direction<br>x=%{x}<br>y=%{y}<br>musica=%{customdata[0]}<extra></extra>",
         "legendgroup": "One Direction",
         "marker": {
          "color": "#636efa",
          "opacity": 0.7,
          "symbol": "circle"
         },
         "mode": "markers",
         "name": "One Direction",
         "showlegend": true,
         "type": "scattergl",
         "x": [
          18.367483139038086,
          -29.177396774291992,
          4.204498767852783,
          30.753931045532227,
          -5.546589374542236,
          -59.019004821777344,
          45.352230072021484,
          95.28081512451172,
          47.154579162597656,
          -11.016718864440918,
          20.18767738342285,
          -27.446828842163086,
          5.53511905670166,
          -2.8912928104400635,
          51.23126983642578,
          -13.942231178283691,
          -16.035919189453125,
          -6.889267444610596,
          -59.6016960144043,
          -17.320026397705078,
          92.7091293334961,
          -56.53602981567383,
          3.9011037349700928,
          -3.4362337589263916,
          -13.506807327270508
         ],
         "xaxis": "x",
         "y": [
          7.504279136657715,
          47.89070129394531,
          -28.281665802001953,
          -13.825196266174316,
          52.17451477050781,
          -11.409953117370605,
          -48.38460922241211,
          7.2065558433532715,
          -57.573822021484375,
          46.31360626220703,
          41.39040756225586,
          -29.005023956298828,
          -20.454402923583984,
          -17.224817276000977,
          -50.071109771728516,
          53.43715286254883,
          -19.55319595336914,
          51.26411437988281,
          -1.6184645891189575,
          55.088802337646484,
          7.073486804962158,
          4.184517860412598,
          48.416343688964844,
          -16.534372329711914,
          -51.49919128417969
         ],
         "yaxis": "y"
        },
        {
         "customdata": [
          [
           "Somebody To Love"
          ],
          [
           "Marchin' On"
          ],
          [
           "Wanted"
          ],
          [
           "Start Again (Feat. Logic)"
          ],
          [
           "Kids"
          ],
          [
           "Feel Again"
          ],
          [
           "Something I Need"
          ],
          [
           "Human"
          ],
          [
           "Wherever I Go"
          ],
          [
           "All The Right Moves"
          ],
          [
           "Love Runs Out"
          ],
          [
           "Stop and Stare"
          ],
          [
           "Let's Hurt Tonight"
          ],
          [
           "Didn't I"
          ],
          [
           "Better Days"
          ],
          [
           "Rescue Me"
          ],
          [
           "Say (All I Need)"
          ],
          [
           "If I Lose Myself"
          ],
          [
           "Good Life"
          ],
          [
           "Wild Life"
          ],
          [
           "I Lived"
          ],
          [
           "Secrets"
          ],
          [
           "Apologize"
          ],
          [
           "Counting Stars"
          ],
          [
           "Come Home (Feat. Sara Bareilles)"
          ]
         ],
         "hovertemplate": "artista=OneRepublic<br>x=%{x}<br>y=%{y}<br>musica=%{customdata[0]}<extra></extra>",
         "legendgroup": "OneRepublic",
         "marker": {
          "color": "#EF553B",
          "opacity": 0.7,
          "symbol": "circle"
         },
         "mode": "markers",
         "name": "OneRepublic",
         "showlegend": true,
         "type": "scattergl",
         "x": [
          31.585716247558594,
          -12.178481101989746,
          29.964067459106445,
          43.01992416381836,
          -16.053367614746094,
          13.436441421508789,
          20.6975154876709,
          26.299259185791016,
          -57.776676177978516,
          -11.700798988342285,
          7.237234592437744,
          19.688722610473633,
          43.75138473510742,
          -16.00979232788086,
          -27.117979049682617,
          -10.402386665344238,
          52.48967361450195,
          24.635526657104492,
          27.994352340698242,
          21.81406593322754,
          47.72890090942383,
          -36.43070983886719,
          43.22281265258789,
          16.52311134338379,
          17.245960235595703
         ],
         "xaxis": "x",
         "y": [
          -30.896072387695312,
          46.20840072631836,
          8.595985412597656,
          -51.962642669677734,
          54.740272521972656,
          24.732479095458984,
          -21.88412857055664,
          -27.918115615844727,
          -32.57231140136719,
          44.012535095214844,
          6.986189365386963,
          -11.20633602142334,
          64.04790496826172,
          57.69894027709961,
          0.018934711813926697,
          -10.501667976379395,
          8.538260459899902,
          45.11967086791992,
          4.742042064666748,
          9.10336971282959,
          -52.73607635498047,
          -20.159753799438477,
          6.045277118682861,
          24.60929298400879,
          34.690093994140625
         ],
         "yaxis": "y"
        },
        {
         "customdata": [
          [
           "Flash Pose (Ft. Charli XCX)"
          ]
         ],
         "hovertemplate": "artista=Pabllo Vittar<br>x=%{x}<br>y=%{y}<br>musica=%{customdata[0]}<extra></extra>",
         "legendgroup": "Pabllo Vittar",
         "marker": {
          "color": "#00cc96",
          "opacity": 0.7,
          "symbol": "circle"
         },
         "mode": "markers",
         "name": "Pabllo Vittar",
         "showlegend": true,
         "type": "scattergl",
         "x": [
          40.52328872680664
         ],
         "xaxis": "x",
         "y": [
          33.998600006103516
         ],
         "yaxis": "y"
        },
        {
         "customdata": [
          [
           "Daughter"
          ],
          [
           "Dance of the Clairvoyants"
          ],
          [
           "Who Ever Said"
          ],
          [
           "Future Days"
          ],
          [
           "Given to Fly"
          ],
          [
           "Superblood Wolfmoon"
          ],
          [
           "Oceans"
          ],
          [
           "Elderly Woman Behind the Counter in a Small Town"
          ],
          [
           "Nothingman"
          ],
          [
           "Smile"
          ],
          [
           "Do The Evolution"
          ],
          [
           "Release"
          ],
          [
           "Black"
          ],
          [
           "Last Kiss"
          ],
          [
           "Alive"
          ],
          [
           "Jeremy"
          ],
          [
           "Just Breathe"
          ],
          [
           "I Am Mine"
          ],
          [
           "Once"
          ],
          [
           "Light Years"
          ],
          [
           "Yellow Ledbetter"
          ],
          [
           "Better Man"
          ],
          [
           "Soldier Of Love"
          ],
          [
           "Sirens"
          ],
          [
           "Even Flow"
          ]
         ],
         "hovertemplate": "artista=Pearl Jam<br>x=%{x}<br>y=%{y}<br>musica=%{customdata[0]}<extra></extra>",
         "legendgroup": "Pearl Jam",
         "marker": {
          "color": "#ab63fa",
          "opacity": 0.7,
          "symbol": "circle"
         },
         "mode": "markers",
         "name": "Pearl Jam",
         "showlegend": true,
         "type": "scattergl",
         "x": [
          -27.35468101501465,
          -19.165868759155273,
          -33.56973648071289,
          -46.60026550292969,
          -46.332847595214844,
          -22.792083740234375,
          43.42275619506836,
          -47.515045166015625,
          -44.92519760131836,
          22.081310272216797,
          49.834014892578125,
          44.95823669433594,
          -17.87211036682129,
          -23.186771392822266,
          44.5372428894043,
          -28.71860694885254,
          10.813611030578613,
          -26.316688537597656,
          47.264713287353516,
          1.2755634784698486,
          23.458274841308594,
          8.546696662902832,
          -10.920516014099121,
          -10.12644100189209,
          -46.71135711669922
         ],
         "xaxis": "x",
         "y": [
          -37.524471282958984,
          32.433319091796875,
          1.5046756267547607,
          16.541912078857422,
          32.508182525634766,
          -16.82955551147461,
          -56.6988639831543,
          15.641240119934082,
          34.29604721069336,
          2.6384665966033936,
          35.95481491088867,
          -56.37250518798828,
          23.86559295654297,
          -17.018217086791992,
          39.251708984375,
          26.05998420715332,
          -45.9007453918457,
          31.59258460998535,
          37.28648376464844,
          2.3215932846069336,
          5.168657302856445,
          51.517730712890625,
          6.339155673980713,
          19.90099334716797,
          31.662796020507812
         ],
         "yaxis": "y"
        },
        {
         "customdata": [
          [
           "True Love (Feat. Lily Allen)"
          ],
          [
           "Dear Mr. President (feat. Indigo Girls)"
          ],
          [
           "Walk Me Home"
          ],
          [
           "Don't Let Me Get Me"
          ],
          [
           "U + Ur Hand"
          ],
          [
           "Trouble"
          ],
          [
           "I Am Here"
          ],
          [
           "90 Days (Feat. Wrabel)"
          ],
          [
           "(Hey Why) Miss You Sometime"
          ],
          [
           "Are We All We Are"
          ],
          [
           "Just Give Me A Reason (Feat. Nate Ruess)"
          ],
          [
           "A Million Dreams"
          ],
          [
           "F**kin' Perfect"
          ],
          [
           "Try"
          ],
          [
           "Who Knew"
          ],
          [
           "What About Us"
          ],
          [
           "Please Don't Leave Me"
          ],
          [
           "So What"
          ],
          [
           "Beautiful Trauma"
          ],
          [
           "Funhouse"
          ],
          [
           "Just Like Fire"
          ],
          [
           "Sober"
          ],
          [
           "Raise Your Glass"
          ],
          [
           "Blow Me (One Last Kiss)"
          ],
          [
           "Just Like A Pill"
          ]
         ],
         "hovertemplate": "artista=Pink<br>x=%{x}<br>y=%{y}<br>musica=%{customdata[0]}<extra></extra>",
         "legendgroup": "Pink",
         "marker": {
          "color": "#FFA15A",
          "opacity": 0.7,
          "symbol": "circle"
         },
         "mode": "markers",
         "name": "Pink",
         "showlegend": true,
         "type": "scattergl",
         "x": [
          49.09192657470703,
          55.735164642333984,
          42.306175231933594,
          -26.6378231048584,
          10.930234909057617,
          -45.09322738647461,
          -61.580772399902344,
          9.357172966003418,
          15.578253746032715,
          -21.45804214477539,
          -10.590920448303223,
          -3.3414306640625,
          8.693428039550781,
          36.98844909667969,
          -35.60899353027344,
          -53.25010681152344,
          68.57725524902344,
          94.19444274902344,
          17.101470947265625,
          53.69731140136719,
          32.28122329711914,
          28.379831314086914,
          21.5411319732666,
          -45.29881286621094,
          -20.67337989807129
         ],
         "xaxis": "x",
         "y": [
          -52.73931884765625,
          10.020270347595215,
          65.06529235839844,
          -26.931264877319336,
          -78.77012634277344,
          22.034954071044922,
          25.499401092529297,
          -17.59993553161621,
          -41.83061218261719,
          47.183326721191406,
          52.09135818481445,
          40.427146911621094,
          -19.96799659729004,
          -67.00431060791016,
          32.650672912597656,
          21.353174209594727,
          -25.330936431884766,
          6.839809894561768,
          -37.26145935058594,
          16.48871421813965,
          29.281211853027344,
          4.1109771728515625,
          -57.20351028442383,
          -6.21685791015625,
          14.510323524475098
         ],
         "yaxis": "y"
        },
        {
         "customdata": [
          [
           "Another Brick In The Wall, Pt. 2"
          ],
          [
           "On The Turning Away"
          ],
          [
           "Echoes"
          ],
          [
           "Pigs (Three Different Ones)"
          ],
          [
           "Us And Them"
          ],
          [
           "Eclipse"
          ],
          [
           "Brain Damage"
          ],
          [
           "High Hopes"
          ],
          [
           "The Great Gig in the Sky"
          ],
          [
           "Coming Back To Life"
          ],
          [
           "Goodbye Blue Sky"
          ],
          [
           "Shine On You Crazy Diamond"
          ],
          [
           "In the Flesh?"
          ],
          [
           "Money"
          ],
          [
           "Breathe"
          ],
          [
           "Mother"
          ],
          [
           "Another Brick In The Wall, pt. 1"
          ],
          [
           "Hey You"
          ],
          [
           "Time"
          ],
          [
           "The Wall (complete)"
          ],
          [
           "Comfortably Numb"
          ],
          [
           "Wish You Were Here"
          ],
          [
           "Another Brick In The Wall"
          ],
          [
           "Speak to Me"
          ],
          [
           "Learning To Fly"
          ]
         ],
         "hovertemplate": "artista=Pink Floyd<br>x=%{x}<br>y=%{y}<br>musica=%{customdata[0]}<extra></extra>",
         "legendgroup": "Pink Floyd",
         "marker": {
          "color": "#19d3f3",
          "opacity": 0.7,
          "symbol": "circle"
         },
         "mode": "markers",
         "name": "Pink Floyd",
         "showlegend": true,
         "type": "scattergl",
         "x": [
          -13.301576614379883,
          -20.519851684570312,
          -21.549795150756836,
          63.449459075927734,
          -25.322132110595703,
          -45.71893310546875,
          -22.12836456298828,
          -19.99612045288086,
          -11.443476676940918,
          -31.484451293945312,
          -36.790775299072266,
          -3.639641284942627,
          -7.158958911895752,
          -32.368072509765625,
          -52.78120040893555,
          -12.000875473022461,
          -13.364253044128418,
          58.88477325439453,
          -52.66778564453125,
          -12.648771286010742,
          -7.308197021484375,
          52.21946334838867,
          -13.17475700378418,
          16.722797393798828,
          -20.62447166442871
         ],
         "xaxis": "x",
         "y": [
          -64.14156341552734,
          28.834400177001953,
          27.73688507080078,
          -38.50767517089844,
          32.99982452392578,
          -22.343128204345703,
          28.558921813964844,
          30.321916580200195,
          -6.561784267425537,
          35.75897979736328,
          57.022254943847656,
          4.028265476226807,
          9.206332206726074,
          22.911813735961914,
          10.303411483764648,
          -61.83208465576172,
          -63.77766418457031,
          -1.494381070137024,
          10.41331672668457,
          -62.855350494384766,
          9.603630065917969,
          7.975020885467529,
          -63.8892936706543,
          25.553390502929688,
          15.019989967346191
         ],
         "yaxis": "y"
        },
        {
         "customdata": [
          [
           "On the Road (feat. Meek Mill and Lil Baby)"
          ],
          [
           "Circles"
          ],
          [
           "Yours Truly, Austin Post"
          ],
          [
           "Big Lie"
          ],
          [
           "Sunflower (With Swae Lee)"
          ],
          [
           "I Fall Apart"
          ],
          [
           "Over Now"
          ],
          [
           "Congratulations"
          ],
          [
           "A Thousand Bad Times"
          ],
          [
           "Deja Vu (Feat. Justin Bieber)"
          ],
          [
           "Enemies (Feat. DaBaby)"
          ],
          [
           "Hollywood's Bleeding"
          ],
          [
           "Wow."
          ],
          [
           "White Iverson"
          ],
          [
           "Blame It On Me"
          ],
          [
           "Take What You Want (feat. Ozzy Osbourne and Travis Scott)"
          ],
          [
           "Goodbyes (Feat. Young Thug)"
          ],
          [
           "Rockstar (feat. 21 Savage)"
          ],
          [
           "Stay"
          ],
          [
           "Better Now"
          ],
          [
           "Go Flex"
          ],
          [
           "Die for Me (Feat. Future and Halsey)"
          ],
          [
           "Paranoid"
          ],
          [
           "Psycho (feat. Ty Dolla $ign)"
          ],
          [
           "Saint-Tropez"
          ]
         ],
         "hovertemplate": "artista=Post Malone<br>x=%{x}<br>y=%{y}<br>musica=%{customdata[0]}<extra></extra>",
         "legendgroup": "Post Malone",
         "marker": {
          "color": "#FF6692",
          "opacity": 0.7,
          "symbol": "circle"
         },
         "mode": "markers",
         "name": "Post Malone",
         "showlegend": true,
         "type": "scattergl",
         "x": [
          -30.331668853759766,
          28.73320960998535,
          -56.06949996948242,
          -7.162917613983154,
          42.75152587890625,
          39.13883972167969,
          47.00817108154297,
          48.21006393432617,
          18.79413414001465,
          -37.372318267822266,
          -30.672731399536133,
          -7.875583171844482,
          -35.320587158203125,
          -32.508602142333984,
          2.9271585941314697,
          8.831536293029785,
          -35.81438446044922,
          -34.28287887573242,
          -38.14330291748047,
          -6.4788360595703125,
          -31.811832427978516,
          -2.733912467956543,
          -41.44237518310547,
          -29.137636184692383,
          16.399614334106445
         ],
         "xaxis": "x",
         "y": [
          11.340987205505371,
          -48.42690658569336,
          4.759944915771484,
          -2.333385467529297,
          68.4557113647461,
          67.18154907226562,
          32.272945404052734,
          36.646976470947266,
          -15.164101600646973,
          -22.762174606323242,
          8.259933471679688,
          47.8365592956543,
          13.386589050292969,
          17.94329261779785,
          20.491622924804688,
          -46.60447692871094,
          57.88222885131836,
          14.460511207580566,
          -21.588298797607422,
          -24.06450653076172,
          15.842222213745117,
          -29.194005966186523,
          12.642974853515625,
          12.92615032196045,
          34.14057159423828
         ],
         "yaxis": "y"
        },
        {
         "customdata": [
          [
           "Love Of My Life"
          ],
          [
           "I Want To Break Free"
          ],
          [
           "We Are The Champions"
          ],
          [
           "The Show Must Go On"
          ],
          [
           "Somebody To Love"
          ],
          [
           "Another One Bites The Dust"
          ],
          [
           "A Kind Of Magic"
          ],
          [
           "Crazy Little Thing Called Love"
          ],
          [
           "Don't Stop Me Now"
          ],
          [
           "We Will Rock You"
          ],
          [
           "20th Century Fox Fanfare"
          ],
          [
           "Who Wants To Live Forever"
          ],
          [
           "Fun It"
          ],
          [
           "(You're So Square) Baby I Don't Care"
          ],
          [
           "Bohemian Rhapsody"
          ],
          [
           "Doing All Right"
          ],
          [
           "I Was Born To Love You"
          ],
          [
           "Bohemian Rhapsody (B-Sensual & No!end Bootleg)"
          ],
          [
           "Forever"
          ],
          [
           "You're My Best Friend"
          ],
          [
           "In The Space Capsule"
          ],
          [
           "A Winter's Tale (Cosy Fireside Mix)"
          ],
          [
           "Radio Ga Ga"
          ],
          [
           "Killer Queen"
          ],
          [
           "Under Pressure (feat. David Bowie)"
          ]
         ],
         "hovertemplate": "artista=Queen<br>x=%{x}<br>y=%{y}<br>musica=%{customdata[0]}<extra></extra>",
         "legendgroup": "Queen",
         "marker": {
          "color": "#B6E880",
          "opacity": 0.7,
          "symbol": "circle"
         },
         "mode": "markers",
         "name": "Queen",
         "showlegend": true,
         "type": "scattergl",
         "x": [
          25.889678955078125,
          30.382429122924805,
          -20.46582794189453,
          -5.550287246704102,
          31.612895965576172,
          14.32893180847168,
          -38.312618255615234,
          32.87577438354492,
          39.485172271728516,
          -34.37995529174805,
          -87.62271881103516,
          2.7295422554016113,
          -24.678300857543945,
          36.1556510925293,
          39.95978927612305,
          -24.62431526184082,
          32.81434631347656,
          39.95563507080078,
          -88.46333312988281,
          -55.144935607910156,
          -89.054443359375,
          -17.523202896118164,
          0.5103716254234314,
          8.315483093261719,
          -3.0823967456817627
         ],
         "xaxis": "x",
         "y": [
          -38.86156463623047,
          9.591532707214355,
          45.68424987792969,
          8.226569175720215,
          -30.78249168395996,
          18.498641967773438,
          -4.78363037109375,
          -13.662186622619629,
          22.159862518310547,
          47.25998306274414,
          -13.268563270568848,
          37.77995681762695,
          -9.276341438293457,
          -0.5309126973152161,
          -31.977947235107422,
          42.132041931152344,
          -34.64167022705078,
          -31.977989196777344,
          -13.516227722167969,
          -30.41211700439453,
          -12.89316463470459,
          27.03624153137207,
          -7.171122074127197,
          48.87358856201172,
          -70.99551391601562
         ],
         "yaxis": "y"
        },
        {
         "customdata": [
          [
           "Pussy"
          ]
         ],
         "hovertemplate": "artista=Rammstein<br>x=%{x}<br>y=%{y}<br>musica=%{customdata[0]}<extra></extra>",
         "legendgroup": "Rammstein",
         "marker": {
          "color": "#FF97FF",
          "opacity": 0.7,
          "symbol": "circle"
         },
         "mode": "markers",
         "name": "Rammstein",
         "showlegend": true,
         "type": "scattergl",
         "x": [
          25.122915267944336
         ],
         "xaxis": "x",
         "y": [
          -4.9204630851745605
         ],
         "yaxis": "y"
        },
        {
         "customdata": [
          [
           "Snow (Hey Oh)"
          ],
          [
           "Californication"
          ],
          [
           "Otherside"
          ],
          [
           "The Power Of Equality"
          ],
          [
           "Easily"
          ],
          [
           "Suck My Kiss"
          ],
          [
           "Encore"
          ],
          [
           "Higher Ground"
          ],
          [
           "Universally Speaking"
          ],
          [
           "Soul To Squeeze"
          ],
          [
           "The Getaway"
          ],
          [
           "Dosed"
          ],
          [
           "Tell Me Baby"
          ],
          [
           "The Zephyr Song"
          ],
          [
           "Goodbye Angels"
          ],
          [
           "Don't Forget Me"
          ],
          [
           "By The Way"
          ],
          [
           "Scar Tissue"
          ],
          [
           "Dark Necessities"
          ],
          [
           "Under The Bridge"
          ],
          [
           "Dani California"
          ],
          [
           "Give It Away"
          ],
          [
           "Around The World"
          ],
          [
           "Road Trippin'"
          ],
          [
           "Can't Stop"
          ]
         ],
         "hovertemplate": "artista=Red Hot Chili Peppers<br>x=%{x}<br>y=%{y}<br>musica=%{customdata[0]}<extra></extra>",
         "legendgroup": "Red Hot Chili Peppers",
         "marker": {
          "color": "#FECB52",
          "opacity": 0.7,
          "symbol": "circle"
         },
         "mode": "markers",
         "name": "Red Hot Chili Peppers",
         "showlegend": true,
         "type": "scattergl",
         "x": [
          54.686397552490234,
          -17.63383674621582,
          23.951065063476562,
          -29.613821029663086,
          -12.208582878112793,
          10.15245246887207,
          -16.203514099121094,
          36.3819580078125,
          17.469507217407227,
          22.462080001831055,
          18.86101722717285,
          -11.959589004516602,
          -9.734249114990234,
          49.03207015991211,
          -24.31757926940918,
          -17.684850692749023,
          44.10649490356445,
          -13.114323616027832,
          68.12865447998047,
          36.37665557861328,
          7.090532302856445,
          26.722774505615234,
          -5.421339511871338,
          -52.88899612426758,
          -11.00860595703125
         ],
         "xaxis": "x",
         "y": [
          -0.5572123527526855,
          25.871374130249023,
          15.035568237304688,
          3.454608678817749,
          20.558483123779297,
          -1.115544319152832,
          18.887006759643555,
          22.188325881958008,
          -41.64031219482422,
          15.60457992553711,
          16.10154151916504,
          3.1061065196990967,
          9.979516983032227,
          37.09610366821289,
          -12.870706558227539,
          -48.466548919677734,
          62.305118560791016,
          16.110517501831055,
          24.401866912841797,
          42.9416389465332,
          46.05580520629883,
          -7.133673191070557,
          -1.5460776090621948,
          -1.8968992233276367,
          19.04888153076172
         ],
         "yaxis": "y"
        },
        {
         "customdata": [
          [
           "Umbrella (feat. Jay Z)"
          ],
          [
           "Bitch Better Have My Money"
          ],
          [
           "Stay (feat. Mikky Ekko)"
          ],
          [
           "Take A Bow"
          ],
          [
           "Man Down"
          ],
          [
           "Needed Me"
          ],
          [
           "What's My Name (feat. Drake)"
          ],
          [
           "Only Girl (In The World)"
          ],
          [
           "We Found Love (feat. Calvin Harris)"
          ],
          [
           "Work (Feat. Drake)"
          ],
          [
           "Rude Boy"
          ],
          [
           "S&M"
          ],
          [
           "Don't Stop The Music"
          ],
          [
           "Love The Way You Lie"
          ],
          [
           "Kiss It Better"
          ],
          [
           "Rehab (feat. Justin Timberlake)"
          ],
          [
           "California King Bed"
          ],
          [
           "Where Have You Been"
          ],
          [
           "Consideration (feat. SZA)"
          ],
          [
           "Disturbia"
          ],
          [
           "If It's Lovin' That You Want"
          ],
          [
           "Hate That I Love You (feat. Ne-yo)"
          ],
          [
           "Unfaithful"
          ],
          [
           "Diamonds"
          ],
          [
           "Love On The Brain"
          ]
         ],
         "hovertemplate": "artista=Rihanna<br>x=%{x}<br>y=%{y}<br>musica=%{customdata[0]}<extra></extra>",
         "legendgroup": "Rihanna",
         "marker": {
          "color": "#636efa",
          "opacity": 0.7,
          "symbol": "circle"
         },
         "mode": "markers",
         "name": "Rihanna",
         "showlegend": true,
         "type": "scattergl",
         "x": [
          74.2813720703125,
          -38.960182189941406,
          34.31611251831055,
          9.503194808959961,
          -75.21880340576172,
          -15.57364559173584,
          95.83296966552734,
          80.47217559814453,
          -23.81682777404785,
          -3.5082345008850098,
          37.238250732421875,
          92.73204040527344,
          39.120243072509766,
          -37.55460739135742,
          24.79180908203125,
          42.22456741333008,
          -12.291180610656738,
          16.883892059326172,
          -41.33310317993164,
          -75.21489715576172,
          8.835221290588379,
          -16.243867874145508,
          22.800809860229492,
          -14.601351737976074,
          32.1146240234375
         ],
         "xaxis": "x",
         "y": [
          2.388981342315674,
          9.780245780944824,
          49.81050109863281,
          -14.032464027404785,
          5.524486541748047,
          -12.679926872253418,
          8.428925514221191,
          -13.81175708770752,
          54.806060791015625,
          -24.755306243896484,
          -25.434614181518555,
          8.631996154785156,
          21.00931167602539,
          -61.65386962890625,
          14.656228065490723,
          -47.3383903503418,
          59.392032623291016,
          32.339691162109375,
          12.714761734008789,
          5.524509906768799,
          -30.119199752807617,
          -35.173072814941406,
          5.275331497192383,
          26.93651008605957,
          -15.92900276184082
         ],
         "yaxis": "y"
        },
        {
         "customdata": [
          [
           "People get ready"
          ],
          [
           "The First Cut Is The Deepest"
          ],
          [
           "What a Difference a Day Makes"
          ],
          [
           "Love Touch"
          ],
          [
           "Da Ya Think I'm Sexy (Feat. DNCE)"
          ],
          [
           "Some Guys Have All The Luck"
          ],
          [
           "You Are Everything"
          ],
          [
           "Have I Told You Lately"
          ],
          [
           "Fly Me To The Moon"
          ],
          [
           "Tonight's The Night"
          ],
          [
           "A Reason To Believe"
          ],
          [
           "All For Love"
          ],
          [
           "Baby Jane"
          ],
          [
           "Stop Loving Her Today"
          ],
          [
           "Forever Young"
          ],
          [
           "Maggie May"
          ],
          [
           "Every Beat Of My Heart"
          ],
          [
           "The Way You Look Tonight"
          ],
          [
           "You're In My Heart (The Final Acclaim)"
          ],
          [
           "Have You Ever Seen The Rain?"
          ],
          [
           "Sailing"
          ],
          [
           "I Don't Want To Talk About It"
          ],
          [
           "Young Turks"
          ],
          [
           "My Heart Can't Tell You No"
          ],
          [
           "It's A Heartache"
          ]
         ],
         "hovertemplate": "artista=Rod Stewart<br>x=%{x}<br>y=%{y}<br>musica=%{customdata[0]}<extra></extra>",
         "legendgroup": "Rod Stewart",
         "marker": {
          "color": "#EF553B",
          "opacity": 0.7,
          "symbol": "circle"
         },
         "mode": "markers",
         "name": "Rod Stewart",
         "showlegend": true,
         "type": "scattergl",
         "x": [
          51.90729904174805,
          -9.778732299804688,
          -25.232181549072266,
          -10.288175582885742,
          21.355478286743164,
          -19.959474563598633,
          12.801657676696777,
          -58.18653869628906,
          -57.31263732910156,
          -39.64027786254883,
          -12.806720733642578,
          10.087187767028809,
          -33.01763153076172,
          45.877750396728516,
          -16.66533660888672,
          -12.641273498535156,
          -21.084196090698242,
          -33.40611267089844,
          10.34245777130127,
          -49.458595275878906,
          -36.61936950683594,
          -0.2733790874481201,
          -8.284209251403809,
          -32.1568489074707,
          -18.761947631835938
         ],
         "xaxis": "x",
         "y": [
          -37.52446746826172,
          53.110069274902344,
          -12.974340438842773,
          -25.856666564941406,
          -59.167816162109375,
          -5.293629169464111,
          -18.810466766357422,
          -12.367653846740723,
          -13.423075675964355,
          -33.85414505004883,
          -2.6922447681427,
          13.041743278503418,
          -25.59212875366211,
          20.95265769958496,
          -2.2747347354888916,
          -8.917448997497559,
          20.4507999420166,
          -65.32654571533203,
          -19.015920639038086,
          10.352785110473633,
          -31.232372283935547,
          -38.16454315185547,
          5.194098472595215,
          -25.841745376586914,
          -5.675959587097168
         ],
         "yaxis": "y"
        },
        {
         "customdata": [
          [
           "Too Good At Goodbyes"
          ],
          [
           "I Feel Love"
          ],
          [
           "Diamonds"
          ],
          [
           "Burning"
          ],
          [
           "Money On My Mind"
          ],
          [
           "Latch"
          ],
          [
           "I'm Not The Only One (Feat. A$AP Rocky)"
          ],
          [
           "Say It First"
          ],
          [
           "Writing's On The Wall"
          ],
          [
           "Fix You"
          ],
          [
           "Baby, You Make Me Crazy (Feat. The Dap-Kings Horns)"
          ],
          [
           "I'm Ready (With Demi Lovato)"
          ],
          [
           "Promises"
          ],
          [
           "Him"
          ],
          [
           "I'm Not The Only One"
          ],
          [
           "To Die For"
          ],
          [
           "Lay Me Down"
          ],
          [
           "Pray"
          ],
          [
           "Pray (Feat. Logic) (Remix)"
          ],
          [
           "My Oasis (Ft. Burna Boy)"
          ],
          [
           "How Do You Sleep?"
          ],
          [
           "Fire on Fire"
          ],
          [
           "Dancing With A Stranger (With Normani)"
          ],
          [
           "Stay With Me"
          ],
          [
           "La La La"
          ]
         ],
         "hovertemplate": "artista=Sam Smith<br>x=%{x}<br>y=%{y}<br>musica=%{customdata[0]}<extra></extra>",
         "legendgroup": "Sam Smith",
         "marker": {
          "color": "#00cc96",
          "opacity": 0.7,
          "symbol": "circle"
         },
         "mode": "markers",
         "name": "Sam Smith",
         "showlegend": true,
         "type": "scattergl",
         "x": [
          50.336181640625,
          25.576374053955078,
          34.06898498535156,
          16.678665161132812,
          -33.267826080322266,
          -2.415152072906494,
          44.96687316894531,
          -33.00383377075195,
          57.5087890625,
          -40.992042541503906,
          -53.72422790527344,
          32.959354400634766,
          32.20729446411133,
          16.245351791381836,
          44.95487594604492,
          31.70148277282715,
          -11.657958984375,
          -48.07424545288086,
          -48.07387161254883,
          -22.628734588623047,
          56.67759323120117,
          2.456794500350952,
          5.09890079498291,
          11.736262321472168,
          78.30262756347656
         ],
         "xaxis": "x",
         "y": [
          -14.017709732055664,
          72.61399841308594,
          32.117889404296875,
          25.43585968017578,
          -14.240976333618164,
          -19.259048461914062,
          -4.181713581085205,
          -29.876731872558594,
          9.158127784729004,
          -45.4258918762207,
          -31.672508239746094,
          -32.9695930480957,
          -41.08882141113281,
          -64.34291076660156,
          -4.168518543243408,
          -29.85663604736328,
          2.615832805633545,
          -40.44042205810547,
          -40.43467712402344,
          -5.666379928588867,
          9.587472915649414,
          58.02077102661133,
          -30.202716827392578,
          -45.42856216430664,
          -12.220344543457031
         ],
         "yaxis": "y"
        },
        {
         "customdata": [
          [
           "Falling In Love"
          ],
          [
           "Rhythm Of Love"
          ],
          [
           "Drive"
          ],
          [
           "In Trance"
          ],
          [
           "Big City Nights"
          ],
          [
           "Blackout"
          ],
          [
           "Believe In Love"
          ],
          [
           "Love Of My Life (cover)"
          ],
          [
           "When You Came Into My Life"
          ],
          [
           "Humanity"
          ],
          [
           "When The Smoke Is Going Down"
          ],
          [
           "Dust In The Wind (cover)"
          ],
          [
           "Rock You Like A Hurricane"
          ],
          [
           "Life Is Too Short"
          ],
          [
           "Follow Your Heart"
          ],
          [
           "Under The Same Sun"
          ],
          [
           "Holiday"
          ],
          [
           "Send Me An Angel"
          ],
          [
           "You And I"
          ],
          [
           "Always Somewhere"
          ],
          [
           "Still Loving You"
          ],
          [
           "Wind Of Change"
          ],
          [
           "No One Like You"
          ],
          [
           "The Zoo"
          ]
         ],
         "hovertemplate": "artista=Scorpions<br>x=%{x}<br>y=%{y}<br>musica=%{customdata[0]}<extra></extra>",
         "legendgroup": "Scorpions",
         "marker": {
          "color": "#ab63fa",
          "opacity": 0.7,
          "symbol": "circle"
         },
         "mode": "markers",
         "name": "Scorpions",
         "showlegend": true,
         "type": "scattergl",
         "x": [
          13.10145378112793,
          -11.751117706298828,
          -35.380496978759766,
          57.53984069824219,
          -64.56273651123047,
          29.941938400268555,
          26.294940948486328,
          25.893266677856445,
          15.222383499145508,
          -59.17161560058594,
          -43.892677307128906,
          -23.497486114501953,
          -60.69138717651367,
          -51.77137756347656,
          -12.707237243652344,
          -27.54974365234375,
          -52.96160125732422,
          -18.36748695373535,
          -40.62897491455078,
          8.631562232971191,
          -18.741209030151367,
          -19.254812240600586,
          65.59909057617188,
          -17.020986557006836
         ],
         "xaxis": "x",
         "y": [
          -56.294071197509766,
          29.719934463500977,
          -26.1885929107666,
          -3.6626620292663574,
          9.730071067810059,
          8.855843544006348,
          -27.919118881225586,
          -38.868080139160156,
          32.92390060424805,
          -11.222265243530273,
          6.678720474243164,
          44.918949127197266,
          25.824962615966797,
          11.614089012145996,
          13.86632251739502,
          49.71005630493164,
          -1.8790082931518555,
          29.004274368286133,
          -16.882322311401367,
          66.82315063476562,
          -48.17951583862305,
          28.573097229003906,
          -13.908849716186523,
          39.604095458984375
         ],
         "yaxis": "y"
        },
        {
         "customdata": [
          [
           "Good for You (feat. A$AP Rocky)"
          ],
          [
           "Dance Again"
          ],
          [
           "Revival"
          ],
          [
           "Girl Crush (Feat. Iggy Azalea)"
          ],
          [
           "Crowded Room (feat. 6lack)"
          ],
          [
           "Sober"
          ],
          [
           "Ring"
          ],
          [
           "Live Like There's no Tomorrow"
          ],
          [
           "Back To You"
          ],
          [
           "Love You Like a Love Song"
          ],
          [
           "Boyfriend"
          ],
          [
           "Feel Me"
          ],
          [
           "Hands To Myself"
          ],
          [
           "Fetish (Feat. Gucci Mane)"
          ],
          [
           "Vulnerable"
          ],
          [
           "A Year Without Rain"
          ],
          [
           "Who Says"
          ],
          [
           "Look At Her Now"
          ],
          [
           "Souvenir"
          ],
          [
           "Wolves (Feat. Marshmello)"
          ],
          [
           "Rare"
          ],
          [
           "The Heart Wants What It Wants"
          ],
          [
           "Lose You To Love Me"
          ],
          [
           "A Sweeter Place (Ft. Kid Cudi)"
          ],
          [
           "Same Old Love"
          ]
         ],
         "hovertemplate": "artista=Selena Gomez<br>x=%{x}<br>y=%{y}<br>musica=%{customdata[0]}<extra></extra>",
         "legendgroup": "Selena Gomez",
         "marker": {
          "color": "#FFA15A",
          "opacity": 0.7,
          "symbol": "circle"
         },
         "mode": "markers",
         "name": "Selena Gomez",
         "showlegend": true,
         "type": "scattergl",
         "x": [
          10.335626602172852,
          45.83940505981445,
          48.41523361206055,
          -2.533651113510132,
          2.400118112564087,
          7.444620132446289,
          81.60347747802734,
          -14.762489318847656,
          6.850649356842041,
          -11.456689834594727,
          -22.29976463317871,
          -22.116519927978516,
          22.588224411010742,
          0.7949610948562622,
          46.20182800292969,
          -2.548210859298706,
          93.29965209960938,
          32.8438835144043,
          14.154706954956055,
          17.87928009033203,
          -52.22216796875,
          -16.647436141967773,
          31.212167739868164,
          25.351146697998047,
          -35.902374267578125
         ],
         "xaxis": "x",
         "y": [
          -77.82090759277344,
          63.2371826171875,
          -53.616241455078125,
          -6.845602512359619,
          -29.037565231323242,
          -13.76834774017334,
          -10.77946949005127,
          50.8389892578125,
          67.3076400756836,
          -35.818241119384766,
          -58.814117431640625,
          -29.247400283813477,
          28.884811401367188,
          -24.455923080444336,
          35.54825210571289,
          -20.619001388549805,
          5.896810531616211,
          31.69963836669922,
          32.36725997924805,
          26.660125732421875,
          -32.1561393737793,
          -9.345294952392578,
          -32.3955078125,
          36.907039642333984,
          -8.112253189086914
         ],
         "yaxis": "y"
        },
        {
         "customdata": [
          [
           "La La La (Brasil 2014) (Part. Carlinhos Brown)"
          ],
          [
           "Try Everything"
          ],
          [
           "Loca (feat. Dizzee Rascal)"
          ],
          [
           "Whenever, Wherever"
          ],
          [
           "Can't Remember To Forget You (Feat. Rihanna)"
          ],
          [
           "Waka Waka (This Time For Africa)"
          ],
          [
           "Super Bowl LIV Halftime Show (With Jennifer Lopez Ft. Bad Bunny, J Balvin)"
          ],
          [
           "Hips Don't Lie (feat. Wyclef Jean)"
          ]
         ],
         "hovertemplate": "artista=Shakira<br>x=%{x}<br>y=%{y}<br>musica=%{customdata[0]}<extra></extra>",
         "legendgroup": "Shakira",
         "marker": {
          "color": "#19d3f3",
          "opacity": 0.7,
          "symbol": "circle"
         },
         "mode": "markers",
         "name": "Shakira",
         "showlegend": true,
         "type": "scattergl",
         "x": [
          77.72239685058594,
          47.36247253417969,
          65.28201293945312,
          -17.336149215698242,
          45.86674880981445,
          74.6264419555664,
          77.67049407958984,
          -12.897076606750488
         ],
         "xaxis": "x",
         "y": [
          -11.750059127807617,
          -55.16503143310547,
          20.581510543823242,
          -46.49755096435547,
          -52.46996307373047,
          2.256878137588501,
          -8.635936737060547,
          -14.967612266540527
         ],
         "yaxis": "y"
        },
        {
         "customdata": [
          [
           "Wonder"
          ],
          [
           "No Promises"
          ],
          [
           "Youth (Feat. Khalid)"
          ],
          [
           "Bad Reputation"
          ],
          [
           "Life Of The Party"
          ],
          [
           "Roses"
          ],
          [
           "Nervous"
          ],
          [
           "Memories"
          ],
          [
           "Lost In Japan"
          ],
          [
           "I Know What You Did Last Summer (feat. Camila Cabello)"
          ],
          [
           "Fallin' All In You"
          ],
          [
           "Why"
          ],
          [
           "If I Can't Have You"
          ],
          [
           "Use Somebody"
          ],
          [
           "Imagination"
          ],
          [
           "In My Blood"
          ],
          [
           "Never Be Alone"
          ],
          [
           "Mercy"
          ],
          [
           "Stitches"
          ],
          [
           "Treat You Better"
          ],
          [
           "There's Nothing Holdin' Me Back"
          ],
          [
           "Señorita (With Camila Cabello)"
          ],
          [
           "Intro"
          ],
          [
           "Because I Had You"
          ],
          [
           "Like To Be You (Feat. Julia Michaels)"
          ]
         ],
         "hovertemplate": "artista=Shawn Mendes<br>x=%{x}<br>y=%{y}<br>musica=%{customdata[0]}<extra></extra>",
         "legendgroup": "Shawn Mendes",
         "marker": {
          "color": "#FF6692",
          "opacity": 0.7,
          "symbol": "circle"
         },
         "mode": "markers",
         "name": "Shawn Mendes",
         "showlegend": true,
         "type": "scattergl",
         "x": [
          64.7986068725586,
          44.633785247802734,
          43.405723571777344,
          66.71466064453125,
          44.492855072021484,
          -19.281898498535156,
          -22.257572174072266,
          -62.4557991027832,
          29.211294174194336,
          67.16234588623047,
          -13.01978588104248,
          -2.533066511154175,
          42.58968734741211,
          11.28031063079834,
          42.98384475708008,
          2.4724600315093994,
          48.52144241333008,
          0.04686169698834419,
          -22.545270919799805,
          -40.53923416137695,
          -0.36037325859069824,
          79.26777648925781,
          3.183427095413208,
          -0.6136377453804016,
          63.980979919433594
         ],
         "xaxis": "x",
         "y": [
          -14.170015335083008,
          -38.20319747924805,
          -26.025190353393555,
          23.517309188842773,
          -37.09270477294922,
          -31.33281707763672,
          -29.10112953186035,
          21.984682083129883,
          -14.438586235046387,
          23.125568389892578,
          57.750064849853516,
          49.28852081298828,
          6.960722923278809,
          4.282854080200195,
          -53.369667053222656,
          21.38625717163086,
          -51.816532135009766,
          -36.75849914550781,
          12.701492309570312,
          -10.277755737304688,
          48.88600158691406,
          -11.872273445129395,
          2.188307285308838,
          -10.468896865844727,
          -13.982324600219727
         ],
         "yaxis": "y"
        },
        {
         "customdata": [
          [
           "Big Girls Cry"
          ],
          [
           "Broken Glass"
          ],
          [
           "My Love"
          ],
          [
           "One Million Bullets"
          ],
          [
           "Saved My Life"
          ],
          [
           "Fire Meet Gasoline"
          ],
          [
           "Move Your Body"
          ],
          [
           "Helium"
          ],
          [
           "I'm Still Here"
          ],
          [
           "Moon"
          ],
          [
           "Chandelier (Piano Version)"
          ],
          [
           "Flames (With David Guetta)"
          ],
          [
           "Never Give Up"
          ],
          [
           "She Wolf"
          ],
          [
           "Alive"
          ],
          [
           "Together"
          ],
          [
           "Courage To Change"
          ],
          [
           "Cheap Thrills (feat. Sean Paul)"
          ],
          [
           "Unstoppable"
          ],
          [
           "Elastic Heart"
          ],
          [
           "Chandelier"
          ],
          [
           "Bird Set Free"
          ],
          [
           "Cheap Thrills"
          ],
          [
           "The Greatest"
          ],
          [
           "Titanium"
          ]
         ],
         "hovertemplate": "artista=Sia<br>x=%{x}<br>y=%{y}<br>musica=%{customdata[0]}<extra></extra>",
         "legendgroup": "Sia",
         "marker": {
          "color": "#B6E880",
          "opacity": 0.7,
          "symbol": "circle"
         },
         "mode": "markers",
         "name": "Sia",
         "showlegend": true,
         "type": "scattergl",
         "x": [
          44.27372741699219,
          35.050926208496094,
          -0.1888185739517212,
          47.88888168334961,
          16.3199520111084,
          2.417973756790161,
          49.07467269897461,
          10.621451377868652,
          39.53329086303711,
          -34.89900207519531,
          -51.45977020263672,
          37.66054916381836,
          37.20103073120117,
          12.601176261901855,
          -32.45254135131836,
          -11.901827812194824,
          -6.553590297698975,
          53.04519271850586,
          50.3602180480957,
          14.47174072265625,
          -51.45954895019531,
          -71.70543670654297,
          53.01076889038086,
          35.638057708740234,
          -13.001592636108398
         ],
         "xaxis": "x",
         "y": [
          -34.778282165527344,
          -64.72879791259766,
          -25.141361236572266,
          -53.66823196411133,
          33.48031997680664,
          58.06294631958008,
          -53.60774230957031,
          -2.5425832271575928,
          -11.01185131072998,
          46.52967071533203,
          -6.782375335693359,
          22.012279510498047,
          -64.04583740234375,
          -54.6566162109375,
          -3.105266571044922,
          49.88389205932617,
          41.13943099975586,
          -30.55113983154297,
          30.101818084716797,
          18.73275375366211,
          -6.782939910888672,
          -23.07888412475586,
          -30.571258544921875,
          -64.94563293457031,
          6.639286041259766
         ],
         "yaxis": "y"
        },
        {
         "customdata": [
          [
           "the last great american dynasty"
          ],
          [
           "All Too Well"
          ],
          [
           "epiphany"
          ],
          [
           "You Belong With Me"
          ],
          [
           "the lakes"
          ],
          [
           "hoax"
          ],
          [
           "I Knew You Were Trouble"
          ],
          [
           "Look What You Made Me Do"
          ],
          [
           "​mirrorball"
          ],
          [
           "Shake It Off"
          ],
          [
           "peace"
          ],
          [
           "illicit affairs"
          ],
          [
           "seven"
          ],
          [
           "my tears ricochet"
          ],
          [
           "cardigan"
          ],
          [
           "​betty"
          ],
          [
           "the 1"
          ],
          [
           "exile (Feat. Bon Iver)"
          ],
          [
           "mad woman"
          ],
          [
           "Lover"
          ],
          [
           "Love Story"
          ],
          [
           "august"
          ],
          [
           "this is me trying"
          ],
          [
           "Blank Space"
          ],
          [
           "invisible string"
          ]
         ],
         "hovertemplate": "artista=Taylor Swift<br>x=%{x}<br>y=%{y}<br>musica=%{customdata[0]}<extra></extra>",
         "legendgroup": "Taylor Swift",
         "marker": {
          "color": "#FF97FF",
          "opacity": 0.7,
          "symbol": "circle"
         },
         "mode": "markers",
         "name": "Taylor Swift",
         "showlegend": true,
         "type": "scattergl",
         "x": [
          6.404835224151611,
          -20.722597122192383,
          -14.834517478942871,
          -3.6991090774536133,
          29.863706588745117,
          68.75122833251953,
          -44.97320556640625,
          5.069250106811523,
          -23.368127822875977,
          -41.369354248046875,
          -8.112491607666016,
          -26.606658935546875,
          -20.47904396057129,
          -12.96813678741455,
          -35.82866287231445,
          -11.465285301208496,
          1.7638076543807983,
          -30.00871467590332,
          -12.070863723754883,
          32.092079162597656,
          -14.230637550354004,
          -21.067272186279297,
          -25.441814422607422,
          -34.798526763916016,
          43.51632308959961
         ],
         "xaxis": "x",
         "y": [
          44.68747329711914,
          -10.281238555908203,
          -19.659679412841797,
          -10.413080215454102,
          38.90078353881836,
          25.927709579467773,
          22.112451553344727,
          -30.122568130493164,
          4.57747220993042,
          -33.539329528808594,
          -16.645816802978516,
          -36.49387741088867,
          20.368112564086914,
          -10.29015064239502,
          33.976192474365234,
          -10.553985595703125,
          1.851495385169983,
          -11.916833877563477,
          -12.773515701293945,
          19.4644832611084,
          -7.9019999504089355,
          -10.130542755126953,
          1.7801713943481445,
          -25.266292572021484,
          65.50221252441406
         ],
         "yaxis": "y"
        },
        {
         "customdata": [
          [
           "While My Guitar Gently Weeps"
          ],
          [
           "Something"
          ],
          [
           "Here Comes The Sun"
          ],
          [
           "Hello, Goodbye"
          ],
          [
           "Eleanor Rigby"
          ],
          [
           "Come Together"
          ],
          [
           "A Day In The Life"
          ],
          [
           "In My Life"
          ],
          [
           "Hey Jude"
          ],
          [
           "Help!"
          ],
          [
           "I Want To Hold Your Hand"
          ],
          [
           "Yellow Submarine"
          ],
          [
           "Blackbird"
          ],
          [
           "All My Loving"
          ],
          [
           "Don't Let Me Down"
          ],
          [
           "Oh! Darling"
          ],
          [
           "Let It Be"
          ],
          [
           "She Loves You"
          ],
          [
           "All You Need Is Love"
          ],
          [
           "Across The Universe"
          ],
          [
           "And I Love Her"
          ],
          [
           "A Hard Day's Night"
          ],
          [
           "Yesterday"
          ],
          [
           "Michelle"
          ],
          [
           "Strawberry Fields Forever"
          ]
         ],
         "hovertemplate": "artista=The Beatles<br>x=%{x}<br>y=%{y}<br>musica=%{customdata[0]}<extra></extra>",
         "legendgroup": "The Beatles",
         "marker": {
          "color": "#FECB52",
          "opacity": 0.7,
          "symbol": "circle"
         },
         "mode": "markers",
         "name": "The Beatles",
         "showlegend": true,
         "type": "scattergl",
         "x": [
          -20.80048179626465,
          5.95876407623291,
          -49.63685607910156,
          -38.07478713989258,
          -22.938573837280273,
          -47.16755294799805,
          -32.937355041503906,
          -62.59314727783203,
          94.76739501953125,
          7.371367454528809,
          19.410676956176758,
          -27.374290466308594,
          18.20761489868164,
          -13.683637619018555,
          -27.59621810913086,
          -15.63978099822998,
          -69.7309799194336,
          44.7353401184082,
          -2.619389772415161,
          -2.245654344558716,
          11.911443710327148,
          -54.03816604614258,
          10.168749809265137,
          -13.453749656677246,
          5.621494770050049
         ],
         "xaxis": "x",
         "y": [
          0.5458230972290039,
          49.17218780517578,
          -2.907449960708618,
          66.5130615234375,
          22.69441032409668,
          32.50450134277344,
          23.372295379638672,
          -19.072952270507812,
          6.7988409996032715,
          -4.363935947418213,
          8.495017051696777,
          49.88532638549805,
          58.410953521728516,
          -3.897085428237915,
          -27.52763557434082,
          -28.719730377197266,
          29.234098434448242,
          37.589717864990234,
          -68.84144592285156,
          40.616886138916016,
          50.44595718383789,
          -29.1675968170166,
          51.700782775878906,
          -32.91664123535156,
          25.726806640625
         ],
         "yaxis": "y"
        },
        {
         "customdata": [
          [
           "Save Your Tears"
          ],
          [
           "Hardest To Love"
          ],
          [
           "After Hours"
          ],
          [
           "Alone Again"
          ],
          [
           "Too Late"
          ],
          [
           "Reminder"
          ],
          [
           "The Hills (Feat. Eminem) (Remix)"
          ],
          [
           "Pray For Me (With Kendrick Lamar)"
          ],
          [
           "Escape From LA"
          ],
          [
           "Often"
          ],
          [
           "Faith"
          ],
          [
           "In Your Eyes (Feat. Doja Cat) (Remix)"
          ],
          [
           "Can't Feel My Face"
          ],
          [
           "In Your Eyes"
          ],
          [
           "Over Now (With Calvin Harris)"
          ],
          [
           "I Feel It Coming (Feat. Daft Punk)"
          ],
          [
           "The Hills"
          ],
          [
           "Starboy (Feat. Daft Punk)"
          ],
          [
           "Call Out My Name"
          ],
          [
           "Smile (With Juice WRLD)"
          ],
          [
           "Try Me"
          ],
          [
           "Die For You"
          ],
          [
           "Heartless"
          ],
          [
           "Blinding Lights"
          ],
          [
           "Earned It"
          ]
         ],
         "hovertemplate": "artista=The Weeknd<br>x=%{x}<br>y=%{y}<br>musica=%{customdata[0]}<extra></extra>",
         "legendgroup": "The Weeknd",
         "marker": {
          "color": "#636efa",
          "opacity": 0.7,
          "symbol": "circle"
         },
         "mode": "markers",
         "name": "The Weeknd",
         "showlegend": true,
         "type": "scattergl",
         "x": [
          26.143796920776367,
          47.92609786987305,
          -7.273943901062012,
          48.33857727050781,
          44.51955795288086,
          -5.760047912597656,
          5.653023719787598,
          56.224849700927734,
          52.37730407714844,
          -43.25914764404297,
          -21.86623764038086,
          -41.25968933105469,
          7.198056697845459,
          -41.33934020996094,
          93.93267059326172,
          22.468503952026367,
          5.65516471862793,
          63.051544189453125,
          -27.787935256958008,
          -12.2667818069458,
          -5.713254451751709,
          -1.605811357498169,
          -22.3516845703125,
          57.18035888671875,
          7.914004802703857
         ],
         "xaxis": "x",
         "y": [
          -47.36957931518555,
          40.7877197265625,
          -25.455921173095703,
          -53.04139709472656,
          6.402682781219482,
          -5.774190425872803,
          -0.43060222268104553,
          -4.5648698806762695,
          -11.735185623168945,
          -31.049448013305664,
          5.151793003082275,
          -15.760489463806152,
          -35.250946044921875,
          -15.62328815460205,
          7.490025520324707,
          -27.221416473388672,
          -0.4297327399253845,
          -37.98640060424805,
          -20.466726303100586,
          -31.6652889251709,
          -9.627086639404297,
          -30.373760223388672,
          6.231382846832275,
          -3.1500062942504883,
          -21.956573486328125
         ],
         "yaxis": "y"
        },
        {
         "customdata": [
          [
           "With Or Without You"
          ],
          [
           "Mysterious Ways"
          ],
          [
           "Song For Someone"
          ],
          [
           "Lights Of Home"
          ],
          [
           "All I Want Is You"
          ],
          [
           "You're The Best Thing About Me"
          ],
          [
           "Bad"
          ],
          [
           "Stay (Faraway, So Close)"
          ],
          [
           "Vertigo"
          ],
          [
           "Every Breaking Wave"
          ],
          [
           "I Still Haven't Found What I'm Looking For"
          ],
          [
           "City Of Blinding Lights"
          ],
          [
           "Summer Of Love"
          ],
          [
           "Love Is All We Have Left"
          ],
          [
           "Sweetest Thing"
          ],
          [
           "One"
          ],
          [
           "Let Your Love Be Known"
          ],
          [
           "Beautiful Day"
          ],
          [
           "Sunday Bloody Sunday"
          ],
          [
           "Pride (In The Name Of Love)"
          ],
          [
           "New Year's Day"
          ],
          [
           "Where The Streets Have No Name"
          ],
          [
           "Stuck In A Moment You Can't Get Out Of"
          ],
          [
           "Ordinary Love"
          ],
          [
           "Walk On"
          ]
         ],
         "hovertemplate": "artista=U2<br>x=%{x}<br>y=%{y}<br>musica=%{customdata[0]}<extra></extra>",
         "legendgroup": "U2",
         "marker": {
          "color": "#EF553B",
          "opacity": 0.7,
          "symbol": "circle"
         },
         "mode": "markers",
         "name": "U2",
         "showlegend": true,
         "type": "scattergl",
         "x": [
          19.993505477905273,
          -17.591928482055664,
          46.68803787231445,
          -3.737962245941162,
          1.435666799545288,
          16.301498413085938,
          -69.75987243652344,
          -8.9839506149292,
          -39.29837417602539,
          -18.77834701538086,
          -33.62820053100586,
          -5.80330753326416,
          -9.959502220153809,
          -21.7767276763916,
          38.556495666503906,
          -20.18370819091797,
          16.678220748901367,
          13.63925838470459,
          24.04486656188965,
          -11.050557136535645,
          43.116661071777344,
          -16.539823532104492,
          26.13392448425293,
          -12.104351043701172,
          -45.969383239746094
         ],
         "xaxis": "x",
         "y": [
          -18.0833797454834,
          7.516170978546143,
          41.23506546020508,
          17.122865676879883,
          -48.323612213134766,
          -17.290868759155273,
          26.88389015197754,
          -16.844863891601562,
          66.90357971191406,
          40.50117111206055,
          -1.4410998821258545,
          14.260929107666016,
          30.598285675048828,
          -22.19147491455078,
          -11.32345962524414,
          -14.439119338989258,
          -1.4373396635055542,
          -8.791130065917969,
          45.534427642822266,
          31.121990203857422,
          -54.24427795410156,
          38.590667724609375,
          -9.82213306427002,
          51.16380310058594,
          -22.43821144104004
         ],
         "yaxis": "y"
        },
        {
         "customdata": [
          [
           "I Look To You"
          ],
          [
           "I Have Nothing"
          ],
          [
           "I Will Always Love You"
          ],
          [
           "Things You Say"
          ],
          [
           "Exhale (Shoop Shoop)"
          ],
          [
           "We Didn't Know (feat. Stevie Wonder)"
          ],
          [
           "I Believe In You And Me"
          ],
          [
           "How Will I Know"
          ],
          [
           "Jesus Loves Me"
          ],
          [
           "One Moment In Time"
          ],
          [
           "I Wanna Dance With Somebody (Who Loves Me)"
          ],
          [
           "Run To You"
          ],
          [
           "It's Not Right But It's Okay"
          ],
          [
           "Saving All My Love For You"
          ],
          [
           "When You Believe (feat. Mariah Carey)"
          ],
          [
           "Didn't We Almost Have It All"
          ],
          [
           "You Give Good Love"
          ],
          [
           "Greatest Love Of All"
          ],
          [
           "Queen of the Night\" (Film Version)"
          ],
          [
           "Where Do Broken Hearts Go"
          ],
          [
           "All The Man That I Need"
          ],
          [
           "My Love Is Your Love"
          ],
          [
           "I'm Every Woman"
          ],
          [
           "I Didn't Know My Own Strength"
          ],
          [
           "Try It On My Own"
          ]
         ],
         "hovertemplate": "artista=Whitney Houston<br>x=%{x}<br>y=%{y}<br>musica=%{customdata[0]}<extra></extra>",
         "legendgroup": "Whitney Houston",
         "marker": {
          "color": "#00cc96",
          "opacity": 0.7,
          "symbol": "circle"
         },
         "mode": "markers",
         "name": "Whitney Houston",
         "showlegend": true,
         "type": "scattergl",
         "x": [
          -13.198781967163086,
          -20.924535751342773,
          -58.27042770385742,
          2.6709723472595215,
          2.6311569213867188,
          -15.139516830444336,
          -49.506866455078125,
          16.84429168701172,
          17.829853057861328,
          8.85608959197998,
          41.86412811279297,
          25.9332332611084,
          45.56171417236328,
          15.208724975585938,
          -49.4223747253418,
          -16.250646591186523,
          20.953699111938477,
          -10.68260383605957,
          23.99806022644043,
          -32.619842529296875,
          -46.86381912231445,
          14.257145881652832,
          34.98991012573242,
          -29.520851135253906,
          -27.884214401245117
         ],
         "xaxis": "x",
         "y": [
          -2.9049861431121826,
          -70.95536041259766,
          -40.890594482421875,
          -23.47039031982422,
          -14.834311485290527,
          56.876277923583984,
          -15.306903839111328,
          -63.61201095581055,
          -63.360836029052734,
          14.865145683288574,
          16.77899932861328,
          -47.26128005981445,
          29.874170303344727,
          -36.68093490600586,
          -15.306939125061035,
          57.7952880859375,
          -15.694655418395996,
          27.279390335083008,
          -8.737238883972168,
          -7.174327373504639,
          32.98678207397461,
          -39.702396392822266,
          10.229372024536133,
          20.044628143310547,
          20.244598388671875
         ],
         "yaxis": "y"
        }
       ],
       "layout": {
        "legend": {
         "title": {
          "text": "artista"
         },
         "tracegroupgap": 0
        },
        "margin": {
         "t": 60
        },
        "template": {
         "data": {
          "bar": [
           {
            "error_x": {
             "color": "#2a3f5f"
            },
            "error_y": {
             "color": "#2a3f5f"
            },
            "marker": {
             "line": {
              "color": "#E5ECF6",
              "width": 0.5
             }
            },
            "type": "bar"
           }
          ],
          "barpolar": [
           {
            "marker": {
             "line": {
              "color": "#E5ECF6",
              "width": 0.5
             }
            },
            "type": "barpolar"
           }
          ],
          "carpet": [
           {
            "aaxis": {
             "endlinecolor": "#2a3f5f",
             "gridcolor": "white",
             "linecolor": "white",
             "minorgridcolor": "white",
             "startlinecolor": "#2a3f5f"
            },
            "baxis": {
             "endlinecolor": "#2a3f5f",
             "gridcolor": "white",
             "linecolor": "white",
             "minorgridcolor": "white",
             "startlinecolor": "#2a3f5f"
            },
            "type": "carpet"
           }
          ],
          "choropleth": [
           {
            "colorbar": {
             "outlinewidth": 0,
             "ticks": ""
            },
            "type": "choropleth"
           }
          ],
          "contour": [
           {
            "colorbar": {
             "outlinewidth": 0,
             "ticks": ""
            },
            "colorscale": [
             [
              0,
              "#0d0887"
             ],
             [
              0.1111111111111111,
              "#46039f"
             ],
             [
              0.2222222222222222,
              "#7201a8"
             ],
             [
              0.3333333333333333,
              "#9c179e"
             ],
             [
              0.4444444444444444,
              "#bd3786"
             ],
             [
              0.5555555555555556,
              "#d8576b"
             ],
             [
              0.6666666666666666,
              "#ed7953"
             ],
             [
              0.7777777777777778,
              "#fb9f3a"
             ],
             [
              0.8888888888888888,
              "#fdca26"
             ],
             [
              1,
              "#f0f921"
             ]
            ],
            "type": "contour"
           }
          ],
          "contourcarpet": [
           {
            "colorbar": {
             "outlinewidth": 0,
             "ticks": ""
            },
            "type": "contourcarpet"
           }
          ],
          "heatmap": [
           {
            "colorbar": {
             "outlinewidth": 0,
             "ticks": ""
            },
            "colorscale": [
             [
              0,
              "#0d0887"
             ],
             [
              0.1111111111111111,
              "#46039f"
             ],
             [
              0.2222222222222222,
              "#7201a8"
             ],
             [
              0.3333333333333333,
              "#9c179e"
             ],
             [
              0.4444444444444444,
              "#bd3786"
             ],
             [
              0.5555555555555556,
              "#d8576b"
             ],
             [
              0.6666666666666666,
              "#ed7953"
             ],
             [
              0.7777777777777778,
              "#fb9f3a"
             ],
             [
              0.8888888888888888,
              "#fdca26"
             ],
             [
              1,
              "#f0f921"
             ]
            ],
            "type": "heatmap"
           }
          ],
          "heatmapgl": [
           {
            "colorbar": {
             "outlinewidth": 0,
             "ticks": ""
            },
            "colorscale": [
             [
              0,
              "#0d0887"
             ],
             [
              0.1111111111111111,
              "#46039f"
             ],
             [
              0.2222222222222222,
              "#7201a8"
             ],
             [
              0.3333333333333333,
              "#9c179e"
             ],
             [
              0.4444444444444444,
              "#bd3786"
             ],
             [
              0.5555555555555556,
              "#d8576b"
             ],
             [
              0.6666666666666666,
              "#ed7953"
             ],
             [
              0.7777777777777778,
              "#fb9f3a"
             ],
             [
              0.8888888888888888,
              "#fdca26"
             ],
             [
              1,
              "#f0f921"
             ]
            ],
            "type": "heatmapgl"
           }
          ],
          "histogram": [
           {
            "marker": {
             "colorbar": {
              "outlinewidth": 0,
              "ticks": ""
             }
            },
            "type": "histogram"
           }
          ],
          "histogram2d": [
           {
            "colorbar": {
             "outlinewidth": 0,
             "ticks": ""
            },
            "colorscale": [
             [
              0,
              "#0d0887"
             ],
             [
              0.1111111111111111,
              "#46039f"
             ],
             [
              0.2222222222222222,
              "#7201a8"
             ],
             [
              0.3333333333333333,
              "#9c179e"
             ],
             [
              0.4444444444444444,
              "#bd3786"
             ],
             [
              0.5555555555555556,
              "#d8576b"
             ],
             [
              0.6666666666666666,
              "#ed7953"
             ],
             [
              0.7777777777777778,
              "#fb9f3a"
             ],
             [
              0.8888888888888888,
              "#fdca26"
             ],
             [
              1,
              "#f0f921"
             ]
            ],
            "type": "histogram2d"
           }
          ],
          "histogram2dcontour": [
           {
            "colorbar": {
             "outlinewidth": 0,
             "ticks": ""
            },
            "colorscale": [
             [
              0,
              "#0d0887"
             ],
             [
              0.1111111111111111,
              "#46039f"
             ],
             [
              0.2222222222222222,
              "#7201a8"
             ],
             [
              0.3333333333333333,
              "#9c179e"
             ],
             [
              0.4444444444444444,
              "#bd3786"
             ],
             [
              0.5555555555555556,
              "#d8576b"
             ],
             [
              0.6666666666666666,
              "#ed7953"
             ],
             [
              0.7777777777777778,
              "#fb9f3a"
             ],
             [
              0.8888888888888888,
              "#fdca26"
             ],
             [
              1,
              "#f0f921"
             ]
            ],
            "type": "histogram2dcontour"
           }
          ],
          "mesh3d": [
           {
            "colorbar": {
             "outlinewidth": 0,
             "ticks": ""
            },
            "type": "mesh3d"
           }
          ],
          "parcoords": [
           {
            "line": {
             "colorbar": {
              "outlinewidth": 0,
              "ticks": ""
             }
            },
            "type": "parcoords"
           }
          ],
          "pie": [
           {
            "automargin": true,
            "type": "pie"
           }
          ],
          "scatter": [
           {
            "marker": {
             "colorbar": {
              "outlinewidth": 0,
              "ticks": ""
             }
            },
            "type": "scatter"
           }
          ],
          "scatter3d": [
           {
            "line": {
             "colorbar": {
              "outlinewidth": 0,
              "ticks": ""
             }
            },
            "marker": {
             "colorbar": {
              "outlinewidth": 0,
              "ticks": ""
             }
            },
            "type": "scatter3d"
           }
          ],
          "scattercarpet": [
           {
            "marker": {
             "colorbar": {
              "outlinewidth": 0,
              "ticks": ""
             }
            },
            "type": "scattercarpet"
           }
          ],
          "scattergeo": [
           {
            "marker": {
             "colorbar": {
              "outlinewidth": 0,
              "ticks": ""
             }
            },
            "type": "scattergeo"
           }
          ],
          "scattergl": [
           {
            "marker": {
             "colorbar": {
              "outlinewidth": 0,
              "ticks": ""
             }
            },
            "type": "scattergl"
           }
          ],
          "scattermapbox": [
           {
            "marker": {
             "colorbar": {
              "outlinewidth": 0,
              "ticks": ""
             }
            },
            "type": "scattermapbox"
           }
          ],
          "scatterpolar": [
           {
            "marker": {
             "colorbar": {
              "outlinewidth": 0,
              "ticks": ""
             }
            },
            "type": "scatterpolar"
           }
          ],
          "scatterpolargl": [
           {
            "marker": {
             "colorbar": {
              "outlinewidth": 0,
              "ticks": ""
             }
            },
            "type": "scatterpolargl"
           }
          ],
          "scatterternary": [
           {
            "marker": {
             "colorbar": {
              "outlinewidth": 0,
              "ticks": ""
             }
            },
            "type": "scatterternary"
           }
          ],
          "surface": [
           {
            "colorbar": {
             "outlinewidth": 0,
             "ticks": ""
            },
            "colorscale": [
             [
              0,
              "#0d0887"
             ],
             [
              0.1111111111111111,
              "#46039f"
             ],
             [
              0.2222222222222222,
              "#7201a8"
             ],
             [
              0.3333333333333333,
              "#9c179e"
             ],
             [
              0.4444444444444444,
              "#bd3786"
             ],
             [
              0.5555555555555556,
              "#d8576b"
             ],
             [
              0.6666666666666666,
              "#ed7953"
             ],
             [
              0.7777777777777778,
              "#fb9f3a"
             ],
             [
              0.8888888888888888,
              "#fdca26"
             ],
             [
              1,
              "#f0f921"
             ]
            ],
            "type": "surface"
           }
          ],
          "table": [
           {
            "cells": {
             "fill": {
              "color": "#EBF0F8"
             },
             "line": {
              "color": "white"
             }
            },
            "header": {
             "fill": {
              "color": "#C8D4E3"
             },
             "line": {
              "color": "white"
             }
            },
            "type": "table"
           }
          ]
         },
         "layout": {
          "annotationdefaults": {
           "arrowcolor": "#2a3f5f",
           "arrowhead": 0,
           "arrowwidth": 1
          },
          "coloraxis": {
           "colorbar": {
            "outlinewidth": 0,
            "ticks": ""
           }
          },
          "colorscale": {
           "diverging": [
            [
             0,
             "#8e0152"
            ],
            [
             0.1,
             "#c51b7d"
            ],
            [
             0.2,
             "#de77ae"
            ],
            [
             0.3,
             "#f1b6da"
            ],
            [
             0.4,
             "#fde0ef"
            ],
            [
             0.5,
             "#f7f7f7"
            ],
            [
             0.6,
             "#e6f5d0"
            ],
            [
             0.7,
             "#b8e186"
            ],
            [
             0.8,
             "#7fbc41"
            ],
            [
             0.9,
             "#4d9221"
            ],
            [
             1,
             "#276419"
            ]
           ],
           "sequential": [
            [
             0,
             "#0d0887"
            ],
            [
             0.1111111111111111,
             "#46039f"
            ],
            [
             0.2222222222222222,
             "#7201a8"
            ],
            [
             0.3333333333333333,
             "#9c179e"
            ],
            [
             0.4444444444444444,
             "#bd3786"
            ],
            [
             0.5555555555555556,
             "#d8576b"
            ],
            [
             0.6666666666666666,
             "#ed7953"
            ],
            [
             0.7777777777777778,
             "#fb9f3a"
            ],
            [
             0.8888888888888888,
             "#fdca26"
            ],
            [
             1,
             "#f0f921"
            ]
           ],
           "sequentialminus": [
            [
             0,
             "#0d0887"
            ],
            [
             0.1111111111111111,
             "#46039f"
            ],
            [
             0.2222222222222222,
             "#7201a8"
            ],
            [
             0.3333333333333333,
             "#9c179e"
            ],
            [
             0.4444444444444444,
             "#bd3786"
            ],
            [
             0.5555555555555556,
             "#d8576b"
            ],
            [
             0.6666666666666666,
             "#ed7953"
            ],
            [
             0.7777777777777778,
             "#fb9f3a"
            ],
            [
             0.8888888888888888,
             "#fdca26"
            ],
            [
             1,
             "#f0f921"
            ]
           ]
          },
          "colorway": [
           "#636efa",
           "#EF553B",
           "#00cc96",
           "#ab63fa",
           "#FFA15A",
           "#19d3f3",
           "#FF6692",
           "#B6E880",
           "#FF97FF",
           "#FECB52"
          ],
          "font": {
           "color": "#2a3f5f"
          },
          "geo": {
           "bgcolor": "white",
           "lakecolor": "white",
           "landcolor": "#E5ECF6",
           "showlakes": true,
           "showland": true,
           "subunitcolor": "white"
          },
          "hoverlabel": {
           "align": "left"
          },
          "hovermode": "closest",
          "mapbox": {
           "style": "light"
          },
          "paper_bgcolor": "white",
          "plot_bgcolor": "#E5ECF6",
          "polar": {
           "angularaxis": {
            "gridcolor": "white",
            "linecolor": "white",
            "ticks": ""
           },
           "bgcolor": "#E5ECF6",
           "radialaxis": {
            "gridcolor": "white",
            "linecolor": "white",
            "ticks": ""
           }
          },
          "scene": {
           "xaxis": {
            "backgroundcolor": "#E5ECF6",
            "gridcolor": "white",
            "gridwidth": 2,
            "linecolor": "white",
            "showbackground": true,
            "ticks": "",
            "zerolinecolor": "white"
           },
           "yaxis": {
            "backgroundcolor": "#E5ECF6",
            "gridcolor": "white",
            "gridwidth": 2,
            "linecolor": "white",
            "showbackground": true,
            "ticks": "",
            "zerolinecolor": "white"
           },
           "zaxis": {
            "backgroundcolor": "#E5ECF6",
            "gridcolor": "white",
            "gridwidth": 2,
            "linecolor": "white",
            "showbackground": true,
            "ticks": "",
            "zerolinecolor": "white"
           }
          },
          "shapedefaults": {
           "line": {
            "color": "#2a3f5f"
           }
          },
          "ternary": {
           "aaxis": {
            "gridcolor": "white",
            "linecolor": "white",
            "ticks": ""
           },
           "baxis": {
            "gridcolor": "white",
            "linecolor": "white",
            "ticks": ""
           },
           "bgcolor": "#E5ECF6",
           "caxis": {
            "gridcolor": "white",
            "linecolor": "white",
            "ticks": ""
           }
          },
          "title": {
           "x": 0.05
          },
          "xaxis": {
           "automargin": true,
           "gridcolor": "white",
           "linecolor": "white",
           "ticks": "",
           "title": {
            "standoff": 15
           },
           "zerolinecolor": "white",
           "zerolinewidth": 2
          },
          "yaxis": {
           "automargin": true,
           "gridcolor": "white",
           "linecolor": "white",
           "ticks": "",
           "title": {
            "standoff": 15
           },
           "zerolinecolor": "white",
           "zerolinewidth": 2
          }
         }
        },
        "xaxis": {
         "anchor": "y",
         "domain": [
          0,
          1
         ],
         "title": {
          "text": "x"
         }
        },
        "yaxis": {
         "anchor": "x",
         "domain": [
          0,
          1
         ],
         "title": {
          "text": "y"
         }
        }
       }
      },
      "text/html": [
       "<div>                            <div id=\"813bd69e-93b7-4094-98ad-f2e54841c8f6\" class=\"plotly-graph-div\" style=\"height:525px; width:100%;\"></div>            <script type=\"text/javascript\">                require([\"plotly\"], function(Plotly) {                    window.PLOTLYENV=window.PLOTLYENV || {};                                    if (document.getElementById(\"813bd69e-93b7-4094-98ad-f2e54841c8f6\")) {                    Plotly.newPlot(                        \"813bd69e-93b7-4094-98ad-f2e54841c8f6\",                        [{\"customdata\": [[\"Let Go\"]], \"hovertemplate\": \"artista=-M- (Mathieu Chedid)<br>x=%{x}<br>y=%{y}<br>musica=%{customdata[0]}<extra></extra>\", \"legendgroup\": \"-M- (Mathieu Chedid)\", \"marker\": {\"color\": \"#636efa\", \"opacity\": 0.7, \"symbol\": \"circle\"}, \"mode\": \"markers\", \"name\": \"-M- (Mathieu Chedid)\", \"showlegend\": true, \"type\": \"scattergl\", \"x\": [-66.27098846435547], \"xaxis\": \"x\", \"y\": [27.23780059814453], \"yaxis\": \"y\"}, {\"customdata\": [[\"Someone Like You\"], [\"Hello\"], [\"River Lea\"], [\"If It Hadn't Been For Love\"], [\"Sweetest Devotion\"], [\"Chasing Pavements\"], [\"Lay Me Down\"], [\"Lovesong\"], [\"Love In The Dark\"], [\"Hometown Glory\"], [\"Remedy\"], [\"Million Years Ago\"], [\"Crazy For You\"], [\"Turning Tables\"], [\"Water Under The Bridge\"], [\"Set Fire To The Rain\"], [\"Send My Love (To Your New Lover)\"], [\"When We Were Young\"], [\"One and Only\"], [\"Rolling In The Deep\"], [\"Make You Feel My Love\"], [\"All I Ask\"], [\"Don't You Remember\"], [\"I Miss You\"], [\"Skyfall\"]], \"hovertemplate\": \"artista=Adele<br>x=%{x}<br>y=%{y}<br>musica=%{customdata[0]}<extra></extra>\", \"legendgroup\": \"Adele\", \"marker\": {\"color\": \"#EF553B\", \"opacity\": 0.7, \"symbol\": \"circle\"}, \"mode\": \"markers\", \"name\": \"Adele\", \"showlegend\": true, \"type\": \"scattergl\", \"x\": [-19.31600570678711, -37.424800872802734, -17.310094833374023, 1.4441243410110474, 38.26191711425781, 34.938472747802734, -12.098505020141602, -58.338314056396484, 46.65183639526367, -21.479997634887695, -23.20897102355957, 43.17998123168945, -8.091423034667969, -4.327754497528076, -29.399385452270508, -31.642412185668945, 5.496428489685059, -16.661109924316406, -7.818377494812012, -19.5148983001709, 21.401058197021484, 28.812376022338867, -4.279733657836914, -14.427820205688477, -35.64071273803711], \"xaxis\": \"x\", \"y\": [-9.745161056518555, 67.47827911376953, 11.74078369140625, 0.7183332443237305, -11.405900955200195, -63.20555114746094, 5.687611103057861, -40.60317611694336, 39.3108024597168, 45.04890823364258, -45.767723083496094, -3.8243885040283203, -45.490257263183594, -25.404582977294922, -27.249305725097656, 35.765987396240234, -18.75278091430664, 54.5808219909668, -27.276355743408203, -19.79591178894043, -31.656452178955078, 1.3150811195373535, 33.70104217529297, 23.173612594604492, 47.56455993652344], \"yaxis\": \"y\"}, {\"customdata\": [[\"Falling In Love (Is Hard On The Knees)\"], [\"Dude (Looks Like A Lady)\"], [\"Girls Of Summer\"], [\"The Other Side\"], [\"Full Circle\"], [\"Janie's Got a Gun\"], [\"Love In An Elevator\"], [\"Livin' On The Edge\"], [\"All Your Love\"], [\"What Could Have Been Love\"], [\"Sweet Emotion\"], [\"Sing For The Moment\"], [\"Pink\"], [\"Walk This Way\"], [\"Jaded\"], [\"Fly Away From Here\"], [\"Hole In My Soul\"], [\"Angel\"], [\"Amazing\"], [\"Crazy\"], [\"Dream On\"], [\"Cryin'\"], [\"I Don't Want To Miss A Thing\"], [\"What It Takes\"]], \"hovertemplate\": \"artista=Aerosmith<br>x=%{x}<br>y=%{y}<br>musica=%{customdata[0]}<extra></extra>\", \"legendgroup\": \"Aerosmith\", \"marker\": {\"color\": \"#00cc96\", \"opacity\": 0.7, \"symbol\": \"circle\"}, \"mode\": \"markers\", \"name\": \"Aerosmith\", \"showlegend\": true, \"type\": \"scattergl\", \"x\": [34.16654968261719, 8.859766960144043, 43.83634567260742, 31.37586784362793, -6.1552605628967285, 28.683984756469727, 38.69309616088867, 19.828147888183594, 13.829453468322754, -35.07448196411133, -9.623188018798828, -70.93006134033203, -9.953877449035645, -40.46940231323242, 31.65565299987793, 19.625839233398438, -21.006330490112305, 14.131611824035645, -11.916000366210938, -7.688704490661621, -70.64151763916016, 24.895675659179688, 21.906330108642578, -37.655147552490234], \"xaxis\": \"x\", \"y\": [-2.0292532444000244, 21.2928524017334, 32.09783172607422, 39.85818099975586, 59.60356521606445, -48.40806579589844, 10.32580852508545, -1.0651366710662842, -31.064550399780273, -0.534286618232727, -12.601099014282227, -22.119369506835938, 37.33610916137695, 40.50466537475586, 18.749101638793945, 60.26091766357422, 11.144835472106934, -29.834665298461914, 15.691110610961914, -46.5107421875, -21.909162521362305, 72.39119720458984, 4.578729152679443, -21.238170623779297], \"yaxis\": \"y\"}, {\"customdata\": [[\"A Woman's Worth\"], [\"Authors Of Forever\"], [\"Girl On Fire (Inferno Version) (feat. Nicki Minaj)\"], [\"Gramercy Park\"], [\"Show Me Love (feat. Miguel)\"], [\"Me x 7 (feat. Tierra Whack)\"], [\"Time Machine\"], [\"Superwoman\"], [\"Brand New Me\"], [\"Wasted Energy\"], [\"You Don't Know My Name\"], [\"So Done (feat. Khalid)\"], [\"Underdog\"], [\"Love Looks Better\"], [\"Fallin'\"], [\"Girl On Fire\"], [\"No One\"], [\"You Save Me (feat. Snoh Aalegra)\"], [\"Empire State Of Mind (part. Ii)\"], [\"3 Hour Drive (feat. Sampha)\"], [\"If I Ain't Got You\"], [\"Empire State Of Mind\"], [\"Truth Without Love\"], [\"Karma\"], [\"Show Me Love (Ft. Miguel, 21 Savage) (Remix)\"]], \"hovertemplate\": \"artista=Alicia Keys<br>x=%{x}<br>y=%{y}<br>musica=%{customdata[0]}<extra></extra>\", \"legendgroup\": \"Alicia Keys\", \"marker\": {\"color\": \"#ab63fa\", \"opacity\": 0.7, \"symbol\": \"circle\"}, \"mode\": \"markers\", \"name\": \"Alicia Keys\", \"showlegend\": true, \"type\": \"scattergl\", \"x\": [10.035183906555176, -17.095638275146484, 5.796643257141113, 32.96977615356445, 28.307003021240234, 63.71820068359375, -29.95635414123535, -29.777135848999023, -36.425506591796875, 17.91562843322754, 22.365955352783203, 36.04944610595703, 41.97575378417969, 15.648723602294922, 15.823710441589355, 5.788445472717285, 50.45002365112305, -4.829092979431152, -63.78165054321289, 20.417734146118164, -19.516372680664062, -63.75625991821289, -5.436001777648926, 32.326560974121094, 28.293737411499023], \"xaxis\": \"x\", \"y\": [47.485809326171875, 47.05892562866211, 56.67012405395508, 31.671890258789062, 25.406213760375977, 24.934574127197266, -49.194766998291016, 2.5739874839782715, -5.7647504806518555, -36.47365188598633, 20.892370223999023, 49.95382308959961, 63.26533508300781, -35.56661605834961, -58.959171295166016, 56.68992614746094, -50.91181945800781, -4.570362091064453, 10.26291561126709, -16.93883514404297, -4.286377906799316, 10.256974220275879, -51.97793197631836, 50.67559814453125, 25.379714965820312], \"yaxis\": \"y\"}, {\"customdata\": [[\"Beauty and The Beast (Feat. John Legend)\"], [\"fake smile\"], [\"make up\"], [\"Love Me Harder (Feat. The Weeknd)\"], [\"in my head\"], [\"Don't Call Me Angel (With Miley Cyrus, Lana Del Rey)\"], [\"Break Free (Feat. Zedd)\"], [\"imagine\"], [\"(You Make Me Feel Like) a Natural Woman (Aretha Franklin tribute)\"], [\"bloodline\"], [\"breathin\"], [\"needy\"], [\"break up with your girlfriend, i'm bored\"], [\"Into You\"], [\"Side to Side (Feat. Nicki Minaj)\"], [\"no tears left to cry\"], [\"One Last Time\"], [\"God is a woman\"], [\"thank u, next\"], [\"7 rings\"], [\"Stuck With U (with Justin Bieber)\"], [\"Dangerous Woman\"], [\"How I Look On You\"], [\"Problem (feat. Iggy Azalea)\"], [\"I Have Nothing\"]], \"hovertemplate\": \"artista=Ariana Grande<br>x=%{x}<br>y=%{y}<br>musica=%{customdata[0]}<extra></extra>\", \"legendgroup\": \"Ariana Grande\", \"marker\": {\"color\": \"#FFA15A\", \"opacity\": 0.7, \"symbol\": \"circle\"}, \"mode\": \"markers\", \"name\": \"Ariana Grande\", \"showlegend\": true, \"type\": \"scattergl\", \"x\": [47.15964889526367, 44.714439392089844, 74.11100006103516, 36.61799240112305, -3.7557497024536133, -27.228479385375977, -14.502511024475098, 44.286502838134766, -56.42417526245117, 73.6390151977539, 35.201141357421875, 14.430383682250977, 45.69862747192383, 45.58708953857422, -2.7173521518707275, 38.48267364501953, 13.331318855285645, 6.146923065185547, 28.267824172973633, 35.07506561279297, 1.1750104427337646, -37.67726135253906, -3.9500722885131836, -20.709251403808594, -20.92401123046875], \"xaxis\": \"x\", \"y\": [-24.659975051879883, 63.52590560913086, 3.291919231414795, -24.713123321533203, -16.200525283813477, -37.008094787597656, 9.746336936950684, -0.971918523311615, -30.148563385009766, 4.507382392883301, 21.929931640625, -13.348026275634766, 34.8840446472168, -44.90227127075195, -4.956282615661621, 9.236681938171387, 12.75119400024414, -35.29551315307617, -21.61603546142578, 10.02358627319336, -59.29161071777344, 6.740187644958496, 2.40160870552063, -38.12202453613281, -70.95513916015625], \"yaxis\": \"y\"}, {\"customdata\": [[\"We Are Warriors\"], [\"Girlfriend\"], [\"Complicated\"], [\"I'm With You\"], [\"When You're Gone\"], [\"Wish You Were Here\"], [\"Sk8er Boi\"], [\"Rock N Roll\"], [\"My Happy Ending\"], [\"Smile\"], [\"Nobody's Home\"], [\"Head Above Water\"], [\"What The Hell\"], [\"Don't Tell Me\"], [\"Let Me Go (Feat. Chad Kroeger)\"], [\"The Best Damn Thing\"], [\"Innocence\"], [\"Hot\"], [\"Tomorrow\"], [\"Keep Holding On\"], [\"Losing Grip\"], [\"I Fell In Love With The Devil\"], [\"Goodbye\"], [\"Things I'll Never Say\"], [\"Nobody's Fool\"]], \"hovertemplate\": \"artista=Avril Lavigne<br>x=%{x}<br>y=%{y}<br>musica=%{customdata[0]}<extra></extra>\", \"legendgroup\": \"Avril Lavigne\", \"marker\": {\"color\": \"#19d3f3\", \"opacity\": 0.7, \"symbol\": \"circle\"}, \"mode\": \"markers\", \"name\": \"Avril Lavigne\", \"showlegend\": true, \"type\": \"scattergl\", \"x\": [-17.674253463745117, 58.435028076171875, 6.154423236846924, 41.50957489013672, 4.837889194488525, -65.88111877441406, -43.96491622924805, 57.10115051269531, 46.87284851074219, 1.0809617042541504, 8.899511337280273, -27.330251693725586, 77.54842376708984, -37.09031677246094, -68.0447006225586, 56.4998664855957, 14.11815071105957, 35.29178237915039, 50.40119552612305, 44.1625862121582, 9.988815307617188, 17.824254989624023, -15.157358169555664, 68.14190673828125, 78.3695297241211], \"xaxis\": \"x\", \"y\": [47.13539505004883, -2.7611947059631348, -24.384929656982422, 42.25349807739258, -13.441317558288574, 27.267683029174805, 34.090415954589844, -2.2681949138641357, -53.15896224975586, -32.677635192871094, 50.699317932128906, -27.428552627563477, -13.472545623779297, -20.77463722229004, 26.7630558013916, -2.4843733310699463, -8.484480857849121, -1.9968475103378296, 30.068286895751953, 41.8709831237793, -26.70652961730957, -57.746315002441406, -35.60179901123047, -25.154184341430664, -11.646191596984863], \"yaxis\": \"y\"}, {\"customdata\": [[\"Savage Love (Laxed - Siren Beat) [BTS Remix]\"], [\"Dynamite\"]], \"hovertemplate\": \"artista=BTS<br>x=%{x}<br>y=%{y}<br>musica=%{customdata[0]}<extra></extra>\", \"legendgroup\": \"BTS\", \"marker\": {\"color\": \"#FF6692\", \"opacity\": 0.7, \"symbol\": \"circle\"}, \"mode\": \"markers\", \"name\": \"BTS\", \"showlegend\": true, \"type\": \"scattergl\", \"x\": [79.29816436767578, 69.51830291748047], \"xaxis\": \"x\", \"y\": [-12.560365676879883, 24.01333236694336], \"yaxis\": \"y\"}, {\"customdata\": [[\"Quit Playing Games (With My Heart)\"], [\"As Long As You Love Me\"], [\"Everybody (Backstreet's Back)\"], [\"Incomplete\"], [\"All I Have To Give\"], [\"Drowning\"], [\"Don't Go Breaking My Heart\"], [\"Show Me The Meaning Of Being Lonely\"], [\"No Place\"], [\"I Still...\"], [\"Chateau\"], [\"Nobody Else\"], [\"We've Got It Goin' On\"], [\"New Love\"], [\"The One\"], [\"Helpless When She Smiles\"], [\"I'll Never Break Your Heart\"], [\"Breathe (2019)\"], [\"Larger Than Life\"], [\"The Call\"], [\"Don't Wanna Lose You Now\"], [\"Chances\"], [\"I Want It That Way\"], [\"Shape Of My Heart\"], [\"Inconsolable\"]], \"hovertemplate\": \"artista=Backstreet Boys<br>x=%{x}<br>y=%{y}<br>musica=%{customdata[0]}<extra></extra>\", \"legendgroup\": \"Backstreet Boys\", \"marker\": {\"color\": \"#B6E880\", \"opacity\": 0.7, \"symbol\": \"circle\"}, \"mode\": \"markers\", \"name\": \"Backstreet Boys\", \"showlegend\": true, \"type\": \"scattergl\", \"x\": [94.54006958007812, 43.18376541137695, 11.127764701843262, -16.930086135864258, -20.74207305908203, -2.4169487953186035, 0.2723214626312256, 9.490368843078613, 25.143159866333008, -31.71932601928711, 30.72044563293457, -59.60826110839844, 27.41111946105957, 50.43930435180664, 10.39211368560791, 8.177362442016602, -9.58902645111084, -62.23533630371094, 8.742932319641113, 9.833834648132324, -28.32581901550293, -0.04837378114461899, -33.13583755493164, 0.6726943850517273, -19.4097957611084], \"xaxis\": \"x\", \"y\": [9.534878730773926, -24.867225646972656, 29.288494110107422, -0.13180148601531982, -21.783735275268555, -19.91290855407715, -40.2895622253418, 1.4367501735687256, 36.7996826171875, -5.419054985046387, 51.42222595214844, -1.6189018487930298, 58.72365188598633, -52.681026458740234, 12.901256561279297, 49.7514762878418, -25.2157039642334, 20.48573875427246, 32.06269836425781, -12.604456901550293, -7.979254722595215, 31.28573989868164, -29.76381492614746, -37.69013214111328, -31.23021125793457], \"yaxis\": \"y\"}, {\"customdata\": [[\"Rocket\"], [\"Halo\"], [\"Irreplaceable\"], [\"If I Were A Boy\"], [\"Pretty Hurts\"], [\"Listen\"], [\"Brown Skin Girl (With Saint Jhn and Wizkid feat. Blue Ivy Carter)\"], [\"Crazy In Love (feat. Jay Z)\"], [\"***Flawless (Feat. Chimamanda Ngozi Adichie)\"], [\"Formation\"], [\"Freedom (Feat. Kendrick Lamar)\"], [\"Me, Myself And I\"], [\"Love On Top\"], [\"Diva\"], [\"Already (with Shatta Wale and Major Lazer)\"], [\"My Power (With Tierra Whack, Moonchild Sanelly, Nija)\"], [\"***Flawless (Feat. Nicki Minaj)\"], [\"Hold Up\"], [\"Ego\"], [\"Black Parade\"], [\"Sorry\"], [\"I Was Here\"], [\"Single Ladies (Put A Ring On It)\"], [\"Hello\"], [\"Spirit\"]], \"hovertemplate\": \"artista=Beyonc\\u00e9<br>x=%{x}<br>y=%{y}<br>musica=%{customdata[0]}<extra></extra>\", \"legendgroup\": \"Beyonc\\u00e9\", \"marker\": {\"color\": \"#FF97FF\", \"opacity\": 0.7, \"symbol\": \"circle\"}, \"mode\": \"markers\", \"name\": \"Beyonc\\u00e9\", \"showlegend\": true, \"type\": \"scattergl\", \"x\": [31.95960807800293, 19.613731384277344, -8.641785621643066, 13.638394355773926, -6.8917670249938965, -12.20101547241211, 11.676323890686035, 11.95112419128418, -39.916622161865234, -61.57865905761719, -42.37739181518555, -3.4093570709228516, 14.321173667907715, 96.78678894042969, 40.43077087402344, -37.435569763183594, -39.91672897338867, -11.554908752441406, 39.93724822998047, 55.35997772216797, -36.55391311645508, -27.1898193359375, -42.54596710205078, -38.197540283203125, 41.67060852050781], \"xaxis\": \"x\", \"y\": [-5.0712103843688965, -29.521272659301758, -8.558920860290527, -15.07958984375, 16.78778648376465, -7.777316570281982, -23.76499366760254, -77.99147033691406, 25.912263870239258, -9.420342445373535, 10.545086860656738, -11.369133949279785, -29.34349822998047, 7.284996509552002, -44.29856872558594, 13.722478866577148, 25.910213470458984, -35.73279571533203, 8.464727401733398, -1.1564359664916992, -51.889041900634766, -6.541177749633789, -25.075960159301758, 66.90130615234375, 37.79231262207031], \"yaxis\": \"y\"}, {\"customdata\": [[\"No Time To Die\"], [\"\\u200bwhen the party's over\"], [\"I Love You\"], [\"Lovely (with Khalid)\"], [\"Everything I Wanted\"], [\"Ocean Eyes\"], [\"my future\"], [\"All The Good Girls Go To Hell\"], [\"Idontwannabeyouanymore\"], [\"My Strange Addiction\"], [\"Ilomilo\"], [\"Xanny\"], [\"Bad Guy\"]], \"hovertemplate\": \"artista=Billie Eilish<br>x=%{x}<br>y=%{y}<br>musica=%{customdata[0]}<extra></extra>\", \"legendgroup\": \"Billie Eilish\", \"marker\": {\"color\": \"#FECB52\", \"opacity\": 0.7, \"symbol\": \"circle\"}, \"mode\": \"markers\", \"name\": \"Billie Eilish\", \"showlegend\": true, \"type\": \"scattergl\", \"x\": [-3.0120489597320557, 7.932626724243164, 41.06719970703125, 26.684263229370117, -15.74669075012207, 21.704591751098633, -0.8167428970336914, -28.36536979675293, -14.298274993896484, 14.055776596069336, -14.455018043518066, 32.54216003417969, 32.93048095703125], \"xaxis\": \"x\", \"y\": [-29.245792388916016, 21.118494033813477, 65.42086029052734, 37.53926086425781, -24.903879165649414, -17.16208839416504, -69.82820892333984, 14.497082710266113, -24.83201026916504, -19.161884307861328, -24.458576202392578, 30.95889663696289, -5.161901950836182], \"yaxis\": \"y\"}, {\"customdata\": [[\"Missing You\"], [\"Big Love\"], [\"Just Can't Get Enough\"], [\"Don't Phunk With My Heart\"], [\"Girl Like Me (With Shakira)\"], [\"Feel The Beat (With Maluma)\"], [\"Let's Get It Started\"], [\"eXplosion (With Anitta)\"], [\"I Gotta Feeling\"], [\"Where Is The Love?\"], [\"RITMO (Bad Boys For Life) (With J Balvin)\"], [\"MAMACITA (With Ozuna & J. Rey Soul)\"], [\"Vida Loca (With Nicky Jam and Tyga)\"], [\"ACTION\"], [\"Don't Lie\"], [\"Pump It\"], [\"Mas Que Nada\"], [\"Boom Boom Pow\"], [\"Meet Me Halfway\"], [\"Shut Up\"], [\"The Time (Dirty Bit)\"], [\"On My Own\"], [\"My Humps\"]], \"hovertemplate\": \"artista=Black Eyed Peas<br>x=%{x}<br>y=%{y}<br>musica=%{customdata[0]}<extra></extra>\", \"legendgroup\": \"Black Eyed Peas\", \"marker\": {\"color\": \"#636efa\", \"opacity\": 0.7, \"symbol\": \"circle\"}, \"mode\": \"markers\", \"name\": \"Black Eyed Peas\", \"showlegend\": true, \"type\": \"scattergl\", \"x\": [-1.3759702444076538, -19.670881271362305, 30.95770263671875, 50.17525100708008, 66.2704849243164, 21.094959259033203, 38.379207611083984, -3.0994505882263184, -42.17659378051758, -10.171356201171875, -12.180444717407227, 75.34403991699219, 66.0776138305664, -34.66487503051758, 50.653411865234375, 48.19623565673828, 77.594970703125, 3.2192013263702393, -8.56546401977539, -18.64153480529785, -55.751861572265625, -28.075088500976562, -37.99156951904297], \"xaxis\": \"x\", \"y\": [-68.87865447998047, 49.40618896484375, -13.793246269226074, -12.621211051940918, 22.224102020263672, -30.236005783081055, -49.34788131713867, 8.643308639526367, -31.30847930908203, 28.891521453857422, 29.675586700439453, 1.0064526796340942, 21.700124740600586, 15.153239250183105, -12.981526374816895, -57.794105529785156, -10.68275260925293, -4.218677997589111, -42.648094177246094, -13.3635835647583, 5.149103164672852, 20.445384979248047, 9.236871719360352], \"yaxis\": \"y\"}, {\"customdata\": [[\"Buffalo Soldier\"], [\"Exodus\"], [\"I Shot The Sheriff\"], [\"Soul Rebel\"], [\"Kaya\"], [\"Get Up Stand Up\"], [\"Coming In From The Cold\"], [\"Lively Up Yourself\"], [\"Slave Driver\"], [\"Iron Lion Zion\"], [\"Turn Your Lights Down Low\"], [\"Stir It Up\"], [\"Concrete Jungle\"], [\"Satisfy My Soul\"], [\"Three Little Birds\"], [\"Is This Love?\"], [\"Redemption Song\"], [\"No Woman No Cry\"], [\"One Love / People Get Ready\"], [\"Jammin'\"], [\"Natural Mystic\"], [\"Waiting In Vain\"], [\"Sun Is Shining\"], [\"Could You Be Loved\"], [\"Positive Vibration\"]], \"hovertemplate\": \"artista=Bob Marley<br>x=%{x}<br>y=%{y}<br>musica=%{customdata[0]}<extra></extra>\", \"legendgroup\": \"Bob Marley\", \"marker\": {\"color\": \"#EF553B\", \"opacity\": 0.7, \"symbol\": \"circle\"}, \"mode\": \"markers\", \"name\": \"Bob Marley\", \"showlegend\": true, \"type\": \"scattergl\", \"x\": [-43.25400924682617, 64.50537872314453, 42.5235710144043, 5.722783088684082, -48.045867919921875, 34.40751647949219, -8.365479469299316, 60.54319763183594, 28.746856689453125, 3.966381072998047, 29.679841995239258, 21.95623207092285, -61.389503479003906, -53.942386627197266, -38.707244873046875, 12.742255210876465, -37.4101448059082, 55.15534210205078, -53.909759521484375, -12.258712768554688, -24.80344581604004, 21.494020462036133, 51.006221771240234, 65.28411865234375, 27.905073165893555], \"xaxis\": \"x\", \"y\": [31.67184066772461, -38.34719467163086, 66.31219482421875, -16.469295501708984, 9.156002044677734, -66.14696502685547, 19.834144592285156, -3.669689655303955, -11.547370910644531, 34.45085525512695, 10.918416023254395, -56.128726959228516, 10.333111763000488, -27.59284019470215, -34.95375061035156, -39.502777099609375, 20.619415283203125, -15.972162246704102, 22.209575653076172, 45.2402229309082, -44.51219940185547, 4.954601287841797, -13.548564910888672, -14.730047225952148, 14.704354286193848], \"yaxis\": \"y\"}, {\"customdata\": [[\"Story Of Love\"], [\"Livin' On A Prayer\"], [\"Beautiful Drug\"], [\"Blood In The Water\"], [\"Bed Of Roses\"], [\"I'll Be There For You\"], [\"Misunderstood\"], [\"Do What You Can\"], [\"Let It Rain\"], [\"You Give Love A Bad Name\"], [\"Limitless\"], [\"Lower The Flag\"], [\"Always\"], [\"Brothers In Arms\"], [\"Thank You For Loving Me\"], [\"American Reckoning\"], [\"These Days\"], [\"Have a Nice Day\"], [\"Wanted Dead Or Alive\"], [\"This Ain't A Love Song\"], [\"Never Say Goodbye\"], [\"Miracle\"], [\"Do What You Can (With Jennifer Nettles)\"], [\"Blaze Of Glory\"], [\"It's My Life\"]], \"hovertemplate\": \"artista=Bon Jovi<br>x=%{x}<br>y=%{y}<br>musica=%{customdata[0]}<extra></extra>\", \"legendgroup\": \"Bon Jovi\", \"marker\": {\"color\": \"#00cc96\", \"opacity\": 0.7, \"symbol\": \"circle\"}, \"mode\": \"markers\", \"name\": \"Bon Jovi\", \"showlegend\": true, \"type\": \"scattergl\", \"x\": [-39.86117172241211, -13.928956031799316, 3.374002456665039, -26.980876922607422, -8.337930679321289, -15.000802040100098, -34.03031921386719, 24.788291931152344, -35.5389404296875, 19.869245529174805, -51.605369567871094, -8.806171417236328, -15.91370964050293, -10.605825424194336, 28.210954666137695, -5.191304683685303, -29.92268180847168, 3.878304958343506, -17.608606338500977, -5.716027736663818, -34.75490951538086, -10.12736701965332, 24.787965774536133, -43.19221115112305, 2.8916313648223877], \"xaxis\": \"x\", \"y\": [0.2768571972846985, 45.976253509521484, -52.79738235473633, 26.959611892700195, 5.307408809661865, -48.73296356201172, 0.5245755910873413, 71.567626953125, 26.278207778930664, -17.97599983215332, 12.630592346191406, 49.50074005126953, -44.19970703125, 10.215471267700195, -22.318464279174805, 33.58932876586914, 14.80196762084961, 35.7849235534668, 14.825029373168945, -51.60768127441406, 58.4682731628418, 17.923154830932617, 71.55754089355469, 8.375055313110352, 36.46938705444336], \"yaxis\": \"y\"}, {\"customdata\": [[\"Just The Way You Are\"], [\"Locked Out Of Heaven\"], [\"Nothin' On You (remix)\"], [\"Chunky\"], [\"Finesse\"], [\"Rest Of My Life\"], [\"Gorilla\"], [\"Too Good To Say Goodbye\"], [\"Just The Way You Are (Remix) (Feat. Lupe Fiasco)\"], [\"Don't Give Up\"], [\"Finesse (Remix) (Feat. Cardi B)\"], [\"Nothin' On You\"], [\"Talking To The Moon\"], [\"Marry You\"], [\"Treasure\"], [\"Versace On The Floor\"], [\"Billionaire\"], [\"That's What I Like\"], [\"Grenade\"], [\"It Will Rain\"], [\"24k Magic\"], [\"The Lazy Song\"], [\"When I Was Your Man\"], [\"Uptown Funk!\"], [\"Count On Me\"]], \"hovertemplate\": \"artista=Bruno Mars<br>x=%{x}<br>y=%{y}<br>musica=%{customdata[0]}<extra></extra>\", \"legendgroup\": \"Bruno Mars\", \"marker\": {\"color\": \"#ab63fa\", \"opacity\": 0.7, \"symbol\": \"circle\"}, \"mode\": \"markers\", \"name\": \"Bruno Mars\", \"showlegend\": true, \"type\": \"scattergl\", \"x\": [-32.78792953491211, 47.81108474731445, -43.9434814453125, -0.8040692806243896, 28.049917221069336, 2.394449234008789, 3.8603384494781494, -35.170318603515625, -32.814701080322266, 35.84272384643555, 28.041248321533203, -43.957664489746094, 18.63117027282715, 53.97964859008789, 12.935062408447266, 54.94784164428711, -1.4437918663024902, 26.173744201660156, 54.121437072753906, -16.017534255981445, -25.980928421020508, 52.912208557128906, 41.274925231933594, 53.80182647705078, -16.6351375579834], \"xaxis\": \"x\", \"y\": [-65.81671142578125, 39.621768951416016, 0.5892996191978455, 10.292193412780762, 59.29282760620117, 8.700726509094238, -28.177078247070312, -24.505491256713867, -65.79460906982422, -65.4962387084961, 59.28353500366211, 0.5857340693473816, 27.2230281829834, 35.57020950317383, -19.123889923095703, -6.590590953826904, 12.550695419311523, 14.257974624633789, 35.80966567993164, -45.324092864990234, 9.965606689453125, 35.07292175292969, 67.3502426147461, 16.667184829711914, -46.56311798095703], \"yaxis\": \"y\"}, {\"customdata\": [[\"Interlude\"], [\"A Thousand Years (Part 2) (Feat. Steve Kaze)\"], [\"I Believe\"], [\"Distance (Feat. Jason Mraz)\"], [\"I Don't Wanna Break\"], [\"Distance\"], [\"Burning Gold\"], [\"Tiny Victories\"], [\"Trust\"], [\"Sea Of Lovers\"], [\"Til There Was You\"], [\"I Will Follow You Into The Dark\"], [\"The Lonely\"], [\"Be My Forever (Feat. Ed Sheeran)\"], [\"You Mean The Whole Wide World To Me\"], [\"The Words\"], [\"I Like You\"], [\"Arms\"], [\"You Are My Sunshine\"], [\"Jar Of Hearts\"], [\"Human\"], [\"A Thousand Years\"], [\"Human (Passion Pit Remix)\"], [\"Ave Maria\"], [\"One Night\"]], \"hovertemplate\": \"artista=Christina Perri<br>x=%{x}<br>y=%{y}<br>musica=%{customdata[0]}<extra></extra>\", \"legendgroup\": \"Christina Perri\", \"marker\": {\"color\": \"#FFA15A\", \"opacity\": 0.7, \"symbol\": \"circle\"}, \"mode\": \"markers\", \"name\": \"Christina Perri\", \"showlegend\": true, \"type\": \"scattergl\", \"x\": [-88.059326171875, -24.516632080078125, -15.590492248535156, 21.480802536010742, 21.663135528564453, 21.481243133544922, -25.45456886291504, -16.798669815063477, -26.760272979736328, -8.99351978302002, -25.796266555786133, -10.847502708435059, -21.867692947387695, 14.994922637939453, 55.05082702636719, -14.125545501708984, -56.37028503417969, -6.664884090423584, -54.92190933227539, 52.42002868652344, 66.48797607421875, -24.522096633911133, 66.4880142211914, -21.896068572998047, 9.533178329467773], \"xaxis\": \"x\", \"y\": [-11.957693099975586, 71.3284683227539, 11.34666633605957, 49.5875358581543, 6.089848518371582, 49.5875129699707, 45.11561965942383, 13.954055786132812, -1.3858577013015747, 16.853782653808594, -6.261936187744141, 16.702556610107422, 21.51725959777832, 42.42427062988281, 14.196381568908691, 19.033584594726562, -30.11491584777832, -24.03456687927246, -32.76679229736328, 8.466119766235352, 10.136641502380371, 71.33126831054688, 10.13630485534668, -2.3612215518951416, 14.168787956237793], \"yaxis\": \"y\"}, {\"customdata\": [[\"Speed Of Sound\"], [\"Green Eyes\"], [\"The Scientist\"], [\"Viva La Vida\"], [\"Paradise\"], [\"Yellow\"], [\"Fix You\"], [\"God Put A Smile Upon Your Face\"], [\"Always In My Head\"], [\"Something Just Like This (feat. The Chainsmokers)\"], [\"Hymn for the Weekend (Feat. Beyonc\\u00e9)\"], [\"Clocks\"], [\"Magic\"], [\"A Sky Full Of Stars\"], [\"Sunrise\"], [\"Charlie Brown\"], [\"Every Teardrop Is a Waterfall\"], [\"A Head Full Of Dreams\"], [\"Trouble\"], [\"Orphans\"], [\"Everyday Life\"], [\"In My Place\"], [\"Adventure Of A Lifetime\"], [\"Up&Up\"]], \"hovertemplate\": \"artista=Coldplay<br>x=%{x}<br>y=%{y}<br>musica=%{customdata[0]}<extra></extra>\", \"legendgroup\": \"Coldplay\", \"marker\": {\"color\": \"#19d3f3\", \"opacity\": 0.7, \"symbol\": \"circle\"}, \"mode\": \"markers\", \"name\": \"Coldplay\", \"showlegend\": true, \"type\": \"scattergl\", \"x\": [-43.19380187988281, 13.181971549987793, 7.0905375480651855, -21.789186477661133, 50.460166931152344, -4.053019046783447, -40.992488861083984, 45.52017593383789, 15.826000213623047, 0.2081807404756546, 79.49800109863281, 24.85205078125, 42.07060241699219, 10.01854133605957, -88.97142028808594, -15.892319679260254, 41.61328125, 43.55192947387695, -43.791778564453125, 45.81248092651367, -14.476705551147461, 51.22163772583008, -57.47141647338867, 38.708587646484375], \"xaxis\": \"x\", \"y\": [-24.105257034301758, -16.600072860717773, 68.18820190429688, 17.746183395385742, -54.92080307006836, 1.2285792827606201, -45.42543411254883, -59.89960479736328, -22.931514739990234, 80.40621185302734, -8.627497673034668, -37.02982711791992, 66.43252563476562, -26.462453842163086, -12.122842788696289, 30.859792709350586, -53.400543212890625, 67.15477752685547, 22.665111541748047, -54.27013397216797, 23.299715042114258, 37.89984893798828, -30.55050277709961, -49.415042877197266], \"yaxis\": \"y\"}, {\"customdata\": [[\"Confident\"], [\"I Love Me\"], [\"Sorry Not Sorry\"], [\"Stone Cold\"], [\"Anyone\"], [\"Sober\"], [\"Skyscraper\"], [\"Give Your Heart A Break\"], [\"Heart Attack\"], [\"Cool For The Summer\"], [\"Gift Of A Friend\"], [\"Nightingale\"], [\"This Is Me (Gotta Find You) (Feat. Joe Jonas)\"], [\"Sorry (Unreleased)\"], [\"Warrior\"], [\"Father\"], [\"Let It Go\"], [\"Really Don't Care (Feat. Cher Lloyd)\"], [\"Lonely (Feat. Lil Wayne)\"], [\"Don't Forget\"], [\"Be Okay\"], [\"Tell Me You Love Me\"], [\"OK Not To Be OK (With Marshmello)\"], [\"Still Have Me\"]], \"hovertemplate\": \"artista=Demi Lovato<br>x=%{x}<br>y=%{y}<br>musica=%{customdata[0]}<extra></extra>\", \"legendgroup\": \"Demi Lovato\", \"marker\": {\"color\": \"#FF6692\", \"opacity\": 0.7, \"symbol\": \"circle\"}, \"mode\": \"markers\", \"name\": \"Demi Lovato\", \"showlegend\": true, \"type\": \"scattergl\", \"x\": [63.00447082519531, 47.27251434326172, -36.542964935302734, -6.6747517585754395, -38.42206573486328, 37.13341522216797, -26.315603256225586, -7.47053337097168, -54.095489501953125, 9.279037475585938, 3.4731950759887695, 0.8965149521827698, -20.057958602905273, 7.899271488189697, 26.30063247680664, -2.1450629234313965, -68.7581558227539, 46.14799499511719, -5.666329383850098, -17.057382583618164, -61.49679946899414, 33.11237716674805, 2.59822940826416, -32.3742561340332], \"xaxis\": \"x\", \"y\": [-36.822593688964844, 38.05237579345703, -51.89475631713867, -41.371673583984375, 19.06820297241211, -67.18923950195312, 6.595195770263672, -26.775299072265625, -31.33854103088379, 29.265995025634766, -13.501032829284668, -15.847700119018555, 4.8390889167785645, -17.872434616088867, -10.13671588897705, -27.520381927490234, 27.047819137573242, -48.85023498535156, -6.988735675811768, 53.744380950927734, -9.490026473999023, -17.553205490112305, -10.622218132019043, -2.9158949851989746], \"yaxis\": \"y\"}, {\"customdata\": [[\"Deep Pockets\"], [\"Sacrifices (Feat. 2 Chainz, Young Thug)\"], [\"Desires (Feat. Future)\"], [\"Take Care (Feat. Rihanna)\"], [\"Legend\"], [\"Nonstop\"], [\"Finesse\"], [\"Know Yourself\"], [\"Chicago Freestyle\"], [\"Time Flies\"], [\"Don't Matter To Me (Feat. Michael Jackson)\"], [\"Ratchet Happy Birthday\"], [\"All Me (Feat. 2 Chainz, Big Sean)\"], [\"Hotline Bling\"], [\"One Dance (Feat. Justin Bieber) (Remix)\"], [\"One Dance\"], [\"When To Say When / Chicago Freestyle (Video Version)\"], [\"Popstar\"], [\"Toosie Slide\"], [\"God's Plan\"], [\"Laugh Now Cry Later (Ft. Lil Durk)\"], [\"When to Say When\"], [\"War\"], [\"Forever (Feat. Kanye West, Lil' Wayne & Eminem)\"], [\"In My Feelings\"]], \"hovertemplate\": \"artista=Drake<br>x=%{x}<br>y=%{y}<br>musica=%{customdata[0]}<extra></extra>\", \"legendgroup\": \"Drake\", \"marker\": {\"color\": \"#B6E880\", \"opacity\": 0.7, \"symbol\": \"circle\"}, \"mode\": \"markers\", \"name\": \"Drake\", \"showlegend\": true, \"type\": \"scattergl\", \"x\": [-34.49024200439453, -30.754701614379883, -5.038330078125, 1.002325177192688, -66.3115234375, -32.2263069152832, -34.68706130981445, -7.432150840759277, -60.29511260986328, -6.625178813934326, 2.0827341079711914, 41.079559326171875, -33.746368408203125, -26.49959373474121, -67.48909759521484, -67.53946685791016, -60.255470275878906, 47.545074462890625, 41.20356750488281, -34.91938400268555, -32.679771423339844, -60.2184944152832, -31.30025863647461, -29.537311553955078, -11.779008865356445], \"xaxis\": \"x\", \"y\": [9.23481559753418, 13.083023071289062, -5.396640777587891, -23.805496215820312, 1.958999752998352, 10.103445053100586, -13.8587007522583, -2.4704489707946777, 41.474327087402344, -5.676717758178711, -24.020856857299805, -45.242820739746094, 10.644815444946289, -20.807947158813477, 0.2250531166791916, 0.144667387008667, 41.28364944458008, 32.24245834350586, 15.351499557495117, 11.561593055725098, 12.030669212341309, 41.09518814086914, 13.645423889160156, 13.849031448364258, -19.901123046875], \"yaxis\": \"y\"}, {\"customdata\": [[\"Levitating (feat. DaBaby)\"], [\"No Lie\"], [\"Be The One\"], [\"Love Again\"], [\"Future Nostalgia\"], [\"Pretty Please\"], [\"Kiss and Make Up (With BLACKPINK)\"], [\"Cool\"], [\"Un D\\u00eda (One Day) (With J Balvin, Bad Bunny, Tainy)\"], [\"One Kiss\"], [\"Boys Will Be Boys\"], [\"That Kind of Woman\"], [\"If It Ain't Me (Feat. Normani)\"], [\"Hotter Than Hell\"], [\"Electricity (With Silk City)\"], [\"Genesis\"], [\"Blow Your Mind (Mwah)\"], [\"Hallucinate\"], [\"Levitating (Feat. Madonna and Missy Elliott) (The Blessed Madonna Remix)\"], [\"Physical\"], [\"New Rules\"], [\"Levitating\"], [\"Break My Heart\"], [\"Don't Start Now\"], [\"IDGAF\"]], \"hovertemplate\": \"artista=Dua Lipa<br>x=%{x}<br>y=%{y}<br>musica=%{customdata[0]}<extra></extra>\", \"legendgroup\": \"Dua Lipa\", \"marker\": {\"color\": \"#FF97FF\", \"opacity\": 0.7, \"symbol\": \"circle\"}, \"mode\": \"markers\", \"name\": \"Dua Lipa\", \"showlegend\": true, \"type\": \"scattergl\", \"x\": [55.18703079223633, -41.814266204833984, 11.72118854522705, 78.74480438232422, 59.088863372802734, 7.440922260284424, -16.22489356994629, -3.459824323654175, -14.607839584350586, 13.083890914916992, -23.389678955078125, -38.44396209716797, 9.73973560333252, 8.183565139770508, -8.26446533203125, 6.4269232749938965, -29.94658660888672, -28.176023483276367, 55.540706634521484, 21.374853134155273, -29.881004333496094, 55.2053108215332, 11.865555763244629, 38.484561920166016, 0.756604790687561], \"xaxis\": \"x\", \"y\": [43.185916900634766, -31.220123291015625, 12.558663368225098, -13.378185272216797, -2.708930015563965, -4.408573627471924, -38.00970458984375, -5.91839075088501, -42.18013000488281, -57.575801849365234, -46.27674865722656, -4.4809184074401855, -78.50860595703125, -7.816883087158203, -41.2119026184082, 67.04712677001953, -49.19847869873047, -20.87917709350586, 43.3228645324707, -57.96128463745117, -33.97693634033203, 43.19580841064453, -57.09018325805664, 15.989208221435547, -21.067466735839844], \"yaxis\": \"y\"}, {\"customdata\": [[\"Perfect Duet (With Beyonc\\u00e9)\"], [\"Beautiful People (feat. Khalid)\"], [\"Friends\"], [\"One\"], [\"The A Team\"], [\"Best Part Of Me (feat. YEBBA)\"], [\"Dive\"], [\"Don't\"], [\"I See Fire\"], [\"Galway Girl\"], [\"All Of The Stars\"], [\"Castle On The Hill\"], [\"Happier\"], [\"Kiss Me\"], [\"Sing\"], [\"South Of The Border (Ft. Camila Cabello & Cardi B)\"], [\"I Don't Care (With Justin Bieber)\"], [\"Give Me Love\"], [\"Thinking Out Loud\"], [\"Perfect Symphony (With Andrea Bocelli)\"], [\"Tenerife Sea\"], [\"Eraser\"], [\"Photograph\"], [\"Shape Of You\"], [\"Perfect\"]], \"hovertemplate\": \"artista=Ed Sheeran<br>x=%{x}<br>y=%{y}<br>musica=%{customdata[0]}<extra></extra>\", \"legendgroup\": \"Ed Sheeran\", \"marker\": {\"color\": \"#FECB52\", \"opacity\": 0.7, \"symbol\": \"circle\"}, \"mode\": \"markers\", \"name\": \"Ed Sheeran\", \"showlegend\": true, \"type\": \"scattergl\", \"x\": [-82.3655014038086, -21.420387268066406, 33.63814163208008, -15.907729148864746, 5.071658134460449, 15.583675384521484, -23.98356056213379, 76.30220031738281, -22.728139877319336, 32.34366226196289, -17.389955520629883, -56.90840530395508, -14.759695053100586, 13.333159446716309, 47.5938606262207, 8.341462135314941, 42.36732864379883, 32.37675857543945, -23.814939498901367, -82.27000427246094, 14.22572135925293, -23.633373260498047, -3.3336188793182373, 20.49459457397461, -82.36571502685547], \"xaxis\": \"x\", \"y\": [18.367422103881836, 47.39616775512695, -18.399816513061523, -5.706953525543213, 37.66788864135742, -60.298744201660156, -34.24834442138672, -11.926413536071777, 29.591861724853516, 19.78826141357422, 29.427265167236328, -27.217823028564453, -18.3080997467041, -55.86052703857422, -52.02188491821289, 41.52833557128906, 66.9946060180664, 19.82662010192871, 54.77040100097656, 18.273359298706055, -59.726436614990234, 13.75639820098877, -12.337916374206543, -57.679107666015625, 18.366762161254883], \"yaxis\": \"y\"}, {\"customdata\": [[\"Empty Garden (hey Hey Johnny)\"], [\"Don't Go Breaking My Heart (Feat. Kiki Dee)\"], [\"I'm Still Standing\"], [\"You Gotta Love Someone\"], [\"Blue Eyes\"], [\"Candle In The Wind (1997)\"], [\"Circle Of Life\"], [\"I Want Love\"], [\"Saturday Night's Alright For Fighting\"], [\"Sad Songs (Say So Much)\"], [\"I Think I'm Going To Kill Myself\"], [\"Bennie And The Jets\"], [\"I Guess That's Why They Call It The Blues\"], [\"Sacrifice\"], [\"Daniel\"], [\"Tiny Dancer\"], [\"Candle In The Wind\"], [\"Don't Let The Sun Go Down On Me\"], [\"Nikita\"], [\"Goodbye Yellow Brick Road\"], [\"Can You Feel The Love Tonight?\"], [\"Skyline Pigeon\"], [\"Rocket Man\"], [\"Your Song\"], [\"The One\"]], \"hovertemplate\": \"artista=Elton John<br>x=%{x}<br>y=%{y}<br>musica=%{customdata[0]}<extra></extra>\", \"legendgroup\": \"Elton John\", \"marker\": {\"color\": \"#636efa\", \"opacity\": 0.7, \"symbol\": \"circle\"}, \"mode\": \"markers\", \"name\": \"Elton John\", \"showlegend\": true, \"type\": \"scattergl\", \"x\": [16.4659423828125, 0.2628799080848694, 46.66868209838867, -38.798519134521484, -10.414469718933105, -31.97545051574707, -20.441909790039062, 11.837247848510742, -18.411312103271484, -37.5164909362793, -20.79108428955078, 3.5979316234588623, -29.538185119628906, -16.915626525878906, -4.082911014556885, 8.199475288391113, -31.992475509643555, -43.67037582397461, -9.380081176757812, 7.123051643371582, 21.74002456665039, 18.264738082885742, -39.95277786254883, 15.570385932922363, -28.513147354125977], \"xaxis\": \"x\", \"y\": [23.342802047729492, -40.137569427490234, 37.06733322143555, -43.59299087524414, 24.005462646484375, 38.78512954711914, 30.229007720947266, -3.4767696857452393, 7.930507183074951, 20.45905113220215, 8.797625541687012, 14.236627578735352, 16.300922393798828, -16.850549697875977, 17.968835830688477, 42.49298095703125, 38.683326721191406, 7.319863796234131, 15.469571113586426, 65.20773315429688, -30.086416244506836, 58.53490447998047, -30.693466186523438, -6.623798370361328, 31.23224639892578], \"yaxis\": \"y\"}, {\"customdata\": [[\"Amazing Grace\"], [\"Kiss Me Quick\"], [\"Burning Love\"], [\"Jailhouse Rock\"], [\"And I Love You So\"], [\"It's Now Or Never\"], [\"Can't Help Falling In Love\"], [\"Stand by Me\"], [\"Bridge Over Troubled Water\"], [\"My Way\"], [\"Suspicious Minds\"], [\"Always On My Mind\"], [\"Unchained Melody\"], [\"If I Can Dream\"], [\"Love Me Tender\"], [\"Blue Suede Shoes\"], [\"I Can't Stop Loving You\"], [\"You'll Never Walk Alone\"], [\"You've Lost That Lovin' Feelin'\"], [\"Don't Be Cruel\"], [\"So High\"], [\"The Wonder Of You\"], [\"How Great Thou Art\"], [\"I've Got Confidence\"], [\"Sweet Caroline\"]], \"hovertemplate\": \"artista=Elvis Presley<br>x=%{x}<br>y=%{y}<br>musica=%{customdata[0]}<extra></extra>\", \"legendgroup\": \"Elvis Presley\", \"marker\": {\"color\": \"#EF553B\", \"opacity\": 0.7, \"symbol\": \"circle\"}, \"mode\": \"markers\", \"name\": \"Elvis Presley\", \"showlegend\": true, \"type\": \"scattergl\", \"x\": [-27.38018798828125, -16.046363830566406, 44.98596954345703, -29.086788177490234, 37.113651275634766, 17.943523406982422, 13.199814796447754, 29.802391052246094, -12.069174766540527, -27.909181594848633, -11.421224594116211, -32.894187927246094, 16.102691650390625, -4.21556282043457, 37.2169189453125, 10.257539749145508, 44.63977813720703, -46.87725830078125, -7.215879440307617, -8.328056335449219, 29.01357078552246, 37.17510223388672, -22.154356002807617, -47.798336029052734, 1.613675832748413], \"xaxis\": \"x\", \"y\": [-12.83857250213623, -37.100528717041016, 66.04248046875, 31.051189422607422, -20.086421966552734, -38.75119400024414, -56.747623443603516, -73.62203216552734, 5.2090044021606445, 17.578062057495117, 51.57620620727539, -13.866500854492188, -41.29094314575195, 19.01996421813965, -23.011938095092773, -79.90738677978516, 20.893245697021484, -22.64383888244629, -48.06206130981445, -31.87820816040039, -11.983467102050781, -18.918704986572266, 19.694950103759766, 34.81766128540039, 4.2533650398254395], \"yaxis\": \"y\"}, {\"customdata\": [[\"Venom\"], [\"When I'm Gone\"], [\"Till I Collapse (feat. Nate Dogg)\"], [\"Mockingbird\"], [\"Offended\"], [\"Not Afraid\"], [\"Without Me\"], [\"Godzilla (Feat. Juice WRLD)\"], [\"Stan (feat. Dido)\"], [\"Lose Yourself\"], [\"Love The Way You Lie (feat. Rihanna)\"], [\"The Real Slim Shady\"], [\"My Name Is\"], [\"Superman (feat. Dina Rae)\"], [\"The Monster (Feat. Rihanna)\"], [\"Cleanin' Out My Closet\"], [\"Space Bound\"], [\"Sing For The Moment\"], [\"Lucky You (Feat. Joyner Lucas)\"], [\"8 Mile Tree Last Battle\"], [\"My Darling\"], [\"Premonition (Intro)\"], [\"The Way I Am\"], [\"Beautiful\"], [\"Rap God\"]], \"hovertemplate\": \"artista=Eminem<br>x=%{x}<br>y=%{y}<br>musica=%{customdata[0]}<extra></extra>\", \"legendgroup\": \"Eminem\", \"marker\": {\"color\": \"#00cc96\", \"opacity\": 0.7, \"symbol\": \"circle\"}, \"mode\": \"markers\", \"name\": \"Eminem\", \"showlegend\": true, \"type\": \"scattergl\", \"x\": [-27.91265869140625, -14.169912338256836, -28.919275283813477, -17.439002990722656, -27.378015518188477, -28.406116485595703, 78.86373138427734, -27.51189422607422, -12.462255477905273, -44.30207061767578, -37.556671142578125, 33.6062126159668, -28.903541564941406, -12.14245319366455, -21.965944290161133, -32.51532745361328, -16.322301864624023, -71.01465606689453, -28.19319725036621, -28.807592391967773, -9.855770111083984, -29.16242027282715, -29.24730110168457, -24.659406661987305, -27.435039520263672], \"xaxis\": \"x\", \"y\": [9.4758882522583, -13.755331993103027, 5.721142768859863, -13.243575096130371, 9.154294967651367, 7.448275566101074, -10.892098426818848, 12.676217079162598, -11.422874450683594, 29.7271728515625, -61.653785705566406, -66.91121673583984, -19.06561851501465, -32.51144790649414, 11.338685989379883, 5.73627233505249, -18.062416076660156, -22.177656173706055, 11.153632164001465, 8.265869140625, -22.593746185302734, 9.978190422058105, 4.391129016876221, 5.047518253326416, 10.213872909545898], \"yaxis\": \"y\"}, {\"customdata\": [[\"It's A Free World, Baby\"], [\"Angel Of The Morning\"], [\"Copacabana\"], [\"Every Word Means No\"], [\"I'd Love You To Want Me\"], [\"Endless Love (Duet With Chandler)\"], [\"Holiday Song\"], [\"Trouble With Boys\"], [\"Baby Got Back\"], [\"Emma\"], [\"Friends 'til The End\"], [\"I'll Be There For You\"], [\"I'm In The Shower\"]], \"hovertemplate\": \"artista=Friends<br>x=%{x}<br>y=%{y}<br>musica=%{customdata[0]}<extra></extra>\", \"legendgroup\": \"Friends\", \"marker\": {\"color\": \"#ab63fa\", \"opacity\": 0.7, \"symbol\": \"circle\"}, \"mode\": \"markers\", \"name\": \"Friends\", \"showlegend\": true, \"type\": \"scattergl\", \"x\": [-35.227718353271484, -27.223817825317383, 6.860042095184326, -17.550352096557617, 35.84732437133789, 45.991817474365234, -31.46554183959961, -44.493858337402344, -41.770267486572266, -29.792877197265625, -15.546429634094238, -15.465764999389648, 17.39670753479004], \"xaxis\": \"x\", \"y\": [-18.66121482849121, -38.004234313964844, 44.77521514892578, -12.344562530517578, 49.93573760986328, -12.171042442321777, -35.59192657470703, 20.36798667907715, -34.115936279296875, -18.122465133666992, -48.52701187133789, -48.80278778076172, -8.374090194702148], \"yaxis\": \"y\"}, {\"customdata\": [[\"Aquele Abra\\u00e7o\"]], \"hovertemplate\": \"artista=Gilberto Gil<br>x=%{x}<br>y=%{y}<br>musica=%{customdata[0]}<extra></extra>\", \"legendgroup\": \"Gilberto Gil\", \"marker\": {\"color\": \"#FFA15A\", \"opacity\": 0.7, \"symbol\": \"circle\"}, \"mode\": \"markers\", \"name\": \"Gilberto Gil\", \"showlegend\": true, \"type\": \"scattergl\", \"x\": [65.37566375732422], \"xaxis\": \"x\", \"y\": [-24.64127540588379], \"yaxis\": \"y\"}, {\"customdata\": [[\"Out Ta Get Me\"], [\"Live And Let Die\"], [\"Sweet Child O' Mine\"], [\"November Rain\"], [\"Don't Cry\"], [\"Patience\"], [\"Knockin' On Heaven's Door\"], [\"Welcome To The Jungle\"], [\"Paradise City\"], [\"Estranged\"], [\"Civil War\"], [\"Yesterdays\"], [\"Nightrain\"], [\"Mr. Brownstone\"], [\"Since I Don't Have You\"], [\"November Rain (Piano Version/1986 Sound City Session)\"], [\"Rocket Queen\"], [\"So Fine\"], [\"Better\"], [\"This I Love\"], [\"Sympathy For The Devil\"], [\"Chinese Democracy\"], [\"It's So Easy\"], [\"Used To Love Her\"], [\"You Could Be Mine\"]], \"hovertemplate\": \"artista=Guns N' Roses<br>x=%{x}<br>y=%{y}<br>musica=%{customdata[0]}<extra></extra>\", \"legendgroup\": \"Guns N' Roses\", \"marker\": {\"color\": \"#19d3f3\", \"opacity\": 0.7, \"symbol\": \"circle\"}, \"mode\": \"markers\", \"name\": \"Guns N' Roses\", \"showlegend\": true, \"type\": \"scattergl\", \"x\": [-43.08210754394531, 20.690649032592773, 45.807823181152344, -22.813640594482422, -5.353829860687256, 6.674167633056641, -32.911376953125, 30.621862411499023, 31.5083065032959, -16.353788375854492, -19.444854736328125, -46.10882568359375, -26.80807113647461, 49.91868209838867, 47.36786651611328, -22.738786697387695, 2.7932145595550537, 3.087339162826538, -26.691659927368164, 6.644366264343262, -29.039688110351562, 25.32147979736328, 32.01009750366211, 10.696040153503418, 4.443127155303955], \"xaxis\": \"x\", \"y\": [16.089567184448242, -20.837697982788086, -58.99665832519531, -59.54287338256836, -33.226478576660156, -42.72304153442383, -41.921504974365234, 17.804895401000977, 40.92374038696289, -9.62850284576416, 37.20520782470703, 22.81125831604004, 13.476299285888672, -15.371347427368164, -45.89299011230469, -59.439170837402344, -16.28545379638672, 8.535879135131836, -0.8496259450912476, 51.45534896850586, -18.878450393676758, -8.397053718566895, -1.6472930908203125, 49.55759811401367, 8.155304908752441], \"yaxis\": \"y\"}, {\"customdata\": [[\"Cherry\"], [\"Sunflower, Vol. 6\"], [\"Watermelon Sugar\"], [\"Adore You\"], [\"Lights Up\"], [\"Golden\"], [\"Falling\"], [\"Medicine\"], [\"Sign Of The Times\"]], \"hovertemplate\": \"artista=Harry Styles<br>x=%{x}<br>y=%{y}<br>musica=%{customdata[0]}<extra></extra>\", \"legendgroup\": \"Harry Styles\", \"marker\": {\"color\": \"#FF6692\", \"opacity\": 0.7, \"symbol\": \"circle\"}, \"mode\": \"markers\", \"name\": \"Harry Styles\", \"showlegend\": true, \"type\": \"scattergl\", \"x\": [-28.740468978881836, 55.45220184326172, 31.7560977935791, -0.02491440623998642, 68.8768310546875, 34.48255157470703, 11.839920997619629, 78.78659057617188, -6.453595161437988], \"xaxis\": \"x\", \"y\": [-35.92753219604492, 16.705785751342773, -12.160035133361816, -45.29999542236328, -25.973241806030273, -1.1676416397094727, -53.006561279296875, -9.658805847167969, 58.68970489501953], \"yaxis\": \"y\"}, {\"customdata\": [[\"Hino das Ilhas Fiji\"], [\"Hino dos Estados Unidos\"]], \"hovertemplate\": \"artista=Hinos<br>x=%{x}<br>y=%{y}<br>musica=%{customdata[0]}<extra></extra>\", \"legendgroup\": \"Hinos\", \"marker\": {\"color\": \"#B6E880\", \"opacity\": 0.7, \"symbol\": \"circle\"}, \"mode\": \"markers\", \"name\": \"Hinos\", \"showlegend\": true, \"type\": \"scattergl\", \"x\": [-21.973251342773438, -19.53459930419922], \"xaxis\": \"x\", \"y\": [31.11231231689453, 29.543804168701172], \"yaxis\": \"y\"}, {\"customdata\": [[\"Warriors\"], [\"Sucker For Pain (Feat. Lil Wayne, Wiz Khalifa, Ty Dolla $ign, Logic & X Ambassadors)\"], [\"Walking The Wire\"], [\"Rise Up\"], [\"Believer (Remix) (Ft. Lil Wayne)\"], [\"I'm So Sorry\"], [\"West Coast\"], [\"Born To Be Yours (With Kygo)\"], [\"Boomerang\"], [\"I Don't Know Why\"], [\"Dream\"], [\"Not Today\"], [\"Love\"], [\"On Top Of The World\"], [\"Believer\"], [\"Demons\"], [\"Thunder\"], [\"Bad Liar\"], [\"Radioactive\"], [\"Whatever It Takes\"], [\"Radioactive (Feat. Kendrick Lamar)\"], [\"Birds\"], [\"It's Time\"], [\"Next To Me\"], [\"Natural\"]], \"hovertemplate\": \"artista=Imagine Dragons<br>x=%{x}<br>y=%{y}<br>musica=%{customdata[0]}<extra></extra>\", \"legendgroup\": \"Imagine Dragons\", \"marker\": {\"color\": \"#FF97FF\", \"opacity\": 0.7, \"symbol\": \"circle\"}, \"mode\": \"markers\", \"name\": \"Imagine Dragons\", \"showlegend\": true, \"type\": \"scattergl\", \"x\": [-20.922935485839844, -26.447731018066406, -12.805663108825684, 16.549436569213867, -49.693607330322266, -38.02324676513672, 56.62061309814453, -39.60023498535156, 10.503462791442871, 38.67766189575195, -17.619253158569336, -17.69476318359375, -2.1348915100097656, 16.587051391601562, -49.69649124145508, 1.8266748189926147, -24.153675079345703, 33.96174240112305, -52.125980377197266, -24.885347366333008, -52.12561798095703, 40.66730880737305, -21.26464080810547, -10.75107479095459, -10.828046798706055], \"xaxis\": \"x\", \"y\": [46.394081115722656, 11.536267280578613, 46.523834228515625, 36.82460403442383, 2.7967240810394287, -42.97422790527344, -3.5366835594177246, 39.617218017578125, -14.403468132019043, -21.910865783691406, 24.55095863342285, 61.18928909301758, -70.30858612060547, 35.773399353027344, 2.79727840423584, 23.84808921813965, 27.8729305267334, -6.1332197189331055, 52.798309326171875, 12.129744529724121, 52.79909896850586, 64.1137924194336, -30.06544303894043, 0.9532466530799866, 14.110834121704102], \"yaxis\": \"y\"}, {\"customdata\": [[\"Starting All Over Again\"], [\"Maui Hawaiian Sup'pa Man\"], [\"Tengoku Kara Kaminari (thunder From Heaven)\"], [\"Ahi Wela\"], [\"Kamalani\"], [\"What a Wonderful World\"], [\"E Ala E\"], [\"Hawaiian Like Me\"], [\"Hawaii 78\"], [\"In This Life\"], [\"Margarita\"], [\"Somewhere Over The Rainbow\"], [\"Sea Of Love\"]], \"hovertemplate\": \"artista=Israel Kamakawiwo'ole<br>x=%{x}<br>y=%{y}<br>musica=%{customdata[0]}<extra></extra>\", \"legendgroup\": \"Israel Kamakawiwo'ole\", \"marker\": {\"color\": \"#FECB52\", \"opacity\": 0.7, \"symbol\": \"circle\"}, \"mode\": \"markers\", \"name\": \"Israel Kamakawiwo'ole\", \"showlegend\": true, \"type\": \"scattergl\", \"x\": [-10.071089744567871, -44.421321868896484, -19.995431900024414, -15.127350807189941, -60.07596969604492, -24.73024559020996, -17.452781677246094, -15.783281326293945, -34.958709716796875, -9.289886474609375, -16.99610710144043, -4.310037136077881, -16.52107810974121], \"xaxis\": \"x\", \"y\": [37.90055465698242, 32.390201568603516, 44.49653625488281, 27.050579071044922, 26.047340393066406, 33.75458526611328, 32.118404388427734, -28.855918884277344, 25.02063751220703, 21.79254722595215, 31.260845184326172, 19.449491500854492, -34.947792053222656], \"yaxis\": \"y\"}, {\"customdata\": [[\"It's Killing Me\"], [\"Quite Miss Home\"], [\"Can't Take My Eyes Off You\"], [\"Car's Outside\"], [\"Back From The Edge\"], [\"If You Let Me\"], [\"Empty Space\"], [\"Fall\"], [\"Say You Won't Let Go\"], [\"Naked\"], [\"Impossible\"], [\"Falling Like The Stars\"], [\"Train Wreck\"], [\"Can I Be Him\"], [\"Always\"], [\"Rewrite The Stars (with Anne-Marie)\"], [\"At My Weakest\"], [\"Is This Love\"], [\"I Am\"], [\"Safe Inside\"], [\"Finally\"], [\"Maybe\"], [\"Certain Things (feat. Chasing Grace)\"], [\"You're Nobody 'Til Somebody Loves You\"], [\"You (Feat. Travis Barker)\"]], \"hovertemplate\": \"artista=James Arthur<br>x=%{x}<br>y=%{y}<br>musica=%{customdata[0]}<extra></extra>\", \"legendgroup\": \"James Arthur\", \"marker\": {\"color\": \"#636efa\", \"opacity\": 0.7, \"symbol\": \"circle\"}, \"mode\": \"markers\", \"name\": \"James Arthur\", \"showlegend\": true, \"type\": \"scattergl\", \"x\": [-11.976268768310547, 16.405288696289062, -9.719441413879395, -13.703857421875, 6.348606586456299, -6.238347053527832, 40.5897102355957, 2.7732646465301514, -12.127093315124512, 2.770347833633423, 4.557041168212891, 15.621476173400879, -42.92117691040039, 11.978480339050293, -6.337683200836182, -6.431158542633057, -8.198675155639648, 12.94144058227539, 41.96588134765625, 8.738661766052246, -45.74647521972656, -17.40375328063965, 5.0314459800720215, 6.398979187011719, -35.85017013549805], \"xaxis\": \"x\", \"y\": [-30.398225784301758, -4.8346991539001465, -33.67140197753906, -23.29245948791504, 65.91136169433594, -41.1948127746582, -23.47441864013672, 27.010337829589844, -19.55013084411621, -16.986162185668945, -37.21441650390625, -58.433929443359375, 9.291614532470703, 12.19582748413086, -21.319398880004883, 51.49949645996094, -45.48623275756836, -39.53706741333008, 67.89384460449219, -14.699775695800781, 16.496370315551758, -14.581978797912598, -11.955846786499023, -10.687538146972656, 34.13504409790039], \"yaxis\": \"y\"}, {\"customdata\": [[\"I Won't Give Up\"], [\"93 Million Miles\"], [\"Lucky (feat Ximena Sari\\u00f1ana)\"], [\"Hearing Double\"], [\"The World As I See It\"], [\"Love Is Still The Answer\"], [\"You Can Rely On Me\"], [\"5/6\"], [\"Love Love Love\"], [\"A Beautiful Mess\"], [\"I'm Yours (Vers\\u00e3o Videoclipe)\"], [\"Coffee Cup Song\"], [\"You do You (Feat. Tiffany Haddish)\"], [\"Better With You\"], [\"Wise Woman\"], [\"Make Love\"], [\"Butterfly\"], [\"Let's See What The Night Can Do\"], [\"Have It All\"], [\"Song For A Friend\"], [\"Love Someone\"], [\"Look For The Good\"], [\"Gratitude\"], [\"I'm Yours\"], [\"Lucky (feat. Colbie Caillat)\"]], \"hovertemplate\": \"artista=Jason Mraz<br>x=%{x}<br>y=%{y}<br>musica=%{customdata[0]}<extra></extra>\", \"legendgroup\": \"Jason Mraz\", \"marker\": {\"color\": \"#EF553B\", \"opacity\": 0.7, \"symbol\": \"circle\"}, \"mode\": \"markers\", \"name\": \"Jason Mraz\", \"showlegend\": true, \"type\": \"scattergl\", \"x\": [34.02764892578125, 17.185747146606445, 64.84921264648438, -11.355812072753906, 32.8228645324707, -2.272052764892578, 18.42743682861328, -19.523286819458008, -1.8380367755889893, -21.93735694885254, -29.95000648498535, 0.06712418049573898, 28.86461639404297, -40.532066345214844, 9.803744316101074, 29.723373413085938, 24.480289459228516, -10.716537475585938, -20.497587203979492, 10.415947914123535, -39.4738883972168, 26.613849639892578, 27.69830894470215, -29.950347900390625, -19.95357894897461], \"xaxis\": \"x\", \"y\": [-64.24893951416016, -3.4470598697662354, -24.530427932739258, -27.012765884399414, -34.33984375, -69.55680084228516, -1.812320590019226, -20.630939483642578, -69.4733657836914, 49.66856384277344, -55.094181060791016, -68.08184051513672, 2.248138189315796, -10.296497344970703, 47.79164123535156, -32.9868049621582, -7.826174736022949, -17.8327693939209, -25.399202346801758, -34.666725158691406, -44.1929931640625, -21.70376968383789, -21.81765365600586, -55.094791412353516, 40.65668487548828], \"yaxis\": \"y\"}, {\"customdata\": [[\"Conversations In The Dark\"], [\"If You're Out There\"], [\"Favorite Place\"], [\"I Do\"], [\"Tonight (Best You Ever Had) (feat. Ludacris)\"], [\"Save Room\"], [\"Aim High\"], [\"Beauty and The Beast\"], [\"I Love, You Love\"], [\"Actions\"], [\"All Of Me\"], [\"It Don't Have To Change\"], [\"Ooh Laa\"], [\"Always\"], [\"P.D.A. (We Just Don't Care)\"], [\"A Million\"], [\"Never Break\"], [\"Ordinary People\"], [\"A Good Night (Feat. BloodPop\\u00ae)\"], [\"U Move, I Move (Feat. Jhen\\u00e9 Aiko)\"], [\"Preach\"], [\"Our Generation (the Hope Of The World)\"], [\"Wild (Ft. Gary Clark Jr.)\"], [\"You & I (Nobody in the World)\"], [\"Love Me Now\"]], \"hovertemplate\": \"artista=John Legend<br>x=%{x}<br>y=%{y}<br>musica=%{customdata[0]}<extra></extra>\", \"legendgroup\": \"John Legend\", \"marker\": {\"color\": \"#00cc96\", \"opacity\": 0.7, \"symbol\": \"circle\"}, \"mode\": \"markers\", \"name\": \"John Legend\", \"showlegend\": true, \"type\": \"scattergl\", \"x\": [-7.159326076507568, 6.565207481384277, 32.40351104736328, 53.45966339111328, 6.763686656951904, 13.100563049316406, -9.23575496673584, 47.15964889526367, -1.8135340213775635, 68.7129135131836, 18.757156372070312, 40.50989532470703, 40.50829315185547, -58.223934173583984, 44.43387985229492, 18.456377029418945, -34.58990478515625, -13.290895462036133, -40.787254333496094, 14.060600280761719, 44.73377990722656, -7.137612819671631, 21.557695388793945, -3.2661848068237305, 36.28702163696289], \"xaxis\": \"x\", \"y\": [-21.616649627685547, -18.9431095123291, 32.37031936645508, 16.077531814575195, 11.090441703796387, -44.316131591796875, -22.4261531829834, -24.65998077392578, -68.01105499267578, -25.182525634765625, -17.032737731933594, 69.02273559570312, 66.5, -41.07518768310547, -36.54268264770508, 7.3728837966918945, 46.949703216552734, 48.10993957519531, -32.26237487792969, 2.3203377723693848, -51.87388229370117, 48.2005615234375, 8.74545955657959, 38.50601577758789, -24.65120506286621], \"yaxis\": \"y\"}, {\"customdata\": [[\"Real Love\"], [\"Woman\"], [\"God\"], [\"Imagine\"], [\"Intuition\"], [\"Working Class Hero\"], [\"Watching The Wheels\"], [\"Give Peace A Chance\"], [\"Gimme Some Truth\"], [\"Nobody Loves You (When You're Down And Out)\"], [\"Instant Karma\"], [\"Isolation\"], [\"Whatever Gets You Through The Night\"], [\"I Know (I Know)\"], [\"Jealous Guy\"], [\"Oh My Love\"], [\"Stand By Me\"], [\"Mother\"], [\"(Just Like) Starting Over\"], [\"Love\"], [\"How do You Sleep?\"], [\"Mind Games\"], [\"In My Life\"], [\"Beautiful Boy (Darling Boy)\"]], \"hovertemplate\": \"artista=John Lennon<br>x=%{x}<br>y=%{y}<br>musica=%{customdata[0]}<extra></extra>\", \"legendgroup\": \"John Lennon\", \"marker\": {\"color\": \"#ab63fa\", \"opacity\": 0.7, \"symbol\": \"circle\"}, \"mode\": \"markers\", \"name\": \"John Lennon\", \"showlegend\": true, \"type\": \"scattergl\", \"x\": [7.166798114776611, 0.48492613434791565, -50.52180862426758, 44.28339767456055, 63.02017593383789, 33.96860122680664, -69.17610931396484, -22.54615020751953, 1.8689736127853394, 5.105494976043701, -3.61905574798584, -6.131903171539307, 22.213422775268555, -32.23329544067383, -32.98634719848633, -0.7660608291625977, 29.77251625061035, -35.86613845825195, -14.198626518249512, -3.4109818935394287, 55.96419143676758, -9.402179718017578, -62.59319305419922, 3.393096685409546], \"xaxis\": \"x\", \"y\": [-38.86746597290039, 80.37271118164062, -15.999314308166504, -1.75010347366333, 25.24567413330078, 0.48620736598968506, 25.900997161865234, 46.70527267456055, -49.31048583984375, -12.89362907409668, 4.3425822257995605, 41.327152252197266, -58.045677185058594, -8.12678050994873, 5.233659744262695, 21.41804313659668, -73.64572143554688, 57.82030487060547, 48.99867248535156, -68.87681579589844, 9.936023712158203, 28.470518112182617, -19.07284164428711, -52.87297058105469], \"yaxis\": \"y\"}, {\"customdata\": [[\"Come Back To Bed\"], [\"Slow Dancing In A Burning Room\"], [\"Free Fallin'\"], [\"Your Body Is A Wonderland\"], [\"Gravity\"], [\"Daughters\"], [\"XO\"], [\"Half Of My Heart\"], [\"Never On The Day You Leave\"], [\"3x5\"], [\"Who Says\"], [\"No Such Thing\"], [\"Love Is a Verb\"], [\"Waiting On The World To Change\"], [\"New Light\"], [\"Love On The Weekend\"], [\"Say\"], [\"Heartbreak Warfare\"], [\"Stop This Train\"], [\"I'm Gonna Find Another You\"], [\"Edge Of Desire\"], [\"I Guess I Just Feel Like\"], [\"Still Feel Like Your Man\"], [\"In Your Atmosphere\"], [\"Who You Love (Feat. Katy Perry)\"]], \"hovertemplate\": \"artista=John Mayer<br>x=%{x}<br>y=%{y}<br>musica=%{customdata[0]}<extra></extra>\", \"legendgroup\": \"John Mayer\", \"marker\": {\"color\": \"#FFA15A\", \"opacity\": 0.7, \"symbol\": \"circle\"}, \"mode\": \"markers\", \"name\": \"John Mayer\", \"showlegend\": true, \"type\": \"scattergl\", \"x\": [7.277953147888184, -12.166447639465332, 8.557328224182129, 10.664478302001953, -3.0526084899902344, -23.922571182250977, 38.094703674316406, 0.19185870885849, -13.584674835205078, -15.748003959655762, -63.220943450927734, -25.828786849975586, 28.617868423461914, -3.9380478858947754, 54.92118835449219, 26.744585037231445, 7.50704288482666, -30.351354598999023, 19.656259536743164, 6.859309196472168, -14.417189598083496, 6.671030521392822, 6.1827616691589355, -14.661240577697754, 10.649331092834473], \"xaxis\": \"x\", \"y\": [65.75923919677734, 43.81363296508789, 40.323974609375, 29.29286003112793, 26.80742073059082, -47.3687744140625, -23.78801918029785, -38.374664306640625, -13.335928916931152, -1.3075602054595947, 10.988252639770508, 15.645768165588379, 25.916244506835938, 40.7479248046875, 14.672207832336426, 23.701692581176758, -45.76451110839844, -26.84161949157715, -11.103857040405273, -24.783491134643555, -0.39776068925857544, 20.287559509277344, 19.00783920288086, -22.986806869506836, -34.620235443115234], \"yaxis\": \"y\"}, {\"customdata\": [[\"Company\"], [\"Love Yourself\"], [\"Stuck With U (With Ariana Grande)\"], [\"Yummy\"], [\"Sorry\"], [\"Baby\"], [\"Confident (Feat. Chance The Rapper)\"], [\"Eenie Meenie\"], [\"Never Say Never (feat. Jaden Smith)\"], [\"Purpose\"], [\"One Time\"], [\"Love Me\"], [\"Forever (Feat. Post Malone and Clever)\"], [\"What Do You Mean?\"], [\"As Long As You Love Me (feat. Big Sean)\"], [\"Heartbreaker\"], [\"E.T.A.\"], [\"All That Matters\"], [\"Come Around Me\"], [\"Baby (feat. Ludacris)\"], [\"One Less Lonely Girl\"], [\"Habitual\"], [\"All Around Me\"], [\"HOLY (Ft. Chance The Rapper)\"], [\"Intentions (Ft. Quavo)\"]], \"hovertemplate\": \"artista=Justin Bieber<br>x=%{x}<br>y=%{y}<br>musica=%{customdata[0]}<extra></extra>\", \"legendgroup\": \"Justin Bieber\", \"marker\": {\"color\": \"#19d3f3\", \"opacity\": 0.7, \"symbol\": \"circle\"}, \"mode\": \"markers\", \"name\": \"Justin Bieber\", \"showlegend\": true, \"type\": \"scattergl\", \"x\": [-2.3594114780426025, -30.436168670654297, 1.1750130653381348, 47.87083435058594, 43.57054901123047, -8.995030403137207, 52.33607864379883, -14.621809005737305, 38.02668762207031, 17.27639389038086, -19.71356773376465, 37.691009521484375, -24.89599609375, 54.99314880371094, 42.94647979736328, -8.134258270263672, -1.0196244716644287, 49.68470001220703, -5.715931415557861, -8.99514389038086, -20.53948402404785, -2.3298561573028564, 49.17699432373047, 13.714421272277832, 51.80269241333008], \"xaxis\": \"x\", \"y\": [49.23930358886719, -5.502194404602051, -59.291648864746094, 35.15393829345703, 6.511938571929932, -57.93028259277344, -12.38865852355957, -14.756872177124023, 8.564897537231445, -17.18205451965332, -37.44147491455078, -22.70313835144043, -1.734758973121643, 10.567961692810059, -24.665769577026367, -30.9574031829834, 11.9393310546875, 39.715579986572266, -8.804372787475586, -57.93229675292969, -38.00957107543945, 55.18012619018555, 38.90736770629883, 4.105055809020996, -37.786277770996094], \"yaxis\": \"y\"}, {\"customdata\": [[\"Suit & Tie (Feat. Jay Z)\"], [\"Like I Love You (feat. Clipse)\"], [\"Perfect For Me\"], [\"Take Back The Night\"], [\"4 Minutes\"], [\"Pusher Love Girl\"], [\"Filthy\"], [\"Rock Your Body\"], [\"Se\\u00f1orita\"], [\"(And She Said) Take Me Now (feat. Janet Jackson)\"], [\"True Colors (Feat. Anna Kendrick)\"], [\"Summer Love\"], [\"Love Never Felt So Good\"], [\"Not A Bad Thing\"], [\"Don't Slack (With Anderson .Paak)\"], [\"The Other Side (With SZA)\"], [\"My Love (feat. T.I.)\"], [\"TKO\"], [\"SexyBack\"], [\"Cry Me A River\"], [\"Say Something (feat. Chris Stapleton)\"], [\"What Goes Around.../...Comes Around (Interlude)\"], [\"Can't Stop The Feeling\"], [\"Mirrors\"], [\"Apologize\"]], \"hovertemplate\": \"artista=Justin Timberlake<br>x=%{x}<br>y=%{y}<br>musica=%{customdata[0]}<extra></extra>\", \"legendgroup\": \"Justin Timberlake\", \"marker\": {\"color\": \"#FF6692\", \"opacity\": 0.7, \"symbol\": \"circle\"}, \"mode\": \"markers\", \"name\": \"Justin Timberlake\", \"showlegend\": true, \"type\": \"scattergl\", \"x\": [-26.334754943847656, -10.807753562927246, 7.865734577178955, 1.0991328954696655, 27.167804718017578, 15.000906944274902, 2.6030385494232178, 40.51106643676758, 68.19701385498047, 24.87630844116211, -22.309396743774414, 12.811552047729492, 14.400009155273438, 13.173489570617676, 12.062836647033691, 3.139092445373535, 15.807439804077148, -32.011470794677734, -3.8260273933410645, -4.604262828826904, 55.078189849853516, 32.3812255859375, 41.36152648925781, 25.32229232788086, 43.22425842285156], \"xaxis\": \"x\", \"y\": [8.286665916442871, -34.22868347167969, -21.452064514160156, 79.61007690429688, 14.523173332214355, -42.94851303100586, -26.147260665893555, 16.229267120361328, 22.39883804321289, -4.063493728637695, -44.96464157104492, -59.45174789428711, 6.152170181274414, -59.33026885986328, 4.227004051208496, -7.322272300720215, -36.70649719238281, -41.628456115722656, 8.281562805175781, -32.470458984375, -15.985572814941406, 50.651222229003906, 18.202054977416992, -37.848358154296875, 6.045887470245361], \"yaxis\": \"y\"}, {\"customdata\": [[\"Champagne Problems\"], [\"Hot N' Cold\"], [\"I Kissed A Girl\"], [\"Teenage Dream\"], [\"E.T. (feat. Kanye West)\"], [\"Cry About It Later\"], [\"The One That Got Away\"], [\"Smile\"], [\"Firework\"], [\"Dark Horse (Feat. Juicy J)\"], [\"Roar\"], [\"California Gurls (feat. Snoop Dogg)\"], [\"What Makes a Woman\"], [\"Daisies\"], [\"Last Friday Night (T.G.I.F.)\"], [\"Birthday\"], [\"Tucked\"], [\"Only Love\"], [\"Thinking Of You\"], [\"Resilient\"], [\"Part Of Me\"], [\"Unconditionally\"], [\"365 (With Zedd)\"], [\"Not The End Of The World\"], [\"Never Really Over\"]], \"hovertemplate\": \"artista=Katy Perry<br>x=%{x}<br>y=%{y}<br>musica=%{customdata[0]}<extra></extra>\", \"legendgroup\": \"Katy Perry\", \"marker\": {\"color\": \"#B6E880\", \"opacity\": 0.7, \"symbol\": \"circle\"}, \"mode\": \"markers\", \"name\": \"Katy Perry\", \"showlegend\": true, \"type\": \"scattergl\", \"x\": [-20.432016372680664, 8.23379898071289, -42.15475082397461, -57.70844268798828, 9.761433601379395, -5.513046741485596, 12.006529808044434, -6.903603553771973, 3.2093985080718994, 11.587647438049316, 43.005088806152344, -15.589374542236328, -36.71316909790039, -42.7791748046875, -16.313547134399414, 8.730039596557617, 94.7446517944336, 0.5671104788780212, -5.413339614868164, -21.42995262145996, -14.338531494140625, -12.614424705505371, 11.159073829650879, 95.63240051269531, -17.065704345703125], \"xaxis\": \"x\", \"y\": [48.47624969482422, -18.661121368408203, -28.130136489868164, -28.73134422302246, -8.225858688354492, -34.36406326293945, 13.695293426513672, -49.3430061340332, -5.2325029373168945, -22.797033309936523, -49.00545120239258, 33.24986267089844, -1.6649720668792725, 16.403343200683594, 40.450233459472656, -7.97660493850708, 7.5792717933654785, 16.978479385375977, 14.153864860534668, 2.178450107574463, 9.483567237854004, -36.48588562011719, 11.69640064239502, 6.197680473327637, 60.25832748413086], \"yaxis\": \"y\"}, {\"customdata\": [[\"Free Woman\"], [\"I'll Never Love Again\"], [\"Always Remember Us This Way\"], [\"Fun Tonight\"], [\"Yo\\u00fc And I\"], [\"Plastic Doll\"], [\"Paparazzi\"], [\"Replay\"], [\"Chromatica I\"], [\"Enigma\"], [\"Telephone (feat. Beyonc\\u00e9)\"], [\"Shallow (With Bradley Cooper)\"], [\"911\"], [\"1000 Doves\"], [\"Stupid Love\"], [\"Poker Face\"], [\"Bad Romance\"], [\"Alejandro\"], [\"Born This Way\"], [\"Sour Candy (with Blackpink)\"], [\"Million Reasons\"], [\"Sine From Above (with Elton John)\"], [\"Alice\"], [\"Rain On Me (With Ariana Grande)\"], [\"Babylon\"]], \"hovertemplate\": \"artista=Lady Gaga<br>x=%{x}<br>y=%{y}<br>musica=%{customdata[0]}<extra></extra>\", \"legendgroup\": \"Lady Gaga\", \"marker\": {\"color\": \"#FF97FF\", \"opacity\": 0.7, \"symbol\": \"circle\"}, \"mode\": \"markers\", \"name\": \"Lady Gaga\", \"showlegend\": true, \"type\": \"scattergl\", \"x\": [33.402164459228516, 22.043376922607422, 22.364585876464844, 46.17677307128906, -37.19829559326172, 80.70558166503906, 6.773382663726807, -33.380096435546875, -87.32231903076172, 6.817575931549072, 73.7688217163086, -26.549327850341797, -2.746737003326416, 10.37160873413086, 52.07646942138672, 49.92472457885742, 52.21018600463867, 11.95169734954834, -39.8808479309082, 47.83097457885742, -6.041767120361328, -25.38787078857422, 66.46743774414062, -47.564083099365234, 16.110063552856445], \"xaxis\": \"x\", \"y\": [9.93478775024414, 5.837191581726074, 20.892662048339844, -50.88524627685547, 6.555060386657715, -10.864025115966797, 8.296167373657227, -13.504145622253418, -12.53282356262207, 7.8230156898498535, 2.2168354988098145, 27.154067993164062, 26.716150283813477, -1.784231424331665, -53.126216888427734, -56.49543380737305, -54.65300369262695, -79.35962677001953, 39.909584045410156, 38.2104606628418, -13.08508014678955, -6.174932956695557, 24.81987762451172, 9.27978229522705, -44.3994255065918], \"yaxis\": \"y\"}, {\"customdata\": [[\"Summertime Sadness\"], [\"Carmen\"], [\"Hope is a dangerous thing for a woman like me to have - but I have it\"], [\"Born To Die\"], [\"Video Games\"], [\"Happiness Is a Butterfly\"], [\"Young And Beautiful\"], [\"Blue Jeans\"], [\"LA Who Am I to Love You?\"], [\"Norman Fucking Rockwell\"], [\"Lust For Life (Feat. The Weeknd)\"], [\"Fuck It I Love You\"], [\"Doin' Time\"], [\"Cinnamon Girl\"], [\"Cherry\"], [\"West Coast\"], [\"Love\"], [\"Love Song\"], [\"Mariners Apartment Complex\"], [\"Ride\"], [\"The Land of 1000 Fires\"], [\"13 Beaches\"], [\"Ride (Monologue)\"], [\"Dark Paradise\"], [\"Ultraviolence\"]], \"hovertemplate\": \"artista=Lana Del Rey<br>x=%{x}<br>y=%{y}<br>musica=%{customdata[0]}<extra></extra>\", \"legendgroup\": \"Lana Del Rey\", \"marker\": {\"color\": \"#FECB52\", \"opacity\": 0.7, \"symbol\": \"circle\"}, \"mode\": \"markers\", \"name\": \"Lana Del Rey\", \"showlegend\": true, \"type\": \"scattergl\", \"x\": [42.42788314819336, 7.083209991455078, -35.66965866088867, -56.8646240234375, -4.146712779998779, 41.50838088989258, 35.68305969238281, -15.793524742126465, -35.09661865234375, 3.4972121715545654, 8.676458358764648, -32.60665512084961, -22.72486114501953, 66.640625, -16.605823516845703, 26.653682708740234, 67.58604431152344, -15.184557914733887, 12.902632713317871, -48.63467788696289, -21.235694885253906, -34.76398849487305, -48.63575744628906, 62.73375701904297, -48.80898666381836], \"xaxis\": \"x\", \"y\": [-47.45686721801758, 49.25297546386719, -0.9821758270263672, -25.977968215942383, 0.2110215574502945, 16.727720260620117, -22.302734375, -42.898345947265625, -6.457139492034912, -7.423658847808838, 32.02375793457031, -14.707067489624023, 24.723215103149414, 24.099763870239258, -20.545673370361328, 23.565139770507812, 23.678428649902344, 19.214733123779297, -21.70635223388672, -56.16164016723633, 16.497169494628906, -7.107703685760498, -56.160057067871094, -37.889198303222656, 32.75804138183594], \"yaxis\": \"y\"}, {\"customdata\": [[\"One\"], [\"Someone You Loved\"], [\"Before You Go\"], [\"Bruises\"], [\"Hold Me While You Wait\"], [\"Grace\"], [\"Forever\"], [\"Maybe\"], [\"Don't Get Me Wrong\"]], \"hovertemplate\": \"artista=Lewis Capaldi<br>x=%{x}<br>y=%{y}<br>musica=%{customdata[0]}<extra></extra>\", \"legendgroup\": \"Lewis Capaldi\", \"marker\": {\"color\": \"#636efa\", \"opacity\": 0.7, \"symbol\": \"circle\"}, \"mode\": \"markers\", \"name\": \"Lewis Capaldi\", \"showlegend\": true, \"type\": \"scattergl\", \"x\": [28.699796676635742, 0.2173732966184616, -18.306211471557617, 28.404558181762695, 17.24026107788086, 18.886240005493164, -16.701234817504883, -27.394153594970703, -45.03152847290039], \"xaxis\": \"x\", \"y\": [-21.859220504760742, -11.125993728637695, -18.569311141967773, -14.841706275939941, -37.712650299072266, 16.278810501098633, 59.54060745239258, 21.710742950439453, -6.391058921813965], \"yaxis\": \"y\"}, {\"customdata\": [[\"Somewhere I Belong\"], [\"Leave Out All The Rest\"], [\"Crawling\"], [\"Numb\"], [\"In The End\"], [\"Burn It Down\"], [\"One More Light\"], [\"In The End (demo Lpu 11)\"], [\"Castle Of Glass\"], [\"What I've Done\"], [\"Faint\"], [\"Papercut\"], [\"Breaking The Habit\"], [\"Waiting For The End\"], [\"From The Inside\"], [\"New Divide\"], [\"One Step Closer\"], [\"Heavy (feat. Kiiara)\"], [\"A Place For My Head\"], [\"Lying From You\"], [\"Iridescent\"], [\"Points Of Authority\"], [\"Lost In The Echo\"], [\"Shadow Of The Day\"], [\"Talking To Myself\"]], \"hovertemplate\": \"artista=Linkin Park<br>x=%{x}<br>y=%{y}<br>musica=%{customdata[0]}<extra></extra>\", \"legendgroup\": \"Linkin Park\", \"marker\": {\"color\": \"#EF553B\", \"opacity\": 0.7, \"symbol\": \"circle\"}, \"mode\": \"markers\", \"name\": \"Linkin Park\", \"showlegend\": true, \"type\": \"scattergl\", \"x\": [3.118347644805908, -0.20748698711395264, 5.293370246887207, 33.451602935791016, -47.89248275756836, -6.060640811920166, -22.841188430786133, -47.89147186279297, -13.14321231842041, -71.66773986816406, -17.948646545410156, 7.243199825286865, 14.322881698608398, -16.19691276550293, -23.83602523803711, -39.963924407958984, -25.302465438842773, -49.2316780090332, 18.06477928161621, -20.651376724243164, -69.01576232910156, 4.908108711242676, -62.407066345214844, -35.25934982299805, 22.228639602661133], \"xaxis\": \"x\", \"y\": [25.38890838623047, -12.046154022216797, 24.778728485107422, 1.5728625059127808, 45.68497085571289, 23.88512420654297, 48.07633590698242, 45.68436050415039, -48.05119705200195, -10.381792068481445, 2.8343567848205566, 20.979909896850586, 12.785537719726562, 11.693188667297363, 8.819965362548828, -18.2457332611084, 71.63710021972656, -5.701868534088135, 14.729363441467285, 4.782704830169678, 27.13676643371582, -26.13003921508789, 21.57505226135254, 44.73542785644531, 28.657197952270508], \"yaxis\": \"y\"}, {\"customdata\": [[\"Eu Te Quero (Com Zeeba)\"]], \"hovertemplate\": \"artista=Manu Gavassi<br>x=%{x}<br>y=%{y}<br>musica=%{customdata[0]}<extra></extra>\", \"legendgroup\": \"Manu Gavassi\", \"marker\": {\"color\": \"#00cc96\", \"opacity\": 0.7, \"symbol\": \"circle\"}, \"mode\": \"markers\", \"name\": \"Manu Gavassi\", \"showlegend\": true, \"type\": \"scattergl\", \"x\": [52.32115936279297], \"xaxis\": \"x\", \"y\": [-36.71786880493164], \"yaxis\": \"y\"}, {\"customdata\": [[\"This Love\"], [\"Moves Like Jagger (feat. Christina Aguilera)\"], [\"Nobody's Love\"], [\"Animals\"], [\"Payphone (Feat. Wiz Khalifa)\"], [\"Maps\"], [\"Don't Wanna Know (Feat. Kendrick Lamar)\"], [\"Girls Like You\"], [\"Cold (Feat. Future)\"], [\"Love Somebody\"], [\"What Lovers Do (feat. SZA)\"], [\"Daylight\"], [\"Lost Stars\"], [\"Won't Go Home Without You\"], [\"It Was Always You\"], [\"Payphone (Non-Rap Version)\"], [\"Best 4 U\"], [\"Harder To Breathe\"], [\"She Will Be Loved\"], [\"One More Night\"], [\"Sugar\"], [\"Sunday Morning\"], [\"Girls Like You (Feat. Cardi B)\"], [\"Memories\"]], \"hovertemplate\": \"artista=Maroon 5<br>x=%{x}<br>y=%{y}<br>musica=%{customdata[0]}<extra></extra>\", \"legendgroup\": \"Maroon 5\", \"marker\": {\"color\": \"#ab63fa\", \"opacity\": 0.7, \"symbol\": \"circle\"}, \"mode\": \"markers\", \"name\": \"Maroon 5\", \"showlegend\": true, \"type\": \"scattergl\", \"x\": [6.2119059562683105, 23.75250816345215, 1.1376153230667114, 18.864850997924805, -51.44750213623047, -14.270084381103516, 46.327423095703125, 45.859046936035156, 33.851707458496094, 35.860374450683594, 40.26308059692383, 6.508754253387451, -17.767972946166992, -6.626244068145752, -29.20757293701172, -51.44820022583008, 46.229156494140625, -20.26567840576172, 7.844749927520752, -11.98678970336914, 14.071166038513184, -14.896258354187012, 45.87742614746094, 0.39330852031707764], \"xaxis\": \"x\", \"y\": [51.703880310058594, -6.929018974304199, -0.30955594778060913, -1.6069800853729248, -48.06782531738281, -50.47397232055664, -12.240289688110352, 38.086219787597656, -1.604722261428833, 42.88878631591797, -21.823915481567383, 11.126531600952148, 39.871334075927734, -13.512350082397461, -11.799924850463867, -48.06836700439453, -45.909996032714844, -11.798921585083008, 48.05101776123047, -41.139434814453125, -43.46399688720703, -1.2339918613433838, 38.08637619018555, 80.18694305419922], \"yaxis\": \"y\"}, {\"customdata\": [[\"The Unforgiven\"], [\"To Live Is To Die\"], [\"Until It Sleeps\"], [\"The Unforgiven Iii\"], [\"Bleeding Me\"], [\"Turn The Page\"], [\"Of Wolf And Man\"], [\"The Memory Remains\"], [\"All Within My Hands\"], [\"Fade To Black\"], [\"Nothing Else Matters\"], [\"The Call of Ktulu\"], [\"For Whom The Bell Tolls\"], [\"The Ecstasy Of Gold\"], [\"Sad But True\"], [\"Wherever I May Roam\"], [\"The Unforgiven Ii\"], [\"Whiskey In The Jar\"], [\"One\"], [\"Master Of Puppets\"], [\"Enter Sandman\"], [\"Creeping Death\"], [\"Ride The Lightning\"], [\"Fuel\"], [\"Seek And Destroy\"]], \"hovertemplate\": \"artista=Metallica<br>x=%{x}<br>y=%{y}<br>musica=%{customdata[0]}<extra></extra>\", \"legendgroup\": \"Metallica\", \"marker\": {\"color\": \"#FFA15A\", \"opacity\": 0.7, \"symbol\": \"circle\"}, \"mode\": \"markers\", \"name\": \"Metallica\", \"showlegend\": true, \"type\": \"scattergl\", \"x\": [-71.99655151367188, 30.77573585510254, 14.06097412109375, -47.494197845458984, -0.9442315697669983, -7.699482440948486, 5.430304050445557, 49.61305236816406, 23.36666488647461, 5.9390411376953125, -48.157752990722656, -88.25816345214844, -33.923927307128906, -88.059326171875, 18.71825408935547, 29.50632095336914, -72.2411880493164, -29.541950225830078, 1.013482689857483, 62.1275749206543, 8.735721588134766, -69.79959869384766, 1.4191045761108398, 44.939109802246094, -47.062408447265625], \"xaxis\": \"x\", \"y\": [-10.484109878540039, 42.31245803833008, 3.93129301071167, 34.05558395385742, 23.723766326904297, 11.802448272705078, 65.16677856445312, 33.5934944152832, 29.513320922851562, 24.044296264648438, 17.785415649414062, -12.839325904846191, 24.02613067626953, -11.957693099975586, -29.191654205322266, 38.68600082397461, -10.571185111999512, 25.744277954101562, 22.56854248046875, -38.90359878540039, 29.198204040527344, 29.37342643737793, 23.070749282836914, 67.63697814941406, -15.19737434387207], \"yaxis\": \"y\"}, {\"customdata\": [[\"Man In The Mirror\"], [\"Bad\"], [\"The Way You Make Me Feel\"], [\"Remember The Time\"], [\"Ben\"], [\"Love Never Felt So Good (Feat. Justin Timberlake)\"], [\"Thriller\"], [\"Billie Jean\"], [\"Beat It\"], [\"We Are The World\"], [\"Black Or White\"], [\"Don't Stop 'Til You Get Enough\"], [\"Earth Song\"], [\"Human Nature\"], [\"Smooth Criminal\"], [\"They Don't Care About Us\"], [\"You Are Not Alone\"], [\"Music And Me\"], [\"Happy\"], [\"Heal The World\"], [\"I'll Be There\"], [\"One Day In Your Life\"], [\"I Just Can't Stop Loving You (feat. Siedah Garrett)\"], [\"The Girl Is Mine (feat. Paul Mccartney)\"], [\"Will You Be There\"]], \"hovertemplate\": \"artista=Michael Jackson<br>x=%{x}<br>y=%{y}<br>musica=%{customdata[0]}<extra></extra>\", \"legendgroup\": \"Michael Jackson\", \"marker\": {\"color\": \"#19d3f3\", \"opacity\": 0.7, \"symbol\": \"circle\"}, \"mode\": \"markers\", \"name\": \"Michael Jackson\", \"showlegend\": true, \"type\": \"scattergl\", \"x\": [-23.879493713378906, 33.59580612182617, -56.871498107910156, -3.8931477069854736, 22.4717960357666, 14.400075912475586, -11.456002235412598, 7.560383319854736, 34.817020416259766, -19.907583236694336, 6.440486907958984, 39.08320999145508, -53.191429138183594, -42.12875747680664, 13.191866874694824, -52.25650405883789, 15.835792541503906, -50.44150161743164, -26.382823944091797, -9.26102066040039, -16.613473892211914, -15.60588550567627, 44.898197174072266, 6.267003536224365, 9.929818153381348], \"xaxis\": \"x\", \"y\": [15.218071937561035, -5.714672565460205, -28.911500930786133, 33.75697326660156, -7.814218044281006, 6.151987552642822, 15.327547073364258, 44.288246154785156, 8.945342063903809, 46.5819091796875, -19.817134857177734, 21.92865753173828, 21.283849716186523, 17.284345626831055, -21.021203994750977, 20.355539321899414, -22.933815002441406, -13.041178703308105, -13.017061233520508, -42.83425521850586, -47.798343658447266, -43.235599517822266, 20.883941650390625, 55.97061538696289, 0.6907126307487488], \"yaxis\": \"y\"}, {\"customdata\": [[\"Slide Away\"], [\"Mother's Daughter\"], [\"Malibu\"], [\"Party In The U.S.A.\"], [\"We Can't Stop\"], [\"Nothing Breaks Like a Heart\"], [\"When I Look At You\"], [\"Wrecking Ball\"], [\"The Climb\"], [\"Heart Of Glass\"], [\"Midnight Sky\"], [\"Adore You\"], [\"7 Things\"], [\"Butterfly Fly Away\"], [\"Can't Be Tamed\"], [\"You'll Always Find Your Way Back Home\"], [\"Bad Karma\"], [\"Adore You (Cedric Gervais Remix)\"], [\"(Happy Xmas) War Is Over (Ft. Mark Ronson, Sean Ono Lennon)\"], [\"Butterfly Fly Away (extended Version)\"], [\"Jolene\"], [\"True Friend\"], [\"Ordinary Girl\"], [\"I'll Always Remember You\"], [\"Who Owns My Heart\"]], \"hovertemplate\": \"artista=Miley Cyrus<br>x=%{x}<br>y=%{y}<br>musica=%{customdata[0]}<extra></extra>\", \"legendgroup\": \"Miley Cyrus\", \"marker\": {\"color\": \"#FF6692\", \"opacity\": 0.7, \"symbol\": \"circle\"}, \"mode\": \"markers\", \"name\": \"Miley Cyrus\", \"showlegend\": true, \"type\": \"scattergl\", \"x\": [5.292157173156738, -66.528564453125, -11.341099739074707, -32.45378112792969, -12.388972282409668, -23.744163513183594, -20.91101837158203, -7.6092939376831055, -10.20390796661377, 0.9088931679725647, 75.1230239868164, 0.7250345349311829, -54.719295501708984, 18.727313995361328, 14.577818870544434, 17.682369232177734, 10.99140739440918, 0.7013965845108032, 17.224485397338867, 18.748077392578125, -30.208162307739258, 5.266602039337158, 0.8637853264808655, -9.56466007232666, 5.197066783905029], \"xaxis\": \"x\", \"y\": [67.7428207397461, 1.6523481607437134, 1.5394763946533203, 17.959684371948242, 51.151161193847656, -5.816577434539795, 0.8129704594612122, -20.58977508544922, 38.48289489746094, 16.498760223388672, -12.263218879699707, -47.23172378540039, -30.139915466308594, 60.82387924194336, -12.987040519714355, -2.200068235397339, -78.81761932373047, -47.20437240600586, -8.31389045715332, 60.8043327331543, -35.1810188293457, -15.083499908447266, 31.255781173706055, 46.740333557128906, -35.73521423339844], \"yaxis\": \"y\"}, {\"customdata\": [[\"Plateau\"], [\"The Man Who Sold The World\"], [\"Lithium\"], [\"About A Girl\"], [\"Something In The Way\"], [\"Heart Shaped Box\"], [\"Jesus Doesn't Want Me For A Sunbeam\"], [\"Polly\"], [\"In Bloom\"], [\"Where Did You Sleep Last Night?\"], [\"All Apologies\"], [\"Rape Me\"], [\"Serve The Servants\"], [\"You Know You're Right\"], [\"Pennyroyal Tea\"], [\"Come As You Are\"], [\"Sliver\"], [\"Do Re Mi\"], [\"Love Buzz\"], [\"Drain You\"], [\"On A Plain\"], [\"Aero Zeppelin\"], [\"Dumb\"], [\"Breed\"], [\"Smells Like Teen Spirit\"]], \"hovertemplate\": \"artista=Nirvana<br>x=%{x}<br>y=%{y}<br>musica=%{customdata[0]}<extra></extra>\", \"legendgroup\": \"Nirvana\", \"marker\": {\"color\": \"#B6E880\", \"opacity\": 0.7, \"symbol\": \"circle\"}, \"mode\": \"markers\", \"name\": \"Nirvana\", \"showlegend\": true, \"type\": \"scattergl\", \"x\": [-41.257999420166016, -35.48798370361328, 45.48503494262695, 54.441619873046875, -21.684207916259766, 16.42408561706543, -3.929172992706299, -15.727465629577637, -47.86465835571289, -4.066460132598877, -24.266685485839844, 44.202842712402344, 53.178077697753906, -48.090030670166016, -50.71426773071289, 45.261024475097656, 31.593229293823242, -43.44457244873047, 21.263357162475586, 2.120151996612549, -27.225160598754883, -7.273223876953125, -48.392486572265625, 44.36806106567383, -38.41773986816406], \"xaxis\": \"x\", \"y\": [1.5179615020751953, 31.502275466918945, 29.45205307006836, 15.851832389831543, 33.50407409667969, 22.23539161682129, -31.828445434570312, 4.359696865081787, 30.424379348754883, 27.185972213745117, 42.88911437988281, -3.602184534072876, -12.733345985412598, -15.255179405212402, -12.193466186523438, -24.821382522583008, 41.000919342041016, 15.036758422851562, -31.35803985595703, -7.572180271148682, -2.1451666355133057, 29.271448135375977, -4.553543567657471, -35.796470642089844, 66.65010070800781], \"yaxis\": \"y\"}, {\"customdata\": [[\"Somebody\"], [\"Paradise\"], [\"Beautiful life\"], [\"Dana Dana\"], [\"Better\"], [\"All Day\"], [\"Come Together\"], [\"Feel It Now\"], [\"Who Would Think That Love\"], [\"Summer in the City\"], [\"Na na Na\"], [\"The Weekend's Here\"], [\"Chained Up\"], [\"Paran\\u00e1\"], [\"By My Side\"]], \"hovertemplate\": \"artista=Now United<br>x=%{x}<br>y=%{y}<br>musica=%{customdata[0]}<extra></extra>\", \"legendgroup\": \"Now United\", \"marker\": {\"color\": \"#FF97FF\", \"opacity\": 0.7, \"symbol\": \"circle\"}, \"mode\": \"markers\", \"name\": \"Now United\", \"showlegend\": true, \"type\": \"scattergl\", \"x\": [9.702136039733887, 41.42103958129883, 77.78947448730469, 16.361101150512695, 68.56526947021484, 75.54139709472656, 48.179954528808594, 22.46539878845215, -12.23725700378418, 32.873512268066406, 94.4164047241211, -6.391322612762451, 49.20158767700195, 74.20983123779297, 48.766990661621094], \"xaxis\": \"x\", \"y\": [-46.3243522644043, 42.28247833251953, -12.32840633392334, 34.93641662597656, 21.28965950012207, 2.3943402767181396, -50.21658706665039, -27.14329719543457, 57.35762405395508, 3.8003621101379395, 7.986534595489502, 57.68439483642578, -55.29403305053711, 1.5177608728408813, -49.04671859741211], \"yaxis\": \"y\"}, {\"customdata\": [[\"Songbird\"], [\"(As Long As They've Got) Cigarettes In Hell\"], [\"Roll With It\"], [\"Some Might Say\"], [\"Rock'n'Roll Star\"], [\"Go Let It Out\"], [\"Don't Stop...\"], [\"Acquiesce\"], [\"Cast No Shadow\"], [\"(Get Off Your) High Horse Lady\"], [\"(It's Good) To Be Free\"], [\"Cigarettes & Alcohol\"], [\"Little By Little\"], [\"Let There Be Love\"], [\"Whatever\"], [\"Supersonic\"], [\"Champagne Supernova\"], [\"Stop Crying Your Heart Out\"], [\"Don't Look Back In Anger\"], [\"Slide Away\"], [\"Wonderwall\"], [\"Don't Go Away\"], [\"Live Forever\"], [\"All Around The World\"], [\"Stand By Me\"]], \"hovertemplate\": \"artista=Oasis<br>x=%{x}<br>y=%{y}<br>musica=%{customdata[0]}<extra></extra>\", \"legendgroup\": \"Oasis\", \"marker\": {\"color\": \"#FECB52\", \"opacity\": 0.7, \"symbol\": \"circle\"}, \"mode\": \"markers\", \"name\": \"Oasis\", \"showlegend\": true, \"type\": \"scattergl\", \"x\": [10.010533332824707, 44.249874114990234, 25.191835403442383, -42.145320892333984, -34.97464370727539, -68.352783203125, 39.65364456176758, -10.661458015441895, -45.748104095458984, 33.114620208740234, 28.701671600341797, -21.014238357543945, -20.57662582397461, -10.83596420288086, -37.5678596496582, 8.256562232971191, -28.780105590820312, 8.059579849243164, -14.997997283935547, 35.01034927368164, 12.26193618774414, 7.050678730010986, 3.812417984008789, 94.61121368408203, 29.495189666748047], \"xaxis\": \"x\", \"y\": [50.110591888427734, -24.96321678161621, -7.056947708129883, 1.4765716791152954, 8.498623847961426, 27.478294372558594, 22.50080680847168, 43.89729690551758, 32.573570251464844, -41.072784423828125, 3.254033327102661, -6.723816394805908, -25.422103881835938, 22.522653579711914, -31.05687141418457, 52.60807418823242, 48.41862869262695, -47.91513442993164, -10.840242385864258, 42.5025520324707, 11.219805717468262, -44.95421600341797, 36.53559112548828, 5.584011077880859, -73.89081573486328], \"yaxis\": \"y\"}, {\"customdata\": [[\"Moments\"], [\"Walking in the Wind\"], [\"Stockholm Syndrome\"], [\"No Control\"], [\"Over Again\"], [\"End of The Day\"], [\"One Thing\"], [\"Steal My Girl\"], [\"Midnight Memories\"], [\"A.M\"], [\"Best Song Ever\"], [\"Olivia\"], [\"Perfect\"], [\"If I Could Fly\"], [\"Diana\"], [\"History\"], [\"Little Things\"], [\"You & I\"], [\"Drag Me Down\"], [\"18\"], [\"What Makes You Beautiful\"], [\"Story of My Life\"], [\"Night Changes\"], [\"Fool's Gold\"], [\"Infinity\"]], \"hovertemplate\": \"artista=One Direction<br>x=%{x}<br>y=%{y}<br>musica=%{customdata[0]}<extra></extra>\", \"legendgroup\": \"One Direction\", \"marker\": {\"color\": \"#636efa\", \"opacity\": 0.7, \"symbol\": \"circle\"}, \"mode\": \"markers\", \"name\": \"One Direction\", \"showlegend\": true, \"type\": \"scattergl\", \"x\": [18.367483139038086, -29.177396774291992, 4.204498767852783, 30.753931045532227, -5.546589374542236, -59.019004821777344, 45.352230072021484, 95.28081512451172, 47.154579162597656, -11.016718864440918, 20.18767738342285, -27.446828842163086, 5.53511905670166, -2.8912928104400635, 51.23126983642578, -13.942231178283691, -16.035919189453125, -6.889267444610596, -59.6016960144043, -17.320026397705078, 92.7091293334961, -56.53602981567383, 3.9011037349700928, -3.4362337589263916, -13.506807327270508], \"xaxis\": \"x\", \"y\": [7.504279136657715, 47.89070129394531, -28.281665802001953, -13.825196266174316, 52.17451477050781, -11.409953117370605, -48.38460922241211, 7.2065558433532715, -57.573822021484375, 46.31360626220703, 41.39040756225586, -29.005023956298828, -20.454402923583984, -17.224817276000977, -50.071109771728516, 53.43715286254883, -19.55319595336914, 51.26411437988281, -1.6184645891189575, 55.088802337646484, 7.073486804962158, 4.184517860412598, 48.416343688964844, -16.534372329711914, -51.49919128417969], \"yaxis\": \"y\"}, {\"customdata\": [[\"Somebody To Love\"], [\"Marchin' On\"], [\"Wanted\"], [\"Start Again (Feat. Logic)\"], [\"Kids\"], [\"Feel Again\"], [\"Something I Need\"], [\"Human\"], [\"Wherever I Go\"], [\"All The Right Moves\"], [\"Love Runs Out\"], [\"Stop and Stare\"], [\"Let's Hurt Tonight\"], [\"Didn't I\"], [\"Better Days\"], [\"Rescue Me\"], [\"Say (All I Need)\"], [\"If I Lose Myself\"], [\"Good Life\"], [\"Wild Life\"], [\"I Lived\"], [\"Secrets\"], [\"Apologize\"], [\"Counting Stars\"], [\"Come Home (Feat. Sara Bareilles)\"]], \"hovertemplate\": \"artista=OneRepublic<br>x=%{x}<br>y=%{y}<br>musica=%{customdata[0]}<extra></extra>\", \"legendgroup\": \"OneRepublic\", \"marker\": {\"color\": \"#EF553B\", \"opacity\": 0.7, \"symbol\": \"circle\"}, \"mode\": \"markers\", \"name\": \"OneRepublic\", \"showlegend\": true, \"type\": \"scattergl\", \"x\": [31.585716247558594, -12.178481101989746, 29.964067459106445, 43.01992416381836, -16.053367614746094, 13.436441421508789, 20.6975154876709, 26.299259185791016, -57.776676177978516, -11.700798988342285, 7.237234592437744, 19.688722610473633, 43.75138473510742, -16.00979232788086, -27.117979049682617, -10.402386665344238, 52.48967361450195, 24.635526657104492, 27.994352340698242, 21.81406593322754, 47.72890090942383, -36.43070983886719, 43.22281265258789, 16.52311134338379, 17.245960235595703], \"xaxis\": \"x\", \"y\": [-30.896072387695312, 46.20840072631836, 8.595985412597656, -51.962642669677734, 54.740272521972656, 24.732479095458984, -21.88412857055664, -27.918115615844727, -32.57231140136719, 44.012535095214844, 6.986189365386963, -11.20633602142334, 64.04790496826172, 57.69894027709961, 0.018934711813926697, -10.501667976379395, 8.538260459899902, 45.11967086791992, 4.742042064666748, 9.10336971282959, -52.73607635498047, -20.159753799438477, 6.045277118682861, 24.60929298400879, 34.690093994140625], \"yaxis\": \"y\"}, {\"customdata\": [[\"Flash Pose (Ft. Charli XCX)\"]], \"hovertemplate\": \"artista=Pabllo Vittar<br>x=%{x}<br>y=%{y}<br>musica=%{customdata[0]}<extra></extra>\", \"legendgroup\": \"Pabllo Vittar\", \"marker\": {\"color\": \"#00cc96\", \"opacity\": 0.7, \"symbol\": \"circle\"}, \"mode\": \"markers\", \"name\": \"Pabllo Vittar\", \"showlegend\": true, \"type\": \"scattergl\", \"x\": [40.52328872680664], \"xaxis\": \"x\", \"y\": [33.998600006103516], \"yaxis\": \"y\"}, {\"customdata\": [[\"Daughter\"], [\"Dance of the Clairvoyants\"], [\"Who Ever Said\"], [\"Future Days\"], [\"Given to Fly\"], [\"Superblood Wolfmoon\"], [\"Oceans\"], [\"Elderly Woman Behind the Counter in a Small Town\"], [\"Nothingman\"], [\"Smile\"], [\"Do The Evolution\"], [\"Release\"], [\"Black\"], [\"Last Kiss\"], [\"Alive\"], [\"Jeremy\"], [\"Just Breathe\"], [\"I Am Mine\"], [\"Once\"], [\"Light Years\"], [\"Yellow Ledbetter\"], [\"Better Man\"], [\"Soldier Of Love\"], [\"Sirens\"], [\"Even Flow\"]], \"hovertemplate\": \"artista=Pearl Jam<br>x=%{x}<br>y=%{y}<br>musica=%{customdata[0]}<extra></extra>\", \"legendgroup\": \"Pearl Jam\", \"marker\": {\"color\": \"#ab63fa\", \"opacity\": 0.7, \"symbol\": \"circle\"}, \"mode\": \"markers\", \"name\": \"Pearl Jam\", \"showlegend\": true, \"type\": \"scattergl\", \"x\": [-27.35468101501465, -19.165868759155273, -33.56973648071289, -46.60026550292969, -46.332847595214844, -22.792083740234375, 43.42275619506836, -47.515045166015625, -44.92519760131836, 22.081310272216797, 49.834014892578125, 44.95823669433594, -17.87211036682129, -23.186771392822266, 44.5372428894043, -28.71860694885254, 10.813611030578613, -26.316688537597656, 47.264713287353516, 1.2755634784698486, 23.458274841308594, 8.546696662902832, -10.920516014099121, -10.12644100189209, -46.71135711669922], \"xaxis\": \"x\", \"y\": [-37.524471282958984, 32.433319091796875, 1.5046756267547607, 16.541912078857422, 32.508182525634766, -16.82955551147461, -56.6988639831543, 15.641240119934082, 34.29604721069336, 2.6384665966033936, 35.95481491088867, -56.37250518798828, 23.86559295654297, -17.018217086791992, 39.251708984375, 26.05998420715332, -45.9007453918457, 31.59258460998535, 37.28648376464844, 2.3215932846069336, 5.168657302856445, 51.517730712890625, 6.339155673980713, 19.90099334716797, 31.662796020507812], \"yaxis\": \"y\"}, {\"customdata\": [[\"True Love (Feat. Lily Allen)\"], [\"Dear Mr. President (feat. Indigo Girls)\"], [\"Walk Me Home\"], [\"Don't Let Me Get Me\"], [\"U + Ur Hand\"], [\"Trouble\"], [\"I Am Here\"], [\"90 Days (Feat. Wrabel)\"], [\"(Hey Why) Miss You Sometime\"], [\"Are We All We Are\"], [\"Just Give Me A Reason (Feat. Nate Ruess)\"], [\"A Million Dreams\"], [\"F**kin' Perfect\"], [\"Try\"], [\"Who Knew\"], [\"What About Us\"], [\"Please Don't Leave Me\"], [\"So What\"], [\"Beautiful Trauma\"], [\"Funhouse\"], [\"Just Like Fire\"], [\"Sober\"], [\"Raise Your Glass\"], [\"Blow Me (One Last Kiss)\"], [\"Just Like A Pill\"]], \"hovertemplate\": \"artista=Pink<br>x=%{x}<br>y=%{y}<br>musica=%{customdata[0]}<extra></extra>\", \"legendgroup\": \"Pink\", \"marker\": {\"color\": \"#FFA15A\", \"opacity\": 0.7, \"symbol\": \"circle\"}, \"mode\": \"markers\", \"name\": \"Pink\", \"showlegend\": true, \"type\": \"scattergl\", \"x\": [49.09192657470703, 55.735164642333984, 42.306175231933594, -26.6378231048584, 10.930234909057617, -45.09322738647461, -61.580772399902344, 9.357172966003418, 15.578253746032715, -21.45804214477539, -10.590920448303223, -3.3414306640625, 8.693428039550781, 36.98844909667969, -35.60899353027344, -53.25010681152344, 68.57725524902344, 94.19444274902344, 17.101470947265625, 53.69731140136719, 32.28122329711914, 28.379831314086914, 21.5411319732666, -45.29881286621094, -20.67337989807129], \"xaxis\": \"x\", \"y\": [-52.73931884765625, 10.020270347595215, 65.06529235839844, -26.931264877319336, -78.77012634277344, 22.034954071044922, 25.499401092529297, -17.59993553161621, -41.83061218261719, 47.183326721191406, 52.09135818481445, 40.427146911621094, -19.96799659729004, -67.00431060791016, 32.650672912597656, 21.353174209594727, -25.330936431884766, 6.839809894561768, -37.26145935058594, 16.48871421813965, 29.281211853027344, 4.1109771728515625, -57.20351028442383, -6.21685791015625, 14.510323524475098], \"yaxis\": \"y\"}, {\"customdata\": [[\"Another Brick In The Wall, Pt. 2\"], [\"On The Turning Away\"], [\"Echoes\"], [\"Pigs (Three Different Ones)\"], [\"Us And Them\"], [\"Eclipse\"], [\"Brain Damage\"], [\"High Hopes\"], [\"The Great Gig in the Sky\"], [\"Coming Back To Life\"], [\"Goodbye Blue Sky\"], [\"Shine On You Crazy Diamond\"], [\"In the Flesh?\"], [\"Money\"], [\"Breathe\"], [\"Mother\"], [\"Another Brick In The Wall, pt. 1\"], [\"Hey You\"], [\"Time\"], [\"The Wall (complete)\"], [\"Comfortably Numb\"], [\"Wish You Were Here\"], [\"Another Brick In The Wall\"], [\"Speak to Me\"], [\"Learning To Fly\"]], \"hovertemplate\": \"artista=Pink Floyd<br>x=%{x}<br>y=%{y}<br>musica=%{customdata[0]}<extra></extra>\", \"legendgroup\": \"Pink Floyd\", \"marker\": {\"color\": \"#19d3f3\", \"opacity\": 0.7, \"symbol\": \"circle\"}, \"mode\": \"markers\", \"name\": \"Pink Floyd\", \"showlegend\": true, \"type\": \"scattergl\", \"x\": [-13.301576614379883, -20.519851684570312, -21.549795150756836, 63.449459075927734, -25.322132110595703, -45.71893310546875, -22.12836456298828, -19.99612045288086, -11.443476676940918, -31.484451293945312, -36.790775299072266, -3.639641284942627, -7.158958911895752, -32.368072509765625, -52.78120040893555, -12.000875473022461, -13.364253044128418, 58.88477325439453, -52.66778564453125, -12.648771286010742, -7.308197021484375, 52.21946334838867, -13.17475700378418, 16.722797393798828, -20.62447166442871], \"xaxis\": \"x\", \"y\": [-64.14156341552734, 28.834400177001953, 27.73688507080078, -38.50767517089844, 32.99982452392578, -22.343128204345703, 28.558921813964844, 30.321916580200195, -6.561784267425537, 35.75897979736328, 57.022254943847656, 4.028265476226807, 9.206332206726074, 22.911813735961914, 10.303411483764648, -61.83208465576172, -63.77766418457031, -1.494381070137024, 10.41331672668457, -62.855350494384766, 9.603630065917969, 7.975020885467529, -63.8892936706543, 25.553390502929688, 15.019989967346191], \"yaxis\": \"y\"}, {\"customdata\": [[\"On the Road (feat. Meek Mill and Lil Baby)\"], [\"Circles\"], [\"Yours Truly, Austin Post\"], [\"Big Lie\"], [\"Sunflower (With Swae Lee)\"], [\"I Fall Apart\"], [\"Over Now\"], [\"Congratulations\"], [\"A Thousand Bad Times\"], [\"Deja Vu (Feat. Justin Bieber)\"], [\"Enemies (Feat. DaBaby)\"], [\"Hollywood's Bleeding\"], [\"Wow.\"], [\"White Iverson\"], [\"Blame It On Me\"], [\"Take What You Want (feat. Ozzy Osbourne and Travis Scott)\"], [\"Goodbyes (Feat. Young Thug)\"], [\"Rockstar (feat. 21 Savage)\"], [\"Stay\"], [\"Better Now\"], [\"Go Flex\"], [\"Die for Me (Feat. Future and Halsey)\"], [\"Paranoid\"], [\"Psycho (feat. Ty Dolla $ign)\"], [\"Saint-Tropez\"]], \"hovertemplate\": \"artista=Post Malone<br>x=%{x}<br>y=%{y}<br>musica=%{customdata[0]}<extra></extra>\", \"legendgroup\": \"Post Malone\", \"marker\": {\"color\": \"#FF6692\", \"opacity\": 0.7, \"symbol\": \"circle\"}, \"mode\": \"markers\", \"name\": \"Post Malone\", \"showlegend\": true, \"type\": \"scattergl\", \"x\": [-30.331668853759766, 28.73320960998535, -56.06949996948242, -7.162917613983154, 42.75152587890625, 39.13883972167969, 47.00817108154297, 48.21006393432617, 18.79413414001465, -37.372318267822266, -30.672731399536133, -7.875583171844482, -35.320587158203125, -32.508602142333984, 2.9271585941314697, 8.831536293029785, -35.81438446044922, -34.28287887573242, -38.14330291748047, -6.4788360595703125, -31.811832427978516, -2.733912467956543, -41.44237518310547, -29.137636184692383, 16.399614334106445], \"xaxis\": \"x\", \"y\": [11.340987205505371, -48.42690658569336, 4.759944915771484, -2.333385467529297, 68.4557113647461, 67.18154907226562, 32.272945404052734, 36.646976470947266, -15.164101600646973, -22.762174606323242, 8.259933471679688, 47.8365592956543, 13.386589050292969, 17.94329261779785, 20.491622924804688, -46.60447692871094, 57.88222885131836, 14.460511207580566, -21.588298797607422, -24.06450653076172, 15.842222213745117, -29.194005966186523, 12.642974853515625, 12.92615032196045, 34.14057159423828], \"yaxis\": \"y\"}, {\"customdata\": [[\"Love Of My Life\"], [\"I Want To Break Free\"], [\"We Are The Champions\"], [\"The Show Must Go On\"], [\"Somebody To Love\"], [\"Another One Bites The Dust\"], [\"A Kind Of Magic\"], [\"Crazy Little Thing Called Love\"], [\"Don't Stop Me Now\"], [\"We Will Rock You\"], [\"20th Century Fox Fanfare\"], [\"Who Wants To Live Forever\"], [\"Fun It\"], [\"(You're So Square) Baby I Don't Care\"], [\"Bohemian Rhapsody\"], [\"Doing All Right\"], [\"I Was Born To Love You\"], [\"Bohemian Rhapsody (B-Sensual & No!end Bootleg)\"], [\"Forever\"], [\"You're My Best Friend\"], [\"In The Space Capsule\"], [\"A Winter's Tale (Cosy Fireside Mix)\"], [\"Radio Ga Ga\"], [\"Killer Queen\"], [\"Under Pressure (feat. David Bowie)\"]], \"hovertemplate\": \"artista=Queen<br>x=%{x}<br>y=%{y}<br>musica=%{customdata[0]}<extra></extra>\", \"legendgroup\": \"Queen\", \"marker\": {\"color\": \"#B6E880\", \"opacity\": 0.7, \"symbol\": \"circle\"}, \"mode\": \"markers\", \"name\": \"Queen\", \"showlegend\": true, \"type\": \"scattergl\", \"x\": [25.889678955078125, 30.382429122924805, -20.46582794189453, -5.550287246704102, 31.612895965576172, 14.32893180847168, -38.312618255615234, 32.87577438354492, 39.485172271728516, -34.37995529174805, -87.62271881103516, 2.7295422554016113, -24.678300857543945, 36.1556510925293, 39.95978927612305, -24.62431526184082, 32.81434631347656, 39.95563507080078, -88.46333312988281, -55.144935607910156, -89.054443359375, -17.523202896118164, 0.5103716254234314, 8.315483093261719, -3.0823967456817627], \"xaxis\": \"x\", \"y\": [-38.86156463623047, 9.591532707214355, 45.68424987792969, 8.226569175720215, -30.78249168395996, 18.498641967773438, -4.78363037109375, -13.662186622619629, 22.159862518310547, 47.25998306274414, -13.268563270568848, 37.77995681762695, -9.276341438293457, -0.5309126973152161, -31.977947235107422, 42.132041931152344, -34.64167022705078, -31.977989196777344, -13.516227722167969, -30.41211700439453, -12.89316463470459, 27.03624153137207, -7.171122074127197, 48.87358856201172, -70.99551391601562], \"yaxis\": \"y\"}, {\"customdata\": [[\"Pussy\"]], \"hovertemplate\": \"artista=Rammstein<br>x=%{x}<br>y=%{y}<br>musica=%{customdata[0]}<extra></extra>\", \"legendgroup\": \"Rammstein\", \"marker\": {\"color\": \"#FF97FF\", \"opacity\": 0.7, \"symbol\": \"circle\"}, \"mode\": \"markers\", \"name\": \"Rammstein\", \"showlegend\": true, \"type\": \"scattergl\", \"x\": [25.122915267944336], \"xaxis\": \"x\", \"y\": [-4.9204630851745605], \"yaxis\": \"y\"}, {\"customdata\": [[\"Snow (Hey Oh)\"], [\"Californication\"], [\"Otherside\"], [\"The Power Of Equality\"], [\"Easily\"], [\"Suck My Kiss\"], [\"Encore\"], [\"Higher Ground\"], [\"Universally Speaking\"], [\"Soul To Squeeze\"], [\"The Getaway\"], [\"Dosed\"], [\"Tell Me Baby\"], [\"The Zephyr Song\"], [\"Goodbye Angels\"], [\"Don't Forget Me\"], [\"By The Way\"], [\"Scar Tissue\"], [\"Dark Necessities\"], [\"Under The Bridge\"], [\"Dani California\"], [\"Give It Away\"], [\"Around The World\"], [\"Road Trippin'\"], [\"Can't Stop\"]], \"hovertemplate\": \"artista=Red Hot Chili Peppers<br>x=%{x}<br>y=%{y}<br>musica=%{customdata[0]}<extra></extra>\", \"legendgroup\": \"Red Hot Chili Peppers\", \"marker\": {\"color\": \"#FECB52\", \"opacity\": 0.7, \"symbol\": \"circle\"}, \"mode\": \"markers\", \"name\": \"Red Hot Chili Peppers\", \"showlegend\": true, \"type\": \"scattergl\", \"x\": [54.686397552490234, -17.63383674621582, 23.951065063476562, -29.613821029663086, -12.208582878112793, 10.15245246887207, -16.203514099121094, 36.3819580078125, 17.469507217407227, 22.462080001831055, 18.86101722717285, -11.959589004516602, -9.734249114990234, 49.03207015991211, -24.31757926940918, -17.684850692749023, 44.10649490356445, -13.114323616027832, 68.12865447998047, 36.37665557861328, 7.090532302856445, 26.722774505615234, -5.421339511871338, -52.88899612426758, -11.00860595703125], \"xaxis\": \"x\", \"y\": [-0.5572123527526855, 25.871374130249023, 15.035568237304688, 3.454608678817749, 20.558483123779297, -1.115544319152832, 18.887006759643555, 22.188325881958008, -41.64031219482422, 15.60457992553711, 16.10154151916504, 3.1061065196990967, 9.979516983032227, 37.09610366821289, -12.870706558227539, -48.466548919677734, 62.305118560791016, 16.110517501831055, 24.401866912841797, 42.9416389465332, 46.05580520629883, -7.133673191070557, -1.5460776090621948, -1.8968992233276367, 19.04888153076172], \"yaxis\": \"y\"}, {\"customdata\": [[\"Umbrella (feat. Jay Z)\"], [\"Bitch Better Have My Money\"], [\"Stay (feat. Mikky Ekko)\"], [\"Take A Bow\"], [\"Man Down\"], [\"Needed Me\"], [\"What's My Name (feat. Drake)\"], [\"Only Girl (In The World)\"], [\"We Found Love (feat. Calvin Harris)\"], [\"Work (Feat. Drake)\"], [\"Rude Boy\"], [\"S&M\"], [\"Don't Stop The Music\"], [\"Love The Way You Lie\"], [\"Kiss It Better\"], [\"Rehab (feat. Justin Timberlake)\"], [\"California King Bed\"], [\"Where Have You Been\"], [\"Consideration (feat. SZA)\"], [\"Disturbia\"], [\"If It's Lovin' That You Want\"], [\"Hate That I Love You (feat. Ne-yo)\"], [\"Unfaithful\"], [\"Diamonds\"], [\"Love On The Brain\"]], \"hovertemplate\": \"artista=Rihanna<br>x=%{x}<br>y=%{y}<br>musica=%{customdata[0]}<extra></extra>\", \"legendgroup\": \"Rihanna\", \"marker\": {\"color\": \"#636efa\", \"opacity\": 0.7, \"symbol\": \"circle\"}, \"mode\": \"markers\", \"name\": \"Rihanna\", \"showlegend\": true, \"type\": \"scattergl\", \"x\": [74.2813720703125, -38.960182189941406, 34.31611251831055, 9.503194808959961, -75.21880340576172, -15.57364559173584, 95.83296966552734, 80.47217559814453, -23.81682777404785, -3.5082345008850098, 37.238250732421875, 92.73204040527344, 39.120243072509766, -37.55460739135742, 24.79180908203125, 42.22456741333008, -12.291180610656738, 16.883892059326172, -41.33310317993164, -75.21489715576172, 8.835221290588379, -16.243867874145508, 22.800809860229492, -14.601351737976074, 32.1146240234375], \"xaxis\": \"x\", \"y\": [2.388981342315674, 9.780245780944824, 49.81050109863281, -14.032464027404785, 5.524486541748047, -12.679926872253418, 8.428925514221191, -13.81175708770752, 54.806060791015625, -24.755306243896484, -25.434614181518555, 8.631996154785156, 21.00931167602539, -61.65386962890625, 14.656228065490723, -47.3383903503418, 59.392032623291016, 32.339691162109375, 12.714761734008789, 5.524509906768799, -30.119199752807617, -35.173072814941406, 5.275331497192383, 26.93651008605957, -15.92900276184082], \"yaxis\": \"y\"}, {\"customdata\": [[\"People get ready\"], [\"The First Cut Is The Deepest\"], [\"What a Difference a Day Makes\"], [\"Love Touch\"], [\"Da Ya Think I'm Sexy (Feat. DNCE)\"], [\"Some Guys Have All The Luck\"], [\"You Are Everything\"], [\"Have I Told You Lately\"], [\"Fly Me To The Moon\"], [\"Tonight's The Night\"], [\"A Reason To Believe\"], [\"All For Love\"], [\"Baby Jane\"], [\"Stop Loving Her Today\"], [\"Forever Young\"], [\"Maggie May\"], [\"Every Beat Of My Heart\"], [\"The Way You Look Tonight\"], [\"You're In My Heart (The Final Acclaim)\"], [\"Have You Ever Seen The Rain?\"], [\"Sailing\"], [\"I Don't Want To Talk About It\"], [\"Young Turks\"], [\"My Heart Can't Tell You No\"], [\"It's A Heartache\"]], \"hovertemplate\": \"artista=Rod Stewart<br>x=%{x}<br>y=%{y}<br>musica=%{customdata[0]}<extra></extra>\", \"legendgroup\": \"Rod Stewart\", \"marker\": {\"color\": \"#EF553B\", \"opacity\": 0.7, \"symbol\": \"circle\"}, \"mode\": \"markers\", \"name\": \"Rod Stewart\", \"showlegend\": true, \"type\": \"scattergl\", \"x\": [51.90729904174805, -9.778732299804688, -25.232181549072266, -10.288175582885742, 21.355478286743164, -19.959474563598633, 12.801657676696777, -58.18653869628906, -57.31263732910156, -39.64027786254883, -12.806720733642578, 10.087187767028809, -33.01763153076172, 45.877750396728516, -16.66533660888672, -12.641273498535156, -21.084196090698242, -33.40611267089844, 10.34245777130127, -49.458595275878906, -36.61936950683594, -0.2733790874481201, -8.284209251403809, -32.1568489074707, -18.761947631835938], \"xaxis\": \"x\", \"y\": [-37.52446746826172, 53.110069274902344, -12.974340438842773, -25.856666564941406, -59.167816162109375, -5.293629169464111, -18.810466766357422, -12.367653846740723, -13.423075675964355, -33.85414505004883, -2.6922447681427, 13.041743278503418, -25.59212875366211, 20.95265769958496, -2.2747347354888916, -8.917448997497559, 20.4507999420166, -65.32654571533203, -19.015920639038086, 10.352785110473633, -31.232372283935547, -38.16454315185547, 5.194098472595215, -25.841745376586914, -5.675959587097168], \"yaxis\": \"y\"}, {\"customdata\": [[\"Too Good At Goodbyes\"], [\"I Feel Love\"], [\"Diamonds\"], [\"Burning\"], [\"Money On My Mind\"], [\"Latch\"], [\"I'm Not The Only One (Feat. A$AP Rocky)\"], [\"Say It First\"], [\"Writing's On The Wall\"], [\"Fix You\"], [\"Baby, You Make Me Crazy (Feat. The Dap-Kings Horns)\"], [\"I'm Ready (With Demi Lovato)\"], [\"Promises\"], [\"Him\"], [\"I'm Not The Only One\"], [\"To Die For\"], [\"Lay Me Down\"], [\"Pray\"], [\"Pray (Feat. Logic) (Remix)\"], [\"My Oasis (Ft. Burna Boy)\"], [\"How Do You Sleep?\"], [\"Fire on Fire\"], [\"Dancing With A Stranger (With Normani)\"], [\"Stay With Me\"], [\"La La La\"]], \"hovertemplate\": \"artista=Sam Smith<br>x=%{x}<br>y=%{y}<br>musica=%{customdata[0]}<extra></extra>\", \"legendgroup\": \"Sam Smith\", \"marker\": {\"color\": \"#00cc96\", \"opacity\": 0.7, \"symbol\": \"circle\"}, \"mode\": \"markers\", \"name\": \"Sam Smith\", \"showlegend\": true, \"type\": \"scattergl\", \"x\": [50.336181640625, 25.576374053955078, 34.06898498535156, 16.678665161132812, -33.267826080322266, -2.415152072906494, 44.96687316894531, -33.00383377075195, 57.5087890625, -40.992042541503906, -53.72422790527344, 32.959354400634766, 32.20729446411133, 16.245351791381836, 44.95487594604492, 31.70148277282715, -11.657958984375, -48.07424545288086, -48.07387161254883, -22.628734588623047, 56.67759323120117, 2.456794500350952, 5.09890079498291, 11.736262321472168, 78.30262756347656], \"xaxis\": \"x\", \"y\": [-14.017709732055664, 72.61399841308594, 32.117889404296875, 25.43585968017578, -14.240976333618164, -19.259048461914062, -4.181713581085205, -29.876731872558594, 9.158127784729004, -45.4258918762207, -31.672508239746094, -32.9695930480957, -41.08882141113281, -64.34291076660156, -4.168518543243408, -29.85663604736328, 2.615832805633545, -40.44042205810547, -40.43467712402344, -5.666379928588867, 9.587472915649414, 58.02077102661133, -30.202716827392578, -45.42856216430664, -12.220344543457031], \"yaxis\": \"y\"}, {\"customdata\": [[\"Falling In Love\"], [\"Rhythm Of Love\"], [\"Drive\"], [\"In Trance\"], [\"Big City Nights\"], [\"Blackout\"], [\"Believe In Love\"], [\"Love Of My Life (cover)\"], [\"When You Came Into My Life\"], [\"Humanity\"], [\"When The Smoke Is Going Down\"], [\"Dust In The Wind (cover)\"], [\"Rock You Like A Hurricane\"], [\"Life Is Too Short\"], [\"Follow Your Heart\"], [\"Under The Same Sun\"], [\"Holiday\"], [\"Send Me An Angel\"], [\"You And I\"], [\"Always Somewhere\"], [\"Still Loving You\"], [\"Wind Of Change\"], [\"No One Like You\"], [\"The Zoo\"]], \"hovertemplate\": \"artista=Scorpions<br>x=%{x}<br>y=%{y}<br>musica=%{customdata[0]}<extra></extra>\", \"legendgroup\": \"Scorpions\", \"marker\": {\"color\": \"#ab63fa\", \"opacity\": 0.7, \"symbol\": \"circle\"}, \"mode\": \"markers\", \"name\": \"Scorpions\", \"showlegend\": true, \"type\": \"scattergl\", \"x\": [13.10145378112793, -11.751117706298828, -35.380496978759766, 57.53984069824219, -64.56273651123047, 29.941938400268555, 26.294940948486328, 25.893266677856445, 15.222383499145508, -59.17161560058594, -43.892677307128906, -23.497486114501953, -60.69138717651367, -51.77137756347656, -12.707237243652344, -27.54974365234375, -52.96160125732422, -18.36748695373535, -40.62897491455078, 8.631562232971191, -18.741209030151367, -19.254812240600586, 65.59909057617188, -17.020986557006836], \"xaxis\": \"x\", \"y\": [-56.294071197509766, 29.719934463500977, -26.1885929107666, -3.6626620292663574, 9.730071067810059, 8.855843544006348, -27.919118881225586, -38.868080139160156, 32.92390060424805, -11.222265243530273, 6.678720474243164, 44.918949127197266, 25.824962615966797, 11.614089012145996, 13.86632251739502, 49.71005630493164, -1.8790082931518555, 29.004274368286133, -16.882322311401367, 66.82315063476562, -48.17951583862305, 28.573097229003906, -13.908849716186523, 39.604095458984375], \"yaxis\": \"y\"}, {\"customdata\": [[\"Good for You (feat. A$AP Rocky)\"], [\"Dance Again\"], [\"Revival\"], [\"Girl Crush (Feat. Iggy Azalea)\"], [\"Crowded Room (feat. 6lack)\"], [\"Sober\"], [\"Ring\"], [\"Live Like There's no Tomorrow\"], [\"Back To You\"], [\"Love You Like a Love Song\"], [\"Boyfriend\"], [\"Feel Me\"], [\"Hands To Myself\"], [\"Fetish (Feat. Gucci Mane)\"], [\"Vulnerable\"], [\"A Year Without Rain\"], [\"Who Says\"], [\"Look At Her Now\"], [\"Souvenir\"], [\"Wolves (Feat. Marshmello)\"], [\"Rare\"], [\"The Heart Wants What It Wants\"], [\"Lose You To Love Me\"], [\"A Sweeter Place (Ft. Kid Cudi)\"], [\"Same Old Love\"]], \"hovertemplate\": \"artista=Selena Gomez<br>x=%{x}<br>y=%{y}<br>musica=%{customdata[0]}<extra></extra>\", \"legendgroup\": \"Selena Gomez\", \"marker\": {\"color\": \"#FFA15A\", \"opacity\": 0.7, \"symbol\": \"circle\"}, \"mode\": \"markers\", \"name\": \"Selena Gomez\", \"showlegend\": true, \"type\": \"scattergl\", \"x\": [10.335626602172852, 45.83940505981445, 48.41523361206055, -2.533651113510132, 2.400118112564087, 7.444620132446289, 81.60347747802734, -14.762489318847656, 6.850649356842041, -11.456689834594727, -22.29976463317871, -22.116519927978516, 22.588224411010742, 0.7949610948562622, 46.20182800292969, -2.548210859298706, 93.29965209960938, 32.8438835144043, 14.154706954956055, 17.87928009033203, -52.22216796875, -16.647436141967773, 31.212167739868164, 25.351146697998047, -35.902374267578125], \"xaxis\": \"x\", \"y\": [-77.82090759277344, 63.2371826171875, -53.616241455078125, -6.845602512359619, -29.037565231323242, -13.76834774017334, -10.77946949005127, 50.8389892578125, 67.3076400756836, -35.818241119384766, -58.814117431640625, -29.247400283813477, 28.884811401367188, -24.455923080444336, 35.54825210571289, -20.619001388549805, 5.896810531616211, 31.69963836669922, 32.36725997924805, 26.660125732421875, -32.1561393737793, -9.345294952392578, -32.3955078125, 36.907039642333984, -8.112253189086914], \"yaxis\": \"y\"}, {\"customdata\": [[\"La La La (Brasil 2014) (Part. Carlinhos Brown)\"], [\"Try Everything\"], [\"Loca (feat. Dizzee Rascal)\"], [\"Whenever, Wherever\"], [\"Can't Remember To Forget You (Feat. Rihanna)\"], [\"Waka Waka (This Time For Africa)\"], [\"Super Bowl LIV Halftime Show (With Jennifer Lopez Ft. Bad Bunny, J Balvin)\"], [\"Hips Don't Lie (feat. Wyclef Jean)\"]], \"hovertemplate\": \"artista=Shakira<br>x=%{x}<br>y=%{y}<br>musica=%{customdata[0]}<extra></extra>\", \"legendgroup\": \"Shakira\", \"marker\": {\"color\": \"#19d3f3\", \"opacity\": 0.7, \"symbol\": \"circle\"}, \"mode\": \"markers\", \"name\": \"Shakira\", \"showlegend\": true, \"type\": \"scattergl\", \"x\": [77.72239685058594, 47.36247253417969, 65.28201293945312, -17.336149215698242, 45.86674880981445, 74.6264419555664, 77.67049407958984, -12.897076606750488], \"xaxis\": \"x\", \"y\": [-11.750059127807617, -55.16503143310547, 20.581510543823242, -46.49755096435547, -52.46996307373047, 2.256878137588501, -8.635936737060547, -14.967612266540527], \"yaxis\": \"y\"}, {\"customdata\": [[\"Wonder\"], [\"No Promises\"], [\"Youth (Feat. Khalid)\"], [\"Bad Reputation\"], [\"Life Of The Party\"], [\"Roses\"], [\"Nervous\"], [\"Memories\"], [\"Lost In Japan\"], [\"I Know What You Did Last Summer (feat. Camila Cabello)\"], [\"Fallin' All In You\"], [\"Why\"], [\"If I Can't Have You\"], [\"Use Somebody\"], [\"Imagination\"], [\"In My Blood\"], [\"Never Be Alone\"], [\"Mercy\"], [\"Stitches\"], [\"Treat You Better\"], [\"There's Nothing Holdin' Me Back\"], [\"Se\\u00f1orita (With Camila Cabello)\"], [\"Intro\"], [\"Because I Had You\"], [\"Like To Be You (Feat. Julia Michaels)\"]], \"hovertemplate\": \"artista=Shawn Mendes<br>x=%{x}<br>y=%{y}<br>musica=%{customdata[0]}<extra></extra>\", \"legendgroup\": \"Shawn Mendes\", \"marker\": {\"color\": \"#FF6692\", \"opacity\": 0.7, \"symbol\": \"circle\"}, \"mode\": \"markers\", \"name\": \"Shawn Mendes\", \"showlegend\": true, \"type\": \"scattergl\", \"x\": [64.7986068725586, 44.633785247802734, 43.405723571777344, 66.71466064453125, 44.492855072021484, -19.281898498535156, -22.257572174072266, -62.4557991027832, 29.211294174194336, 67.16234588623047, -13.01978588104248, -2.533066511154175, 42.58968734741211, 11.28031063079834, 42.98384475708008, 2.4724600315093994, 48.52144241333008, 0.04686169698834419, -22.545270919799805, -40.53923416137695, -0.36037325859069824, 79.26777648925781, 3.183427095413208, -0.6136377453804016, 63.980979919433594], \"xaxis\": \"x\", \"y\": [-14.170015335083008, -38.20319747924805, -26.025190353393555, 23.517309188842773, -37.09270477294922, -31.33281707763672, -29.10112953186035, 21.984682083129883, -14.438586235046387, 23.125568389892578, 57.750064849853516, 49.28852081298828, 6.960722923278809, 4.282854080200195, -53.369667053222656, 21.38625717163086, -51.816532135009766, -36.75849914550781, 12.701492309570312, -10.277755737304688, 48.88600158691406, -11.872273445129395, 2.188307285308838, -10.468896865844727, -13.982324600219727], \"yaxis\": \"y\"}, {\"customdata\": [[\"Big Girls Cry\"], [\"Broken Glass\"], [\"My Love\"], [\"One Million Bullets\"], [\"Saved My Life\"], [\"Fire Meet Gasoline\"], [\"Move Your Body\"], [\"Helium\"], [\"I'm Still Here\"], [\"Moon\"], [\"Chandelier (Piano Version)\"], [\"Flames (With David Guetta)\"], [\"Never Give Up\"], [\"She Wolf\"], [\"Alive\"], [\"Together\"], [\"Courage To Change\"], [\"Cheap Thrills (feat. Sean Paul)\"], [\"Unstoppable\"], [\"Elastic Heart\"], [\"Chandelier\"], [\"Bird Set Free\"], [\"Cheap Thrills\"], [\"The Greatest\"], [\"Titanium\"]], \"hovertemplate\": \"artista=Sia<br>x=%{x}<br>y=%{y}<br>musica=%{customdata[0]}<extra></extra>\", \"legendgroup\": \"Sia\", \"marker\": {\"color\": \"#B6E880\", \"opacity\": 0.7, \"symbol\": \"circle\"}, \"mode\": \"markers\", \"name\": \"Sia\", \"showlegend\": true, \"type\": \"scattergl\", \"x\": [44.27372741699219, 35.050926208496094, -0.1888185739517212, 47.88888168334961, 16.3199520111084, 2.417973756790161, 49.07467269897461, 10.621451377868652, 39.53329086303711, -34.89900207519531, -51.45977020263672, 37.66054916381836, 37.20103073120117, 12.601176261901855, -32.45254135131836, -11.901827812194824, -6.553590297698975, 53.04519271850586, 50.3602180480957, 14.47174072265625, -51.45954895019531, -71.70543670654297, 53.01076889038086, 35.638057708740234, -13.001592636108398], \"xaxis\": \"x\", \"y\": [-34.778282165527344, -64.72879791259766, -25.141361236572266, -53.66823196411133, 33.48031997680664, 58.06294631958008, -53.60774230957031, -2.5425832271575928, -11.01185131072998, 46.52967071533203, -6.782375335693359, 22.012279510498047, -64.04583740234375, -54.6566162109375, -3.105266571044922, 49.88389205932617, 41.13943099975586, -30.55113983154297, 30.101818084716797, 18.73275375366211, -6.782939910888672, -23.07888412475586, -30.571258544921875, -64.94563293457031, 6.639286041259766], \"yaxis\": \"y\"}, {\"customdata\": [[\"the last great american dynasty\"], [\"All Too Well\"], [\"epiphany\"], [\"You Belong With Me\"], [\"the lakes\"], [\"hoax\"], [\"I Knew You Were Trouble\"], [\"Look What You Made Me Do\"], [\"\\u200bmirrorball\"], [\"Shake It Off\"], [\"peace\"], [\"illicit affairs\"], [\"seven\"], [\"my tears ricochet\"], [\"cardigan\"], [\"\\u200bbetty\"], [\"the 1\"], [\"exile (Feat. Bon Iver)\"], [\"mad woman\"], [\"Lover\"], [\"Love Story\"], [\"august\"], [\"this is me trying\"], [\"Blank Space\"], [\"invisible string\"]], \"hovertemplate\": \"artista=Taylor Swift<br>x=%{x}<br>y=%{y}<br>musica=%{customdata[0]}<extra></extra>\", \"legendgroup\": \"Taylor Swift\", \"marker\": {\"color\": \"#FF97FF\", \"opacity\": 0.7, \"symbol\": \"circle\"}, \"mode\": \"markers\", \"name\": \"Taylor Swift\", \"showlegend\": true, \"type\": \"scattergl\", \"x\": [6.404835224151611, -20.722597122192383, -14.834517478942871, -3.6991090774536133, 29.863706588745117, 68.75122833251953, -44.97320556640625, 5.069250106811523, -23.368127822875977, -41.369354248046875, -8.112491607666016, -26.606658935546875, -20.47904396057129, -12.96813678741455, -35.82866287231445, -11.465285301208496, 1.7638076543807983, -30.00871467590332, -12.070863723754883, 32.092079162597656, -14.230637550354004, -21.067272186279297, -25.441814422607422, -34.798526763916016, 43.51632308959961], \"xaxis\": \"x\", \"y\": [44.68747329711914, -10.281238555908203, -19.659679412841797, -10.413080215454102, 38.90078353881836, 25.927709579467773, 22.112451553344727, -30.122568130493164, 4.57747220993042, -33.539329528808594, -16.645816802978516, -36.49387741088867, 20.368112564086914, -10.29015064239502, 33.976192474365234, -10.553985595703125, 1.851495385169983, -11.916833877563477, -12.773515701293945, 19.4644832611084, -7.9019999504089355, -10.130542755126953, 1.7801713943481445, -25.266292572021484, 65.50221252441406], \"yaxis\": \"y\"}, {\"customdata\": [[\"While My Guitar Gently Weeps\"], [\"Something\"], [\"Here Comes The Sun\"], [\"Hello, Goodbye\"], [\"Eleanor Rigby\"], [\"Come Together\"], [\"A Day In The Life\"], [\"In My Life\"], [\"Hey Jude\"], [\"Help!\"], [\"I Want To Hold Your Hand\"], [\"Yellow Submarine\"], [\"Blackbird\"], [\"All My Loving\"], [\"Don't Let Me Down\"], [\"Oh! Darling\"], [\"Let It Be\"], [\"She Loves You\"], [\"All You Need Is Love\"], [\"Across The Universe\"], [\"And I Love Her\"], [\"A Hard Day's Night\"], [\"Yesterday\"], [\"Michelle\"], [\"Strawberry Fields Forever\"]], \"hovertemplate\": \"artista=The Beatles<br>x=%{x}<br>y=%{y}<br>musica=%{customdata[0]}<extra></extra>\", \"legendgroup\": \"The Beatles\", \"marker\": {\"color\": \"#FECB52\", \"opacity\": 0.7, \"symbol\": \"circle\"}, \"mode\": \"markers\", \"name\": \"The Beatles\", \"showlegend\": true, \"type\": \"scattergl\", \"x\": [-20.80048179626465, 5.95876407623291, -49.63685607910156, -38.07478713989258, -22.938573837280273, -47.16755294799805, -32.937355041503906, -62.59314727783203, 94.76739501953125, 7.371367454528809, 19.410676956176758, -27.374290466308594, 18.20761489868164, -13.683637619018555, -27.59621810913086, -15.63978099822998, -69.7309799194336, 44.7353401184082, -2.619389772415161, -2.245654344558716, 11.911443710327148, -54.03816604614258, 10.168749809265137, -13.453749656677246, 5.621494770050049], \"xaxis\": \"x\", \"y\": [0.5458230972290039, 49.17218780517578, -2.907449960708618, 66.5130615234375, 22.69441032409668, 32.50450134277344, 23.372295379638672, -19.072952270507812, 6.7988409996032715, -4.363935947418213, 8.495017051696777, 49.88532638549805, 58.410953521728516, -3.897085428237915, -27.52763557434082, -28.719730377197266, 29.234098434448242, 37.589717864990234, -68.84144592285156, 40.616886138916016, 50.44595718383789, -29.1675968170166, 51.700782775878906, -32.91664123535156, 25.726806640625], \"yaxis\": \"y\"}, {\"customdata\": [[\"Save Your Tears\"], [\"Hardest To Love\"], [\"After Hours\"], [\"Alone Again\"], [\"Too Late\"], [\"Reminder\"], [\"The Hills (Feat. Eminem) (Remix)\"], [\"Pray For Me (With Kendrick Lamar)\"], [\"Escape From LA\"], [\"Often\"], [\"Faith\"], [\"In Your Eyes (Feat. Doja Cat) (Remix)\"], [\"Can't Feel My Face\"], [\"In Your Eyes\"], [\"Over Now (With Calvin Harris)\"], [\"I Feel It Coming (Feat. Daft Punk)\"], [\"The Hills\"], [\"Starboy (Feat. Daft Punk)\"], [\"Call Out My Name\"], [\"Smile (With Juice WRLD)\"], [\"Try Me\"], [\"Die For You\"], [\"Heartless\"], [\"Blinding Lights\"], [\"Earned It\"]], \"hovertemplate\": \"artista=The Weeknd<br>x=%{x}<br>y=%{y}<br>musica=%{customdata[0]}<extra></extra>\", \"legendgroup\": \"The Weeknd\", \"marker\": {\"color\": \"#636efa\", \"opacity\": 0.7, \"symbol\": \"circle\"}, \"mode\": \"markers\", \"name\": \"The Weeknd\", \"showlegend\": true, \"type\": \"scattergl\", \"x\": [26.143796920776367, 47.92609786987305, -7.273943901062012, 48.33857727050781, 44.51955795288086, -5.760047912597656, 5.653023719787598, 56.224849700927734, 52.37730407714844, -43.25914764404297, -21.86623764038086, -41.25968933105469, 7.198056697845459, -41.33934020996094, 93.93267059326172, 22.468503952026367, 5.65516471862793, 63.051544189453125, -27.787935256958008, -12.2667818069458, -5.713254451751709, -1.605811357498169, -22.3516845703125, 57.18035888671875, 7.914004802703857], \"xaxis\": \"x\", \"y\": [-47.36957931518555, 40.7877197265625, -25.455921173095703, -53.04139709472656, 6.402682781219482, -5.774190425872803, -0.43060222268104553, -4.5648698806762695, -11.735185623168945, -31.049448013305664, 5.151793003082275, -15.760489463806152, -35.250946044921875, -15.62328815460205, 7.490025520324707, -27.221416473388672, -0.4297327399253845, -37.98640060424805, -20.466726303100586, -31.6652889251709, -9.627086639404297, -30.373760223388672, 6.231382846832275, -3.1500062942504883, -21.956573486328125], \"yaxis\": \"y\"}, {\"customdata\": [[\"With Or Without You\"], [\"Mysterious Ways\"], [\"Song For Someone\"], [\"Lights Of Home\"], [\"All I Want Is You\"], [\"You're The Best Thing About Me\"], [\"Bad\"], [\"Stay (Faraway, So Close)\"], [\"Vertigo\"], [\"Every Breaking Wave\"], [\"I Still Haven't Found What I'm Looking For\"], [\"City Of Blinding Lights\"], [\"Summer Of Love\"], [\"Love Is All We Have Left\"], [\"Sweetest Thing\"], [\"One\"], [\"Let Your Love Be Known\"], [\"Beautiful Day\"], [\"Sunday Bloody Sunday\"], [\"Pride (In The Name Of Love)\"], [\"New Year's Day\"], [\"Where The Streets Have No Name\"], [\"Stuck In A Moment You Can't Get Out Of\"], [\"Ordinary Love\"], [\"Walk On\"]], \"hovertemplate\": \"artista=U2<br>x=%{x}<br>y=%{y}<br>musica=%{customdata[0]}<extra></extra>\", \"legendgroup\": \"U2\", \"marker\": {\"color\": \"#EF553B\", \"opacity\": 0.7, \"symbol\": \"circle\"}, \"mode\": \"markers\", \"name\": \"U2\", \"showlegend\": true, \"type\": \"scattergl\", \"x\": [19.993505477905273, -17.591928482055664, 46.68803787231445, -3.737962245941162, 1.435666799545288, 16.301498413085938, -69.75987243652344, -8.9839506149292, -39.29837417602539, -18.77834701538086, -33.62820053100586, -5.80330753326416, -9.959502220153809, -21.7767276763916, 38.556495666503906, -20.18370819091797, 16.678220748901367, 13.63925838470459, 24.04486656188965, -11.050557136535645, 43.116661071777344, -16.539823532104492, 26.13392448425293, -12.104351043701172, -45.969383239746094], \"xaxis\": \"x\", \"y\": [-18.0833797454834, 7.516170978546143, 41.23506546020508, 17.122865676879883, -48.323612213134766, -17.290868759155273, 26.88389015197754, -16.844863891601562, 66.90357971191406, 40.50117111206055, -1.4410998821258545, 14.260929107666016, 30.598285675048828, -22.19147491455078, -11.32345962524414, -14.439119338989258, -1.4373396635055542, -8.791130065917969, 45.534427642822266, 31.121990203857422, -54.24427795410156, 38.590667724609375, -9.82213306427002, 51.16380310058594, -22.43821144104004], \"yaxis\": \"y\"}, {\"customdata\": [[\"I Look To You\"], [\"I Have Nothing\"], [\"I Will Always Love You\"], [\"Things You Say\"], [\"Exhale (Shoop Shoop)\"], [\"We Didn't Know (feat. Stevie Wonder)\"], [\"I Believe In You And Me\"], [\"How Will I Know\"], [\"Jesus Loves Me\"], [\"One Moment In Time\"], [\"I Wanna Dance With Somebody (Who Loves Me)\"], [\"Run To You\"], [\"It's Not Right But It's Okay\"], [\"Saving All My Love For You\"], [\"When You Believe (feat. Mariah Carey)\"], [\"Didn't We Almost Have It All\"], [\"You Give Good Love\"], [\"Greatest Love Of All\"], [\"Queen of the Night\\\" (Film Version)\"], [\"Where Do Broken Hearts Go\"], [\"All The Man That I Need\"], [\"My Love Is Your Love\"], [\"I'm Every Woman\"], [\"I Didn't Know My Own Strength\"], [\"Try It On My Own\"]], \"hovertemplate\": \"artista=Whitney Houston<br>x=%{x}<br>y=%{y}<br>musica=%{customdata[0]}<extra></extra>\", \"legendgroup\": \"Whitney Houston\", \"marker\": {\"color\": \"#00cc96\", \"opacity\": 0.7, \"symbol\": \"circle\"}, \"mode\": \"markers\", \"name\": \"Whitney Houston\", \"showlegend\": true, \"type\": \"scattergl\", \"x\": [-13.198781967163086, -20.924535751342773, -58.27042770385742, 2.6709723472595215, 2.6311569213867188, -15.139516830444336, -49.506866455078125, 16.84429168701172, 17.829853057861328, 8.85608959197998, 41.86412811279297, 25.9332332611084, 45.56171417236328, 15.208724975585938, -49.4223747253418, -16.250646591186523, 20.953699111938477, -10.68260383605957, 23.99806022644043, -32.619842529296875, -46.86381912231445, 14.257145881652832, 34.98991012573242, -29.520851135253906, -27.884214401245117], \"xaxis\": \"x\", \"y\": [-2.9049861431121826, -70.95536041259766, -40.890594482421875, -23.47039031982422, -14.834311485290527, 56.876277923583984, -15.306903839111328, -63.61201095581055, -63.360836029052734, 14.865145683288574, 16.77899932861328, -47.26128005981445, 29.874170303344727, -36.68093490600586, -15.306939125061035, 57.7952880859375, -15.694655418395996, 27.279390335083008, -8.737238883972168, -7.174327373504639, 32.98678207397461, -39.702396392822266, 10.229372024536133, 20.044628143310547, 20.244598388671875], \"yaxis\": \"y\"}],                        {\"legend\": {\"title\": {\"text\": \"artista\"}, \"tracegroupgap\": 0}, \"margin\": {\"t\": 60}, \"template\": {\"data\": {\"bar\": [{\"error_x\": {\"color\": \"#2a3f5f\"}, \"error_y\": {\"color\": \"#2a3f5f\"}, \"marker\": {\"line\": {\"color\": \"#E5ECF6\", \"width\": 0.5}}, \"type\": \"bar\"}], \"barpolar\": [{\"marker\": {\"line\": {\"color\": \"#E5ECF6\", \"width\": 0.5}}, \"type\": \"barpolar\"}], \"carpet\": [{\"aaxis\": {\"endlinecolor\": \"#2a3f5f\", \"gridcolor\": \"white\", \"linecolor\": \"white\", \"minorgridcolor\": \"white\", \"startlinecolor\": \"#2a3f5f\"}, \"baxis\": {\"endlinecolor\": \"#2a3f5f\", \"gridcolor\": \"white\", \"linecolor\": \"white\", \"minorgridcolor\": \"white\", \"startlinecolor\": \"#2a3f5f\"}, \"type\": \"carpet\"}], \"choropleth\": [{\"colorbar\": {\"outlinewidth\": 0, \"ticks\": \"\"}, \"type\": \"choropleth\"}], \"contour\": [{\"colorbar\": {\"outlinewidth\": 0, \"ticks\": \"\"}, \"colorscale\": [[0.0, \"#0d0887\"], [0.1111111111111111, \"#46039f\"], [0.2222222222222222, \"#7201a8\"], [0.3333333333333333, \"#9c179e\"], [0.4444444444444444, \"#bd3786\"], [0.5555555555555556, \"#d8576b\"], [0.6666666666666666, \"#ed7953\"], [0.7777777777777778, \"#fb9f3a\"], [0.8888888888888888, \"#fdca26\"], [1.0, \"#f0f921\"]], \"type\": \"contour\"}], \"contourcarpet\": [{\"colorbar\": {\"outlinewidth\": 0, \"ticks\": \"\"}, \"type\": \"contourcarpet\"}], \"heatmap\": [{\"colorbar\": {\"outlinewidth\": 0, \"ticks\": \"\"}, \"colorscale\": [[0.0, \"#0d0887\"], [0.1111111111111111, \"#46039f\"], [0.2222222222222222, \"#7201a8\"], [0.3333333333333333, \"#9c179e\"], [0.4444444444444444, \"#bd3786\"], [0.5555555555555556, \"#d8576b\"], [0.6666666666666666, \"#ed7953\"], [0.7777777777777778, \"#fb9f3a\"], [0.8888888888888888, \"#fdca26\"], [1.0, \"#f0f921\"]], \"type\": \"heatmap\"}], \"heatmapgl\": [{\"colorbar\": {\"outlinewidth\": 0, \"ticks\": \"\"}, \"colorscale\": [[0.0, \"#0d0887\"], [0.1111111111111111, \"#46039f\"], [0.2222222222222222, \"#7201a8\"], [0.3333333333333333, \"#9c179e\"], [0.4444444444444444, \"#bd3786\"], [0.5555555555555556, \"#d8576b\"], [0.6666666666666666, \"#ed7953\"], [0.7777777777777778, \"#fb9f3a\"], [0.8888888888888888, \"#fdca26\"], [1.0, \"#f0f921\"]], \"type\": \"heatmapgl\"}], \"histogram\": [{\"marker\": {\"colorbar\": {\"outlinewidth\": 0, \"ticks\": \"\"}}, \"type\": \"histogram\"}], \"histogram2d\": [{\"colorbar\": {\"outlinewidth\": 0, \"ticks\": \"\"}, \"colorscale\": [[0.0, \"#0d0887\"], [0.1111111111111111, \"#46039f\"], [0.2222222222222222, \"#7201a8\"], [0.3333333333333333, \"#9c179e\"], [0.4444444444444444, \"#bd3786\"], [0.5555555555555556, \"#d8576b\"], [0.6666666666666666, \"#ed7953\"], [0.7777777777777778, \"#fb9f3a\"], [0.8888888888888888, \"#fdca26\"], [1.0, \"#f0f921\"]], \"type\": \"histogram2d\"}], \"histogram2dcontour\": [{\"colorbar\": {\"outlinewidth\": 0, \"ticks\": \"\"}, \"colorscale\": [[0.0, \"#0d0887\"], [0.1111111111111111, \"#46039f\"], [0.2222222222222222, \"#7201a8\"], [0.3333333333333333, \"#9c179e\"], [0.4444444444444444, \"#bd3786\"], [0.5555555555555556, \"#d8576b\"], [0.6666666666666666, \"#ed7953\"], [0.7777777777777778, \"#fb9f3a\"], [0.8888888888888888, \"#fdca26\"], [1.0, \"#f0f921\"]], \"type\": \"histogram2dcontour\"}], \"mesh3d\": [{\"colorbar\": {\"outlinewidth\": 0, \"ticks\": \"\"}, \"type\": \"mesh3d\"}], \"parcoords\": [{\"line\": {\"colorbar\": {\"outlinewidth\": 0, \"ticks\": \"\"}}, \"type\": \"parcoords\"}], \"pie\": [{\"automargin\": true, \"type\": \"pie\"}], \"scatter\": [{\"marker\": {\"colorbar\": {\"outlinewidth\": 0, \"ticks\": \"\"}}, \"type\": \"scatter\"}], \"scatter3d\": [{\"line\": {\"colorbar\": {\"outlinewidth\": 0, \"ticks\": \"\"}}, \"marker\": {\"colorbar\": {\"outlinewidth\": 0, \"ticks\": \"\"}}, \"type\": \"scatter3d\"}], \"scattercarpet\": [{\"marker\": {\"colorbar\": {\"outlinewidth\": 0, \"ticks\": \"\"}}, \"type\": \"scattercarpet\"}], \"scattergeo\": [{\"marker\": {\"colorbar\": {\"outlinewidth\": 0, \"ticks\": \"\"}}, \"type\": \"scattergeo\"}], \"scattergl\": [{\"marker\": {\"colorbar\": {\"outlinewidth\": 0, \"ticks\": \"\"}}, \"type\": \"scattergl\"}], \"scattermapbox\": [{\"marker\": {\"colorbar\": {\"outlinewidth\": 0, \"ticks\": \"\"}}, \"type\": \"scattermapbox\"}], \"scatterpolar\": [{\"marker\": {\"colorbar\": {\"outlinewidth\": 0, \"ticks\": \"\"}}, \"type\": \"scatterpolar\"}], \"scatterpolargl\": [{\"marker\": {\"colorbar\": {\"outlinewidth\": 0, \"ticks\": \"\"}}, \"type\": \"scatterpolargl\"}], \"scatterternary\": [{\"marker\": {\"colorbar\": {\"outlinewidth\": 0, \"ticks\": \"\"}}, \"type\": \"scatterternary\"}], \"surface\": [{\"colorbar\": {\"outlinewidth\": 0, \"ticks\": \"\"}, \"colorscale\": [[0.0, \"#0d0887\"], [0.1111111111111111, \"#46039f\"], [0.2222222222222222, \"#7201a8\"], [0.3333333333333333, \"#9c179e\"], [0.4444444444444444, \"#bd3786\"], [0.5555555555555556, \"#d8576b\"], [0.6666666666666666, \"#ed7953\"], [0.7777777777777778, \"#fb9f3a\"], [0.8888888888888888, \"#fdca26\"], [1.0, \"#f0f921\"]], \"type\": \"surface\"}], \"table\": [{\"cells\": {\"fill\": {\"color\": \"#EBF0F8\"}, \"line\": {\"color\": \"white\"}}, \"header\": {\"fill\": {\"color\": \"#C8D4E3\"}, \"line\": {\"color\": \"white\"}}, \"type\": \"table\"}]}, \"layout\": {\"annotationdefaults\": {\"arrowcolor\": \"#2a3f5f\", \"arrowhead\": 0, \"arrowwidth\": 1}, \"coloraxis\": {\"colorbar\": {\"outlinewidth\": 0, \"ticks\": \"\"}}, \"colorscale\": {\"diverging\": [[0, \"#8e0152\"], [0.1, \"#c51b7d\"], [0.2, \"#de77ae\"], [0.3, \"#f1b6da\"], [0.4, \"#fde0ef\"], [0.5, \"#f7f7f7\"], [0.6, \"#e6f5d0\"], [0.7, \"#b8e186\"], [0.8, \"#7fbc41\"], [0.9, \"#4d9221\"], [1, \"#276419\"]], \"sequential\": [[0.0, \"#0d0887\"], [0.1111111111111111, \"#46039f\"], [0.2222222222222222, \"#7201a8\"], [0.3333333333333333, \"#9c179e\"], [0.4444444444444444, \"#bd3786\"], [0.5555555555555556, \"#d8576b\"], [0.6666666666666666, \"#ed7953\"], [0.7777777777777778, \"#fb9f3a\"], [0.8888888888888888, \"#fdca26\"], [1.0, \"#f0f921\"]], \"sequentialminus\": [[0.0, \"#0d0887\"], [0.1111111111111111, \"#46039f\"], [0.2222222222222222, \"#7201a8\"], [0.3333333333333333, \"#9c179e\"], [0.4444444444444444, \"#bd3786\"], [0.5555555555555556, \"#d8576b\"], [0.6666666666666666, \"#ed7953\"], [0.7777777777777778, \"#fb9f3a\"], [0.8888888888888888, \"#fdca26\"], [1.0, \"#f0f921\"]]}, \"colorway\": [\"#636efa\", \"#EF553B\", \"#00cc96\", \"#ab63fa\", \"#FFA15A\", \"#19d3f3\", \"#FF6692\", \"#B6E880\", \"#FF97FF\", \"#FECB52\"], \"font\": {\"color\": \"#2a3f5f\"}, \"geo\": {\"bgcolor\": \"white\", \"lakecolor\": \"white\", \"landcolor\": \"#E5ECF6\", \"showlakes\": true, \"showland\": true, \"subunitcolor\": \"white\"}, \"hoverlabel\": {\"align\": \"left\"}, \"hovermode\": \"closest\", \"mapbox\": {\"style\": \"light\"}, \"paper_bgcolor\": \"white\", \"plot_bgcolor\": \"#E5ECF6\", \"polar\": {\"angularaxis\": {\"gridcolor\": \"white\", \"linecolor\": \"white\", \"ticks\": \"\"}, \"bgcolor\": \"#E5ECF6\", \"radialaxis\": {\"gridcolor\": \"white\", \"linecolor\": \"white\", \"ticks\": \"\"}}, \"scene\": {\"xaxis\": {\"backgroundcolor\": \"#E5ECF6\", \"gridcolor\": \"white\", \"gridwidth\": 2, \"linecolor\": \"white\", \"showbackground\": true, \"ticks\": \"\", \"zerolinecolor\": \"white\"}, \"yaxis\": {\"backgroundcolor\": \"#E5ECF6\", \"gridcolor\": \"white\", \"gridwidth\": 2, \"linecolor\": \"white\", \"showbackground\": true, \"ticks\": \"\", \"zerolinecolor\": \"white\"}, \"zaxis\": {\"backgroundcolor\": \"#E5ECF6\", \"gridcolor\": \"white\", \"gridwidth\": 2, \"linecolor\": \"white\", \"showbackground\": true, \"ticks\": \"\", \"zerolinecolor\": \"white\"}}, \"shapedefaults\": {\"line\": {\"color\": \"#2a3f5f\"}}, \"ternary\": {\"aaxis\": {\"gridcolor\": \"white\", \"linecolor\": \"white\", \"ticks\": \"\"}, \"baxis\": {\"gridcolor\": \"white\", \"linecolor\": \"white\", \"ticks\": \"\"}, \"bgcolor\": \"#E5ECF6\", \"caxis\": {\"gridcolor\": \"white\", \"linecolor\": \"white\", \"ticks\": \"\"}}, \"title\": {\"x\": 0.05}, \"xaxis\": {\"automargin\": true, \"gridcolor\": \"white\", \"linecolor\": \"white\", \"ticks\": \"\", \"title\": {\"standoff\": 15}, \"zerolinecolor\": \"white\", \"zerolinewidth\": 2}, \"yaxis\": {\"automargin\": true, \"gridcolor\": \"white\", \"linecolor\": \"white\", \"ticks\": \"\", \"title\": {\"standoff\": 15}, \"zerolinecolor\": \"white\", \"zerolinewidth\": 2}}}, \"xaxis\": {\"anchor\": \"y\", \"domain\": [0.0, 1.0], \"title\": {\"text\": \"x\"}}, \"yaxis\": {\"anchor\": \"x\", \"domain\": [0.0, 1.0], \"title\": {\"text\": \"y\"}}},                        {\"responsive\": true}                    ).then(function(){\n",
       "                            \n",
       "var gd = document.getElementById('813bd69e-93b7-4094-98ad-f2e54841c8f6');\n",
       "var x = new MutationObserver(function (mutations, observer) {{\n",
       "        var display = window.getComputedStyle(gd).display;\n",
       "        if (!display || display === 'none') {{\n",
       "            console.log([gd, 'removed!']);\n",
       "            Plotly.purge(gd);\n",
       "            observer.disconnect();\n",
       "        }}\n",
       "}});\n",
       "\n",
       "// Listen for the removal of the full notebook cells\n",
       "var notebookContainer = gd.closest('#notebook-container');\n",
       "if (notebookContainer) {{\n",
       "    x.observe(notebookContainer, {childList: true});\n",
       "}}\n",
       "\n",
       "// Listen for the clearing of the current output cell\n",
       "var outputEl = gd.closest('.output');\n",
       "if (outputEl) {{\n",
       "    x.observe(outputEl, {childList: true});\n",
       "}}\n",
       "\n",
       "                        })                };                });            </script>        </div>"
      ]
     },
     "metadata": {},
     "output_type": "display_data"
    }
   ],
   "source": [
    "fig = px.scatter(\n",
    "    songs_df.sort_values(\"artista\"),\n",
    "    x=\"x\", y=\"y\",\n",
    "    color=\"artista\",\n",
    "    hover_data=[\"musica\"],\n",
    "    opacity=0.7\n",
    ")\n",
    "fig.show()"
   ]
  }
 ],
 "metadata": {
  "kernelspec": {
   "display_name": "Python 3",
   "language": "python",
   "name": "python3"
  },
  "language_info": {
   "codemirror_mode": {
    "name": "ipython",
    "version": 3
   },
   "file_extension": ".py",
   "mimetype": "text/x-python",
   "name": "python",
   "nbconvert_exporter": "python",
   "pygments_lexer": "ipython3",
   "version": "3.8.5"
  }
 },
 "nbformat": 4,
 "nbformat_minor": 4
}
