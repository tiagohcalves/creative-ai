{
 "cells": [
  {
   "cell_type": "code",
   "execution_count": 1,
   "metadata": {},
   "outputs": [],
   "source": [
    "import pickle\n",
    "\n",
    "import numpy as np\n",
    "import pandas as pd\n",
    "from sklearn.manifold import TSNE\n",
    "from sklearn.neighbors import NearestNeighbors\n",
    "\n",
    "import plotly.express as px"
   ]
  },
  {
   "cell_type": "code",
   "execution_count": 2,
   "metadata": {},
   "outputs": [],
   "source": [
    "lyrics_df = pd.read_csv(\"../data/processed/lyrics.csv\", sep=\";\")"
   ]
  },
  {
   "cell_type": "code",
   "execution_count": 3,
   "metadata": {},
   "outputs": [],
   "source": [
    "with open(\"../data/processed/song_encodings.pkl\", \"rb\") as infile:\n",
    "    song_encodings_map = pickle.load(infile)"
   ]
  },
  {
   "cell_type": "code",
   "execution_count": 4,
   "metadata": {},
   "outputs": [],
   "source": [
    "with open(\"../data/processed/song_encodings_big.pkl\", \"rb\") as infile:\n",
    "    new_song_encodings = pickle.load(infile)"
   ]
  },
  {
   "cell_type": "code",
   "execution_count": 5,
   "metadata": {},
   "outputs": [],
   "source": [
    "with open(\"../data/processed/sentence_encodings.pkl\", \"rb\") as infile:\n",
    "    sentence_encodings = pickle.load(infile)"
   ]
  },
  {
   "cell_type": "code",
   "execution_count": 6,
   "metadata": {},
   "outputs": [],
   "source": [
    "song_idxs = lyrics_df.reset_index().groupby(\"song_idx\")[\"index\"].apply(list)"
   ]
  },
  {
   "cell_type": "code",
   "execution_count": 13,
   "metadata": {},
   "outputs": [],
   "source": [
    "# # save setences by song to improve performance\n",
    "# for i, sidx in song_idxs.iteritems():\n",
    "#     np.savez_compressed(\n",
    "#         f\"../data/processed/song_sentence_encodings/{i}\", \n",
    "#         sentence_encodings[sidx]\n",
    "#     )"
   ]
  },
  {
   "cell_type": "markdown",
   "metadata": {},
   "source": [
    "---"
   ]
  },
  {
   "cell_type": "markdown",
   "metadata": {},
   "source": [
    "Reduce and aggregate vectors"
   ]
  },
  {
   "cell_type": "code",
   "execution_count": 9,
   "metadata": {},
   "outputs": [],
   "source": [
    "new_song_encodings = []\n",
    "n_vectors = 10\n",
    "\n",
    "\n",
    "for _, sidx in song_idxs.iteritems():\n",
    "    new_encoding = []\n",
    "    n = sentence_encodings[sidx].shape[0]\n",
    "    \n",
    "    if n < n_vectors:\n",
    "        new_encoding = sentence_encodings[sidx].tolist()\n",
    "        for i in range(n, n_vectors):\n",
    "            new_encoding.append(sentence_encodings[sidx][-1])\n",
    "    else:\n",
    "        step = (n // n_vectors) + 1 if n%n_vectors != 0 else n/n_vectors\n",
    "\n",
    "        for i in range(n_vectors):\n",
    "            j = int(min(i+step, n))\n",
    "            new_encoding.append(sentence_encodings[sidx][i:j].mean(axis=0))\n",
    "\n",
    "    new_song_encodings.append(np.concatenate(new_encoding))\n",
    "    \n",
    "new_song_encodings = np.array(new_song_encodings)"
   ]
  },
  {
   "cell_type": "code",
   "execution_count": 10,
   "metadata": {},
   "outputs": [
    {
     "data": {
      "text/plain": [
       "(1556, 1280)"
      ]
     },
     "execution_count": 10,
     "metadata": {},
     "output_type": "execute_result"
    }
   ],
   "source": [
    "new_song_encodings.shape"
   ]
  },
  {
   "cell_type": "code",
   "execution_count": 11,
   "metadata": {},
   "outputs": [],
   "source": [
    "with open(\"../data/processed/song_encodings_big.pkl\", \"wb\") as outfile:\n",
    "    pickle.dump(new_song_encodings, outfile)"
   ]
  },
  {
   "cell_type": "markdown",
   "metadata": {},
   "source": [
    "---"
   ]
  },
  {
   "cell_type": "markdown",
   "metadata": {},
   "source": [
    "Nearest Neighbors"
   ]
  },
  {
   "cell_type": "code",
   "execution_count": 65,
   "metadata": {},
   "outputs": [],
   "source": [
    "nn = NearestNeighbors()"
   ]
  },
  {
   "cell_type": "code",
   "execution_count": 66,
   "metadata": {},
   "outputs": [],
   "source": [
    "nn.fit(list(song_encodings_map.values()))\n",
    "distances, indices = nn.kneighbors(list(song_encodings_map.values()))"
   ]
  },
  {
   "cell_type": "code",
   "execution_count": 68,
   "metadata": {},
   "outputs": [
    {
     "data": {
      "text/html": [
       "<div>\n",
       "<style scoped>\n",
       "    .dataframe tbody tr th:only-of-type {\n",
       "        vertical-align: middle;\n",
       "    }\n",
       "\n",
       "    .dataframe tbody tr th {\n",
       "        vertical-align: top;\n",
       "    }\n",
       "\n",
       "    .dataframe thead th {\n",
       "        text-align: right;\n",
       "    }\n",
       "</style>\n",
       "<table border=\"1\" class=\"dataframe\">\n",
       "  <thead>\n",
       "    <tr style=\"text-align: right;\">\n",
       "      <th></th>\n",
       "      <th>song_idx</th>\n",
       "      <th>sentence</th>\n",
       "      <th>artista</th>\n",
       "      <th>musica</th>\n",
       "      <th>letra</th>\n",
       "      <th>lang</th>\n",
       "    </tr>\n",
       "  </thead>\n",
       "  <tbody>\n",
       "    <tr>\n",
       "      <th>12035</th>\n",
       "      <td>262</td>\n",
       "      <td>I watched with glee</td>\n",
       "      <td>Guns N' Roses</td>\n",
       "      <td>Sympathy For The Devil</td>\n",
       "      <td>Please allow me to introduce myself\\nI'm a man...</td>\n",
       "      <td>2</td>\n",
       "    </tr>\n",
       "  </tbody>\n",
       "</table>\n",
       "</div>"
      ],
      "text/plain": [
       "       song_idx             sentence        artista                  musica  \\\n",
       "12035       262  I watched with glee  Guns N' Roses  Sympathy For The Devil   \n",
       "\n",
       "                                                   letra  lang  \n",
       "12035  Please allow me to introduce myself\\nI'm a man...     2  "
      ]
     },
     "execution_count": 68,
     "metadata": {},
     "output_type": "execute_result"
    }
   ],
   "source": [
    "lyrics_df.sample()"
   ]
  },
  {
   "cell_type": "code",
   "execution_count": 70,
   "metadata": {},
   "outputs": [
    {
     "data": {
      "text/plain": [
       "array([262,  82, 576, 284,  48])"
      ]
     },
     "execution_count": 70,
     "metadata": {},
     "output_type": "execute_result"
    }
   ],
   "source": [
    "indices[262]"
   ]
  },
  {
   "cell_type": "code",
   "execution_count": 71,
   "metadata": {},
   "outputs": [
    {
     "data": {
      "text/plain": [
       "array([0.        , 2.69580373, 2.77703246, 2.92027145, 3.0496992 ])"
      ]
     },
     "execution_count": 71,
     "metadata": {},
     "output_type": "execute_result"
    }
   ],
   "source": [
    "distances[262]"
   ]
  },
  {
   "cell_type": "code",
   "execution_count": 72,
   "metadata": {},
   "outputs": [
    {
     "data": {
      "text/plain": [
       "array(['Eraser', 'Love The Way You Lie (feat. Rihanna)',\n",
       "       'Sympathy For The Devil', 'And I Love Her'], dtype=object)"
      ]
     },
     "execution_count": 72,
     "metadata": {},
     "output_type": "execute_result"
    }
   ],
   "source": [
    "lyrics_df.query(\"song_idx in @indices[262]\")[\"musica\"].unique()"
   ]
  },
  {
   "cell_type": "markdown",
   "metadata": {},
   "source": [
    "---"
   ]
  },
  {
   "cell_type": "code",
   "execution_count": 73,
   "metadata": {},
   "outputs": [],
   "source": [
    "tsne = TSNE(perplexity=2)"
   ]
  },
  {
   "cell_type": "code",
   "execution_count": 74,
   "metadata": {},
   "outputs": [],
   "source": [
    "song_embeddings = tsne.fit_transform(list(song_encodings_map.values()))"
   ]
  },
  {
   "cell_type": "code",
   "execution_count": 75,
   "metadata": {},
   "outputs": [],
   "source": [
    "song_df = pd.DataFrame(\n",
    "    zip(list(lyrics_df[\"song_idx\"].unique()), song_embeddings[:,0], song_embeddings[:,1]),\n",
    "    columns=[\"song_idx\", \"x\", \"y\"]\n",
    ")"
   ]
  },
  {
   "cell_type": "code",
   "execution_count": 76,
   "metadata": {},
   "outputs": [
    {
     "data": {
      "text/html": [
       "<div>\n",
       "<style scoped>\n",
       "    .dataframe tbody tr th:only-of-type {\n",
       "        vertical-align: middle;\n",
       "    }\n",
       "\n",
       "    .dataframe tbody tr th {\n",
       "        vertical-align: top;\n",
       "    }\n",
       "\n",
       "    .dataframe thead th {\n",
       "        text-align: right;\n",
       "    }\n",
       "</style>\n",
       "<table border=\"1\" class=\"dataframe\">\n",
       "  <thead>\n",
       "    <tr style=\"text-align: right;\">\n",
       "      <th></th>\n",
       "      <th>song_idx</th>\n",
       "      <th>x</th>\n",
       "      <th>y</th>\n",
       "      <th>sentence</th>\n",
       "      <th>artista</th>\n",
       "      <th>musica</th>\n",
       "      <th>letra</th>\n",
       "      <th>lang</th>\n",
       "    </tr>\n",
       "  </thead>\n",
       "  <tbody>\n",
       "    <tr>\n",
       "      <th>0</th>\n",
       "      <td>0</td>\n",
       "      <td>-30.573359</td>\n",
       "      <td>44.256809</td>\n",
       "      <td>[DaBaby:]</td>\n",
       "      <td>Dua Lipa</td>\n",
       "      <td>Levitating (feat. DaBaby)</td>\n",
       "      <td>[DaBaby:]\\nBillboard Baby, Dua Lipa make 'em d...</td>\n",
       "      <td>2</td>\n",
       "    </tr>\n",
       "    <tr>\n",
       "      <th>1</th>\n",
       "      <td>0</td>\n",
       "      <td>-30.573359</td>\n",
       "      <td>44.256809</td>\n",
       "      <td>Billboard Baby, Dua Lipa make 'em dance when i...</td>\n",
       "      <td>Dua Lipa</td>\n",
       "      <td>Levitating (feat. DaBaby)</td>\n",
       "      <td>[DaBaby:]\\nBillboard Baby, Dua Lipa make 'em d...</td>\n",
       "      <td>2</td>\n",
       "    </tr>\n",
       "    <tr>\n",
       "      <th>2</th>\n",
       "      <td>0</td>\n",
       "      <td>-30.573359</td>\n",
       "      <td>44.256809</td>\n",
       "      <td>Everybody lookin' for a dance floor to run on</td>\n",
       "      <td>Dua Lipa</td>\n",
       "      <td>Levitating (feat. DaBaby)</td>\n",
       "      <td>[DaBaby:]\\nBillboard Baby, Dua Lipa make 'em d...</td>\n",
       "      <td>2</td>\n",
       "    </tr>\n",
       "    <tr>\n",
       "      <th>3</th>\n",
       "      <td>0</td>\n",
       "      <td>-30.573359</td>\n",
       "      <td>44.256809</td>\n",
       "      <td>[Dua Lipa:]</td>\n",
       "      <td>Dua Lipa</td>\n",
       "      <td>Levitating (feat. DaBaby)</td>\n",
       "      <td>[DaBaby:]\\nBillboard Baby, Dua Lipa make 'em d...</td>\n",
       "      <td>2</td>\n",
       "    </tr>\n",
       "    <tr>\n",
       "      <th>4</th>\n",
       "      <td>0</td>\n",
       "      <td>-30.573359</td>\n",
       "      <td>44.256809</td>\n",
       "      <td>If you wanna run away with me, I know a galaxy</td>\n",
       "      <td>Dua Lipa</td>\n",
       "      <td>Levitating (feat. DaBaby)</td>\n",
       "      <td>[DaBaby:]\\nBillboard Baby, Dua Lipa make 'em d...</td>\n",
       "      <td>2</td>\n",
       "    </tr>\n",
       "  </tbody>\n",
       "</table>\n",
       "</div>"
      ],
      "text/plain": [
       "   song_idx          x          y  \\\n",
       "0         0 -30.573359  44.256809   \n",
       "1         0 -30.573359  44.256809   \n",
       "2         0 -30.573359  44.256809   \n",
       "3         0 -30.573359  44.256809   \n",
       "4         0 -30.573359  44.256809   \n",
       "\n",
       "                                            sentence   artista  \\\n",
       "0                                          [DaBaby:]  Dua Lipa   \n",
       "1  Billboard Baby, Dua Lipa make 'em dance when i...  Dua Lipa   \n",
       "2      Everybody lookin' for a dance floor to run on  Dua Lipa   \n",
       "3                                        [Dua Lipa:]  Dua Lipa   \n",
       "4     If you wanna run away with me, I know a galaxy  Dua Lipa   \n",
       "\n",
       "                      musica  \\\n",
       "0  Levitating (feat. DaBaby)   \n",
       "1  Levitating (feat. DaBaby)   \n",
       "2  Levitating (feat. DaBaby)   \n",
       "3  Levitating (feat. DaBaby)   \n",
       "4  Levitating (feat. DaBaby)   \n",
       "\n",
       "                                               letra  lang  \n",
       "0  [DaBaby:]\\nBillboard Baby, Dua Lipa make 'em d...     2  \n",
       "1  [DaBaby:]\\nBillboard Baby, Dua Lipa make 'em d...     2  \n",
       "2  [DaBaby:]\\nBillboard Baby, Dua Lipa make 'em d...     2  \n",
       "3  [DaBaby:]\\nBillboard Baby, Dua Lipa make 'em d...     2  \n",
       "4  [DaBaby:]\\nBillboard Baby, Dua Lipa make 'em d...     2  "
      ]
     },
     "execution_count": 76,
     "metadata": {},
     "output_type": "execute_result"
    }
   ],
   "source": [
    "song_df = song_df.merge(lyrics_df, left_on=\"song_idx\", right_on=\"song_idx\")\n",
    "song_df.head()"
   ]
  },
  {
   "cell_type": "code",
   "execution_count": 57,
   "metadata": {},
   "outputs": [],
   "source": [
    "# song_df.to_csv(\"../data/processed/songs_with_coordinates.csv\", sep=\";\", index=False)"
   ]
  },
  {
   "cell_type": "markdown",
   "metadata": {},
   "source": [
    "---"
   ]
  },
  {
   "cell_type": "code",
   "execution_count": 77,
   "metadata": {},
   "outputs": [],
   "source": [
    "unique_df = song_df[[\"song_idx\", \"x\", \"y\", \"artista\", \"musica\", \"letra\"]].drop_duplicates()"
   ]
  },
  {
   "cell_type": "code",
   "execution_count": 78,
   "metadata": {},
   "outputs": [
    {
     "data": {
      "text/html": [
       "<div>\n",
       "<style scoped>\n",
       "    .dataframe tbody tr th:only-of-type {\n",
       "        vertical-align: middle;\n",
       "    }\n",
       "\n",
       "    .dataframe tbody tr th {\n",
       "        vertical-align: top;\n",
       "    }\n",
       "\n",
       "    .dataframe thead th {\n",
       "        text-align: right;\n",
       "    }\n",
       "</style>\n",
       "<table border=\"1\" class=\"dataframe\">\n",
       "  <thead>\n",
       "    <tr style=\"text-align: right;\">\n",
       "      <th></th>\n",
       "      <th>song_idx</th>\n",
       "      <th>x</th>\n",
       "      <th>y</th>\n",
       "      <th>artista</th>\n",
       "      <th>musica</th>\n",
       "      <th>letra</th>\n",
       "    </tr>\n",
       "  </thead>\n",
       "  <tbody>\n",
       "    <tr>\n",
       "      <th>0</th>\n",
       "      <td>0</td>\n",
       "      <td>-30.573359</td>\n",
       "      <td>44.256809</td>\n",
       "      <td>Dua Lipa</td>\n",
       "      <td>Levitating (feat. DaBaby)</td>\n",
       "      <td>[DaBaby:]\\nBillboard Baby, Dua Lipa make 'em d...</td>\n",
       "    </tr>\n",
       "    <tr>\n",
       "      <th>97</th>\n",
       "      <td>1</td>\n",
       "      <td>-45.428459</td>\n",
       "      <td>6.612777</td>\n",
       "      <td>Dua Lipa</td>\n",
       "      <td>Don't Start Now</td>\n",
       "      <td>If you don't wanna see me\\n\\nDid a full 180, c...</td>\n",
       "    </tr>\n",
       "    <tr>\n",
       "      <th>147</th>\n",
       "      <td>2</td>\n",
       "      <td>69.441444</td>\n",
       "      <td>-1.723847</td>\n",
       "      <td>Dua Lipa</td>\n",
       "      <td>Break My Heart</td>\n",
       "      <td>I've always been the one to say the first good...</td>\n",
       "    </tr>\n",
       "    <tr>\n",
       "      <th>214</th>\n",
       "      <td>3</td>\n",
       "      <td>-30.329786</td>\n",
       "      <td>44.456078</td>\n",
       "      <td>Dua Lipa</td>\n",
       "      <td>Levitating</td>\n",
       "      <td>If you wanna run away with me\\nI know a galaxy...</td>\n",
       "    </tr>\n",
       "    <tr>\n",
       "      <th>297</th>\n",
       "      <td>4</td>\n",
       "      <td>-53.102619</td>\n",
       "      <td>2.336930</td>\n",
       "      <td>Dua Lipa</td>\n",
       "      <td>New Rules</td>\n",
       "      <td>Talkin' in my sleep at night\\nMakin' myself cr...</td>\n",
       "    </tr>\n",
       "  </tbody>\n",
       "</table>\n",
       "</div>"
      ],
      "text/plain": [
       "     song_idx          x          y   artista                     musica  \\\n",
       "0           0 -30.573359  44.256809  Dua Lipa  Levitating (feat. DaBaby)   \n",
       "97          1 -45.428459   6.612777  Dua Lipa            Don't Start Now   \n",
       "147         2  69.441444  -1.723847  Dua Lipa             Break My Heart   \n",
       "214         3 -30.329786  44.456078  Dua Lipa                 Levitating   \n",
       "297         4 -53.102619   2.336930  Dua Lipa                  New Rules   \n",
       "\n",
       "                                                 letra  \n",
       "0    [DaBaby:]\\nBillboard Baby, Dua Lipa make 'em d...  \n",
       "97   If you don't wanna see me\\n\\nDid a full 180, c...  \n",
       "147  I've always been the one to say the first good...  \n",
       "214  If you wanna run away with me\\nI know a galaxy...  \n",
       "297  Talkin' in my sleep at night\\nMakin' myself cr...  "
      ]
     },
     "execution_count": 78,
     "metadata": {},
     "output_type": "execute_result"
    }
   ],
   "source": [
    "unique_df.head()"
   ]
  },
  {
   "cell_type": "code",
   "execution_count": 79,
   "metadata": {},
   "outputs": [
    {
     "data": {
      "application/vnd.plotly.v1+json": {
       "config": {
        "plotlyServerURL": "https://plot.ly"
       },
       "data": [
        {
         "customdata": [
          [
           "Let Go"
          ]
         ],
         "hovertemplate": "artista=-M- (Mathieu Chedid)<br>x=%{x}<br>y=%{y}<br>musica=%{customdata[0]}<extra></extra>",
         "legendgroup": "-M- (Mathieu Chedid)",
         "marker": {
          "color": "#636efa",
          "opacity": 0.5,
          "symbol": "circle"
         },
         "mode": "markers",
         "name": "-M- (Mathieu Chedid)",
         "showlegend": true,
         "type": "scattergl",
         "x": [
          7.049417972564697
         ],
         "xaxis": "x",
         "y": [
          68.0671157836914
         ],
         "yaxis": "y"
        },
        {
         "customdata": [
          [
           "Someone Like You"
          ],
          [
           "Hello"
          ],
          [
           "River Lea"
          ],
          [
           "If It Hadn't Been For Love"
          ],
          [
           "Sweetest Devotion"
          ],
          [
           "Chasing Pavements"
          ],
          [
           "Lay Me Down"
          ],
          [
           "Lovesong"
          ],
          [
           "Love In The Dark"
          ],
          [
           "Hometown Glory"
          ],
          [
           "Remedy"
          ],
          [
           "Million Years Ago"
          ],
          [
           "Crazy For You"
          ],
          [
           "Turning Tables"
          ],
          [
           "Water Under The Bridge"
          ],
          [
           "Set Fire To The Rain"
          ],
          [
           "Send My Love (To Your New Lover)"
          ],
          [
           "When We Were Young"
          ],
          [
           "One and Only"
          ],
          [
           "Rolling In The Deep"
          ],
          [
           "Make You Feel My Love"
          ],
          [
           "All I Ask"
          ],
          [
           "Don't You Remember"
          ],
          [
           "I Miss You"
          ],
          [
           "Skyfall"
          ]
         ],
         "hovertemplate": "artista=Adele<br>x=%{x}<br>y=%{y}<br>musica=%{customdata[0]}<extra></extra>",
         "legendgroup": "Adele",
         "marker": {
          "color": "#EF553B",
          "opacity": 0.5,
          "symbol": "circle"
         },
         "mode": "markers",
         "name": "Adele",
         "showlegend": true,
         "type": "scattergl",
         "x": [
          19.971418380737305,
          -10.334477424621582,
          71.96453094482422,
          -59.578895568847656,
          15.931843757629395,
          8.382646560668945,
          -6.475523471832275,
          -61.03365707397461,
          -6.036178112030029,
          64.34142303466797,
          6.2968878746032715,
          20.199520111083984,
          38.13698959350586,
          19.239337921142578,
          -49.127647399902344,
          19.837202072143555,
          23.604772567749023,
          5.02187967300415,
          20.99776268005371,
          -30.69379425048828,
          39.942928314208984,
          13.581894874572754,
          8.798563957214355,
          -35.85464859008789,
          -14.601673126220703
         ],
         "xaxis": "x",
         "y": [
          -25.961978912353516,
          -40.5193977355957,
          11.055900573730469,
          -126.31072235107422,
          -9.269474029541016,
          53.18824768066406,
          31.344192504882812,
          32.76377868652344,
          2.583313226699829,
          -29.228059768676758,
          -2.324021577835083,
          -10.176396369934082,
          -50.208438873291016,
          71.25086975097656,
          -0.7736465334892273,
          71.36441802978516,
          -34.492122650146484,
          -54.46531295776367,
          72.0783920288086,
          -20.413848876953125,
          -54.204833984375,
          -30.04788589477539,
          34.27810287475586,
          16.918994903564453,
          -40.61286544799805
         ],
         "yaxis": "y"
        },
        {
         "customdata": [
          [
           "Falling In Love (Is Hard On The Knees)"
          ],
          [
           "Dude (Looks Like A Lady)"
          ],
          [
           "Girls Of Summer"
          ],
          [
           "The Other Side"
          ],
          [
           "Full Circle"
          ],
          [
           "Janie's Got a Gun"
          ],
          [
           "Love In An Elevator"
          ],
          [
           "Livin' On The Edge"
          ],
          [
           "All Your Love"
          ],
          [
           "What Could Have Been Love"
          ],
          [
           "Sweet Emotion"
          ],
          [
           "Sing For The Moment"
          ],
          [
           "Pink"
          ],
          [
           "Walk This Way"
          ],
          [
           "Jaded"
          ],
          [
           "Fly Away From Here"
          ],
          [
           "Hole In My Soul"
          ],
          [
           "Angel"
          ],
          [
           "Amazing"
          ],
          [
           "Crazy"
          ],
          [
           "Dream On"
          ],
          [
           "Cryin'"
          ],
          [
           "I Don't Want To Miss A Thing"
          ],
          [
           "What It Takes"
          ]
         ],
         "hovertemplate": "artista=Aerosmith<br>x=%{x}<br>y=%{y}<br>musica=%{customdata[0]}<extra></extra>",
         "legendgroup": "Aerosmith",
         "marker": {
          "color": "#00cc96",
          "opacity": 0.5,
          "symbol": "circle"
         },
         "mode": "markers",
         "name": "Aerosmith",
         "showlegend": true,
         "type": "scattergl",
         "x": [
          -25.859708786010742,
          19.525835037231445,
          -2.2673184871673584,
          26.247928619384766,
          -9.522506713867188,
          18.986120223999023,
          -15.998859405517578,
          -58.42890548706055,
          60.84415817260742,
          12.476850509643555,
          24.44163703918457,
          32.871768951416016,
          65.92118072509766,
          57.607215881347656,
          8.49351978302002,
          -8.917930603027344,
          57.25550842285156,
          -81.4298324584961,
          -11.00654125213623,
          -44.1156120300293,
          -27.254783630371094,
          -20.622079849243164,
          -82.10211181640625,
          -14.486302375793457
         ],
         "xaxis": "x",
         "y": [
          -54.14103317260742,
          -69.05408477783203,
          -21.816253662109375,
          21.75788116455078,
          -37.510955810546875,
          -68.92703247070312,
          63.45463180541992,
          -34.27300262451172,
          -18.39548110961914,
          -29.329814910888672,
          12.203147888183594,
          60.41976547241211,
          -16.907588958740234,
          -0.025359833613038063,
          -38.309043884277344,
          -48.06559371948242,
          30.439220428466797,
          -8.573380470275879,
          -40.837947845458984,
          -15.86958122253418,
          -17.61018180847168,
          10.711128234863281,
          -33.4996452331543,
          -17.16485595703125
         ],
         "yaxis": "y"
        },
        {
         "customdata": [
          [
           "A Woman's Worth"
          ],
          [
           "Authors Of Forever"
          ],
          [
           "Girl On Fire (Inferno Version) (feat. Nicki Minaj)"
          ],
          [
           "Gramercy Park"
          ],
          [
           "Show Me Love (feat. Miguel)"
          ],
          [
           "Me x 7 (feat. Tierra Whack)"
          ],
          [
           "Time Machine"
          ],
          [
           "Superwoman"
          ],
          [
           "Brand New Me"
          ],
          [
           "Wasted Energy"
          ],
          [
           "You Don't Know My Name"
          ],
          [
           "So Done (feat. Khalid)"
          ],
          [
           "Underdog"
          ],
          [
           "Love Looks Better"
          ],
          [
           "Fallin'"
          ],
          [
           "Girl On Fire"
          ],
          [
           "No One"
          ],
          [
           "You Save Me (feat. Snoh Aalegra)"
          ],
          [
           "Empire State Of Mind (part. Ii)"
          ],
          [
           "3 Hour Drive (feat. Sampha)"
          ],
          [
           "If I Ain't Got You"
          ],
          [
           "Empire State Of Mind"
          ],
          [
           "Truth Without Love"
          ],
          [
           "Karma"
          ],
          [
           "Show Me Love (Ft. Miguel, 21 Savage) (Remix)"
          ]
         ],
         "hovertemplate": "artista=Alicia Keys<br>x=%{x}<br>y=%{y}<br>musica=%{customdata[0]}<extra></extra>",
         "legendgroup": "Alicia Keys",
         "marker": {
          "color": "#ab63fa",
          "opacity": 0.5,
          "symbol": "circle"
         },
         "mode": "markers",
         "name": "Alicia Keys",
         "showlegend": true,
         "type": "scattergl",
         "x": [
          10.134183883666992,
          59.21846008300781,
          26.424327850341797,
          -34.320098876953125,
          23.017610549926758,
          -25.276657104492188,
          -17.15475082397461,
          0.789389967918396,
          -43.20888137817383,
          -3.1624975204467773,
          -59.86240005493164,
          44.07405471801758,
          50.820648193359375,
          19.547260284423828,
          36.74903869628906,
          26.52715301513672,
          19.419050216674805,
          -20.794458389282227,
          57.95673370361328,
          -12.551466941833496,
          -5.576523303985596,
          22.553665161132812,
          -49.19511795043945,
          -20.784893035888672,
          23.072925567626953
         ],
         "xaxis": "x",
         "y": [
          -40.52595138549805,
          -52.2618522644043,
          0.2877422869205475,
          54.7614631652832,
          -35.6057014465332,
          37.50757598876953,
          -25.84260368347168,
          -51.9686164855957,
          37.617340087890625,
          56.778099060058594,
          -44.72358703613281,
          21.43145179748535,
          -23.889747619628906,
          -17.270694732666016,
          -53.70664978027344,
          0.291618287563324,
          -47.83769989013672,
          -23.309457778930664,
          -32.90822219848633,
          26.422895431518555,
          -55.74431610107422,
          72.07813262939453,
          23.620073318481445,
          34.101436614990234,
          -35.36948013305664
         ],
         "yaxis": "y"
        },
        {
         "customdata": [
          [
           "Beauty and The Beast (Feat. John Legend)"
          ],
          [
           "fake smile"
          ],
          [
           "make up"
          ],
          [
           "Love Me Harder (Feat. The Weeknd)"
          ],
          [
           "in my head"
          ],
          [
           "Don't Call Me Angel (With Miley Cyrus, Lana Del Rey)"
          ],
          [
           "Break Free (Feat. Zedd)"
          ],
          [
           "imagine"
          ],
          [
           "(You Make Me Feel Like) a Natural Woman (Aretha Franklin tribute)"
          ],
          [
           "bloodline"
          ],
          [
           "breathin"
          ],
          [
           "needy"
          ],
          [
           "break up with your girlfriend, i'm bored"
          ],
          [
           "Into You"
          ],
          [
           "Side to Side (Feat. Nicki Minaj)"
          ],
          [
           "no tears left to cry"
          ],
          [
           "One Last Time"
          ],
          [
           "God is a woman"
          ],
          [
           "thank u, next"
          ],
          [
           "7 rings"
          ],
          [
           "Stuck With U (with Justin Bieber)"
          ],
          [
           "Dangerous Woman"
          ],
          [
           "How I Look On You"
          ],
          [
           "Problem (feat. Iggy Azalea)"
          ],
          [
           "I Have Nothing"
          ]
         ],
         "hovertemplate": "artista=Ariana Grande<br>x=%{x}<br>y=%{y}<br>musica=%{customdata[0]}<extra></extra>",
         "legendgroup": "Ariana Grande",
         "marker": {
          "color": "#FFA15A",
          "opacity": 0.5,
          "symbol": "circle"
         },
         "mode": "markers",
         "name": "Ariana Grande",
         "showlegend": true,
         "type": "scattergl",
         "x": [
          31.19566535949707,
          -37.01664352416992,
          31.50676918029785,
          25.664276123046875,
          32.3021354675293,
          -54.40797424316406,
          13.842455863952637,
          36.9027214050293,
          -9.678058624267578,
          -25.740951538085938,
          -27.61152458190918,
          -23.82135581970215,
          -31.358728408813477,
          16.246868133544922,
          -61.09838104248047,
          -6.934144020080566,
          -24.900239944458008,
          28.524078369140625,
          -39.42029571533203,
          -0.9478724002838135,
          -6.397793769836426,
          -27.886701583862305,
          14.540152549743652,
          -26.49993324279785,
          -82.15731811523438
         ],
         "xaxis": "x",
         "y": [
          -73.84178161621094,
          43.392459869384766,
          13.934443473815918,
          51.46178436279297,
          23.098825454711914,
          6.982125759124756,
          -20.360973358154297,
          7.160458087921143,
          -5.846580982208252,
          27.226415634155273,
          -70.96238708496094,
          0.405626118183136,
          43.01312255859375,
          5.307281970977783,
          14.544325828552246,
          47.92210006713867,
          25.353801727294922,
          43.875328063964844,
          25.648643493652344,
          24.16078758239746,
          47.36626052856445,
          -16.32794761657715,
          33.6750602722168,
          -1.500705599784851,
          3.4593636989593506
         ],
         "yaxis": "y"
        },
        {
         "customdata": [
          [
           "We Are Warriors"
          ],
          [
           "Girlfriend"
          ],
          [
           "Complicated"
          ],
          [
           "I'm With You"
          ],
          [
           "When You're Gone"
          ],
          [
           "Wish You Were Here"
          ],
          [
           "Sk8er Boi"
          ],
          [
           "Rock N Roll"
          ],
          [
           "My Happy Ending"
          ],
          [
           "Smile"
          ],
          [
           "Nobody's Home"
          ],
          [
           "Head Above Water"
          ],
          [
           "What The Hell"
          ],
          [
           "Don't Tell Me"
          ],
          [
           "Let Me Go (Feat. Chad Kroeger)"
          ],
          [
           "The Best Damn Thing"
          ],
          [
           "Innocence"
          ],
          [
           "Hot"
          ],
          [
           "Tomorrow"
          ],
          [
           "Keep Holding On"
          ],
          [
           "Losing Grip"
          ],
          [
           "I Fell In Love With The Devil"
          ],
          [
           "Goodbye"
          ],
          [
           "Things I'll Never Say"
          ],
          [
           "Nobody's Fool"
          ]
         ],
         "hovertemplate": "artista=Avril Lavigne<br>x=%{x}<br>y=%{y}<br>musica=%{customdata[0]}<extra></extra>",
         "legendgroup": "Avril Lavigne",
         "marker": {
          "color": "#19d3f3",
          "opacity": 0.5,
          "symbol": "circle"
         },
         "mode": "markers",
         "name": "Avril Lavigne",
         "showlegend": true,
         "type": "scattergl",
         "x": [
          40.61204528808594,
          -47.32461929321289,
          29.20707893371582,
          -59.53084182739258,
          -20.682939529418945,
          -15.480494499206543,
          -22.269495010375977,
          54.787803649902344,
          28.34111976623535,
          1.1777305603027344,
          23.365013122558594,
          -44.634464263916016,
          -24.59150505065918,
          5.739112377166748,
          -30.348291397094727,
          -78.6502914428711,
          6.89601993560791,
          -43.402488708496094,
          -33.506221771240234,
          -32.381858825683594,
          -66.1856460571289,
          34.71520233154297,
          -3.2982733249664307,
          -49.49638366699219,
          -37.341243743896484
         ],
         "xaxis": "x",
         "y": [
          -81.31124877929688,
          -13.237421035766602,
          -35.83938980102539,
          -33.2582893371582,
          12.13310432434082,
          -2.8998398780822754,
          -15.231932640075684,
          4.172546863555908,
          -43.46915054321289,
          -50.14436721801758,
          24.97953224182129,
          -37.198062896728516,
          26.69413185119629,
          57.110050201416016,
          -42.9463996887207,
          27.114519119262695,
          -51.984161376953125,
          -8.418221473693848,
          -5.752254009246826,
          -6.0437798500061035,
          -3.1028008460998535,
          -15.981510162353516,
          32.62549591064453,
          19.715442657470703,
          14.522570610046387
         ],
         "yaxis": "y"
        },
        {
         "customdata": [
          [
           "Savage Love (Laxed - Siren Beat) [BTS Remix]"
          ],
          [
           "Dynamite"
          ]
         ],
         "hovertemplate": "artista=BTS<br>x=%{x}<br>y=%{y}<br>musica=%{customdata[0]}<extra></extra>",
         "legendgroup": "BTS",
         "marker": {
          "color": "#FF6692",
          "opacity": 0.5,
          "symbol": "circle"
         },
         "mode": "markers",
         "name": "BTS",
         "showlegend": true,
         "type": "scattergl",
         "x": [
          -57.53976058959961,
          48.860443115234375
         ],
         "xaxis": "x",
         "y": [
          32.408145904541016,
          11.537379264831543
         ],
         "yaxis": "y"
        },
        {
         "customdata": [
          [
           "Quit Playing Games (With My Heart)"
          ],
          [
           "As Long As You Love Me"
          ],
          [
           "Everybody (Backstreet's Back)"
          ],
          [
           "Incomplete"
          ],
          [
           "All I Have To Give"
          ],
          [
           "Drowning"
          ],
          [
           "Don't Go Breaking My Heart"
          ],
          [
           "Show Me The Meaning Of Being Lonely"
          ],
          [
           "No Place"
          ],
          [
           "I Still..."
          ],
          [
           "Chateau"
          ],
          [
           "Nobody Else"
          ],
          [
           "We've Got It Goin' On"
          ],
          [
           "New Love"
          ],
          [
           "The One"
          ],
          [
           "Helpless When She Smiles"
          ],
          [
           "I'll Never Break Your Heart"
          ],
          [
           "Breathe (2019)"
          ],
          [
           "Larger Than Life"
          ],
          [
           "The Call"
          ],
          [
           "Don't Wanna Lose You Now"
          ],
          [
           "Chances"
          ],
          [
           "I Want It That Way"
          ],
          [
           "Shape Of My Heart"
          ],
          [
           "Inconsolable"
          ]
         ],
         "hovertemplate": "artista=Backstreet Boys<br>x=%{x}<br>y=%{y}<br>musica=%{customdata[0]}<extra></extra>",
         "legendgroup": "Backstreet Boys",
         "marker": {
          "color": "#B6E880",
          "opacity": 0.5,
          "symbol": "circle"
         },
         "mode": "markers",
         "name": "Backstreet Boys",
         "showlegend": true,
         "type": "scattergl",
         "x": [
          32.037906646728516,
          0.32838934659957886,
          -37.39275360107422,
          7.969679832458496,
          -22.928367614746094,
          -60.67645263671875,
          18.26011848449707,
          9.561579704284668,
          55.93230056762695,
          -69.46089172363281,
          67.95237731933594,
          16.228017807006836,
          -33.638248443603516,
          -33.2337646484375,
          23.833364486694336,
          10.242273330688477,
          -19.10819435119629,
          6.283172607421875,
          -2.534050703048706,
          3.2015740871429443,
          -64.73047637939453,
          60.72388458251953,
          0.4939069151878357,
          -27.97467613220215,
          -62.697628021240234
         ],
         "xaxis": "x",
         "y": [
          14.299247741699219,
          -41.24534606933594,
          11.611611366271973,
          -61.67127990722656,
          35.46361541748047,
          -39.19609832763672,
          2.735438585281372,
          11.665422439575195,
          31.442087173461914,
          -0.001953953644260764,
          -2.4022395610809326,
          34.37007522583008,
          -17.61763572692871,
          52.74217987060547,
          -51.960365295410156,
          -43.626930236816406,
          23.288047790527344,
          -43.01384735107422,
          -21.781585693359375,
          59.29738998413086,
          -1.0708976984024048,
          -1.733363151550293,
          66.98410034179688,
          -69.11106872558594,
          -0.47899219393730164
         ],
         "yaxis": "y"
        },
        {
         "customdata": [
          [
           "Rocket"
          ],
          [
           "Halo"
          ],
          [
           "Irreplaceable"
          ],
          [
           "If I Were A Boy"
          ],
          [
           "Pretty Hurts"
          ],
          [
           "Listen"
          ],
          [
           "Brown Skin Girl (With Saint Jhn and Wizkid feat. Blue Ivy Carter)"
          ],
          [
           "Crazy In Love (feat. Jay Z)"
          ],
          [
           "***Flawless (Feat. Chimamanda Ngozi Adichie)"
          ],
          [
           "Formation"
          ],
          [
           "Freedom (Feat. Kendrick Lamar)"
          ],
          [
           "Me, Myself And I"
          ],
          [
           "Love On Top"
          ],
          [
           "Diva"
          ],
          [
           "Already (with Shatta Wale and Major Lazer)"
          ],
          [
           "My Power (With Tierra Whack, Moonchild Sanelly, Nija)"
          ],
          [
           "***Flawless (Feat. Nicki Minaj)"
          ],
          [
           "Hold Up"
          ],
          [
           "Ego"
          ],
          [
           "Black Parade"
          ],
          [
           "Sorry"
          ],
          [
           "I Was Here"
          ],
          [
           "Single Ladies (Put A Ring On It)"
          ],
          [
           "Hello"
          ],
          [
           "Spirit"
          ]
         ],
         "hovertemplate": "artista=Beyoncé<br>x=%{x}<br>y=%{y}<br>musica=%{customdata[0]}<extra></extra>",
         "legendgroup": "Beyoncé",
         "marker": {
          "color": "#FF97FF",
          "opacity": 0.5,
          "symbol": "circle"
         },
         "mode": "markers",
         "name": "Beyoncé",
         "showlegend": true,
         "type": "scattergl",
         "x": [
          1.6123805046081543,
          -0.36506953835487366,
          -30.043729782104492,
          -66.79419708251953,
          38.062381744384766,
          -66.63217163085938,
          33.05418395996094,
          -25.231962203979492,
          42.020721435546875,
          -0.9452998042106628,
          -33.9971923828125,
          -28.895048141479492,
          59.900856018066406,
          8.460528373718262,
          41.09430694580078,
          -25.797714233398438,
          41.30944061279297,
          -14.998839378356934,
          -42.5354118347168,
          -26.984493255615234,
          -52.72414016723633,
          13.645060539245605,
          -45.896568298339844,
          -39.41166687011719,
          59.223976135253906
         ],
         "xaxis": "x",
         "y": [
          -10.170910835266113,
          -10.389059066772461,
          5.3155198097229,
          -12.670943260192871,
          -6.681202411651611,
          15.896465301513672,
          23.403152465820312,
          61.115440368652344,
          18.35346031188965,
          24.161563873291016,
          -60.097408294677734,
          -8.128840446472168,
          49.2908821105957,
          67.19950866699219,
          12.320100784301758,
          67.17011260986328,
          18.124217987060547,
          17.68531608581543,
          37.66220474243164,
          66.91385650634766,
          0.7816334366798401,
          -41.905757904052734,
          -46.30635070800781,
          25.616588592529297,
          28.50765609741211
         ],
         "yaxis": "y"
        },
        {
         "customdata": [
          [
           "No Time To Die"
          ],
          [
           "​when the party's over"
          ],
          [
           "I Love You"
          ],
          [
           "Lovely (with Khalid)"
          ],
          [
           "Everything I Wanted"
          ],
          [
           "Ocean Eyes"
          ],
          [
           "my future"
          ],
          [
           "All The Good Girls Go To Hell"
          ],
          [
           "Idontwannabeyouanymore"
          ],
          [
           "My Strange Addiction"
          ],
          [
           "Ilomilo"
          ],
          [
           "Xanny"
          ],
          [
           "Bad Guy"
          ]
         ],
         "hovertemplate": "artista=Billie Eilish<br>x=%{x}<br>y=%{y}<br>musica=%{customdata[0]}<extra></extra>",
         "legendgroup": "Billie Eilish",
         "marker": {
          "color": "#FECB52",
          "opacity": 0.5,
          "symbol": "circle"
         },
         "mode": "markers",
         "name": "Billie Eilish",
         "showlegend": true,
         "type": "scattergl",
         "x": [
          -60.00668716430664,
          -34.28683853149414,
          -18.982194900512695,
          6.290883541107178,
          -65.64649200439453,
          32.77802276611328,
          -55.65266036987305,
          55.05754470825195,
          -18.81325912475586,
          30.422353744506836,
          -11.293388366699219,
          -43.80665969848633,
          -18.556123733520508
         ],
         "xaxis": "x",
         "y": [
          15.239127159118652,
          -16.21681022644043,
          -1.6320741176605225,
          19.39565086364746,
          -2.066798686981201,
          -18.755552291870117,
          10.186078071594238,
          0.8361670970916748,
          -51.18669509887695,
          -4.754370212554932,
          7.11099910736084,
          3.3146026134490967,
          -49.95951843261719
         ],
         "yaxis": "y"
        },
        {
         "customdata": [
          [
           "Missing You"
          ],
          [
           "Big Love"
          ],
          [
           "Just Can't Get Enough"
          ],
          [
           "Don't Phunk With My Heart"
          ],
          [
           "Girl Like Me (With Shakira)"
          ],
          [
           "Feel The Beat (With Maluma)"
          ],
          [
           "Let's Get It Started"
          ],
          [
           "eXplosion (With Anitta)"
          ],
          [
           "I Gotta Feeling"
          ],
          [
           "Where Is The Love?"
          ],
          [
           "RITMO (Bad Boys For Life) (With J Balvin)"
          ],
          [
           "MAMACITA (With Ozuna & J. Rey Soul)"
          ],
          [
           "Vida Loca (With Nicky Jam and Tyga)"
          ],
          [
           "ACTION"
          ],
          [
           "Don't Lie"
          ],
          [
           "Pump It"
          ],
          [
           "Mas Que Nada"
          ],
          [
           "Boom Boom Pow"
          ],
          [
           "Meet Me Halfway"
          ],
          [
           "Shut Up"
          ],
          [
           "The Time (Dirty Bit)"
          ],
          [
           "On My Own"
          ],
          [
           "My Humps"
          ]
         ],
         "hovertemplate": "artista=Black Eyed Peas<br>x=%{x}<br>y=%{y}<br>musica=%{customdata[0]}<extra></extra>",
         "legendgroup": "Black Eyed Peas",
         "marker": {
          "color": "#636efa",
          "opacity": 0.5,
          "symbol": "circle"
         },
         "mode": "markers",
         "name": "Black Eyed Peas",
         "showlegend": true,
         "type": "scattergl",
         "x": [
          -58.79640579223633,
          49.97372055053711,
          -48.29700469970703,
          -25.580419540405273,
          17.916213989257812,
          5.381411075592041,
          14.088152885437012,
          17.951772689819336,
          -17.548587799072266,
          45.38743209838867,
          -28.395248413085938,
          18.171253204345703,
          -26.968767166137695,
          -25.732450485229492,
          22.14422607421875,
          -25.001615524291992,
          38.5433349609375,
          35.71796417236328,
          2.473479986190796,
          -18.119050979614258,
          44.99162292480469,
          63.0684814453125,
          -3.393648624420166
         ],
         "xaxis": "x",
         "y": [
          32.482852935791016,
          47.308753967285156,
          -11.580970764160156,
          26.51677703857422,
          51.631553649902344,
          -12.109684944152832,
          80.86092376708984,
          30.377601623535156,
          -1.2563221454620361,
          49.3725700378418,
          66.39195251464844,
          51.50631332397461,
          66.22997283935547,
          63.35742950439453,
          42.074581146240234,
          63.89873123168945,
          -33.60731506347656,
          9.64111042022705,
          40.11150360107422,
          -25.852787017822266,
          20.602495193481445,
          -21.583364486694336,
          75.79002380371094
         ],
         "yaxis": "y"
        },
        {
         "customdata": [
          [
           "Buffalo Soldier"
          ],
          [
           "Exodus"
          ],
          [
           "I Shot The Sheriff"
          ],
          [
           "Soul Rebel"
          ],
          [
           "Kaya"
          ],
          [
           "Get Up Stand Up"
          ],
          [
           "Coming In From The Cold"
          ],
          [
           "Lively Up Yourself"
          ],
          [
           "Slave Driver"
          ],
          [
           "Iron Lion Zion"
          ],
          [
           "Turn Your Lights Down Low"
          ],
          [
           "Stir It Up"
          ],
          [
           "Concrete Jungle"
          ],
          [
           "Satisfy My Soul"
          ],
          [
           "Three Little Birds"
          ],
          [
           "Is This Love?"
          ],
          [
           "Redemption Song"
          ],
          [
           "No Woman No Cry"
          ],
          [
           "One Love / People Get Ready"
          ],
          [
           "Jammin'"
          ],
          [
           "Natural Mystic"
          ],
          [
           "Waiting In Vain"
          ],
          [
           "Sun Is Shining"
          ],
          [
           "Could You Be Loved"
          ],
          [
           "Positive Vibration"
          ]
         ],
         "hovertemplate": "artista=Bob Marley<br>x=%{x}<br>y=%{y}<br>musica=%{customdata[0]}<extra></extra>",
         "legendgroup": "Bob Marley",
         "marker": {
          "color": "#EF553B",
          "opacity": 0.5,
          "symbol": "circle"
         },
         "mode": "markers",
         "name": "Bob Marley",
         "showlegend": true,
         "type": "scattergl",
         "x": [
          65.14429473876953,
          -24.019744873046875,
          46.66156005859375,
          2.906623601913452,
          5.857079029083252,
          6.691967487335205,
          40.09748840332031,
          7.727318286895752,
          55.844337463378906,
          52.691551208496094,
          -4.555381774902344,
          -1.539000153541565,
          5.485531330108643,
          8.309897422790527,
          22.4101505279541,
          7.441550254821777,
          75.14604949951172,
          40.6461181640625,
          6.787506103515625,
          -2.5866611003875732,
          3.704639434814453,
          -54.449710845947266,
          -5.14296293258667,
          60.37645721435547,
          14.503291130065918
         ],
         "xaxis": "x",
         "y": [
          5.8038249015808105,
          63.408485412597656,
          37.84978103637695,
          86.84793090820312,
          17.910375595092773,
          83.10089874267578,
          -4.295994758605957,
          27.054359436035156,
          -20.436935424804688,
          11.217556953430176,
          75.34591674804688,
          51.159690856933594,
          46.044063568115234,
          27.18287467956543,
          74.1469497680664,
          36.80018997192383,
          32.48238754272461,
          8.47174072265625,
          78.14002227783203,
          75.41753387451172,
          -69.04081726074219,
          -34.701904296875,
          75.10926818847656,
          30.69830894470215,
          30.21198272705078
         ],
         "yaxis": "y"
        },
        {
         "customdata": [
          [
           "Story Of Love"
          ],
          [
           "Livin' On A Prayer"
          ],
          [
           "Beautiful Drug"
          ],
          [
           "Blood In The Water"
          ],
          [
           "Bed Of Roses"
          ],
          [
           "I'll Be There For You"
          ],
          [
           "Misunderstood"
          ],
          [
           "Do What You Can"
          ],
          [
           "Let It Rain"
          ],
          [
           "You Give Love A Bad Name"
          ],
          [
           "Limitless"
          ],
          [
           "Lower The Flag"
          ],
          [
           "Always"
          ],
          [
           "Brothers In Arms"
          ],
          [
           "Thank You For Loving Me"
          ],
          [
           "American Reckoning"
          ],
          [
           "These Days"
          ],
          [
           "Have a Nice Day"
          ],
          [
           "Wanted Dead Or Alive"
          ],
          [
           "This Ain't A Love Song"
          ],
          [
           "Never Say Goodbye"
          ],
          [
           "Miracle"
          ],
          [
           "Do What You Can (With Jennifer Nettles)"
          ],
          [
           "Blaze Of Glory"
          ],
          [
           "It's My Life"
          ]
         ],
         "hovertemplate": "artista=Bon Jovi<br>x=%{x}<br>y=%{y}<br>musica=%{customdata[0]}<extra></extra>",
         "legendgroup": "Bon Jovi",
         "marker": {
          "color": "#00cc96",
          "opacity": 0.5,
          "symbol": "circle"
         },
         "mode": "markers",
         "name": "Bon Jovi",
         "showlegend": true,
         "type": "scattergl",
         "x": [
          45.79098892211914,
          -10.159699440002441,
          67.38856506347656,
          69.0013427734375,
          -43.068965911865234,
          -73.53084564208984,
          -19.637893676757812,
          53.64258575439453,
          48.21742248535156,
          -0.6899026036262512,
          30.85997200012207,
          -13.632648468017578,
          7.0629072189331055,
          56.43785095214844,
          16.724609375,
          40.18043518066406,
          -131.5723114013672,
          16.531185150146484,
          -16.343936920166016,
          14.36864948272705,
          21.63362693786621,
          -20.90229606628418,
          53.730194091796875,
          -43.25496292114258,
          -11.616670608520508
         ],
         "xaxis": "x",
         "y": [
          73.1401138305664,
          -37.35430908203125,
          -34.755863189697266,
          -32.17589569091797,
          -28.181154251098633,
          -25.3028564453125,
          -49.27256393432617,
          -67.34883880615234,
          -13.226117134094238,
          6.91193962097168,
          -13.797958374023438,
          -83.63314056396484,
          -1.6896592378616333,
          31.050291061401367,
          -50.77399444580078,
          8.238298416137695,
          -51.84392166137695,
          18.90077781677246,
          55.2258186340332,
          -19.97696876525879,
          -61.5489501953125,
          -55.21730041503906,
          -67.3619613647461,
          -28.22712516784668,
          -39.85314178466797
         ],
         "yaxis": "y"
        },
        {
         "customdata": [
          [
           "Just The Way You Are"
          ],
          [
           "Locked Out Of Heaven"
          ],
          [
           "Nothin' On You (remix)"
          ],
          [
           "Chunky"
          ],
          [
           "Finesse"
          ],
          [
           "Rest Of My Life"
          ],
          [
           "Gorilla"
          ],
          [
           "Too Good To Say Goodbye"
          ],
          [
           "Just The Way You Are (Remix) (Feat. Lupe Fiasco)"
          ],
          [
           "Don't Give Up"
          ],
          [
           "Finesse (Remix) (Feat. Cardi B)"
          ],
          [
           "Nothin' On You"
          ],
          [
           "Talking To The Moon"
          ],
          [
           "Marry You"
          ],
          [
           "Treasure"
          ],
          [
           "Versace On The Floor"
          ],
          [
           "Billionaire"
          ],
          [
           "That's What I Like"
          ],
          [
           "Grenade"
          ],
          [
           "It Will Rain"
          ],
          [
           "24k Magic"
          ],
          [
           "The Lazy Song"
          ],
          [
           "When I Was Your Man"
          ],
          [
           "Uptown Funk!"
          ],
          [
           "Count On Me"
          ]
         ],
         "hovertemplate": "artista=Bruno Mars<br>x=%{x}<br>y=%{y}<br>musica=%{customdata[0]}<extra></extra>",
         "legendgroup": "Bruno Mars",
         "marker": {
          "color": "#ab63fa",
          "opacity": 0.5,
          "symbol": "circle"
         },
         "mode": "markers",
         "name": "Bruno Mars",
         "showlegend": true,
         "type": "scattergl",
         "x": [
          3.9481403827667236,
          -41.05230712890625,
          -44.79698944091797,
          -16.504247665405273,
          -24.939838409423828,
          -26.42668342590332,
          35.70942687988281,
          4.962308883666992,
          3.9324100017547607,
          -46.56227111816406,
          -24.838899612426758,
          -44.79391860961914,
          -36.73387908935547,
          -20.945716857910156,
          31.960527420043945,
          37.424964904785156,
          59.51667022705078,
          58.93241500854492,
          -38.838600158691406,
          3.4296538829803467,
          -24.74980926513672,
          -58.58413314819336,
          17.149770736694336,
          13.556519508361816,
          -31.951831817626953
         ],
         "xaxis": "x",
         "y": [
          -36.36843490600586,
          -6.15761137008667,
          31.679855346679688,
          -1.9050695896148682,
          -39.602195739746094,
          -70.23905181884766,
          49.64161682128906,
          39.15153121948242,
          -36.373809814453125,
          -10.701047897338867,
          -39.6125602722168,
          31.679988861083984,
          15.8726167678833,
          17.662202835083008,
          25.945159912109375,
          29.716402053833008,
          2.1631999015808105,
          -33.96933364868164,
          43.3729248046875,
          2.1163229942321777,
          64.46668243408203,
          -42.17116928100586,
          -50.606327056884766,
          27.3786563873291,
          -5.107560634613037
         ],
         "yaxis": "y"
        },
        {
         "customdata": [
          [
           "Interlude"
          ],
          [
           "A Thousand Years (Part 2) (Feat. Steve Kaze)"
          ],
          [
           "I Believe"
          ],
          [
           "Distance (Feat. Jason Mraz)"
          ],
          [
           "I Don't Wanna Break"
          ],
          [
           "Distance"
          ],
          [
           "Burning Gold"
          ],
          [
           "Tiny Victories"
          ],
          [
           "Trust"
          ],
          [
           "Sea Of Lovers"
          ],
          [
           "Til There Was You"
          ],
          [
           "I Will Follow You Into The Dark"
          ],
          [
           "The Lonely"
          ],
          [
           "Be My Forever (Feat. Ed Sheeran)"
          ],
          [
           "You Mean The Whole Wide World To Me"
          ],
          [
           "The Words"
          ],
          [
           "I Like You"
          ],
          [
           "Arms"
          ],
          [
           "You Are My Sunshine"
          ],
          [
           "Jar Of Hearts"
          ],
          [
           "Human"
          ],
          [
           "A Thousand Years"
          ],
          [
           "Human (Passion Pit Remix)"
          ],
          [
           "Ave Maria"
          ],
          [
           "One Night"
          ]
         ],
         "hovertemplate": "artista=Christina Perri<br>x=%{x}<br>y=%{y}<br>musica=%{customdata[0]}<extra></extra>",
         "legendgroup": "Christina Perri",
         "marker": {
          "color": "#FFA15A",
          "opacity": 0.5,
          "symbol": "circle"
         },
         "mode": "markers",
         "name": "Christina Perri",
         "showlegend": true,
         "type": "scattergl",
         "x": [
          -72.89881896972656,
          80.70074462890625,
          24.455602645874023,
          -35.74702835083008,
          -81.67327117919922,
          -35.7597770690918,
          -20.24384307861328,
          12.6455717086792,
          48.148902893066406,
          60.7546272277832,
          64.03972625732422,
          -9.479706764221191,
          13.911734580993652,
          -79.36692810058594,
          8.53775405883789,
          -19.38394546508789,
          -8.591275215148926,
          -60.718223571777344,
          -23.294662475585938,
          -58.87724685668945,
          -66.63317108154297,
          80.69334411621094,
          -66.17535400390625,
          38.408409118652344,
          30.98255729675293
         ],
         "xaxis": "x",
         "y": [
          -57.787681579589844,
          -17.45751953125,
          0.711041271686554,
          -51.84235763549805,
          -33.27064514160156,
          -51.84785461425781,
          -56.314605712890625,
          30.576231002807617,
          -1.7863082885742188,
          -23.160785675048828,
          -25.017662048339844,
          1.5089027881622314,
          -5.986606121063232,
          -115.33607482910156,
          39.949790954589844,
          12.497426986694336,
          -5.473341941833496,
          16.16375732421875,
          -62.34335708618164,
          37.42307662963867,
          33.55431365966797,
          -17.45684242248535,
          33.36835479736328,
          -34.93000411987305,
          -18.12554931640625
         ],
         "yaxis": "y"
        },
        {
         "customdata": [
          [
           "Speed Of Sound"
          ],
          [
           "Green Eyes"
          ],
          [
           "The Scientist"
          ],
          [
           "Viva La Vida"
          ],
          [
           "Paradise"
          ],
          [
           "Yellow"
          ],
          [
           "Fix You"
          ],
          [
           "God Put A Smile Upon Your Face"
          ],
          [
           "Always In My Head"
          ],
          [
           "Something Just Like This (feat. The Chainsmokers)"
          ],
          [
           "Hymn for the Weekend (Feat. Beyoncé)"
          ],
          [
           "Clocks"
          ],
          [
           "Magic"
          ],
          [
           "A Sky Full Of Stars"
          ],
          [
           "Sunrise"
          ],
          [
           "Charlie Brown"
          ],
          [
           "Every Teardrop Is a Waterfall"
          ],
          [
           "A Head Full Of Dreams"
          ],
          [
           "Trouble"
          ],
          [
           "Orphans"
          ],
          [
           "Everyday Life"
          ],
          [
           "In My Place"
          ],
          [
           "Adventure Of A Lifetime"
          ],
          [
           "Up&Up"
          ]
         ],
         "hovertemplate": "artista=Coldplay<br>x=%{x}<br>y=%{y}<br>musica=%{customdata[0]}<extra></extra>",
         "legendgroup": "Coldplay",
         "marker": {
          "color": "#19d3f3",
          "opacity": 0.5,
          "symbol": "circle"
         },
         "mode": "markers",
         "name": "Coldplay",
         "showlegend": true,
         "type": "scattergl",
         "x": [
          19.255273818969727,
          0.0833035483956337,
          38.093746185302734,
          63.731536865234375,
          68.55428314208984,
          2.881659746170044,
          -79.5882339477539,
          64.74513244628906,
          -23.569629669189453,
          -62.82012939453125,
          28.611167907714844,
          3.4429938793182373,
          -46.866912841796875,
          -61.14860916137695,
          -74.34962463378906,
          28.172183990478516,
          59.943382263183594,
          49.793636322021484,
          21.637096405029297,
          14.362448692321777,
          58.8519401550293,
          -22.77655029296875,
          28.618404388427734,
          -2.9996895790100098
         ],
         "xaxis": "x",
         "y": [
          33.49570083618164,
          -42.963401794433594,
          -56.67107391357422,
          -28.610857009887695,
          -19.28811264038086,
          -31.60789680480957,
          -17.348031997680664,
          19.53639030456543,
          -60.728607177734375,
          -11.412391662597656,
          2.2106385231018066,
          36.809993743896484,
          -14.512615203857422,
          -30.849594116210938,
          -57.57169723510742,
          -27.30087661743164,
          2.0898585319519043,
          -23.612180709838867,
          70.6362075805664,
          12.946112632751465,
          -24.644241333007812,
          34.17936706542969,
          8.063380241394043,
          -7.053975582122803
         ],
         "yaxis": "y"
        },
        {
         "customdata": [
          [
           "Confident"
          ],
          [
           "I Love Me"
          ],
          [
           "Sorry Not Sorry"
          ],
          [
           "Stone Cold"
          ],
          [
           "Anyone"
          ],
          [
           "Sober"
          ],
          [
           "Skyscraper"
          ],
          [
           "Give Your Heart A Break"
          ],
          [
           "Heart Attack"
          ],
          [
           "Cool For The Summer"
          ],
          [
           "Gift Of A Friend"
          ],
          [
           "Nightingale"
          ],
          [
           "This Is Me (Gotta Find You) (Feat. Joe Jonas)"
          ],
          [
           "Sorry (Unreleased)"
          ],
          [
           "Warrior"
          ],
          [
           "Father"
          ],
          [
           "Let It Go"
          ],
          [
           "Really Don't Care (Feat. Cher Lloyd)"
          ],
          [
           "Lonely (Feat. Lil Wayne)"
          ],
          [
           "Don't Forget"
          ],
          [
           "Be Okay"
          ],
          [
           "Tell Me You Love Me"
          ],
          [
           "OK Not To Be OK (With Marshmello)"
          ],
          [
           "Still Have Me"
          ]
         ],
         "hovertemplate": "artista=Demi Lovato<br>x=%{x}<br>y=%{y}<br>musica=%{customdata[0]}<extra></extra>",
         "legendgroup": "Demi Lovato",
         "marker": {
          "color": "#FF6692",
          "opacity": 0.5,
          "symbol": "circle"
         },
         "mode": "markers",
         "name": "Demi Lovato",
         "showlegend": true,
         "type": "scattergl",
         "x": [
          -61.74996566772461,
          5.242214202880859,
          -14.524412155151367,
          -12.541328430175781,
          -33.29971694946289,
          -74.3153305053711,
          9.098517417907715,
          -0.818546712398529,
          -66.99117279052734,
          -21.8953800201416,
          4.471909046173096,
          -8.03177547454834,
          58.210262298583984,
          -0.31559044122695923,
          -77.52568054199219,
          20.68799591064453,
          -29.84368133544922,
          21.394399642944336,
          -6.18619441986084,
          6.067758083343506,
          35.801109313964844,
          25.82988166809082,
          -26.16484832763672,
          41.42495346069336
         ],
         "xaxis": "x",
         "y": [
          16.99211883544922,
          20.431964874267578,
          19.306577682495117,
          19.988300323486328,
          12.914334297180176,
          16.315744400024414,
          -74.87593841552734,
          7.589729309082031,
          -12.12865924835205,
          -54.21737289428711,
          -75.03937530517578,
          -14.51888656616211,
          -23.21727180480957,
          -52.8217887878418,
          17.502288818359375,
          -9.719476699829102,
          -43.442569732666016,
          42.30103302001953,
          -22.62360954284668,
          -43.2875862121582,
          1.852211833000183,
          23.412883758544922,
          -54.68404769897461,
          -24.440595626831055
         ],
         "yaxis": "y"
        },
        {
         "customdata": [
          [
           "Deep Pockets"
          ],
          [
           "Sacrifices (Feat. 2 Chainz, Young Thug)"
          ],
          [
           "Desires (Feat. Future)"
          ],
          [
           "Take Care (Feat. Rihanna)"
          ],
          [
           "Legend"
          ],
          [
           "Nonstop"
          ],
          [
           "Finesse"
          ],
          [
           "Know Yourself"
          ],
          [
           "Chicago Freestyle"
          ],
          [
           "Time Flies"
          ],
          [
           "Don't Matter To Me (Feat. Michael Jackson)"
          ],
          [
           "Ratchet Happy Birthday"
          ],
          [
           "All Me (Feat. 2 Chainz, Big Sean)"
          ],
          [
           "Hotline Bling"
          ],
          [
           "One Dance (Feat. Justin Bieber) (Remix)"
          ],
          [
           "One Dance"
          ],
          [
           "When To Say When / Chicago Freestyle (Video Version)"
          ],
          [
           "Popstar"
          ],
          [
           "Toosie Slide"
          ],
          [
           "God's Plan"
          ],
          [
           "Laugh Now Cry Later (Ft. Lil Durk)"
          ],
          [
           "When to Say When"
          ],
          [
           "War"
          ],
          [
           "Forever (Feat. Kanye West, Lil' Wayne & Eminem)"
          ],
          [
           "In My Feelings"
          ]
         ],
         "hovertemplate": "artista=Drake<br>x=%{x}<br>y=%{y}<br>musica=%{customdata[0]}<extra></extra>",
         "legendgroup": "Drake",
         "marker": {
          "color": "#B6E880",
          "opacity": 0.5,
          "symbol": "circle"
         },
         "mode": "markers",
         "name": "Drake",
         "showlegend": true,
         "type": "scattergl",
         "x": [
          19.338722229003906,
          -15.548760414123535,
          -7.594111919403076,
          -13.992080688476562,
          -81.87281799316406,
          -51.4195556640625,
          -52.788455963134766,
          15.14571762084961,
          24.581401824951172,
          4.35320520401001,
          -13.672276496887207,
          -12.812066078186035,
          7.226447582244873,
          -37.33546829223633,
          23.302959442138672,
          23.298160552978516,
          14.549239158630371,
          -0.5423972010612488,
          0.36435577273368835,
          -14.682960510253906,
          -22.119300842285156,
          12.663858413696289,
          -25.437896728515625,
          21.871761322021484,
          -13.044830322265625
         ],
         "xaxis": "x",
         "y": [
          18.223419189453125,
          55.85941696166992,
          35.522640228271484,
          36.438087463378906,
          -9.275313377380371,
          -62.42536163330078,
          -28.12604331970215,
          13.026744842529297,
          -26.607789993286133,
          42.197025299072266,
          35.78456115722656,
          15.954780578613281,
          -20.140132904052734,
          -41.75550842285156,
          -81.94795989990234,
          -81.94819641113281,
          32.230018615722656,
          53.17487335205078,
          53.1717643737793,
          53.4555549621582,
          1.9818066358566284,
          35.27848434448242,
          -32.26950454711914,
          71.64326477050781,
          53.41559982299805
         ],
         "yaxis": "y"
        },
        {
         "customdata": [
          [
           "Levitating (feat. DaBaby)"
          ],
          [
           "No Lie"
          ],
          [
           "Be The One"
          ],
          [
           "Love Again"
          ],
          [
           "Future Nostalgia"
          ],
          [
           "Pretty Please"
          ],
          [
           "Kiss and Make Up (With BLACKPINK)"
          ],
          [
           "Cool"
          ],
          [
           "Un Día (One Day) (With J Balvin, Bad Bunny, Tainy)"
          ],
          [
           "One Kiss"
          ],
          [
           "Boys Will Be Boys"
          ],
          [
           "That Kind of Woman"
          ],
          [
           "If It Ain't Me (Feat. Normani)"
          ],
          [
           "Hotter Than Hell"
          ],
          [
           "Electricity (With Silk City)"
          ],
          [
           "Genesis"
          ],
          [
           "Blow Your Mind (Mwah)"
          ],
          [
           "Hallucinate"
          ],
          [
           "Levitating (Feat. Madonna and Missy Elliott) (The Blessed Madonna Remix)"
          ],
          [
           "Physical"
          ],
          [
           "New Rules"
          ],
          [
           "Levitating"
          ],
          [
           "Break My Heart"
          ],
          [
           "Don't Start Now"
          ],
          [
           "IDGAF"
          ]
         ],
         "hovertemplate": "artista=Dua Lipa<br>x=%{x}<br>y=%{y}<br>musica=%{customdata[0]}<extra></extra>",
         "legendgroup": "Dua Lipa",
         "marker": {
          "color": "#FF97FF",
          "opacity": 0.5,
          "symbol": "circle"
         },
         "mode": "markers",
         "name": "Dua Lipa",
         "showlegend": true,
         "type": "scattergl",
         "x": [
          -30.5733585357666,
          34.848297119140625,
          1.090314269065857,
          -26.35350799560547,
          -58.01542663574219,
          -48.48548889160156,
          48.36980056762695,
          32.12244415283203,
          32.044471740722656,
          35.504695892333984,
          56.26367950439453,
          -43.25215148925781,
          54.71970748901367,
          21.405519485473633,
          -60.324790954589844,
          -3.216163158416748,
          -24.1230411529541,
          -8.434947967529297,
          -30.492366790771484,
          -42.85415267944336,
          -53.10261917114258,
          -30.32978630065918,
          69.44144439697266,
          -45.42845916748047,
          -54.74843978881836
         ],
         "xaxis": "x",
         "y": [
          44.25680923461914,
          32.863433837890625,
          -71.45591735839844,
          26.040685653686523,
          -36.62345504760742,
          21.60348892211914,
          60.184532165527344,
          25.42885971069336,
          -16.961145401000977,
          -53.73084259033203,
          7.150486469268799,
          2.297092914581299,
          2.5937886238098145,
          -20.08397674560547,
          -23.265413284301758,
          7.00079345703125,
          28.800376892089844,
          31.230276107788086,
          44.34369659423828,
          -37.926963806152344,
          2.336930274963379,
          44.456077575683594,
          -1.7238473892211914,
          6.612777233123779,
          9.034859657287598
         ],
         "yaxis": "y"
        },
        {
         "customdata": [
          [
           "Perfect Duet (With Beyoncé)"
          ],
          [
           "Beautiful People (feat. Khalid)"
          ],
          [
           "Friends"
          ],
          [
           "One"
          ],
          [
           "The A Team"
          ],
          [
           "Best Part Of Me (feat. YEBBA)"
          ],
          [
           "Dive"
          ],
          [
           "Don't"
          ],
          [
           "I See Fire"
          ],
          [
           "Galway Girl"
          ],
          [
           "All Of The Stars"
          ],
          [
           "Castle On The Hill"
          ],
          [
           "Happier"
          ],
          [
           "Kiss Me"
          ],
          [
           "Sing"
          ],
          [
           "South Of The Border (Ft. Camila Cabello & Cardi B)"
          ],
          [
           "I Don't Care (With Justin Bieber)"
          ],
          [
           "Give Me Love"
          ],
          [
           "Thinking Out Loud"
          ],
          [
           "Perfect Symphony (With Andrea Bocelli)"
          ],
          [
           "Tenerife Sea"
          ],
          [
           "Eraser"
          ],
          [
           "Photograph"
          ],
          [
           "Shape Of You"
          ],
          [
           "Perfect"
          ]
         ],
         "hovertemplate": "artista=Ed Sheeran<br>x=%{x}<br>y=%{y}<br>musica=%{customdata[0]}<extra></extra>",
         "legendgroup": "Ed Sheeran",
         "marker": {
          "color": "#FECB52",
          "opacity": 0.5,
          "symbol": "circle"
         },
         "mode": "markers",
         "name": "Ed Sheeran",
         "showlegend": true,
         "type": "scattergl",
         "x": [
          39.89027404785156,
          50.57018280029297,
          -5.842163562774658,
          -10.580853462219238,
          -13.611004829406738,
          -11.820840835571289,
          -38.6103401184082,
          -52.83797836303711,
          30.488615036010742,
          57.500244140625,
          56.2886962890625,
          52.60507583618164,
          -6.857146739959717,
          -8.6162691116333,
          -48.042293548583984,
          34.829830169677734,
          -37.37738037109375,
          20.137113571166992,
          45.915916442871094,
          48.52091979980469,
          2.9160878658294678,
          16.243345260620117,
          -5.736778736114502,
          33.71194839477539,
          39.85239028930664
         ],
         "xaxis": "x",
         "y": [
          -14.912221908569336,
          45.65570831298828,
          21.617856979370117,
          -20.44386100769043,
          -83.69718933105469,
          17.887775421142578,
          -18.754131317138672,
          -52.629051208496094,
          -17.057552337646484,
          -0.555330753326416,
          -39.2234992980957,
          16.290145874023438,
          19.046545028686523,
          -14.706881523132324,
          21.93984031677246,
          24.235233306884766,
          38.716331481933594,
          -50.399044036865234,
          3.8545501232147217,
          -12.817410469055176,
          -10.807130813598633,
          -8.414548873901367,
          -21.90771484375,
          22.691499710083008,
          -15.282072067260742
         ],
         "yaxis": "y"
        },
        {
         "customdata": [
          [
           "Empty Garden (hey Hey Johnny)"
          ],
          [
           "Don't Go Breaking My Heart (Feat. Kiki Dee)"
          ],
          [
           "I'm Still Standing"
          ],
          [
           "You Gotta Love Someone"
          ],
          [
           "Blue Eyes"
          ],
          [
           "Candle In The Wind (1997)"
          ],
          [
           "Circle Of Life"
          ],
          [
           "I Want Love"
          ],
          [
           "Saturday Night's Alright For Fighting"
          ],
          [
           "Sad Songs (Say So Much)"
          ],
          [
           "I Think I'm Going To Kill Myself"
          ],
          [
           "Bennie And The Jets"
          ],
          [
           "I Guess That's Why They Call It The Blues"
          ],
          [
           "Sacrifice"
          ],
          [
           "Daniel"
          ],
          [
           "Tiny Dancer"
          ],
          [
           "Candle In The Wind"
          ],
          [
           "Don't Let The Sun Go Down On Me"
          ],
          [
           "Nikita"
          ],
          [
           "Goodbye Yellow Brick Road"
          ],
          [
           "Can You Feel The Love Tonight?"
          ],
          [
           "Skyline Pigeon"
          ],
          [
           "Rocket Man"
          ],
          [
           "Your Song"
          ],
          [
           "The One"
          ]
         ],
         "hovertemplate": "artista=Elton John<br>x=%{x}<br>y=%{y}<br>musica=%{customdata[0]}<extra></extra>",
         "legendgroup": "Elton John",
         "marker": {
          "color": "#636efa",
          "opacity": 0.5,
          "symbol": "circle"
         },
         "mode": "markers",
         "name": "Elton John",
         "showlegend": true,
         "type": "scattergl",
         "x": [
          50.99741744995117,
          -62.30127716064453,
          4.140512466430664,
          -19.024396896362305,
          -62.08012771606445,
          54.4720458984375,
          71.81460571289062,
          -36.551361083984375,
          55.82950973510742,
          -17.569534301757812,
          -3.9455788135528564,
          4.615133762359619,
          16.66216468811035,
          51.160011291503906,
          15.042740821838379,
          28.449127197265625,
          63.754058837890625,
          -36.84792709350586,
          16.56543731689453,
          -1.6212519407272339,
          35.20752716064453,
          28.648563385009766,
          -20.023914337158203,
          -9.657111167907715,
          27.661596298217773
         ],
         "xaxis": "x",
         "y": [
          -22.909345626831055,
          -38.690425872802734,
          16.239002227783203,
          11.144039154052734,
          -31.74526596069336,
          -30.872928619384766,
          -31.489559173583984,
          -134.92311096191406,
          3.1915924549102783,
          -3.0060946941375732,
          -78.83563995361328,
          59.81848907470703,
          27.889596939086914,
          -40.04813766479492,
          31.537445068359375,
          -63.588409423828125,
          -24.932756423950195,
          -14.91650676727295,
          -7.939058303833008,
          80.23222351074219,
          37.28850555419922,
          -63.65428924560547,
          42.28215408325195,
          -58.514339447021484,
          -63.34700393676758
         ],
         "yaxis": "y"
        },
        {
         "customdata": [
          [
           "Amazing Grace"
          ],
          [
           "Kiss Me Quick"
          ],
          [
           "Burning Love"
          ],
          [
           "Jailhouse Rock"
          ],
          [
           "And I Love You So"
          ],
          [
           "It's Now Or Never"
          ],
          [
           "Can't Help Falling In Love"
          ],
          [
           "Stand by Me"
          ],
          [
           "Bridge Over Troubled Water"
          ],
          [
           "My Way"
          ],
          [
           "Suspicious Minds"
          ],
          [
           "Always On My Mind"
          ],
          [
           "Unchained Melody"
          ],
          [
           "If I Can Dream"
          ],
          [
           "Love Me Tender"
          ],
          [
           "Blue Suede Shoes"
          ],
          [
           "I Can't Stop Loving You"
          ],
          [
           "You'll Never Walk Alone"
          ],
          [
           "You've Lost That Lovin' Feelin'"
          ],
          [
           "Don't Be Cruel"
          ],
          [
           "So High"
          ],
          [
           "The Wonder Of You"
          ],
          [
           "How Great Thou Art"
          ],
          [
           "I've Got Confidence"
          ],
          [
           "Sweet Caroline"
          ]
         ],
         "hovertemplate": "artista=Elvis Presley<br>x=%{x}<br>y=%{y}<br>musica=%{customdata[0]}<extra></extra>",
         "legendgroup": "Elvis Presley",
         "marker": {
          "color": "#EF553B",
          "opacity": 0.5,
          "symbol": "circle"
         },
         "mode": "markers",
         "name": "Elvis Presley",
         "showlegend": true,
         "type": "scattergl",
         "x": [
          11.964399337768555,
          48.85240173339844,
          38.80754089355469,
          5.196957588195801,
          -5.238864898681641,
          -6.519328594207764,
          26.292869567871094,
          9.656991958618164,
          -34.26811218261719,
          59.08525466918945,
          -49.68927001953125,
          -1.9032706022262573,
          -7.678934574127197,
          -8.867403030395508,
          1.1046475172042847,
          3.26352596282959,
          -4.077437400817871,
          3.806098461151123,
          -37.88484191894531,
          -0.9930832386016846,
          -30.30618667602539,
          1.5578256845474243,
          49.5714225769043,
          -29.435165405273438,
          45.37232971191406
         ],
         "xaxis": "x",
         "y": [
          4.816561222076416,
          60.7130012512207,
          -13.713948249816895,
          81.85818481445312,
          -23.382558822631836,
          -23.27381134033203,
          19.718759536743164,
          53.34702682495117,
          -59.87504959106445,
          -22.406253814697266,
          -35.112579345703125,
          80.29438781738281,
          -13.632660865783691,
          -64.6721420288086,
          93.95069885253906,
          80.30734252929688,
          -78.92926025390625,
          77.5401382446289,
          53.439186096191406,
          67.30931091308594,
          69.24982452392578,
          28.834400177001953,
          -37.632408142089844,
          -28.694429397583008,
          37.371299743652344
         ],
         "yaxis": "y"
        },
        {
         "customdata": [
          [
           "Venom"
          ],
          [
           "When I'm Gone"
          ],
          [
           "Till I Collapse (feat. Nate Dogg)"
          ],
          [
           "Mockingbird"
          ],
          [
           "Offended"
          ],
          [
           "Not Afraid"
          ],
          [
           "Without Me"
          ],
          [
           "Godzilla (Feat. Juice WRLD)"
          ],
          [
           "Stan (feat. Dido)"
          ],
          [
           "Lose Yourself"
          ],
          [
           "Love The Way You Lie (feat. Rihanna)"
          ],
          [
           "The Real Slim Shady"
          ],
          [
           "My Name Is"
          ],
          [
           "Superman (feat. Dina Rae)"
          ],
          [
           "The Monster (Feat. Rihanna)"
          ],
          [
           "Cleanin' Out My Closet"
          ],
          [
           "Space Bound"
          ],
          [
           "Sing For The Moment"
          ],
          [
           "Lucky You (Feat. Joyner Lucas)"
          ],
          [
           "8 Mile Tree Last Battle"
          ],
          [
           "My Darling"
          ],
          [
           "Premonition (Intro)"
          ],
          [
           "The Way I Am"
          ],
          [
           "Beautiful"
          ],
          [
           "Rap God"
          ]
         ],
         "hovertemplate": "artista=Eminem<br>x=%{x}<br>y=%{y}<br>musica=%{customdata[0]}<extra></extra>",
         "legendgroup": "Eminem",
         "marker": {
          "color": "#00cc96",
          "opacity": 0.5,
          "symbol": "circle"
         },
         "mode": "markers",
         "name": "Eminem",
         "showlegend": true,
         "type": "scattergl",
         "x": [
          52.59203338623047,
          4.620009422302246,
          3.6553311347961426,
          -16.812849044799805,
          23.900604248046875,
          -35.20808029174805,
          8.554506301879883,
          51.134761810302734,
          5.188891410827637,
          40.453189849853516,
          9.724971771240234,
          24.337406158447266,
          7.108466625213623,
          -0.882868230342865,
          -28.3193416595459,
          9.52729606628418,
          -33.26372528076172,
          33.185577392578125,
          18.29161262512207,
          7.7176337242126465,
          9.337546348571777,
          -29.543167114257812,
          11.085556030273438,
          -39.326419830322266,
          55.65095901489258
         ],
         "xaxis": "x",
         "y": [
          6.774415493011475,
          58.45528793334961,
          82.31028747558594,
          -1.2394964694976807,
          13.352458953857422,
          -30.62032699584961,
          68.47611999511719,
          12.934856414794922,
          58.19985580444336,
          -5.050343036651611,
          -39.43158721923828,
          14.59127426147461,
          69.85472106933594,
          66.42569732666016,
          -17.521860122680664,
          35.78339385986328,
          -17.321701049804688,
          60.56950759887695,
          18.32049560546875,
          67.91505432128906,
          35.434024810791016,
          -29.32907485961914,
          60.816505432128906,
          -39.507568359375,
          2.514004945755005
         ],
         "yaxis": "y"
        },
        {
         "customdata": [
          [
           "It's A Free World, Baby"
          ],
          [
           "Angel Of The Morning"
          ],
          [
           "Copacabana"
          ],
          [
           "Every Word Means No"
          ],
          [
           "I'd Love You To Want Me"
          ],
          [
           "Endless Love (Duet With Chandler)"
          ],
          [
           "Holiday Song"
          ],
          [
           "Trouble With Boys"
          ],
          [
           "Baby Got Back"
          ],
          [
           "Emma"
          ],
          [
           "Friends 'til The End"
          ],
          [
           "I'll Be There For You"
          ],
          [
           "I'm In The Shower"
          ]
         ],
         "hovertemplate": "artista=Friends<br>x=%{x}<br>y=%{y}<br>musica=%{customdata[0]}<extra></extra>",
         "legendgroup": "Friends",
         "marker": {
          "color": "#ab63fa",
          "opacity": 0.5,
          "symbol": "circle"
         },
         "mode": "markers",
         "name": "Friends",
         "showlegend": true,
         "type": "scattergl",
         "x": [
          -20.089881896972656,
          -15.670186042785645,
          60.21063232421875,
          -28.526857376098633,
          7.798957824707031,
          -9.33071231842041,
          13.410235404968262,
          -50.55427551269531,
          39.809051513671875,
          55.7996940612793,
          -74.08509063720703,
          -74.0396728515625,
          8.071582794189453
         ],
         "xaxis": "x",
         "y": [
          -50.61616134643555,
          18.632465362548828,
          -21.783477783203125,
          -9.178964614868164,
          -2.138918399810791,
          88.89144134521484,
          35.461544036865234,
          -21.269752502441406,
          18.25497817993164,
          -18.252403259277344,
          -25.109464645385742,
          -25.08473014831543,
          -25.072534561157227
         ],
         "yaxis": "y"
        },
        {
         "customdata": [
          [
           "Aquele Abraço"
          ]
         ],
         "hovertemplate": "artista=Gilberto Gil<br>x=%{x}<br>y=%{y}<br>musica=%{customdata[0]}<extra></extra>",
         "legendgroup": "Gilberto Gil",
         "marker": {
          "color": "#FFA15A",
          "opacity": 0.5,
          "symbol": "circle"
         },
         "mode": "markers",
         "name": "Gilberto Gil",
         "showlegend": true,
         "type": "scattergl",
         "x": [
          39.96248245239258
         ],
         "xaxis": "x",
         "y": [
          -33.41677474975586
         ],
         "yaxis": "y"
        },
        {
         "customdata": [
          [
           "Out Ta Get Me"
          ],
          [
           "Live And Let Die"
          ],
          [
           "Sweet Child O' Mine"
          ],
          [
           "November Rain"
          ],
          [
           "Don't Cry"
          ],
          [
           "Patience"
          ],
          [
           "Knockin' On Heaven's Door"
          ],
          [
           "Welcome To The Jungle"
          ],
          [
           "Paradise City"
          ],
          [
           "Estranged"
          ],
          [
           "Civil War"
          ],
          [
           "Yesterdays"
          ],
          [
           "Nightrain"
          ],
          [
           "Mr. Brownstone"
          ],
          [
           "Since I Don't Have You"
          ],
          [
           "November Rain (Piano Version/1986 Sound City Session)"
          ],
          [
           "Rocket Queen"
          ],
          [
           "So Fine"
          ],
          [
           "Better"
          ],
          [
           "This I Love"
          ],
          [
           "Sympathy For The Devil"
          ],
          [
           "Chinese Democracy"
          ],
          [
           "It's So Easy"
          ],
          [
           "Used To Love Her"
          ],
          [
           "You Could Be Mine"
          ]
         ],
         "hovertemplate": "artista=Guns N' Roses<br>x=%{x}<br>y=%{y}<br>musica=%{customdata[0]}<extra></extra>",
         "legendgroup": "Guns N' Roses",
         "marker": {
          "color": "#19d3f3",
          "opacity": 0.5,
          "symbol": "circle"
         },
         "mode": "markers",
         "name": "Guns N' Roses",
         "showlegend": true,
         "type": "scattergl",
         "x": [
          -3.7612874507904053,
          14.753273010253906,
          -33.97385787963867,
          -16.590534210205078,
          -54.42816925048828,
          -38.19339370727539,
          -24.016298294067383,
          0.7802504301071167,
          33.372013092041016,
          -15.351530075073242,
          56.916141510009766,
          -9.569551467895508,
          -35.368228912353516,
          -19.478012084960938,
          -2.052121639251709,
          -17.169631958007812,
          -0.5283555388450623,
          41.59204864501953,
          -64.92139434814453,
          -3.8681294918060303,
          7.813587188720703,
          -15.814024925231934,
          -31.283550262451172,
          -55.333805084228516,
          5.052366256713867
         ],
         "xaxis": "x",
         "y": [
          -58.007442474365234,
          -37.10561752319336,
          15.70693302154541,
          -10.27715015411377,
          6.678226947784424,
          43.278900146484375,
          -39.92787170410156,
          -55.544677734375,
          33.73942184448242,
          -17.86284828186035,
          2.3279707431793213,
          -55.77695846557617,
          0.8795897364616394,
          -25.86753273010254,
          74.87895202636719,
          -10.331232070922852,
          -51.58139419555664,
          -4.3704071044921875,
          -0.5687326192855835,
          -57.37792205810547,
          -25.661008834838867,
          -18.971532821655273,
          -41.703941345214844,
          10.841269493103027,
          84.76811981201172
         ],
         "yaxis": "y"
        },
        {
         "customdata": [
          [
           "Cherry"
          ],
          [
           "Sunflower, Vol. 6"
          ],
          [
           "Watermelon Sugar"
          ],
          [
           "Adore You"
          ],
          [
           "Lights Up"
          ],
          [
           "Golden"
          ],
          [
           "Falling"
          ],
          [
           "Medicine"
          ],
          [
           "Sign Of The Times"
          ]
         ],
         "hovertemplate": "artista=Harry Styles<br>x=%{x}<br>y=%{y}<br>musica=%{customdata[0]}<extra></extra>",
         "legendgroup": "Harry Styles",
         "marker": {
          "color": "#FF6692",
          "opacity": 0.5,
          "symbol": "circle"
         },
         "mode": "markers",
         "name": "Harry Styles",
         "showlegend": true,
         "type": "scattergl",
         "x": [
          -45.035614013671875,
          -51.42073440551758,
          46.787803649902344,
          -17.896772384643555,
          -59.256351470947266,
          -4.838292598724365,
          25.17571449279785,
          -4.536727428436279,
          40.63212203979492
         ],
         "xaxis": "x",
         "y": [
          5.949715614318848,
          10.771547317504883,
          -48.99834442138672,
          22.040945053100586,
          -32.73540496826172,
          3.7786319255828857,
          36.69033432006836,
          33.131614685058594,
          -81.49664306640625
         ],
         "yaxis": "y"
        },
        {
         "customdata": [
          [
           "Hino das Ilhas Fiji"
          ],
          [
           "Hino dos Estados Unidos"
          ]
         ],
         "hovertemplate": "artista=Hinos<br>x=%{x}<br>y=%{y}<br>musica=%{customdata[0]}<extra></extra>",
         "legendgroup": "Hinos",
         "marker": {
          "color": "#B6E880",
          "opacity": 0.5,
          "symbol": "circle"
         },
         "mode": "markers",
         "name": "Hinos",
         "showlegend": true,
         "type": "scattergl",
         "x": [
          38.488155364990234,
          26.115142822265625
         ],
         "xaxis": "x",
         "y": [
          -32.966217041015625,
          73.17729949951172
         ],
         "yaxis": "y"
        },
        {
         "customdata": [
          [
           "Warriors"
          ],
          [
           "Sucker For Pain (Feat. Lil Wayne, Wiz Khalifa, Ty Dolla $ign, Logic & X Ambassadors)"
          ],
          [
           "Walking The Wire"
          ],
          [
           "Rise Up"
          ],
          [
           "Believer (Remix) (Ft. Lil Wayne)"
          ],
          [
           "I'm So Sorry"
          ],
          [
           "West Coast"
          ],
          [
           "Born To Be Yours (With Kygo)"
          ],
          [
           "Boomerang"
          ],
          [
           "I Don't Know Why"
          ],
          [
           "Dream"
          ],
          [
           "Not Today"
          ],
          [
           "Love"
          ],
          [
           "On Top Of The World"
          ],
          [
           "Believer"
          ],
          [
           "Demons"
          ],
          [
           "Thunder"
          ],
          [
           "Bad Liar"
          ],
          [
           "Radioactive"
          ],
          [
           "Whatever It Takes"
          ],
          [
           "Radioactive (Feat. Kendrick Lamar)"
          ],
          [
           "Birds"
          ],
          [
           "It's Time"
          ],
          [
           "Next To Me"
          ],
          [
           "Natural"
          ]
         ],
         "hovertemplate": "artista=Imagine Dragons<br>x=%{x}<br>y=%{y}<br>musica=%{customdata[0]}<extra></extra>",
         "legendgroup": "Imagine Dragons",
         "marker": {
          "color": "#FF97FF",
          "opacity": 0.5,
          "symbol": "circle"
         },
         "mode": "markers",
         "name": "Imagine Dragons",
         "showlegend": true,
         "type": "scattergl",
         "x": [
          -10.756522178649902,
          20.926862716674805,
          37.09547424316406,
          35.362735748291016,
          23.239639282226562,
          42.574466705322266,
          -25.553743362426758,
          -9.281457901000977,
          -26.797332763671875,
          -57.239566802978516,
          -10.187528610229492,
          -2.564103364944458,
          44.434078216552734,
          52.220340728759766,
          23.243741989135742,
          52.65317153930664,
          48.39896011352539,
          -33.97551727294922,
          72.64086151123047,
          4.5339789390563965,
          72.54478454589844,
          -30.634122848510742,
          -62.175567626953125,
          -38.017295837402344,
          -9.26749324798584
         ],
         "xaxis": "x",
         "y": [
          3.0298871994018555,
          13.801323890686035,
          28.95395278930664,
          24.568544387817383,
          60.42910385131836,
          -59.12709045410156,
          51.9144172668457,
          11.793571472167969,
          68.20088195800781,
          -9.879973411560059,
          -59.35506820678711,
          -51.14759826660156,
          48.77507400512695,
          7.3481597900390625,
          60.42974090576172,
          -40.23366165161133,
          11.28320026397705,
          54.00617599487305,
          11.987319946289062,
          -9.12285041809082,
          11.854601860046387,
          13.299188613891602,
          -1.0043821334838867,
          62.00820541381836,
          -42.154319763183594
         ],
         "yaxis": "y"
        },
        {
         "customdata": [
          [
           "Starting All Over Again"
          ],
          [
           "Maui Hawaiian Sup'pa Man"
          ],
          [
           "Tengoku Kara Kaminari (thunder From Heaven)"
          ],
          [
           "Ahi Wela"
          ],
          [
           "Kamalani"
          ],
          [
           "What a Wonderful World"
          ],
          [
           "E Ala E"
          ],
          [
           "Hawaiian Like Me"
          ],
          [
           "Hawaii 78"
          ],
          [
           "In This Life"
          ],
          [
           "Margarita"
          ],
          [
           "Somewhere Over The Rainbow"
          ],
          [
           "Sea Of Love"
          ]
         ],
         "hovertemplate": "artista=Israel Kamakawiwo'ole<br>x=%{x}<br>y=%{y}<br>musica=%{customdata[0]}<extra></extra>",
         "legendgroup": "Israel Kamakawiwo'ole",
         "marker": {
          "color": "#FECB52",
          "opacity": 0.5,
          "symbol": "circle"
         },
         "mode": "markers",
         "name": "Israel Kamakawiwo'ole",
         "showlegend": true,
         "type": "scattergl",
         "x": [
          -32.37096405029297,
          30.83464813232422,
          18.254043579101562,
          28.773752212524414,
          40.79146957397461,
          59.74699020385742,
          25.496971130371094,
          59.83875274658203,
          56.205692291259766,
          45.164608001708984,
          16.3286075592041,
          37.38814926147461,
          32.835609436035156
         ],
         "xaxis": "x",
         "y": [
          -6.636290073394775,
          72.96673583984375,
          30.190231323242188,
          8.343282699584961,
          -14.277115821838379,
          17.20553207397461,
          73.03057861328125,
          50.56105041503906,
          6.73532772064209,
          -22.389726638793945,
          31.00079917907715,
          -33.19784164428711,
          45.5684700012207
         ],
         "yaxis": "y"
        },
        {
         "customdata": [
          [
           "It's Killing Me"
          ],
          [
           "Quite Miss Home"
          ],
          [
           "Can't Take My Eyes Off You"
          ],
          [
           "Car's Outside"
          ],
          [
           "Back From The Edge"
          ],
          [
           "If You Let Me"
          ],
          [
           "Empty Space"
          ],
          [
           "Fall"
          ],
          [
           "Say You Won't Let Go"
          ],
          [
           "Naked"
          ],
          [
           "Impossible"
          ],
          [
           "Falling Like The Stars"
          ],
          [
           "Train Wreck"
          ],
          [
           "Can I Be Him"
          ],
          [
           "Always"
          ],
          [
           "Rewrite The Stars (with Anne-Marie)"
          ],
          [
           "At My Weakest"
          ],
          [
           "Is This Love"
          ],
          [
           "I Am"
          ],
          [
           "Safe Inside"
          ],
          [
           "Finally"
          ],
          [
           "Maybe"
          ],
          [
           "Certain Things (feat. Chasing Grace)"
          ],
          [
           "You're Nobody 'Til Somebody Loves You"
          ],
          [
           "You (Feat. Travis Barker)"
          ]
         ],
         "hovertemplate": "artista=James Arthur<br>x=%{x}<br>y=%{y}<br>musica=%{customdata[0]}<extra></extra>",
         "legendgroup": "James Arthur",
         "marker": {
          "color": "#636efa",
          "opacity": 0.5,
          "symbol": "circle"
         },
         "mode": "markers",
         "name": "James Arthur",
         "showlegend": true,
         "type": "scattergl",
         "x": [
          -19.543081283569336,
          17.22136688232422,
          32.043243408203125,
          2.755697011947632,
          -48.94485855102539,
          -16.342376708984375,
          -68.6424789428711,
          -30.07684326171875,
          -20.444292068481445,
          -60.122100830078125,
          37.79100799560547,
          -25.815946578979492,
          5.3353495597839355,
          0.12563824653625488,
          7.433603763580322,
          -8.848763465881348,
          -31.672988891601562,
          25.960071563720703,
          0.48137131333351135,
          -14.228222846984863,
          -8.757336616516113,
          26.6284122467041,
          10.183606147766113,
          -59.973915100097656,
          48.60677719116211
         ],
         "xaxis": "x",
         "y": [
          -28.562711715698242,
          -9.040783882141113,
          44.386383056640625,
          2.066287040710449,
          -37.439109802246094,
          17.680856704711914,
          -12.297682762145996,
          -30.44719886779785,
          -23.625591278076172,
          12.821980476379395,
          -57.078773498535156,
          -72.8306655883789,
          -67.20813751220703,
          -39.37384796142578,
          -3.689464569091797,
          9.9572172164917,
          -16.625534057617188,
          -45.13676452636719,
          -38.83500671386719,
          33.87324523925781,
          -59.36819839477539,
          -43.799781799316406,
          -38.96377182006836,
          12.3189058303833,
          -1.4554612636566162
         ],
         "yaxis": "y"
        },
        {
         "customdata": [
          [
           "I Won't Give Up"
          ],
          [
           "93 Million Miles"
          ],
          [
           "Lucky (feat Ximena Sariñana)"
          ],
          [
           "Hearing Double"
          ],
          [
           "The World As I See It"
          ],
          [
           "Love Is Still The Answer"
          ],
          [
           "You Can Rely On Me"
          ],
          [
           "5/6"
          ],
          [
           "Love Love Love"
          ],
          [
           "A Beautiful Mess"
          ],
          [
           "I'm Yours (Versão Videoclipe)"
          ],
          [
           "Coffee Cup Song"
          ],
          [
           "You do You (Feat. Tiffany Haddish)"
          ],
          [
           "Better With You"
          ],
          [
           "Wise Woman"
          ],
          [
           "Make Love"
          ],
          [
           "Butterfly"
          ],
          [
           "Let's See What The Night Can Do"
          ],
          [
           "Have It All"
          ],
          [
           "Song For A Friend"
          ],
          [
           "Love Someone"
          ],
          [
           "Look For The Good"
          ],
          [
           "Gratitude"
          ],
          [
           "I'm Yours"
          ],
          [
           "Lucky (feat. Colbie Caillat)"
          ]
         ],
         "hovertemplate": "artista=Jason Mraz<br>x=%{x}<br>y=%{y}<br>musica=%{customdata[0]}<extra></extra>",
         "legendgroup": "Jason Mraz",
         "marker": {
          "color": "#EF553B",
          "opacity": 0.5,
          "symbol": "circle"
         },
         "mode": "markers",
         "name": "Jason Mraz",
         "showlegend": true,
         "type": "scattergl",
         "x": [
          -39.80733108520508,
          -0.38191360235214233,
          50.00286102294922,
          -69.22900390625,
          14.189266204833984,
          47.346885681152344,
          -16.550506591796875,
          1.1492620706558228,
          15.809861183166504,
          5.4392170906066895,
          13.0365571975708,
          -4.3280439376831055,
          45.424068450927734,
          -59.810665130615234,
          67.68717193603516,
          47.65275955200195,
          -6.911884784698486,
          35.63727569580078,
          -7.108643531799316,
          17.909297943115234,
          22.408248901367188,
          37.19896697998047,
          -44.58256149291992,
          13.090588569641113,
          59.63417434692383
         ],
         "xaxis": "x",
         "y": [
          -40.30607604980469,
          9.330061912536621,
          -13.977984428405762,
          -12.365907669067383,
          7.958404064178467,
          50.00371170043945,
          37.693851470947266,
          -18.35582733154297,
          4.733832836151123,
          -56.900062561035156,
          6.142920017242432,
          -12.225988388061523,
          50.053768157958984,
          -11.002906799316406,
          -31.674583435058594,
          59.37601089477539,
          35.074378967285156,
          35.07678985595703,
          10.952166557312012,
          -0.6623229384422302,
          -47.22710037231445,
          -5.566451072692871,
          3.1202173233032227,
          5.582502841949463,
          -23.63030433654785
         ],
         "yaxis": "y"
        },
        {
         "customdata": [
          [
           "Conversations In The Dark"
          ],
          [
           "If You're Out There"
          ],
          [
           "Favorite Place"
          ],
          [
           "I Do"
          ],
          [
           "Tonight (Best You Ever Had) (feat. Ludacris)"
          ],
          [
           "Save Room"
          ],
          [
           "Aim High"
          ],
          [
           "Beauty and The Beast"
          ],
          [
           "I Love, You Love"
          ],
          [
           "Actions"
          ],
          [
           "All Of Me"
          ],
          [
           "It Don't Have To Change"
          ],
          [
           "Ooh Laa"
          ],
          [
           "Always"
          ],
          [
           "P.D.A. (We Just Don't Care)"
          ],
          [
           "A Million"
          ],
          [
           "Never Break"
          ],
          [
           "Ordinary People"
          ],
          [
           "A Good Night (Feat. BloodPop®)"
          ],
          [
           "U Move, I Move (Feat. Jhené Aiko)"
          ],
          [
           "Preach"
          ],
          [
           "Our Generation (the Hope Of The World)"
          ],
          [
           "Wild (Ft. Gary Clark Jr.)"
          ],
          [
           "You & I (Nobody in the World)"
          ],
          [
           "Love Me Now"
          ]
         ],
         "hovertemplate": "artista=John Legend<br>x=%{x}<br>y=%{y}<br>musica=%{customdata[0]}<extra></extra>",
         "legendgroup": "John Legend",
         "marker": {
          "color": "#00cc96",
          "opacity": 0.5,
          "symbol": "circle"
         },
         "mode": "markers",
         "name": "John Legend",
         "showlegend": true,
         "type": "scattergl",
         "x": [
          -35.3240852355957,
          -66.46739196777344,
          30.685279846191406,
          -53.92264938354492,
          59.760101318359375,
          20.509769439697266,
          36.20240020751953,
          31.18938446044922,
          1.6659549474716187,
          -32.67399597167969,
          -14.767300605773926,
          -62.02399444580078,
          37.3054084777832,
          -63.66082763671875,
          -5.263773441314697,
          -7.228937149047852,
          14.33741569519043,
          -4.260249614715576,
          -26.559263229370117,
          -46.04111099243164,
          -66.90421295166016,
          31.9945011138916,
          -9.075874328613281,
          38.67014694213867,
          -30.188695907592773
         ],
         "xaxis": "x",
         "y": [
          -21.298969268798828,
          -3.5820446014404297,
          -5.079155921936035,
          -20.191823959350586,
          49.95756912231445,
          13.708704948425293,
          50.296409606933594,
          -73.83943176269531,
          93.27159881591797,
          15.68179988861084,
          -67.35126495361328,
          15.551339149475098,
          8.775572776794434,
          33.033992767333984,
          -50.01167678833008,
          -15.027680397033691,
          -60.62681579589844,
          -50.473812103271484,
          22.943172454833984,
          -11.217218399047852,
          32.05144119262695,
          60.04492950439453,
          -22.637277603149414,
          -68.99182891845703,
          3.4301960468292236
         ],
         "yaxis": "y"
        },
        {
         "customdata": [
          [
           "Real Love"
          ],
          [
           "Woman"
          ],
          [
           "God"
          ],
          [
           "Imagine"
          ],
          [
           "Intuition"
          ],
          [
           "Working Class Hero"
          ],
          [
           "Watching The Wheels"
          ],
          [
           "Give Peace A Chance"
          ],
          [
           "Gimme Some Truth"
          ],
          [
           "Nobody Loves You (When You're Down And Out)"
          ],
          [
           "Instant Karma"
          ],
          [
           "Isolation"
          ],
          [
           "Whatever Gets You Through The Night"
          ],
          [
           "I Know (I Know)"
          ],
          [
           "Jealous Guy"
          ],
          [
           "Oh My Love"
          ],
          [
           "Stand By Me"
          ],
          [
           "Mother"
          ],
          [
           "(Just Like) Starting Over"
          ],
          [
           "Love"
          ],
          [
           "How do You Sleep?"
          ],
          [
           "Mind Games"
          ],
          [
           "In My Life"
          ],
          [
           "Beautiful Boy (Darling Boy)"
          ]
         ],
         "hovertemplate": "artista=John Lennon<br>x=%{x}<br>y=%{y}<br>musica=%{customdata[0]}<extra></extra>",
         "legendgroup": "John Lennon",
         "marker": {
          "color": "#ab63fa",
          "opacity": 0.5,
          "symbol": "circle"
         },
         "mode": "markers",
         "name": "John Lennon",
         "showlegend": true,
         "type": "scattergl",
         "x": [
          62.75205612182617,
          2.3642308712005615,
          -7.56376838684082,
          1.7188911437988281,
          23.961759567260742,
          -32.9958381652832,
          -39.12033462524414,
          7.7624311447143555,
          -25.056564331054688,
          25.058013916015625,
          50.3854866027832,
          -23.039499282836914,
          2.086946487426758,
          12.965819358825684,
          -1.460222840309143,
          1.718371868133545,
          -0.4341665208339691,
          -38.07488250732422,
          -17.42449378967285,
          47.8905143737793,
          13.258780479431152,
          32.35870361328125,
          26.399744033813477,
          36.33835220336914
         ],
         "xaxis": "x",
         "y": [
          28.688488006591797,
          -12.634720802307129,
          -36.07761001586914,
          -71.3939437866211,
          22.706205368041992,
          -16.48692512512207,
          -36.857215881347656,
          -19.791507720947266,
          -32.462249755859375,
          13.403182983398438,
          -30.316102981567383,
          2.337057590484619,
          52.41488265991211,
          -10.089619636535645,
          65.85643768310547,
          81.39794158935547,
          44.90949249267578,
          62.04803466796875,
          -8.477410316467285,
          50.21226119995117,
          32.92336654663086,
          14.979453086853027,
          -9.719408988952637,
          -9.063194274902344
         ],
         "yaxis": "y"
        },
        {
         "customdata": [
          [
           "Come Back To Bed"
          ],
          [
           "Slow Dancing In A Burning Room"
          ],
          [
           "Free Fallin'"
          ],
          [
           "Your Body Is A Wonderland"
          ],
          [
           "Gravity"
          ],
          [
           "Daughters"
          ],
          [
           "XO"
          ],
          [
           "Half Of My Heart"
          ],
          [
           "Never On The Day You Leave"
          ],
          [
           "3x5"
          ],
          [
           "Who Says"
          ],
          [
           "No Such Thing"
          ],
          [
           "Love Is a Verb"
          ],
          [
           "Waiting On The World To Change"
          ],
          [
           "New Light"
          ],
          [
           "Love On The Weekend"
          ],
          [
           "Say"
          ],
          [
           "Heartbreak Warfare"
          ],
          [
           "Stop This Train"
          ],
          [
           "I'm Gonna Find Another You"
          ],
          [
           "Edge Of Desire"
          ],
          [
           "I Guess I Just Feel Like"
          ],
          [
           "Still Feel Like Your Man"
          ],
          [
           "In Your Atmosphere"
          ],
          [
           "Who You Love (Feat. Katy Perry)"
          ]
         ],
         "hovertemplate": "artista=John Mayer<br>x=%{x}<br>y=%{y}<br>musica=%{customdata[0]}<extra></extra>",
         "legendgroup": "John Mayer",
         "marker": {
          "color": "#FFA15A",
          "opacity": 0.5,
          "symbol": "circle"
         },
         "mode": "markers",
         "name": "John Mayer",
         "showlegend": true,
         "type": "scattergl",
         "x": [
          -48.870147705078125,
          -34.984275817871094,
          7.295676231384277,
          56.465763092041016,
          30.013500213623047,
          -4.34389066696167,
          35.79061508178711,
          -30.548145294189453,
          15.339098930358887,
          -36.9282112121582,
          -6.550656318664551,
          51.361671447753906,
          -17.875364303588867,
          -11.720767974853516,
          -57.78554153442383,
          5.268226146697998,
          62.110958099365234,
          -8.722328186035156,
          -48.89887237548828,
          -10.73277759552002,
          -62.584495544433594,
          -8.95847225189209,
          3.7968244552612305,
          -10.006072998046875,
          22.595197677612305
         ],
         "xaxis": "x",
         "y": [
          -36.84124755859375,
          -17.729276657104492,
          59.89954376220703,
          -24.671953201293945,
          33.55670928955078,
          18.3160343170166,
          33.71976089477539,
          -20.888093948364258,
          -12.464601516723633,
          -38.72751235961914,
          1.9789936542510986,
          14.116609573364258,
          -56.44403839111328,
          -42.32122802734375,
          20.92563819885254,
          -69.59945678710938,
          28.718509674072266,
          -6.42862606048584,
          -35.5247917175293,
          -23.477340698242188,
          -12.408699035644531,
          -58.074806213378906,
          15.866778373718262,
          0.12334010750055313,
          -36.68765640258789
         ],
         "yaxis": "y"
        },
        {
         "customdata": [
          [
           "Company"
          ],
          [
           "Love Yourself"
          ],
          [
           "Stuck With U (With Ariana Grande)"
          ],
          [
           "Yummy"
          ],
          [
           "Sorry"
          ],
          [
           "Baby"
          ],
          [
           "Confident (Feat. Chance The Rapper)"
          ],
          [
           "Eenie Meenie"
          ],
          [
           "Never Say Never (feat. Jaden Smith)"
          ],
          [
           "Purpose"
          ],
          [
           "One Time"
          ],
          [
           "Love Me"
          ],
          [
           "Forever (Feat. Post Malone and Clever)"
          ],
          [
           "What Do You Mean?"
          ],
          [
           "As Long As You Love Me (feat. Big Sean)"
          ],
          [
           "Heartbreaker"
          ],
          [
           "E.T.A."
          ],
          [
           "All That Matters"
          ],
          [
           "Come Around Me"
          ],
          [
           "Baby (feat. Ludacris)"
          ],
          [
           "One Less Lonely Girl"
          ],
          [
           "Habitual"
          ],
          [
           "All Around Me"
          ],
          [
           "HOLY (Ft. Chance The Rapper)"
          ],
          [
           "Intentions (Ft. Quavo)"
          ]
         ],
         "hovertemplate": "artista=Justin Bieber<br>x=%{x}<br>y=%{y}<br>musica=%{customdata[0]}<extra></extra>",
         "legendgroup": "Justin Bieber",
         "marker": {
          "color": "#19d3f3",
          "opacity": 0.5,
          "symbol": "circle"
         },
         "mode": "markers",
         "name": "Justin Bieber",
         "showlegend": true,
         "type": "scattergl",
         "x": [
          -5.239480018615723,
          -33.01264190673828,
          -6.4234938621521,
          41.78617858886719,
          -21.31134033203125,
          -45.49840545654297,
          34.65373992919922,
          19.808382034301758,
          2.1620752811431885,
          18.424772262573242,
          56.050018310546875,
          0.9688462615013123,
          14.724050521850586,
          -15.883654594421387,
          21.608606338500977,
          -26.42314910888672,
          -15.528881072998047,
          16.796918869018555,
          1.093652367591858,
          -45.49907302856445,
          -36.89541244506836,
          41.42585754394531,
          -12.78320026397705,
          1.0747193098068237,
          -17.071914672851562
         ],
         "xaxis": "x",
         "y": [
          2.041076183319092,
          -13.168600082397461,
          47.362606048583984,
          16.478336334228516,
          17.656169891357422,
          53.35991668701172,
          8.594566345214844,
          19.948469161987305,
          82.7968978881836,
          -0.7601520419120789,
          -24.91908836364746,
          -4.00927209854126,
          32.533958435058594,
          3.792587995529175,
          -50.298221588134766,
          23.358095169067383,
          59.24684143066406,
          44.201812744140625,
          -4.586944103240967,
          53.36138153076172,
          33.48602294921875,
          11.844616889953613,
          45.493446350097656,
          52.37974166870117,
          59.08525848388672
         ],
         "yaxis": "y"
        },
        {
         "customdata": [
          [
           "Suit & Tie (Feat. Jay Z)"
          ],
          [
           "Like I Love You (feat. Clipse)"
          ],
          [
           "Perfect For Me"
          ],
          [
           "Take Back The Night"
          ],
          [
           "4 Minutes"
          ],
          [
           "Pusher Love Girl"
          ],
          [
           "Filthy"
          ],
          [
           "Rock Your Body"
          ],
          [
           "Señorita"
          ],
          [
           "(And She Said) Take Me Now (feat. Janet Jackson)"
          ],
          [
           "True Colors (Feat. Anna Kendrick)"
          ],
          [
           "Summer Love"
          ],
          [
           "Love Never Felt So Good"
          ],
          [
           "Not A Bad Thing"
          ],
          [
           "Don't Slack (With Anderson .Paak)"
          ],
          [
           "The Other Side (With SZA)"
          ],
          [
           "My Love (feat. T.I.)"
          ],
          [
           "TKO"
          ],
          [
           "SexyBack"
          ],
          [
           "Cry Me A River"
          ],
          [
           "Say Something (feat. Chris Stapleton)"
          ],
          [
           "What Goes Around.../...Comes Around (Interlude)"
          ],
          [
           "Can't Stop The Feeling"
          ],
          [
           "Mirrors"
          ],
          [
           "Apologize"
          ]
         ],
         "hovertemplate": "artista=Justin Timberlake<br>x=%{x}<br>y=%{y}<br>musica=%{customdata[0]}<extra></extra>",
         "legendgroup": "Justin Timberlake",
         "marker": {
          "color": "#FF6692",
          "opacity": 0.5,
          "symbol": "circle"
         },
         "mode": "markers",
         "name": "Justin Timberlake",
         "showlegend": true,
         "type": "scattergl",
         "x": [
          53.4675178527832,
          -15.313826560974121,
          -51.2826042175293,
          35.1263427734375,
          -17.4002742767334,
          -37.142398834228516,
          -15.697589874267578,
          -14.283058166503906,
          -23.398040771484375,
          -42.059226989746094,
          -0.5903955698013306,
          -14.255824089050293,
          26.995800018310547,
          -17.5020809173584,
          -25.851709365844727,
          -24.426673889160156,
          -59.719764709472656,
          9.164607048034668,
          6.841221809387207,
          -13.797248840332031,
          -28.306921005249023,
          -59.65965270996094,
          7.883647441864014,
          -22.150203704833984,
          -50.21498489379883
         ],
         "xaxis": "x",
         "y": [
          1.666676640510559,
          17.915414810180664,
          1.2573881149291992,
          34.12570571899414,
          16.244247436523438,
          36.962059020996094,
          16.51502799987793,
          14.289708137512207,
          34.200958251953125,
          -7.096704006195068,
          -50.199642181396484,
          33.295196533203125,
          52.34542465209961,
          0.08519979566335678,
          38.18613052368164,
          50.820560455322266,
          -39.581111907958984,
          27.370502471923828,
          70.53372192382812,
          18.125253677368164,
          -26.27737808227539,
          17.235048294067383,
          43.32590866088867,
          -61.189449310302734,
          41.07224655151367
         ],
         "yaxis": "y"
        },
        {
         "customdata": [
          [
           "Champagne Problems"
          ],
          [
           "Hot N' Cold"
          ],
          [
           "I Kissed A Girl"
          ],
          [
           "Teenage Dream"
          ],
          [
           "E.T. (feat. Kanye West)"
          ],
          [
           "Cry About It Later"
          ],
          [
           "The One That Got Away"
          ],
          [
           "Smile"
          ],
          [
           "Firework"
          ],
          [
           "Dark Horse (Feat. Juicy J)"
          ],
          [
           "Roar"
          ],
          [
           "California Gurls (feat. Snoop Dogg)"
          ],
          [
           "What Makes a Woman"
          ],
          [
           "Daisies"
          ],
          [
           "Last Friday Night (T.G.I.F.)"
          ],
          [
           "Birthday"
          ],
          [
           "Tucked"
          ],
          [
           "Only Love"
          ],
          [
           "Thinking Of You"
          ],
          [
           "Resilient"
          ],
          [
           "Part Of Me"
          ],
          [
           "Unconditionally"
          ],
          [
           "365 (With Zedd)"
          ],
          [
           "Not The End Of The World"
          ],
          [
           "Never Really Over"
          ]
         ],
         "hovertemplate": "artista=Katy Perry<br>x=%{x}<br>y=%{y}<br>musica=%{customdata[0]}<extra></extra>",
         "legendgroup": "Katy Perry",
         "marker": {
          "color": "#B6E880",
          "opacity": 0.5,
          "symbol": "circle"
         },
         "mode": "markers",
         "name": "Katy Perry",
         "showlegend": true,
         "type": "scattergl",
         "x": [
          50.17507553100586,
          -26.02389144897461,
          7.4646501541137695,
          28.35791778564453,
          35.82500076293945,
          -33.7794303894043,
          -62.117088317871094,
          -15.582674026489258,
          46.35782241821289,
          20.12656593322754,
          4.784319877624512,
          48.11195373535156,
          38.8978157043457,
          -39.10062026977539,
          51.58468246459961,
          -7.9399824142456055,
          36.796844482421875,
          47.46248245239258,
          -0.8477150201797485,
          9.430375099182129,
          25.19309425354004,
          -40.60095977783203,
          24.94246482849121,
          38.50983428955078,
          9.030271530151367
         ],
         "xaxis": "x",
         "y": [
          45.208126068115234,
          -53.43251037597656,
          -53.19721603393555,
          -3.48937726020813,
          2.672466516494751,
          2.4171345233917236,
          -15.252187728881836,
          20.26246452331543,
          -27.7432804107666,
          -18.414226531982422,
          18.7565975189209,
          -11.194704055786133,
          -6.119349479675293,
          -36.33803176879883,
          -24.139280319213867,
          -6.683980464935303,
          12.325007438659668,
          59.17036056518555,
          -41.29938888549805,
          17.842891693115234,
          0.5682110786437988,
          12.577656745910645,
          -27.109251022338867,
          34.226768493652344,
          -53.43829345703125
         ],
         "yaxis": "y"
        },
        {
         "customdata": [
          [
           "Free Woman"
          ],
          [
           "I'll Never Love Again"
          ],
          [
           "Always Remember Us This Way"
          ],
          [
           "Fun Tonight"
          ],
          [
           "Yoü And I"
          ],
          [
           "Plastic Doll"
          ],
          [
           "Paparazzi"
          ],
          [
           "Replay"
          ],
          [
           "Chromatica I"
          ],
          [
           "Enigma"
          ],
          [
           "Telephone (feat. Beyoncé)"
          ],
          [
           "Shallow (With Bradley Cooper)"
          ],
          [
           "911"
          ],
          [
           "1000 Doves"
          ],
          [
           "Stupid Love"
          ],
          [
           "Poker Face"
          ],
          [
           "Bad Romance"
          ],
          [
           "Alejandro"
          ],
          [
           "Born This Way"
          ],
          [
           "Sour Candy (with Blackpink)"
          ],
          [
           "Million Reasons"
          ],
          [
           "Sine From Above (with Elton John)"
          ],
          [
           "Alice"
          ],
          [
           "Rain On Me (With Ariana Grande)"
          ],
          [
           "Babylon"
          ]
         ],
         "hovertemplate": "artista=Lady Gaga<br>x=%{x}<br>y=%{y}<br>musica=%{customdata[0]}<extra></extra>",
         "legendgroup": "Lady Gaga",
         "marker": {
          "color": "#FF97FF",
          "opacity": 0.5,
          "symbol": "circle"
         },
         "mode": "markers",
         "name": "Lady Gaga",
         "showlegend": true,
         "type": "scattergl",
         "x": [
          -36.80451965332031,
          -81.68616485595703,
          -10.165797233581543,
          -51.44579315185547,
          59.587982177734375,
          -58.406028747558594,
          15.931121826171875,
          4.61817741394043,
          -74.70406341552734,
          2.398639678955078,
          3.0703699588775635,
          5.761761665344238,
          -55.918880462646484,
          -16.025127410888672,
          -30.92625617980957,
          -58.180023193359375,
          -3.6598873138427734,
          -3.591749906539917,
          44.342586517333984,
          39.03229522705078,
          -34.79304885864258,
          36.3158073425293,
          25.157398223876953,
          37.91869354248047,
          30.841819763183594
         ],
         "xaxis": "x",
         "y": [
          39.96957778930664,
          -33.277984619140625,
          -32.10764694213867,
          -0.10921107977628708,
          5.391178131103516,
          -42.81182861328125,
          52.634212493896484,
          40.40098571777344,
          -57.94585418701172,
          6.92918586730957,
          78.4141616821289,
          41.16128921508789,
          -43.037803649902344,
          56.51229476928711,
          49.25230026245117,
          -41.49543380737305,
          -30.72283172607422,
          -31.2354679107666,
          20.811098098754883,
          4.885715484619141,
          -32.06870651245117,
          5.429452896118164,
          25.40158462524414,
          30.028749465942383,
          -13.21001148223877
         ],
         "yaxis": "y"
        },
        {
         "customdata": [
          [
           "Summertime Sadness"
          ],
          [
           "Carmen"
          ],
          [
           "Hope is a dangerous thing for a woman like me to have - but I have it"
          ],
          [
           "Born To Die"
          ],
          [
           "Video Games"
          ],
          [
           "Happiness Is a Butterfly"
          ],
          [
           "Young And Beautiful"
          ],
          [
           "Blue Jeans"
          ],
          [
           "LA Who Am I to Love You?"
          ],
          [
           "Norman Fucking Rockwell"
          ],
          [
           "Lust For Life (Feat. The Weeknd)"
          ],
          [
           "Fuck It I Love You"
          ],
          [
           "Doin' Time"
          ],
          [
           "Cinnamon Girl"
          ],
          [
           "Cherry"
          ],
          [
           "West Coast"
          ],
          [
           "Love"
          ],
          [
           "Love Song"
          ],
          [
           "Mariners Apartment Complex"
          ],
          [
           "Ride"
          ],
          [
           "The Land of 1000 Fires"
          ],
          [
           "13 Beaches"
          ],
          [
           "Ride (Monologue)"
          ],
          [
           "Dark Paradise"
          ],
          [
           "Ultraviolence"
          ]
         ],
         "hovertemplate": "artista=Lana Del Rey<br>x=%{x}<br>y=%{y}<br>musica=%{customdata[0]}<extra></extra>",
         "legendgroup": "Lana Del Rey",
         "marker": {
          "color": "#FECB52",
          "opacity": 0.5,
          "symbol": "circle"
         },
         "mode": "markers",
         "name": "Lana Del Rey",
         "showlegend": true,
         "type": "scattergl",
         "x": [
          12.088850021362305,
          12.505871772766113,
          59.99966812133789,
          35.266632080078125,
          38.65280532836914,
          7.402813911437988,
          21.051280975341797,
          15.985856056213379,
          5.290787220001221,
          -8.805703163146973,
          26.243083953857422,
          -25.969392776489258,
          16.556827545166016,
          57.59859085083008,
          -63.29832458496094,
          28.902074813842773,
          -36.410037994384766,
          7.992711067199707,
          -1.08671236038208,
          11.50775146484375,
          59.4332275390625,
          -4.716543674468994,
          11.26911735534668,
          -61.323692321777344,
          -18.323055267333984
         ],
         "xaxis": "x",
         "y": [
          34.901309967041016,
          37.10407257080078,
          -1.3243381977081299,
          36.73878479003906,
          -68.95787048339844,
          42.71141052246094,
          -20.54913330078125,
          -12.041778564453125,
          40.29387283325195,
          -42.53512191772461,
          24.665061950683594,
          -1.8688721656799316,
          21.43274688720703,
          51.047122955322266,
          19.5954647064209,
          -2.9343488216400146,
          44.72659683227539,
          39.922122955322266,
          8.704102516174316,
          58.8851318359375,
          -23.205385208129883,
          -55.70276641845703,
          59.84070587158203,
          -31.580154418945312,
          -25.120040893554688
         ],
         "yaxis": "y"
        },
        {
         "customdata": [
          [
           "One"
          ],
          [
           "Someone You Loved"
          ],
          [
           "Before You Go"
          ],
          [
           "Bruises"
          ],
          [
           "Hold Me While You Wait"
          ],
          [
           "Grace"
          ],
          [
           "Forever"
          ],
          [
           "Maybe"
          ],
          [
           "Don't Get Me Wrong"
          ]
         ],
         "hovertemplate": "artista=Lewis Capaldi<br>x=%{x}<br>y=%{y}<br>musica=%{customdata[0]}<extra></extra>",
         "legendgroup": "Lewis Capaldi",
         "marker": {
          "color": "#636efa",
          "opacity": 0.5,
          "symbol": "circle"
         },
         "mode": "markers",
         "name": "Lewis Capaldi",
         "showlegend": true,
         "type": "scattergl",
         "x": [
          16.59208869934082,
          -42.68185806274414,
          19.610130310058594,
          -32.35478973388672,
          -27.37859344482422,
          -15.023395538330078,
          10.69520378112793,
          -37.2081184387207,
          -45.75087356567383
         ],
         "xaxis": "x",
         "y": [
          -12.141430854797363,
          -54.33821487426758,
          33.6064453125,
          -17.966110229492188,
          28.759279251098633,
          -46.75270462036133,
          -16.64834976196289,
          -28.814878463745117,
          7.157078742980957
         ],
         "yaxis": "y"
        },
        {
         "customdata": [
          [
           "Somewhere I Belong"
          ],
          [
           "Leave Out All The Rest"
          ],
          [
           "Crawling"
          ],
          [
           "Numb"
          ],
          [
           "In The End"
          ],
          [
           "Burn It Down"
          ],
          [
           "One More Light"
          ],
          [
           "In The End (demo Lpu 11)"
          ],
          [
           "Castle Of Glass"
          ],
          [
           "What I've Done"
          ],
          [
           "Faint"
          ],
          [
           "Papercut"
          ],
          [
           "Breaking The Habit"
          ],
          [
           "Waiting For The End"
          ],
          [
           "From The Inside"
          ],
          [
           "New Divide"
          ],
          [
           "One Step Closer"
          ],
          [
           "Heavy (feat. Kiiara)"
          ],
          [
           "A Place For My Head"
          ],
          [
           "Lying From You"
          ],
          [
           "Iridescent"
          ],
          [
           "Points Of Authority"
          ],
          [
           "Lost In The Echo"
          ],
          [
           "Shadow Of The Day"
          ],
          [
           "Talking To Myself"
          ]
         ],
         "hovertemplate": "artista=Linkin Park<br>x=%{x}<br>y=%{y}<br>musica=%{customdata[0]}<extra></extra>",
         "legendgroup": "Linkin Park",
         "marker": {
          "color": "#EF553B",
          "opacity": 0.5,
          "symbol": "circle"
         },
         "mode": "markers",
         "name": "Linkin Park",
         "showlegend": true,
         "type": "scattergl",
         "x": [
          -74.2448959350586,
          -29.347166061401367,
          23.470237731933594,
          -59.50621795654297,
          7.51603889465332,
          -22.49463653564453,
          11.153485298156738,
          5.163634300231934,
          54.899757385253906,
          12.44670581817627,
          -83.6223373413086,
          27.730674743652344,
          -36.71216583251953,
          -11.495969772338867,
          -62.05414581298828,
          60.62099075317383,
          -58.32596206665039,
          -27.094745635986328,
          -13.450050354003906,
          -34.028804779052734,
          -29.40554428100586,
          -8.046051979064941,
          -51.446746826171875,
          13.049036026000977,
          40.18214797973633
         ],
         "xaxis": "x",
         "y": [
          15.672736167907715,
          -7.9725661277771,
          70.12023162841797,
          -42.16050720214844,
          -52.482826232910156,
          -55.65980911254883,
          32.251895904541016,
          -53.53093719482422,
          -19.355175018310547,
          -59.322574615478516,
          3.9020464420318604,
          -1.503934621810913,
          0.4910660684108734,
          -41.30231475830078,
          -12.752201080322266,
          -24.903106689453125,
          15.341763496398926,
          -26.806283950805664,
          60.569862365722656,
          14.252073287963867,
          -44.44107437133789,
          58.481414794921875,
          -25.364707946777344,
          -5.087210655212402,
          -23.664447784423828
         ],
         "yaxis": "y"
        },
        {
         "customdata": [
          [
           "Eu Te Quero (Com Zeeba)"
          ]
         ],
         "hovertemplate": "artista=Manu Gavassi<br>x=%{x}<br>y=%{y}<br>musica=%{customdata[0]}<extra></extra>",
         "legendgroup": "Manu Gavassi",
         "marker": {
          "color": "#00cc96",
          "opacity": 0.5,
          "symbol": "circle"
         },
         "mode": "markers",
         "name": "Manu Gavassi",
         "showlegend": true,
         "type": "scattergl",
         "x": [
          38.624874114990234
         ],
         "xaxis": "x",
         "y": [
          -33.867919921875
         ],
         "yaxis": "y"
        },
        {
         "customdata": [
          [
           "This Love"
          ],
          [
           "Moves Like Jagger (feat. Christina Aguilera)"
          ],
          [
           "Nobody's Love"
          ],
          [
           "Animals"
          ],
          [
           "Payphone (Feat. Wiz Khalifa)"
          ],
          [
           "Maps"
          ],
          [
           "Don't Wanna Know (Feat. Kendrick Lamar)"
          ],
          [
           "Girls Like You"
          ],
          [
           "Cold (Feat. Future)"
          ],
          [
           "Love Somebody"
          ],
          [
           "What Lovers Do (feat. SZA)"
          ],
          [
           "Daylight"
          ],
          [
           "Lost Stars"
          ],
          [
           "Won't Go Home Without You"
          ],
          [
           "It Was Always You"
          ],
          [
           "Payphone (Non-Rap Version)"
          ],
          [
           "Best 4 U"
          ],
          [
           "Harder To Breathe"
          ],
          [
           "She Will Be Loved"
          ],
          [
           "One More Night"
          ],
          [
           "Sugar"
          ],
          [
           "Sunday Morning"
          ],
          [
           "Girls Like You (Feat. Cardi B)"
          ],
          [
           "Memories"
          ]
         ],
         "hovertemplate": "artista=Maroon 5<br>x=%{x}<br>y=%{y}<br>musica=%{customdata[0]}<extra></extra>",
         "legendgroup": "Maroon 5",
         "marker": {
          "color": "#ab63fa",
          "opacity": 0.5,
          "symbol": "circle"
         },
         "mode": "markers",
         "name": "Maroon 5",
         "showlegend": true,
         "type": "scattergl",
         "x": [
          -40.28656005859375,
          -14.315367698669434,
          37.07353591918945,
          12.507192611694336,
          -8.228616714477539,
          -13.304181098937988,
          -3.144209861755371,
          -51.41917419433594,
          -45.44332504272461,
          -37.267005920410156,
          77.62236785888672,
          -15.712067604064941,
          4.96927547454834,
          -14.551825523376465,
          15.680913925170898,
          -8.255058288574219,
          -62.49702453613281,
          10.82075023651123,
          -1.60236656665802,
          26.387142181396484,
          -46.68537139892578,
          -14.586627960205078,
          -51.42473220825195,
          18.492868423461914
         ],
         "xaxis": "x",
         "y": [
          -44.34218215942383,
          37.02066421508789,
          50.21759796142578,
          44.32295608520508,
          11.270235061645508,
          -68.24861907958984,
          67.14755249023438,
          49.63071823120117,
          21.060293197631836,
          0.009516052901744843,
          8.167228698730469,
          -16.959590911865234,
          -67.9048843383789,
          -18.478378295898438,
          4.03707218170166,
          11.287397384643555,
          0.3410389721393585,
          -0.8076480031013489,
          -52.983821868896484,
          -43.22407150268555,
          -13.183646202087402,
          -41.84165573120117,
          49.62782669067383,
          17.35387420654297
         ],
         "yaxis": "y"
        },
        {
         "customdata": [
          [
           "The Unforgiven"
          ],
          [
           "To Live Is To Die"
          ],
          [
           "Until It Sleeps"
          ],
          [
           "The Unforgiven Iii"
          ],
          [
           "Bleeding Me"
          ],
          [
           "Turn The Page"
          ],
          [
           "Of Wolf And Man"
          ],
          [
           "The Memory Remains"
          ],
          [
           "All Within My Hands"
          ],
          [
           "Fade To Black"
          ],
          [
           "Nothing Else Matters"
          ],
          [
           "The Call of Ktulu"
          ],
          [
           "For Whom The Bell Tolls"
          ],
          [
           "The Ecstasy Of Gold"
          ],
          [
           "Sad But True"
          ],
          [
           "Wherever I May Roam"
          ],
          [
           "The Unforgiven Ii"
          ],
          [
           "Whiskey In The Jar"
          ],
          [
           "One"
          ],
          [
           "Master Of Puppets"
          ],
          [
           "Enter Sandman"
          ],
          [
           "Creeping Death"
          ],
          [
           "Ride The Lightning"
          ],
          [
           "Fuel"
          ],
          [
           "Seek And Destroy"
          ]
         ],
         "hovertemplate": "artista=Metallica<br>x=%{x}<br>y=%{y}<br>musica=%{customdata[0]}<extra></extra>",
         "legendgroup": "Metallica",
         "marker": {
          "color": "#FFA15A",
          "opacity": 0.5,
          "symbol": "circle"
         },
         "mode": "markers",
         "name": "Metallica",
         "showlegend": true,
         "type": "scattergl",
         "x": [
          13.732353210449219,
          52.990257263183594,
          1.2704756259918213,
          8.959773063659668,
          -39.986751556396484,
          24.940807342529297,
          65.46820831298828,
          44.80658721923828,
          -15.460204124450684,
          7.715305805206299,
          52.70585632324219,
          -63.94466018676758,
          59.56207275390625,
          -75.22692108154297,
          -1.752815842628479,
          7.233425617218018,
          12.637406349182129,
          67.17804718017578,
          14.268794059753418,
          40.305965423583984,
          29.339954376220703,
          53.869895935058594,
          51.30772018432617,
          0.3743635416030884,
          40.81218719482422
         ],
         "xaxis": "x",
         "y": [
          -60.36495590209961,
          -38.56230926513672,
          -5.492893695831299,
          53.36253356933594,
          -38.99295425415039,
          -25.733240127563477,
          6.548336982727051,
          -48.56103515625,
          -67.1767349243164,
          -49.9342041015625,
          -67.10514068603516,
          20.616840362548828,
          -27.706100463867188,
          -57.68388366699219,
          9.144206047058105,
          18.63963508605957,
          -59.86679458618164,
          -19.9469051361084,
          -75.8231430053711,
          -55.29732894897461,
          -16.142545700073242,
          -29.404993057250977,
          -42.01548767089844,
          -12.142762184143066,
          -50.40785598754883
         ],
         "yaxis": "y"
        },
        {
         "customdata": [
          [
           "Man In The Mirror"
          ],
          [
           "Bad"
          ],
          [
           "The Way You Make Me Feel"
          ],
          [
           "Remember The Time"
          ],
          [
           "Ben"
          ],
          [
           "Love Never Felt So Good (Feat. Justin Timberlake)"
          ],
          [
           "Thriller"
          ],
          [
           "Billie Jean"
          ],
          [
           "Beat It"
          ],
          [
           "We Are The World"
          ],
          [
           "Black Or White"
          ],
          [
           "Don't Stop 'Til You Get Enough"
          ],
          [
           "Earth Song"
          ],
          [
           "Human Nature"
          ],
          [
           "Smooth Criminal"
          ],
          [
           "They Don't Care About Us"
          ],
          [
           "You Are Not Alone"
          ],
          [
           "Music And Me"
          ],
          [
           "Happy"
          ],
          [
           "Heal The World"
          ],
          [
           "I'll Be There"
          ],
          [
           "One Day In Your Life"
          ],
          [
           "I Just Can't Stop Loving You (feat. Siedah Garrett)"
          ],
          [
           "The Girl Is Mine (feat. Paul Mccartney)"
          ],
          [
           "Will You Be There"
          ]
         ],
         "hovertemplate": "artista=Michael Jackson<br>x=%{x}<br>y=%{y}<br>musica=%{customdata[0]}<extra></extra>",
         "legendgroup": "Michael Jackson",
         "marker": {
          "color": "#19d3f3",
          "opacity": 0.5,
          "symbol": "circle"
         },
         "mode": "markers",
         "name": "Michael Jackson",
         "showlegend": true,
         "type": "scattergl",
         "x": [
          59.804443359375,
          -35.28986358642578,
          -37.31855010986328,
          5.640674114227295,
          -36.666358947753906,
          26.89990234375,
          30.85720443725586,
          65.92507934570312,
          35.913002014160156,
          59.21257781982422,
          -29.100139617919922,
          -49.29560470581055,
          -17.01492691040039,
          6.726978302001953,
          60.714805603027344,
          9.1748046875,
          -1.9280726909637451,
          35.61135482788086,
          68.19002532958984,
          52.876365661621094,
          24.63797950744629,
          4.389833927154541,
          -24.50965690612793,
          30.328067779541016,
          -63.62857437133789
         ],
         "xaxis": "x",
         "y": [
          28.90394401550293,
          38.48957824707031,
          36.43399429321289,
          -74.51293182373047,
          21.36034393310547,
          52.2834358215332,
          -17.070585250854492,
          -16.55704116821289,
          51.051429748535156,
          -52.258872985839844,
          -17.263389587402344,
          -11.058148384094238,
          -23.77235984802246,
          -20.495290756225586,
          31.695419311523438,
          -39.474185943603516,
          -40.7550163269043,
          -40.93850326538086,
          -1.0087460279464722,
          -30.99234390258789,
          -52.519195556640625,
          -76.19718933105469,
          33.269859313964844,
          -20.464622497558594,
          20.134098052978516
         ],
         "yaxis": "y"
        },
        {
         "customdata": [
          [
           "Slide Away"
          ],
          [
           "Mother's Daughter"
          ],
          [
           "Malibu"
          ],
          [
           "Party In The U.S.A."
          ],
          [
           "We Can't Stop"
          ],
          [
           "Nothing Breaks Like a Heart"
          ],
          [
           "When I Look At You"
          ],
          [
           "Wrecking Ball"
          ],
          [
           "The Climb"
          ],
          [
           "Heart Of Glass"
          ],
          [
           "Midnight Sky"
          ],
          [
           "Adore You"
          ],
          [
           "7 Things"
          ],
          [
           "Butterfly Fly Away"
          ],
          [
           "Can't Be Tamed"
          ],
          [
           "You'll Always Find Your Way Back Home"
          ],
          [
           "Bad Karma"
          ],
          [
           "Adore You (Cedric Gervais Remix)"
          ],
          [
           "(Happy Xmas) War Is Over (Ft. Mark Ronson, Sean Ono Lennon)"
          ],
          [
           "Butterfly Fly Away (extended Version)"
          ],
          [
           "Jolene"
          ],
          [
           "True Friend"
          ],
          [
           "Ordinary Girl"
          ],
          [
           "I'll Always Remember You"
          ],
          [
           "Who Owns My Heart"
          ]
         ],
         "hovertemplate": "artista=Miley Cyrus<br>x=%{x}<br>y=%{y}<br>musica=%{customdata[0]}<extra></extra>",
         "legendgroup": "Miley Cyrus",
         "marker": {
          "color": "#FF6692",
          "opacity": 0.5,
          "symbol": "circle"
         },
         "mode": "markers",
         "name": "Miley Cyrus",
         "showlegend": true,
         "type": "scattergl",
         "x": [
          -0.2717418968677521,
          -82.20417022705078,
          -41.56909942626953,
          14.828222274780273,
          54.48316192626953,
          4.838675022125244,
          10.17717456817627,
          42.4725456237793,
          -17.171493530273438,
          43.90065002441406,
          -29.105070114135742,
          48.4459114074707,
          -19.88827133178711,
          -37.58841323852539,
          -84.27910614013672,
          -24.567975997924805,
          -12.18125057220459,
          48.45185852050781,
          42.086429595947266,
          -37.421409606933594,
          3.0509719848632812,
          -22.21920394897461,
          1.9579849243164062,
          -9.720556259155273,
          20.404813766479492
         ],
         "xaxis": "x",
         "y": [
          43.37936019897461,
          -9.745911598205566,
          -54.81050491333008,
          61.04207992553711,
          -67.66316223144531,
          1.1838477849960327,
          -43.1805419921875,
          -22.202470779418945,
          -27.466623306274414,
          50.595157623291016,
          68.1872329711914,
          29.677764892578125,
          11.770464897155762,
          20.29400062561035,
          4.127780914306641,
          -7.136094570159912,
          -31.456655502319336,
          29.67774200439453,
          11.54081916809082,
          20.976774215698242,
          56.70518493652344,
          -59.14069747924805,
          -31.157264709472656,
          1.1397669315338135,
          -52.52859878540039
         ],
         "yaxis": "y"
        },
        {
         "customdata": [
          [
           "Plateau"
          ],
          [
           "The Man Who Sold The World"
          ],
          [
           "Lithium"
          ],
          [
           "About A Girl"
          ],
          [
           "Something In The Way"
          ],
          [
           "Heart Shaped Box"
          ],
          [
           "Jesus Doesn't Want Me For A Sunbeam"
          ],
          [
           "Polly"
          ],
          [
           "In Bloom"
          ],
          [
           "Where Did You Sleep Last Night?"
          ],
          [
           "All Apologies"
          ],
          [
           "Rape Me"
          ],
          [
           "Serve The Servants"
          ],
          [
           "You Know You're Right"
          ],
          [
           "Pennyroyal Tea"
          ],
          [
           "Come As You Are"
          ],
          [
           "Sliver"
          ],
          [
           "Do Re Mi"
          ],
          [
           "Love Buzz"
          ],
          [
           "Drain You"
          ],
          [
           "On A Plain"
          ],
          [
           "Aero Zeppelin"
          ],
          [
           "Dumb"
          ],
          [
           "Breed"
          ],
          [
           "Smells Like Teen Spirit"
          ]
         ],
         "hovertemplate": "artista=Nirvana<br>x=%{x}<br>y=%{y}<br>musica=%{customdata[0]}<extra></extra>",
         "legendgroup": "Nirvana",
         "marker": {
          "color": "#B6E880",
          "opacity": 0.5,
          "symbol": "circle"
         },
         "mode": "markers",
         "name": "Nirvana",
         "showlegend": true,
         "type": "scattergl",
         "x": [
          36.59760665893555,
          52.67326354980469,
          -77.85960388183594,
          -60.24710464477539,
          9.991775512695312,
          59.924869537353516,
          -80.70270538330078,
          11.311869621276855,
          -53.35957336425781,
          62.55607604980469,
          3.385408639907837,
          30.25243377685547,
          46.37027359008789,
          -64.85972595214844,
          -65.85484313964844,
          40.463680267333984,
          -38.074153900146484,
          38.16767883300781,
          5.769507884979248,
          6.8349289894104,
          -60.63650131225586,
          45.8116569519043,
          11.196189880371094,
          -84.82494354248047,
          39.40732955932617
         ],
         "xaxis": "x",
         "y": [
          58.53139877319336,
          -6.288668155670166,
          17.626338958740234,
          -33.739078521728516,
          17.740310668945312,
          5.627997398376465,
          0.7625135183334351,
          -74.28571319580078,
          -52.980316162109375,
          -10.975564002990723,
          -71.53878021240234,
          -20.910642623901367,
          36.403045654296875,
          16.079681396484375,
          34.43518829345703,
          -53.23936462402344,
          21.57657814025879,
          -50.83323669433594,
          -12.27723503112793,
          90.16068267822266,
          -11.416145324707031,
          73.14704895019531,
          -37.0563850402832,
          4.282917499542236,
          4.605921268463135
         ],
         "yaxis": "y"
        },
        {
         "customdata": [
          [
           "Somebody"
          ],
          [
           "Paradise"
          ],
          [
           "Beautiful life"
          ],
          [
           "Dana Dana"
          ],
          [
           "Better"
          ],
          [
           "All Day"
          ],
          [
           "Come Together"
          ],
          [
           "Feel It Now"
          ],
          [
           "Who Would Think That Love"
          ],
          [
           "Summer in the City"
          ],
          [
           "Na na Na"
          ],
          [
           "The Weekend's Here"
          ],
          [
           "Chained Up"
          ],
          [
           "Paraná"
          ],
          [
           "By My Side"
          ]
         ],
         "hovertemplate": "artista=Now United<br>x=%{x}<br>y=%{y}<br>musica=%{customdata[0]}<extra></extra>",
         "legendgroup": "Now United",
         "marker": {
          "color": "#FF97FF",
          "opacity": 0.5,
          "symbol": "circle"
         },
         "mode": "markers",
         "name": "Now United",
         "showlegend": true,
         "type": "scattergl",
         "x": [
          -6.999361991882324,
          12.416278839111328,
          45.47209167480469,
          65.11614227294922,
          -8.979883193969727,
          -40.70314025878906,
          37.866764068603516,
          8.365738868713379,
          -41.04838562011719,
          3.048603057861328,
          40.92915344238281,
          32.48234176635742,
          -33.790130615234375,
          40.86358642578125,
          -23.047813415527344
         ],
         "xaxis": "x",
         "y": [
          19.00282859802246,
          37.71311950683594,
          -52.03952407836914,
          5.291059970855713,
          -20.705421447753906,
          -5.816180229187012,
          34.208011627197266,
          -51.89207077026367,
          13.008374214172363,
          -27.566326141357422,
          19.293256759643555,
          8.308182716369629,
          53.71078109741211,
          17.542943954467773,
          32.96389389038086
         ],
         "yaxis": "y"
        },
        {
         "customdata": [
          [
           "Songbird"
          ],
          [
           "(As Long As They've Got) Cigarettes In Hell"
          ],
          [
           "Roll With It"
          ],
          [
           "Some Might Say"
          ],
          [
           "Rock'n'Roll Star"
          ],
          [
           "Go Let It Out"
          ],
          [
           "Don't Stop..."
          ],
          [
           "Acquiesce"
          ],
          [
           "Cast No Shadow"
          ],
          [
           "(Get Off Your) High Horse Lady"
          ],
          [
           "(It's Good) To Be Free"
          ],
          [
           "Cigarettes & Alcohol"
          ],
          [
           "Little By Little"
          ],
          [
           "Let There Be Love"
          ],
          [
           "Whatever"
          ],
          [
           "Supersonic"
          ],
          [
           "Champagne Supernova"
          ],
          [
           "Stop Crying Your Heart Out"
          ],
          [
           "Don't Look Back In Anger"
          ],
          [
           "Slide Away"
          ],
          [
           "Wonderwall"
          ],
          [
           "Don't Go Away"
          ],
          [
           "Live Forever"
          ],
          [
           "All Around The World"
          ],
          [
           "Stand By Me"
          ]
         ],
         "hovertemplate": "artista=Oasis<br>x=%{x}<br>y=%{y}<br>musica=%{customdata[0]}<extra></extra>",
         "legendgroup": "Oasis",
         "marker": {
          "color": "#FECB52",
          "opacity": 0.5,
          "symbol": "circle"
         },
         "mode": "markers",
         "name": "Oasis",
         "showlegend": true,
         "type": "scattergl",
         "x": [
          16.51270294189453,
          -27.068340301513672,
          -70.5815658569336,
          -17.25855827331543,
          50.430702209472656,
          -26.38004493713379,
          -44.98607635498047,
          -8.578463554382324,
          33.83610916137695,
          11.69116497039795,
          21.939558029174805,
          66.36396789550781,
          42.26543045043945,
          6.089635372161865,
          7.506246566772461,
          -54.359649658203125,
          48.076541900634766,
          2.7706828117370605,
          -36.770484924316406,
          -16.488161087036133,
          7.276858806610107,
          29.20990753173828,
          -10.877120971679688,
          -78.70025634765625,
          22.998748779296875
         ],
         "xaxis": "x",
         "y": [
          -76.5489730834961,
          -31.47764015197754,
          8.670132637023926,
          -79.70911407470703,
          13.058771133422852,
          -40.81806564331055,
          -37.015811920166016,
          -36.90367126464844,
          61.016963958740234,
          58.22876739501953,
          41.03589630126953,
          -2.0884625911712646,
          -58.55708694458008,
          2.0470454692840576,
          89.9498291015625,
          -0.08324510604143143,
          -30.023029327392578,
          -17.679420471191406,
          -29.1523494720459,
          14.645404815673828,
          -39.66822814941406,
          -17.921653747558594,
          7.869854927062988,
          27.15848731994629,
          41.9344596862793
         ],
         "yaxis": "y"
        },
        {
         "customdata": [
          [
           "Moments"
          ],
          [
           "Walking in the Wind"
          ],
          [
           "Stockholm Syndrome"
          ],
          [
           "No Control"
          ],
          [
           "Over Again"
          ],
          [
           "End of The Day"
          ],
          [
           "One Thing"
          ],
          [
           "Steal My Girl"
          ],
          [
           "Midnight Memories"
          ],
          [
           "A.M"
          ],
          [
           "Best Song Ever"
          ],
          [
           "Olivia"
          ],
          [
           "Perfect"
          ],
          [
           "If I Could Fly"
          ],
          [
           "Diana"
          ],
          [
           "History"
          ],
          [
           "Little Things"
          ],
          [
           "You & I"
          ],
          [
           "Drag Me Down"
          ],
          [
           "18"
          ],
          [
           "What Makes You Beautiful"
          ],
          [
           "Story of My Life"
          ],
          [
           "Night Changes"
          ],
          [
           "Fool's Gold"
          ],
          [
           "Infinity"
          ]
         ],
         "hovertemplate": "artista=One Direction<br>x=%{x}<br>y=%{y}<br>musica=%{customdata[0]}<extra></extra>",
         "legendgroup": "One Direction",
         "marker": {
          "color": "#636efa",
          "opacity": 0.5,
          "symbol": "circle"
         },
         "mode": "markers",
         "name": "One Direction",
         "showlegend": true,
         "type": "scattergl",
         "x": [
          5.248157501220703,
          48.005523681640625,
          -1.9871087074279785,
          -48.31676483154297,
          -39.92989730834961,
          37.331024169921875,
          -39.6106071472168,
          7.784488677978516,
          -32.612060546875,
          -15.444426536560059,
          -52.7142219543457,
          -12.010539054870605,
          16.11253547668457,
          20.252132415771484,
          -63.51080322265625,
          -2.7498302459716797,
          -13.859376907348633,
          18.633649826049805,
          -35.50529861450195,
          57.02684783935547,
          -28.91605567932129,
          15.189704895019531,
          -16.269662857055664,
          19.043886184692383,
          3.6597139835357666
         ],
         "xaxis": "x",
         "y": [
          -75.23252868652344,
          -30.06532096862793,
          43.33341979980469,
          -34.957740783691406,
          -44.1656379699707,
          39.865867614746094,
          -19.195106506347656,
          20.667831420898438,
          14.429495811462402,
          -10.700579643249512,
          -22.336183547973633,
          43.67123794555664,
          -19.580730438232422,
          -53.0626335144043,
          13.352837562561035,
          -47.67372512817383,
          -67.66600036621094,
          -41.95733642578125,
          -21.62356185913086,
          4.075195789337158,
          3.890345573425293,
          -8.166443824768066,
          -0.4994938373565674,
          -1.005818486213684,
          37.24195098876953
         ],
         "yaxis": "y"
        },
        {
         "customdata": [
          [
           "Somebody To Love"
          ],
          [
           "Marchin' On"
          ],
          [
           "Wanted"
          ],
          [
           "Start Again (Feat. Logic)"
          ],
          [
           "Kids"
          ],
          [
           "Feel Again"
          ],
          [
           "Something I Need"
          ],
          [
           "Human"
          ],
          [
           "Wherever I Go"
          ],
          [
           "All The Right Moves"
          ],
          [
           "Love Runs Out"
          ],
          [
           "Stop and Stare"
          ],
          [
           "Let's Hurt Tonight"
          ],
          [
           "Didn't I"
          ],
          [
           "Better Days"
          ],
          [
           "Rescue Me"
          ],
          [
           "Say (All I Need)"
          ],
          [
           "If I Lose Myself"
          ],
          [
           "Good Life"
          ],
          [
           "Wild Life"
          ],
          [
           "I Lived"
          ],
          [
           "Secrets"
          ],
          [
           "Apologize"
          ],
          [
           "Counting Stars"
          ],
          [
           "Come Home (Feat. Sara Bareilles)"
          ]
         ],
         "hovertemplate": "artista=OneRepublic<br>x=%{x}<br>y=%{y}<br>musica=%{customdata[0]}<extra></extra>",
         "legendgroup": "OneRepublic",
         "marker": {
          "color": "#EF553B",
          "opacity": 0.5,
          "symbol": "circle"
         },
         "mode": "markers",
         "name": "OneRepublic",
         "showlegend": true,
         "type": "scattergl",
         "x": [
          24.727914810180664,
          23.171051025390625,
          -53.05359649658203,
          6.746711730957031,
          21.45655059814453,
          -10.9069185256958,
          -27.667522430419922,
          -18.37264633178711,
          -34.704689025878906,
          -30.588224411010742,
          -5.138910293579102,
          -27.916893005371094,
          -14.061285018920898,
          -12.580338478088379,
          16.146451950073242,
          6.234045028686523,
          29.390384674072266,
          -17.881385803222656,
          -22.15938949584961,
          1.9052026271820068,
          1.5552786588668823,
          -37.71527862548828,
          -50.21407699584961,
          33.153968811035156,
          8.713214874267578
         ],
         "xaxis": "x",
         "y": [
          -35.82392883300781,
          72.28672790527344,
          -63.15333557128906,
          17.310855865478516,
          -61.48299026489258,
          45.10566711425781,
          -8.070366859436035,
          -26.573715209960938,
          -29.535961151123047,
          -28.942462921142578,
          38.021175384521484,
          -26.804956436157227,
          21.678585052490234,
          36.68428039550781,
          32.6372184753418,
          56.21193313598633,
          -35.2238655090332,
          -10.020172119140625,
          1.3838473558425903,
          40.083534240722656,
          -31.99913787841797,
          -41.355350494384766,
          41.073246002197266,
          10.896868705749512,
          -40.814876556396484
         ],
         "yaxis": "y"
        },
        {
         "customdata": [
          [
           "Flash Pose (Ft. Charli XCX)"
          ]
         ],
         "hovertemplate": "artista=Pabllo Vittar<br>x=%{x}<br>y=%{y}<br>musica=%{customdata[0]}<extra></extra>",
         "legendgroup": "Pabllo Vittar",
         "marker": {
          "color": "#00cc96",
          "opacity": 0.5,
          "symbol": "circle"
         },
         "mode": "markers",
         "name": "Pabllo Vittar",
         "showlegend": true,
         "type": "scattergl",
         "x": [
          33.36043930053711
         ],
         "xaxis": "x",
         "y": [
          7.159524917602539
         ],
         "yaxis": "y"
        },
        {
         "customdata": [
          [
           "Daughter"
          ],
          [
           "Dance of the Clairvoyants"
          ],
          [
           "Who Ever Said"
          ],
          [
           "Future Days"
          ],
          [
           "Given to Fly"
          ],
          [
           "Superblood Wolfmoon"
          ],
          [
           "Oceans"
          ],
          [
           "Elderly Woman Behind the Counter in a Small Town"
          ],
          [
           "Nothingman"
          ],
          [
           "Smile"
          ],
          [
           "Do The Evolution"
          ],
          [
           "Release"
          ],
          [
           "Black"
          ],
          [
           "Last Kiss"
          ],
          [
           "Alive"
          ],
          [
           "Jeremy"
          ],
          [
           "Just Breathe"
          ],
          [
           "I Am Mine"
          ],
          [
           "Once"
          ],
          [
           "Light Years"
          ],
          [
           "Yellow Ledbetter"
          ],
          [
           "Better Man"
          ],
          [
           "Soldier Of Love"
          ],
          [
           "Sirens"
          ],
          [
           "Even Flow"
          ]
         ],
         "hovertemplate": "artista=Pearl Jam<br>x=%{x}<br>y=%{y}<br>musica=%{customdata[0]}<extra></extra>",
         "legendgroup": "Pearl Jam",
         "marker": {
          "color": "#ab63fa",
          "opacity": 0.5,
          "symbol": "circle"
         },
         "mode": "markers",
         "name": "Pearl Jam",
         "showlegend": true,
         "type": "scattergl",
         "x": [
          -51.30580139160156,
          11.340790748596191,
          24.820226669311523,
          41.17095184326172,
          7.040994644165039,
          53.79426956176758,
          -0.17256519198417664,
          -30.505069732666016,
          -9.55913257598877,
          13.473835945129395,
          35.97407913208008,
          -47.52449417114258,
          73.93367767333984,
          -49.517757415771484,
          10.988020896911621,
          43.548709869384766,
          20.61533546447754,
          31.116125106811523,
          -9.639330863952637,
          1.678834080696106,
          -52.19046401977539,
          14.957741737365723,
          6.337873935699463,
          -8.887038230895996,
          5.915609836578369
         ],
         "xaxis": "x",
         "y": [
          -26.127275466918945,
          -39.78564453125,
          24.08880615234375,
          -23.701480865478516,
          66.44099426269531,
          -2.0110461711883545,
          85.8624038696289,
          12.29134750366211,
          88.29337310791016,
          27.002864837646484,
          8.238884925842285,
          22.504457473754883,
          35.20749282836914,
          -25.86286735534668,
          61.50648498535156,
          -48.970069885253906,
          -49.28269958496094,
          -15.998636245727539,
          88.06322479248047,
          91.25667572021484,
          -22.285173416137695,
          80.23370361328125,
          90.67866516113281,
          -64.60017395019531,
          63.96416473388672
         ],
         "yaxis": "y"
        },
        {
         "customdata": [
          [
           "True Love (Feat. Lily Allen)"
          ],
          [
           "Dear Mr. President (feat. Indigo Girls)"
          ],
          [
           "Walk Me Home"
          ],
          [
           "Don't Let Me Get Me"
          ],
          [
           "U + Ur Hand"
          ],
          [
           "Trouble"
          ],
          [
           "I Am Here"
          ],
          [
           "90 Days (Feat. Wrabel)"
          ],
          [
           "(Hey Why) Miss You Sometime"
          ],
          [
           "Are We All We Are"
          ],
          [
           "Just Give Me A Reason (Feat. Nate Ruess)"
          ],
          [
           "A Million Dreams"
          ],
          [
           "F**kin' Perfect"
          ],
          [
           "Try"
          ],
          [
           "Who Knew"
          ],
          [
           "What About Us"
          ],
          [
           "Please Don't Leave Me"
          ],
          [
           "So What"
          ],
          [
           "Beautiful Trauma"
          ],
          [
           "Funhouse"
          ],
          [
           "Just Like Fire"
          ],
          [
           "Sober"
          ],
          [
           "Raise Your Glass"
          ],
          [
           "Blow Me (One Last Kiss)"
          ],
          [
           "Just Like A Pill"
          ]
         ],
         "hovertemplate": "artista=Pink<br>x=%{x}<br>y=%{y}<br>musica=%{customdata[0]}<extra></extra>",
         "legendgroup": "Pink",
         "marker": {
          "color": "#FFA15A",
          "opacity": 0.5,
          "symbol": "circle"
         },
         "mode": "markers",
         "name": "Pink",
         "showlegend": true,
         "type": "scattergl",
         "x": [
          -49.93642807006836,
          -15.941705703735352,
          -45.696231842041016,
          -80.8923568725586,
          -1.6892099380493164,
          -52.981117248535156,
          38.746337890625,
          52.0175895690918,
          33.10466384887695,
          51.519779205322266,
          -19.340408325195312,
          -20.546079635620117,
          19.352001190185547,
          -30.295270919799805,
          3.224090099334717,
          -16.783004760742188,
          -35.98884201049805,
          -35.97678756713867,
          60.7348518371582,
          -36.342918395996094,
          15.949263572692871,
          -0.5350452065467834,
          -2.541475772857666,
          -8.264348030090332,
          45.8862190246582
         ],
         "xaxis": "x",
         "y": [
          24.696552276611328,
          3.096928358078003,
          20.832557678222656,
          1.149593710899353,
          -8.032465934753418,
          -28.465158462524414,
          66.20844268798828,
          12.948288917541504,
          -27.48457145690918,
          45.471954345703125,
          -11.443219184875488,
          -54.18033981323242,
          -18.895706176757812,
          17.054187774658203,
          -43.79571533203125,
          -23.297897338867188,
          14.768589973449707,
          1.2308508157730103,
          -18.780839920043945,
          -31.56192398071289,
          38.78104782104492,
          43.807838439941406,
          -7.397527694702148,
          34.87806701660156,
          3.8374228477478027
         ],
         "yaxis": "y"
        },
        {
         "customdata": [
          [
           "Another Brick In The Wall, Pt. 2"
          ],
          [
           "On The Turning Away"
          ],
          [
           "Echoes"
          ],
          [
           "Pigs (Three Different Ones)"
          ],
          [
           "Us And Them"
          ],
          [
           "Eclipse"
          ],
          [
           "Brain Damage"
          ],
          [
           "High Hopes"
          ],
          [
           "The Great Gig in the Sky"
          ],
          [
           "Coming Back To Life"
          ],
          [
           "Goodbye Blue Sky"
          ],
          [
           "Shine On You Crazy Diamond"
          ],
          [
           "In the Flesh?"
          ],
          [
           "Money"
          ],
          [
           "Breathe"
          ],
          [
           "Mother"
          ],
          [
           "Another Brick In The Wall, pt. 1"
          ],
          [
           "Hey You"
          ],
          [
           "Time"
          ],
          [
           "The Wall (complete)"
          ],
          [
           "Comfortably Numb"
          ],
          [
           "Wish You Were Here"
          ],
          [
           "Another Brick In The Wall"
          ],
          [
           "Speak to Me"
          ],
          [
           "Learning To Fly"
          ]
         ],
         "hovertemplate": "artista=Pink Floyd<br>x=%{x}<br>y=%{y}<br>musica=%{customdata[0]}<extra></extra>",
         "legendgroup": "Pink Floyd",
         "marker": {
          "color": "#19d3f3",
          "opacity": 0.5,
          "symbol": "circle"
         },
         "mode": "markers",
         "name": "Pink Floyd",
         "showlegend": true,
         "type": "scattergl",
         "x": [
          75.8579330444336,
          59.53617858886719,
          52.814369201660156,
          2.328228712081909,
          57.254119873046875,
          11.08548355102539,
          9.370762825012207,
          69.24567413330078,
          7.235802173614502,
          17.987089157104492,
          2.9481406211853027,
          42.83917999267578,
          59.967777252197266,
          4.2646613121032715,
          2.896265745162964,
          0.01180762704461813,
          75.42030334472656,
          23.612279891967773,
          9.82145881652832,
          3.3649351596832275,
          -19.23448944091797,
          -13.220667839050293,
          75.5665512084961,
          22.350873947143555,
          51.48488235473633
         ],
         "xaxis": "x",
         "y": [
          30.514278411865234,
          -28.007221221923828,
          16.747461318969727,
          84.80252075195312,
          -38.88371276855469,
          -33.93212890625,
          85.22069549560547,
          -31.40472984313965,
          80.90839385986328,
          -7.291769981384277,
          81.57200622558594,
          18.414947509765625,
          29.3652400970459,
          81.4874038696289,
          86.32515716552734,
          81.47203063964844,
          31.677698135375977,
          -26.0599365234375,
          85.39717864990234,
          82.15469360351562,
          -49.91924285888672,
          70.66255950927734,
          31.26779556274414,
          74.72029876708984,
          -15.397323608398438
         ],
         "yaxis": "y"
        },
        {
         "customdata": [
          [
           "On the Road (feat. Meek Mill and Lil Baby)"
          ],
          [
           "Circles"
          ],
          [
           "Yours Truly, Austin Post"
          ],
          [
           "Big Lie"
          ],
          [
           "Sunflower (With Swae Lee)"
          ],
          [
           "I Fall Apart"
          ],
          [
           "Over Now"
          ],
          [
           "Congratulations"
          ],
          [
           "A Thousand Bad Times"
          ],
          [
           "Deja Vu (Feat. Justin Bieber)"
          ],
          [
           "Enemies (Feat. DaBaby)"
          ],
          [
           "Hollywood's Bleeding"
          ],
          [
           "Wow."
          ],
          [
           "White Iverson"
          ],
          [
           "Blame It On Me"
          ],
          [
           "Take What You Want (feat. Ozzy Osbourne and Travis Scott)"
          ],
          [
           "Goodbyes (Feat. Young Thug)"
          ],
          [
           "Rockstar (feat. 21 Savage)"
          ],
          [
           "Stay"
          ],
          [
           "Better Now"
          ],
          [
           "Go Flex"
          ],
          [
           "Die for Me (Feat. Future and Halsey)"
          ],
          [
           "Paranoid"
          ],
          [
           "Psycho (feat. Ty Dolla $ign)"
          ],
          [
           "Saint-Tropez"
          ]
         ],
         "hovertemplate": "artista=Post Malone<br>x=%{x}<br>y=%{y}<br>musica=%{customdata[0]}<extra></extra>",
         "legendgroup": "Post Malone",
         "marker": {
          "color": "#FF6692",
          "opacity": 0.5,
          "symbol": "circle"
         },
         "mode": "markers",
         "name": "Post Malone",
         "showlegend": true,
         "type": "scattergl",
         "x": [
          -14.478629112243652,
          -3.759784698486328,
          0.7205391526222229,
          3.993361473083496,
          -24.860530853271484,
          17.11141014099121,
          -5.706973552703857,
          46.063602447509766,
          -26.39593505859375,
          28.237030029296875,
          -4.192930221557617,
          -5.410247802734375,
          -27.666751861572266,
          6.449464797973633,
          -52.02880859375,
          26.772314071655273,
          -57.56977844238281,
          -16.18084144592285,
          -9.24671459197998,
          -10.624127388000488,
          54.22233200073242,
          -24.6118106842041,
          -27.09492301940918,
          49.48046112060547,
          -14.800342559814453
         ],
         "xaxis": "x",
         "y": [
          53.95368576049805,
          34.206172943115234,
          59.20538330078125,
          58.12014389038086,
          51.43916320800781,
          17.380895614624023,
          53.458404541015625,
          37.218101501464844,
          36.23652648925781,
          33.21036148071289,
          33.3679084777832,
          37.5723991394043,
          66.91716766357422,
          59.47505187988281,
          -1.5008927583694458,
          26.15018081665039,
          -34.987648010253906,
          58.77082824707031,
          36.626068115234375,
          43.79338073730469,
          13.670084953308105,
          37.856571197509766,
          -70.45559692382812,
          14.351162910461426,
          56.00008773803711
         ],
         "yaxis": "y"
        },
        {
         "customdata": [
          [
           "Love Of My Life"
          ],
          [
           "I Want To Break Free"
          ],
          [
           "We Are The Champions"
          ],
          [
           "The Show Must Go On"
          ],
          [
           "Somebody To Love"
          ],
          [
           "Another One Bites The Dust"
          ],
          [
           "A Kind Of Magic"
          ],
          [
           "Crazy Little Thing Called Love"
          ],
          [
           "Don't Stop Me Now"
          ],
          [
           "We Will Rock You"
          ],
          [
           "20th Century Fox Fanfare"
          ],
          [
           "Who Wants To Live Forever"
          ],
          [
           "Fun It"
          ],
          [
           "(You're So Square) Baby I Don't Care"
          ],
          [
           "Bohemian Rhapsody"
          ],
          [
           "Doing All Right"
          ],
          [
           "I Was Born To Love You"
          ],
          [
           "Bohemian Rhapsody (B-Sensual & No!end Bootleg)"
          ],
          [
           "Forever"
          ],
          [
           "You're My Best Friend"
          ],
          [
           "In The Space Capsule"
          ],
          [
           "A Winter's Tale (Cosy Fireside Mix)"
          ],
          [
           "Radio Ga Ga"
          ],
          [
           "Killer Queen"
          ],
          [
           "Under Pressure (feat. David Bowie)"
          ]
         ],
         "hovertemplate": "artista=Queen<br>x=%{x}<br>y=%{y}<br>musica=%{customdata[0]}<extra></extra>",
         "legendgroup": "Queen",
         "marker": {
          "color": "#B6E880",
          "opacity": 0.5,
          "symbol": "circle"
         },
         "mode": "markers",
         "name": "Queen",
         "showlegend": true,
         "type": "scattergl",
         "x": [
          0.6256561279296875,
          -56.33230972290039,
          69.62920379638672,
          63.43009948730469,
          2.4106295108795166,
          60.32876968383789,
          68.42962646484375,
          -22.64525032043457,
          -50.45573425292969,
          8.745046615600586,
          -74.29519653320312,
          45.75187301635742,
          -43.932945251464844,
          22.714155197143555,
          -36.205265045166016,
          -36.435665130615234,
          -12.078624725341797,
          -33.37782287597656,
          -75.23832702636719,
          -7.936237812042236,
          -74.8017807006836,
          68.91815948486328,
          44.332183837890625,
          44.3751220703125,
          1.2922741174697876
         ],
         "xaxis": "x",
         "y": [
          92.0873031616211,
          9.997068405151367,
          -32.682090759277344,
          -21.419998168945312,
          93.59313201904297,
          26.055614471435547,
          -32.874427795410156,
          4.516022205352783,
          -10.089886665344238,
          47.9916877746582,
          -57.01488494873047,
          48.6016960144043,
          37.564998626708984,
          44.35239791870117,
          15.305065155029297,
          -38.576690673828125,
          -70.90872192382812,
          14.80044174194336,
          -57.128971099853516,
          -21.622142791748047,
          -56.78422546386719,
          -29.661483764648438,
          -50.488468170166016,
          -49.4228401184082,
          92.00192260742188
         ],
         "yaxis": "y"
        },
        {
         "customdata": [
          [
           "Pussy"
          ]
         ],
         "hovertemplate": "artista=Rammstein<br>x=%{x}<br>y=%{y}<br>musica=%{customdata[0]}<extra></extra>",
         "legendgroup": "Rammstein",
         "marker": {
          "color": "#FF97FF",
          "opacity": 0.5,
          "symbol": "circle"
         },
         "mode": "markers",
         "name": "Rammstein",
         "showlegend": true,
         "type": "scattergl",
         "x": [
          -0.39475879073143005
         ],
         "xaxis": "x",
         "y": [
          65.70532989501953
         ],
         "yaxis": "y"
        },
        {
         "customdata": [
          [
           "Snow (Hey Oh)"
          ],
          [
           "Californication"
          ],
          [
           "Otherside"
          ],
          [
           "The Power Of Equality"
          ],
          [
           "Easily"
          ],
          [
           "Suck My Kiss"
          ],
          [
           "Encore"
          ],
          [
           "Higher Ground"
          ],
          [
           "Universally Speaking"
          ],
          [
           "Soul To Squeeze"
          ],
          [
           "The Getaway"
          ],
          [
           "Dosed"
          ],
          [
           "Tell Me Baby"
          ],
          [
           "The Zephyr Song"
          ],
          [
           "Goodbye Angels"
          ],
          [
           "Don't Forget Me"
          ],
          [
           "By The Way"
          ],
          [
           "Scar Tissue"
          ],
          [
           "Dark Necessities"
          ],
          [
           "Under The Bridge"
          ],
          [
           "Dani California"
          ],
          [
           "Give It Away"
          ],
          [
           "Around The World"
          ],
          [
           "Road Trippin'"
          ],
          [
           "Can't Stop"
          ]
         ],
         "hovertemplate": "artista=Red Hot Chili Peppers<br>x=%{x}<br>y=%{y}<br>musica=%{customdata[0]}<extra></extra>",
         "legendgroup": "Red Hot Chili Peppers",
         "marker": {
          "color": "#FECB52",
          "opacity": 0.5,
          "symbol": "circle"
         },
         "mode": "markers",
         "name": "Red Hot Chili Peppers",
         "showlegend": true,
         "type": "scattergl",
         "x": [
          -20.554752349853516,
          42.29349136352539,
          -33.525657653808594,
          39.90937805175781,
          52.646018981933594,
          11.062054634094238,
          0.5987513661384583,
          -63.62491226196289,
          0.9700321555137634,
          -21.154630661010742,
          60.23283386230469,
          -28.723085403442383,
          53.23991775512695,
          -11.390899658203125,
          -11.611340522766113,
          4.3076934814453125,
          -63.86088943481445,
          56.84775161743164,
          26.780731201171875,
          -43.83515167236328,
          13.353066444396973,
          22.52977752685547,
          3.184835910797119,
          10.731307029724121,
          56.02391815185547
         ],
         "xaxis": "x",
         "y": [
          1.1312016248703003,
          -54.383934020996094,
          -18.97903823852539,
          -54.187705993652344,
          -29.626989364624023,
          -74.92208862304688,
          -55.079715728759766,
          9.150537490844727,
          -9.85526180267334,
          -49.41415023803711,
          26.735952377319336,
          -6.972108840942383,
          -30.09483528137207,
          -72.31526947021484,
          -71.8101577758789,
          -69.20329284667969,
          8.236028671264648,
          -19.02254295349121,
          -26.89662742614746,
          -64.43890380859375,
          4.854631423950195,
          -20.30849838256836,
          -71.29561614990234,
          85.7876205444336,
          -19.354381561279297
         ],
         "yaxis": "y"
        },
        {
         "customdata": [
          [
           "Umbrella (feat. Jay Z)"
          ],
          [
           "Bitch Better Have My Money"
          ],
          [
           "Stay (feat. Mikky Ekko)"
          ],
          [
           "Take A Bow"
          ],
          [
           "Man Down"
          ],
          [
           "Needed Me"
          ],
          [
           "What's My Name (feat. Drake)"
          ],
          [
           "Only Girl (In The World)"
          ],
          [
           "We Found Love (feat. Calvin Harris)"
          ],
          [
           "Work (Feat. Drake)"
          ],
          [
           "Rude Boy"
          ],
          [
           "S&M"
          ],
          [
           "Don't Stop The Music"
          ],
          [
           "Love The Way You Lie"
          ],
          [
           "Kiss It Better"
          ],
          [
           "Rehab (feat. Justin Timberlake)"
          ],
          [
           "California King Bed"
          ],
          [
           "Where Have You Been"
          ],
          [
           "Consideration (feat. SZA)"
          ],
          [
           "Disturbia"
          ],
          [
           "If It's Lovin' That You Want"
          ],
          [
           "Hate That I Love You (feat. Ne-yo)"
          ],
          [
           "Unfaithful"
          ],
          [
           "Diamonds"
          ],
          [
           "Love On The Brain"
          ]
         ],
         "hovertemplate": "artista=Rihanna<br>x=%{x}<br>y=%{y}<br>musica=%{customdata[0]}<extra></extra>",
         "legendgroup": "Rihanna",
         "marker": {
          "color": "#636efa",
          "opacity": 0.5,
          "symbol": "circle"
         },
         "mode": "markers",
         "name": "Rihanna",
         "showlegend": true,
         "type": "scattergl",
         "x": [
          47.43541717529297,
          1.4698976278305054,
          -13.244690895080566,
          -13.733973503112793,
          -38.68886184692383,
          55.84162902832031,
          32.7845458984375,
          -3.993382692337036,
          64.26470184326172,
          -30.56803321838379,
          -45.88775634765625,
          36.848243713378906,
          -43.1661376953125,
          10.629716873168945,
          16.355485916137695,
          -33.04373550415039,
          51.82024002075195,
          31.69157600402832,
          0.8255835771560669,
          -16.857433319091797,
          -2.7586207389831543,
          -18.171146392822266,
          -55.43509292602539,
          20.17494773864746,
          -42.66972351074219
         ],
         "xaxis": "x",
         "y": [
          -10.89954662322998,
          -11.02101993560791,
          45.83197021484375,
          -26.773468017578125,
          16.503679275512695,
          1.8137474060058594,
          5.67656946182251,
          -12.683701515197754,
          -2.1771767139434814,
          16.84247589111328,
          -13.294949531555176,
          12.64871597290039,
          -37.793800354003906,
          -37.20796585083008,
          38.40803146362305,
          -14.18756103515625,
          -15.812464714050293,
          22.675933837890625,
          -8.40316104888916,
          -50.62416458129883,
          11.862665176391602,
          17.949506759643555,
          -34.26821517944336,
          -69.21897888183594,
          -7.689121246337891
         ],
         "yaxis": "y"
        },
        {
         "customdata": [
          [
           "People get ready"
          ],
          [
           "The First Cut Is The Deepest"
          ],
          [
           "What a Difference a Day Makes"
          ],
          [
           "Love Touch"
          ],
          [
           "Da Ya Think I'm Sexy (Feat. DNCE)"
          ],
          [
           "Some Guys Have All The Luck"
          ],
          [
           "You Are Everything"
          ],
          [
           "Have I Told You Lately"
          ],
          [
           "Fly Me To The Moon"
          ],
          [
           "Tonight's The Night"
          ],
          [
           "A Reason To Believe"
          ],
          [
           "All For Love"
          ],
          [
           "Baby Jane"
          ],
          [
           "Stop Loving Her Today"
          ],
          [
           "Forever Young"
          ],
          [
           "Maggie May"
          ],
          [
           "Every Beat Of My Heart"
          ],
          [
           "The Way You Look Tonight"
          ],
          [
           "You're In My Heart (The Final Acclaim)"
          ],
          [
           "Have You Ever Seen The Rain?"
          ],
          [
           "Sailing"
          ],
          [
           "I Don't Want To Talk About It"
          ],
          [
           "Young Turks"
          ],
          [
           "My Heart Can't Tell You No"
          ],
          [
           "It's A Heartache"
          ]
         ],
         "hovertemplate": "artista=Rod Stewart<br>x=%{x}<br>y=%{y}<br>musica=%{customdata[0]}<extra></extra>",
         "legendgroup": "Rod Stewart",
         "marker": {
          "color": "#EF553B",
          "opacity": 0.5,
          "symbol": "circle"
         },
         "mode": "markers",
         "name": "Rod Stewart",
         "showlegend": true,
         "type": "scattergl",
         "x": [
          41.79031753540039,
          -34.126914978027344,
          68.87252807617188,
          -9.19942855834961,
          24.430097579956055,
          -38.803199768066406,
          29.204570770263672,
          6.162245273590088,
          27.94375228881836,
          2.191065788269043,
          -30.200336456298828,
          7.859048366546631,
          -11.552577018737793,
          -9.195582389831543,
          21.856950759887695,
          -13.679950714111328,
          51.91065216064453,
          38.510093688964844,
          -22.819150924682617,
          -41.77989196777344,
          3.7402656078338623,
          0.4852867126464844,
          -15.250273704528809,
          -3.6355910301208496,
          -13.772562980651855
         ],
         "xaxis": "x",
         "y": [
          -57.688663482666016,
          -30.808177947998047,
          -28.97996711730957,
          -21.664371490478516,
          50.49123001098633,
          -45.68076705932617,
          -36.463905334472656,
          39.83432388305664,
          33.11341857910156,
          -9.808465003967285,
          5.905612945556641,
          -0.874148428440094,
          6.519268035888672,
          -7.575940132141113,
          -17.071338653564453,
          38.303924560546875,
          -39.72312927246094,
          -7.64741325378418,
          -60.8958740234375,
          13.237288475036621,
          6.111196041107178,
          83.5245590209961,
          -46.88346481323242,
          78.99053955078125,
          -27.227951049804688
         ],
         "yaxis": "y"
        },
        {
         "customdata": [
          [
           "Too Good At Goodbyes"
          ],
          [
           "I Feel Love"
          ],
          [
           "Diamonds"
          ],
          [
           "Burning"
          ],
          [
           "Money On My Mind"
          ],
          [
           "Latch"
          ],
          [
           "I'm Not The Only One (Feat. A$AP Rocky)"
          ],
          [
           "Say It First"
          ],
          [
           "Writing's On The Wall"
          ],
          [
           "Fix You"
          ],
          [
           "Baby, You Make Me Crazy (Feat. The Dap-Kings Horns)"
          ],
          [
           "I'm Ready (With Demi Lovato)"
          ],
          [
           "Promises"
          ],
          [
           "Him"
          ],
          [
           "I'm Not The Only One"
          ],
          [
           "To Die For"
          ],
          [
           "Lay Me Down"
          ],
          [
           "Pray"
          ],
          [
           "Pray (Feat. Logic) (Remix)"
          ],
          [
           "My Oasis (Ft. Burna Boy)"
          ],
          [
           "How Do You Sleep?"
          ],
          [
           "Fire on Fire"
          ],
          [
           "Dancing With A Stranger (With Normani)"
          ],
          [
           "Stay With Me"
          ],
          [
           "La La La"
          ]
         ],
         "hovertemplate": "artista=Sam Smith<br>x=%{x}<br>y=%{y}<br>musica=%{customdata[0]}<extra></extra>",
         "legendgroup": "Sam Smith",
         "marker": {
          "color": "#00cc96",
          "opacity": 0.5,
          "symbol": "circle"
         },
         "mode": "markers",
         "name": "Sam Smith",
         "showlegend": true,
         "type": "scattergl",
         "x": [
          -30.244417190551758,
          19.058366775512695,
          -57.29605484008789,
          52.498558044433594,
          -54.886173248291016,
          -10.184005737304688,
          15.523871421813965,
          15.832157135009766,
          25.134445190429688,
          -79.59149169921875,
          -57.563720703125,
          13.921442985534668,
          -2.693568468093872,
          7.504249095916748,
          15.362112998962402,
          -21.219924926757812,
          -8.549172401428223,
          -52.8759651184082,
          -52.31046676635742,
          29.461402893066406,
          -58.07221221923828,
          -1.9404499530792236,
          -9.793318748474121,
          -19.190690994262695,
          35.470237731933594
         ],
         "xaxis": "x",
         "y": [
          25.48116683959961,
          -47.42366027832031,
          33.104461669921875,
          -6.413700103759766,
          -32.85547637939453,
          -0.5910448431968689,
          -19.171405792236328,
          39.51341247558594,
          36.581878662109375,
          -17.34914779663086,
          20.04694938659668,
          7.419472694396973,
          -33.34870147705078,
          -26.277313232421875,
          -18.478946685791016,
          -55.53602600097656,
          -16.39558982849121,
          -0.44565314054489136,
          0.19499072432518005,
          -2.578167676925659,
          19.412317276000977,
          -51.39647674560547,
          -13.566771507263184,
          23.640663146972656,
          7.132082462310791
         ],
         "yaxis": "y"
        },
        {
         "customdata": [
          [
           "Falling In Love"
          ],
          [
           "Rhythm Of Love"
          ],
          [
           "Drive"
          ],
          [
           "In Trance"
          ],
          [
           "Big City Nights"
          ],
          [
           "Blackout"
          ],
          [
           "Believe In Love"
          ],
          [
           "Love Of My Life (cover)"
          ],
          [
           "When You Came Into My Life"
          ],
          [
           "Humanity"
          ],
          [
           "When The Smoke Is Going Down"
          ],
          [
           "Dust In The Wind (cover)"
          ],
          [
           "Rock You Like A Hurricane"
          ],
          [
           "Life Is Too Short"
          ],
          [
           "Follow Your Heart"
          ],
          [
           "Under The Same Sun"
          ],
          [
           "Holiday"
          ],
          [
           "Send Me An Angel"
          ],
          [
           "You And I"
          ],
          [
           "Always Somewhere"
          ],
          [
           "Still Loving You"
          ],
          [
           "Wind Of Change"
          ],
          [
           "No One Like You"
          ],
          [
           "The Zoo"
          ]
         ],
         "hovertemplate": "artista=Scorpions<br>x=%{x}<br>y=%{y}<br>musica=%{customdata[0]}<extra></extra>",
         "legendgroup": "Scorpions",
         "marker": {
          "color": "#ab63fa",
          "opacity": 0.5,
          "symbol": "circle"
         },
         "mode": "markers",
         "name": "Scorpions",
         "showlegend": true,
         "type": "scattergl",
         "x": [
          35.29924011230469,
          71.06928253173828,
          -4.909750938415527,
          -44.16130828857422,
          40.925079345703125,
          -52.958717346191406,
          -4.790948867797852,
          -2.5931382179260254,
          39.84834671020508,
          20.507734298706055,
          15.016085624694824,
          51.19814682006836,
          38.870731353759766,
          -19.629709243774414,
          5.830048084259033,
          23.76511001586914,
          -30.506664276123047,
          57.6962776184082,
          -62.20338821411133,
          11.240344047546387,
          -65.45646667480469,
          71.27396392822266,
          -14.671452522277832,
          22.467710494995117
         ],
         "xaxis": "x",
         "y": [
          -15.861721992492676,
          -34.55134201049805,
          46.54890441894531,
          -28.42342758178711,
          -5.661505699157715,
          -63.11417007446289,
          -11.601422309875488,
          -38.21712112426758,
          -16.221839904785156,
          -18.29128074645996,
          59.77984619140625,
          -42.51099395751953,
          -54.12690734863281,
          -55.050254821777344,
          -76.1026382446289,
          -27.621625900268555,
          26.695838928222656,
          -20.680133819580078,
          -14.530503273010254,
          -60.71235656738281,
          32.82726287841797,
          -31.66926383972168,
          -8.898255348205566,
          -61.83982849121094
         ],
         "yaxis": "y"
        },
        {
         "customdata": [
          [
           "Good for You (feat. A$AP Rocky)"
          ],
          [
           "Dance Again"
          ],
          [
           "Revival"
          ],
          [
           "Girl Crush (Feat. Iggy Azalea)"
          ],
          [
           "Crowded Room (feat. 6lack)"
          ],
          [
           "Sober"
          ],
          [
           "Ring"
          ],
          [
           "Live Like There's no Tomorrow"
          ],
          [
           "Back To You"
          ],
          [
           "Love You Like a Love Song"
          ],
          [
           "Boyfriend"
          ],
          [
           "Feel Me"
          ],
          [
           "Hands To Myself"
          ],
          [
           "Fetish (Feat. Gucci Mane)"
          ],
          [
           "Vulnerable"
          ],
          [
           "A Year Without Rain"
          ],
          [
           "Who Says"
          ],
          [
           "Look At Her Now"
          ],
          [
           "Souvenir"
          ],
          [
           "Wolves (Feat. Marshmello)"
          ],
          [
           "Rare"
          ],
          [
           "The Heart Wants What It Wants"
          ],
          [
           "Lose You To Love Me"
          ],
          [
           "A Sweeter Place (Ft. Kid Cudi)"
          ],
          [
           "Same Old Love"
          ]
         ],
         "hovertemplate": "artista=Selena Gomez<br>x=%{x}<br>y=%{y}<br>musica=%{customdata[0]}<extra></extra>",
         "legendgroup": "Selena Gomez",
         "marker": {
          "color": "#FFA15A",
          "opacity": 0.5,
          "symbol": "circle"
         },
         "mode": "markers",
         "name": "Selena Gomez",
         "showlegend": true,
         "type": "scattergl",
         "x": [
          0.5800633430480957,
          -34.498016357421875,
          71.30413818359375,
          -7.440389633178711,
          -44.29972839355469,
          22.570131301879883,
          -24.161575317382812,
          12.922436714172363,
          -43.20934295654297,
          -3.56947922706604,
          -63.39277267456055,
          -17.117874145507812,
          38.538230895996094,
          -25.585622787475586,
          4.903297424316406,
          -30.137968063354492,
          14.280837059020996,
          26.622556686401367,
          11.237006187438965,
          -41.08625793457031,
          -29.652162551879883,
          7.828254222869873,
          22.00173568725586,
          -0.730366051197052,
          18.968780517578125
         ],
         "xaxis": "x",
         "y": [
          53.986202239990234,
          38.59330368041992,
          -18.235261917114258,
          36.226539611816406,
          43.68663787841797,
          43.78608322143555,
          52.164493560791016,
          -30.017553329467773,
          -54.166603088378906,
          67.25635528564453,
          -12.672255516052246,
          19.376096725463867,
          -23.884437561035156,
          -2.3651490211486816,
          2.833545446395874,
          26.118806838989258,
          -24.360631942749023,
          7.281623363494873,
          -75.56476593017578,
          -55.07890319824219,
          4.019670009613037,
          7.383108615875244,
          -34.115814208984375,
          -17.84518814086914,
          3.8948917388916016
         ],
         "yaxis": "y"
        },
        {
         "customdata": [
          [
           "La La La (Brasil 2014) (Part. Carlinhos Brown)"
          ],
          [
           "Try Everything"
          ],
          [
           "Loca (feat. Dizzee Rascal)"
          ],
          [
           "Whenever, Wherever"
          ],
          [
           "Can't Remember To Forget You (Feat. Rihanna)"
          ],
          [
           "Waka Waka (This Time For Africa)"
          ],
          [
           "Super Bowl LIV Halftime Show (With Jennifer Lopez Ft. Bad Bunny, J Balvin)"
          ],
          [
           "Hips Don't Lie (feat. Wyclef Jean)"
          ]
         ],
         "hovertemplate": "artista=Shakira<br>x=%{x}<br>y=%{y}<br>musica=%{customdata[0]}<extra></extra>",
         "legendgroup": "Shakira",
         "marker": {
          "color": "#19d3f3",
          "opacity": 0.5,
          "symbol": "circle"
         },
         "mode": "markers",
         "name": "Shakira",
         "showlegend": true,
         "type": "scattergl",
         "x": [
          45.09846878051758,
          -51.050228118896484,
          -36.74303436279297,
          -24.842269897460938,
          -30.115768432617188,
          45.67193603515625,
          35.563594818115234,
          34.0749626159668
         ],
         "xaxis": "x",
         "y": [
          -51.48225021362305,
          -24.777498245239258,
          38.547813415527344,
          -7.153176307678223,
          -9.089876174926758,
          -49.4120979309082,
          7.819888591766357,
          7.0171003341674805
         ],
         "yaxis": "y"
        },
        {
         "customdata": [
          [
           "Wonder"
          ],
          [
           "No Promises"
          ],
          [
           "Youth (Feat. Khalid)"
          ],
          [
           "Bad Reputation"
          ],
          [
           "Life Of The Party"
          ],
          [
           "Roses"
          ],
          [
           "Nervous"
          ],
          [
           "Memories"
          ],
          [
           "Lost In Japan"
          ],
          [
           "I Know What You Did Last Summer (feat. Camila Cabello)"
          ],
          [
           "Fallin' All In You"
          ],
          [
           "Why"
          ],
          [
           "If I Can't Have You"
          ],
          [
           "Use Somebody"
          ],
          [
           "Imagination"
          ],
          [
           "In My Blood"
          ],
          [
           "Never Be Alone"
          ],
          [
           "Mercy"
          ],
          [
           "Stitches"
          ],
          [
           "Treat You Better"
          ],
          [
           "There's Nothing Holdin' Me Back"
          ],
          [
           "Señorita (With Camila Cabello)"
          ],
          [
           "Intro"
          ],
          [
           "Because I Had You"
          ],
          [
           "Like To Be You (Feat. Julia Michaels)"
          ]
         ],
         "hovertemplate": "artista=Shawn Mendes<br>x=%{x}<br>y=%{y}<br>musica=%{customdata[0]}<extra></extra>",
         "legendgroup": "Shawn Mendes",
         "marker": {
          "color": "#FF6692",
          "opacity": 0.5,
          "symbol": "circle"
         },
         "mode": "markers",
         "name": "Shawn Mendes",
         "showlegend": true,
         "type": "scattergl",
         "x": [
          -44.97475814819336,
          -60.095062255859375,
          20.877643585205078,
          -43.337303161621094,
          -6.488164901733398,
          -21.554641723632812,
          -22.749404907226562,
          -14.252971649169922,
          -56.65324401855469,
          -27.7971248626709,
          -15.068723678588867,
          -9.884918212890625,
          -69.6965560913086,
          12.718432426452637,
          20.925350189208984,
          -5.458568572998047,
          -63.967464447021484,
          -61.6591911315918,
          -28.238611221313477,
          -99.97151947021484,
          -16.707077026367188,
          35.78582000732422,
          -12.620715141296387,
          -7.73553466796875,
          -42.18718338012695
         ],
         "xaxis": "x",
         "y": [
          19.390655517578125,
          -45.164852142333984,
          -3.1181352138519287,
          3.776437282562256,
          3.406301975250244,
          2.615565776824951,
          5.029392719268799,
          -41.23917770385742,
          20.024005889892578,
          35.652976989746094,
          -1.102123737335205,
          36.91400146484375,
          0.09865342825651169,
          46.844635009765625,
          -49.81782531738281,
          -34.438289642333984,
          13.024646759033203,
          -38.845462799072266,
          -18.407243728637695,
          -102.8647689819336,
          -17.812929153442383,
          1.2245160341262817,
          -25.908262252807617,
          12.755976676940918,
          -41.052207946777344
         ],
         "yaxis": "y"
        },
        {
         "customdata": [
          [
           "Big Girls Cry"
          ],
          [
           "Broken Glass"
          ],
          [
           "My Love"
          ],
          [
           "One Million Bullets"
          ],
          [
           "Saved My Life"
          ],
          [
           "Fire Meet Gasoline"
          ],
          [
           "Move Your Body"
          ],
          [
           "Helium"
          ],
          [
           "I'm Still Here"
          ],
          [
           "Moon"
          ],
          [
           "Chandelier (Piano Version)"
          ],
          [
           "Flames (With David Guetta)"
          ],
          [
           "Never Give Up"
          ],
          [
           "She Wolf"
          ],
          [
           "Alive"
          ],
          [
           "Together"
          ],
          [
           "Courage To Change"
          ],
          [
           "Cheap Thrills (feat. Sean Paul)"
          ],
          [
           "Unstoppable"
          ],
          [
           "Elastic Heart"
          ],
          [
           "Chandelier"
          ],
          [
           "Bird Set Free"
          ],
          [
           "Cheap Thrills"
          ],
          [
           "The Greatest"
          ],
          [
           "Titanium"
          ]
         ],
         "hovertemplate": "artista=Sia<br>x=%{x}<br>y=%{y}<br>musica=%{customdata[0]}<extra></extra>",
         "legendgroup": "Sia",
         "marker": {
          "color": "#B6E880",
          "opacity": 0.5,
          "symbol": "circle"
         },
         "mode": "markers",
         "name": "Sia",
         "showlegend": true,
         "type": "scattergl",
         "x": [
          53.708255767822266,
          11.874439239501953,
          -1.7402184009552002,
          71.35388946533203,
          -75.30794525146484,
          38.47651290893555,
          2.5919835567474365,
          22.998476028442383,
          61.22810745239258,
          28.64609146118164,
          -35.735015869140625,
          -24.918710708618164,
          -5.445438861846924,
          -4.020802974700928,
          -73.90552520751953,
          34.45838165283203,
          68.94034576416016,
          -56.60831069946289,
          -76.13381958007812,
          -66.87046813964844,
          -35.73295593261719,
          -37.174076080322266,
          -56.467647552490234,
          -36.51699447631836,
          -52.451602935791016
         ],
         "xaxis": "x",
         "y": [
          -2.3169782161712646,
          6.904146194458008,
          -42.33800506591797,
          -18.213987350463867,
          -24.901935577392578,
          -49.42753219604492,
          -8.578286170959473,
          12.306735038757324,
          11.086565971374512,
          -27.46014976501465,
          -67.11038970947266,
          -38.24989700317383,
          53.48038864135742,
          -66.94364166259766,
          16.877498626708984,
          34.562984466552734,
          -3.1828014850616455,
          31.424131393432617,
          16.934371948242188,
          -11.42259407043457,
          -67.10942840576172,
          -14.703253746032715,
          31.278934478759766,
          43.10900115966797,
          -25.2612361907959
         ],
         "yaxis": "y"
        },
        {
         "customdata": [
          [
           "the last great american dynasty"
          ],
          [
           "All Too Well"
          ],
          [
           "epiphany"
          ],
          [
           "You Belong With Me"
          ],
          [
           "the lakes"
          ],
          [
           "hoax"
          ],
          [
           "I Knew You Were Trouble"
          ],
          [
           "Look What You Made Me Do"
          ],
          [
           "​mirrorball"
          ],
          [
           "Shake It Off"
          ],
          [
           "peace"
          ],
          [
           "illicit affairs"
          ],
          [
           "seven"
          ],
          [
           "my tears ricochet"
          ],
          [
           "cardigan"
          ],
          [
           "​betty"
          ],
          [
           "the 1"
          ],
          [
           "exile (Feat. Bon Iver)"
          ],
          [
           "mad woman"
          ],
          [
           "Lover"
          ],
          [
           "Love Story"
          ],
          [
           "august"
          ],
          [
           "this is me trying"
          ],
          [
           "Blank Space"
          ],
          [
           "invisible string"
          ]
         ],
         "hovertemplate": "artista=Taylor Swift<br>x=%{x}<br>y=%{y}<br>musica=%{customdata[0]}<extra></extra>",
         "legendgroup": "Taylor Swift",
         "marker": {
          "color": "#FF97FF",
          "opacity": 0.5,
          "symbol": "circle"
         },
         "mode": "markers",
         "name": "Taylor Swift",
         "showlegend": true,
         "type": "scattergl",
         "x": [
          30.8641414642334,
          13.632290840148926,
          -7.8461527824401855,
          -0.8467589020729065,
          -4.104755878448486,
          62.97120666503906,
          24.399761199951172,
          -19.802410125732422,
          52.72895050048828,
          23.316871643066406,
          4.971069812774658,
          60.14716720581055,
          7.688173770904541,
          61.237972259521484,
          49.349464416503906,
          68.30723571777344,
          -18.240137100219727,
          -29.14700698852539,
          -16.04962158203125,
          3.3356845378875732,
          -0.7349938154220581,
          57.53143310546875,
          -38.71326446533203,
          32.41035461425781,
          67.49613189697266
         ],
         "xaxis": "x",
         "y": [
          72.96559143066406,
          -9.63895320892334,
          58.32002639770508,
          -41.286373138427734,
          -66.8309326171875,
          -11.872160911560059,
          27.989944458007812,
          -29.094968795776367,
          3.78303599357605,
          13.756132125854492,
          2.063415765762329,
          9.788569450378418,
          -75.03853607177734,
          -8.57840633392334,
          -0.9110379815101624,
          -2.0755743980407715,
          -48.64504623413086,
          35.13661575317383,
          2.284637689590454,
          6.108370304107666,
          -51.8848991394043,
          27.309316635131836,
          -39.406253814697266,
          44.9898681640625,
          -19.61708641052246
         ],
         "yaxis": "y"
        },
        {
         "customdata": [
          [
           "While My Guitar Gently Weeps"
          ],
          [
           "Something"
          ],
          [
           "Here Comes The Sun"
          ],
          [
           "Hello, Goodbye"
          ],
          [
           "Eleanor Rigby"
          ],
          [
           "Come Together"
          ],
          [
           "A Day In The Life"
          ],
          [
           "In My Life"
          ],
          [
           "Hey Jude"
          ],
          [
           "Help!"
          ],
          [
           "I Want To Hold Your Hand"
          ],
          [
           "Yellow Submarine"
          ],
          [
           "Blackbird"
          ],
          [
           "All My Loving"
          ],
          [
           "Don't Let Me Down"
          ],
          [
           "Oh! Darling"
          ],
          [
           "Let It Be"
          ],
          [
           "She Loves You"
          ],
          [
           "All You Need Is Love"
          ],
          [
           "Across The Universe"
          ],
          [
           "And I Love Her"
          ],
          [
           "A Hard Day's Night"
          ],
          [
           "Yesterday"
          ],
          [
           "Michelle"
          ],
          [
           "Strawberry Fields Forever"
          ]
         ],
         "hovertemplate": "artista=The Beatles<br>x=%{x}<br>y=%{y}<br>musica=%{customdata[0]}<extra></extra>",
         "legendgroup": "The Beatles",
         "marker": {
          "color": "#FECB52",
          "opacity": 0.5,
          "symbol": "circle"
         },
         "mode": "markers",
         "name": "The Beatles",
         "showlegend": true,
         "type": "scattergl",
         "x": [
          1.1102913618087769,
          -81.37867736816406,
          16.338098526000977,
          -44.64444351196289,
          63.34727478027344,
          27.41934585571289,
          14.636738777160645,
          26.39948081970215,
          34.13640213012695,
          -35.62734603881836,
          -67.70027160644531,
          48.79426956176758,
          37.21099090576172,
          25.281940460205078,
          -20.25564193725586,
          -4.0736775398254395,
          -26.97828483581543,
          -50.45791244506836,
          49.927459716796875,
          1.362511157989502,
          73.8643798828125,
          4.552937984466553,
          13.24754810333252,
          -51.073646545410156,
          -28.751222610473633
         ],
         "xaxis": "x",
         "y": [
          -30.660362243652344,
          3.9937326908111572,
          21.75279426574707,
          21.66251564025879,
          -12.28175163269043,
          23.8884220123291,
          60.36430740356445,
          -9.719372749328613,
          6.106478214263916,
          -30.52387237548828,
          34.00836944580078,
          -10.74116039276123,
          -7.018856048583984,
          -52.975406646728516,
          34.078731536865234,
          79.08905792236328,
          -41.34847640991211,
          25.543590545654297,
          47.80461120605469,
          79.36265563964844,
          35.43825149536133,
          83.49789428710938,
          -41.642051696777344,
          -21.69265365600586,
          -29.769485473632812
         ],
         "yaxis": "y"
        },
        {
         "customdata": [
          [
           "Save Your Tears"
          ],
          [
           "Hardest To Love"
          ],
          [
           "After Hours"
          ],
          [
           "Alone Again"
          ],
          [
           "Too Late"
          ],
          [
           "Reminder"
          ],
          [
           "The Hills (Feat. Eminem) (Remix)"
          ],
          [
           "Pray For Me (With Kendrick Lamar)"
          ],
          [
           "Escape From LA"
          ],
          [
           "Often"
          ],
          [
           "Faith"
          ],
          [
           "In Your Eyes (Feat. Doja Cat) (Remix)"
          ],
          [
           "Can't Feel My Face"
          ],
          [
           "In Your Eyes"
          ],
          [
           "Over Now (With Calvin Harris)"
          ],
          [
           "I Feel It Coming (Feat. Daft Punk)"
          ],
          [
           "The Hills"
          ],
          [
           "Starboy (Feat. Daft Punk)"
          ],
          [
           "Call Out My Name"
          ],
          [
           "Smile (With Juice WRLD)"
          ],
          [
           "Try Me"
          ],
          [
           "Die For You"
          ],
          [
           "Heartless"
          ],
          [
           "Blinding Lights"
          ],
          [
           "Earned It"
          ]
         ],
         "hovertemplate": "artista=The Weeknd<br>x=%{x}<br>y=%{y}<br>musica=%{customdata[0]}<extra></extra>",
         "legendgroup": "The Weeknd",
         "marker": {
          "color": "#636efa",
          "opacity": 0.5,
          "symbol": "circle"
         },
         "mode": "markers",
         "name": "The Weeknd",
         "showlegend": true,
         "type": "scattergl",
         "x": [
          -21.663898468017578,
          -30.728975296020508,
          -11.352535247802734,
          -24.185304641723633,
          -29.815622329711914,
          13.719095230102539,
          2.059966802597046,
          60.533687591552734,
          25.60067367553711,
          10.77400016784668,
          6.307919502258301,
          -26.654144287109375,
          3.7304630279541016,
          -26.76998519897461,
          -30.755247116088867,
          -3.9619574546813965,
          2.1862051486968994,
          51.00797653198242,
          -7.816473960876465,
          -26.180299758911133,
          -27.069171905517578,
          -56.94203567504883,
          18.127517700195312,
          -56.421199798583984,
          21.42934226989746
         ],
         "xaxis": "x",
         "y": [
          24.73439598083496,
          47.94426727294922,
          44.38824462890625,
          34.638797760009766,
          68.79862976074219,
          31.700332641601562,
          29.427017211914062,
          -7.776453971862793,
          24.262516021728516,
          -16.77114486694336,
          18.559703826904297,
          49.16913604736328,
          43.2166748046875,
          49.254905700683594,
          48.5212516784668,
          -33.103939056396484,
          29.567453384399414,
          11.88331413269043,
          31.73720359802246,
          48.38812255859375,
          28.368824005126953,
          -9.760708808898926,
          18.958213806152344,
          -42.87406921386719,
          -36.341644287109375
         ],
         "yaxis": "y"
        },
        {
         "customdata": [
          [
           "With Or Without You"
          ],
          [
           "Mysterious Ways"
          ],
          [
           "Song For Someone"
          ],
          [
           "Lights Of Home"
          ],
          [
           "All I Want Is You"
          ],
          [
           "You're The Best Thing About Me"
          ],
          [
           "Bad"
          ],
          [
           "Stay (Faraway, So Close)"
          ],
          [
           "Vertigo"
          ],
          [
           "Every Breaking Wave"
          ],
          [
           "I Still Haven't Found What I'm Looking For"
          ],
          [
           "City Of Blinding Lights"
          ],
          [
           "Summer Of Love"
          ],
          [
           "Love Is All We Have Left"
          ],
          [
           "Sweetest Thing"
          ],
          [
           "One"
          ],
          [
           "Let Your Love Be Known"
          ],
          [
           "Beautiful Day"
          ],
          [
           "Sunday Bloody Sunday"
          ],
          [
           "Pride (In The Name Of Love)"
          ],
          [
           "New Year's Day"
          ],
          [
           "Where The Streets Have No Name"
          ],
          [
           "Stuck In A Moment You Can't Get Out Of"
          ],
          [
           "Ordinary Love"
          ],
          [
           "Walk On"
          ]
         ],
         "hovertemplate": "artista=U2<br>x=%{x}<br>y=%{y}<br>musica=%{customdata[0]}<extra></extra>",
         "legendgroup": "U2",
         "marker": {
          "color": "#EF553B",
          "opacity": 0.5,
          "symbol": "circle"
         },
         "mode": "markers",
         "name": "U2",
         "showlegend": true,
         "type": "scattergl",
         "x": [
          37.10220718383789,
          14.239402770996094,
          -10.818755149841309,
          20.115324020385742,
          23.163471221923828,
          60.8870964050293,
          3.2352969646453857,
          13.208602905273438,
          0.5849061012268066,
          50.455162048339844,
          -4.2857537269592285,
          -19.944089889526367,
          67.71592712402344,
          12.14120101928711,
          -2.498317241668701,
          22.4233455657959,
          10.035273551940918,
          -21.662904739379883,
          51.51778793334961,
          71.44866180419922,
          15.920389175415039,
          5.242866516113281,
          -45.295413970947266,
          -19.89628791809082,
          11.120367050170898
         ],
         "xaxis": "x",
         "y": [
          -49.81739807128906,
          80.75072479248047,
          -58.173091888427734,
          -10.818498611450195,
          -48.39484786987305,
          10.68450927734375,
          83.3633804321289,
          -37.60492706298828,
          -18.605937957763672,
          -24.87071990966797,
          -55.316444396972656,
          -47.423248291015625,
          -34.24643325805664,
          -31.512619018554688,
          84.18849182128906,
          -48.28993606567383,
          -36.532012939453125,
          -57.78107452392578,
          -39.059669494628906,
          -34.8195686340332,
          87.19462585449219,
          79.83916473388672,
          -46.605751037597656,
          -11.663238525390625,
          -34.186763763427734
         ],
         "yaxis": "y"
        },
        {
         "customdata": [
          [
           "I Look To You"
          ],
          [
           "I Have Nothing"
          ],
          [
           "I Will Always Love You"
          ],
          [
           "Things You Say"
          ],
          [
           "Exhale (Shoop Shoop)"
          ],
          [
           "We Didn't Know (feat. Stevie Wonder)"
          ],
          [
           "I Believe In You And Me"
          ],
          [
           "How Will I Know"
          ],
          [
           "Jesus Loves Me"
          ],
          [
           "One Moment In Time"
          ],
          [
           "I Wanna Dance With Somebody (Who Loves Me)"
          ],
          [
           "Run To You"
          ],
          [
           "It's Not Right But It's Okay"
          ],
          [
           "Saving All My Love For You"
          ],
          [
           "When You Believe (feat. Mariah Carey)"
          ],
          [
           "Didn't We Almost Have It All"
          ],
          [
           "You Give Good Love"
          ],
          [
           "Greatest Love Of All"
          ],
          [
           "Queen of the Night\" (Film Version)"
          ],
          [
           "Where Do Broken Hearts Go"
          ],
          [
           "All The Man That I Need"
          ],
          [
           "My Love Is Your Love"
          ],
          [
           "I'm Every Woman"
          ],
          [
           "I Didn't Know My Own Strength"
          ],
          [
           "Try It On My Own"
          ]
         ],
         "hovertemplate": "artista=Whitney Houston<br>x=%{x}<br>y=%{y}<br>musica=%{customdata[0]}<extra></extra>",
         "legendgroup": "Whitney Houston",
         "marker": {
          "color": "#00cc96",
          "opacity": 0.5,
          "symbol": "circle"
         },
         "mode": "markers",
         "name": "Whitney Houston",
         "showlegend": true,
         "type": "scattergl",
         "x": [
          0.7252867221832275,
          -82.18385314941406,
          -62.83759689331055,
          -37.3133659362793,
          -14.160457611083984,
          -9.464493751525879,
          42.15589141845703,
          -15.146450996398926,
          26.232481002807617,
          16.104631423950195,
          2.4110631942749023,
          -9.958219528198242,
          -60.87013626098633,
          18.30485725402832,
          15.51878833770752,
          -44.843257904052734,
          -12.600958824157715,
          16.985776901245117,
          -36.24619674682617,
          -17.169883728027344,
          23.827219009399414,
          6.498178482055664,
          -3.4026737213134766,
          -52.31414031982422,
          -49.654056549072266
         ],
         "xaxis": "x",
         "y": [
          -20.12587547302246,
          3.357330560684204,
          32.951873779296875,
          12.108733177185059,
          16.53395652770996,
          -56.31432342529297,
          -22.782907485961914,
          36.01485061645508,
          7.1415114402771,
          -6.688827991485596,
          -30.363239288330078,
          -21.75473403930664,
          15.601116180419922,
          3.3031716346740723,
          -36.71403121948242,
          -46.99102783203125,
          26.371734619140625,
          -76.61556243896484,
          2.054856538772583,
          -11.496076583862305,
          69.58833312988281,
          -1.1093487739562988,
          -33.025474548339844,
          -52.305931091308594,
          19.307422637939453
         ],
         "yaxis": "y"
        }
       ],
       "layout": {
        "legend": {
         "title": {
          "text": "artista"
         },
         "tracegroupgap": 0
        },
        "margin": {
         "t": 60
        },
        "template": {
         "data": {
          "bar": [
           {
            "error_x": {
             "color": "#2a3f5f"
            },
            "error_y": {
             "color": "#2a3f5f"
            },
            "marker": {
             "line": {
              "color": "#E5ECF6",
              "width": 0.5
             }
            },
            "type": "bar"
           }
          ],
          "barpolar": [
           {
            "marker": {
             "line": {
              "color": "#E5ECF6",
              "width": 0.5
             }
            },
            "type": "barpolar"
           }
          ],
          "carpet": [
           {
            "aaxis": {
             "endlinecolor": "#2a3f5f",
             "gridcolor": "white",
             "linecolor": "white",
             "minorgridcolor": "white",
             "startlinecolor": "#2a3f5f"
            },
            "baxis": {
             "endlinecolor": "#2a3f5f",
             "gridcolor": "white",
             "linecolor": "white",
             "minorgridcolor": "white",
             "startlinecolor": "#2a3f5f"
            },
            "type": "carpet"
           }
          ],
          "choropleth": [
           {
            "colorbar": {
             "outlinewidth": 0,
             "ticks": ""
            },
            "type": "choropleth"
           }
          ],
          "contour": [
           {
            "colorbar": {
             "outlinewidth": 0,
             "ticks": ""
            },
            "colorscale": [
             [
              0,
              "#0d0887"
             ],
             [
              0.1111111111111111,
              "#46039f"
             ],
             [
              0.2222222222222222,
              "#7201a8"
             ],
             [
              0.3333333333333333,
              "#9c179e"
             ],
             [
              0.4444444444444444,
              "#bd3786"
             ],
             [
              0.5555555555555556,
              "#d8576b"
             ],
             [
              0.6666666666666666,
              "#ed7953"
             ],
             [
              0.7777777777777778,
              "#fb9f3a"
             ],
             [
              0.8888888888888888,
              "#fdca26"
             ],
             [
              1,
              "#f0f921"
             ]
            ],
            "type": "contour"
           }
          ],
          "contourcarpet": [
           {
            "colorbar": {
             "outlinewidth": 0,
             "ticks": ""
            },
            "type": "contourcarpet"
           }
          ],
          "heatmap": [
           {
            "colorbar": {
             "outlinewidth": 0,
             "ticks": ""
            },
            "colorscale": [
             [
              0,
              "#0d0887"
             ],
             [
              0.1111111111111111,
              "#46039f"
             ],
             [
              0.2222222222222222,
              "#7201a8"
             ],
             [
              0.3333333333333333,
              "#9c179e"
             ],
             [
              0.4444444444444444,
              "#bd3786"
             ],
             [
              0.5555555555555556,
              "#d8576b"
             ],
             [
              0.6666666666666666,
              "#ed7953"
             ],
             [
              0.7777777777777778,
              "#fb9f3a"
             ],
             [
              0.8888888888888888,
              "#fdca26"
             ],
             [
              1,
              "#f0f921"
             ]
            ],
            "type": "heatmap"
           }
          ],
          "heatmapgl": [
           {
            "colorbar": {
             "outlinewidth": 0,
             "ticks": ""
            },
            "colorscale": [
             [
              0,
              "#0d0887"
             ],
             [
              0.1111111111111111,
              "#46039f"
             ],
             [
              0.2222222222222222,
              "#7201a8"
             ],
             [
              0.3333333333333333,
              "#9c179e"
             ],
             [
              0.4444444444444444,
              "#bd3786"
             ],
             [
              0.5555555555555556,
              "#d8576b"
             ],
             [
              0.6666666666666666,
              "#ed7953"
             ],
             [
              0.7777777777777778,
              "#fb9f3a"
             ],
             [
              0.8888888888888888,
              "#fdca26"
             ],
             [
              1,
              "#f0f921"
             ]
            ],
            "type": "heatmapgl"
           }
          ],
          "histogram": [
           {
            "marker": {
             "colorbar": {
              "outlinewidth": 0,
              "ticks": ""
             }
            },
            "type": "histogram"
           }
          ],
          "histogram2d": [
           {
            "colorbar": {
             "outlinewidth": 0,
             "ticks": ""
            },
            "colorscale": [
             [
              0,
              "#0d0887"
             ],
             [
              0.1111111111111111,
              "#46039f"
             ],
             [
              0.2222222222222222,
              "#7201a8"
             ],
             [
              0.3333333333333333,
              "#9c179e"
             ],
             [
              0.4444444444444444,
              "#bd3786"
             ],
             [
              0.5555555555555556,
              "#d8576b"
             ],
             [
              0.6666666666666666,
              "#ed7953"
             ],
             [
              0.7777777777777778,
              "#fb9f3a"
             ],
             [
              0.8888888888888888,
              "#fdca26"
             ],
             [
              1,
              "#f0f921"
             ]
            ],
            "type": "histogram2d"
           }
          ],
          "histogram2dcontour": [
           {
            "colorbar": {
             "outlinewidth": 0,
             "ticks": ""
            },
            "colorscale": [
             [
              0,
              "#0d0887"
             ],
             [
              0.1111111111111111,
              "#46039f"
             ],
             [
              0.2222222222222222,
              "#7201a8"
             ],
             [
              0.3333333333333333,
              "#9c179e"
             ],
             [
              0.4444444444444444,
              "#bd3786"
             ],
             [
              0.5555555555555556,
              "#d8576b"
             ],
             [
              0.6666666666666666,
              "#ed7953"
             ],
             [
              0.7777777777777778,
              "#fb9f3a"
             ],
             [
              0.8888888888888888,
              "#fdca26"
             ],
             [
              1,
              "#f0f921"
             ]
            ],
            "type": "histogram2dcontour"
           }
          ],
          "mesh3d": [
           {
            "colorbar": {
             "outlinewidth": 0,
             "ticks": ""
            },
            "type": "mesh3d"
           }
          ],
          "parcoords": [
           {
            "line": {
             "colorbar": {
              "outlinewidth": 0,
              "ticks": ""
             }
            },
            "type": "parcoords"
           }
          ],
          "pie": [
           {
            "automargin": true,
            "type": "pie"
           }
          ],
          "scatter": [
           {
            "marker": {
             "colorbar": {
              "outlinewidth": 0,
              "ticks": ""
             }
            },
            "type": "scatter"
           }
          ],
          "scatter3d": [
           {
            "line": {
             "colorbar": {
              "outlinewidth": 0,
              "ticks": ""
             }
            },
            "marker": {
             "colorbar": {
              "outlinewidth": 0,
              "ticks": ""
             }
            },
            "type": "scatter3d"
           }
          ],
          "scattercarpet": [
           {
            "marker": {
             "colorbar": {
              "outlinewidth": 0,
              "ticks": ""
             }
            },
            "type": "scattercarpet"
           }
          ],
          "scattergeo": [
           {
            "marker": {
             "colorbar": {
              "outlinewidth": 0,
              "ticks": ""
             }
            },
            "type": "scattergeo"
           }
          ],
          "scattergl": [
           {
            "marker": {
             "colorbar": {
              "outlinewidth": 0,
              "ticks": ""
             }
            },
            "type": "scattergl"
           }
          ],
          "scattermapbox": [
           {
            "marker": {
             "colorbar": {
              "outlinewidth": 0,
              "ticks": ""
             }
            },
            "type": "scattermapbox"
           }
          ],
          "scatterpolar": [
           {
            "marker": {
             "colorbar": {
              "outlinewidth": 0,
              "ticks": ""
             }
            },
            "type": "scatterpolar"
           }
          ],
          "scatterpolargl": [
           {
            "marker": {
             "colorbar": {
              "outlinewidth": 0,
              "ticks": ""
             }
            },
            "type": "scatterpolargl"
           }
          ],
          "scatterternary": [
           {
            "marker": {
             "colorbar": {
              "outlinewidth": 0,
              "ticks": ""
             }
            },
            "type": "scatterternary"
           }
          ],
          "surface": [
           {
            "colorbar": {
             "outlinewidth": 0,
             "ticks": ""
            },
            "colorscale": [
             [
              0,
              "#0d0887"
             ],
             [
              0.1111111111111111,
              "#46039f"
             ],
             [
              0.2222222222222222,
              "#7201a8"
             ],
             [
              0.3333333333333333,
              "#9c179e"
             ],
             [
              0.4444444444444444,
              "#bd3786"
             ],
             [
              0.5555555555555556,
              "#d8576b"
             ],
             [
              0.6666666666666666,
              "#ed7953"
             ],
             [
              0.7777777777777778,
              "#fb9f3a"
             ],
             [
              0.8888888888888888,
              "#fdca26"
             ],
             [
              1,
              "#f0f921"
             ]
            ],
            "type": "surface"
           }
          ],
          "table": [
           {
            "cells": {
             "fill": {
              "color": "#EBF0F8"
             },
             "line": {
              "color": "white"
             }
            },
            "header": {
             "fill": {
              "color": "#C8D4E3"
             },
             "line": {
              "color": "white"
             }
            },
            "type": "table"
           }
          ]
         },
         "layout": {
          "annotationdefaults": {
           "arrowcolor": "#2a3f5f",
           "arrowhead": 0,
           "arrowwidth": 1
          },
          "coloraxis": {
           "colorbar": {
            "outlinewidth": 0,
            "ticks": ""
           }
          },
          "colorscale": {
           "diverging": [
            [
             0,
             "#8e0152"
            ],
            [
             0.1,
             "#c51b7d"
            ],
            [
             0.2,
             "#de77ae"
            ],
            [
             0.3,
             "#f1b6da"
            ],
            [
             0.4,
             "#fde0ef"
            ],
            [
             0.5,
             "#f7f7f7"
            ],
            [
             0.6,
             "#e6f5d0"
            ],
            [
             0.7,
             "#b8e186"
            ],
            [
             0.8,
             "#7fbc41"
            ],
            [
             0.9,
             "#4d9221"
            ],
            [
             1,
             "#276419"
            ]
           ],
           "sequential": [
            [
             0,
             "#0d0887"
            ],
            [
             0.1111111111111111,
             "#46039f"
            ],
            [
             0.2222222222222222,
             "#7201a8"
            ],
            [
             0.3333333333333333,
             "#9c179e"
            ],
            [
             0.4444444444444444,
             "#bd3786"
            ],
            [
             0.5555555555555556,
             "#d8576b"
            ],
            [
             0.6666666666666666,
             "#ed7953"
            ],
            [
             0.7777777777777778,
             "#fb9f3a"
            ],
            [
             0.8888888888888888,
             "#fdca26"
            ],
            [
             1,
             "#f0f921"
            ]
           ],
           "sequentialminus": [
            [
             0,
             "#0d0887"
            ],
            [
             0.1111111111111111,
             "#46039f"
            ],
            [
             0.2222222222222222,
             "#7201a8"
            ],
            [
             0.3333333333333333,
             "#9c179e"
            ],
            [
             0.4444444444444444,
             "#bd3786"
            ],
            [
             0.5555555555555556,
             "#d8576b"
            ],
            [
             0.6666666666666666,
             "#ed7953"
            ],
            [
             0.7777777777777778,
             "#fb9f3a"
            ],
            [
             0.8888888888888888,
             "#fdca26"
            ],
            [
             1,
             "#f0f921"
            ]
           ]
          },
          "colorway": [
           "#636efa",
           "#EF553B",
           "#00cc96",
           "#ab63fa",
           "#FFA15A",
           "#19d3f3",
           "#FF6692",
           "#B6E880",
           "#FF97FF",
           "#FECB52"
          ],
          "font": {
           "color": "#2a3f5f"
          },
          "geo": {
           "bgcolor": "white",
           "lakecolor": "white",
           "landcolor": "#E5ECF6",
           "showlakes": true,
           "showland": true,
           "subunitcolor": "white"
          },
          "hoverlabel": {
           "align": "left"
          },
          "hovermode": "closest",
          "mapbox": {
           "style": "light"
          },
          "paper_bgcolor": "white",
          "plot_bgcolor": "#E5ECF6",
          "polar": {
           "angularaxis": {
            "gridcolor": "white",
            "linecolor": "white",
            "ticks": ""
           },
           "bgcolor": "#E5ECF6",
           "radialaxis": {
            "gridcolor": "white",
            "linecolor": "white",
            "ticks": ""
           }
          },
          "scene": {
           "xaxis": {
            "backgroundcolor": "#E5ECF6",
            "gridcolor": "white",
            "gridwidth": 2,
            "linecolor": "white",
            "showbackground": true,
            "ticks": "",
            "zerolinecolor": "white"
           },
           "yaxis": {
            "backgroundcolor": "#E5ECF6",
            "gridcolor": "white",
            "gridwidth": 2,
            "linecolor": "white",
            "showbackground": true,
            "ticks": "",
            "zerolinecolor": "white"
           },
           "zaxis": {
            "backgroundcolor": "#E5ECF6",
            "gridcolor": "white",
            "gridwidth": 2,
            "linecolor": "white",
            "showbackground": true,
            "ticks": "",
            "zerolinecolor": "white"
           }
          },
          "shapedefaults": {
           "line": {
            "color": "#2a3f5f"
           }
          },
          "ternary": {
           "aaxis": {
            "gridcolor": "white",
            "linecolor": "white",
            "ticks": ""
           },
           "baxis": {
            "gridcolor": "white",
            "linecolor": "white",
            "ticks": ""
           },
           "bgcolor": "#E5ECF6",
           "caxis": {
            "gridcolor": "white",
            "linecolor": "white",
            "ticks": ""
           }
          },
          "title": {
           "x": 0.05
          },
          "xaxis": {
           "automargin": true,
           "gridcolor": "white",
           "linecolor": "white",
           "ticks": "",
           "title": {
            "standoff": 15
           },
           "zerolinecolor": "white",
           "zerolinewidth": 2
          },
          "yaxis": {
           "automargin": true,
           "gridcolor": "white",
           "linecolor": "white",
           "ticks": "",
           "title": {
            "standoff": 15
           },
           "zerolinecolor": "white",
           "zerolinewidth": 2
          }
         }
        },
        "xaxis": {
         "anchor": "y",
         "domain": [
          0,
          1
         ],
         "title": {
          "text": "x"
         }
        },
        "yaxis": {
         "anchor": "x",
         "domain": [
          0,
          1
         ],
         "title": {
          "text": "y"
         }
        }
       }
      },
      "text/html": [
       "<div>                            <div id=\"803733bd-c5e4-4b9d-aee2-58b61752b7c8\" class=\"plotly-graph-div\" style=\"height:525px; width:100%;\"></div>            <script type=\"text/javascript\">                require([\"plotly\"], function(Plotly) {                    window.PLOTLYENV=window.PLOTLYENV || {};                                    if (document.getElementById(\"803733bd-c5e4-4b9d-aee2-58b61752b7c8\")) {                    Plotly.newPlot(                        \"803733bd-c5e4-4b9d-aee2-58b61752b7c8\",                        [{\"customdata\": [[\"Let Go\"]], \"hovertemplate\": \"artista=-M- (Mathieu Chedid)<br>x=%{x}<br>y=%{y}<br>musica=%{customdata[0]}<extra></extra>\", \"legendgroup\": \"-M- (Mathieu Chedid)\", \"marker\": {\"color\": \"#636efa\", \"opacity\": 0.5, \"symbol\": \"circle\"}, \"mode\": \"markers\", \"name\": \"-M- (Mathieu Chedid)\", \"showlegend\": true, \"type\": \"scattergl\", \"x\": [7.049417972564697], \"xaxis\": \"x\", \"y\": [68.0671157836914], \"yaxis\": \"y\"}, {\"customdata\": [[\"Someone Like You\"], [\"Hello\"], [\"River Lea\"], [\"If It Hadn't Been For Love\"], [\"Sweetest Devotion\"], [\"Chasing Pavements\"], [\"Lay Me Down\"], [\"Lovesong\"], [\"Love In The Dark\"], [\"Hometown Glory\"], [\"Remedy\"], [\"Million Years Ago\"], [\"Crazy For You\"], [\"Turning Tables\"], [\"Water Under The Bridge\"], [\"Set Fire To The Rain\"], [\"Send My Love (To Your New Lover)\"], [\"When We Were Young\"], [\"One and Only\"], [\"Rolling In The Deep\"], [\"Make You Feel My Love\"], [\"All I Ask\"], [\"Don't You Remember\"], [\"I Miss You\"], [\"Skyfall\"]], \"hovertemplate\": \"artista=Adele<br>x=%{x}<br>y=%{y}<br>musica=%{customdata[0]}<extra></extra>\", \"legendgroup\": \"Adele\", \"marker\": {\"color\": \"#EF553B\", \"opacity\": 0.5, \"symbol\": \"circle\"}, \"mode\": \"markers\", \"name\": \"Adele\", \"showlegend\": true, \"type\": \"scattergl\", \"x\": [19.971418380737305, -10.334477424621582, 71.96453094482422, -59.578895568847656, 15.931843757629395, 8.382646560668945, -6.475523471832275, -61.03365707397461, -6.036178112030029, 64.34142303466797, 6.2968878746032715, 20.199520111083984, 38.13698959350586, 19.239337921142578, -49.127647399902344, 19.837202072143555, 23.604772567749023, 5.02187967300415, 20.99776268005371, -30.69379425048828, 39.942928314208984, 13.581894874572754, 8.798563957214355, -35.85464859008789, -14.601673126220703], \"xaxis\": \"x\", \"y\": [-25.961978912353516, -40.5193977355957, 11.055900573730469, -126.31072235107422, -9.269474029541016, 53.18824768066406, 31.344192504882812, 32.76377868652344, 2.583313226699829, -29.228059768676758, -2.324021577835083, -10.176396369934082, -50.208438873291016, 71.25086975097656, -0.7736465334892273, 71.36441802978516, -34.492122650146484, -54.46531295776367, 72.0783920288086, -20.413848876953125, -54.204833984375, -30.04788589477539, 34.27810287475586, 16.918994903564453, -40.61286544799805], \"yaxis\": \"y\"}, {\"customdata\": [[\"Falling In Love (Is Hard On The Knees)\"], [\"Dude (Looks Like A Lady)\"], [\"Girls Of Summer\"], [\"The Other Side\"], [\"Full Circle\"], [\"Janie's Got a Gun\"], [\"Love In An Elevator\"], [\"Livin' On The Edge\"], [\"All Your Love\"], [\"What Could Have Been Love\"], [\"Sweet Emotion\"], [\"Sing For The Moment\"], [\"Pink\"], [\"Walk This Way\"], [\"Jaded\"], [\"Fly Away From Here\"], [\"Hole In My Soul\"], [\"Angel\"], [\"Amazing\"], [\"Crazy\"], [\"Dream On\"], [\"Cryin'\"], [\"I Don't Want To Miss A Thing\"], [\"What It Takes\"]], \"hovertemplate\": \"artista=Aerosmith<br>x=%{x}<br>y=%{y}<br>musica=%{customdata[0]}<extra></extra>\", \"legendgroup\": \"Aerosmith\", \"marker\": {\"color\": \"#00cc96\", \"opacity\": 0.5, \"symbol\": \"circle\"}, \"mode\": \"markers\", \"name\": \"Aerosmith\", \"showlegend\": true, \"type\": \"scattergl\", \"x\": [-25.859708786010742, 19.525835037231445, -2.2673184871673584, 26.247928619384766, -9.522506713867188, 18.986120223999023, -15.998859405517578, -58.42890548706055, 60.84415817260742, 12.476850509643555, 24.44163703918457, 32.871768951416016, 65.92118072509766, 57.607215881347656, 8.49351978302002, -8.917930603027344, 57.25550842285156, -81.4298324584961, -11.00654125213623, -44.1156120300293, -27.254783630371094, -20.622079849243164, -82.10211181640625, -14.486302375793457], \"xaxis\": \"x\", \"y\": [-54.14103317260742, -69.05408477783203, -21.816253662109375, 21.75788116455078, -37.510955810546875, -68.92703247070312, 63.45463180541992, -34.27300262451172, -18.39548110961914, -29.329814910888672, 12.203147888183594, 60.41976547241211, -16.907588958740234, -0.025359833613038063, -38.309043884277344, -48.06559371948242, 30.439220428466797, -8.573380470275879, -40.837947845458984, -15.86958122253418, -17.61018180847168, 10.711128234863281, -33.4996452331543, -17.16485595703125], \"yaxis\": \"y\"}, {\"customdata\": [[\"A Woman's Worth\"], [\"Authors Of Forever\"], [\"Girl On Fire (Inferno Version) (feat. Nicki Minaj)\"], [\"Gramercy Park\"], [\"Show Me Love (feat. Miguel)\"], [\"Me x 7 (feat. Tierra Whack)\"], [\"Time Machine\"], [\"Superwoman\"], [\"Brand New Me\"], [\"Wasted Energy\"], [\"You Don't Know My Name\"], [\"So Done (feat. Khalid)\"], [\"Underdog\"], [\"Love Looks Better\"], [\"Fallin'\"], [\"Girl On Fire\"], [\"No One\"], [\"You Save Me (feat. Snoh Aalegra)\"], [\"Empire State Of Mind (part. Ii)\"], [\"3 Hour Drive (feat. Sampha)\"], [\"If I Ain't Got You\"], [\"Empire State Of Mind\"], [\"Truth Without Love\"], [\"Karma\"], [\"Show Me Love (Ft. Miguel, 21 Savage) (Remix)\"]], \"hovertemplate\": \"artista=Alicia Keys<br>x=%{x}<br>y=%{y}<br>musica=%{customdata[0]}<extra></extra>\", \"legendgroup\": \"Alicia Keys\", \"marker\": {\"color\": \"#ab63fa\", \"opacity\": 0.5, \"symbol\": \"circle\"}, \"mode\": \"markers\", \"name\": \"Alicia Keys\", \"showlegend\": true, \"type\": \"scattergl\", \"x\": [10.134183883666992, 59.21846008300781, 26.424327850341797, -34.320098876953125, 23.017610549926758, -25.276657104492188, -17.15475082397461, 0.789389967918396, -43.20888137817383, -3.1624975204467773, -59.86240005493164, 44.07405471801758, 50.820648193359375, 19.547260284423828, 36.74903869628906, 26.52715301513672, 19.419050216674805, -20.794458389282227, 57.95673370361328, -12.551466941833496, -5.576523303985596, 22.553665161132812, -49.19511795043945, -20.784893035888672, 23.072925567626953], \"xaxis\": \"x\", \"y\": [-40.52595138549805, -52.2618522644043, 0.2877422869205475, 54.7614631652832, -35.6057014465332, 37.50757598876953, -25.84260368347168, -51.9686164855957, 37.617340087890625, 56.778099060058594, -44.72358703613281, 21.43145179748535, -23.889747619628906, -17.270694732666016, -53.70664978027344, 0.291618287563324, -47.83769989013672, -23.309457778930664, -32.90822219848633, 26.422895431518555, -55.74431610107422, 72.07813262939453, 23.620073318481445, 34.101436614990234, -35.36948013305664], \"yaxis\": \"y\"}, {\"customdata\": [[\"Beauty and The Beast (Feat. John Legend)\"], [\"fake smile\"], [\"make up\"], [\"Love Me Harder (Feat. The Weeknd)\"], [\"in my head\"], [\"Don't Call Me Angel (With Miley Cyrus, Lana Del Rey)\"], [\"Break Free (Feat. Zedd)\"], [\"imagine\"], [\"(You Make Me Feel Like) a Natural Woman (Aretha Franklin tribute)\"], [\"bloodline\"], [\"breathin\"], [\"needy\"], [\"break up with your girlfriend, i'm bored\"], [\"Into You\"], [\"Side to Side (Feat. Nicki Minaj)\"], [\"no tears left to cry\"], [\"One Last Time\"], [\"God is a woman\"], [\"thank u, next\"], [\"7 rings\"], [\"Stuck With U (with Justin Bieber)\"], [\"Dangerous Woman\"], [\"How I Look On You\"], [\"Problem (feat. Iggy Azalea)\"], [\"I Have Nothing\"]], \"hovertemplate\": \"artista=Ariana Grande<br>x=%{x}<br>y=%{y}<br>musica=%{customdata[0]}<extra></extra>\", \"legendgroup\": \"Ariana Grande\", \"marker\": {\"color\": \"#FFA15A\", \"opacity\": 0.5, \"symbol\": \"circle\"}, \"mode\": \"markers\", \"name\": \"Ariana Grande\", \"showlegend\": true, \"type\": \"scattergl\", \"x\": [31.19566535949707, -37.01664352416992, 31.50676918029785, 25.664276123046875, 32.3021354675293, -54.40797424316406, 13.842455863952637, 36.9027214050293, -9.678058624267578, -25.740951538085938, -27.61152458190918, -23.82135581970215, -31.358728408813477, 16.246868133544922, -61.09838104248047, -6.934144020080566, -24.900239944458008, 28.524078369140625, -39.42029571533203, -0.9478724002838135, -6.397793769836426, -27.886701583862305, 14.540152549743652, -26.49993324279785, -82.15731811523438], \"xaxis\": \"x\", \"y\": [-73.84178161621094, 43.392459869384766, 13.934443473815918, 51.46178436279297, 23.098825454711914, 6.982125759124756, -20.360973358154297, 7.160458087921143, -5.846580982208252, 27.226415634155273, -70.96238708496094, 0.405626118183136, 43.01312255859375, 5.307281970977783, 14.544325828552246, 47.92210006713867, 25.353801727294922, 43.875328063964844, 25.648643493652344, 24.16078758239746, 47.36626052856445, -16.32794761657715, 33.6750602722168, -1.500705599784851, 3.4593636989593506], \"yaxis\": \"y\"}, {\"customdata\": [[\"We Are Warriors\"], [\"Girlfriend\"], [\"Complicated\"], [\"I'm With You\"], [\"When You're Gone\"], [\"Wish You Were Here\"], [\"Sk8er Boi\"], [\"Rock N Roll\"], [\"My Happy Ending\"], [\"Smile\"], [\"Nobody's Home\"], [\"Head Above Water\"], [\"What The Hell\"], [\"Don't Tell Me\"], [\"Let Me Go (Feat. Chad Kroeger)\"], [\"The Best Damn Thing\"], [\"Innocence\"], [\"Hot\"], [\"Tomorrow\"], [\"Keep Holding On\"], [\"Losing Grip\"], [\"I Fell In Love With The Devil\"], [\"Goodbye\"], [\"Things I'll Never Say\"], [\"Nobody's Fool\"]], \"hovertemplate\": \"artista=Avril Lavigne<br>x=%{x}<br>y=%{y}<br>musica=%{customdata[0]}<extra></extra>\", \"legendgroup\": \"Avril Lavigne\", \"marker\": {\"color\": \"#19d3f3\", \"opacity\": 0.5, \"symbol\": \"circle\"}, \"mode\": \"markers\", \"name\": \"Avril Lavigne\", \"showlegend\": true, \"type\": \"scattergl\", \"x\": [40.61204528808594, -47.32461929321289, 29.20707893371582, -59.53084182739258, -20.682939529418945, -15.480494499206543, -22.269495010375977, 54.787803649902344, 28.34111976623535, 1.1777305603027344, 23.365013122558594, -44.634464263916016, -24.59150505065918, 5.739112377166748, -30.348291397094727, -78.6502914428711, 6.89601993560791, -43.402488708496094, -33.506221771240234, -32.381858825683594, -66.1856460571289, 34.71520233154297, -3.2982733249664307, -49.49638366699219, -37.341243743896484], \"xaxis\": \"x\", \"y\": [-81.31124877929688, -13.237421035766602, -35.83938980102539, -33.2582893371582, 12.13310432434082, -2.8998398780822754, -15.231932640075684, 4.172546863555908, -43.46915054321289, -50.14436721801758, 24.97953224182129, -37.198062896728516, 26.69413185119629, 57.110050201416016, -42.9463996887207, 27.114519119262695, -51.984161376953125, -8.418221473693848, -5.752254009246826, -6.0437798500061035, -3.1028008460998535, -15.981510162353516, 32.62549591064453, 19.715442657470703, 14.522570610046387], \"yaxis\": \"y\"}, {\"customdata\": [[\"Savage Love (Laxed - Siren Beat) [BTS Remix]\"], [\"Dynamite\"]], \"hovertemplate\": \"artista=BTS<br>x=%{x}<br>y=%{y}<br>musica=%{customdata[0]}<extra></extra>\", \"legendgroup\": \"BTS\", \"marker\": {\"color\": \"#FF6692\", \"opacity\": 0.5, \"symbol\": \"circle\"}, \"mode\": \"markers\", \"name\": \"BTS\", \"showlegend\": true, \"type\": \"scattergl\", \"x\": [-57.53976058959961, 48.860443115234375], \"xaxis\": \"x\", \"y\": [32.408145904541016, 11.537379264831543], \"yaxis\": \"y\"}, {\"customdata\": [[\"Quit Playing Games (With My Heart)\"], [\"As Long As You Love Me\"], [\"Everybody (Backstreet's Back)\"], [\"Incomplete\"], [\"All I Have To Give\"], [\"Drowning\"], [\"Don't Go Breaking My Heart\"], [\"Show Me The Meaning Of Being Lonely\"], [\"No Place\"], [\"I Still...\"], [\"Chateau\"], [\"Nobody Else\"], [\"We've Got It Goin' On\"], [\"New Love\"], [\"The One\"], [\"Helpless When She Smiles\"], [\"I'll Never Break Your Heart\"], [\"Breathe (2019)\"], [\"Larger Than Life\"], [\"The Call\"], [\"Don't Wanna Lose You Now\"], [\"Chances\"], [\"I Want It That Way\"], [\"Shape Of My Heart\"], [\"Inconsolable\"]], \"hovertemplate\": \"artista=Backstreet Boys<br>x=%{x}<br>y=%{y}<br>musica=%{customdata[0]}<extra></extra>\", \"legendgroup\": \"Backstreet Boys\", \"marker\": {\"color\": \"#B6E880\", \"opacity\": 0.5, \"symbol\": \"circle\"}, \"mode\": \"markers\", \"name\": \"Backstreet Boys\", \"showlegend\": true, \"type\": \"scattergl\", \"x\": [32.037906646728516, 0.32838934659957886, -37.39275360107422, 7.969679832458496, -22.928367614746094, -60.67645263671875, 18.26011848449707, 9.561579704284668, 55.93230056762695, -69.46089172363281, 67.95237731933594, 16.228017807006836, -33.638248443603516, -33.2337646484375, 23.833364486694336, 10.242273330688477, -19.10819435119629, 6.283172607421875, -2.534050703048706, 3.2015740871429443, -64.73047637939453, 60.72388458251953, 0.4939069151878357, -27.97467613220215, -62.697628021240234], \"xaxis\": \"x\", \"y\": [14.299247741699219, -41.24534606933594, 11.611611366271973, -61.67127990722656, 35.46361541748047, -39.19609832763672, 2.735438585281372, 11.665422439575195, 31.442087173461914, -0.001953953644260764, -2.4022395610809326, 34.37007522583008, -17.61763572692871, 52.74217987060547, -51.960365295410156, -43.626930236816406, 23.288047790527344, -43.01384735107422, -21.781585693359375, 59.29738998413086, -1.0708976984024048, -1.733363151550293, 66.98410034179688, -69.11106872558594, -0.47899219393730164], \"yaxis\": \"y\"}, {\"customdata\": [[\"Rocket\"], [\"Halo\"], [\"Irreplaceable\"], [\"If I Were A Boy\"], [\"Pretty Hurts\"], [\"Listen\"], [\"Brown Skin Girl (With Saint Jhn and Wizkid feat. Blue Ivy Carter)\"], [\"Crazy In Love (feat. Jay Z)\"], [\"***Flawless (Feat. Chimamanda Ngozi Adichie)\"], [\"Formation\"], [\"Freedom (Feat. Kendrick Lamar)\"], [\"Me, Myself And I\"], [\"Love On Top\"], [\"Diva\"], [\"Already (with Shatta Wale and Major Lazer)\"], [\"My Power (With Tierra Whack, Moonchild Sanelly, Nija)\"], [\"***Flawless (Feat. Nicki Minaj)\"], [\"Hold Up\"], [\"Ego\"], [\"Black Parade\"], [\"Sorry\"], [\"I Was Here\"], [\"Single Ladies (Put A Ring On It)\"], [\"Hello\"], [\"Spirit\"]], \"hovertemplate\": \"artista=Beyonc\\u00e9<br>x=%{x}<br>y=%{y}<br>musica=%{customdata[0]}<extra></extra>\", \"legendgroup\": \"Beyonc\\u00e9\", \"marker\": {\"color\": \"#FF97FF\", \"opacity\": 0.5, \"symbol\": \"circle\"}, \"mode\": \"markers\", \"name\": \"Beyonc\\u00e9\", \"showlegend\": true, \"type\": \"scattergl\", \"x\": [1.6123805046081543, -0.36506953835487366, -30.043729782104492, -66.79419708251953, 38.062381744384766, -66.63217163085938, 33.05418395996094, -25.231962203979492, 42.020721435546875, -0.9452998042106628, -33.9971923828125, -28.895048141479492, 59.900856018066406, 8.460528373718262, 41.09430694580078, -25.797714233398438, 41.30944061279297, -14.998839378356934, -42.5354118347168, -26.984493255615234, -52.72414016723633, 13.645060539245605, -45.896568298339844, -39.41166687011719, 59.223976135253906], \"xaxis\": \"x\", \"y\": [-10.170910835266113, -10.389059066772461, 5.3155198097229, -12.670943260192871, -6.681202411651611, 15.896465301513672, 23.403152465820312, 61.115440368652344, 18.35346031188965, 24.161563873291016, -60.097408294677734, -8.128840446472168, 49.2908821105957, 67.19950866699219, 12.320100784301758, 67.17011260986328, 18.124217987060547, 17.68531608581543, 37.66220474243164, 66.91385650634766, 0.7816334366798401, -41.905757904052734, -46.30635070800781, 25.616588592529297, 28.50765609741211], \"yaxis\": \"y\"}, {\"customdata\": [[\"No Time To Die\"], [\"\\u200bwhen the party's over\"], [\"I Love You\"], [\"Lovely (with Khalid)\"], [\"Everything I Wanted\"], [\"Ocean Eyes\"], [\"my future\"], [\"All The Good Girls Go To Hell\"], [\"Idontwannabeyouanymore\"], [\"My Strange Addiction\"], [\"Ilomilo\"], [\"Xanny\"], [\"Bad Guy\"]], \"hovertemplate\": \"artista=Billie Eilish<br>x=%{x}<br>y=%{y}<br>musica=%{customdata[0]}<extra></extra>\", \"legendgroup\": \"Billie Eilish\", \"marker\": {\"color\": \"#FECB52\", \"opacity\": 0.5, \"symbol\": \"circle\"}, \"mode\": \"markers\", \"name\": \"Billie Eilish\", \"showlegend\": true, \"type\": \"scattergl\", \"x\": [-60.00668716430664, -34.28683853149414, -18.982194900512695, 6.290883541107178, -65.64649200439453, 32.77802276611328, -55.65266036987305, 55.05754470825195, -18.81325912475586, 30.422353744506836, -11.293388366699219, -43.80665969848633, -18.556123733520508], \"xaxis\": \"x\", \"y\": [15.239127159118652, -16.21681022644043, -1.6320741176605225, 19.39565086364746, -2.066798686981201, -18.755552291870117, 10.186078071594238, 0.8361670970916748, -51.18669509887695, -4.754370212554932, 7.11099910736084, 3.3146026134490967, -49.95951843261719], \"yaxis\": \"y\"}, {\"customdata\": [[\"Missing You\"], [\"Big Love\"], [\"Just Can't Get Enough\"], [\"Don't Phunk With My Heart\"], [\"Girl Like Me (With Shakira)\"], [\"Feel The Beat (With Maluma)\"], [\"Let's Get It Started\"], [\"eXplosion (With Anitta)\"], [\"I Gotta Feeling\"], [\"Where Is The Love?\"], [\"RITMO (Bad Boys For Life) (With J Balvin)\"], [\"MAMACITA (With Ozuna & J. Rey Soul)\"], [\"Vida Loca (With Nicky Jam and Tyga)\"], [\"ACTION\"], [\"Don't Lie\"], [\"Pump It\"], [\"Mas Que Nada\"], [\"Boom Boom Pow\"], [\"Meet Me Halfway\"], [\"Shut Up\"], [\"The Time (Dirty Bit)\"], [\"On My Own\"], [\"My Humps\"]], \"hovertemplate\": \"artista=Black Eyed Peas<br>x=%{x}<br>y=%{y}<br>musica=%{customdata[0]}<extra></extra>\", \"legendgroup\": \"Black Eyed Peas\", \"marker\": {\"color\": \"#636efa\", \"opacity\": 0.5, \"symbol\": \"circle\"}, \"mode\": \"markers\", \"name\": \"Black Eyed Peas\", \"showlegend\": true, \"type\": \"scattergl\", \"x\": [-58.79640579223633, 49.97372055053711, -48.29700469970703, -25.580419540405273, 17.916213989257812, 5.381411075592041, 14.088152885437012, 17.951772689819336, -17.548587799072266, 45.38743209838867, -28.395248413085938, 18.171253204345703, -26.968767166137695, -25.732450485229492, 22.14422607421875, -25.001615524291992, 38.5433349609375, 35.71796417236328, 2.473479986190796, -18.119050979614258, 44.99162292480469, 63.0684814453125, -3.393648624420166], \"xaxis\": \"x\", \"y\": [32.482852935791016, 47.308753967285156, -11.580970764160156, 26.51677703857422, 51.631553649902344, -12.109684944152832, 80.86092376708984, 30.377601623535156, -1.2563221454620361, 49.3725700378418, 66.39195251464844, 51.50631332397461, 66.22997283935547, 63.35742950439453, 42.074581146240234, 63.89873123168945, -33.60731506347656, 9.64111042022705, 40.11150360107422, -25.852787017822266, 20.602495193481445, -21.583364486694336, 75.79002380371094], \"yaxis\": \"y\"}, {\"customdata\": [[\"Buffalo Soldier\"], [\"Exodus\"], [\"I Shot The Sheriff\"], [\"Soul Rebel\"], [\"Kaya\"], [\"Get Up Stand Up\"], [\"Coming In From The Cold\"], [\"Lively Up Yourself\"], [\"Slave Driver\"], [\"Iron Lion Zion\"], [\"Turn Your Lights Down Low\"], [\"Stir It Up\"], [\"Concrete Jungle\"], [\"Satisfy My Soul\"], [\"Three Little Birds\"], [\"Is This Love?\"], [\"Redemption Song\"], [\"No Woman No Cry\"], [\"One Love / People Get Ready\"], [\"Jammin'\"], [\"Natural Mystic\"], [\"Waiting In Vain\"], [\"Sun Is Shining\"], [\"Could You Be Loved\"], [\"Positive Vibration\"]], \"hovertemplate\": \"artista=Bob Marley<br>x=%{x}<br>y=%{y}<br>musica=%{customdata[0]}<extra></extra>\", \"legendgroup\": \"Bob Marley\", \"marker\": {\"color\": \"#EF553B\", \"opacity\": 0.5, \"symbol\": \"circle\"}, \"mode\": \"markers\", \"name\": \"Bob Marley\", \"showlegend\": true, \"type\": \"scattergl\", \"x\": [65.14429473876953, -24.019744873046875, 46.66156005859375, 2.906623601913452, 5.857079029083252, 6.691967487335205, 40.09748840332031, 7.727318286895752, 55.844337463378906, 52.691551208496094, -4.555381774902344, -1.539000153541565, 5.485531330108643, 8.309897422790527, 22.4101505279541, 7.441550254821777, 75.14604949951172, 40.6461181640625, 6.787506103515625, -2.5866611003875732, 3.704639434814453, -54.449710845947266, -5.14296293258667, 60.37645721435547, 14.503291130065918], \"xaxis\": \"x\", \"y\": [5.8038249015808105, 63.408485412597656, 37.84978103637695, 86.84793090820312, 17.910375595092773, 83.10089874267578, -4.295994758605957, 27.054359436035156, -20.436935424804688, 11.217556953430176, 75.34591674804688, 51.159690856933594, 46.044063568115234, 27.18287467956543, 74.1469497680664, 36.80018997192383, 32.48238754272461, 8.47174072265625, 78.14002227783203, 75.41753387451172, -69.04081726074219, -34.701904296875, 75.10926818847656, 30.69830894470215, 30.21198272705078], \"yaxis\": \"y\"}, {\"customdata\": [[\"Story Of Love\"], [\"Livin' On A Prayer\"], [\"Beautiful Drug\"], [\"Blood In The Water\"], [\"Bed Of Roses\"], [\"I'll Be There For You\"], [\"Misunderstood\"], [\"Do What You Can\"], [\"Let It Rain\"], [\"You Give Love A Bad Name\"], [\"Limitless\"], [\"Lower The Flag\"], [\"Always\"], [\"Brothers In Arms\"], [\"Thank You For Loving Me\"], [\"American Reckoning\"], [\"These Days\"], [\"Have a Nice Day\"], [\"Wanted Dead Or Alive\"], [\"This Ain't A Love Song\"], [\"Never Say Goodbye\"], [\"Miracle\"], [\"Do What You Can (With Jennifer Nettles)\"], [\"Blaze Of Glory\"], [\"It's My Life\"]], \"hovertemplate\": \"artista=Bon Jovi<br>x=%{x}<br>y=%{y}<br>musica=%{customdata[0]}<extra></extra>\", \"legendgroup\": \"Bon Jovi\", \"marker\": {\"color\": \"#00cc96\", \"opacity\": 0.5, \"symbol\": \"circle\"}, \"mode\": \"markers\", \"name\": \"Bon Jovi\", \"showlegend\": true, \"type\": \"scattergl\", \"x\": [45.79098892211914, -10.159699440002441, 67.38856506347656, 69.0013427734375, -43.068965911865234, -73.53084564208984, -19.637893676757812, 53.64258575439453, 48.21742248535156, -0.6899026036262512, 30.85997200012207, -13.632648468017578, 7.0629072189331055, 56.43785095214844, 16.724609375, 40.18043518066406, -131.5723114013672, 16.531185150146484, -16.343936920166016, 14.36864948272705, 21.63362693786621, -20.90229606628418, 53.730194091796875, -43.25496292114258, -11.616670608520508], \"xaxis\": \"x\", \"y\": [73.1401138305664, -37.35430908203125, -34.755863189697266, -32.17589569091797, -28.181154251098633, -25.3028564453125, -49.27256393432617, -67.34883880615234, -13.226117134094238, 6.91193962097168, -13.797958374023438, -83.63314056396484, -1.6896592378616333, 31.050291061401367, -50.77399444580078, 8.238298416137695, -51.84392166137695, 18.90077781677246, 55.2258186340332, -19.97696876525879, -61.5489501953125, -55.21730041503906, -67.3619613647461, -28.22712516784668, -39.85314178466797], \"yaxis\": \"y\"}, {\"customdata\": [[\"Just The Way You Are\"], [\"Locked Out Of Heaven\"], [\"Nothin' On You (remix)\"], [\"Chunky\"], [\"Finesse\"], [\"Rest Of My Life\"], [\"Gorilla\"], [\"Too Good To Say Goodbye\"], [\"Just The Way You Are (Remix) (Feat. Lupe Fiasco)\"], [\"Don't Give Up\"], [\"Finesse (Remix) (Feat. Cardi B)\"], [\"Nothin' On You\"], [\"Talking To The Moon\"], [\"Marry You\"], [\"Treasure\"], [\"Versace On The Floor\"], [\"Billionaire\"], [\"That's What I Like\"], [\"Grenade\"], [\"It Will Rain\"], [\"24k Magic\"], [\"The Lazy Song\"], [\"When I Was Your Man\"], [\"Uptown Funk!\"], [\"Count On Me\"]], \"hovertemplate\": \"artista=Bruno Mars<br>x=%{x}<br>y=%{y}<br>musica=%{customdata[0]}<extra></extra>\", \"legendgroup\": \"Bruno Mars\", \"marker\": {\"color\": \"#ab63fa\", \"opacity\": 0.5, \"symbol\": \"circle\"}, \"mode\": \"markers\", \"name\": \"Bruno Mars\", \"showlegend\": true, \"type\": \"scattergl\", \"x\": [3.9481403827667236, -41.05230712890625, -44.79698944091797, -16.504247665405273, -24.939838409423828, -26.42668342590332, 35.70942687988281, 4.962308883666992, 3.9324100017547607, -46.56227111816406, -24.838899612426758, -44.79391860961914, -36.73387908935547, -20.945716857910156, 31.960527420043945, 37.424964904785156, 59.51667022705078, 58.93241500854492, -38.838600158691406, 3.4296538829803467, -24.74980926513672, -58.58413314819336, 17.149770736694336, 13.556519508361816, -31.951831817626953], \"xaxis\": \"x\", \"y\": [-36.36843490600586, -6.15761137008667, 31.679855346679688, -1.9050695896148682, -39.602195739746094, -70.23905181884766, 49.64161682128906, 39.15153121948242, -36.373809814453125, -10.701047897338867, -39.6125602722168, 31.679988861083984, 15.8726167678833, 17.662202835083008, 25.945159912109375, 29.716402053833008, 2.1631999015808105, -33.96933364868164, 43.3729248046875, 2.1163229942321777, 64.46668243408203, -42.17116928100586, -50.606327056884766, 27.3786563873291, -5.107560634613037], \"yaxis\": \"y\"}, {\"customdata\": [[\"Interlude\"], [\"A Thousand Years (Part 2) (Feat. Steve Kaze)\"], [\"I Believe\"], [\"Distance (Feat. Jason Mraz)\"], [\"I Don't Wanna Break\"], [\"Distance\"], [\"Burning Gold\"], [\"Tiny Victories\"], [\"Trust\"], [\"Sea Of Lovers\"], [\"Til There Was You\"], [\"I Will Follow You Into The Dark\"], [\"The Lonely\"], [\"Be My Forever (Feat. Ed Sheeran)\"], [\"You Mean The Whole Wide World To Me\"], [\"The Words\"], [\"I Like You\"], [\"Arms\"], [\"You Are My Sunshine\"], [\"Jar Of Hearts\"], [\"Human\"], [\"A Thousand Years\"], [\"Human (Passion Pit Remix)\"], [\"Ave Maria\"], [\"One Night\"]], \"hovertemplate\": \"artista=Christina Perri<br>x=%{x}<br>y=%{y}<br>musica=%{customdata[0]}<extra></extra>\", \"legendgroup\": \"Christina Perri\", \"marker\": {\"color\": \"#FFA15A\", \"opacity\": 0.5, \"symbol\": \"circle\"}, \"mode\": \"markers\", \"name\": \"Christina Perri\", \"showlegend\": true, \"type\": \"scattergl\", \"x\": [-72.89881896972656, 80.70074462890625, 24.455602645874023, -35.74702835083008, -81.67327117919922, -35.7597770690918, -20.24384307861328, 12.6455717086792, 48.148902893066406, 60.7546272277832, 64.03972625732422, -9.479706764221191, 13.911734580993652, -79.36692810058594, 8.53775405883789, -19.38394546508789, -8.591275215148926, -60.718223571777344, -23.294662475585938, -58.87724685668945, -66.63317108154297, 80.69334411621094, -66.17535400390625, 38.408409118652344, 30.98255729675293], \"xaxis\": \"x\", \"y\": [-57.787681579589844, -17.45751953125, 0.711041271686554, -51.84235763549805, -33.27064514160156, -51.84785461425781, -56.314605712890625, 30.576231002807617, -1.7863082885742188, -23.160785675048828, -25.017662048339844, 1.5089027881622314, -5.986606121063232, -115.33607482910156, 39.949790954589844, 12.497426986694336, -5.473341941833496, 16.16375732421875, -62.34335708618164, 37.42307662963867, 33.55431365966797, -17.45684242248535, 33.36835479736328, -34.93000411987305, -18.12554931640625], \"yaxis\": \"y\"}, {\"customdata\": [[\"Speed Of Sound\"], [\"Green Eyes\"], [\"The Scientist\"], [\"Viva La Vida\"], [\"Paradise\"], [\"Yellow\"], [\"Fix You\"], [\"God Put A Smile Upon Your Face\"], [\"Always In My Head\"], [\"Something Just Like This (feat. The Chainsmokers)\"], [\"Hymn for the Weekend (Feat. Beyonc\\u00e9)\"], [\"Clocks\"], [\"Magic\"], [\"A Sky Full Of Stars\"], [\"Sunrise\"], [\"Charlie Brown\"], [\"Every Teardrop Is a Waterfall\"], [\"A Head Full Of Dreams\"], [\"Trouble\"], [\"Orphans\"], [\"Everyday Life\"], [\"In My Place\"], [\"Adventure Of A Lifetime\"], [\"Up&Up\"]], \"hovertemplate\": \"artista=Coldplay<br>x=%{x}<br>y=%{y}<br>musica=%{customdata[0]}<extra></extra>\", \"legendgroup\": \"Coldplay\", \"marker\": {\"color\": \"#19d3f3\", \"opacity\": 0.5, \"symbol\": \"circle\"}, \"mode\": \"markers\", \"name\": \"Coldplay\", \"showlegend\": true, \"type\": \"scattergl\", \"x\": [19.255273818969727, 0.0833035483956337, 38.093746185302734, 63.731536865234375, 68.55428314208984, 2.881659746170044, -79.5882339477539, 64.74513244628906, -23.569629669189453, -62.82012939453125, 28.611167907714844, 3.4429938793182373, -46.866912841796875, -61.14860916137695, -74.34962463378906, 28.172183990478516, 59.943382263183594, 49.793636322021484, 21.637096405029297, 14.362448692321777, 58.8519401550293, -22.77655029296875, 28.618404388427734, -2.9996895790100098], \"xaxis\": \"x\", \"y\": [33.49570083618164, -42.963401794433594, -56.67107391357422, -28.610857009887695, -19.28811264038086, -31.60789680480957, -17.348031997680664, 19.53639030456543, -60.728607177734375, -11.412391662597656, 2.2106385231018066, 36.809993743896484, -14.512615203857422, -30.849594116210938, -57.57169723510742, -27.30087661743164, 2.0898585319519043, -23.612180709838867, 70.6362075805664, 12.946112632751465, -24.644241333007812, 34.17936706542969, 8.063380241394043, -7.053975582122803], \"yaxis\": \"y\"}, {\"customdata\": [[\"Confident\"], [\"I Love Me\"], [\"Sorry Not Sorry\"], [\"Stone Cold\"], [\"Anyone\"], [\"Sober\"], [\"Skyscraper\"], [\"Give Your Heart A Break\"], [\"Heart Attack\"], [\"Cool For The Summer\"], [\"Gift Of A Friend\"], [\"Nightingale\"], [\"This Is Me (Gotta Find You) (Feat. Joe Jonas)\"], [\"Sorry (Unreleased)\"], [\"Warrior\"], [\"Father\"], [\"Let It Go\"], [\"Really Don't Care (Feat. Cher Lloyd)\"], [\"Lonely (Feat. Lil Wayne)\"], [\"Don't Forget\"], [\"Be Okay\"], [\"Tell Me You Love Me\"], [\"OK Not To Be OK (With Marshmello)\"], [\"Still Have Me\"]], \"hovertemplate\": \"artista=Demi Lovato<br>x=%{x}<br>y=%{y}<br>musica=%{customdata[0]}<extra></extra>\", \"legendgroup\": \"Demi Lovato\", \"marker\": {\"color\": \"#FF6692\", \"opacity\": 0.5, \"symbol\": \"circle\"}, \"mode\": \"markers\", \"name\": \"Demi Lovato\", \"showlegend\": true, \"type\": \"scattergl\", \"x\": [-61.74996566772461, 5.242214202880859, -14.524412155151367, -12.541328430175781, -33.29971694946289, -74.3153305053711, 9.098517417907715, -0.818546712398529, -66.99117279052734, -21.8953800201416, 4.471909046173096, -8.03177547454834, 58.210262298583984, -0.31559044122695923, -77.52568054199219, 20.68799591064453, -29.84368133544922, 21.394399642944336, -6.18619441986084, 6.067758083343506, 35.801109313964844, 25.82988166809082, -26.16484832763672, 41.42495346069336], \"xaxis\": \"x\", \"y\": [16.99211883544922, 20.431964874267578, 19.306577682495117, 19.988300323486328, 12.914334297180176, 16.315744400024414, -74.87593841552734, 7.589729309082031, -12.12865924835205, -54.21737289428711, -75.03937530517578, -14.51888656616211, -23.21727180480957, -52.8217887878418, 17.502288818359375, -9.719476699829102, -43.442569732666016, 42.30103302001953, -22.62360954284668, -43.2875862121582, 1.852211833000183, 23.412883758544922, -54.68404769897461, -24.440595626831055], \"yaxis\": \"y\"}, {\"customdata\": [[\"Deep Pockets\"], [\"Sacrifices (Feat. 2 Chainz, Young Thug)\"], [\"Desires (Feat. Future)\"], [\"Take Care (Feat. Rihanna)\"], [\"Legend\"], [\"Nonstop\"], [\"Finesse\"], [\"Know Yourself\"], [\"Chicago Freestyle\"], [\"Time Flies\"], [\"Don't Matter To Me (Feat. Michael Jackson)\"], [\"Ratchet Happy Birthday\"], [\"All Me (Feat. 2 Chainz, Big Sean)\"], [\"Hotline Bling\"], [\"One Dance (Feat. Justin Bieber) (Remix)\"], [\"One Dance\"], [\"When To Say When / Chicago Freestyle (Video Version)\"], [\"Popstar\"], [\"Toosie Slide\"], [\"God's Plan\"], [\"Laugh Now Cry Later (Ft. Lil Durk)\"], [\"When to Say When\"], [\"War\"], [\"Forever (Feat. Kanye West, Lil' Wayne & Eminem)\"], [\"In My Feelings\"]], \"hovertemplate\": \"artista=Drake<br>x=%{x}<br>y=%{y}<br>musica=%{customdata[0]}<extra></extra>\", \"legendgroup\": \"Drake\", \"marker\": {\"color\": \"#B6E880\", \"opacity\": 0.5, \"symbol\": \"circle\"}, \"mode\": \"markers\", \"name\": \"Drake\", \"showlegend\": true, \"type\": \"scattergl\", \"x\": [19.338722229003906, -15.548760414123535, -7.594111919403076, -13.992080688476562, -81.87281799316406, -51.4195556640625, -52.788455963134766, 15.14571762084961, 24.581401824951172, 4.35320520401001, -13.672276496887207, -12.812066078186035, 7.226447582244873, -37.33546829223633, 23.302959442138672, 23.298160552978516, 14.549239158630371, -0.5423972010612488, 0.36435577273368835, -14.682960510253906, -22.119300842285156, 12.663858413696289, -25.437896728515625, 21.871761322021484, -13.044830322265625], \"xaxis\": \"x\", \"y\": [18.223419189453125, 55.85941696166992, 35.522640228271484, 36.438087463378906, -9.275313377380371, -62.42536163330078, -28.12604331970215, 13.026744842529297, -26.607789993286133, 42.197025299072266, 35.78456115722656, 15.954780578613281, -20.140132904052734, -41.75550842285156, -81.94795989990234, -81.94819641113281, 32.230018615722656, 53.17487335205078, 53.1717643737793, 53.4555549621582, 1.9818066358566284, 35.27848434448242, -32.26950454711914, 71.64326477050781, 53.41559982299805], \"yaxis\": \"y\"}, {\"customdata\": [[\"Levitating (feat. DaBaby)\"], [\"No Lie\"], [\"Be The One\"], [\"Love Again\"], [\"Future Nostalgia\"], [\"Pretty Please\"], [\"Kiss and Make Up (With BLACKPINK)\"], [\"Cool\"], [\"Un D\\u00eda (One Day) (With J Balvin, Bad Bunny, Tainy)\"], [\"One Kiss\"], [\"Boys Will Be Boys\"], [\"That Kind of Woman\"], [\"If It Ain't Me (Feat. Normani)\"], [\"Hotter Than Hell\"], [\"Electricity (With Silk City)\"], [\"Genesis\"], [\"Blow Your Mind (Mwah)\"], [\"Hallucinate\"], [\"Levitating (Feat. Madonna and Missy Elliott) (The Blessed Madonna Remix)\"], [\"Physical\"], [\"New Rules\"], [\"Levitating\"], [\"Break My Heart\"], [\"Don't Start Now\"], [\"IDGAF\"]], \"hovertemplate\": \"artista=Dua Lipa<br>x=%{x}<br>y=%{y}<br>musica=%{customdata[0]}<extra></extra>\", \"legendgroup\": \"Dua Lipa\", \"marker\": {\"color\": \"#FF97FF\", \"opacity\": 0.5, \"symbol\": \"circle\"}, \"mode\": \"markers\", \"name\": \"Dua Lipa\", \"showlegend\": true, \"type\": \"scattergl\", \"x\": [-30.5733585357666, 34.848297119140625, 1.090314269065857, -26.35350799560547, -58.01542663574219, -48.48548889160156, 48.36980056762695, 32.12244415283203, 32.044471740722656, 35.504695892333984, 56.26367950439453, -43.25215148925781, 54.71970748901367, 21.405519485473633, -60.324790954589844, -3.216163158416748, -24.1230411529541, -8.434947967529297, -30.492366790771484, -42.85415267944336, -53.10261917114258, -30.32978630065918, 69.44144439697266, -45.42845916748047, -54.74843978881836], \"xaxis\": \"x\", \"y\": [44.25680923461914, 32.863433837890625, -71.45591735839844, 26.040685653686523, -36.62345504760742, 21.60348892211914, 60.184532165527344, 25.42885971069336, -16.961145401000977, -53.73084259033203, 7.150486469268799, 2.297092914581299, 2.5937886238098145, -20.08397674560547, -23.265413284301758, 7.00079345703125, 28.800376892089844, 31.230276107788086, 44.34369659423828, -37.926963806152344, 2.336930274963379, 44.456077575683594, -1.7238473892211914, 6.612777233123779, 9.034859657287598], \"yaxis\": \"y\"}, {\"customdata\": [[\"Perfect Duet (With Beyonc\\u00e9)\"], [\"Beautiful People (feat. Khalid)\"], [\"Friends\"], [\"One\"], [\"The A Team\"], [\"Best Part Of Me (feat. YEBBA)\"], [\"Dive\"], [\"Don't\"], [\"I See Fire\"], [\"Galway Girl\"], [\"All Of The Stars\"], [\"Castle On The Hill\"], [\"Happier\"], [\"Kiss Me\"], [\"Sing\"], [\"South Of The Border (Ft. Camila Cabello & Cardi B)\"], [\"I Don't Care (With Justin Bieber)\"], [\"Give Me Love\"], [\"Thinking Out Loud\"], [\"Perfect Symphony (With Andrea Bocelli)\"], [\"Tenerife Sea\"], [\"Eraser\"], [\"Photograph\"], [\"Shape Of You\"], [\"Perfect\"]], \"hovertemplate\": \"artista=Ed Sheeran<br>x=%{x}<br>y=%{y}<br>musica=%{customdata[0]}<extra></extra>\", \"legendgroup\": \"Ed Sheeran\", \"marker\": {\"color\": \"#FECB52\", \"opacity\": 0.5, \"symbol\": \"circle\"}, \"mode\": \"markers\", \"name\": \"Ed Sheeran\", \"showlegend\": true, \"type\": \"scattergl\", \"x\": [39.89027404785156, 50.57018280029297, -5.842163562774658, -10.580853462219238, -13.611004829406738, -11.820840835571289, -38.6103401184082, -52.83797836303711, 30.488615036010742, 57.500244140625, 56.2886962890625, 52.60507583618164, -6.857146739959717, -8.6162691116333, -48.042293548583984, 34.829830169677734, -37.37738037109375, 20.137113571166992, 45.915916442871094, 48.52091979980469, 2.9160878658294678, 16.243345260620117, -5.736778736114502, 33.71194839477539, 39.85239028930664], \"xaxis\": \"x\", \"y\": [-14.912221908569336, 45.65570831298828, 21.617856979370117, -20.44386100769043, -83.69718933105469, 17.887775421142578, -18.754131317138672, -52.629051208496094, -17.057552337646484, -0.555330753326416, -39.2234992980957, 16.290145874023438, 19.046545028686523, -14.706881523132324, 21.93984031677246, 24.235233306884766, 38.716331481933594, -50.399044036865234, 3.8545501232147217, -12.817410469055176, -10.807130813598633, -8.414548873901367, -21.90771484375, 22.691499710083008, -15.282072067260742], \"yaxis\": \"y\"}, {\"customdata\": [[\"Empty Garden (hey Hey Johnny)\"], [\"Don't Go Breaking My Heart (Feat. Kiki Dee)\"], [\"I'm Still Standing\"], [\"You Gotta Love Someone\"], [\"Blue Eyes\"], [\"Candle In The Wind (1997)\"], [\"Circle Of Life\"], [\"I Want Love\"], [\"Saturday Night's Alright For Fighting\"], [\"Sad Songs (Say So Much)\"], [\"I Think I'm Going To Kill Myself\"], [\"Bennie And The Jets\"], [\"I Guess That's Why They Call It The Blues\"], [\"Sacrifice\"], [\"Daniel\"], [\"Tiny Dancer\"], [\"Candle In The Wind\"], [\"Don't Let The Sun Go Down On Me\"], [\"Nikita\"], [\"Goodbye Yellow Brick Road\"], [\"Can You Feel The Love Tonight?\"], [\"Skyline Pigeon\"], [\"Rocket Man\"], [\"Your Song\"], [\"The One\"]], \"hovertemplate\": \"artista=Elton John<br>x=%{x}<br>y=%{y}<br>musica=%{customdata[0]}<extra></extra>\", \"legendgroup\": \"Elton John\", \"marker\": {\"color\": \"#636efa\", \"opacity\": 0.5, \"symbol\": \"circle\"}, \"mode\": \"markers\", \"name\": \"Elton John\", \"showlegend\": true, \"type\": \"scattergl\", \"x\": [50.99741744995117, -62.30127716064453, 4.140512466430664, -19.024396896362305, -62.08012771606445, 54.4720458984375, 71.81460571289062, -36.551361083984375, 55.82950973510742, -17.569534301757812, -3.9455788135528564, 4.615133762359619, 16.66216468811035, 51.160011291503906, 15.042740821838379, 28.449127197265625, 63.754058837890625, -36.84792709350586, 16.56543731689453, -1.6212519407272339, 35.20752716064453, 28.648563385009766, -20.023914337158203, -9.657111167907715, 27.661596298217773], \"xaxis\": \"x\", \"y\": [-22.909345626831055, -38.690425872802734, 16.239002227783203, 11.144039154052734, -31.74526596069336, -30.872928619384766, -31.489559173583984, -134.92311096191406, 3.1915924549102783, -3.0060946941375732, -78.83563995361328, 59.81848907470703, 27.889596939086914, -40.04813766479492, 31.537445068359375, -63.588409423828125, -24.932756423950195, -14.91650676727295, -7.939058303833008, 80.23222351074219, 37.28850555419922, -63.65428924560547, 42.28215408325195, -58.514339447021484, -63.34700393676758], \"yaxis\": \"y\"}, {\"customdata\": [[\"Amazing Grace\"], [\"Kiss Me Quick\"], [\"Burning Love\"], [\"Jailhouse Rock\"], [\"And I Love You So\"], [\"It's Now Or Never\"], [\"Can't Help Falling In Love\"], [\"Stand by Me\"], [\"Bridge Over Troubled Water\"], [\"My Way\"], [\"Suspicious Minds\"], [\"Always On My Mind\"], [\"Unchained Melody\"], [\"If I Can Dream\"], [\"Love Me Tender\"], [\"Blue Suede Shoes\"], [\"I Can't Stop Loving You\"], [\"You'll Never Walk Alone\"], [\"You've Lost That Lovin' Feelin'\"], [\"Don't Be Cruel\"], [\"So High\"], [\"The Wonder Of You\"], [\"How Great Thou Art\"], [\"I've Got Confidence\"], [\"Sweet Caroline\"]], \"hovertemplate\": \"artista=Elvis Presley<br>x=%{x}<br>y=%{y}<br>musica=%{customdata[0]}<extra></extra>\", \"legendgroup\": \"Elvis Presley\", \"marker\": {\"color\": \"#EF553B\", \"opacity\": 0.5, \"symbol\": \"circle\"}, \"mode\": \"markers\", \"name\": \"Elvis Presley\", \"showlegend\": true, \"type\": \"scattergl\", \"x\": [11.964399337768555, 48.85240173339844, 38.80754089355469, 5.196957588195801, -5.238864898681641, -6.519328594207764, 26.292869567871094, 9.656991958618164, -34.26811218261719, 59.08525466918945, -49.68927001953125, -1.9032706022262573, -7.678934574127197, -8.867403030395508, 1.1046475172042847, 3.26352596282959, -4.077437400817871, 3.806098461151123, -37.88484191894531, -0.9930832386016846, -30.30618667602539, 1.5578256845474243, 49.5714225769043, -29.435165405273438, 45.37232971191406], \"xaxis\": \"x\", \"y\": [4.816561222076416, 60.7130012512207, -13.713948249816895, 81.85818481445312, -23.382558822631836, -23.27381134033203, 19.718759536743164, 53.34702682495117, -59.87504959106445, -22.406253814697266, -35.112579345703125, 80.29438781738281, -13.632660865783691, -64.6721420288086, 93.95069885253906, 80.30734252929688, -78.92926025390625, 77.5401382446289, 53.439186096191406, 67.30931091308594, 69.24982452392578, 28.834400177001953, -37.632408142089844, -28.694429397583008, 37.371299743652344], \"yaxis\": \"y\"}, {\"customdata\": [[\"Venom\"], [\"When I'm Gone\"], [\"Till I Collapse (feat. Nate Dogg)\"], [\"Mockingbird\"], [\"Offended\"], [\"Not Afraid\"], [\"Without Me\"], [\"Godzilla (Feat. Juice WRLD)\"], [\"Stan (feat. Dido)\"], [\"Lose Yourself\"], [\"Love The Way You Lie (feat. Rihanna)\"], [\"The Real Slim Shady\"], [\"My Name Is\"], [\"Superman (feat. Dina Rae)\"], [\"The Monster (Feat. Rihanna)\"], [\"Cleanin' Out My Closet\"], [\"Space Bound\"], [\"Sing For The Moment\"], [\"Lucky You (Feat. Joyner Lucas)\"], [\"8 Mile Tree Last Battle\"], [\"My Darling\"], [\"Premonition (Intro)\"], [\"The Way I Am\"], [\"Beautiful\"], [\"Rap God\"]], \"hovertemplate\": \"artista=Eminem<br>x=%{x}<br>y=%{y}<br>musica=%{customdata[0]}<extra></extra>\", \"legendgroup\": \"Eminem\", \"marker\": {\"color\": \"#00cc96\", \"opacity\": 0.5, \"symbol\": \"circle\"}, \"mode\": \"markers\", \"name\": \"Eminem\", \"showlegend\": true, \"type\": \"scattergl\", \"x\": [52.59203338623047, 4.620009422302246, 3.6553311347961426, -16.812849044799805, 23.900604248046875, -35.20808029174805, 8.554506301879883, 51.134761810302734, 5.188891410827637, 40.453189849853516, 9.724971771240234, 24.337406158447266, 7.108466625213623, -0.882868230342865, -28.3193416595459, 9.52729606628418, -33.26372528076172, 33.185577392578125, 18.29161262512207, 7.7176337242126465, 9.337546348571777, -29.543167114257812, 11.085556030273438, -39.326419830322266, 55.65095901489258], \"xaxis\": \"x\", \"y\": [6.774415493011475, 58.45528793334961, 82.31028747558594, -1.2394964694976807, 13.352458953857422, -30.62032699584961, 68.47611999511719, 12.934856414794922, 58.19985580444336, -5.050343036651611, -39.43158721923828, 14.59127426147461, 69.85472106933594, 66.42569732666016, -17.521860122680664, 35.78339385986328, -17.321701049804688, 60.56950759887695, 18.32049560546875, 67.91505432128906, 35.434024810791016, -29.32907485961914, 60.816505432128906, -39.507568359375, 2.514004945755005], \"yaxis\": \"y\"}, {\"customdata\": [[\"It's A Free World, Baby\"], [\"Angel Of The Morning\"], [\"Copacabana\"], [\"Every Word Means No\"], [\"I'd Love You To Want Me\"], [\"Endless Love (Duet With Chandler)\"], [\"Holiday Song\"], [\"Trouble With Boys\"], [\"Baby Got Back\"], [\"Emma\"], [\"Friends 'til The End\"], [\"I'll Be There For You\"], [\"I'm In The Shower\"]], \"hovertemplate\": \"artista=Friends<br>x=%{x}<br>y=%{y}<br>musica=%{customdata[0]}<extra></extra>\", \"legendgroup\": \"Friends\", \"marker\": {\"color\": \"#ab63fa\", \"opacity\": 0.5, \"symbol\": \"circle\"}, \"mode\": \"markers\", \"name\": \"Friends\", \"showlegend\": true, \"type\": \"scattergl\", \"x\": [-20.089881896972656, -15.670186042785645, 60.21063232421875, -28.526857376098633, 7.798957824707031, -9.33071231842041, 13.410235404968262, -50.55427551269531, 39.809051513671875, 55.7996940612793, -74.08509063720703, -74.0396728515625, 8.071582794189453], \"xaxis\": \"x\", \"y\": [-50.61616134643555, 18.632465362548828, -21.783477783203125, -9.178964614868164, -2.138918399810791, 88.89144134521484, 35.461544036865234, -21.269752502441406, 18.25497817993164, -18.252403259277344, -25.109464645385742, -25.08473014831543, -25.072534561157227], \"yaxis\": \"y\"}, {\"customdata\": [[\"Aquele Abra\\u00e7o\"]], \"hovertemplate\": \"artista=Gilberto Gil<br>x=%{x}<br>y=%{y}<br>musica=%{customdata[0]}<extra></extra>\", \"legendgroup\": \"Gilberto Gil\", \"marker\": {\"color\": \"#FFA15A\", \"opacity\": 0.5, \"symbol\": \"circle\"}, \"mode\": \"markers\", \"name\": \"Gilberto Gil\", \"showlegend\": true, \"type\": \"scattergl\", \"x\": [39.96248245239258], \"xaxis\": \"x\", \"y\": [-33.41677474975586], \"yaxis\": \"y\"}, {\"customdata\": [[\"Out Ta Get Me\"], [\"Live And Let Die\"], [\"Sweet Child O' Mine\"], [\"November Rain\"], [\"Don't Cry\"], [\"Patience\"], [\"Knockin' On Heaven's Door\"], [\"Welcome To The Jungle\"], [\"Paradise City\"], [\"Estranged\"], [\"Civil War\"], [\"Yesterdays\"], [\"Nightrain\"], [\"Mr. Brownstone\"], [\"Since I Don't Have You\"], [\"November Rain (Piano Version/1986 Sound City Session)\"], [\"Rocket Queen\"], [\"So Fine\"], [\"Better\"], [\"This I Love\"], [\"Sympathy For The Devil\"], [\"Chinese Democracy\"], [\"It's So Easy\"], [\"Used To Love Her\"], [\"You Could Be Mine\"]], \"hovertemplate\": \"artista=Guns N' Roses<br>x=%{x}<br>y=%{y}<br>musica=%{customdata[0]}<extra></extra>\", \"legendgroup\": \"Guns N' Roses\", \"marker\": {\"color\": \"#19d3f3\", \"opacity\": 0.5, \"symbol\": \"circle\"}, \"mode\": \"markers\", \"name\": \"Guns N' Roses\", \"showlegend\": true, \"type\": \"scattergl\", \"x\": [-3.7612874507904053, 14.753273010253906, -33.97385787963867, -16.590534210205078, -54.42816925048828, -38.19339370727539, -24.016298294067383, 0.7802504301071167, 33.372013092041016, -15.351530075073242, 56.916141510009766, -9.569551467895508, -35.368228912353516, -19.478012084960938, -2.052121639251709, -17.169631958007812, -0.5283555388450623, 41.59204864501953, -64.92139434814453, -3.8681294918060303, 7.813587188720703, -15.814024925231934, -31.283550262451172, -55.333805084228516, 5.052366256713867], \"xaxis\": \"x\", \"y\": [-58.007442474365234, -37.10561752319336, 15.70693302154541, -10.27715015411377, 6.678226947784424, 43.278900146484375, -39.92787170410156, -55.544677734375, 33.73942184448242, -17.86284828186035, 2.3279707431793213, -55.77695846557617, 0.8795897364616394, -25.86753273010254, 74.87895202636719, -10.331232070922852, -51.58139419555664, -4.3704071044921875, -0.5687326192855835, -57.37792205810547, -25.661008834838867, -18.971532821655273, -41.703941345214844, 10.841269493103027, 84.76811981201172], \"yaxis\": \"y\"}, {\"customdata\": [[\"Cherry\"], [\"Sunflower, Vol. 6\"], [\"Watermelon Sugar\"], [\"Adore You\"], [\"Lights Up\"], [\"Golden\"], [\"Falling\"], [\"Medicine\"], [\"Sign Of The Times\"]], \"hovertemplate\": \"artista=Harry Styles<br>x=%{x}<br>y=%{y}<br>musica=%{customdata[0]}<extra></extra>\", \"legendgroup\": \"Harry Styles\", \"marker\": {\"color\": \"#FF6692\", \"opacity\": 0.5, \"symbol\": \"circle\"}, \"mode\": \"markers\", \"name\": \"Harry Styles\", \"showlegend\": true, \"type\": \"scattergl\", \"x\": [-45.035614013671875, -51.42073440551758, 46.787803649902344, -17.896772384643555, -59.256351470947266, -4.838292598724365, 25.17571449279785, -4.536727428436279, 40.63212203979492], \"xaxis\": \"x\", \"y\": [5.949715614318848, 10.771547317504883, -48.99834442138672, 22.040945053100586, -32.73540496826172, 3.7786319255828857, 36.69033432006836, 33.131614685058594, -81.49664306640625], \"yaxis\": \"y\"}, {\"customdata\": [[\"Hino das Ilhas Fiji\"], [\"Hino dos Estados Unidos\"]], \"hovertemplate\": \"artista=Hinos<br>x=%{x}<br>y=%{y}<br>musica=%{customdata[0]}<extra></extra>\", \"legendgroup\": \"Hinos\", \"marker\": {\"color\": \"#B6E880\", \"opacity\": 0.5, \"symbol\": \"circle\"}, \"mode\": \"markers\", \"name\": \"Hinos\", \"showlegend\": true, \"type\": \"scattergl\", \"x\": [38.488155364990234, 26.115142822265625], \"xaxis\": \"x\", \"y\": [-32.966217041015625, 73.17729949951172], \"yaxis\": \"y\"}, {\"customdata\": [[\"Warriors\"], [\"Sucker For Pain (Feat. Lil Wayne, Wiz Khalifa, Ty Dolla $ign, Logic & X Ambassadors)\"], [\"Walking The Wire\"], [\"Rise Up\"], [\"Believer (Remix) (Ft. Lil Wayne)\"], [\"I'm So Sorry\"], [\"West Coast\"], [\"Born To Be Yours (With Kygo)\"], [\"Boomerang\"], [\"I Don't Know Why\"], [\"Dream\"], [\"Not Today\"], [\"Love\"], [\"On Top Of The World\"], [\"Believer\"], [\"Demons\"], [\"Thunder\"], [\"Bad Liar\"], [\"Radioactive\"], [\"Whatever It Takes\"], [\"Radioactive (Feat. Kendrick Lamar)\"], [\"Birds\"], [\"It's Time\"], [\"Next To Me\"], [\"Natural\"]], \"hovertemplate\": \"artista=Imagine Dragons<br>x=%{x}<br>y=%{y}<br>musica=%{customdata[0]}<extra></extra>\", \"legendgroup\": \"Imagine Dragons\", \"marker\": {\"color\": \"#FF97FF\", \"opacity\": 0.5, \"symbol\": \"circle\"}, \"mode\": \"markers\", \"name\": \"Imagine Dragons\", \"showlegend\": true, \"type\": \"scattergl\", \"x\": [-10.756522178649902, 20.926862716674805, 37.09547424316406, 35.362735748291016, 23.239639282226562, 42.574466705322266, -25.553743362426758, -9.281457901000977, -26.797332763671875, -57.239566802978516, -10.187528610229492, -2.564103364944458, 44.434078216552734, 52.220340728759766, 23.243741989135742, 52.65317153930664, 48.39896011352539, -33.97551727294922, 72.64086151123047, 4.5339789390563965, 72.54478454589844, -30.634122848510742, -62.175567626953125, -38.017295837402344, -9.26749324798584], \"xaxis\": \"x\", \"y\": [3.0298871994018555, 13.801323890686035, 28.95395278930664, 24.568544387817383, 60.42910385131836, -59.12709045410156, 51.9144172668457, 11.793571472167969, 68.20088195800781, -9.879973411560059, -59.35506820678711, -51.14759826660156, 48.77507400512695, 7.3481597900390625, 60.42974090576172, -40.23366165161133, 11.28320026397705, 54.00617599487305, 11.987319946289062, -9.12285041809082, 11.854601860046387, 13.299188613891602, -1.0043821334838867, 62.00820541381836, -42.154319763183594], \"yaxis\": \"y\"}, {\"customdata\": [[\"Starting All Over Again\"], [\"Maui Hawaiian Sup'pa Man\"], [\"Tengoku Kara Kaminari (thunder From Heaven)\"], [\"Ahi Wela\"], [\"Kamalani\"], [\"What a Wonderful World\"], [\"E Ala E\"], [\"Hawaiian Like Me\"], [\"Hawaii 78\"], [\"In This Life\"], [\"Margarita\"], [\"Somewhere Over The Rainbow\"], [\"Sea Of Love\"]], \"hovertemplate\": \"artista=Israel Kamakawiwo'ole<br>x=%{x}<br>y=%{y}<br>musica=%{customdata[0]}<extra></extra>\", \"legendgroup\": \"Israel Kamakawiwo'ole\", \"marker\": {\"color\": \"#FECB52\", \"opacity\": 0.5, \"symbol\": \"circle\"}, \"mode\": \"markers\", \"name\": \"Israel Kamakawiwo'ole\", \"showlegend\": true, \"type\": \"scattergl\", \"x\": [-32.37096405029297, 30.83464813232422, 18.254043579101562, 28.773752212524414, 40.79146957397461, 59.74699020385742, 25.496971130371094, 59.83875274658203, 56.205692291259766, 45.164608001708984, 16.3286075592041, 37.38814926147461, 32.835609436035156], \"xaxis\": \"x\", \"y\": [-6.636290073394775, 72.96673583984375, 30.190231323242188, 8.343282699584961, -14.277115821838379, 17.20553207397461, 73.03057861328125, 50.56105041503906, 6.73532772064209, -22.389726638793945, 31.00079917907715, -33.19784164428711, 45.5684700012207], \"yaxis\": \"y\"}, {\"customdata\": [[\"It's Killing Me\"], [\"Quite Miss Home\"], [\"Can't Take My Eyes Off You\"], [\"Car's Outside\"], [\"Back From The Edge\"], [\"If You Let Me\"], [\"Empty Space\"], [\"Fall\"], [\"Say You Won't Let Go\"], [\"Naked\"], [\"Impossible\"], [\"Falling Like The Stars\"], [\"Train Wreck\"], [\"Can I Be Him\"], [\"Always\"], [\"Rewrite The Stars (with Anne-Marie)\"], [\"At My Weakest\"], [\"Is This Love\"], [\"I Am\"], [\"Safe Inside\"], [\"Finally\"], [\"Maybe\"], [\"Certain Things (feat. Chasing Grace)\"], [\"You're Nobody 'Til Somebody Loves You\"], [\"You (Feat. Travis Barker)\"]], \"hovertemplate\": \"artista=James Arthur<br>x=%{x}<br>y=%{y}<br>musica=%{customdata[0]}<extra></extra>\", \"legendgroup\": \"James Arthur\", \"marker\": {\"color\": \"#636efa\", \"opacity\": 0.5, \"symbol\": \"circle\"}, \"mode\": \"markers\", \"name\": \"James Arthur\", \"showlegend\": true, \"type\": \"scattergl\", \"x\": [-19.543081283569336, 17.22136688232422, 32.043243408203125, 2.755697011947632, -48.94485855102539, -16.342376708984375, -68.6424789428711, -30.07684326171875, -20.444292068481445, -60.122100830078125, 37.79100799560547, -25.815946578979492, 5.3353495597839355, 0.12563824653625488, 7.433603763580322, -8.848763465881348, -31.672988891601562, 25.960071563720703, 0.48137131333351135, -14.228222846984863, -8.757336616516113, 26.6284122467041, 10.183606147766113, -59.973915100097656, 48.60677719116211], \"xaxis\": \"x\", \"y\": [-28.562711715698242, -9.040783882141113, 44.386383056640625, 2.066287040710449, -37.439109802246094, 17.680856704711914, -12.297682762145996, -30.44719886779785, -23.625591278076172, 12.821980476379395, -57.078773498535156, -72.8306655883789, -67.20813751220703, -39.37384796142578, -3.689464569091797, 9.9572172164917, -16.625534057617188, -45.13676452636719, -38.83500671386719, 33.87324523925781, -59.36819839477539, -43.799781799316406, -38.96377182006836, 12.3189058303833, -1.4554612636566162], \"yaxis\": \"y\"}, {\"customdata\": [[\"I Won't Give Up\"], [\"93 Million Miles\"], [\"Lucky (feat Ximena Sari\\u00f1ana)\"], [\"Hearing Double\"], [\"The World As I See It\"], [\"Love Is Still The Answer\"], [\"You Can Rely On Me\"], [\"5/6\"], [\"Love Love Love\"], [\"A Beautiful Mess\"], [\"I'm Yours (Vers\\u00e3o Videoclipe)\"], [\"Coffee Cup Song\"], [\"You do You (Feat. Tiffany Haddish)\"], [\"Better With You\"], [\"Wise Woman\"], [\"Make Love\"], [\"Butterfly\"], [\"Let's See What The Night Can Do\"], [\"Have It All\"], [\"Song For A Friend\"], [\"Love Someone\"], [\"Look For The Good\"], [\"Gratitude\"], [\"I'm Yours\"], [\"Lucky (feat. Colbie Caillat)\"]], \"hovertemplate\": \"artista=Jason Mraz<br>x=%{x}<br>y=%{y}<br>musica=%{customdata[0]}<extra></extra>\", \"legendgroup\": \"Jason Mraz\", \"marker\": {\"color\": \"#EF553B\", \"opacity\": 0.5, \"symbol\": \"circle\"}, \"mode\": \"markers\", \"name\": \"Jason Mraz\", \"showlegend\": true, \"type\": \"scattergl\", \"x\": [-39.80733108520508, -0.38191360235214233, 50.00286102294922, -69.22900390625, 14.189266204833984, 47.346885681152344, -16.550506591796875, 1.1492620706558228, 15.809861183166504, 5.4392170906066895, 13.0365571975708, -4.3280439376831055, 45.424068450927734, -59.810665130615234, 67.68717193603516, 47.65275955200195, -6.911884784698486, 35.63727569580078, -7.108643531799316, 17.909297943115234, 22.408248901367188, 37.19896697998047, -44.58256149291992, 13.090588569641113, 59.63417434692383], \"xaxis\": \"x\", \"y\": [-40.30607604980469, 9.330061912536621, -13.977984428405762, -12.365907669067383, 7.958404064178467, 50.00371170043945, 37.693851470947266, -18.35582733154297, 4.733832836151123, -56.900062561035156, 6.142920017242432, -12.225988388061523, 50.053768157958984, -11.002906799316406, -31.674583435058594, 59.37601089477539, 35.074378967285156, 35.07678985595703, 10.952166557312012, -0.6623229384422302, -47.22710037231445, -5.566451072692871, 3.1202173233032227, 5.582502841949463, -23.63030433654785], \"yaxis\": \"y\"}, {\"customdata\": [[\"Conversations In The Dark\"], [\"If You're Out There\"], [\"Favorite Place\"], [\"I Do\"], [\"Tonight (Best You Ever Had) (feat. Ludacris)\"], [\"Save Room\"], [\"Aim High\"], [\"Beauty and The Beast\"], [\"I Love, You Love\"], [\"Actions\"], [\"All Of Me\"], [\"It Don't Have To Change\"], [\"Ooh Laa\"], [\"Always\"], [\"P.D.A. (We Just Don't Care)\"], [\"A Million\"], [\"Never Break\"], [\"Ordinary People\"], [\"A Good Night (Feat. BloodPop\\u00ae)\"], [\"U Move, I Move (Feat. Jhen\\u00e9 Aiko)\"], [\"Preach\"], [\"Our Generation (the Hope Of The World)\"], [\"Wild (Ft. Gary Clark Jr.)\"], [\"You & I (Nobody in the World)\"], [\"Love Me Now\"]], \"hovertemplate\": \"artista=John Legend<br>x=%{x}<br>y=%{y}<br>musica=%{customdata[0]}<extra></extra>\", \"legendgroup\": \"John Legend\", \"marker\": {\"color\": \"#00cc96\", \"opacity\": 0.5, \"symbol\": \"circle\"}, \"mode\": \"markers\", \"name\": \"John Legend\", \"showlegend\": true, \"type\": \"scattergl\", \"x\": [-35.3240852355957, -66.46739196777344, 30.685279846191406, -53.92264938354492, 59.760101318359375, 20.509769439697266, 36.20240020751953, 31.18938446044922, 1.6659549474716187, -32.67399597167969, -14.767300605773926, -62.02399444580078, 37.3054084777832, -63.66082763671875, -5.263773441314697, -7.228937149047852, 14.33741569519043, -4.260249614715576, -26.559263229370117, -46.04111099243164, -66.90421295166016, 31.9945011138916, -9.075874328613281, 38.67014694213867, -30.188695907592773], \"xaxis\": \"x\", \"y\": [-21.298969268798828, -3.5820446014404297, -5.079155921936035, -20.191823959350586, 49.95756912231445, 13.708704948425293, 50.296409606933594, -73.83943176269531, 93.27159881591797, 15.68179988861084, -67.35126495361328, 15.551339149475098, 8.775572776794434, 33.033992767333984, -50.01167678833008, -15.027680397033691, -60.62681579589844, -50.473812103271484, 22.943172454833984, -11.217218399047852, 32.05144119262695, 60.04492950439453, -22.637277603149414, -68.99182891845703, 3.4301960468292236], \"yaxis\": \"y\"}, {\"customdata\": [[\"Real Love\"], [\"Woman\"], [\"God\"], [\"Imagine\"], [\"Intuition\"], [\"Working Class Hero\"], [\"Watching The Wheels\"], [\"Give Peace A Chance\"], [\"Gimme Some Truth\"], [\"Nobody Loves You (When You're Down And Out)\"], [\"Instant Karma\"], [\"Isolation\"], [\"Whatever Gets You Through The Night\"], [\"I Know (I Know)\"], [\"Jealous Guy\"], [\"Oh My Love\"], [\"Stand By Me\"], [\"Mother\"], [\"(Just Like) Starting Over\"], [\"Love\"], [\"How do You Sleep?\"], [\"Mind Games\"], [\"In My Life\"], [\"Beautiful Boy (Darling Boy)\"]], \"hovertemplate\": \"artista=John Lennon<br>x=%{x}<br>y=%{y}<br>musica=%{customdata[0]}<extra></extra>\", \"legendgroup\": \"John Lennon\", \"marker\": {\"color\": \"#ab63fa\", \"opacity\": 0.5, \"symbol\": \"circle\"}, \"mode\": \"markers\", \"name\": \"John Lennon\", \"showlegend\": true, \"type\": \"scattergl\", \"x\": [62.75205612182617, 2.3642308712005615, -7.56376838684082, 1.7188911437988281, 23.961759567260742, -32.9958381652832, -39.12033462524414, 7.7624311447143555, -25.056564331054688, 25.058013916015625, 50.3854866027832, -23.039499282836914, 2.086946487426758, 12.965819358825684, -1.460222840309143, 1.718371868133545, -0.4341665208339691, -38.07488250732422, -17.42449378967285, 47.8905143737793, 13.258780479431152, 32.35870361328125, 26.399744033813477, 36.33835220336914], \"xaxis\": \"x\", \"y\": [28.688488006591797, -12.634720802307129, -36.07761001586914, -71.3939437866211, 22.706205368041992, -16.48692512512207, -36.857215881347656, -19.791507720947266, -32.462249755859375, 13.403182983398438, -30.316102981567383, 2.337057590484619, 52.41488265991211, -10.089619636535645, 65.85643768310547, 81.39794158935547, 44.90949249267578, 62.04803466796875, -8.477410316467285, 50.21226119995117, 32.92336654663086, 14.979453086853027, -9.719408988952637, -9.063194274902344], \"yaxis\": \"y\"}, {\"customdata\": [[\"Come Back To Bed\"], [\"Slow Dancing In A Burning Room\"], [\"Free Fallin'\"], [\"Your Body Is A Wonderland\"], [\"Gravity\"], [\"Daughters\"], [\"XO\"], [\"Half Of My Heart\"], [\"Never On The Day You Leave\"], [\"3x5\"], [\"Who Says\"], [\"No Such Thing\"], [\"Love Is a Verb\"], [\"Waiting On The World To Change\"], [\"New Light\"], [\"Love On The Weekend\"], [\"Say\"], [\"Heartbreak Warfare\"], [\"Stop This Train\"], [\"I'm Gonna Find Another You\"], [\"Edge Of Desire\"], [\"I Guess I Just Feel Like\"], [\"Still Feel Like Your Man\"], [\"In Your Atmosphere\"], [\"Who You Love (Feat. Katy Perry)\"]], \"hovertemplate\": \"artista=John Mayer<br>x=%{x}<br>y=%{y}<br>musica=%{customdata[0]}<extra></extra>\", \"legendgroup\": \"John Mayer\", \"marker\": {\"color\": \"#FFA15A\", \"opacity\": 0.5, \"symbol\": \"circle\"}, \"mode\": \"markers\", \"name\": \"John Mayer\", \"showlegend\": true, \"type\": \"scattergl\", \"x\": [-48.870147705078125, -34.984275817871094, 7.295676231384277, 56.465763092041016, 30.013500213623047, -4.34389066696167, 35.79061508178711, -30.548145294189453, 15.339098930358887, -36.9282112121582, -6.550656318664551, 51.361671447753906, -17.875364303588867, -11.720767974853516, -57.78554153442383, 5.268226146697998, 62.110958099365234, -8.722328186035156, -48.89887237548828, -10.73277759552002, -62.584495544433594, -8.95847225189209, 3.7968244552612305, -10.006072998046875, 22.595197677612305], \"xaxis\": \"x\", \"y\": [-36.84124755859375, -17.729276657104492, 59.89954376220703, -24.671953201293945, 33.55670928955078, 18.3160343170166, 33.71976089477539, -20.888093948364258, -12.464601516723633, -38.72751235961914, 1.9789936542510986, 14.116609573364258, -56.44403839111328, -42.32122802734375, 20.92563819885254, -69.59945678710938, 28.718509674072266, -6.42862606048584, -35.5247917175293, -23.477340698242188, -12.408699035644531, -58.074806213378906, 15.866778373718262, 0.12334010750055313, -36.68765640258789], \"yaxis\": \"y\"}, {\"customdata\": [[\"Company\"], [\"Love Yourself\"], [\"Stuck With U (With Ariana Grande)\"], [\"Yummy\"], [\"Sorry\"], [\"Baby\"], [\"Confident (Feat. Chance The Rapper)\"], [\"Eenie Meenie\"], [\"Never Say Never (feat. Jaden Smith)\"], [\"Purpose\"], [\"One Time\"], [\"Love Me\"], [\"Forever (Feat. Post Malone and Clever)\"], [\"What Do You Mean?\"], [\"As Long As You Love Me (feat. Big Sean)\"], [\"Heartbreaker\"], [\"E.T.A.\"], [\"All That Matters\"], [\"Come Around Me\"], [\"Baby (feat. Ludacris)\"], [\"One Less Lonely Girl\"], [\"Habitual\"], [\"All Around Me\"], [\"HOLY (Ft. Chance The Rapper)\"], [\"Intentions (Ft. Quavo)\"]], \"hovertemplate\": \"artista=Justin Bieber<br>x=%{x}<br>y=%{y}<br>musica=%{customdata[0]}<extra></extra>\", \"legendgroup\": \"Justin Bieber\", \"marker\": {\"color\": \"#19d3f3\", \"opacity\": 0.5, \"symbol\": \"circle\"}, \"mode\": \"markers\", \"name\": \"Justin Bieber\", \"showlegend\": true, \"type\": \"scattergl\", \"x\": [-5.239480018615723, -33.01264190673828, -6.4234938621521, 41.78617858886719, -21.31134033203125, -45.49840545654297, 34.65373992919922, 19.808382034301758, 2.1620752811431885, 18.424772262573242, 56.050018310546875, 0.9688462615013123, 14.724050521850586, -15.883654594421387, 21.608606338500977, -26.42314910888672, -15.528881072998047, 16.796918869018555, 1.093652367591858, -45.49907302856445, -36.89541244506836, 41.42585754394531, -12.78320026397705, 1.0747193098068237, -17.071914672851562], \"xaxis\": \"x\", \"y\": [2.041076183319092, -13.168600082397461, 47.362606048583984, 16.478336334228516, 17.656169891357422, 53.35991668701172, 8.594566345214844, 19.948469161987305, 82.7968978881836, -0.7601520419120789, -24.91908836364746, -4.00927209854126, 32.533958435058594, 3.792587995529175, -50.298221588134766, 23.358095169067383, 59.24684143066406, 44.201812744140625, -4.586944103240967, 53.36138153076172, 33.48602294921875, 11.844616889953613, 45.493446350097656, 52.37974166870117, 59.08525848388672], \"yaxis\": \"y\"}, {\"customdata\": [[\"Suit & Tie (Feat. Jay Z)\"], [\"Like I Love You (feat. Clipse)\"], [\"Perfect For Me\"], [\"Take Back The Night\"], [\"4 Minutes\"], [\"Pusher Love Girl\"], [\"Filthy\"], [\"Rock Your Body\"], [\"Se\\u00f1orita\"], [\"(And She Said) Take Me Now (feat. Janet Jackson)\"], [\"True Colors (Feat. Anna Kendrick)\"], [\"Summer Love\"], [\"Love Never Felt So Good\"], [\"Not A Bad Thing\"], [\"Don't Slack (With Anderson .Paak)\"], [\"The Other Side (With SZA)\"], [\"My Love (feat. T.I.)\"], [\"TKO\"], [\"SexyBack\"], [\"Cry Me A River\"], [\"Say Something (feat. Chris Stapleton)\"], [\"What Goes Around.../...Comes Around (Interlude)\"], [\"Can't Stop The Feeling\"], [\"Mirrors\"], [\"Apologize\"]], \"hovertemplate\": \"artista=Justin Timberlake<br>x=%{x}<br>y=%{y}<br>musica=%{customdata[0]}<extra></extra>\", \"legendgroup\": \"Justin Timberlake\", \"marker\": {\"color\": \"#FF6692\", \"opacity\": 0.5, \"symbol\": \"circle\"}, \"mode\": \"markers\", \"name\": \"Justin Timberlake\", \"showlegend\": true, \"type\": \"scattergl\", \"x\": [53.4675178527832, -15.313826560974121, -51.2826042175293, 35.1263427734375, -17.4002742767334, -37.142398834228516, -15.697589874267578, -14.283058166503906, -23.398040771484375, -42.059226989746094, -0.5903955698013306, -14.255824089050293, 26.995800018310547, -17.5020809173584, -25.851709365844727, -24.426673889160156, -59.719764709472656, 9.164607048034668, 6.841221809387207, -13.797248840332031, -28.306921005249023, -59.65965270996094, 7.883647441864014, -22.150203704833984, -50.21498489379883], \"xaxis\": \"x\", \"y\": [1.666676640510559, 17.915414810180664, 1.2573881149291992, 34.12570571899414, 16.244247436523438, 36.962059020996094, 16.51502799987793, 14.289708137512207, 34.200958251953125, -7.096704006195068, -50.199642181396484, 33.295196533203125, 52.34542465209961, 0.08519979566335678, 38.18613052368164, 50.820560455322266, -39.581111907958984, 27.370502471923828, 70.53372192382812, 18.125253677368164, -26.27737808227539, 17.235048294067383, 43.32590866088867, -61.189449310302734, 41.07224655151367], \"yaxis\": \"y\"}, {\"customdata\": [[\"Champagne Problems\"], [\"Hot N' Cold\"], [\"I Kissed A Girl\"], [\"Teenage Dream\"], [\"E.T. (feat. Kanye West)\"], [\"Cry About It Later\"], [\"The One That Got Away\"], [\"Smile\"], [\"Firework\"], [\"Dark Horse (Feat. Juicy J)\"], [\"Roar\"], [\"California Gurls (feat. Snoop Dogg)\"], [\"What Makes a Woman\"], [\"Daisies\"], [\"Last Friday Night (T.G.I.F.)\"], [\"Birthday\"], [\"Tucked\"], [\"Only Love\"], [\"Thinking Of You\"], [\"Resilient\"], [\"Part Of Me\"], [\"Unconditionally\"], [\"365 (With Zedd)\"], [\"Not The End Of The World\"], [\"Never Really Over\"]], \"hovertemplate\": \"artista=Katy Perry<br>x=%{x}<br>y=%{y}<br>musica=%{customdata[0]}<extra></extra>\", \"legendgroup\": \"Katy Perry\", \"marker\": {\"color\": \"#B6E880\", \"opacity\": 0.5, \"symbol\": \"circle\"}, \"mode\": \"markers\", \"name\": \"Katy Perry\", \"showlegend\": true, \"type\": \"scattergl\", \"x\": [50.17507553100586, -26.02389144897461, 7.4646501541137695, 28.35791778564453, 35.82500076293945, -33.7794303894043, -62.117088317871094, -15.582674026489258, 46.35782241821289, 20.12656593322754, 4.784319877624512, 48.11195373535156, 38.8978157043457, -39.10062026977539, 51.58468246459961, -7.9399824142456055, 36.796844482421875, 47.46248245239258, -0.8477150201797485, 9.430375099182129, 25.19309425354004, -40.60095977783203, 24.94246482849121, 38.50983428955078, 9.030271530151367], \"xaxis\": \"x\", \"y\": [45.208126068115234, -53.43251037597656, -53.19721603393555, -3.48937726020813, 2.672466516494751, 2.4171345233917236, -15.252187728881836, 20.26246452331543, -27.7432804107666, -18.414226531982422, 18.7565975189209, -11.194704055786133, -6.119349479675293, -36.33803176879883, -24.139280319213867, -6.683980464935303, 12.325007438659668, 59.17036056518555, -41.29938888549805, 17.842891693115234, 0.5682110786437988, 12.577656745910645, -27.109251022338867, 34.226768493652344, -53.43829345703125], \"yaxis\": \"y\"}, {\"customdata\": [[\"Free Woman\"], [\"I'll Never Love Again\"], [\"Always Remember Us This Way\"], [\"Fun Tonight\"], [\"Yo\\u00fc And I\"], [\"Plastic Doll\"], [\"Paparazzi\"], [\"Replay\"], [\"Chromatica I\"], [\"Enigma\"], [\"Telephone (feat. Beyonc\\u00e9)\"], [\"Shallow (With Bradley Cooper)\"], [\"911\"], [\"1000 Doves\"], [\"Stupid Love\"], [\"Poker Face\"], [\"Bad Romance\"], [\"Alejandro\"], [\"Born This Way\"], [\"Sour Candy (with Blackpink)\"], [\"Million Reasons\"], [\"Sine From Above (with Elton John)\"], [\"Alice\"], [\"Rain On Me (With Ariana Grande)\"], [\"Babylon\"]], \"hovertemplate\": \"artista=Lady Gaga<br>x=%{x}<br>y=%{y}<br>musica=%{customdata[0]}<extra></extra>\", \"legendgroup\": \"Lady Gaga\", \"marker\": {\"color\": \"#FF97FF\", \"opacity\": 0.5, \"symbol\": \"circle\"}, \"mode\": \"markers\", \"name\": \"Lady Gaga\", \"showlegend\": true, \"type\": \"scattergl\", \"x\": [-36.80451965332031, -81.68616485595703, -10.165797233581543, -51.44579315185547, 59.587982177734375, -58.406028747558594, 15.931121826171875, 4.61817741394043, -74.70406341552734, 2.398639678955078, 3.0703699588775635, 5.761761665344238, -55.918880462646484, -16.025127410888672, -30.92625617980957, -58.180023193359375, -3.6598873138427734, -3.591749906539917, 44.342586517333984, 39.03229522705078, -34.79304885864258, 36.3158073425293, 25.157398223876953, 37.91869354248047, 30.841819763183594], \"xaxis\": \"x\", \"y\": [39.96957778930664, -33.277984619140625, -32.10764694213867, -0.10921107977628708, 5.391178131103516, -42.81182861328125, 52.634212493896484, 40.40098571777344, -57.94585418701172, 6.92918586730957, 78.4141616821289, 41.16128921508789, -43.037803649902344, 56.51229476928711, 49.25230026245117, -41.49543380737305, -30.72283172607422, -31.2354679107666, 20.811098098754883, 4.885715484619141, -32.06870651245117, 5.429452896118164, 25.40158462524414, 30.028749465942383, -13.21001148223877], \"yaxis\": \"y\"}, {\"customdata\": [[\"Summertime Sadness\"], [\"Carmen\"], [\"Hope is a dangerous thing for a woman like me to have - but I have it\"], [\"Born To Die\"], [\"Video Games\"], [\"Happiness Is a Butterfly\"], [\"Young And Beautiful\"], [\"Blue Jeans\"], [\"LA Who Am I to Love You?\"], [\"Norman Fucking Rockwell\"], [\"Lust For Life (Feat. The Weeknd)\"], [\"Fuck It I Love You\"], [\"Doin' Time\"], [\"Cinnamon Girl\"], [\"Cherry\"], [\"West Coast\"], [\"Love\"], [\"Love Song\"], [\"Mariners Apartment Complex\"], [\"Ride\"], [\"The Land of 1000 Fires\"], [\"13 Beaches\"], [\"Ride (Monologue)\"], [\"Dark Paradise\"], [\"Ultraviolence\"]], \"hovertemplate\": \"artista=Lana Del Rey<br>x=%{x}<br>y=%{y}<br>musica=%{customdata[0]}<extra></extra>\", \"legendgroup\": \"Lana Del Rey\", \"marker\": {\"color\": \"#FECB52\", \"opacity\": 0.5, \"symbol\": \"circle\"}, \"mode\": \"markers\", \"name\": \"Lana Del Rey\", \"showlegend\": true, \"type\": \"scattergl\", \"x\": [12.088850021362305, 12.505871772766113, 59.99966812133789, 35.266632080078125, 38.65280532836914, 7.402813911437988, 21.051280975341797, 15.985856056213379, 5.290787220001221, -8.805703163146973, 26.243083953857422, -25.969392776489258, 16.556827545166016, 57.59859085083008, -63.29832458496094, 28.902074813842773, -36.410037994384766, 7.992711067199707, -1.08671236038208, 11.50775146484375, 59.4332275390625, -4.716543674468994, 11.26911735534668, -61.323692321777344, -18.323055267333984], \"xaxis\": \"x\", \"y\": [34.901309967041016, 37.10407257080078, -1.3243381977081299, 36.73878479003906, -68.95787048339844, 42.71141052246094, -20.54913330078125, -12.041778564453125, 40.29387283325195, -42.53512191772461, 24.665061950683594, -1.8688721656799316, 21.43274688720703, 51.047122955322266, 19.5954647064209, -2.9343488216400146, 44.72659683227539, 39.922122955322266, 8.704102516174316, 58.8851318359375, -23.205385208129883, -55.70276641845703, 59.84070587158203, -31.580154418945312, -25.120040893554688], \"yaxis\": \"y\"}, {\"customdata\": [[\"One\"], [\"Someone You Loved\"], [\"Before You Go\"], [\"Bruises\"], [\"Hold Me While You Wait\"], [\"Grace\"], [\"Forever\"], [\"Maybe\"], [\"Don't Get Me Wrong\"]], \"hovertemplate\": \"artista=Lewis Capaldi<br>x=%{x}<br>y=%{y}<br>musica=%{customdata[0]}<extra></extra>\", \"legendgroup\": \"Lewis Capaldi\", \"marker\": {\"color\": \"#636efa\", \"opacity\": 0.5, \"symbol\": \"circle\"}, \"mode\": \"markers\", \"name\": \"Lewis Capaldi\", \"showlegend\": true, \"type\": \"scattergl\", \"x\": [16.59208869934082, -42.68185806274414, 19.610130310058594, -32.35478973388672, -27.37859344482422, -15.023395538330078, 10.69520378112793, -37.2081184387207, -45.75087356567383], \"xaxis\": \"x\", \"y\": [-12.141430854797363, -54.33821487426758, 33.6064453125, -17.966110229492188, 28.759279251098633, -46.75270462036133, -16.64834976196289, -28.814878463745117, 7.157078742980957], \"yaxis\": \"y\"}, {\"customdata\": [[\"Somewhere I Belong\"], [\"Leave Out All The Rest\"], [\"Crawling\"], [\"Numb\"], [\"In The End\"], [\"Burn It Down\"], [\"One More Light\"], [\"In The End (demo Lpu 11)\"], [\"Castle Of Glass\"], [\"What I've Done\"], [\"Faint\"], [\"Papercut\"], [\"Breaking The Habit\"], [\"Waiting For The End\"], [\"From The Inside\"], [\"New Divide\"], [\"One Step Closer\"], [\"Heavy (feat. Kiiara)\"], [\"A Place For My Head\"], [\"Lying From You\"], [\"Iridescent\"], [\"Points Of Authority\"], [\"Lost In The Echo\"], [\"Shadow Of The Day\"], [\"Talking To Myself\"]], \"hovertemplate\": \"artista=Linkin Park<br>x=%{x}<br>y=%{y}<br>musica=%{customdata[0]}<extra></extra>\", \"legendgroup\": \"Linkin Park\", \"marker\": {\"color\": \"#EF553B\", \"opacity\": 0.5, \"symbol\": \"circle\"}, \"mode\": \"markers\", \"name\": \"Linkin Park\", \"showlegend\": true, \"type\": \"scattergl\", \"x\": [-74.2448959350586, -29.347166061401367, 23.470237731933594, -59.50621795654297, 7.51603889465332, -22.49463653564453, 11.153485298156738, 5.163634300231934, 54.899757385253906, 12.44670581817627, -83.6223373413086, 27.730674743652344, -36.71216583251953, -11.495969772338867, -62.05414581298828, 60.62099075317383, -58.32596206665039, -27.094745635986328, -13.450050354003906, -34.028804779052734, -29.40554428100586, -8.046051979064941, -51.446746826171875, 13.049036026000977, 40.18214797973633], \"xaxis\": \"x\", \"y\": [15.672736167907715, -7.9725661277771, 70.12023162841797, -42.16050720214844, -52.482826232910156, -55.65980911254883, 32.251895904541016, -53.53093719482422, -19.355175018310547, -59.322574615478516, 3.9020464420318604, -1.503934621810913, 0.4910660684108734, -41.30231475830078, -12.752201080322266, -24.903106689453125, 15.341763496398926, -26.806283950805664, 60.569862365722656, 14.252073287963867, -44.44107437133789, 58.481414794921875, -25.364707946777344, -5.087210655212402, -23.664447784423828], \"yaxis\": \"y\"}, {\"customdata\": [[\"Eu Te Quero (Com Zeeba)\"]], \"hovertemplate\": \"artista=Manu Gavassi<br>x=%{x}<br>y=%{y}<br>musica=%{customdata[0]}<extra></extra>\", \"legendgroup\": \"Manu Gavassi\", \"marker\": {\"color\": \"#00cc96\", \"opacity\": 0.5, \"symbol\": \"circle\"}, \"mode\": \"markers\", \"name\": \"Manu Gavassi\", \"showlegend\": true, \"type\": \"scattergl\", \"x\": [38.624874114990234], \"xaxis\": \"x\", \"y\": [-33.867919921875], \"yaxis\": \"y\"}, {\"customdata\": [[\"This Love\"], [\"Moves Like Jagger (feat. Christina Aguilera)\"], [\"Nobody's Love\"], [\"Animals\"], [\"Payphone (Feat. Wiz Khalifa)\"], [\"Maps\"], [\"Don't Wanna Know (Feat. Kendrick Lamar)\"], [\"Girls Like You\"], [\"Cold (Feat. Future)\"], [\"Love Somebody\"], [\"What Lovers Do (feat. SZA)\"], [\"Daylight\"], [\"Lost Stars\"], [\"Won't Go Home Without You\"], [\"It Was Always You\"], [\"Payphone (Non-Rap Version)\"], [\"Best 4 U\"], [\"Harder To Breathe\"], [\"She Will Be Loved\"], [\"One More Night\"], [\"Sugar\"], [\"Sunday Morning\"], [\"Girls Like You (Feat. Cardi B)\"], [\"Memories\"]], \"hovertemplate\": \"artista=Maroon 5<br>x=%{x}<br>y=%{y}<br>musica=%{customdata[0]}<extra></extra>\", \"legendgroup\": \"Maroon 5\", \"marker\": {\"color\": \"#ab63fa\", \"opacity\": 0.5, \"symbol\": \"circle\"}, \"mode\": \"markers\", \"name\": \"Maroon 5\", \"showlegend\": true, \"type\": \"scattergl\", \"x\": [-40.28656005859375, -14.315367698669434, 37.07353591918945, 12.507192611694336, -8.228616714477539, -13.304181098937988, -3.144209861755371, -51.41917419433594, -45.44332504272461, -37.267005920410156, 77.62236785888672, -15.712067604064941, 4.96927547454834, -14.551825523376465, 15.680913925170898, -8.255058288574219, -62.49702453613281, 10.82075023651123, -1.60236656665802, 26.387142181396484, -46.68537139892578, -14.586627960205078, -51.42473220825195, 18.492868423461914], \"xaxis\": \"x\", \"y\": [-44.34218215942383, 37.02066421508789, 50.21759796142578, 44.32295608520508, 11.270235061645508, -68.24861907958984, 67.14755249023438, 49.63071823120117, 21.060293197631836, 0.009516052901744843, 8.167228698730469, -16.959590911865234, -67.9048843383789, -18.478378295898438, 4.03707218170166, 11.287397384643555, 0.3410389721393585, -0.8076480031013489, -52.983821868896484, -43.22407150268555, -13.183646202087402, -41.84165573120117, 49.62782669067383, 17.35387420654297], \"yaxis\": \"y\"}, {\"customdata\": [[\"The Unforgiven\"], [\"To Live Is To Die\"], [\"Until It Sleeps\"], [\"The Unforgiven Iii\"], [\"Bleeding Me\"], [\"Turn The Page\"], [\"Of Wolf And Man\"], [\"The Memory Remains\"], [\"All Within My Hands\"], [\"Fade To Black\"], [\"Nothing Else Matters\"], [\"The Call of Ktulu\"], [\"For Whom The Bell Tolls\"], [\"The Ecstasy Of Gold\"], [\"Sad But True\"], [\"Wherever I May Roam\"], [\"The Unforgiven Ii\"], [\"Whiskey In The Jar\"], [\"One\"], [\"Master Of Puppets\"], [\"Enter Sandman\"], [\"Creeping Death\"], [\"Ride The Lightning\"], [\"Fuel\"], [\"Seek And Destroy\"]], \"hovertemplate\": \"artista=Metallica<br>x=%{x}<br>y=%{y}<br>musica=%{customdata[0]}<extra></extra>\", \"legendgroup\": \"Metallica\", \"marker\": {\"color\": \"#FFA15A\", \"opacity\": 0.5, \"symbol\": \"circle\"}, \"mode\": \"markers\", \"name\": \"Metallica\", \"showlegend\": true, \"type\": \"scattergl\", \"x\": [13.732353210449219, 52.990257263183594, 1.2704756259918213, 8.959773063659668, -39.986751556396484, 24.940807342529297, 65.46820831298828, 44.80658721923828, -15.460204124450684, 7.715305805206299, 52.70585632324219, -63.94466018676758, 59.56207275390625, -75.22692108154297, -1.752815842628479, 7.233425617218018, 12.637406349182129, 67.17804718017578, 14.268794059753418, 40.305965423583984, 29.339954376220703, 53.869895935058594, 51.30772018432617, 0.3743635416030884, 40.81218719482422], \"xaxis\": \"x\", \"y\": [-60.36495590209961, -38.56230926513672, -5.492893695831299, 53.36253356933594, -38.99295425415039, -25.733240127563477, 6.548336982727051, -48.56103515625, -67.1767349243164, -49.9342041015625, -67.10514068603516, 20.616840362548828, -27.706100463867188, -57.68388366699219, 9.144206047058105, 18.63963508605957, -59.86679458618164, -19.9469051361084, -75.8231430053711, -55.29732894897461, -16.142545700073242, -29.404993057250977, -42.01548767089844, -12.142762184143066, -50.40785598754883], \"yaxis\": \"y\"}, {\"customdata\": [[\"Man In The Mirror\"], [\"Bad\"], [\"The Way You Make Me Feel\"], [\"Remember The Time\"], [\"Ben\"], [\"Love Never Felt So Good (Feat. Justin Timberlake)\"], [\"Thriller\"], [\"Billie Jean\"], [\"Beat It\"], [\"We Are The World\"], [\"Black Or White\"], [\"Don't Stop 'Til You Get Enough\"], [\"Earth Song\"], [\"Human Nature\"], [\"Smooth Criminal\"], [\"They Don't Care About Us\"], [\"You Are Not Alone\"], [\"Music And Me\"], [\"Happy\"], [\"Heal The World\"], [\"I'll Be There\"], [\"One Day In Your Life\"], [\"I Just Can't Stop Loving You (feat. Siedah Garrett)\"], [\"The Girl Is Mine (feat. Paul Mccartney)\"], [\"Will You Be There\"]], \"hovertemplate\": \"artista=Michael Jackson<br>x=%{x}<br>y=%{y}<br>musica=%{customdata[0]}<extra></extra>\", \"legendgroup\": \"Michael Jackson\", \"marker\": {\"color\": \"#19d3f3\", \"opacity\": 0.5, \"symbol\": \"circle\"}, \"mode\": \"markers\", \"name\": \"Michael Jackson\", \"showlegend\": true, \"type\": \"scattergl\", \"x\": [59.804443359375, -35.28986358642578, -37.31855010986328, 5.640674114227295, -36.666358947753906, 26.89990234375, 30.85720443725586, 65.92507934570312, 35.913002014160156, 59.21257781982422, -29.100139617919922, -49.29560470581055, -17.01492691040039, 6.726978302001953, 60.714805603027344, 9.1748046875, -1.9280726909637451, 35.61135482788086, 68.19002532958984, 52.876365661621094, 24.63797950744629, 4.389833927154541, -24.50965690612793, 30.328067779541016, -63.62857437133789], \"xaxis\": \"x\", \"y\": [28.90394401550293, 38.48957824707031, 36.43399429321289, -74.51293182373047, 21.36034393310547, 52.2834358215332, -17.070585250854492, -16.55704116821289, 51.051429748535156, -52.258872985839844, -17.263389587402344, -11.058148384094238, -23.77235984802246, -20.495290756225586, 31.695419311523438, -39.474185943603516, -40.7550163269043, -40.93850326538086, -1.0087460279464722, -30.99234390258789, -52.519195556640625, -76.19718933105469, 33.269859313964844, -20.464622497558594, 20.134098052978516], \"yaxis\": \"y\"}, {\"customdata\": [[\"Slide Away\"], [\"Mother's Daughter\"], [\"Malibu\"], [\"Party In The U.S.A.\"], [\"We Can't Stop\"], [\"Nothing Breaks Like a Heart\"], [\"When I Look At You\"], [\"Wrecking Ball\"], [\"The Climb\"], [\"Heart Of Glass\"], [\"Midnight Sky\"], [\"Adore You\"], [\"7 Things\"], [\"Butterfly Fly Away\"], [\"Can't Be Tamed\"], [\"You'll Always Find Your Way Back Home\"], [\"Bad Karma\"], [\"Adore You (Cedric Gervais Remix)\"], [\"(Happy Xmas) War Is Over (Ft. Mark Ronson, Sean Ono Lennon)\"], [\"Butterfly Fly Away (extended Version)\"], [\"Jolene\"], [\"True Friend\"], [\"Ordinary Girl\"], [\"I'll Always Remember You\"], [\"Who Owns My Heart\"]], \"hovertemplate\": \"artista=Miley Cyrus<br>x=%{x}<br>y=%{y}<br>musica=%{customdata[0]}<extra></extra>\", \"legendgroup\": \"Miley Cyrus\", \"marker\": {\"color\": \"#FF6692\", \"opacity\": 0.5, \"symbol\": \"circle\"}, \"mode\": \"markers\", \"name\": \"Miley Cyrus\", \"showlegend\": true, \"type\": \"scattergl\", \"x\": [-0.2717418968677521, -82.20417022705078, -41.56909942626953, 14.828222274780273, 54.48316192626953, 4.838675022125244, 10.17717456817627, 42.4725456237793, -17.171493530273438, 43.90065002441406, -29.105070114135742, 48.4459114074707, -19.88827133178711, -37.58841323852539, -84.27910614013672, -24.567975997924805, -12.18125057220459, 48.45185852050781, 42.086429595947266, -37.421409606933594, 3.0509719848632812, -22.21920394897461, 1.9579849243164062, -9.720556259155273, 20.404813766479492], \"xaxis\": \"x\", \"y\": [43.37936019897461, -9.745911598205566, -54.81050491333008, 61.04207992553711, -67.66316223144531, 1.1838477849960327, -43.1805419921875, -22.202470779418945, -27.466623306274414, 50.595157623291016, 68.1872329711914, 29.677764892578125, 11.770464897155762, 20.29400062561035, 4.127780914306641, -7.136094570159912, -31.456655502319336, 29.67774200439453, 11.54081916809082, 20.976774215698242, 56.70518493652344, -59.14069747924805, -31.157264709472656, 1.1397669315338135, -52.52859878540039], \"yaxis\": \"y\"}, {\"customdata\": [[\"Plateau\"], [\"The Man Who Sold The World\"], [\"Lithium\"], [\"About A Girl\"], [\"Something In The Way\"], [\"Heart Shaped Box\"], [\"Jesus Doesn't Want Me For A Sunbeam\"], [\"Polly\"], [\"In Bloom\"], [\"Where Did You Sleep Last Night?\"], [\"All Apologies\"], [\"Rape Me\"], [\"Serve The Servants\"], [\"You Know You're Right\"], [\"Pennyroyal Tea\"], [\"Come As You Are\"], [\"Sliver\"], [\"Do Re Mi\"], [\"Love Buzz\"], [\"Drain You\"], [\"On A Plain\"], [\"Aero Zeppelin\"], [\"Dumb\"], [\"Breed\"], [\"Smells Like Teen Spirit\"]], \"hovertemplate\": \"artista=Nirvana<br>x=%{x}<br>y=%{y}<br>musica=%{customdata[0]}<extra></extra>\", \"legendgroup\": \"Nirvana\", \"marker\": {\"color\": \"#B6E880\", \"opacity\": 0.5, \"symbol\": \"circle\"}, \"mode\": \"markers\", \"name\": \"Nirvana\", \"showlegend\": true, \"type\": \"scattergl\", \"x\": [36.59760665893555, 52.67326354980469, -77.85960388183594, -60.24710464477539, 9.991775512695312, 59.924869537353516, -80.70270538330078, 11.311869621276855, -53.35957336425781, 62.55607604980469, 3.385408639907837, 30.25243377685547, 46.37027359008789, -64.85972595214844, -65.85484313964844, 40.463680267333984, -38.074153900146484, 38.16767883300781, 5.769507884979248, 6.8349289894104, -60.63650131225586, 45.8116569519043, 11.196189880371094, -84.82494354248047, 39.40732955932617], \"xaxis\": \"x\", \"y\": [58.53139877319336, -6.288668155670166, 17.626338958740234, -33.739078521728516, 17.740310668945312, 5.627997398376465, 0.7625135183334351, -74.28571319580078, -52.980316162109375, -10.975564002990723, -71.53878021240234, -20.910642623901367, 36.403045654296875, 16.079681396484375, 34.43518829345703, -53.23936462402344, 21.57657814025879, -50.83323669433594, -12.27723503112793, 90.16068267822266, -11.416145324707031, 73.14704895019531, -37.0563850402832, 4.282917499542236, 4.605921268463135], \"yaxis\": \"y\"}, {\"customdata\": [[\"Somebody\"], [\"Paradise\"], [\"Beautiful life\"], [\"Dana Dana\"], [\"Better\"], [\"All Day\"], [\"Come Together\"], [\"Feel It Now\"], [\"Who Would Think That Love\"], [\"Summer in the City\"], [\"Na na Na\"], [\"The Weekend's Here\"], [\"Chained Up\"], [\"Paran\\u00e1\"], [\"By My Side\"]], \"hovertemplate\": \"artista=Now United<br>x=%{x}<br>y=%{y}<br>musica=%{customdata[0]}<extra></extra>\", \"legendgroup\": \"Now United\", \"marker\": {\"color\": \"#FF97FF\", \"opacity\": 0.5, \"symbol\": \"circle\"}, \"mode\": \"markers\", \"name\": \"Now United\", \"showlegend\": true, \"type\": \"scattergl\", \"x\": [-6.999361991882324, 12.416278839111328, 45.47209167480469, 65.11614227294922, -8.979883193969727, -40.70314025878906, 37.866764068603516, 8.365738868713379, -41.04838562011719, 3.048603057861328, 40.92915344238281, 32.48234176635742, -33.790130615234375, 40.86358642578125, -23.047813415527344], \"xaxis\": \"x\", \"y\": [19.00282859802246, 37.71311950683594, -52.03952407836914, 5.291059970855713, -20.705421447753906, -5.816180229187012, 34.208011627197266, -51.89207077026367, 13.008374214172363, -27.566326141357422, 19.293256759643555, 8.308182716369629, 53.71078109741211, 17.542943954467773, 32.96389389038086], \"yaxis\": \"y\"}, {\"customdata\": [[\"Songbird\"], [\"(As Long As They've Got) Cigarettes In Hell\"], [\"Roll With It\"], [\"Some Might Say\"], [\"Rock'n'Roll Star\"], [\"Go Let It Out\"], [\"Don't Stop...\"], [\"Acquiesce\"], [\"Cast No Shadow\"], [\"(Get Off Your) High Horse Lady\"], [\"(It's Good) To Be Free\"], [\"Cigarettes & Alcohol\"], [\"Little By Little\"], [\"Let There Be Love\"], [\"Whatever\"], [\"Supersonic\"], [\"Champagne Supernova\"], [\"Stop Crying Your Heart Out\"], [\"Don't Look Back In Anger\"], [\"Slide Away\"], [\"Wonderwall\"], [\"Don't Go Away\"], [\"Live Forever\"], [\"All Around The World\"], [\"Stand By Me\"]], \"hovertemplate\": \"artista=Oasis<br>x=%{x}<br>y=%{y}<br>musica=%{customdata[0]}<extra></extra>\", \"legendgroup\": \"Oasis\", \"marker\": {\"color\": \"#FECB52\", \"opacity\": 0.5, \"symbol\": \"circle\"}, \"mode\": \"markers\", \"name\": \"Oasis\", \"showlegend\": true, \"type\": \"scattergl\", \"x\": [16.51270294189453, -27.068340301513672, -70.5815658569336, -17.25855827331543, 50.430702209472656, -26.38004493713379, -44.98607635498047, -8.578463554382324, 33.83610916137695, 11.69116497039795, 21.939558029174805, 66.36396789550781, 42.26543045043945, 6.089635372161865, 7.506246566772461, -54.359649658203125, 48.076541900634766, 2.7706828117370605, -36.770484924316406, -16.488161087036133, 7.276858806610107, 29.20990753173828, -10.877120971679688, -78.70025634765625, 22.998748779296875], \"xaxis\": \"x\", \"y\": [-76.5489730834961, -31.47764015197754, 8.670132637023926, -79.70911407470703, 13.058771133422852, -40.81806564331055, -37.015811920166016, -36.90367126464844, 61.016963958740234, 58.22876739501953, 41.03589630126953, -2.0884625911712646, -58.55708694458008, 2.0470454692840576, 89.9498291015625, -0.08324510604143143, -30.023029327392578, -17.679420471191406, -29.1523494720459, 14.645404815673828, -39.66822814941406, -17.921653747558594, 7.869854927062988, 27.15848731994629, 41.9344596862793], \"yaxis\": \"y\"}, {\"customdata\": [[\"Moments\"], [\"Walking in the Wind\"], [\"Stockholm Syndrome\"], [\"No Control\"], [\"Over Again\"], [\"End of The Day\"], [\"One Thing\"], [\"Steal My Girl\"], [\"Midnight Memories\"], [\"A.M\"], [\"Best Song Ever\"], [\"Olivia\"], [\"Perfect\"], [\"If I Could Fly\"], [\"Diana\"], [\"History\"], [\"Little Things\"], [\"You & I\"], [\"Drag Me Down\"], [\"18\"], [\"What Makes You Beautiful\"], [\"Story of My Life\"], [\"Night Changes\"], [\"Fool's Gold\"], [\"Infinity\"]], \"hovertemplate\": \"artista=One Direction<br>x=%{x}<br>y=%{y}<br>musica=%{customdata[0]}<extra></extra>\", \"legendgroup\": \"One Direction\", \"marker\": {\"color\": \"#636efa\", \"opacity\": 0.5, \"symbol\": \"circle\"}, \"mode\": \"markers\", \"name\": \"One Direction\", \"showlegend\": true, \"type\": \"scattergl\", \"x\": [5.248157501220703, 48.005523681640625, -1.9871087074279785, -48.31676483154297, -39.92989730834961, 37.331024169921875, -39.6106071472168, 7.784488677978516, -32.612060546875, -15.444426536560059, -52.7142219543457, -12.010539054870605, 16.11253547668457, 20.252132415771484, -63.51080322265625, -2.7498302459716797, -13.859376907348633, 18.633649826049805, -35.50529861450195, 57.02684783935547, -28.91605567932129, 15.189704895019531, -16.269662857055664, 19.043886184692383, 3.6597139835357666], \"xaxis\": \"x\", \"y\": [-75.23252868652344, -30.06532096862793, 43.33341979980469, -34.957740783691406, -44.1656379699707, 39.865867614746094, -19.195106506347656, 20.667831420898438, 14.429495811462402, -10.700579643249512, -22.336183547973633, 43.67123794555664, -19.580730438232422, -53.0626335144043, 13.352837562561035, -47.67372512817383, -67.66600036621094, -41.95733642578125, -21.62356185913086, 4.075195789337158, 3.890345573425293, -8.166443824768066, -0.4994938373565674, -1.005818486213684, 37.24195098876953], \"yaxis\": \"y\"}, {\"customdata\": [[\"Somebody To Love\"], [\"Marchin' On\"], [\"Wanted\"], [\"Start Again (Feat. Logic)\"], [\"Kids\"], [\"Feel Again\"], [\"Something I Need\"], [\"Human\"], [\"Wherever I Go\"], [\"All The Right Moves\"], [\"Love Runs Out\"], [\"Stop and Stare\"], [\"Let's Hurt Tonight\"], [\"Didn't I\"], [\"Better Days\"], [\"Rescue Me\"], [\"Say (All I Need)\"], [\"If I Lose Myself\"], [\"Good Life\"], [\"Wild Life\"], [\"I Lived\"], [\"Secrets\"], [\"Apologize\"], [\"Counting Stars\"], [\"Come Home (Feat. Sara Bareilles)\"]], \"hovertemplate\": \"artista=OneRepublic<br>x=%{x}<br>y=%{y}<br>musica=%{customdata[0]}<extra></extra>\", \"legendgroup\": \"OneRepublic\", \"marker\": {\"color\": \"#EF553B\", \"opacity\": 0.5, \"symbol\": \"circle\"}, \"mode\": \"markers\", \"name\": \"OneRepublic\", \"showlegend\": true, \"type\": \"scattergl\", \"x\": [24.727914810180664, 23.171051025390625, -53.05359649658203, 6.746711730957031, 21.45655059814453, -10.9069185256958, -27.667522430419922, -18.37264633178711, -34.704689025878906, -30.588224411010742, -5.138910293579102, -27.916893005371094, -14.061285018920898, -12.580338478088379, 16.146451950073242, 6.234045028686523, 29.390384674072266, -17.881385803222656, -22.15938949584961, 1.9052026271820068, 1.5552786588668823, -37.71527862548828, -50.21407699584961, 33.153968811035156, 8.713214874267578], \"xaxis\": \"x\", \"y\": [-35.82392883300781, 72.28672790527344, -63.15333557128906, 17.310855865478516, -61.48299026489258, 45.10566711425781, -8.070366859436035, -26.573715209960938, -29.535961151123047, -28.942462921142578, 38.021175384521484, -26.804956436157227, 21.678585052490234, 36.68428039550781, 32.6372184753418, 56.21193313598633, -35.2238655090332, -10.020172119140625, 1.3838473558425903, 40.083534240722656, -31.99913787841797, -41.355350494384766, 41.073246002197266, 10.896868705749512, -40.814876556396484], \"yaxis\": \"y\"}, {\"customdata\": [[\"Flash Pose (Ft. Charli XCX)\"]], \"hovertemplate\": \"artista=Pabllo Vittar<br>x=%{x}<br>y=%{y}<br>musica=%{customdata[0]}<extra></extra>\", \"legendgroup\": \"Pabllo Vittar\", \"marker\": {\"color\": \"#00cc96\", \"opacity\": 0.5, \"symbol\": \"circle\"}, \"mode\": \"markers\", \"name\": \"Pabllo Vittar\", \"showlegend\": true, \"type\": \"scattergl\", \"x\": [33.36043930053711], \"xaxis\": \"x\", \"y\": [7.159524917602539], \"yaxis\": \"y\"}, {\"customdata\": [[\"Daughter\"], [\"Dance of the Clairvoyants\"], [\"Who Ever Said\"], [\"Future Days\"], [\"Given to Fly\"], [\"Superblood Wolfmoon\"], [\"Oceans\"], [\"Elderly Woman Behind the Counter in a Small Town\"], [\"Nothingman\"], [\"Smile\"], [\"Do The Evolution\"], [\"Release\"], [\"Black\"], [\"Last Kiss\"], [\"Alive\"], [\"Jeremy\"], [\"Just Breathe\"], [\"I Am Mine\"], [\"Once\"], [\"Light Years\"], [\"Yellow Ledbetter\"], [\"Better Man\"], [\"Soldier Of Love\"], [\"Sirens\"], [\"Even Flow\"]], \"hovertemplate\": \"artista=Pearl Jam<br>x=%{x}<br>y=%{y}<br>musica=%{customdata[0]}<extra></extra>\", \"legendgroup\": \"Pearl Jam\", \"marker\": {\"color\": \"#ab63fa\", \"opacity\": 0.5, \"symbol\": \"circle\"}, \"mode\": \"markers\", \"name\": \"Pearl Jam\", \"showlegend\": true, \"type\": \"scattergl\", \"x\": [-51.30580139160156, 11.340790748596191, 24.820226669311523, 41.17095184326172, 7.040994644165039, 53.79426956176758, -0.17256519198417664, -30.505069732666016, -9.55913257598877, 13.473835945129395, 35.97407913208008, -47.52449417114258, 73.93367767333984, -49.517757415771484, 10.988020896911621, 43.548709869384766, 20.61533546447754, 31.116125106811523, -9.639330863952637, 1.678834080696106, -52.19046401977539, 14.957741737365723, 6.337873935699463, -8.887038230895996, 5.915609836578369], \"xaxis\": \"x\", \"y\": [-26.127275466918945, -39.78564453125, 24.08880615234375, -23.701480865478516, 66.44099426269531, -2.0110461711883545, 85.8624038696289, 12.29134750366211, 88.29337310791016, 27.002864837646484, 8.238884925842285, 22.504457473754883, 35.20749282836914, -25.86286735534668, 61.50648498535156, -48.970069885253906, -49.28269958496094, -15.998636245727539, 88.06322479248047, 91.25667572021484, -22.285173416137695, 80.23370361328125, 90.67866516113281, -64.60017395019531, 63.96416473388672], \"yaxis\": \"y\"}, {\"customdata\": [[\"True Love (Feat. Lily Allen)\"], [\"Dear Mr. President (feat. Indigo Girls)\"], [\"Walk Me Home\"], [\"Don't Let Me Get Me\"], [\"U + Ur Hand\"], [\"Trouble\"], [\"I Am Here\"], [\"90 Days (Feat. Wrabel)\"], [\"(Hey Why) Miss You Sometime\"], [\"Are We All We Are\"], [\"Just Give Me A Reason (Feat. Nate Ruess)\"], [\"A Million Dreams\"], [\"F**kin' Perfect\"], [\"Try\"], [\"Who Knew\"], [\"What About Us\"], [\"Please Don't Leave Me\"], [\"So What\"], [\"Beautiful Trauma\"], [\"Funhouse\"], [\"Just Like Fire\"], [\"Sober\"], [\"Raise Your Glass\"], [\"Blow Me (One Last Kiss)\"], [\"Just Like A Pill\"]], \"hovertemplate\": \"artista=Pink<br>x=%{x}<br>y=%{y}<br>musica=%{customdata[0]}<extra></extra>\", \"legendgroup\": \"Pink\", \"marker\": {\"color\": \"#FFA15A\", \"opacity\": 0.5, \"symbol\": \"circle\"}, \"mode\": \"markers\", \"name\": \"Pink\", \"showlegend\": true, \"type\": \"scattergl\", \"x\": [-49.93642807006836, -15.941705703735352, -45.696231842041016, -80.8923568725586, -1.6892099380493164, -52.981117248535156, 38.746337890625, 52.0175895690918, 33.10466384887695, 51.519779205322266, -19.340408325195312, -20.546079635620117, 19.352001190185547, -30.295270919799805, 3.224090099334717, -16.783004760742188, -35.98884201049805, -35.97678756713867, 60.7348518371582, -36.342918395996094, 15.949263572692871, -0.5350452065467834, -2.541475772857666, -8.264348030090332, 45.8862190246582], \"xaxis\": \"x\", \"y\": [24.696552276611328, 3.096928358078003, 20.832557678222656, 1.149593710899353, -8.032465934753418, -28.465158462524414, 66.20844268798828, 12.948288917541504, -27.48457145690918, 45.471954345703125, -11.443219184875488, -54.18033981323242, -18.895706176757812, 17.054187774658203, -43.79571533203125, -23.297897338867188, 14.768589973449707, 1.2308508157730103, -18.780839920043945, -31.56192398071289, 38.78104782104492, 43.807838439941406, -7.397527694702148, 34.87806701660156, 3.8374228477478027], \"yaxis\": \"y\"}, {\"customdata\": [[\"Another Brick In The Wall, Pt. 2\"], [\"On The Turning Away\"], [\"Echoes\"], [\"Pigs (Three Different Ones)\"], [\"Us And Them\"], [\"Eclipse\"], [\"Brain Damage\"], [\"High Hopes\"], [\"The Great Gig in the Sky\"], [\"Coming Back To Life\"], [\"Goodbye Blue Sky\"], [\"Shine On You Crazy Diamond\"], [\"In the Flesh?\"], [\"Money\"], [\"Breathe\"], [\"Mother\"], [\"Another Brick In The Wall, pt. 1\"], [\"Hey You\"], [\"Time\"], [\"The Wall (complete)\"], [\"Comfortably Numb\"], [\"Wish You Were Here\"], [\"Another Brick In The Wall\"], [\"Speak to Me\"], [\"Learning To Fly\"]], \"hovertemplate\": \"artista=Pink Floyd<br>x=%{x}<br>y=%{y}<br>musica=%{customdata[0]}<extra></extra>\", \"legendgroup\": \"Pink Floyd\", \"marker\": {\"color\": \"#19d3f3\", \"opacity\": 0.5, \"symbol\": \"circle\"}, \"mode\": \"markers\", \"name\": \"Pink Floyd\", \"showlegend\": true, \"type\": \"scattergl\", \"x\": [75.8579330444336, 59.53617858886719, 52.814369201660156, 2.328228712081909, 57.254119873046875, 11.08548355102539, 9.370762825012207, 69.24567413330078, 7.235802173614502, 17.987089157104492, 2.9481406211853027, 42.83917999267578, 59.967777252197266, 4.2646613121032715, 2.896265745162964, 0.01180762704461813, 75.42030334472656, 23.612279891967773, 9.82145881652832, 3.3649351596832275, -19.23448944091797, -13.220667839050293, 75.5665512084961, 22.350873947143555, 51.48488235473633], \"xaxis\": \"x\", \"y\": [30.514278411865234, -28.007221221923828, 16.747461318969727, 84.80252075195312, -38.88371276855469, -33.93212890625, 85.22069549560547, -31.40472984313965, 80.90839385986328, -7.291769981384277, 81.57200622558594, 18.414947509765625, 29.3652400970459, 81.4874038696289, 86.32515716552734, 81.47203063964844, 31.677698135375977, -26.0599365234375, 85.39717864990234, 82.15469360351562, -49.91924285888672, 70.66255950927734, 31.26779556274414, 74.72029876708984, -15.397323608398438], \"yaxis\": \"y\"}, {\"customdata\": [[\"On the Road (feat. Meek Mill and Lil Baby)\"], [\"Circles\"], [\"Yours Truly, Austin Post\"], [\"Big Lie\"], [\"Sunflower (With Swae Lee)\"], [\"I Fall Apart\"], [\"Over Now\"], [\"Congratulations\"], [\"A Thousand Bad Times\"], [\"Deja Vu (Feat. Justin Bieber)\"], [\"Enemies (Feat. DaBaby)\"], [\"Hollywood's Bleeding\"], [\"Wow.\"], [\"White Iverson\"], [\"Blame It On Me\"], [\"Take What You Want (feat. Ozzy Osbourne and Travis Scott)\"], [\"Goodbyes (Feat. Young Thug)\"], [\"Rockstar (feat. 21 Savage)\"], [\"Stay\"], [\"Better Now\"], [\"Go Flex\"], [\"Die for Me (Feat. Future and Halsey)\"], [\"Paranoid\"], [\"Psycho (feat. Ty Dolla $ign)\"], [\"Saint-Tropez\"]], \"hovertemplate\": \"artista=Post Malone<br>x=%{x}<br>y=%{y}<br>musica=%{customdata[0]}<extra></extra>\", \"legendgroup\": \"Post Malone\", \"marker\": {\"color\": \"#FF6692\", \"opacity\": 0.5, \"symbol\": \"circle\"}, \"mode\": \"markers\", \"name\": \"Post Malone\", \"showlegend\": true, \"type\": \"scattergl\", \"x\": [-14.478629112243652, -3.759784698486328, 0.7205391526222229, 3.993361473083496, -24.860530853271484, 17.11141014099121, -5.706973552703857, 46.063602447509766, -26.39593505859375, 28.237030029296875, -4.192930221557617, -5.410247802734375, -27.666751861572266, 6.449464797973633, -52.02880859375, 26.772314071655273, -57.56977844238281, -16.18084144592285, -9.24671459197998, -10.624127388000488, 54.22233200073242, -24.6118106842041, -27.09492301940918, 49.48046112060547, -14.800342559814453], \"xaxis\": \"x\", \"y\": [53.95368576049805, 34.206172943115234, 59.20538330078125, 58.12014389038086, 51.43916320800781, 17.380895614624023, 53.458404541015625, 37.218101501464844, 36.23652648925781, 33.21036148071289, 33.3679084777832, 37.5723991394043, 66.91716766357422, 59.47505187988281, -1.5008927583694458, 26.15018081665039, -34.987648010253906, 58.77082824707031, 36.626068115234375, 43.79338073730469, 13.670084953308105, 37.856571197509766, -70.45559692382812, 14.351162910461426, 56.00008773803711], \"yaxis\": \"y\"}, {\"customdata\": [[\"Love Of My Life\"], [\"I Want To Break Free\"], [\"We Are The Champions\"], [\"The Show Must Go On\"], [\"Somebody To Love\"], [\"Another One Bites The Dust\"], [\"A Kind Of Magic\"], [\"Crazy Little Thing Called Love\"], [\"Don't Stop Me Now\"], [\"We Will Rock You\"], [\"20th Century Fox Fanfare\"], [\"Who Wants To Live Forever\"], [\"Fun It\"], [\"(You're So Square) Baby I Don't Care\"], [\"Bohemian Rhapsody\"], [\"Doing All Right\"], [\"I Was Born To Love You\"], [\"Bohemian Rhapsody (B-Sensual & No!end Bootleg)\"], [\"Forever\"], [\"You're My Best Friend\"], [\"In The Space Capsule\"], [\"A Winter's Tale (Cosy Fireside Mix)\"], [\"Radio Ga Ga\"], [\"Killer Queen\"], [\"Under Pressure (feat. David Bowie)\"]], \"hovertemplate\": \"artista=Queen<br>x=%{x}<br>y=%{y}<br>musica=%{customdata[0]}<extra></extra>\", \"legendgroup\": \"Queen\", \"marker\": {\"color\": \"#B6E880\", \"opacity\": 0.5, \"symbol\": \"circle\"}, \"mode\": \"markers\", \"name\": \"Queen\", \"showlegend\": true, \"type\": \"scattergl\", \"x\": [0.6256561279296875, -56.33230972290039, 69.62920379638672, 63.43009948730469, 2.4106295108795166, 60.32876968383789, 68.42962646484375, -22.64525032043457, -50.45573425292969, 8.745046615600586, -74.29519653320312, 45.75187301635742, -43.932945251464844, 22.714155197143555, -36.205265045166016, -36.435665130615234, -12.078624725341797, -33.37782287597656, -75.23832702636719, -7.936237812042236, -74.8017807006836, 68.91815948486328, 44.332183837890625, 44.3751220703125, 1.2922741174697876], \"xaxis\": \"x\", \"y\": [92.0873031616211, 9.997068405151367, -32.682090759277344, -21.419998168945312, 93.59313201904297, 26.055614471435547, -32.874427795410156, 4.516022205352783, -10.089886665344238, 47.9916877746582, -57.01488494873047, 48.6016960144043, 37.564998626708984, 44.35239791870117, 15.305065155029297, -38.576690673828125, -70.90872192382812, 14.80044174194336, -57.128971099853516, -21.622142791748047, -56.78422546386719, -29.661483764648438, -50.488468170166016, -49.4228401184082, 92.00192260742188], \"yaxis\": \"y\"}, {\"customdata\": [[\"Pussy\"]], \"hovertemplate\": \"artista=Rammstein<br>x=%{x}<br>y=%{y}<br>musica=%{customdata[0]}<extra></extra>\", \"legendgroup\": \"Rammstein\", \"marker\": {\"color\": \"#FF97FF\", \"opacity\": 0.5, \"symbol\": \"circle\"}, \"mode\": \"markers\", \"name\": \"Rammstein\", \"showlegend\": true, \"type\": \"scattergl\", \"x\": [-0.39475879073143005], \"xaxis\": \"x\", \"y\": [65.70532989501953], \"yaxis\": \"y\"}, {\"customdata\": [[\"Snow (Hey Oh)\"], [\"Californication\"], [\"Otherside\"], [\"The Power Of Equality\"], [\"Easily\"], [\"Suck My Kiss\"], [\"Encore\"], [\"Higher Ground\"], [\"Universally Speaking\"], [\"Soul To Squeeze\"], [\"The Getaway\"], [\"Dosed\"], [\"Tell Me Baby\"], [\"The Zephyr Song\"], [\"Goodbye Angels\"], [\"Don't Forget Me\"], [\"By The Way\"], [\"Scar Tissue\"], [\"Dark Necessities\"], [\"Under The Bridge\"], [\"Dani California\"], [\"Give It Away\"], [\"Around The World\"], [\"Road Trippin'\"], [\"Can't Stop\"]], \"hovertemplate\": \"artista=Red Hot Chili Peppers<br>x=%{x}<br>y=%{y}<br>musica=%{customdata[0]}<extra></extra>\", \"legendgroup\": \"Red Hot Chili Peppers\", \"marker\": {\"color\": \"#FECB52\", \"opacity\": 0.5, \"symbol\": \"circle\"}, \"mode\": \"markers\", \"name\": \"Red Hot Chili Peppers\", \"showlegend\": true, \"type\": \"scattergl\", \"x\": [-20.554752349853516, 42.29349136352539, -33.525657653808594, 39.90937805175781, 52.646018981933594, 11.062054634094238, 0.5987513661384583, -63.62491226196289, 0.9700321555137634, -21.154630661010742, 60.23283386230469, -28.723085403442383, 53.23991775512695, -11.390899658203125, -11.611340522766113, 4.3076934814453125, -63.86088943481445, 56.84775161743164, 26.780731201171875, -43.83515167236328, 13.353066444396973, 22.52977752685547, 3.184835910797119, 10.731307029724121, 56.02391815185547], \"xaxis\": \"x\", \"y\": [1.1312016248703003, -54.383934020996094, -18.97903823852539, -54.187705993652344, -29.626989364624023, -74.92208862304688, -55.079715728759766, 9.150537490844727, -9.85526180267334, -49.41415023803711, 26.735952377319336, -6.972108840942383, -30.09483528137207, -72.31526947021484, -71.8101577758789, -69.20329284667969, 8.236028671264648, -19.02254295349121, -26.89662742614746, -64.43890380859375, 4.854631423950195, -20.30849838256836, -71.29561614990234, 85.7876205444336, -19.354381561279297], \"yaxis\": \"y\"}, {\"customdata\": [[\"Umbrella (feat. Jay Z)\"], [\"Bitch Better Have My Money\"], [\"Stay (feat. Mikky Ekko)\"], [\"Take A Bow\"], [\"Man Down\"], [\"Needed Me\"], [\"What's My Name (feat. Drake)\"], [\"Only Girl (In The World)\"], [\"We Found Love (feat. Calvin Harris)\"], [\"Work (Feat. Drake)\"], [\"Rude Boy\"], [\"S&M\"], [\"Don't Stop The Music\"], [\"Love The Way You Lie\"], [\"Kiss It Better\"], [\"Rehab (feat. Justin Timberlake)\"], [\"California King Bed\"], [\"Where Have You Been\"], [\"Consideration (feat. SZA)\"], [\"Disturbia\"], [\"If It's Lovin' That You Want\"], [\"Hate That I Love You (feat. Ne-yo)\"], [\"Unfaithful\"], [\"Diamonds\"], [\"Love On The Brain\"]], \"hovertemplate\": \"artista=Rihanna<br>x=%{x}<br>y=%{y}<br>musica=%{customdata[0]}<extra></extra>\", \"legendgroup\": \"Rihanna\", \"marker\": {\"color\": \"#636efa\", \"opacity\": 0.5, \"symbol\": \"circle\"}, \"mode\": \"markers\", \"name\": \"Rihanna\", \"showlegend\": true, \"type\": \"scattergl\", \"x\": [47.43541717529297, 1.4698976278305054, -13.244690895080566, -13.733973503112793, -38.68886184692383, 55.84162902832031, 32.7845458984375, -3.993382692337036, 64.26470184326172, -30.56803321838379, -45.88775634765625, 36.848243713378906, -43.1661376953125, 10.629716873168945, 16.355485916137695, -33.04373550415039, 51.82024002075195, 31.69157600402832, 0.8255835771560669, -16.857433319091797, -2.7586207389831543, -18.171146392822266, -55.43509292602539, 20.17494773864746, -42.66972351074219], \"xaxis\": \"x\", \"y\": [-10.89954662322998, -11.02101993560791, 45.83197021484375, -26.773468017578125, 16.503679275512695, 1.8137474060058594, 5.67656946182251, -12.683701515197754, -2.1771767139434814, 16.84247589111328, -13.294949531555176, 12.64871597290039, -37.793800354003906, -37.20796585083008, 38.40803146362305, -14.18756103515625, -15.812464714050293, 22.675933837890625, -8.40316104888916, -50.62416458129883, 11.862665176391602, 17.949506759643555, -34.26821517944336, -69.21897888183594, -7.689121246337891], \"yaxis\": \"y\"}, {\"customdata\": [[\"People get ready\"], [\"The First Cut Is The Deepest\"], [\"What a Difference a Day Makes\"], [\"Love Touch\"], [\"Da Ya Think I'm Sexy (Feat. DNCE)\"], [\"Some Guys Have All The Luck\"], [\"You Are Everything\"], [\"Have I Told You Lately\"], [\"Fly Me To The Moon\"], [\"Tonight's The Night\"], [\"A Reason To Believe\"], [\"All For Love\"], [\"Baby Jane\"], [\"Stop Loving Her Today\"], [\"Forever Young\"], [\"Maggie May\"], [\"Every Beat Of My Heart\"], [\"The Way You Look Tonight\"], [\"You're In My Heart (The Final Acclaim)\"], [\"Have You Ever Seen The Rain?\"], [\"Sailing\"], [\"I Don't Want To Talk About It\"], [\"Young Turks\"], [\"My Heart Can't Tell You No\"], [\"It's A Heartache\"]], \"hovertemplate\": \"artista=Rod Stewart<br>x=%{x}<br>y=%{y}<br>musica=%{customdata[0]}<extra></extra>\", \"legendgroup\": \"Rod Stewart\", \"marker\": {\"color\": \"#EF553B\", \"opacity\": 0.5, \"symbol\": \"circle\"}, \"mode\": \"markers\", \"name\": \"Rod Stewart\", \"showlegend\": true, \"type\": \"scattergl\", \"x\": [41.79031753540039, -34.126914978027344, 68.87252807617188, -9.19942855834961, 24.430097579956055, -38.803199768066406, 29.204570770263672, 6.162245273590088, 27.94375228881836, 2.191065788269043, -30.200336456298828, 7.859048366546631, -11.552577018737793, -9.195582389831543, 21.856950759887695, -13.679950714111328, 51.91065216064453, 38.510093688964844, -22.819150924682617, -41.77989196777344, 3.7402656078338623, 0.4852867126464844, -15.250273704528809, -3.6355910301208496, -13.772562980651855], \"xaxis\": \"x\", \"y\": [-57.688663482666016, -30.808177947998047, -28.97996711730957, -21.664371490478516, 50.49123001098633, -45.68076705932617, -36.463905334472656, 39.83432388305664, 33.11341857910156, -9.808465003967285, 5.905612945556641, -0.874148428440094, 6.519268035888672, -7.575940132141113, -17.071338653564453, 38.303924560546875, -39.72312927246094, -7.64741325378418, -60.8958740234375, 13.237288475036621, 6.111196041107178, 83.5245590209961, -46.88346481323242, 78.99053955078125, -27.227951049804688], \"yaxis\": \"y\"}, {\"customdata\": [[\"Too Good At Goodbyes\"], [\"I Feel Love\"], [\"Diamonds\"], [\"Burning\"], [\"Money On My Mind\"], [\"Latch\"], [\"I'm Not The Only One (Feat. A$AP Rocky)\"], [\"Say It First\"], [\"Writing's On The Wall\"], [\"Fix You\"], [\"Baby, You Make Me Crazy (Feat. The Dap-Kings Horns)\"], [\"I'm Ready (With Demi Lovato)\"], [\"Promises\"], [\"Him\"], [\"I'm Not The Only One\"], [\"To Die For\"], [\"Lay Me Down\"], [\"Pray\"], [\"Pray (Feat. Logic) (Remix)\"], [\"My Oasis (Ft. Burna Boy)\"], [\"How Do You Sleep?\"], [\"Fire on Fire\"], [\"Dancing With A Stranger (With Normani)\"], [\"Stay With Me\"], [\"La La La\"]], \"hovertemplate\": \"artista=Sam Smith<br>x=%{x}<br>y=%{y}<br>musica=%{customdata[0]}<extra></extra>\", \"legendgroup\": \"Sam Smith\", \"marker\": {\"color\": \"#00cc96\", \"opacity\": 0.5, \"symbol\": \"circle\"}, \"mode\": \"markers\", \"name\": \"Sam Smith\", \"showlegend\": true, \"type\": \"scattergl\", \"x\": [-30.244417190551758, 19.058366775512695, -57.29605484008789, 52.498558044433594, -54.886173248291016, -10.184005737304688, 15.523871421813965, 15.832157135009766, 25.134445190429688, -79.59149169921875, -57.563720703125, 13.921442985534668, -2.693568468093872, 7.504249095916748, 15.362112998962402, -21.219924926757812, -8.549172401428223, -52.8759651184082, -52.31046676635742, 29.461402893066406, -58.07221221923828, -1.9404499530792236, -9.793318748474121, -19.190690994262695, 35.470237731933594], \"xaxis\": \"x\", \"y\": [25.48116683959961, -47.42366027832031, 33.104461669921875, -6.413700103759766, -32.85547637939453, -0.5910448431968689, -19.171405792236328, 39.51341247558594, 36.581878662109375, -17.34914779663086, 20.04694938659668, 7.419472694396973, -33.34870147705078, -26.277313232421875, -18.478946685791016, -55.53602600097656, -16.39558982849121, -0.44565314054489136, 0.19499072432518005, -2.578167676925659, 19.412317276000977, -51.39647674560547, -13.566771507263184, 23.640663146972656, 7.132082462310791], \"yaxis\": \"y\"}, {\"customdata\": [[\"Falling In Love\"], [\"Rhythm Of Love\"], [\"Drive\"], [\"In Trance\"], [\"Big City Nights\"], [\"Blackout\"], [\"Believe In Love\"], [\"Love Of My Life (cover)\"], [\"When You Came Into My Life\"], [\"Humanity\"], [\"When The Smoke Is Going Down\"], [\"Dust In The Wind (cover)\"], [\"Rock You Like A Hurricane\"], [\"Life Is Too Short\"], [\"Follow Your Heart\"], [\"Under The Same Sun\"], [\"Holiday\"], [\"Send Me An Angel\"], [\"You And I\"], [\"Always Somewhere\"], [\"Still Loving You\"], [\"Wind Of Change\"], [\"No One Like You\"], [\"The Zoo\"]], \"hovertemplate\": \"artista=Scorpions<br>x=%{x}<br>y=%{y}<br>musica=%{customdata[0]}<extra></extra>\", \"legendgroup\": \"Scorpions\", \"marker\": {\"color\": \"#ab63fa\", \"opacity\": 0.5, \"symbol\": \"circle\"}, \"mode\": \"markers\", \"name\": \"Scorpions\", \"showlegend\": true, \"type\": \"scattergl\", \"x\": [35.29924011230469, 71.06928253173828, -4.909750938415527, -44.16130828857422, 40.925079345703125, -52.958717346191406, -4.790948867797852, -2.5931382179260254, 39.84834671020508, 20.507734298706055, 15.016085624694824, 51.19814682006836, 38.870731353759766, -19.629709243774414, 5.830048084259033, 23.76511001586914, -30.506664276123047, 57.6962776184082, -62.20338821411133, 11.240344047546387, -65.45646667480469, 71.27396392822266, -14.671452522277832, 22.467710494995117], \"xaxis\": \"x\", \"y\": [-15.861721992492676, -34.55134201049805, 46.54890441894531, -28.42342758178711, -5.661505699157715, -63.11417007446289, -11.601422309875488, -38.21712112426758, -16.221839904785156, -18.29128074645996, 59.77984619140625, -42.51099395751953, -54.12690734863281, -55.050254821777344, -76.1026382446289, -27.621625900268555, 26.695838928222656, -20.680133819580078, -14.530503273010254, -60.71235656738281, 32.82726287841797, -31.66926383972168, -8.898255348205566, -61.83982849121094], \"yaxis\": \"y\"}, {\"customdata\": [[\"Good for You (feat. A$AP Rocky)\"], [\"Dance Again\"], [\"Revival\"], [\"Girl Crush (Feat. Iggy Azalea)\"], [\"Crowded Room (feat. 6lack)\"], [\"Sober\"], [\"Ring\"], [\"Live Like There's no Tomorrow\"], [\"Back To You\"], [\"Love You Like a Love Song\"], [\"Boyfriend\"], [\"Feel Me\"], [\"Hands To Myself\"], [\"Fetish (Feat. Gucci Mane)\"], [\"Vulnerable\"], [\"A Year Without Rain\"], [\"Who Says\"], [\"Look At Her Now\"], [\"Souvenir\"], [\"Wolves (Feat. Marshmello)\"], [\"Rare\"], [\"The Heart Wants What It Wants\"], [\"Lose You To Love Me\"], [\"A Sweeter Place (Ft. Kid Cudi)\"], [\"Same Old Love\"]], \"hovertemplate\": \"artista=Selena Gomez<br>x=%{x}<br>y=%{y}<br>musica=%{customdata[0]}<extra></extra>\", \"legendgroup\": \"Selena Gomez\", \"marker\": {\"color\": \"#FFA15A\", \"opacity\": 0.5, \"symbol\": \"circle\"}, \"mode\": \"markers\", \"name\": \"Selena Gomez\", \"showlegend\": true, \"type\": \"scattergl\", \"x\": [0.5800633430480957, -34.498016357421875, 71.30413818359375, -7.440389633178711, -44.29972839355469, 22.570131301879883, -24.161575317382812, 12.922436714172363, -43.20934295654297, -3.56947922706604, -63.39277267456055, -17.117874145507812, 38.538230895996094, -25.585622787475586, 4.903297424316406, -30.137968063354492, 14.280837059020996, 26.622556686401367, 11.237006187438965, -41.08625793457031, -29.652162551879883, 7.828254222869873, 22.00173568725586, -0.730366051197052, 18.968780517578125], \"xaxis\": \"x\", \"y\": [53.986202239990234, 38.59330368041992, -18.235261917114258, 36.226539611816406, 43.68663787841797, 43.78608322143555, 52.164493560791016, -30.017553329467773, -54.166603088378906, 67.25635528564453, -12.672255516052246, 19.376096725463867, -23.884437561035156, -2.3651490211486816, 2.833545446395874, 26.118806838989258, -24.360631942749023, 7.281623363494873, -75.56476593017578, -55.07890319824219, 4.019670009613037, 7.383108615875244, -34.115814208984375, -17.84518814086914, 3.8948917388916016], \"yaxis\": \"y\"}, {\"customdata\": [[\"La La La (Brasil 2014) (Part. Carlinhos Brown)\"], [\"Try Everything\"], [\"Loca (feat. Dizzee Rascal)\"], [\"Whenever, Wherever\"], [\"Can't Remember To Forget You (Feat. Rihanna)\"], [\"Waka Waka (This Time For Africa)\"], [\"Super Bowl LIV Halftime Show (With Jennifer Lopez Ft. Bad Bunny, J Balvin)\"], [\"Hips Don't Lie (feat. Wyclef Jean)\"]], \"hovertemplate\": \"artista=Shakira<br>x=%{x}<br>y=%{y}<br>musica=%{customdata[0]}<extra></extra>\", \"legendgroup\": \"Shakira\", \"marker\": {\"color\": \"#19d3f3\", \"opacity\": 0.5, \"symbol\": \"circle\"}, \"mode\": \"markers\", \"name\": \"Shakira\", \"showlegend\": true, \"type\": \"scattergl\", \"x\": [45.09846878051758, -51.050228118896484, -36.74303436279297, -24.842269897460938, -30.115768432617188, 45.67193603515625, 35.563594818115234, 34.0749626159668], \"xaxis\": \"x\", \"y\": [-51.48225021362305, -24.777498245239258, 38.547813415527344, -7.153176307678223, -9.089876174926758, -49.4120979309082, 7.819888591766357, 7.0171003341674805], \"yaxis\": \"y\"}, {\"customdata\": [[\"Wonder\"], [\"No Promises\"], [\"Youth (Feat. Khalid)\"], [\"Bad Reputation\"], [\"Life Of The Party\"], [\"Roses\"], [\"Nervous\"], [\"Memories\"], [\"Lost In Japan\"], [\"I Know What You Did Last Summer (feat. Camila Cabello)\"], [\"Fallin' All In You\"], [\"Why\"], [\"If I Can't Have You\"], [\"Use Somebody\"], [\"Imagination\"], [\"In My Blood\"], [\"Never Be Alone\"], [\"Mercy\"], [\"Stitches\"], [\"Treat You Better\"], [\"There's Nothing Holdin' Me Back\"], [\"Se\\u00f1orita (With Camila Cabello)\"], [\"Intro\"], [\"Because I Had You\"], [\"Like To Be You (Feat. Julia Michaels)\"]], \"hovertemplate\": \"artista=Shawn Mendes<br>x=%{x}<br>y=%{y}<br>musica=%{customdata[0]}<extra></extra>\", \"legendgroup\": \"Shawn Mendes\", \"marker\": {\"color\": \"#FF6692\", \"opacity\": 0.5, \"symbol\": \"circle\"}, \"mode\": \"markers\", \"name\": \"Shawn Mendes\", \"showlegend\": true, \"type\": \"scattergl\", \"x\": [-44.97475814819336, -60.095062255859375, 20.877643585205078, -43.337303161621094, -6.488164901733398, -21.554641723632812, -22.749404907226562, -14.252971649169922, -56.65324401855469, -27.7971248626709, -15.068723678588867, -9.884918212890625, -69.6965560913086, 12.718432426452637, 20.925350189208984, -5.458568572998047, -63.967464447021484, -61.6591911315918, -28.238611221313477, -99.97151947021484, -16.707077026367188, 35.78582000732422, -12.620715141296387, -7.73553466796875, -42.18718338012695], \"xaxis\": \"x\", \"y\": [19.390655517578125, -45.164852142333984, -3.1181352138519287, 3.776437282562256, 3.406301975250244, 2.615565776824951, 5.029392719268799, -41.23917770385742, 20.024005889892578, 35.652976989746094, -1.102123737335205, 36.91400146484375, 0.09865342825651169, 46.844635009765625, -49.81782531738281, -34.438289642333984, 13.024646759033203, -38.845462799072266, -18.407243728637695, -102.8647689819336, -17.812929153442383, 1.2245160341262817, -25.908262252807617, 12.755976676940918, -41.052207946777344], \"yaxis\": \"y\"}, {\"customdata\": [[\"Big Girls Cry\"], [\"Broken Glass\"], [\"My Love\"], [\"One Million Bullets\"], [\"Saved My Life\"], [\"Fire Meet Gasoline\"], [\"Move Your Body\"], [\"Helium\"], [\"I'm Still Here\"], [\"Moon\"], [\"Chandelier (Piano Version)\"], [\"Flames (With David Guetta)\"], [\"Never Give Up\"], [\"She Wolf\"], [\"Alive\"], [\"Together\"], [\"Courage To Change\"], [\"Cheap Thrills (feat. Sean Paul)\"], [\"Unstoppable\"], [\"Elastic Heart\"], [\"Chandelier\"], [\"Bird Set Free\"], [\"Cheap Thrills\"], [\"The Greatest\"], [\"Titanium\"]], \"hovertemplate\": \"artista=Sia<br>x=%{x}<br>y=%{y}<br>musica=%{customdata[0]}<extra></extra>\", \"legendgroup\": \"Sia\", \"marker\": {\"color\": \"#B6E880\", \"opacity\": 0.5, \"symbol\": \"circle\"}, \"mode\": \"markers\", \"name\": \"Sia\", \"showlegend\": true, \"type\": \"scattergl\", \"x\": [53.708255767822266, 11.874439239501953, -1.7402184009552002, 71.35388946533203, -75.30794525146484, 38.47651290893555, 2.5919835567474365, 22.998476028442383, 61.22810745239258, 28.64609146118164, -35.735015869140625, -24.918710708618164, -5.445438861846924, -4.020802974700928, -73.90552520751953, 34.45838165283203, 68.94034576416016, -56.60831069946289, -76.13381958007812, -66.87046813964844, -35.73295593261719, -37.174076080322266, -56.467647552490234, -36.51699447631836, -52.451602935791016], \"xaxis\": \"x\", \"y\": [-2.3169782161712646, 6.904146194458008, -42.33800506591797, -18.213987350463867, -24.901935577392578, -49.42753219604492, -8.578286170959473, 12.306735038757324, 11.086565971374512, -27.46014976501465, -67.11038970947266, -38.24989700317383, 53.48038864135742, -66.94364166259766, 16.877498626708984, 34.562984466552734, -3.1828014850616455, 31.424131393432617, 16.934371948242188, -11.42259407043457, -67.10942840576172, -14.703253746032715, 31.278934478759766, 43.10900115966797, -25.2612361907959], \"yaxis\": \"y\"}, {\"customdata\": [[\"the last great american dynasty\"], [\"All Too Well\"], [\"epiphany\"], [\"You Belong With Me\"], [\"the lakes\"], [\"hoax\"], [\"I Knew You Were Trouble\"], [\"Look What You Made Me Do\"], [\"\\u200bmirrorball\"], [\"Shake It Off\"], [\"peace\"], [\"illicit affairs\"], [\"seven\"], [\"my tears ricochet\"], [\"cardigan\"], [\"\\u200bbetty\"], [\"the 1\"], [\"exile (Feat. Bon Iver)\"], [\"mad woman\"], [\"Lover\"], [\"Love Story\"], [\"august\"], [\"this is me trying\"], [\"Blank Space\"], [\"invisible string\"]], \"hovertemplate\": \"artista=Taylor Swift<br>x=%{x}<br>y=%{y}<br>musica=%{customdata[0]}<extra></extra>\", \"legendgroup\": \"Taylor Swift\", \"marker\": {\"color\": \"#FF97FF\", \"opacity\": 0.5, \"symbol\": \"circle\"}, \"mode\": \"markers\", \"name\": \"Taylor Swift\", \"showlegend\": true, \"type\": \"scattergl\", \"x\": [30.8641414642334, 13.632290840148926, -7.8461527824401855, -0.8467589020729065, -4.104755878448486, 62.97120666503906, 24.399761199951172, -19.802410125732422, 52.72895050048828, 23.316871643066406, 4.971069812774658, 60.14716720581055, 7.688173770904541, 61.237972259521484, 49.349464416503906, 68.30723571777344, -18.240137100219727, -29.14700698852539, -16.04962158203125, 3.3356845378875732, -0.7349938154220581, 57.53143310546875, -38.71326446533203, 32.41035461425781, 67.49613189697266], \"xaxis\": \"x\", \"y\": [72.96559143066406, -9.63895320892334, 58.32002639770508, -41.286373138427734, -66.8309326171875, -11.872160911560059, 27.989944458007812, -29.094968795776367, 3.78303599357605, 13.756132125854492, 2.063415765762329, 9.788569450378418, -75.03853607177734, -8.57840633392334, -0.9110379815101624, -2.0755743980407715, -48.64504623413086, 35.13661575317383, 2.284637689590454, 6.108370304107666, -51.8848991394043, 27.309316635131836, -39.406253814697266, 44.9898681640625, -19.61708641052246], \"yaxis\": \"y\"}, {\"customdata\": [[\"While My Guitar Gently Weeps\"], [\"Something\"], [\"Here Comes The Sun\"], [\"Hello, Goodbye\"], [\"Eleanor Rigby\"], [\"Come Together\"], [\"A Day In The Life\"], [\"In My Life\"], [\"Hey Jude\"], [\"Help!\"], [\"I Want To Hold Your Hand\"], [\"Yellow Submarine\"], [\"Blackbird\"], [\"All My Loving\"], [\"Don't Let Me Down\"], [\"Oh! Darling\"], [\"Let It Be\"], [\"She Loves You\"], [\"All You Need Is Love\"], [\"Across The Universe\"], [\"And I Love Her\"], [\"A Hard Day's Night\"], [\"Yesterday\"], [\"Michelle\"], [\"Strawberry Fields Forever\"]], \"hovertemplate\": \"artista=The Beatles<br>x=%{x}<br>y=%{y}<br>musica=%{customdata[0]}<extra></extra>\", \"legendgroup\": \"The Beatles\", \"marker\": {\"color\": \"#FECB52\", \"opacity\": 0.5, \"symbol\": \"circle\"}, \"mode\": \"markers\", \"name\": \"The Beatles\", \"showlegend\": true, \"type\": \"scattergl\", \"x\": [1.1102913618087769, -81.37867736816406, 16.338098526000977, -44.64444351196289, 63.34727478027344, 27.41934585571289, 14.636738777160645, 26.39948081970215, 34.13640213012695, -35.62734603881836, -67.70027160644531, 48.79426956176758, 37.21099090576172, 25.281940460205078, -20.25564193725586, -4.0736775398254395, -26.97828483581543, -50.45791244506836, 49.927459716796875, 1.362511157989502, 73.8643798828125, 4.552937984466553, 13.24754810333252, -51.073646545410156, -28.751222610473633], \"xaxis\": \"x\", \"y\": [-30.660362243652344, 3.9937326908111572, 21.75279426574707, 21.66251564025879, -12.28175163269043, 23.8884220123291, 60.36430740356445, -9.719372749328613, 6.106478214263916, -30.52387237548828, 34.00836944580078, -10.74116039276123, -7.018856048583984, -52.975406646728516, 34.078731536865234, 79.08905792236328, -41.34847640991211, 25.543590545654297, 47.80461120605469, 79.36265563964844, 35.43825149536133, 83.49789428710938, -41.642051696777344, -21.69265365600586, -29.769485473632812], \"yaxis\": \"y\"}, {\"customdata\": [[\"Save Your Tears\"], [\"Hardest To Love\"], [\"After Hours\"], [\"Alone Again\"], [\"Too Late\"], [\"Reminder\"], [\"The Hills (Feat. Eminem) (Remix)\"], [\"Pray For Me (With Kendrick Lamar)\"], [\"Escape From LA\"], [\"Often\"], [\"Faith\"], [\"In Your Eyes (Feat. Doja Cat) (Remix)\"], [\"Can't Feel My Face\"], [\"In Your Eyes\"], [\"Over Now (With Calvin Harris)\"], [\"I Feel It Coming (Feat. Daft Punk)\"], [\"The Hills\"], [\"Starboy (Feat. Daft Punk)\"], [\"Call Out My Name\"], [\"Smile (With Juice WRLD)\"], [\"Try Me\"], [\"Die For You\"], [\"Heartless\"], [\"Blinding Lights\"], [\"Earned It\"]], \"hovertemplate\": \"artista=The Weeknd<br>x=%{x}<br>y=%{y}<br>musica=%{customdata[0]}<extra></extra>\", \"legendgroup\": \"The Weeknd\", \"marker\": {\"color\": \"#636efa\", \"opacity\": 0.5, \"symbol\": \"circle\"}, \"mode\": \"markers\", \"name\": \"The Weeknd\", \"showlegend\": true, \"type\": \"scattergl\", \"x\": [-21.663898468017578, -30.728975296020508, -11.352535247802734, -24.185304641723633, -29.815622329711914, 13.719095230102539, 2.059966802597046, 60.533687591552734, 25.60067367553711, 10.77400016784668, 6.307919502258301, -26.654144287109375, 3.7304630279541016, -26.76998519897461, -30.755247116088867, -3.9619574546813965, 2.1862051486968994, 51.00797653198242, -7.816473960876465, -26.180299758911133, -27.069171905517578, -56.94203567504883, 18.127517700195312, -56.421199798583984, 21.42934226989746], \"xaxis\": \"x\", \"y\": [24.73439598083496, 47.94426727294922, 44.38824462890625, 34.638797760009766, 68.79862976074219, 31.700332641601562, 29.427017211914062, -7.776453971862793, 24.262516021728516, -16.77114486694336, 18.559703826904297, 49.16913604736328, 43.2166748046875, 49.254905700683594, 48.5212516784668, -33.103939056396484, 29.567453384399414, 11.88331413269043, 31.73720359802246, 48.38812255859375, 28.368824005126953, -9.760708808898926, 18.958213806152344, -42.87406921386719, -36.341644287109375], \"yaxis\": \"y\"}, {\"customdata\": [[\"With Or Without You\"], [\"Mysterious Ways\"], [\"Song For Someone\"], [\"Lights Of Home\"], [\"All I Want Is You\"], [\"You're The Best Thing About Me\"], [\"Bad\"], [\"Stay (Faraway, So Close)\"], [\"Vertigo\"], [\"Every Breaking Wave\"], [\"I Still Haven't Found What I'm Looking For\"], [\"City Of Blinding Lights\"], [\"Summer Of Love\"], [\"Love Is All We Have Left\"], [\"Sweetest Thing\"], [\"One\"], [\"Let Your Love Be Known\"], [\"Beautiful Day\"], [\"Sunday Bloody Sunday\"], [\"Pride (In The Name Of Love)\"], [\"New Year's Day\"], [\"Where The Streets Have No Name\"], [\"Stuck In A Moment You Can't Get Out Of\"], [\"Ordinary Love\"], [\"Walk On\"]], \"hovertemplate\": \"artista=U2<br>x=%{x}<br>y=%{y}<br>musica=%{customdata[0]}<extra></extra>\", \"legendgroup\": \"U2\", \"marker\": {\"color\": \"#EF553B\", \"opacity\": 0.5, \"symbol\": \"circle\"}, \"mode\": \"markers\", \"name\": \"U2\", \"showlegend\": true, \"type\": \"scattergl\", \"x\": [37.10220718383789, 14.239402770996094, -10.818755149841309, 20.115324020385742, 23.163471221923828, 60.8870964050293, 3.2352969646453857, 13.208602905273438, 0.5849061012268066, 50.455162048339844, -4.2857537269592285, -19.944089889526367, 67.71592712402344, 12.14120101928711, -2.498317241668701, 22.4233455657959, 10.035273551940918, -21.662904739379883, 51.51778793334961, 71.44866180419922, 15.920389175415039, 5.242866516113281, -45.295413970947266, -19.89628791809082, 11.120367050170898], \"xaxis\": \"x\", \"y\": [-49.81739807128906, 80.75072479248047, -58.173091888427734, -10.818498611450195, -48.39484786987305, 10.68450927734375, 83.3633804321289, -37.60492706298828, -18.605937957763672, -24.87071990966797, -55.316444396972656, -47.423248291015625, -34.24643325805664, -31.512619018554688, 84.18849182128906, -48.28993606567383, -36.532012939453125, -57.78107452392578, -39.059669494628906, -34.8195686340332, 87.19462585449219, 79.83916473388672, -46.605751037597656, -11.663238525390625, -34.186763763427734], \"yaxis\": \"y\"}, {\"customdata\": [[\"I Look To You\"], [\"I Have Nothing\"], [\"I Will Always Love You\"], [\"Things You Say\"], [\"Exhale (Shoop Shoop)\"], [\"We Didn't Know (feat. Stevie Wonder)\"], [\"I Believe In You And Me\"], [\"How Will I Know\"], [\"Jesus Loves Me\"], [\"One Moment In Time\"], [\"I Wanna Dance With Somebody (Who Loves Me)\"], [\"Run To You\"], [\"It's Not Right But It's Okay\"], [\"Saving All My Love For You\"], [\"When You Believe (feat. Mariah Carey)\"], [\"Didn't We Almost Have It All\"], [\"You Give Good Love\"], [\"Greatest Love Of All\"], [\"Queen of the Night\\\" (Film Version)\"], [\"Where Do Broken Hearts Go\"], [\"All The Man That I Need\"], [\"My Love Is Your Love\"], [\"I'm Every Woman\"], [\"I Didn't Know My Own Strength\"], [\"Try It On My Own\"]], \"hovertemplate\": \"artista=Whitney Houston<br>x=%{x}<br>y=%{y}<br>musica=%{customdata[0]}<extra></extra>\", \"legendgroup\": \"Whitney Houston\", \"marker\": {\"color\": \"#00cc96\", \"opacity\": 0.5, \"symbol\": \"circle\"}, \"mode\": \"markers\", \"name\": \"Whitney Houston\", \"showlegend\": true, \"type\": \"scattergl\", \"x\": [0.7252867221832275, -82.18385314941406, -62.83759689331055, -37.3133659362793, -14.160457611083984, -9.464493751525879, 42.15589141845703, -15.146450996398926, 26.232481002807617, 16.104631423950195, 2.4110631942749023, -9.958219528198242, -60.87013626098633, 18.30485725402832, 15.51878833770752, -44.843257904052734, -12.600958824157715, 16.985776901245117, -36.24619674682617, -17.169883728027344, 23.827219009399414, 6.498178482055664, -3.4026737213134766, -52.31414031982422, -49.654056549072266], \"xaxis\": \"x\", \"y\": [-20.12587547302246, 3.357330560684204, 32.951873779296875, 12.108733177185059, 16.53395652770996, -56.31432342529297, -22.782907485961914, 36.01485061645508, 7.1415114402771, -6.688827991485596, -30.363239288330078, -21.75473403930664, 15.601116180419922, 3.3031716346740723, -36.71403121948242, -46.99102783203125, 26.371734619140625, -76.61556243896484, 2.054856538772583, -11.496076583862305, 69.58833312988281, -1.1093487739562988, -33.025474548339844, -52.305931091308594, 19.307422637939453], \"yaxis\": \"y\"}],                        {\"legend\": {\"title\": {\"text\": \"artista\"}, \"tracegroupgap\": 0}, \"margin\": {\"t\": 60}, \"template\": {\"data\": {\"bar\": [{\"error_x\": {\"color\": \"#2a3f5f\"}, \"error_y\": {\"color\": \"#2a3f5f\"}, \"marker\": {\"line\": {\"color\": \"#E5ECF6\", \"width\": 0.5}}, \"type\": \"bar\"}], \"barpolar\": [{\"marker\": {\"line\": {\"color\": \"#E5ECF6\", \"width\": 0.5}}, \"type\": \"barpolar\"}], \"carpet\": [{\"aaxis\": {\"endlinecolor\": \"#2a3f5f\", \"gridcolor\": \"white\", \"linecolor\": \"white\", \"minorgridcolor\": \"white\", \"startlinecolor\": \"#2a3f5f\"}, \"baxis\": {\"endlinecolor\": \"#2a3f5f\", \"gridcolor\": \"white\", \"linecolor\": \"white\", \"minorgridcolor\": \"white\", \"startlinecolor\": \"#2a3f5f\"}, \"type\": \"carpet\"}], \"choropleth\": [{\"colorbar\": {\"outlinewidth\": 0, \"ticks\": \"\"}, \"type\": \"choropleth\"}], \"contour\": [{\"colorbar\": {\"outlinewidth\": 0, \"ticks\": \"\"}, \"colorscale\": [[0.0, \"#0d0887\"], [0.1111111111111111, \"#46039f\"], [0.2222222222222222, \"#7201a8\"], [0.3333333333333333, \"#9c179e\"], [0.4444444444444444, \"#bd3786\"], [0.5555555555555556, \"#d8576b\"], [0.6666666666666666, \"#ed7953\"], [0.7777777777777778, \"#fb9f3a\"], [0.8888888888888888, \"#fdca26\"], [1.0, \"#f0f921\"]], \"type\": \"contour\"}], \"contourcarpet\": [{\"colorbar\": {\"outlinewidth\": 0, \"ticks\": \"\"}, \"type\": \"contourcarpet\"}], \"heatmap\": [{\"colorbar\": {\"outlinewidth\": 0, \"ticks\": \"\"}, \"colorscale\": [[0.0, \"#0d0887\"], [0.1111111111111111, \"#46039f\"], [0.2222222222222222, \"#7201a8\"], [0.3333333333333333, \"#9c179e\"], [0.4444444444444444, \"#bd3786\"], [0.5555555555555556, \"#d8576b\"], [0.6666666666666666, \"#ed7953\"], [0.7777777777777778, \"#fb9f3a\"], [0.8888888888888888, \"#fdca26\"], [1.0, \"#f0f921\"]], \"type\": \"heatmap\"}], \"heatmapgl\": [{\"colorbar\": {\"outlinewidth\": 0, \"ticks\": \"\"}, \"colorscale\": [[0.0, \"#0d0887\"], [0.1111111111111111, \"#46039f\"], [0.2222222222222222, \"#7201a8\"], [0.3333333333333333, \"#9c179e\"], [0.4444444444444444, \"#bd3786\"], [0.5555555555555556, \"#d8576b\"], [0.6666666666666666, \"#ed7953\"], [0.7777777777777778, \"#fb9f3a\"], [0.8888888888888888, \"#fdca26\"], [1.0, \"#f0f921\"]], \"type\": \"heatmapgl\"}], \"histogram\": [{\"marker\": {\"colorbar\": {\"outlinewidth\": 0, \"ticks\": \"\"}}, \"type\": \"histogram\"}], \"histogram2d\": [{\"colorbar\": {\"outlinewidth\": 0, \"ticks\": \"\"}, \"colorscale\": [[0.0, \"#0d0887\"], [0.1111111111111111, \"#46039f\"], [0.2222222222222222, \"#7201a8\"], [0.3333333333333333, \"#9c179e\"], [0.4444444444444444, \"#bd3786\"], [0.5555555555555556, \"#d8576b\"], [0.6666666666666666, \"#ed7953\"], [0.7777777777777778, \"#fb9f3a\"], [0.8888888888888888, \"#fdca26\"], [1.0, \"#f0f921\"]], \"type\": \"histogram2d\"}], \"histogram2dcontour\": [{\"colorbar\": {\"outlinewidth\": 0, \"ticks\": \"\"}, \"colorscale\": [[0.0, \"#0d0887\"], [0.1111111111111111, \"#46039f\"], [0.2222222222222222, \"#7201a8\"], [0.3333333333333333, \"#9c179e\"], [0.4444444444444444, \"#bd3786\"], [0.5555555555555556, \"#d8576b\"], [0.6666666666666666, \"#ed7953\"], [0.7777777777777778, \"#fb9f3a\"], [0.8888888888888888, \"#fdca26\"], [1.0, \"#f0f921\"]], \"type\": \"histogram2dcontour\"}], \"mesh3d\": [{\"colorbar\": {\"outlinewidth\": 0, \"ticks\": \"\"}, \"type\": \"mesh3d\"}], \"parcoords\": [{\"line\": {\"colorbar\": {\"outlinewidth\": 0, \"ticks\": \"\"}}, \"type\": \"parcoords\"}], \"pie\": [{\"automargin\": true, \"type\": \"pie\"}], \"scatter\": [{\"marker\": {\"colorbar\": {\"outlinewidth\": 0, \"ticks\": \"\"}}, \"type\": \"scatter\"}], \"scatter3d\": [{\"line\": {\"colorbar\": {\"outlinewidth\": 0, \"ticks\": \"\"}}, \"marker\": {\"colorbar\": {\"outlinewidth\": 0, \"ticks\": \"\"}}, \"type\": \"scatter3d\"}], \"scattercarpet\": [{\"marker\": {\"colorbar\": {\"outlinewidth\": 0, \"ticks\": \"\"}}, \"type\": \"scattercarpet\"}], \"scattergeo\": [{\"marker\": {\"colorbar\": {\"outlinewidth\": 0, \"ticks\": \"\"}}, \"type\": \"scattergeo\"}], \"scattergl\": [{\"marker\": {\"colorbar\": {\"outlinewidth\": 0, \"ticks\": \"\"}}, \"type\": \"scattergl\"}], \"scattermapbox\": [{\"marker\": {\"colorbar\": {\"outlinewidth\": 0, \"ticks\": \"\"}}, \"type\": \"scattermapbox\"}], \"scatterpolar\": [{\"marker\": {\"colorbar\": {\"outlinewidth\": 0, \"ticks\": \"\"}}, \"type\": \"scatterpolar\"}], \"scatterpolargl\": [{\"marker\": {\"colorbar\": {\"outlinewidth\": 0, \"ticks\": \"\"}}, \"type\": \"scatterpolargl\"}], \"scatterternary\": [{\"marker\": {\"colorbar\": {\"outlinewidth\": 0, \"ticks\": \"\"}}, \"type\": \"scatterternary\"}], \"surface\": [{\"colorbar\": {\"outlinewidth\": 0, \"ticks\": \"\"}, \"colorscale\": [[0.0, \"#0d0887\"], [0.1111111111111111, \"#46039f\"], [0.2222222222222222, \"#7201a8\"], [0.3333333333333333, \"#9c179e\"], [0.4444444444444444, \"#bd3786\"], [0.5555555555555556, \"#d8576b\"], [0.6666666666666666, \"#ed7953\"], [0.7777777777777778, \"#fb9f3a\"], [0.8888888888888888, \"#fdca26\"], [1.0, \"#f0f921\"]], \"type\": \"surface\"}], \"table\": [{\"cells\": {\"fill\": {\"color\": \"#EBF0F8\"}, \"line\": {\"color\": \"white\"}}, \"header\": {\"fill\": {\"color\": \"#C8D4E3\"}, \"line\": {\"color\": \"white\"}}, \"type\": \"table\"}]}, \"layout\": {\"annotationdefaults\": {\"arrowcolor\": \"#2a3f5f\", \"arrowhead\": 0, \"arrowwidth\": 1}, \"coloraxis\": {\"colorbar\": {\"outlinewidth\": 0, \"ticks\": \"\"}}, \"colorscale\": {\"diverging\": [[0, \"#8e0152\"], [0.1, \"#c51b7d\"], [0.2, \"#de77ae\"], [0.3, \"#f1b6da\"], [0.4, \"#fde0ef\"], [0.5, \"#f7f7f7\"], [0.6, \"#e6f5d0\"], [0.7, \"#b8e186\"], [0.8, \"#7fbc41\"], [0.9, \"#4d9221\"], [1, \"#276419\"]], \"sequential\": [[0.0, \"#0d0887\"], [0.1111111111111111, \"#46039f\"], [0.2222222222222222, \"#7201a8\"], [0.3333333333333333, \"#9c179e\"], [0.4444444444444444, \"#bd3786\"], [0.5555555555555556, \"#d8576b\"], [0.6666666666666666, \"#ed7953\"], [0.7777777777777778, \"#fb9f3a\"], [0.8888888888888888, \"#fdca26\"], [1.0, \"#f0f921\"]], \"sequentialminus\": [[0.0, \"#0d0887\"], [0.1111111111111111, \"#46039f\"], [0.2222222222222222, \"#7201a8\"], [0.3333333333333333, \"#9c179e\"], [0.4444444444444444, \"#bd3786\"], [0.5555555555555556, \"#d8576b\"], [0.6666666666666666, \"#ed7953\"], [0.7777777777777778, \"#fb9f3a\"], [0.8888888888888888, \"#fdca26\"], [1.0, \"#f0f921\"]]}, \"colorway\": [\"#636efa\", \"#EF553B\", \"#00cc96\", \"#ab63fa\", \"#FFA15A\", \"#19d3f3\", \"#FF6692\", \"#B6E880\", \"#FF97FF\", \"#FECB52\"], \"font\": {\"color\": \"#2a3f5f\"}, \"geo\": {\"bgcolor\": \"white\", \"lakecolor\": \"white\", \"landcolor\": \"#E5ECF6\", \"showlakes\": true, \"showland\": true, \"subunitcolor\": \"white\"}, \"hoverlabel\": {\"align\": \"left\"}, \"hovermode\": \"closest\", \"mapbox\": {\"style\": \"light\"}, \"paper_bgcolor\": \"white\", \"plot_bgcolor\": \"#E5ECF6\", \"polar\": {\"angularaxis\": {\"gridcolor\": \"white\", \"linecolor\": \"white\", \"ticks\": \"\"}, \"bgcolor\": \"#E5ECF6\", \"radialaxis\": {\"gridcolor\": \"white\", \"linecolor\": \"white\", \"ticks\": \"\"}}, \"scene\": {\"xaxis\": {\"backgroundcolor\": \"#E5ECF6\", \"gridcolor\": \"white\", \"gridwidth\": 2, \"linecolor\": \"white\", \"showbackground\": true, \"ticks\": \"\", \"zerolinecolor\": \"white\"}, \"yaxis\": {\"backgroundcolor\": \"#E5ECF6\", \"gridcolor\": \"white\", \"gridwidth\": 2, \"linecolor\": \"white\", \"showbackground\": true, \"ticks\": \"\", \"zerolinecolor\": \"white\"}, \"zaxis\": {\"backgroundcolor\": \"#E5ECF6\", \"gridcolor\": \"white\", \"gridwidth\": 2, \"linecolor\": \"white\", \"showbackground\": true, \"ticks\": \"\", \"zerolinecolor\": \"white\"}}, \"shapedefaults\": {\"line\": {\"color\": \"#2a3f5f\"}}, \"ternary\": {\"aaxis\": {\"gridcolor\": \"white\", \"linecolor\": \"white\", \"ticks\": \"\"}, \"baxis\": {\"gridcolor\": \"white\", \"linecolor\": \"white\", \"ticks\": \"\"}, \"bgcolor\": \"#E5ECF6\", \"caxis\": {\"gridcolor\": \"white\", \"linecolor\": \"white\", \"ticks\": \"\"}}, \"title\": {\"x\": 0.05}, \"xaxis\": {\"automargin\": true, \"gridcolor\": \"white\", \"linecolor\": \"white\", \"ticks\": \"\", \"title\": {\"standoff\": 15}, \"zerolinecolor\": \"white\", \"zerolinewidth\": 2}, \"yaxis\": {\"automargin\": true, \"gridcolor\": \"white\", \"linecolor\": \"white\", \"ticks\": \"\", \"title\": {\"standoff\": 15}, \"zerolinecolor\": \"white\", \"zerolinewidth\": 2}}}, \"xaxis\": {\"anchor\": \"y\", \"domain\": [0.0, 1.0], \"title\": {\"text\": \"x\"}}, \"yaxis\": {\"anchor\": \"x\", \"domain\": [0.0, 1.0], \"title\": {\"text\": \"y\"}}},                        {\"responsive\": true}                    ).then(function(){\n",
       "                            \n",
       "var gd = document.getElementById('803733bd-c5e4-4b9d-aee2-58b61752b7c8');\n",
       "var x = new MutationObserver(function (mutations, observer) {{\n",
       "        var display = window.getComputedStyle(gd).display;\n",
       "        if (!display || display === 'none') {{\n",
       "            console.log([gd, 'removed!']);\n",
       "            Plotly.purge(gd);\n",
       "            observer.disconnect();\n",
       "        }}\n",
       "}});\n",
       "\n",
       "// Listen for the removal of the full notebook cells\n",
       "var notebookContainer = gd.closest('#notebook-container');\n",
       "if (notebookContainer) {{\n",
       "    x.observe(notebookContainer, {childList: true});\n",
       "}}\n",
       "\n",
       "// Listen for the clearing of the current output cell\n",
       "var outputEl = gd.closest('.output');\n",
       "if (outputEl) {{\n",
       "    x.observe(outputEl, {childList: true});\n",
       "}}\n",
       "\n",
       "                        })                };                });            </script>        </div>"
      ]
     },
     "metadata": {},
     "output_type": "display_data"
    }
   ],
   "source": [
    "fig = px.scatter(\n",
    "    unique_df.sort_values(\"artista\"),\n",
    "    x=\"x\", y=\"y\",\n",
    "    color=\"artista\",\n",
    "    hover_data=[\"musica\"],\n",
    "    opacity=0.5\n",
    ")\n",
    "fig.show()"
   ]
  }
 ],
 "metadata": {
  "kernelspec": {
   "display_name": "Python 3",
   "language": "python",
   "name": "python3"
  },
  "language_info": {
   "codemirror_mode": {
    "name": "ipython",
    "version": 3
   },
   "file_extension": ".py",
   "mimetype": "text/x-python",
   "name": "python",
   "nbconvert_exporter": "python",
   "pygments_lexer": "ipython3",
   "version": "3.8.5"
  }
 },
 "nbformat": 4,
 "nbformat_minor": 4
}
