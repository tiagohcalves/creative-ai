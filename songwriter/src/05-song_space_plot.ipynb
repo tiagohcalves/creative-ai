{
 "cells": [
  {
   "cell_type": "code",
   "execution_count": 1,
   "metadata": {},
   "outputs": [],
   "source": [
    "import pickle\n",
    "import pandas as pd\n",
    "from sklearn.manifold import TSNE\n",
    "\n",
    "import plotly.express as px"
   ]
  },
  {
   "cell_type": "code",
   "execution_count": 2,
   "metadata": {},
   "outputs": [],
   "source": [
    "lyrics_df = pd.read_csv(\"../data/processed/lyrics.csv\", sep=\";\")"
   ]
  },
  {
   "cell_type": "code",
   "execution_count": 3,
   "metadata": {},
   "outputs": [],
   "source": [
    "with open(\"../data/processed/song_encodings.pkl\", \"rb\") as infile:\n",
    "    song_encodings_map = pickle.load(infile)"
   ]
  },
  {
   "cell_type": "markdown",
   "metadata": {},
   "source": [
    "---"
   ]
  },
  {
   "cell_type": "code",
   "execution_count": 28,
   "metadata": {},
   "outputs": [],
   "source": [
    "tsne = TSNE(perplexity=10)"
   ]
  },
  {
   "cell_type": "code",
   "execution_count": 29,
   "metadata": {},
   "outputs": [],
   "source": [
    "song_embeddings = tsne.fit_transform(list(song_encodings_map.values()))"
   ]
  },
  {
   "cell_type": "code",
   "execution_count": 31,
   "metadata": {},
   "outputs": [],
   "source": [
    "song_df = pd.DataFrame(\n",
    "    zip(list(song_encodings_map.keys()), song_embeddings[:,0], song_embeddings[:,1]),\n",
    "    columns=[\"song_idx\", \"x\", \"y\"]\n",
    ")"
   ]
  },
  {
   "cell_type": "code",
   "execution_count": 32,
   "metadata": {},
   "outputs": [
    {
     "data": {
      "text/html": [
       "<div>\n",
       "<style scoped>\n",
       "    .dataframe tbody tr th:only-of-type {\n",
       "        vertical-align: middle;\n",
       "    }\n",
       "\n",
       "    .dataframe tbody tr th {\n",
       "        vertical-align: top;\n",
       "    }\n",
       "\n",
       "    .dataframe thead th {\n",
       "        text-align: right;\n",
       "    }\n",
       "</style>\n",
       "<table border=\"1\" class=\"dataframe\">\n",
       "  <thead>\n",
       "    <tr style=\"text-align: right;\">\n",
       "      <th></th>\n",
       "      <th>song_idx</th>\n",
       "      <th>x</th>\n",
       "      <th>y</th>\n",
       "      <th>sentence</th>\n",
       "      <th>artista</th>\n",
       "      <th>musica</th>\n",
       "      <th>letra</th>\n",
       "      <th>lang</th>\n",
       "    </tr>\n",
       "  </thead>\n",
       "  <tbody>\n",
       "    <tr>\n",
       "      <th>0</th>\n",
       "      <td>0</td>\n",
       "      <td>-20.249626</td>\n",
       "      <td>-16.845879</td>\n",
       "      <td>[DaBaby:]</td>\n",
       "      <td>Dua Lipa</td>\n",
       "      <td>Levitating (feat. DaBaby)</td>\n",
       "      <td>[DaBaby:]\\nBillboard Baby, Dua Lipa make 'em d...</td>\n",
       "      <td>2</td>\n",
       "    </tr>\n",
       "    <tr>\n",
       "      <th>1</th>\n",
       "      <td>0</td>\n",
       "      <td>-20.249626</td>\n",
       "      <td>-16.845879</td>\n",
       "      <td>Billboard Baby, Dua Lipa make 'em dance when i...</td>\n",
       "      <td>Dua Lipa</td>\n",
       "      <td>Levitating (feat. DaBaby)</td>\n",
       "      <td>[DaBaby:]\\nBillboard Baby, Dua Lipa make 'em d...</td>\n",
       "      <td>2</td>\n",
       "    </tr>\n",
       "    <tr>\n",
       "      <th>2</th>\n",
       "      <td>0</td>\n",
       "      <td>-20.249626</td>\n",
       "      <td>-16.845879</td>\n",
       "      <td>Everybody lookin' for a dance floor to run on</td>\n",
       "      <td>Dua Lipa</td>\n",
       "      <td>Levitating (feat. DaBaby)</td>\n",
       "      <td>[DaBaby:]\\nBillboard Baby, Dua Lipa make 'em d...</td>\n",
       "      <td>2</td>\n",
       "    </tr>\n",
       "    <tr>\n",
       "      <th>3</th>\n",
       "      <td>0</td>\n",
       "      <td>-20.249626</td>\n",
       "      <td>-16.845879</td>\n",
       "      <td>[Dua Lipa:]</td>\n",
       "      <td>Dua Lipa</td>\n",
       "      <td>Levitating (feat. DaBaby)</td>\n",
       "      <td>[DaBaby:]\\nBillboard Baby, Dua Lipa make 'em d...</td>\n",
       "      <td>2</td>\n",
       "    </tr>\n",
       "    <tr>\n",
       "      <th>4</th>\n",
       "      <td>0</td>\n",
       "      <td>-20.249626</td>\n",
       "      <td>-16.845879</td>\n",
       "      <td>If you wanna run away with me, I know a galaxy</td>\n",
       "      <td>Dua Lipa</td>\n",
       "      <td>Levitating (feat. DaBaby)</td>\n",
       "      <td>[DaBaby:]\\nBillboard Baby, Dua Lipa make 'em d...</td>\n",
       "      <td>2</td>\n",
       "    </tr>\n",
       "  </tbody>\n",
       "</table>\n",
       "</div>"
      ],
      "text/plain": [
       "   song_idx          x          y  \\\n",
       "0         0 -20.249626 -16.845879   \n",
       "1         0 -20.249626 -16.845879   \n",
       "2         0 -20.249626 -16.845879   \n",
       "3         0 -20.249626 -16.845879   \n",
       "4         0 -20.249626 -16.845879   \n",
       "\n",
       "                                            sentence   artista  \\\n",
       "0                                          [DaBaby:]  Dua Lipa   \n",
       "1  Billboard Baby, Dua Lipa make 'em dance when i...  Dua Lipa   \n",
       "2      Everybody lookin' for a dance floor to run on  Dua Lipa   \n",
       "3                                        [Dua Lipa:]  Dua Lipa   \n",
       "4     If you wanna run away with me, I know a galaxy  Dua Lipa   \n",
       "\n",
       "                      musica  \\\n",
       "0  Levitating (feat. DaBaby)   \n",
       "1  Levitating (feat. DaBaby)   \n",
       "2  Levitating (feat. DaBaby)   \n",
       "3  Levitating (feat. DaBaby)   \n",
       "4  Levitating (feat. DaBaby)   \n",
       "\n",
       "                                               letra  lang  \n",
       "0  [DaBaby:]\\nBillboard Baby, Dua Lipa make 'em d...     2  \n",
       "1  [DaBaby:]\\nBillboard Baby, Dua Lipa make 'em d...     2  \n",
       "2  [DaBaby:]\\nBillboard Baby, Dua Lipa make 'em d...     2  \n",
       "3  [DaBaby:]\\nBillboard Baby, Dua Lipa make 'em d...     2  \n",
       "4  [DaBaby:]\\nBillboard Baby, Dua Lipa make 'em d...     2  "
      ]
     },
     "execution_count": 32,
     "metadata": {},
     "output_type": "execute_result"
    }
   ],
   "source": [
    "song_df = song_df.merge(lyrics_df, left_on=\"song_idx\", right_on=\"song_idx\")\n",
    "song_df.head()"
   ]
  },
  {
   "cell_type": "code",
   "execution_count": 17,
   "metadata": {},
   "outputs": [],
   "source": [
    "# song_df.to_csv(\"../data/processed/songs_with_coordinates.csv\", sep=\";\", index=False)"
   ]
  },
  {
   "cell_type": "markdown",
   "metadata": {},
   "source": [
    "---"
   ]
  },
  {
   "cell_type": "code",
   "execution_count": 37,
   "metadata": {},
   "outputs": [],
   "source": [
    "unique_df = song_df[[\"song_idx\", \"x\", \"y\", \"artista\", \"musica\", \"letra\"]].drop_duplicates()"
   ]
  },
  {
   "cell_type": "code",
   "execution_count": 38,
   "metadata": {},
   "outputs": [
    {
     "data": {
      "text/html": [
       "<div>\n",
       "<style scoped>\n",
       "    .dataframe tbody tr th:only-of-type {\n",
       "        vertical-align: middle;\n",
       "    }\n",
       "\n",
       "    .dataframe tbody tr th {\n",
       "        vertical-align: top;\n",
       "    }\n",
       "\n",
       "    .dataframe thead th {\n",
       "        text-align: right;\n",
       "    }\n",
       "</style>\n",
       "<table border=\"1\" class=\"dataframe\">\n",
       "  <thead>\n",
       "    <tr style=\"text-align: right;\">\n",
       "      <th></th>\n",
       "      <th>song_idx</th>\n",
       "      <th>x</th>\n",
       "      <th>y</th>\n",
       "      <th>artista</th>\n",
       "      <th>musica</th>\n",
       "      <th>letra</th>\n",
       "    </tr>\n",
       "  </thead>\n",
       "  <tbody>\n",
       "    <tr>\n",
       "      <th>0</th>\n",
       "      <td>0</td>\n",
       "      <td>-20.249626</td>\n",
       "      <td>-16.845879</td>\n",
       "      <td>Dua Lipa</td>\n",
       "      <td>Levitating (feat. DaBaby)</td>\n",
       "      <td>[DaBaby:]\\nBillboard Baby, Dua Lipa make 'em d...</td>\n",
       "    </tr>\n",
       "    <tr>\n",
       "      <th>97</th>\n",
       "      <td>1</td>\n",
       "      <td>-23.208698</td>\n",
       "      <td>-15.525610</td>\n",
       "      <td>Dua Lipa</td>\n",
       "      <td>Don't Start Now</td>\n",
       "      <td>If you don't wanna see me\\n\\nDid a full 180, c...</td>\n",
       "    </tr>\n",
       "    <tr>\n",
       "      <th>147</th>\n",
       "      <td>2</td>\n",
       "      <td>27.075216</td>\n",
       "      <td>38.009338</td>\n",
       "      <td>Dua Lipa</td>\n",
       "      <td>Break My Heart</td>\n",
       "      <td>I've always been the one to say the first good...</td>\n",
       "    </tr>\n",
       "    <tr>\n",
       "      <th>214</th>\n",
       "      <td>3</td>\n",
       "      <td>-20.640112</td>\n",
       "      <td>-16.691019</td>\n",
       "      <td>Dua Lipa</td>\n",
       "      <td>Levitating</td>\n",
       "      <td>If you wanna run away with me\\nI know a galaxy...</td>\n",
       "    </tr>\n",
       "    <tr>\n",
       "      <th>297</th>\n",
       "      <td>4</td>\n",
       "      <td>-5.635098</td>\n",
       "      <td>-3.148146</td>\n",
       "      <td>Dua Lipa</td>\n",
       "      <td>New Rules</td>\n",
       "      <td>Talkin' in my sleep at night\\nMakin' myself cr...</td>\n",
       "    </tr>\n",
       "  </tbody>\n",
       "</table>\n",
       "</div>"
      ],
      "text/plain": [
       "     song_idx          x          y   artista                     musica  \\\n",
       "0           0 -20.249626 -16.845879  Dua Lipa  Levitating (feat. DaBaby)   \n",
       "97          1 -23.208698 -15.525610  Dua Lipa            Don't Start Now   \n",
       "147         2  27.075216  38.009338  Dua Lipa             Break My Heart   \n",
       "214         3 -20.640112 -16.691019  Dua Lipa                 Levitating   \n",
       "297         4  -5.635098  -3.148146  Dua Lipa                  New Rules   \n",
       "\n",
       "                                                 letra  \n",
       "0    [DaBaby:]\\nBillboard Baby, Dua Lipa make 'em d...  \n",
       "97   If you don't wanna see me\\n\\nDid a full 180, c...  \n",
       "147  I've always been the one to say the first good...  \n",
       "214  If you wanna run away with me\\nI know a galaxy...  \n",
       "297  Talkin' in my sleep at night\\nMakin' myself cr...  "
      ]
     },
     "execution_count": 38,
     "metadata": {},
     "output_type": "execute_result"
    }
   ],
   "source": [
    "unique_df.head()"
   ]
  },
  {
   "cell_type": "code",
   "execution_count": 34,
   "metadata": {},
   "outputs": [
    {
     "data": {
      "application/vnd.plotly.v1+json": {
       "config": {
        "plotlyServerURL": "https://plot.ly"
       },
       "data": [
        {
         "customdata": [
          [
           "Let Go"
          ]
         ],
         "hovertemplate": "artista=-M- (Mathieu Chedid)<br>x=%{x}<br>y=%{y}<br>musica=%{customdata[0]}<extra></extra>",
         "legendgroup": "-M- (Mathieu Chedid)",
         "marker": {
          "color": "#636efa",
          "opacity": 0.5,
          "symbol": "circle"
         },
         "mode": "markers",
         "name": "-M- (Mathieu Chedid)",
         "showlegend": true,
         "type": "scattergl",
         "x": [
          -33.63623046875
         ],
         "xaxis": "x",
         "y": [
          -27.567663192749023
         ],
         "yaxis": "y"
        },
        {
         "customdata": [
          [
           "Someone Like You"
          ],
          [
           "Hello"
          ],
          [
           "River Lea"
          ],
          [
           "If It Hadn't Been For Love"
          ],
          [
           "Sweetest Devotion"
          ],
          [
           "Chasing Pavements"
          ],
          [
           "Lay Me Down"
          ],
          [
           "Lovesong"
          ],
          [
           "Love In The Dark"
          ],
          [
           "Hometown Glory"
          ],
          [
           "Remedy"
          ],
          [
           "Million Years Ago"
          ],
          [
           "Crazy For You"
          ],
          [
           "Turning Tables"
          ],
          [
           "Water Under The Bridge"
          ],
          [
           "Set Fire To The Rain"
          ],
          [
           "Send My Love (To Your New Lover)"
          ],
          [
           "When We Were Young"
          ],
          [
           "One and Only"
          ],
          [
           "Rolling In The Deep"
          ],
          [
           "Make You Feel My Love"
          ],
          [
           "All I Ask"
          ],
          [
           "Don't You Remember"
          ],
          [
           "I Miss You"
          ],
          [
           "Skyfall"
          ]
         ],
         "hovertemplate": "artista=Adele<br>x=%{x}<br>y=%{y}<br>musica=%{customdata[0]}<extra></extra>",
         "legendgroup": "Adele",
         "marker": {
          "color": "#EF553B",
          "opacity": 0.5,
          "symbol": "circle"
         },
         "mode": "markers",
         "name": "Adele",
         "showlegend": true,
         "type": "scattergl",
         "x": [
          -7.201765537261963,
          1.2479243278503418,
          -32.35416793823242,
          11.054877281188965,
          -2.760793685913086,
          -34.535709381103516,
          -15.27092170715332,
          -12.895197868347168,
          12.300140380859375,
          -13.629315376281738,
          25.17991065979004,
          11.671737670898438,
          13.490708351135254,
          -29.105958938598633,
          -17.572044372558594,
          -33.658329010009766,
          21.420011520385742,
          35.37652587890625,
          -30.12993812561035,
          9.869873046875,
          22.62364959716797,
          17.730228424072266,
          -6.280256271362305,
          37.12364196777344,
          10.960926055908203
         ],
         "xaxis": "x",
         "y": [
          31.894268035888672,
          -28.993196487426758,
          22.003698348999023,
          34.44562911987305,
          -24.448219299316406,
          -7.264033317565918,
          22.978483200073242,
          44.45638656616211,
          26.583274841308594,
          -32.61623764038086,
          22.930095672607422,
          37.306312561035156,
          -47.891571044921875,
          7.441415309906006,
          36.26564407348633,
          15.646580696105957,
          18.459247589111328,
          2.9411890506744385,
          -8.324193954467773,
          -6.914292335510254,
          -43.60413360595703,
          25.73415756225586,
          36.3387336730957,
          12.864175796508789,
          -41.65700149536133
         ],
         "yaxis": "y"
        },
        {
         "customdata": [
          [
           "Falling In Love (Is Hard On The Knees)"
          ],
          [
           "Dude (Looks Like A Lady)"
          ],
          [
           "Girls Of Summer"
          ],
          [
           "The Other Side"
          ],
          [
           "Full Circle"
          ],
          [
           "Janie's Got a Gun"
          ],
          [
           "Love In An Elevator"
          ],
          [
           "Livin' On The Edge"
          ],
          [
           "All Your Love"
          ],
          [
           "What Could Have Been Love"
          ],
          [
           "Sweet Emotion"
          ],
          [
           "Sing For The Moment"
          ],
          [
           "Pink"
          ],
          [
           "Walk This Way"
          ],
          [
           "Jaded"
          ],
          [
           "Fly Away From Here"
          ],
          [
           "Hole In My Soul"
          ],
          [
           "Angel"
          ],
          [
           "Amazing"
          ],
          [
           "Crazy"
          ],
          [
           "Dream On"
          ],
          [
           "Cryin'"
          ],
          [
           "I Don't Want To Miss A Thing"
          ],
          [
           "What It Takes"
          ]
         ],
         "hovertemplate": "artista=Aerosmith<br>x=%{x}<br>y=%{y}<br>musica=%{customdata[0]}<extra></extra>",
         "legendgroup": "Aerosmith",
         "marker": {
          "color": "#00cc96",
          "opacity": 0.5,
          "symbol": "circle"
         },
         "mode": "markers",
         "name": "Aerosmith",
         "showlegend": true,
         "type": "scattergl",
         "x": [
          -36.528602600097656,
          2.183455467224121,
          23.043487548828125,
          -16.80832290649414,
          4.741304397583008,
          27.71894073486328,
          -2.8824703693389893,
          37.803279876708984,
          -14.838639259338379,
          12.046773910522461,
          -23.750003814697266,
          -25.540380477905273,
          8.211097717285156,
          -6.341726779937744,
          -19.3444881439209,
          15.713964462280273,
          -7.014540672302246,
          -8.900471687316895,
          -30.01699447631836,
          28.453781127929688,
          -7.192610263824463,
          16.058462142944336,
          16.475332260131836,
          0.21517768502235413
         ],
         "xaxis": "x",
         "y": [
          4.58784818649292,
          24.436525344848633,
          21.758129119873047,
          33.285911560058594,
          -40.276615142822266,
          10.93662166595459,
          0.2616785764694214,
          -17.133129119873047,
          8.41642951965332,
          27.291217803955078,
          22.175687789916992,
          26.68092918395996,
          37.42319107055664,
          -0.17928829789161682,
          -31.00987434387207,
          -6.0322771072387695,
          40.04982376098633,
          -31.711402893066406,
          -14.87342357635498,
          -32.08693313598633,
          24.079710006713867,
          32.50557327270508,
          -19.129419326782227,
          32.6220588684082
         ],
         "yaxis": "y"
        },
        {
         "customdata": [
          [
           "A Woman's Worth"
          ],
          [
           "Authors Of Forever"
          ],
          [
           "Girl On Fire (Inferno Version) (feat. Nicki Minaj)"
          ],
          [
           "Gramercy Park"
          ],
          [
           "Show Me Love (feat. Miguel)"
          ],
          [
           "Me x 7 (feat. Tierra Whack)"
          ],
          [
           "Time Machine"
          ],
          [
           "Superwoman"
          ],
          [
           "Brand New Me"
          ],
          [
           "Wasted Energy"
          ],
          [
           "You Don't Know My Name"
          ],
          [
           "So Done (feat. Khalid)"
          ],
          [
           "Underdog"
          ],
          [
           "Love Looks Better"
          ],
          [
           "Fallin'"
          ],
          [
           "Girl On Fire"
          ],
          [
           "No One"
          ],
          [
           "You Save Me (feat. Snoh Aalegra)"
          ],
          [
           "Empire State Of Mind (part. Ii)"
          ],
          [
           "3 Hour Drive (feat. Sampha)"
          ],
          [
           "If I Ain't Got You"
          ],
          [
           "Empire State Of Mind"
          ],
          [
           "Truth Without Love"
          ],
          [
           "Karma"
          ],
          [
           "Show Me Love (Ft. Miguel, 21 Savage) (Remix)"
          ]
         ],
         "hovertemplate": "artista=Alicia Keys<br>x=%{x}<br>y=%{y}<br>musica=%{customdata[0]}<extra></extra>",
         "legendgroup": "Alicia Keys",
         "marker": {
          "color": "#ab63fa",
          "opacity": 0.5,
          "symbol": "circle"
         },
         "mode": "markers",
         "name": "Alicia Keys",
         "showlegend": true,
         "type": "scattergl",
         "x": [
          6.457646369934082,
          40.54185104370117,
          21.906448364257812,
          -19.00889015197754,
          6.040074825286865,
          -38.438228607177734,
          5.477855682373047,
          18.189191818237305,
          8.578460693359375,
          -0.9661933183670044,
          -18.23463249206543,
          -37.08202362060547,
          5.7764668464660645,
          10.643702507019043,
          -1.321120023727417,
          21.889211654663086,
          -36.90334701538086,
          14.411391258239746,
          -3.770857095718384,
          28.91972541809082,
          17.91554069519043,
          -27.349191665649414,
          -0.08987218886613846,
          -11.316324234008789,
          2.022989273071289
         ],
         "xaxis": "x",
         "y": [
          -30.915836334228516,
          8.874080657958984,
          8.188918113708496,
          -35.54804611206055,
          -21.337125778198242,
          -10.545836448669434,
          -41.951045989990234,
          -36.72754669189453,
          43.268592834472656,
          -52.543704986572266,
          2.923158884048462,
          -3.2076783180236816,
          -44.623966217041016,
          -30.909164428710938,
          -28.76538848876953,
          8.20748519897461,
          3.598339557647705,
          33.47698211669922,
          -24.061349868774414,
          -31.013399124145508,
          7.852120876312256,
          -15.567733764648438,
          0.19869379699230194,
          -35.28506088256836,
          -12.253242492675781
         ],
         "yaxis": "y"
        },
        {
         "customdata": [
          [
           "Beauty and The Beast (Feat. John Legend)"
          ],
          [
           "fake smile"
          ],
          [
           "make up"
          ],
          [
           "Love Me Harder (Feat. The Weeknd)"
          ],
          [
           "in my head"
          ],
          [
           "Don't Call Me Angel (With Miley Cyrus, Lana Del Rey)"
          ],
          [
           "Break Free (Feat. Zedd)"
          ],
          [
           "imagine"
          ],
          [
           "(You Make Me Feel Like) a Natural Woman (Aretha Franklin tribute)"
          ],
          [
           "bloodline"
          ],
          [
           "breathin"
          ],
          [
           "needy"
          ],
          [
           "break up with your girlfriend, i'm bored"
          ],
          [
           "Into You"
          ],
          [
           "Side to Side (Feat. Nicki Minaj)"
          ],
          [
           "no tears left to cry"
          ],
          [
           "One Last Time"
          ],
          [
           "God is a woman"
          ],
          [
           "thank u, next"
          ],
          [
           "7 rings"
          ],
          [
           "Stuck With U (with Justin Bieber)"
          ],
          [
           "Dangerous Woman"
          ],
          [
           "How I Look On You"
          ],
          [
           "Problem (feat. Iggy Azalea)"
          ],
          [
           "I Have Nothing"
          ]
         ],
         "hovertemplate": "artista=Ariana Grande<br>x=%{x}<br>y=%{y}<br>musica=%{customdata[0]}<extra></extra>",
         "legendgroup": "Ariana Grande",
         "marker": {
          "color": "#FFA15A",
          "opacity": 0.5,
          "symbol": "circle"
         },
         "mode": "markers",
         "name": "Ariana Grande",
         "showlegend": true,
         "type": "scattergl",
         "x": [
          28.197307586669922,
          -8.83516788482666,
          -10.002593994140625,
          -13.12346363067627,
          4.682246685028076,
          8.824748039245605,
          -5.509211540222168,
          7.832644939422607,
          14.046293258666992,
          -15.396584510803223,
          -20.439796447753906,
          -13.136841773986816,
          -14.45126724243164,
          -26.32143783569336,
          1.153213381767273,
          -15.145119667053223,
          27.417879104614258,
          4.160775661468506,
          -22.629302978515625,
          -25.672576904296875,
          -24.142005920410156,
          -23.948434829711914,
          -42.60163879394531,
          -43.9879264831543,
          19.67707633972168
         ],
         "xaxis": "x",
         "y": [
          -45.68761444091797,
          -3.619987726211548,
          48.154022216796875,
          14.484952926635742,
          3.5414485931396484,
          -0.11203454434871674,
          41.31028366088867,
          -30.454221725463867,
          14.216508865356445,
          -6.7857489585876465,
          30.347108840942383,
          34.26393127441406,
          -6.203261852264404,
          37.46689987182617,
          2.996076822280884,
          15.457036972045898,
          38.27228546142578,
          -1.2964601516723633,
          -29.495418548583984,
          41.864723205566406,
          33.29357147216797,
          -26.460886001586914,
          19.93696403503418,
          -8.234273910522461,
          -21.995927810668945
         ],
         "yaxis": "y"
        },
        {
         "customdata": [
          [
           "We Are Warriors"
          ],
          [
           "Girlfriend"
          ],
          [
           "Complicated"
          ],
          [
           "I'm With You"
          ],
          [
           "When You're Gone"
          ],
          [
           "Wish You Were Here"
          ],
          [
           "Sk8er Boi"
          ],
          [
           "Rock N Roll"
          ],
          [
           "My Happy Ending"
          ],
          [
           "Smile"
          ],
          [
           "Nobody's Home"
          ],
          [
           "Head Above Water"
          ],
          [
           "What The Hell"
          ],
          [
           "Don't Tell Me"
          ],
          [
           "Let Me Go (Feat. Chad Kroeger)"
          ],
          [
           "The Best Damn Thing"
          ],
          [
           "Innocence"
          ],
          [
           "Hot"
          ],
          [
           "Tomorrow"
          ],
          [
           "Keep Holding On"
          ],
          [
           "Losing Grip"
          ],
          [
           "I Fell In Love With The Devil"
          ],
          [
           "Goodbye"
          ],
          [
           "Things I'll Never Say"
          ],
          [
           "Nobody's Fool"
          ]
         ],
         "hovertemplate": "artista=Avril Lavigne<br>x=%{x}<br>y=%{y}<br>musica=%{customdata[0]}<extra></extra>",
         "legendgroup": "Avril Lavigne",
         "marker": {
          "color": "#19d3f3",
          "opacity": 0.5,
          "symbol": "circle"
         },
         "mode": "markers",
         "name": "Avril Lavigne",
         "showlegend": true,
         "type": "scattergl",
         "x": [
          -0.3820280432701111,
          -32.70554733276367,
          -34.63431930541992,
          11.308241844177246,
          18.141063690185547,
          10.160479545593262,
          2.8904330730438232,
          9.620500564575195,
          -1.3922847509384155,
          -0.6549468636512756,
          -38.71126174926758,
          41.58161163330078,
          -9.623542785644531,
          -27.929285049438477,
          5.464297771453857,
          -13.103981018066406,
          16.94095802307129,
          39.363182067871094,
          1.2459956407546997,
          -11.00671100616455,
          13.48918628692627,
          -21.111051559448242,
          -21.992855072021484,
          15.266440391540527,
          7.952692985534668
         ],
         "xaxis": "x",
         "y": [
          -19.58268165588379,
          -2.650531053543091,
          -2.1231589317321777,
          -26.15096092224121,
          -42.214752197265625,
          -26.402095794677734,
          41.87955856323242,
          -30.81804656982422,
          2.5702099800109863,
          -31.965608596801758,
          9.126150131225586,
          -13.374484062194824,
          9.207579612731934,
          21.67328643798828,
          47.568946838378906,
          28.75122833251953,
          8.905441284179688,
          -23.279983520507812,
          -36.74123001098633,
          19.962081909179688,
          -19.923328399658203,
          -8.324170112609863,
          -22.74388313293457,
          14.03528881072998,
          -13.42994499206543
         ],
         "yaxis": "y"
        },
        {
         "customdata": [
          [
           "Savage Love (Laxed - Siren Beat) [BTS Remix]"
          ],
          [
           "Dynamite"
          ]
         ],
         "hovertemplate": "artista=BTS<br>x=%{x}<br>y=%{y}<br>musica=%{customdata[0]}<extra></extra>",
         "legendgroup": "BTS",
         "marker": {
          "color": "#FF6692",
          "opacity": 0.5,
          "symbol": "circle"
         },
         "mode": "markers",
         "name": "BTS",
         "showlegend": true,
         "type": "scattergl",
         "x": [
          -26.031217575073242,
          2.0691263675689697
         ],
         "xaxis": "x",
         "y": [
          -31.419538497924805,
          11.354116439819336
         ],
         "yaxis": "y"
        },
        {
         "customdata": [
          [
           "Quit Playing Games (With My Heart)"
          ],
          [
           "As Long As You Love Me"
          ],
          [
           "Everybody (Backstreet's Back)"
          ],
          [
           "Incomplete"
          ],
          [
           "All I Have To Give"
          ],
          [
           "Drowning"
          ],
          [
           "Don't Go Breaking My Heart"
          ],
          [
           "Show Me The Meaning Of Being Lonely"
          ],
          [
           "No Place"
          ],
          [
           "I Still..."
          ],
          [
           "Chateau"
          ],
          [
           "Nobody Else"
          ],
          [
           "We've Got It Goin' On"
          ],
          [
           "New Love"
          ],
          [
           "The One"
          ],
          [
           "Helpless When She Smiles"
          ],
          [
           "I'll Never Break Your Heart"
          ],
          [
           "Breathe (2019)"
          ],
          [
           "Larger Than Life"
          ],
          [
           "The Call"
          ],
          [
           "Don't Wanna Lose You Now"
          ],
          [
           "Chances"
          ],
          [
           "I Want It That Way"
          ],
          [
           "Shape Of My Heart"
          ],
          [
           "Inconsolable"
          ]
         ],
         "hovertemplate": "artista=Backstreet Boys<br>x=%{x}<br>y=%{y}<br>musica=%{customdata[0]}<extra></extra>",
         "legendgroup": "Backstreet Boys",
         "marker": {
          "color": "#B6E880",
          "opacity": 0.5,
          "symbol": "circle"
         },
         "mode": "markers",
         "name": "Backstreet Boys",
         "showlegend": true,
         "type": "scattergl",
         "x": [
          -19.95009422302246,
          15.774374961853027,
          -2.658665418624878,
          3.9883363246917725,
          -14.061565399169922,
          33.842769622802734,
          -17.722827911376953,
          4.430221080780029,
          -36.290828704833984,
          -30.619035720825195,
          -14.24576187133789,
          0.6851547360420227,
          -24.57467269897461,
          -0.10942196846008301,
          25.134902954101562,
          15.053018569946289,
          13.38033676147461,
          14.074559211730957,
          10.726621627807617,
          -27.62970733642578,
          8.603087425231934,
          31.318166732788086,
          -29.083070755004883,
          -16.14986228942871,
          -5.055305004119873
         ],
         "xaxis": "x",
         "y": [
          -11.848701477050781,
          -39.62543487548828,
          -42.682682037353516,
          40.05464553833008,
          31.734474182128906,
          10.127960205078125,
          32.589202880859375,
          16.767498016357422,
          21.6108455657959,
          -2.9854893684387207,
          -6.032585144042969,
          12.420331001281738,
          34.289608001708984,
          -3.1934497356414795,
          -3.165705680847168,
          -42.18354034423828,
          31.5732421875,
          -42.8804931640625,
          13.651361465454102,
          -13.643181800842285,
          18.06909942626953,
          -16.67190170288086,
          -24.88643455505371,
          30.027616500854492,
          -13.45706558227539
         ],
         "yaxis": "y"
        },
        {
         "customdata": [
          [
           "Rocket"
          ],
          [
           "Halo"
          ],
          [
           "Irreplaceable"
          ],
          [
           "If I Were A Boy"
          ],
          [
           "Pretty Hurts"
          ],
          [
           "Listen"
          ],
          [
           "Brown Skin Girl (With Saint Jhn and Wizkid feat. Blue Ivy Carter)"
          ],
          [
           "Crazy In Love (feat. Jay Z)"
          ],
          [
           "***Flawless (Feat. Chimamanda Ngozi Adichie)"
          ],
          [
           "Formation"
          ],
          [
           "Freedom (Feat. Kendrick Lamar)"
          ],
          [
           "Me, Myself And I"
          ],
          [
           "Love On Top"
          ],
          [
           "Diva"
          ],
          [
           "Already (with Shatta Wale and Major Lazer)"
          ],
          [
           "My Power (With Tierra Whack, Moonchild Sanelly, Nija)"
          ],
          [
           "***Flawless (Feat. Nicki Minaj)"
          ],
          [
           "Hold Up"
          ],
          [
           "Ego"
          ],
          [
           "Black Parade"
          ],
          [
           "Sorry"
          ],
          [
           "I Was Here"
          ],
          [
           "Single Ladies (Put A Ring On It)"
          ],
          [
           "Hello"
          ],
          [
           "Spirit"
          ]
         ],
         "hovertemplate": "artista=Beyoncé<br>x=%{x}<br>y=%{y}<br>musica=%{customdata[0]}<extra></extra>",
         "legendgroup": "Beyoncé",
         "marker": {
          "color": "#FF97FF",
          "opacity": 0.5,
          "symbol": "circle"
         },
         "mode": "markers",
         "name": "Beyoncé",
         "showlegend": true,
         "type": "scattergl",
         "x": [
          5.816309452056885,
          -15.193469047546387,
          -29.748823165893555,
          35.79582214355469,
          8.3477783203125,
          -3.3895888328552246,
          1.0748878717422485,
          -27.69899559020996,
          10.48949909210205,
          -31.252965927124023,
          -9.323216438293457,
          15.217109680175781,
          -1.4168941974639893,
          -25.78461456298828,
          1.2697488069534302,
          -19.337718963623047,
          -17.21253204345703,
          -6.343153953552246,
          -20.019203186035156,
          -23.843318939208984,
          -22.68988037109375,
          16.979305267333984,
          -6.637321472167969,
          -1.843060851097107,
          1.938265323638916
         ],
         "xaxis": "x",
         "y": [
          -31.144920349121094,
          6.317304611206055,
          5.968301296234131,
          -3.39697527885437,
          -44.068016052246094,
          -41.120548248291016,
          23.914758682250977,
          18.9569091796875,
          -35.444522857666016,
          21.672643661499023,
          -6.447118282318115,
          22.938329696655273,
          19.462385177612305,
          2.6727371215820312,
          27.798019409179688,
          -2.4971632957458496,
          0.3746374547481537,
          12.832079887390137,
          10.455080032348633,
          1.165626883506775,
          -26.169231414794922,
          -45.547576904296875,
          44.26866149902344,
          -51.445579528808594,
          10.781689643859863
         ],
         "yaxis": "y"
        },
        {
         "customdata": [
          [
           "No Time To Die"
          ],
          [
           "​when the party's over"
          ],
          [
           "I Love You"
          ],
          [
           "Lovely (with Khalid)"
          ],
          [
           "Everything I Wanted"
          ],
          [
           "Ocean Eyes"
          ],
          [
           "my future"
          ],
          [
           "All The Good Girls Go To Hell"
          ],
          [
           "Idontwannabeyouanymore"
          ],
          [
           "My Strange Addiction"
          ],
          [
           "Ilomilo"
          ],
          [
           "Xanny"
          ],
          [
           "Bad Guy"
          ]
         ],
         "hovertemplate": "artista=Billie Eilish<br>x=%{x}<br>y=%{y}<br>musica=%{customdata[0]}<extra></extra>",
         "legendgroup": "Billie Eilish",
         "marker": {
          "color": "#FECB52",
          "opacity": 0.5,
          "symbol": "circle"
         },
         "mode": "markers",
         "name": "Billie Eilish",
         "showlegend": true,
         "type": "scattergl",
         "x": [
          21.85188102722168,
          -9.54725170135498,
          -9.686113357543945,
          -4.401978015899658,
          37.68269729614258,
          5.1962504386901855,
          25.179336547851562,
          21.543123245239258,
          35.917823791503906,
          11.67048168182373,
          33.01220703125,
          18.05718994140625,
          19.877172470092773
         ],
         "xaxis": "x",
         "y": [
          -1.8327913284301758,
          30.90937042236328,
          22.353849411010742,
          -12.563257217407227,
          -4.947059631347656,
          -31.711851119995117,
          -30.420026779174805,
          -3.407508611679077,
          -4.7977986335754395,
          -14.321712493896484,
          8.665853500366211,
          -4.188491344451904,
          -2.880671262741089
         ],
         "yaxis": "y"
        },
        {
         "customdata": [
          [
           "Missing You"
          ],
          [
           "Big Love"
          ],
          [
           "Just Can't Get Enough"
          ],
          [
           "Don't Phunk With My Heart"
          ],
          [
           "Girl Like Me (With Shakira)"
          ],
          [
           "Feel The Beat (With Maluma)"
          ],
          [
           "Let's Get It Started"
          ],
          [
           "eXplosion (With Anitta)"
          ],
          [
           "I Gotta Feeling"
          ],
          [
           "Where Is The Love?"
          ],
          [
           "RITMO (Bad Boys For Life) (With J Balvin)"
          ],
          [
           "MAMACITA (With Ozuna & J. Rey Soul)"
          ],
          [
           "Vida Loca (With Nicky Jam and Tyga)"
          ],
          [
           "ACTION"
          ],
          [
           "Don't Lie"
          ],
          [
           "Pump It"
          ],
          [
           "Mas Que Nada"
          ],
          [
           "Boom Boom Pow"
          ],
          [
           "Meet Me Halfway"
          ],
          [
           "Shut Up"
          ],
          [
           "The Time (Dirty Bit)"
          ],
          [
           "On My Own"
          ],
          [
           "My Humps"
          ]
         ],
         "hovertemplate": "artista=Black Eyed Peas<br>x=%{x}<br>y=%{y}<br>musica=%{customdata[0]}<extra></extra>",
         "legendgroup": "Black Eyed Peas",
         "marker": {
          "color": "#636efa",
          "opacity": 0.5,
          "symbol": "circle"
         },
         "mode": "markers",
         "name": "Black Eyed Peas",
         "showlegend": true,
         "type": "scattergl",
         "x": [
          -29.20353126525879,
          1.774609088897705,
          -28.471158981323242,
          -32.553043365478516,
          -25.531583786010742,
          6.099315643310547,
          -25.45228385925293,
          -18.099740982055664,
          -15.700446128845215,
          -0.9528579711914062,
          -24.319782257080078,
          -26.28238868713379,
          -33.458003997802734,
          -8.310097694396973,
          -32.74026107788086,
          -23.711084365844727,
          -26.104761123657227,
          -9.670183181762695,
          -11.070033073425293,
          19.890954971313477,
          11.452628135681152,
          -13.35669231414795,
          -32.0545539855957
         ],
         "xaxis": "x",
         "y": [
          -1.3463152647018433,
          -13.575971603393555,
          3.988292694091797,
          7.777339458465576,
          -30.227828979492188,
          -8.31047248840332,
          5.172343730926514,
          -33.046024322509766,
          15.57690143585205,
          -14.079668998718262,
          0.7219268083572388,
          -29.712074279785156,
          -27.016767501831055,
          -40.52589416503906,
          28.72157096862793,
          -10.679767608642578,
          -32.54294967651367,
          -25.03781509399414,
          25.307130813598633,
          -9.68031120300293,
          -5.410276889801025,
          -26.312854766845703,
          3.4832489490509033
         ],
         "yaxis": "y"
        },
        {
         "customdata": [
          [
           "Buffalo Soldier"
          ],
          [
           "Exodus"
          ],
          [
           "I Shot The Sheriff"
          ],
          [
           "Soul Rebel"
          ],
          [
           "Kaya"
          ],
          [
           "Get Up Stand Up"
          ],
          [
           "Coming In From The Cold"
          ],
          [
           "Lively Up Yourself"
          ],
          [
           "Slave Driver"
          ],
          [
           "Iron Lion Zion"
          ],
          [
           "Turn Your Lights Down Low"
          ],
          [
           "Stir It Up"
          ],
          [
           "Concrete Jungle"
          ],
          [
           "Satisfy My Soul"
          ],
          [
           "Three Little Birds"
          ],
          [
           "Is This Love?"
          ],
          [
           "Redemption Song"
          ],
          [
           "No Woman No Cry"
          ],
          [
           "One Love / People Get Ready"
          ],
          [
           "Jammin'"
          ],
          [
           "Natural Mystic"
          ],
          [
           "Waiting In Vain"
          ],
          [
           "Sun Is Shining"
          ],
          [
           "Could You Be Loved"
          ],
          [
           "Positive Vibration"
          ]
         ],
         "hovertemplate": "artista=Bob Marley<br>x=%{x}<br>y=%{y}<br>musica=%{customdata[0]}<extra></extra>",
         "legendgroup": "Bob Marley",
         "marker": {
          "color": "#EF553B",
          "opacity": 0.5,
          "symbol": "circle"
         },
         "mode": "markers",
         "name": "Bob Marley",
         "showlegend": true,
         "type": "scattergl",
         "x": [
          -31.805910110473633,
          -30.20932960510254,
          -17.328012466430664,
          -29.51038932800293,
          -16.190828323364258,
          -27.108896255493164,
          36.7254524230957,
          -16.03643035888672,
          17.473791122436523,
          -20.632305145263672,
          -28.60931968688965,
          -24.322097778320312,
          -28.024517059326172,
          -12.143383979797363,
          -29.643980026245117,
          -26.7940616607666,
          -16.817045211791992,
          33.813621520996094,
          -33.07218933105469,
          -30.06668472290039,
          33.138389587402344,
          -9.108831405639648,
          -10.563852310180664,
          -17.525821685791016,
          -29.254703521728516
         ],
         "xaxis": "x",
         "y": [
          -21.320253372192383,
          -33.207435607910156,
          -1.5405528545379639,
          -23.51601791381836,
          24.377216339111328,
          6.581132888793945,
          7.136279106140137,
          38.18981170654297,
          40.560176849365234,
          1.9880651235580444,
          7.015447616577148,
          32.35204315185547,
          14.59525203704834,
          38.67454528808594,
          -9.555802345275879,
          26.05406379699707,
          -18.993099212646484,
          -3.4584407806396484,
          19.811574935913086,
          -27.91859245300293,
          -18.893693923950195,
          -11.86877727508545,
          27.163820266723633,
          -22.213438034057617,
          -27.884471893310547
         ],
         "yaxis": "y"
        },
        {
         "customdata": [
          [
           "Story Of Love"
          ],
          [
           "Livin' On A Prayer"
          ],
          [
           "Beautiful Drug"
          ],
          [
           "Blood In The Water"
          ],
          [
           "Bed Of Roses"
          ],
          [
           "I'll Be There For You"
          ],
          [
           "Misunderstood"
          ],
          [
           "Do What You Can"
          ],
          [
           "Let It Rain"
          ],
          [
           "You Give Love A Bad Name"
          ],
          [
           "Limitless"
          ],
          [
           "Lower The Flag"
          ],
          [
           "Always"
          ],
          [
           "Brothers In Arms"
          ],
          [
           "Thank You For Loving Me"
          ],
          [
           "American Reckoning"
          ],
          [
           "These Days"
          ],
          [
           "Have a Nice Day"
          ],
          [
           "Wanted Dead Or Alive"
          ],
          [
           "This Ain't A Love Song"
          ],
          [
           "Never Say Goodbye"
          ],
          [
           "Miracle"
          ],
          [
           "Do What You Can (With Jennifer Nettles)"
          ],
          [
           "Blaze Of Glory"
          ],
          [
           "It's My Life"
          ]
         ],
         "hovertemplate": "artista=Bon Jovi<br>x=%{x}<br>y=%{y}<br>musica=%{customdata[0]}<extra></extra>",
         "legendgroup": "Bon Jovi",
         "marker": {
          "color": "#00cc96",
          "opacity": 0.5,
          "symbol": "circle"
         },
         "mode": "markers",
         "name": "Bon Jovi",
         "showlegend": true,
         "type": "scattergl",
         "x": [
          -26.524303436279297,
          32.450504302978516,
          15.237822532653809,
          25.035022735595703,
          14.058835983276367,
          -3.283066987991333,
          -3.0429928302764893,
          42.53739929199219,
          -17.641042709350586,
          35.6610107421875,
          21.70797348022461,
          -14.457624435424805,
          5.1235527992248535,
          -19.273704528808594,
          27.5373592376709,
          3.5751748085021973,
          -28.178070068359375,
          -29.830059051513672,
          -18.922264099121094,
          -4.230060577392578,
          16.22730827331543,
          25.60865592956543,
          42.54618453979492,
          21.685871124267578,
          19.779634475708008
         ],
         "xaxis": "x",
         "y": [
          29.349573135375977,
          -41.44403076171875,
          -8.770771026611328,
          -39.44925308227539,
          10.315812110900879,
          54.1834602355957,
          -32.51100540161133,
          3.1484525203704834,
          -33.93659210205078,
          15.46501636505127,
          -27.330333709716797,
          -18.76820182800293,
          38.936676025390625,
          23.428512573242188,
          -34.92522430419922,
          -39.544464111328125,
          27.424503326416016,
          38.1400146484375,
          25.180438995361328,
          36.21443557739258,
          18.68342399597168,
          6.232022285461426,
          3.1585962772369385,
          4.074735641479492,
          -33.61567306518555
         ],
         "yaxis": "y"
        },
        {
         "customdata": [
          [
           "Just The Way You Are"
          ],
          [
           "Locked Out Of Heaven"
          ],
          [
           "Nothin' On You (remix)"
          ],
          [
           "Chunky"
          ],
          [
           "Finesse"
          ],
          [
           "Rest Of My Life"
          ],
          [
           "Gorilla"
          ],
          [
           "Too Good To Say Goodbye"
          ],
          [
           "Just The Way You Are (Remix) (Feat. Lupe Fiasco)"
          ],
          [
           "Don't Give Up"
          ],
          [
           "Finesse (Remix) (Feat. Cardi B)"
          ],
          [
           "Nothin' On You"
          ],
          [
           "Talking To The Moon"
          ],
          [
           "Marry You"
          ],
          [
           "Treasure"
          ],
          [
           "Versace On The Floor"
          ],
          [
           "Billionaire"
          ],
          [
           "That's What I Like"
          ],
          [
           "Grenade"
          ],
          [
           "It Will Rain"
          ],
          [
           "24k Magic"
          ],
          [
           "The Lazy Song"
          ],
          [
           "When I Was Your Man"
          ],
          [
           "Uptown Funk!"
          ],
          [
           "Count On Me"
          ]
         ],
         "hovertemplate": "artista=Bruno Mars<br>x=%{x}<br>y=%{y}<br>musica=%{customdata[0]}<extra></extra>",
         "legendgroup": "Bruno Mars",
         "marker": {
          "color": "#ab63fa",
          "opacity": 0.5,
          "symbol": "circle"
         },
         "mode": "markers",
         "name": "Bruno Mars",
         "showlegend": true,
         "type": "scattergl",
         "x": [
          25.870807647705078,
          9.240934371948242,
          -22.203533172607422,
          2.8822875022888184,
          -3.6248884201049805,
          -4.081442356109619,
          -25.712955474853516,
          -9.059401512145996,
          25.783533096313477,
          38.13763427734375,
          -3.6278252601623535,
          -22.1346492767334,
          22.97803497314453,
          -8.235053062438965,
          -7.779153347015381,
          31.797317504882812,
          -5.864819049835205,
          -5.17172384262085,
          -11.893545150756836,
          -17.963001251220703,
          -17.429367065429688,
          -22.45924186706543,
          25.706579208374023,
          -18.859825134277344,
          -14.514230728149414
         ],
         "xaxis": "x",
         "y": [
          -27.38336944580078,
          -17.54100799560547,
          14.091839790344238,
          2.906764030456543,
          7.803070068359375,
          47.102779388427734,
          17.782649993896484,
          30.04914665222168,
          -27.41073989868164,
          18.56071662902832,
          7.826254844665527,
          13.87235164642334,
          -22.394336700439453,
          -21.8896484375,
          30.237070083618164,
          -41.30369186401367,
          45.61669921875,
          -23.304019927978516,
          18.193504333496094,
          -5.434329509735107,
          -22.749711990356445,
          -2.7418923377990723,
          -14.608610153198242,
          -17.44557762145996,
          -21.989736557006836
         ],
         "yaxis": "y"
        },
        {
         "customdata": [
          [
           "Interlude"
          ],
          [
           "A Thousand Years (Part 2) (Feat. Steve Kaze)"
          ],
          [
           "I Believe"
          ],
          [
           "Distance (Feat. Jason Mraz)"
          ],
          [
           "I Don't Wanna Break"
          ],
          [
           "Distance"
          ],
          [
           "Burning Gold"
          ],
          [
           "Tiny Victories"
          ],
          [
           "Trust"
          ],
          [
           "Sea Of Lovers"
          ],
          [
           "Til There Was You"
          ],
          [
           "I Will Follow You Into The Dark"
          ],
          [
           "The Lonely"
          ],
          [
           "Be My Forever (Feat. Ed Sheeran)"
          ],
          [
           "You Mean The Whole Wide World To Me"
          ],
          [
           "The Words"
          ],
          [
           "I Like You"
          ],
          [
           "Arms"
          ],
          [
           "You Are My Sunshine"
          ],
          [
           "Jar Of Hearts"
          ],
          [
           "Human"
          ],
          [
           "A Thousand Years"
          ],
          [
           "Human (Passion Pit Remix)"
          ],
          [
           "Ave Maria"
          ],
          [
           "One Night"
          ]
         ],
         "hovertemplate": "artista=Christina Perri<br>x=%{x}<br>y=%{y}<br>musica=%{customdata[0]}<extra></extra>",
         "legendgroup": "Christina Perri",
         "marker": {
          "color": "#FFA15A",
          "opacity": 0.5,
          "symbol": "circle"
         },
         "mode": "markers",
         "name": "Christina Perri",
         "showlegend": true,
         "type": "scattergl",
         "x": [
          -26.733497619628906,
          46.9047966003418,
          1.071119785308838,
          15.575855255126953,
          19.36065673828125,
          15.576183319091797,
          24.356033325195312,
          -15.605359077453613,
          12.128141403198242,
          18.41896629333496,
          3.5325984954833984,
          -13.719229698181152,
          24.724950790405273,
          28.284687042236328,
          0.23324955999851227,
          1.6576285362243652,
          13.712801933288574,
          -0.18438751995563507,
          -25.26230812072754,
          32.46340560913086,
          35.9973030090332,
          46.90359878540039,
          36.000457763671875,
          -25.470354080200195,
          25.841184616088867
         ],
         "xaxis": "x",
         "y": [
          -62.354183197021484,
          10.36241626739502,
          -19.333175659179688,
          27.349754333496094,
          -18.079708099365234,
          27.34930419921875,
          12.621624946594238,
          25.810823440551758,
          -22.6298770904541,
          -21.611604690551758,
          6.951313018798828,
          4.742239475250244,
          17.273651123046875,
          -6.677956581115723,
          40.98908233642578,
          38.996341705322266,
          14.658136367797852,
          37.94207763671875,
          42.58732223510742,
          5.422732353210449,
          -36.868473052978516,
          10.359679222106934,
          -36.878517150878906,
          -34.994354248046875,
          10.84591007232666
         ],
         "yaxis": "y"
        },
        {
         "customdata": [
          [
           "Speed Of Sound"
          ],
          [
           "Green Eyes"
          ],
          [
           "The Scientist"
          ],
          [
           "Viva La Vida"
          ],
          [
           "Paradise"
          ],
          [
           "Yellow"
          ],
          [
           "Fix You"
          ],
          [
           "God Put A Smile Upon Your Face"
          ],
          [
           "Always In My Head"
          ],
          [
           "Something Just Like This (feat. The Chainsmokers)"
          ],
          [
           "Hymn for the Weekend (Feat. Beyoncé)"
          ],
          [
           "Clocks"
          ],
          [
           "Magic"
          ],
          [
           "A Sky Full Of Stars"
          ],
          [
           "Sunrise"
          ],
          [
           "Charlie Brown"
          ],
          [
           "Every Teardrop Is a Waterfall"
          ],
          [
           "A Head Full Of Dreams"
          ],
          [
           "Trouble"
          ],
          [
           "Orphans"
          ],
          [
           "Everyday Life"
          ],
          [
           "In My Place"
          ],
          [
           "Adventure Of A Lifetime"
          ],
          [
           "Up&Up"
          ]
         ],
         "hovertemplate": "artista=Coldplay<br>x=%{x}<br>y=%{y}<br>musica=%{customdata[0]}<extra></extra>",
         "legendgroup": "Coldplay",
         "marker": {
          "color": "#19d3f3",
          "opacity": 0.5,
          "symbol": "circle"
         },
         "mode": "markers",
         "name": "Coldplay",
         "showlegend": true,
         "type": "scattergl",
         "x": [
          -5.683736801147461,
          1.760247826576233,
          21.87221336364746,
          13.507615089416504,
          -3.727411985397339,
          36.53462219238281,
          42.82252883911133,
          -4.970913887023926,
          16.460636138916016,
          -4.498022079467773,
          -7.998373985290527,
          -0.41131070256233215,
          -8.635947227478027,
          20.32936668395996,
          -26.382631301879883,
          -14.182878494262695,
          6.235522747039795,
          -4.172719478607178,
          -9.696548461914062,
          -5.963348388671875,
          -2.174041986465454,
          -32.00325393676758,
          14.323548316955566,
          -24.80434799194336
         ],
         "xaxis": "x",
         "y": [
          34.185142517089844,
          -38.77369689941406,
          -42.34819412231445,
          7.367551803588867,
          -43.01791000366211,
          -8.394905090332031,
          25.70998764038086,
          17.885652542114258,
          -35.58489990234375,
          -52.01825714111328,
          -41.63544464111328,
          -29.01494026184082,
          -23.511472702026367,
          -21.877180099487305,
          -62.3477783203125,
          -32.22831344604492,
          -45.88637161254883,
          -25.160755157470703,
          1.8439240455627441,
          -16.713272094726562,
          -35.635887145996094,
          -20.619306564331055,
          -30.25979995727539,
          34.89582061767578
         ],
         "yaxis": "y"
        },
        {
         "customdata": [
          [
           "Confident"
          ],
          [
           "I Love Me"
          ],
          [
           "Sorry Not Sorry"
          ],
          [
           "Stone Cold"
          ],
          [
           "Anyone"
          ],
          [
           "Sober"
          ],
          [
           "Skyscraper"
          ],
          [
           "Give Your Heart A Break"
          ],
          [
           "Heart Attack"
          ],
          [
           "Cool For The Summer"
          ],
          [
           "Gift Of A Friend"
          ],
          [
           "Nightingale"
          ],
          [
           "This Is Me (Gotta Find You) (Feat. Joe Jonas)"
          ],
          [
           "Sorry (Unreleased)"
          ],
          [
           "Warrior"
          ],
          [
           "Father"
          ],
          [
           "Let It Go"
          ],
          [
           "Really Don't Care (Feat. Cher Lloyd)"
          ],
          [
           "Lonely (Feat. Lil Wayne)"
          ],
          [
           "Don't Forget"
          ],
          [
           "Be Okay"
          ],
          [
           "Tell Me You Love Me"
          ],
          [
           "OK Not To Be OK (With Marshmello)"
          ],
          [
           "Still Have Me"
          ]
         ],
         "hovertemplate": "artista=Demi Lovato<br>x=%{x}<br>y=%{y}<br>musica=%{customdata[0]}<extra></extra>",
         "legendgroup": "Demi Lovato",
         "marker": {
          "color": "#FF6692",
          "opacity": 0.5,
          "symbol": "circle"
         },
         "mode": "markers",
         "name": "Demi Lovato",
         "showlegend": true,
         "type": "scattergl",
         "x": [
          -1.7274956703186035,
          -16.42652130126953,
          -14.233248710632324,
          43.610687255859375,
          37.937862396240234,
          -6.432192325592041,
          21.302701950073242,
          35.00502395629883,
          -9.503430366516113,
          31.225196838378906,
          20.241912841796875,
          16.710018157958984,
          9.213305473327637,
          10.874658584594727,
          -6.388011932373047,
          17.109880447387695,
          5.902239799499512,
          -10.796828269958496,
          7.524704933166504,
          14.903605461120605,
          45.90345764160156,
          3.0397865772247314,
          22.694746017456055,
          18.51656723022461
         ],
         "xaxis": "x",
         "y": [
          -13.499613761901855,
          -30.899303436279297,
          -0.431649774312973,
          -11.975048065185547,
          -5.490179538726807,
          -2.561744451522827,
          -32.98680114746094,
          14.577153205871582,
          -0.63453209400177,
          -21.24371910095215,
          -45.939815521240234,
          -28.24927520751953,
          -11.298196792602539,
          -11.485018730163574,
          40.78070831298828,
          32.28236770629883,
          48.475730895996094,
          28.888214111328125,
          -1.1957762241363525,
          -43.85722732543945,
          -17.704410552978516,
          -28.872615814208984,
          4.76791524887085,
          -1.3467274904251099
         ],
         "yaxis": "y"
        },
        {
         "customdata": [
          [
           "Deep Pockets"
          ],
          [
           "Sacrifices (Feat. 2 Chainz, Young Thug)"
          ],
          [
           "Desires (Feat. Future)"
          ],
          [
           "Take Care (Feat. Rihanna)"
          ],
          [
           "Legend"
          ],
          [
           "Nonstop"
          ],
          [
           "Finesse"
          ],
          [
           "Know Yourself"
          ],
          [
           "Chicago Freestyle"
          ],
          [
           "Time Flies"
          ],
          [
           "Don't Matter To Me (Feat. Michael Jackson)"
          ],
          [
           "Ratchet Happy Birthday"
          ],
          [
           "All Me (Feat. 2 Chainz, Big Sean)"
          ],
          [
           "Hotline Bling"
          ],
          [
           "One Dance (Feat. Justin Bieber) (Remix)"
          ],
          [
           "One Dance"
          ],
          [
           "When To Say When / Chicago Freestyle (Video Version)"
          ],
          [
           "Popstar"
          ],
          [
           "Toosie Slide"
          ],
          [
           "God's Plan"
          ],
          [
           "Laugh Now Cry Later (Ft. Lil Durk)"
          ],
          [
           "When to Say When"
          ],
          [
           "War"
          ],
          [
           "Forever (Feat. Kanye West, Lil' Wayne & Eminem)"
          ],
          [
           "In My Feelings"
          ]
         ],
         "hovertemplate": "artista=Drake<br>x=%{x}<br>y=%{y}<br>musica=%{customdata[0]}<extra></extra>",
         "legendgroup": "Drake",
         "marker": {
          "color": "#B6E880",
          "opacity": 0.5,
          "symbol": "circle"
         },
         "mode": "markers",
         "name": "Drake",
         "showlegend": true,
         "type": "scattergl",
         "x": [
          -18.953767776489258,
          -19.652782440185547,
          -1.882574200630188,
          2.2621145248413086,
          -21.29312515258789,
          -38.40768051147461,
          31.792285919189453,
          -39.28852081298828,
          -3.742995023727417,
          -20.6762752532959,
          -5.925883769989014,
          14.763521194458008,
          -7.958427429199219,
          -7.228841304779053,
          -8.241782188415527,
          -8.25284481048584,
          -6.776031970977783,
          -23.72136688232422,
          -27.445777893066406,
          -19.860549926757812,
          6.420715808868408,
          -11.13873291015625,
          -21.891611099243164,
          -32.81733322143555,
          -13.641141891479492
         ],
         "xaxis": "x",
         "y": [
          4.752417087554932,
          2.583472967147827,
          19.028263092041016,
          27.885292053222656,
          -4.270514965057373,
          27.9278507232666,
          -19.886802673339844,
          -4.269137859344482,
          25.934329986572266,
          12.96287727355957,
          27.101497650146484,
          -30.998743057250977,
          -5.4012041091918945,
          27.027809143066406,
          -13.180699348449707,
          -13.296960830688477,
          27.095130920410156,
          20.049468994140625,
          5.220078468322754,
          -14.746984481811523,
          10.387787818908691,
          27.337677001953125,
          3.486325263977051,
          13.979409217834473,
          15.390188217163086
         ],
         "yaxis": "y"
        },
        {
         "customdata": [
          [
           "Levitating (feat. DaBaby)"
          ],
          [
           "No Lie"
          ],
          [
           "Be The One"
          ],
          [
           "Love Again"
          ],
          [
           "Future Nostalgia"
          ],
          [
           "Pretty Please"
          ],
          [
           "Kiss and Make Up (With BLACKPINK)"
          ],
          [
           "Cool"
          ],
          [
           "Un Día (One Day) (With J Balvin, Bad Bunny, Tainy)"
          ],
          [
           "One Kiss"
          ],
          [
           "Boys Will Be Boys"
          ],
          [
           "That Kind of Woman"
          ],
          [
           "If It Ain't Me (Feat. Normani)"
          ],
          [
           "Hotter Than Hell"
          ],
          [
           "Electricity (With Silk City)"
          ],
          [
           "Genesis"
          ],
          [
           "Blow Your Mind (Mwah)"
          ],
          [
           "Hallucinate"
          ],
          [
           "Levitating (Feat. Madonna and Missy Elliott) (The Blessed Madonna Remix)"
          ],
          [
           "Physical"
          ],
          [
           "New Rules"
          ],
          [
           "Levitating"
          ],
          [
           "Break My Heart"
          ],
          [
           "Don't Start Now"
          ],
          [
           "IDGAF"
          ]
         ],
         "hovertemplate": "artista=Dua Lipa<br>x=%{x}<br>y=%{y}<br>musica=%{customdata[0]}<extra></extra>",
         "legendgroup": "Dua Lipa",
         "marker": {
          "color": "#FF97FF",
          "opacity": 0.5,
          "symbol": "circle"
         },
         "mode": "markers",
         "name": "Dua Lipa",
         "showlegend": true,
         "type": "scattergl",
         "x": [
          -20.24962615966797,
          6.152137279510498,
          26.014293670654297,
          -25.51561737060547,
          1.8088748455047607,
          1.856587529182434,
          -7.514472007751465,
          -0.6245192289352417,
          42.97807312011719,
          -6.546432018280029,
          25.884443283081055,
          22.1068115234375,
          -4.730365753173828,
          45.83966827392578,
          10.846049308776855,
          21.141334533691406,
          -9.968704223632812,
          -6.6343674659729,
          -20.232789993286133,
          43.09474182128906,
          -5.635097503662109,
          -20.640111923217773,
          27.07521629333496,
          -23.208698272705078,
          15.717205047607422
         ],
         "xaxis": "x",
         "y": [
          -16.84587860107422,
          -43.775630950927734,
          -9.460504531860352,
          20.07769012451172,
          -23.373886108398438,
          -32.485694885253906,
          -6.843618869781494,
          18.378690719604492,
          15.784594535827637,
          -37.92941665649414,
          -13.910202980041504,
          -25.256324768066406,
          32.09516906738281,
          -6.24517297744751,
          -26.37080192565918,
          18.422191619873047,
          -34.469207763671875,
          25.873605728149414,
          -16.775217056274414,
          -27.959064483642578,
          -3.148146152496338,
          -16.69101905822754,
          38.00933837890625,
          -15.525609970092773,
          4.105052471160889
         ],
         "yaxis": "y"
        },
        {
         "customdata": [
          [
           "Perfect Duet (With Beyoncé)"
          ],
          [
           "Beautiful People (feat. Khalid)"
          ],
          [
           "Friends"
          ],
          [
           "One"
          ],
          [
           "The A Team"
          ],
          [
           "Best Part Of Me (feat. YEBBA)"
          ],
          [
           "Dive"
          ],
          [
           "Don't"
          ],
          [
           "I See Fire"
          ],
          [
           "Galway Girl"
          ],
          [
           "All Of The Stars"
          ],
          [
           "Castle On The Hill"
          ],
          [
           "Happier"
          ],
          [
           "Kiss Me"
          ],
          [
           "Sing"
          ],
          [
           "South Of The Border (Ft. Camila Cabello & Cardi B)"
          ],
          [
           "I Don't Care (With Justin Bieber)"
          ],
          [
           "Give Me Love"
          ],
          [
           "Thinking Out Loud"
          ],
          [
           "Perfect Symphony (With Andrea Bocelli)"
          ],
          [
           "Tenerife Sea"
          ],
          [
           "Eraser"
          ],
          [
           "Photograph"
          ],
          [
           "Shape Of You"
          ],
          [
           "Perfect"
          ]
         ],
         "hovertemplate": "artista=Ed Sheeran<br>x=%{x}<br>y=%{y}<br>musica=%{customdata[0]}<extra></extra>",
         "legendgroup": "Ed Sheeran",
         "marker": {
          "color": "#FECB52",
          "opacity": 0.5,
          "symbol": "circle"
         },
         "mode": "markers",
         "name": "Ed Sheeran",
         "showlegend": true,
         "type": "scattergl",
         "x": [
          28.18964385986328,
          0.16861112415790558,
          -13.009568214416504,
          8.6124267578125,
          14.745582580566406,
          8.432474136352539,
          32.85215377807617,
          6.696649551391602,
          14.973383903503418,
          -38.1615104675293,
          24.256986618041992,
          7.7116498947143555,
          -13.186299324035645,
          3.2361562252044678,
          0.1692834496498108,
          -18.463680267333984,
          -6.2388410568237305,
          16.6507511138916,
          -0.3264983296394348,
          -32.91447830200195,
          -12.73880672454834,
          8.138714790344238,
          10.703595161437988,
          8.380918502807617,
          28.262948989868164
         ],
         "xaxis": "x",
         "y": [
          -0.9936191439628601,
          -19.978790283203125,
          42.368263244628906,
          21.58220863342285,
          -46.72648239135742,
          29.143939971923828,
          9.132386207580566,
          9.533428192138672,
          -35.80588150024414,
          11.720588684082031,
          23.12574005126953,
          11.93899917602539,
          43.01329040527344,
          -13.894327163696289,
          -1.515332579612732,
          14.72937297821045,
          4.792956352233887,
          3.9527690410614014,
          8.07972240447998,
          -26.715808868408203,
          -23.918378829956055,
          10.9579439163208,
          23.977401733398438,
          11.505645751953125,
          -1.1766918897628784
         ],
         "yaxis": "y"
        },
        {
         "customdata": [
          [
           "Empty Garden (hey Hey Johnny)"
          ],
          [
           "Don't Go Breaking My Heart (Feat. Kiki Dee)"
          ],
          [
           "I'm Still Standing"
          ],
          [
           "You Gotta Love Someone"
          ],
          [
           "Blue Eyes"
          ],
          [
           "Candle In The Wind (1997)"
          ],
          [
           "Circle Of Life"
          ],
          [
           "I Want Love"
          ],
          [
           "Saturday Night's Alright For Fighting"
          ],
          [
           "Sad Songs (Say So Much)"
          ],
          [
           "I Think I'm Going To Kill Myself"
          ],
          [
           "Bennie And The Jets"
          ],
          [
           "I Guess That's Why They Call It The Blues"
          ],
          [
           "Sacrifice"
          ],
          [
           "Daniel"
          ],
          [
           "Tiny Dancer"
          ],
          [
           "Candle In The Wind"
          ],
          [
           "Don't Let The Sun Go Down On Me"
          ],
          [
           "Nikita"
          ],
          [
           "Goodbye Yellow Brick Road"
          ],
          [
           "Can You Feel The Love Tonight?"
          ],
          [
           "Skyline Pigeon"
          ],
          [
           "Rocket Man"
          ],
          [
           "Your Song"
          ],
          [
           "The One"
          ]
         ],
         "hovertemplate": "artista=Elton John<br>x=%{x}<br>y=%{y}<br>musica=%{customdata[0]}<extra></extra>",
         "legendgroup": "Elton John",
         "marker": {
          "color": "#636efa",
          "opacity": 0.5,
          "symbol": "circle"
         },
         "mode": "markers",
         "name": "Elton John",
         "showlegend": true,
         "type": "scattergl",
         "x": [
          35.21206283569336,
          35.13306427001953,
          33.29182815551758,
          24.107646942138672,
          13.091208457946777,
          11.185385704040527,
          25.103864669799805,
          -25.46208953857422,
          -39.93452453613281,
          18.238262176513672,
          31.9116153717041,
          -26.715120315551758,
          3.342559576034546,
          14.894819259643555,
          -20.84257698059082,
          27.45334243774414,
          10.927645683288574,
          -29.165122985839844,
          12.132494926452637,
          -40.991493225097656,
          -0.5210691690444946,
          28.257465362548828,
          1.446613073348999,
          32.514915466308594,
          27.01866340637207
         ],
         "xaxis": "x",
         "y": [
          -11.137173652648926,
          -18.347156524658203,
          20.985042572021484,
          -18.309738159179688,
          -41.597755432128906,
          -2.57690691947937,
          17.134685516357422,
          41.20732879638672,
          13.542037963867188,
          18.842756271362305,
          -16.222047805786133,
          -9.662970542907715,
          36.62703323364258,
          -48.608673095703125,
          26.01532745361328,
          -13.806907653808594,
          -2.427067279815674,
          11.752167701721191,
          21.271150588989258,
          -0.13878172636032104,
          -14.666499137878418,
          -23.207157135009766,
          -6.454261779785156,
          21.172901153564453,
          4.534082412719727
         ],
         "yaxis": "y"
        },
        {
         "customdata": [
          [
           "Amazing Grace"
          ],
          [
           "Kiss Me Quick"
          ],
          [
           "Burning Love"
          ],
          [
           "Jailhouse Rock"
          ],
          [
           "And I Love You So"
          ],
          [
           "It's Now Or Never"
          ],
          [
           "Can't Help Falling In Love"
          ],
          [
           "Stand by Me"
          ],
          [
           "Bridge Over Troubled Water"
          ],
          [
           "My Way"
          ],
          [
           "Suspicious Minds"
          ],
          [
           "Always On My Mind"
          ],
          [
           "Unchained Melody"
          ],
          [
           "If I Can Dream"
          ],
          [
           "Love Me Tender"
          ],
          [
           "Blue Suede Shoes"
          ],
          [
           "I Can't Stop Loving You"
          ],
          [
           "You'll Never Walk Alone"
          ],
          [
           "You've Lost That Lovin' Feelin'"
          ],
          [
           "Don't Be Cruel"
          ],
          [
           "So High"
          ],
          [
           "The Wonder Of You"
          ],
          [
           "How Great Thou Art"
          ],
          [
           "I've Got Confidence"
          ],
          [
           "Sweet Caroline"
          ]
         ],
         "hovertemplate": "artista=Elvis Presley<br>x=%{x}<br>y=%{y}<br>musica=%{customdata[0]}<extra></extra>",
         "legendgroup": "Elvis Presley",
         "marker": {
          "color": "#EF553B",
          "opacity": 0.5,
          "symbol": "circle"
         },
         "mode": "markers",
         "name": "Elvis Presley",
         "showlegend": true,
         "type": "scattergl",
         "x": [
          16.803239822387695,
          -18.70646858215332,
          15.893905639648438,
          -24.885223388671875,
          19.309642791748047,
          8.022582054138184,
          -25.229740142822266,
          8.359819412231445,
          14.227871894836426,
          14.113557815551758,
          13.868490219116211,
          -25.64543914794922,
          34.43354797363281,
          21.62071418762207,
          -34.35359191894531,
          -34.35917663574219,
          28.275590896606445,
          -27.87945556640625,
          -11.562241554260254,
          -31.770221710205078,
          -29.226930618286133,
          18.34564781188965,
          -23.857057571411133,
          16.760793685913086,
          19.623939514160156
         ],
         "xaxis": "x",
         "y": [
          34.36013412475586,
          40.62434768676758,
          -33.40220260620117,
          -0.8972893357276917,
          -14.414191246032715,
          -3.4504988193511963,
          17.223020553588867,
          -1.6513926982879639,
          9.854853630065918,
          43.32626724243164,
          -24.91387367248535,
          -3.5428223609924316,
          -24.966323852539062,
          44.001468658447266,
          -26.220237731933594,
          -11.356039047241211,
          -2.637880325317383,
          -8.55939769744873,
          -5.194672584533691,
          -1.5629079341888428,
          8.658334732055664,
          25.972043991088867,
          26.68252182006836,
          23.441181182861328,
          -10.696362495422363
         ],
         "yaxis": "y"
        },
        {
         "customdata": [
          [
           "Venom"
          ],
          [
           "When I'm Gone"
          ],
          [
           "Till I Collapse (feat. Nate Dogg)"
          ],
          [
           "Mockingbird"
          ],
          [
           "Offended"
          ],
          [
           "Not Afraid"
          ],
          [
           "Without Me"
          ],
          [
           "Godzilla (Feat. Juice WRLD)"
          ],
          [
           "Stan (feat. Dido)"
          ],
          [
           "Lose Yourself"
          ],
          [
           "Love The Way You Lie (feat. Rihanna)"
          ],
          [
           "The Real Slim Shady"
          ],
          [
           "My Name Is"
          ],
          [
           "Superman (feat. Dina Rae)"
          ],
          [
           "The Monster (Feat. Rihanna)"
          ],
          [
           "Cleanin' Out My Closet"
          ],
          [
           "Space Bound"
          ],
          [
           "Sing For The Moment"
          ],
          [
           "Lucky You (Feat. Joyner Lucas)"
          ],
          [
           "8 Mile Tree Last Battle"
          ],
          [
           "My Darling"
          ],
          [
           "Premonition (Intro)"
          ],
          [
           "The Way I Am"
          ],
          [
           "Beautiful"
          ],
          [
           "Rap God"
          ]
         ],
         "hovertemplate": "artista=Eminem<br>x=%{x}<br>y=%{y}<br>musica=%{customdata[0]}<extra></extra>",
         "legendgroup": "Eminem",
         "marker": {
          "color": "#00cc96",
          "opacity": 0.5,
          "symbol": "circle"
         },
         "mode": "markers",
         "name": "Eminem",
         "showlegend": true,
         "type": "scattergl",
         "x": [
          -11.531333923339844,
          -19.938081741333008,
          -32.98174285888672,
          -9.680377960205078,
          -17.120986938476562,
          -15.10490894317627,
          -32.8946533203125,
          -11.514769554138184,
          -28.230037689208984,
          1.3797495365142822,
          3.0803003311157227,
          -14.222426414489746,
          -25.402389526367188,
          -31.494873046875,
          9.835381507873535,
          -29.61226463317871,
          -2.814868688583374,
          -24.73285675048828,
          -21.00764274597168,
          -28.366519927978516,
          -31.373205184936523,
          -7.392083644866943,
          -26.92471694946289,
          8.207320213317871,
          -8.048428535461426
         ],
         "xaxis": "x",
         "y": [
          1.810124158859253,
          8.461557388305664,
          14.369940757751465,
          22.95420265197754,
          25.22626495361328,
          23.671449661254883,
          4.135621547698975,
          0.9119482636451721,
          19.606216430664062,
          12.002673149108887,
          -29.90182113647461,
          20.466583251953125,
          -13.51448917388916,
          -2.910616636276245,
          -10.98035717010498,
          25.747509002685547,
          15.03492259979248,
          26.525726318359375,
          22.60439682006836,
          5.834871768951416,
          20.820032119750977,
          20.608381271362305,
          24.7589168548584,
          17.60946273803711,
          1.6127744913101196
         ],
         "yaxis": "y"
        },
        {
         "customdata": [
          [
           "It's A Free World, Baby"
          ],
          [
           "Angel Of The Morning"
          ],
          [
           "Copacabana"
          ],
          [
           "Every Word Means No"
          ],
          [
           "I'd Love You To Want Me"
          ],
          [
           "Endless Love (Duet With Chandler)"
          ],
          [
           "Holiday Song"
          ],
          [
           "Trouble With Boys"
          ],
          [
           "Baby Got Back"
          ],
          [
           "Emma"
          ],
          [
           "Friends 'til The End"
          ],
          [
           "I'll Be There For You"
          ],
          [
           "I'm In The Shower"
          ]
         ],
         "hovertemplate": "artista=Friends<br>x=%{x}<br>y=%{y}<br>musica=%{customdata[0]}<extra></extra>",
         "legendgroup": "Friends",
         "marker": {
          "color": "#ab63fa",
          "opacity": 0.5,
          "symbol": "circle"
         },
         "mode": "markers",
         "name": "Friends",
         "showlegend": true,
         "type": "scattergl",
         "x": [
          9.591508865356445,
          -30.978605270385742,
          -24.85810089111328,
          -28.725873947143555,
          10.901860237121582,
          -25.47182273864746,
          -24.764493942260742,
          2.8458545207977295,
          -12.445499420166016,
          -36.79495620727539,
          -3.0976858139038086,
          -2.99942946434021,
          12.913867950439453
         ],
         "xaxis": "x",
         "y": [
          -16.742448806762695,
          16.8562068939209,
          -7.146975517272949,
          14.465242385864258,
          31.178958892822266,
          -34.401588439941406,
          27.498594284057617,
          -0.9819628000259399,
          0.8387507796287537,
          -14.756879806518555,
          54.44474411010742,
          54.57419204711914,
          -50.7086296081543
         ],
         "yaxis": "y"
        },
        {
         "customdata": [
          [
           "Aquele Abraço"
          ]
         ],
         "hovertemplate": "artista=Gilberto Gil<br>x=%{x}<br>y=%{y}<br>musica=%{customdata[0]}<extra></extra>",
         "legendgroup": "Gilberto Gil",
         "marker": {
          "color": "#FFA15A",
          "opacity": 0.5,
          "symbol": "circle"
         },
         "mode": "markers",
         "name": "Gilberto Gil",
         "showlegend": true,
         "type": "scattergl",
         "x": [
          -30.85898208618164
         ],
         "xaxis": "x",
         "y": [
          -28.17700958251953
         ],
         "yaxis": "y"
        },
        {
         "customdata": [
          [
           "Out Ta Get Me"
          ],
          [
           "Live And Let Die"
          ],
          [
           "Sweet Child O' Mine"
          ],
          [
           "November Rain"
          ],
          [
           "Don't Cry"
          ],
          [
           "Patience"
          ],
          [
           "Knockin' On Heaven's Door"
          ],
          [
           "Welcome To The Jungle"
          ],
          [
           "Paradise City"
          ],
          [
           "Estranged"
          ],
          [
           "Civil War"
          ],
          [
           "Yesterdays"
          ],
          [
           "Nightrain"
          ],
          [
           "Mr. Brownstone"
          ],
          [
           "Since I Don't Have You"
          ],
          [
           "November Rain (Piano Version/1986 Sound City Session)"
          ],
          [
           "Rocket Queen"
          ],
          [
           "So Fine"
          ],
          [
           "Better"
          ],
          [
           "This I Love"
          ],
          [
           "Sympathy For The Devil"
          ],
          [
           "Chinese Democracy"
          ],
          [
           "It's So Easy"
          ],
          [
           "Used To Love Her"
          ],
          [
           "You Could Be Mine"
          ]
         ],
         "hovertemplate": "artista=Guns N' Roses<br>x=%{x}<br>y=%{y}<br>musica=%{customdata[0]}<extra></extra>",
         "legendgroup": "Guns N' Roses",
         "marker": {
          "color": "#19d3f3",
          "opacity": 0.5,
          "symbol": "circle"
         },
         "mode": "markers",
         "name": "Guns N' Roses",
         "showlegend": true,
         "type": "scattergl",
         "x": [
          26.80986213684082,
          16.34259796142578,
          25.746112823486328,
          6.871473789215088,
          31.87619400024414,
          17.1282901763916,
          -10.443558692932129,
          19.88799476623535,
          11.462231636047363,
          15.23101806640625,
          -13.822290420532227,
          5.937583923339844,
          27.149450302124023,
          29.704235076904297,
          -28.73844337463379,
          6.952770233154297,
          23.263704299926758,
          23.692825317382812,
          -28.176088333129883,
          29.523632049560547,
          8.484821319580078,
          17.434925079345703,
          19.72959327697754,
          -13.891717910766602,
          -34.351165771484375
         ],
         "xaxis": "x",
         "y": [
          -34.64167785644531,
          31.0837345123291,
          -21.08898162841797,
          22.406818389892578,
          -28.492319107055664,
          8.288721084594727,
          -8.394827842712402,
          -31.892026901245117,
          50.5349235534668,
          17.565961837768555,
          5.98561954498291,
          -11.494501113891602,
          -40.92643356323242,
          -17.71030616760254,
          -28.35125732421875,
          22.51594352722168,
          -32.428199768066406,
          14.383946418762207,
          17.261789321899414,
          -28.292755126953125,
          -32.97449493408203,
          18.223440170288086,
          -28.65187644958496,
          -18.92117691040039,
          13.534228324890137
         ],
         "yaxis": "y"
        },
        {
         "customdata": [
          [
           "Cherry"
          ],
          [
           "Sunflower, Vol. 6"
          ],
          [
           "Watermelon Sugar"
          ],
          [
           "Adore You"
          ],
          [
           "Lights Up"
          ],
          [
           "Golden"
          ],
          [
           "Falling"
          ],
          [
           "Medicine"
          ],
          [
           "Sign Of The Times"
          ]
         ],
         "hovertemplate": "artista=Harry Styles<br>x=%{x}<br>y=%{y}<br>musica=%{customdata[0]}<extra></extra>",
         "legendgroup": "Harry Styles",
         "marker": {
          "color": "#FF6692",
          "opacity": 0.5,
          "symbol": "circle"
         },
         "mode": "markers",
         "name": "Harry Styles",
         "showlegend": true,
         "type": "scattergl",
         "x": [
          4.5516276359558105,
          -11.84217357635498,
          15.859418869018555,
          22.485023498535156,
          23.050020217895508,
          29.89674186706543,
          -34.453311920166016,
          -27.447181701660156,
          15.351873397827148
         ],
         "xaxis": "x",
         "y": [
          -2.361083507537842,
          -27.291088104248047,
          -47.9454345703125,
          26.32078742980957,
          -11.933725357055664,
          30.425058364868164,
          -17.00592613220215,
          20.20550537109375,
          2.6292502880096436
         ],
         "yaxis": "y"
        },
        {
         "customdata": [
          [
           "Hino das Ilhas Fiji"
          ],
          [
           "Hino dos Estados Unidos"
          ]
         ],
         "hovertemplate": "artista=Hinos<br>x=%{x}<br>y=%{y}<br>musica=%{customdata[0]}<extra></extra>",
         "legendgroup": "Hinos",
         "marker": {
          "color": "#B6E880",
          "opacity": 0.5,
          "symbol": "circle"
         },
         "mode": "markers",
         "name": "Hinos",
         "showlegend": true,
         "type": "scattergl",
         "x": [
          -26.24692726135254,
          -26.096647262573242
         ],
         "xaxis": "x",
         "y": [
          -32.769962310791016,
          24.662899017333984
         ],
         "yaxis": "y"
        },
        {
         "customdata": [
          [
           "Warriors"
          ],
          [
           "Sucker For Pain (Feat. Lil Wayne, Wiz Khalifa, Ty Dolla $ign, Logic & X Ambassadors)"
          ],
          [
           "Walking The Wire"
          ],
          [
           "Rise Up"
          ],
          [
           "Believer (Remix) (Ft. Lil Wayne)"
          ],
          [
           "I'm So Sorry"
          ],
          [
           "West Coast"
          ],
          [
           "Born To Be Yours (With Kygo)"
          ],
          [
           "Boomerang"
          ],
          [
           "I Don't Know Why"
          ],
          [
           "Dream"
          ],
          [
           "Not Today"
          ],
          [
           "Love"
          ],
          [
           "On Top Of The World"
          ],
          [
           "Believer"
          ],
          [
           "Demons"
          ],
          [
           "Thunder"
          ],
          [
           "Bad Liar"
          ],
          [
           "Radioactive"
          ],
          [
           "Whatever It Takes"
          ],
          [
           "Radioactive (Feat. Kendrick Lamar)"
          ],
          [
           "Birds"
          ],
          [
           "It's Time"
          ],
          [
           "Next To Me"
          ],
          [
           "Natural"
          ]
         ],
         "hovertemplate": "artista=Imagine Dragons<br>x=%{x}<br>y=%{y}<br>musica=%{customdata[0]}<extra></extra>",
         "legendgroup": "Imagine Dragons",
         "marker": {
          "color": "#FF97FF",
          "opacity": 0.5,
          "symbol": "circle"
         },
         "mode": "markers",
         "name": "Imagine Dragons",
         "showlegend": true,
         "type": "scattergl",
         "x": [
          1.1032644510269165,
          -2.3353402614593506,
          -3.4556846618652344,
          -34.11946105957031,
          -9.628186225891113,
          2.757840871810913,
          -34.13009262084961,
          -29.739822387695312,
          -15.01089859008789,
          -1.6982284784317017,
          23.862911224365234,
          4.1350274085998535,
          7.518857479095459,
          -40.250694274902344,
          -9.58003044128418,
          28.829145431518555,
          8.002574920654297,
          -9.73398208618164,
          -11.501338005065918,
          32.53369903564453,
          -11.412495613098145,
          18.422216415405273,
          -6.221574306488037,
          19.475143432617188,
          29.392271041870117
         ],
         "xaxis": "x",
         "y": [
          35.89008712768555,
          13.551881790161133,
          -23.166349411010742,
          38.401145935058594,
          -35.556373596191406,
          -6.944566249847412,
          24.436426162719727,
          34.05091857910156,
          -28.341970443725586,
          -28.44371795654297,
          -28.78741455078125,
          -26.6299991607666,
          -22.81351089477539,
          23.254804611206055,
          -35.900535583496094,
          -16.013469696044922,
          -50.513038635253906,
          -2.4201812744140625,
          4.44996976852417,
          -7.759045124053955,
          4.469371318817139,
          -12.048810958862305,
          1.8597400188446045,
          21.657808303833008,
          -23.850404739379883
         ],
         "yaxis": "y"
        },
        {
         "customdata": [
          [
           "Starting All Over Again"
          ],
          [
           "Maui Hawaiian Sup'pa Man"
          ],
          [
           "Tengoku Kara Kaminari (thunder From Heaven)"
          ],
          [
           "Ahi Wela"
          ],
          [
           "Kamalani"
          ],
          [
           "What a Wonderful World"
          ],
          [
           "E Ala E"
          ],
          [
           "Hawaiian Like Me"
          ],
          [
           "Hawaii 78"
          ],
          [
           "In This Life"
          ],
          [
           "Margarita"
          ],
          [
           "Somewhere Over The Rainbow"
          ],
          [
           "Sea Of Love"
          ]
         ],
         "hovertemplate": "artista=Israel Kamakawiwo'ole<br>x=%{x}<br>y=%{y}<br>musica=%{customdata[0]}<extra></extra>",
         "legendgroup": "Israel Kamakawiwo'ole",
         "marker": {
          "color": "#FECB52",
          "opacity": 0.5,
          "symbol": "circle"
         },
         "mode": "markers",
         "name": "Israel Kamakawiwo'ole",
         "showlegend": true,
         "type": "scattergl",
         "x": [
          5.586589336395264,
          -23.54523277282715,
          -19.601680755615234,
          -30.89720344543457,
          -25.76963996887207,
          12.609044075012207,
          -23.848342895507812,
          -21.62088394165039,
          -35.95378112792969,
          10.347625732421875,
          -31.73754119873047,
          -17.566911697387695,
          -0.6491079330444336
         ],
         "xaxis": "x",
         "y": [
          37.37912368774414,
          24.509033203125,
          -26.373947143554688,
          -23.70076560974121,
          -16.591909408569336,
          -32.978519439697266,
          -13.177783012390137,
          19.51578140258789,
          32.04483413696289,
          37.695125579833984,
          20.422483444213867,
          -34.6197395324707,
          -9.109824180603027
         ],
         "yaxis": "y"
        },
        {
         "customdata": [
          [
           "It's Killing Me"
          ],
          [
           "Quite Miss Home"
          ],
          [
           "Can't Take My Eyes Off You"
          ],
          [
           "Car's Outside"
          ],
          [
           "Back From The Edge"
          ],
          [
           "If You Let Me"
          ],
          [
           "Empty Space"
          ],
          [
           "Fall"
          ],
          [
           "Say You Won't Let Go"
          ],
          [
           "Naked"
          ],
          [
           "Impossible"
          ],
          [
           "Falling Like The Stars"
          ],
          [
           "Train Wreck"
          ],
          [
           "Can I Be Him"
          ],
          [
           "Always"
          ],
          [
           "Rewrite The Stars (with Anne-Marie)"
          ],
          [
           "At My Weakest"
          ],
          [
           "Is This Love"
          ],
          [
           "I Am"
          ],
          [
           "Safe Inside"
          ],
          [
           "Finally"
          ],
          [
           "Maybe"
          ],
          [
           "Certain Things (feat. Chasing Grace)"
          ],
          [
           "You're Nobody 'Til Somebody Loves You"
          ],
          [
           "You (Feat. Travis Barker)"
          ]
         ],
         "hovertemplate": "artista=James Arthur<br>x=%{x}<br>y=%{y}<br>musica=%{customdata[0]}<extra></extra>",
         "legendgroup": "James Arthur",
         "marker": {
          "color": "#636efa",
          "opacity": 0.5,
          "symbol": "circle"
         },
         "mode": "markers",
         "name": "James Arthur",
         "showlegend": true,
         "type": "scattergl",
         "x": [
          20.557796478271484,
          6.073489665985107,
          14.654330253601074,
          -10.071529388427734,
          33.618980407714844,
          -1.2125674486160278,
          -4.765560626983643,
          -16.1028995513916,
          35.020687103271484,
          4.385801315307617,
          1.7265406847000122,
          -4.371963024139404,
          21.861194610595703,
          35.84270095825195,
          -8.101134300231934,
          10.089284896850586,
          -3.213143825531006,
          -17.43427276611328,
          12.262075424194336,
          -2.9204156398773193,
          19.38340187072754,
          7.373605728149414,
          29.715965270996094,
          13.29269027709961,
          -28.932151794433594
         ],
         "xaxis": "x",
         "y": [
          -29.956518173217773,
          13.911222457885742,
          4.128189563751221,
          -7.950636863708496,
          -20.94417381286621,
          28.326656341552734,
          0.7808600664138794,
          3.48000431060791,
          4.371724605560303,
          3.28629732131958,
          -46.143577575683594,
          -9.861686706542969,
          -39.386226654052734,
          -3.342186689376831,
          -40.04566192626953,
          26.630760192871094,
          14.469123840332031,
          9.32275390625,
          -38.03750228881836,
          27.183900833129883,
          0.902164876461029,
          29.057886123657227,
          -27.756324768066406,
          18.980764389038086,
          33.883575439453125
         ],
         "yaxis": "y"
        },
        {
         "customdata": [
          [
           "I Won't Give Up"
          ],
          [
           "93 Million Miles"
          ],
          [
           "Lucky (feat Ximena Sariñana)"
          ],
          [
           "Hearing Double"
          ],
          [
           "The World As I See It"
          ],
          [
           "Love Is Still The Answer"
          ],
          [
           "You Can Rely On Me"
          ],
          [
           "5/6"
          ],
          [
           "Love Love Love"
          ],
          [
           "A Beautiful Mess"
          ],
          [
           "I'm Yours (Versão Videoclipe)"
          ],
          [
           "Coffee Cup Song"
          ],
          [
           "You do You (Feat. Tiffany Haddish)"
          ],
          [
           "Better With You"
          ],
          [
           "Wise Woman"
          ],
          [
           "Make Love"
          ],
          [
           "Butterfly"
          ],
          [
           "Let's See What The Night Can Do"
          ],
          [
           "Have It All"
          ],
          [
           "Song For A Friend"
          ],
          [
           "Love Someone"
          ],
          [
           "Look For The Good"
          ],
          [
           "Gratitude"
          ],
          [
           "I'm Yours"
          ],
          [
           "Lucky (feat. Colbie Caillat)"
          ]
         ],
         "hovertemplate": "artista=Jason Mraz<br>x=%{x}<br>y=%{y}<br>musica=%{customdata[0]}<extra></extra>",
         "legendgroup": "Jason Mraz",
         "marker": {
          "color": "#EF553B",
          "opacity": 0.5,
          "symbol": "circle"
         },
         "mode": "markers",
         "name": "Jason Mraz",
         "showlegend": true,
         "type": "scattergl",
         "x": [
          22.607681274414062,
          22.783967971801758,
          -28.2994384765625,
          -22.416828155517578,
          9.149147987365723,
          1.3087475299835205,
          -8.194145202636719,
          27.37168312072754,
          -9.564397811889648,
          -10.676371574401855,
          -13.780887603759766,
          2.902238607406616,
          -11.772848129272461,
          4.745696067810059,
          12.008894920349121,
          2.675987482070923,
          -30.692779541015625,
          17.31512451171875,
          -14.13528823852539,
          1.89659583568573,
          24.161043167114258,
          5.754806041717529,
          -10.466023445129395,
          -13.780557632446289,
          -37.370906829833984
         ],
         "xaxis": "x",
         "y": [
          29.24439239501953,
          -10.916487693786621,
          -31.14510726928711,
          37.994449615478516,
          27.482467651367188,
          -15.428812026977539,
          27.176149368286133,
          8.320852279663086,
          3.279467821121216,
          7.392184734344482,
          9.796985626220703,
          -2.3855175971984863,
          21.37822914123535,
          30.7908878326416,
          -8.794209480285645,
          -10.566500663757324,
          19.333707809448242,
          2.40437388420105,
          31.070167541503906,
          -11.812150955200195,
          -18.192947387695312,
          41.94169998168945,
          -19.496326446533203,
          9.696333885192871,
          6.520201206207275
         ],
         "yaxis": "y"
        },
        {
         "customdata": [
          [
           "Conversations In The Dark"
          ],
          [
           "If You're Out There"
          ],
          [
           "Favorite Place"
          ],
          [
           "I Do"
          ],
          [
           "Tonight (Best You Ever Had) (feat. Ludacris)"
          ],
          [
           "Save Room"
          ],
          [
           "Aim High"
          ],
          [
           "Beauty and The Beast"
          ],
          [
           "I Love, You Love"
          ],
          [
           "Actions"
          ],
          [
           "All Of Me"
          ],
          [
           "It Don't Have To Change"
          ],
          [
           "Ooh Laa"
          ],
          [
           "Always"
          ],
          [
           "P.D.A. (We Just Don't Care)"
          ],
          [
           "A Million"
          ],
          [
           "Never Break"
          ],
          [
           "Ordinary People"
          ],
          [
           "A Good Night (Feat. BloodPop®)"
          ],
          [
           "U Move, I Move (Feat. Jhené Aiko)"
          ],
          [
           "Preach"
          ],
          [
           "Our Generation (the Hope Of The World)"
          ],
          [
           "Wild (Ft. Gary Clark Jr.)"
          ],
          [
           "You & I (Nobody in the World)"
          ],
          [
           "Love Me Now"
          ]
         ],
         "hovertemplate": "artista=John Legend<br>x=%{x}<br>y=%{y}<br>musica=%{customdata[0]}<extra></extra>",
         "legendgroup": "John Legend",
         "marker": {
          "color": "#00cc96",
          "opacity": 0.5,
          "symbol": "circle"
         },
         "mode": "markers",
         "name": "John Legend",
         "showlegend": true,
         "type": "scattergl",
         "x": [
          -3.546713352203369,
          -35.10694885253906,
          11.796650886535645,
          -4.517664432525635,
          18.940427780151367,
          -29.85803985595703,
          11.93340015411377,
          28.19721221923828,
          -20.718217849731445,
          2.946601629257202,
          15.366311073303223,
          -28.0528564453125,
          -1.7924226522445679,
          8.768308639526367,
          19.99698829650879,
          33.5479621887207,
          22.48540687561035,
          19.674175262451172,
          -7.765717029571533,
          19.93008804321289,
          -9.846835136413574,
          -24.779598236083984,
          28.76970863342285,
          -5.414795398712158,
          -12.076922416687012
         ],
         "xaxis": "x",
         "y": [
          16.371732711791992,
          -5.59035587310791,
          -16.57691192626953,
          27.204198837280273,
          37.775390625,
          -32.254066467285156,
          0.23784279823303223,
          -45.686195373535156,
          -23.121244430541992,
          19.92188262939453,
          -1.067348837852478,
          -10.197200775146484,
          -51.34590148925781,
          -24.703001022338867,
          -16.269948959350586,
          -0.6489073038101196,
          -34.597774505615234,
          -8.151113510131836,
          25.6673526763916,
          -23.93583106994629,
          -22.26393699645996,
          25.66707992553711,
          -32.71537780761719,
          10.537569046020508,
          15.374236106872559
         ],
         "yaxis": "y"
        },
        {
         "customdata": [
          [
           "Real Love"
          ],
          [
           "Woman"
          ],
          [
           "God"
          ],
          [
           "Imagine"
          ],
          [
           "Intuition"
          ],
          [
           "Working Class Hero"
          ],
          [
           "Watching The Wheels"
          ],
          [
           "Give Peace A Chance"
          ],
          [
           "Gimme Some Truth"
          ],
          [
           "Nobody Loves You (When You're Down And Out)"
          ],
          [
           "Instant Karma"
          ],
          [
           "Isolation"
          ],
          [
           "Whatever Gets You Through The Night"
          ],
          [
           "I Know (I Know)"
          ],
          [
           "Jealous Guy"
          ],
          [
           "Oh My Love"
          ],
          [
           "Stand By Me"
          ],
          [
           "Mother"
          ],
          [
           "(Just Like) Starting Over"
          ],
          [
           "Love"
          ],
          [
           "How do You Sleep?"
          ],
          [
           "Mind Games"
          ],
          [
           "In My Life"
          ],
          [
           "Beautiful Boy (Darling Boy)"
          ]
         ],
         "hovertemplate": "artista=John Lennon<br>x=%{x}<br>y=%{y}<br>musica=%{customdata[0]}<extra></extra>",
         "legendgroup": "John Lennon",
         "marker": {
          "color": "#ab63fa",
          "opacity": 0.5,
          "symbol": "circle"
         },
         "mode": "markers",
         "name": "John Lennon",
         "showlegend": true,
         "type": "scattergl",
         "x": [
          -11.96788215637207,
          7.9895710945129395,
          -5.9920430183410645,
          24.680089950561523,
          15.217510223388672,
          -28.29470443725586,
          10.664606094360352,
          -19.896286010742188,
          -10.174524307250977,
          -21.656644821166992,
          -2.9549028873443604,
          -0.9792622923851013,
          -16.448326110839844,
          21.3958683013916,
          -32.084564208984375,
          -27.499109268188477,
          -1.8392778635025024,
          -13.840867042541504,
          7.830365180969238,
          2.4861061573028564,
          -3.332576274871826,
          -35.29744338989258,
          17.178150177001953,
          6.8821940422058105
         ],
         "xaxis": "x",
         "y": [
          10.357779502868652,
          -36.44523620605469,
          -25.983444213867188,
          -25.419418334960938,
          23.76529884338379,
          34.305259704589844,
          46.68278121948242,
          -31.85352897644043,
          -6.470395565032959,
          32.792972564697266,
          9.519840240478516,
          -31.879724502563477,
          18.15431022644043,
          43.34410858154297,
          -6.8622002601623535,
          -11.216143608093262,
          35.334983825683594,
          -21.7042293548584,
          33.9322395324707,
          -15.450114250183105,
          25.716154098510742,
          25.76158332824707,
          49.05802917480469,
          -49.818565368652344
         ],
         "yaxis": "y"
        },
        {
         "customdata": [
          [
           "Come Back To Bed"
          ],
          [
           "Slow Dancing In A Burning Room"
          ],
          [
           "Free Fallin'"
          ],
          [
           "Your Body Is A Wonderland"
          ],
          [
           "Gravity"
          ],
          [
           "Daughters"
          ],
          [
           "XO"
          ],
          [
           "Half Of My Heart"
          ],
          [
           "Never On The Day You Leave"
          ],
          [
           "3x5"
          ],
          [
           "Who Says"
          ],
          [
           "No Such Thing"
          ],
          [
           "Love Is a Verb"
          ],
          [
           "Waiting On The World To Change"
          ],
          [
           "New Light"
          ],
          [
           "Love On The Weekend"
          ],
          [
           "Say"
          ],
          [
           "Heartbreak Warfare"
          ],
          [
           "Stop This Train"
          ],
          [
           "I'm Gonna Find Another You"
          ],
          [
           "Edge Of Desire"
          ],
          [
           "I Guess I Just Feel Like"
          ],
          [
           "Still Feel Like Your Man"
          ],
          [
           "In Your Atmosphere"
          ],
          [
           "Who You Love (Feat. Katy Perry)"
          ]
         ],
         "hovertemplate": "artista=John Mayer<br>x=%{x}<br>y=%{y}<br>musica=%{customdata[0]}<extra></extra>",
         "legendgroup": "John Mayer",
         "marker": {
          "color": "#FFA15A",
          "opacity": 0.5,
          "symbol": "circle"
         },
         "mode": "markers",
         "name": "John Mayer",
         "showlegend": true,
         "type": "scattergl",
         "x": [
          24.592849731445312,
          -7.199433326721191,
          -5.460482597351074,
          8.615328788757324,
          -9.626855850219727,
          25.581546783447266,
          28.100847244262695,
          19.70515251159668,
          6.243854999542236,
          30.1881103515625,
          -36.8648681640625,
          -32.21886444091797,
          26.51036262512207,
          33.069236755371094,
          -4.061834335327148,
          32.96047592163086,
          -13.281097412109375,
          6.615532875061035,
          15.638570785522461,
          9.002954483032227,
          16.65842628479004,
          -18.06650733947754,
          2.6250808238983154,
          -11.688720703125,
          6.6536407470703125
         ],
         "xaxis": "x",
         "y": [
          -8.055672645568848,
          33.95591735839844,
          -5.328883647918701,
          -44.0555305480957,
          18.382427215576172,
          13.009449005126953,
          -14.568818092346191,
          5.12032413482666,
          39.50539016723633,
          23.7402286529541,
          10.272242546081543,
          14.652793884277344,
          -33.88763427734375,
          -11.808213233947754,
          24.336881637573242,
          -41.572898864746094,
          6.692997455596924,
          -31.960121154785156,
          -5.948103427886963,
          23.64715576171875,
          -14.307294845581055,
          50.5634880065918,
          24.668607711791992,
          31.05588722229004,
          -21.110332489013672
         ],
         "yaxis": "y"
        },
        {
         "customdata": [
          [
           "Company"
          ],
          [
           "Love Yourself"
          ],
          [
           "Stuck With U (With Ariana Grande)"
          ],
          [
           "Yummy"
          ],
          [
           "Sorry"
          ],
          [
           "Baby"
          ],
          [
           "Confident (Feat. Chance The Rapper)"
          ],
          [
           "Eenie Meenie"
          ],
          [
           "Never Say Never (feat. Jaden Smith)"
          ],
          [
           "Purpose"
          ],
          [
           "One Time"
          ],
          [
           "Love Me"
          ],
          [
           "Forever (Feat. Post Malone and Clever)"
          ],
          [
           "What Do You Mean?"
          ],
          [
           "As Long As You Love Me (feat. Big Sean)"
          ],
          [
           "Heartbreaker"
          ],
          [
           "E.T.A."
          ],
          [
           "All That Matters"
          ],
          [
           "Come Around Me"
          ],
          [
           "Baby (feat. Ludacris)"
          ],
          [
           "One Less Lonely Girl"
          ],
          [
           "Habitual"
          ],
          [
           "All Around Me"
          ],
          [
           "HOLY (Ft. Chance The Rapper)"
          ],
          [
           "Intentions (Ft. Quavo)"
          ]
         ],
         "hovertemplate": "artista=Justin Bieber<br>x=%{x}<br>y=%{y}<br>musica=%{customdata[0]}<extra></extra>",
         "legendgroup": "Justin Bieber",
         "marker": {
          "color": "#19d3f3",
          "opacity": 0.5,
          "symbol": "circle"
         },
         "mode": "markers",
         "name": "Justin Bieber",
         "showlegend": true,
         "type": "scattergl",
         "x": [
          -15.94963264465332,
          -29.888132095336914,
          -24.142471313476562,
          -7.635494709014893,
          -25.938030242919922,
          -12.730725288391113,
          -2.29378604888916,
          -24.39376449584961,
          -29.008960723876953,
          14.407798767089844,
          27.97901153564453,
          9.92492961883545,
          -16.689472198486328,
          -31.810930252075195,
          21.750577926635742,
          -1.7753657102584839,
          -16.39862060546875,
          15.443953514099121,
          -1.5964620113372803,
          -12.737029075622559,
          -43.414337158203125,
          -11.92122745513916,
          -4.845582008361816,
          -20.419984817504883,
          -14.781234741210938
         ],
         "xaxis": "x",
         "y": [
          -13.744447708129883,
          29.44040298461914,
          33.29702377319336,
          -4.806697845458984,
          12.732793807983398,
          -12.615192413330078,
          -4.202667713165283,
          -15.57577133178711,
          -12.078350067138672,
          39.531097412109375,
          38.71847915649414,
          -20.168235778808594,
          19.17195701599121,
          -3.472905158996582,
          12.559049606323242,
          28.604127883911133,
          6.516055583953857,
          -2.425446033477783,
          21.98838996887207,
          -12.602593421936035,
          -8.127957344055176,
          -3.419696569442749,
          28.73167610168457,
          26.283241271972656,
          19.946144104003906
         ],
         "yaxis": "y"
        },
        {
         "customdata": [
          [
           "Suit & Tie (Feat. Jay Z)"
          ],
          [
           "Like I Love You (feat. Clipse)"
          ],
          [
           "Perfect For Me"
          ],
          [
           "Take Back The Night"
          ],
          [
           "4 Minutes"
          ],
          [
           "Pusher Love Girl"
          ],
          [
           "Filthy"
          ],
          [
           "Rock Your Body"
          ],
          [
           "Señorita"
          ],
          [
           "(And She Said) Take Me Now (feat. Janet Jackson)"
          ],
          [
           "True Colors (Feat. Anna Kendrick)"
          ],
          [
           "Summer Love"
          ],
          [
           "Love Never Felt So Good"
          ],
          [
           "Not A Bad Thing"
          ],
          [
           "Don't Slack (With Anderson .Paak)"
          ],
          [
           "The Other Side (With SZA)"
          ],
          [
           "My Love (feat. T.I.)"
          ],
          [
           "TKO"
          ],
          [
           "SexyBack"
          ],
          [
           "Cry Me A River"
          ],
          [
           "Say Something (feat. Chris Stapleton)"
          ],
          [
           "What Goes Around.../...Comes Around (Interlude)"
          ],
          [
           "Can't Stop The Feeling"
          ],
          [
           "Mirrors"
          ],
          [
           "Apologize"
          ]
         ],
         "hovertemplate": "artista=Justin Timberlake<br>x=%{x}<br>y=%{y}<br>musica=%{customdata[0]}<extra></extra>",
         "legendgroup": "Justin Timberlake",
         "marker": {
          "color": "#FF6692",
          "opacity": 0.5,
          "symbol": "circle"
         },
         "mode": "markers",
         "name": "Justin Timberlake",
         "showlegend": true,
         "type": "scattergl",
         "x": [
          8.665670394897461,
          3.813812017440796,
          -17.680450439453125,
          23.994300842285156,
          0.6936896443367004,
          -13.476454734802246,
          -24.341136932373047,
          39.2675895690918,
          -16.58046531677246,
          6.664382457733154,
          9.33094310760498,
          -8.772821426391602,
          8.489927291870117,
          3.3758704662323,
          -29.13433265686035,
          -21.07257080078125,
          -13.172820091247559,
          2.293661117553711,
          -27.85130500793457,
          7.019942283630371,
          -7.410130977630615,
          14.877800941467285,
          -8.21013069152832,
          8.30652141571045,
          -22.64183235168457
         ],
         "xaxis": "x",
         "y": [
          38.904876708984375,
          -1.7548930644989014,
          24.612781524658203,
          -7.921203136444092,
          -36.64848709106445,
          -26.801651000976562,
          -20.88246726989746,
          -22.066429138183594,
          -22.7043399810791,
          -32.86836624145508,
          -39.53092575073242,
          28.442493438720703,
          55.305030822753906,
          38.16190719604492,
          19.794647216796875,
          27.492820739746094,
          -16.58617401123047,
          -24.61054801940918,
          -18.17901039123535,
          -2.3787243366241455,
          3.0443522930145264,
          18.741540908813477,
          -8.751063346862793,
          14.667901039123535,
          10.643465042114258
         ],
         "yaxis": "y"
        },
        {
         "customdata": [
          [
           "Champagne Problems"
          ],
          [
           "Hot N' Cold"
          ],
          [
           "I Kissed A Girl"
          ],
          [
           "Teenage Dream"
          ],
          [
           "E.T. (feat. Kanye West)"
          ],
          [
           "Cry About It Later"
          ],
          [
           "The One That Got Away"
          ],
          [
           "Smile"
          ],
          [
           "Firework"
          ],
          [
           "Dark Horse (Feat. Juicy J)"
          ],
          [
           "Roar"
          ],
          [
           "California Gurls (feat. Snoop Dogg)"
          ],
          [
           "What Makes a Woman"
          ],
          [
           "Daisies"
          ],
          [
           "Last Friday Night (T.G.I.F.)"
          ],
          [
           "Birthday"
          ],
          [
           "Tucked"
          ],
          [
           "Only Love"
          ],
          [
           "Thinking Of You"
          ],
          [
           "Resilient"
          ],
          [
           "Part Of Me"
          ],
          [
           "Unconditionally"
          ],
          [
           "365 (With Zedd)"
          ],
          [
           "Not The End Of The World"
          ],
          [
           "Never Really Over"
          ]
         ],
         "hovertemplate": "artista=Katy Perry<br>x=%{x}<br>y=%{y}<br>musica=%{customdata[0]}<extra></extra>",
         "legendgroup": "Katy Perry",
         "marker": {
          "color": "#B6E880",
          "opacity": 0.5,
          "symbol": "circle"
         },
         "mode": "markers",
         "name": "Katy Perry",
         "showlegend": true,
         "type": "scattergl",
         "x": [
          -0.4144139885902405,
          19.44075584411621,
          -5.117608547210693,
          -16.92877197265625,
          -16.460474014282227,
          26.69379997253418,
          14.903377532958984,
          4.567636013031006,
          15.972066879272461,
          23.1938419342041,
          -17.003273010253906,
          -17.037084579467773,
          14.378259658813477,
          18.135236740112305,
          3.626542091369629,
          26.013029098510742,
          5.763277053833008,
          -12.78598690032959,
          30.60599708557129,
          41.488525390625,
          -5.8697638511657715,
          16.236602783203125,
          8.91100788116455,
          12.118829727172852,
          -14.131861686706543
         ],
         "xaxis": "x",
         "y": [
          -13.073209762573242,
          -9.417346954345703,
          3.1522631645202637,
          19.72247886657715,
          -28.802310943603516,
          -17.692167282104492,
          -16.09297752380371,
          -36.763084411621094,
          -35.31594467163086,
          -1.6092356443405151,
          25.764610290527344,
          -30.159778594970703,
          43.6754035949707,
          29.449275970458984,
          -41.22625732421875,
          12.056326866149902,
          -5.195594310760498,
          -16.01056671142578,
          -17.68486785888672,
          -12.803618431091309,
          23.821308135986328,
          -11.065980911254883,
          14.732433319091797,
          12.317398071289062,
          23.361976623535156
         ],
         "yaxis": "y"
        },
        {
         "customdata": [
          [
           "Free Woman"
          ],
          [
           "I'll Never Love Again"
          ],
          [
           "Always Remember Us This Way"
          ],
          [
           "Fun Tonight"
          ],
          [
           "Yoü And I"
          ],
          [
           "Plastic Doll"
          ],
          [
           "Paparazzi"
          ],
          [
           "Replay"
          ],
          [
           "Chromatica I"
          ],
          [
           "Enigma"
          ],
          [
           "Telephone (feat. Beyoncé)"
          ],
          [
           "Shallow (With Bradley Cooper)"
          ],
          [
           "911"
          ],
          [
           "1000 Doves"
          ],
          [
           "Stupid Love"
          ],
          [
           "Poker Face"
          ],
          [
           "Bad Romance"
          ],
          [
           "Alejandro"
          ],
          [
           "Born This Way"
          ],
          [
           "Sour Candy (with Blackpink)"
          ],
          [
           "Million Reasons"
          ],
          [
           "Sine From Above (with Elton John)"
          ],
          [
           "Alice"
          ],
          [
           "Rain On Me (With Ariana Grande)"
          ],
          [
           "Babylon"
          ]
         ],
         "hovertemplate": "artista=Lady Gaga<br>x=%{x}<br>y=%{y}<br>musica=%{customdata[0]}<extra></extra>",
         "legendgroup": "Lady Gaga",
         "marker": {
          "color": "#FF97FF",
          "opacity": 0.5,
          "symbol": "circle"
         },
         "mode": "markers",
         "name": "Lady Gaga",
         "showlegend": true,
         "type": "scattergl",
         "x": [
          -27.2168025970459,
          4.66321325302124,
          4.201371192932129,
          -20.048402786254883,
          -9.60580062866211,
          -15.539838790893555,
          -25.1442928314209,
          -22.359548568725586,
          -26.970735549926758,
          3.9351770877838135,
          -29.004173278808594,
          -26.37226676940918,
          -5.487864971160889,
          -35.17591857910156,
          -20.0517578125,
          -24.843515396118164,
          -2.9902572631835938,
          -10.846274375915527,
          20.85136604309082,
          -20.36083221435547,
          19.73025131225586,
          -0.5424699783325195,
          12.568013191223145,
          22.314455032348633,
          -27.61090850830078
         ],
         "xaxis": "x",
         "y": [
          41.94632339477539,
          8.108441352844238,
          -29.11305046081543,
          18.688213348388672,
          -11.075272560119629,
          -25.477201461791992,
          -13.801734924316406,
          17.609647750854492,
          -62.95738983154297,
          21.87667465209961,
          -24.14208221435547,
          -11.725017547607422,
          20.497478485107422,
          18.110498428344727,
          -23.952247619628906,
          -27.574134826660156,
          -51.84893798828125,
          -39.5491828918457,
          -8.793874740600586,
          -18.86949920654297,
          28.040218353271484,
          47.5053825378418,
          -46.95896530151367,
          -3.8839735984802246,
          -23.604007720947266
         ],
         "yaxis": "y"
        },
        {
         "customdata": [
          [
           "Summertime Sadness"
          ],
          [
           "Carmen"
          ],
          [
           "Hope is a dangerous thing for a woman like me to have - but I have it"
          ],
          [
           "Born To Die"
          ],
          [
           "Video Games"
          ],
          [
           "Happiness Is a Butterfly"
          ],
          [
           "Young And Beautiful"
          ],
          [
           "Blue Jeans"
          ],
          [
           "LA Who Am I to Love You?"
          ],
          [
           "Norman Fucking Rockwell"
          ],
          [
           "Lust For Life (Feat. The Weeknd)"
          ],
          [
           "Fuck It I Love You"
          ],
          [
           "Doin' Time"
          ],
          [
           "Cinnamon Girl"
          ],
          [
           "Cherry"
          ],
          [
           "West Coast"
          ],
          [
           "Love"
          ],
          [
           "Love Song"
          ],
          [
           "Mariners Apartment Complex"
          ],
          [
           "Ride"
          ],
          [
           "The Land of 1000 Fires"
          ],
          [
           "13 Beaches"
          ],
          [
           "Ride (Monologue)"
          ],
          [
           "Dark Paradise"
          ],
          [
           "Ultraviolence"
          ]
         ],
         "hovertemplate": "artista=Lana Del Rey<br>x=%{x}<br>y=%{y}<br>musica=%{customdata[0]}<extra></extra>",
         "legendgroup": "Lana Del Rey",
         "marker": {
          "color": "#FECB52",
          "opacity": 0.5,
          "symbol": "circle"
         },
         "mode": "markers",
         "name": "Lana Del Rey",
         "showlegend": true,
         "type": "scattergl",
         "x": [
          -15.661022186279297,
          -7.14267110824585,
          -8.386983871459961,
          24.506214141845703,
          3.4036359786987305,
          -18.4669246673584,
          9.012292861938477,
          9.60998821258545,
          -20.841663360595703,
          -13.42953872680664,
          20.322683334350586,
          -6.0186686515808105,
          -12.234288215637207,
          14.660470008850098,
          -17.691665649414062,
          -1.5661723613739014,
          -19.107576370239258,
          -26.085739135742188,
          14.378358840942383,
          -37.6727294921875,
          -8.296870231628418,
          24.578195571899414,
          -37.65889358520508,
          16.806316375732422,
          -8.826766014099121
         ],
         "xaxis": "x",
         "y": [
          -9.798135757446289,
          -5.972430229187012,
          2.1889753341674805,
          6.570487022399902,
          15.465227127075195,
          21.271883010864258,
          30.951448440551758,
          6.344991683959961,
          19.97718048095703,
          -29.493297576904297,
          -5.667560577392578,
          -9.921126365661621,
          -0.5201016664505005,
          5.437936782836914,
          -24.464635848999023,
          -8.416720390319824,
          -34.97856521606445,
          27.929183959960938,
          -0.09704222530126572,
          9.350873947143555,
          -34.62619400024414,
          -27.789653778076172,
          9.346510887145996,
          -19.40249252319336,
          -36.95075225830078
         ],
         "yaxis": "y"
        },
        {
         "customdata": [
          [
           "One"
          ],
          [
           "Someone You Loved"
          ],
          [
           "Before You Go"
          ],
          [
           "Bruises"
          ],
          [
           "Hold Me While You Wait"
          ],
          [
           "Grace"
          ],
          [
           "Forever"
          ],
          [
           "Maybe"
          ],
          [
           "Don't Get Me Wrong"
          ]
         ],
         "hovertemplate": "artista=Lewis Capaldi<br>x=%{x}<br>y=%{y}<br>musica=%{customdata[0]}<extra></extra>",
         "legendgroup": "Lewis Capaldi",
         "marker": {
          "color": "#636efa",
          "opacity": 0.5,
          "symbol": "circle"
         },
         "mode": "markers",
         "name": "Lewis Capaldi",
         "showlegend": true,
         "type": "scattergl",
         "x": [
          -0.6160640716552734,
          26.94977569580078,
          -5.432565212249756,
          10.686136245727539,
          -20.383464813232422,
          5.562972068786621,
          5.833332061767578,
          -21.238508224487305,
          10.24245834350586
         ],
         "xaxis": "x",
         "y": [
          41.413028717041016,
          26.570180892944336,
          25.999448776245117,
          40.00771713256836,
          41.44290542602539,
          -46.55975341796875,
          46.23073196411133,
          46.353267669677734,
          19.856571197509766
         ],
         "yaxis": "y"
        },
        {
         "customdata": [
          [
           "Somewhere I Belong"
          ],
          [
           "Leave Out All The Rest"
          ],
          [
           "Crawling"
          ],
          [
           "Numb"
          ],
          [
           "In The End"
          ],
          [
           "Burn It Down"
          ],
          [
           "One More Light"
          ],
          [
           "In The End (demo Lpu 11)"
          ],
          [
           "Castle Of Glass"
          ],
          [
           "What I've Done"
          ],
          [
           "Faint"
          ],
          [
           "Papercut"
          ],
          [
           "Breaking The Habit"
          ],
          [
           "Waiting For The End"
          ],
          [
           "From The Inside"
          ],
          [
           "New Divide"
          ],
          [
           "One Step Closer"
          ],
          [
           "Heavy (feat. Kiiara)"
          ],
          [
           "A Place For My Head"
          ],
          [
           "Lying From You"
          ],
          [
           "Iridescent"
          ],
          [
           "Points Of Authority"
          ],
          [
           "Lost In The Echo"
          ],
          [
           "Shadow Of The Day"
          ],
          [
           "Talking To Myself"
          ]
         ],
         "hovertemplate": "artista=Linkin Park<br>x=%{x}<br>y=%{y}<br>musica=%{customdata[0]}<extra></extra>",
         "legendgroup": "Linkin Park",
         "marker": {
          "color": "#EF553B",
          "opacity": 0.5,
          "symbol": "circle"
         },
         "mode": "markers",
         "name": "Linkin Park",
         "showlegend": true,
         "type": "scattergl",
         "x": [
          -6.283023357391357,
          8.821661949157715,
          -29.03040885925293,
          19.060134887695312,
          14.870946884155273,
          30.960693359375,
          18.561372756958008,
          30.838167190551758,
          26.700639724731445,
          16.4034423828125,
          22.850839614868164,
          30.58902931213379,
          -32.36301803588867,
          32.06809997558594,
          18.837533950805664,
          -32.58647537231445,
          -9.319012641906738,
          35.440216064453125,
          4.216862678527832,
          -13.605003356933594,
          -2.567092180252075,
          -28.01919174194336,
          8.531153678894043,
          23.941869735717773,
          38.69972610473633
         ],
         "xaxis": "x",
         "y": [
          20.395153045654297,
          40.45147705078125,
          -15.979866027832031,
          -20.338106155395508,
          20.951778411865234,
          -8.872186660766602,
          -49.54698944091797,
          23.180051803588867,
          14.81736946105957,
          -49.73775100708008,
          -32.21417236328125,
          30.50248146057129,
          -8.09836196899414,
          -12.315167427062988,
          -22.907974243164062,
          -9.35985279083252,
          -46.7770881652832,
          27.166976928710938,
          30.91753578186035,
          49.137142181396484,
          17.288257598876953,
          -4.983773231506348,
          -40.201717376708984,
          11.447830200195312,
          -0.2721635401248932
         ],
         "yaxis": "y"
        },
        {
         "customdata": [
          [
           "Eu Te Quero (Com Zeeba)"
          ]
         ],
         "hovertemplate": "artista=Manu Gavassi<br>x=%{x}<br>y=%{y}<br>musica=%{customdata[0]}<extra></extra>",
         "legendgroup": "Manu Gavassi",
         "marker": {
          "color": "#00cc96",
          "opacity": 0.5,
          "symbol": "circle"
         },
         "mode": "markers",
         "name": "Manu Gavassi",
         "showlegend": true,
         "type": "scattergl",
         "x": [
          -23.859695434570312
         ],
         "xaxis": "x",
         "y": [
          -32.50441360473633
         ],
         "yaxis": "y"
        },
        {
         "customdata": [
          [
           "This Love"
          ],
          [
           "Moves Like Jagger (feat. Christina Aguilera)"
          ],
          [
           "Nobody's Love"
          ],
          [
           "Animals"
          ],
          [
           "Payphone (Feat. Wiz Khalifa)"
          ],
          [
           "Maps"
          ],
          [
           "Don't Wanna Know (Feat. Kendrick Lamar)"
          ],
          [
           "Girls Like You"
          ],
          [
           "Cold (Feat. Future)"
          ],
          [
           "Love Somebody"
          ],
          [
           "What Lovers Do (feat. SZA)"
          ],
          [
           "Daylight"
          ],
          [
           "Lost Stars"
          ],
          [
           "Won't Go Home Without You"
          ],
          [
           "It Was Always You"
          ],
          [
           "Payphone (Non-Rap Version)"
          ],
          [
           "Best 4 U"
          ],
          [
           "Harder To Breathe"
          ],
          [
           "She Will Be Loved"
          ],
          [
           "One More Night"
          ],
          [
           "Sugar"
          ],
          [
           "Sunday Morning"
          ],
          [
           "Girls Like You (Feat. Cardi B)"
          ],
          [
           "Memories"
          ]
         ],
         "hovertemplate": "artista=Maroon 5<br>x=%{x}<br>y=%{y}<br>musica=%{customdata[0]}<extra></extra>",
         "legendgroup": "Maroon 5",
         "marker": {
          "color": "#ab63fa",
          "opacity": 0.5,
          "symbol": "circle"
         },
         "mode": "markers",
         "name": "Maroon 5",
         "showlegend": true,
         "type": "scattergl",
         "x": [
          5.798685550689697,
          -6.383365631103516,
          -11.752856254577637,
          -16.232589721679688,
          3.91424560546875,
          20.52806854248047,
          -24.057750701904297,
          -12.066619873046875,
          -0.8249107599258423,
          -0.11991272866725922,
          -6.9660139083862305,
          -1.8306564092636108,
          20.771591186523438,
          0.749740719795227,
          2.977097988128662,
          4.194158554077148,
          29.289594650268555,
          -20.47750473022461,
          15.713109016418457,
          22.27006721496582,
          1.928247332572937,
          3.968933343887329,
          -12.068142890930176,
          -10.024116516113281
         ],
         "xaxis": "x",
         "y": [
          34.59516143798828,
          7.086999893188477,
          27.802534103393555,
          -21.575254440307617,
          37.093414306640625,
          -20.69121742248535,
          -20.92366600036621,
          54.571468353271484,
          11.07348918914795,
          30.519315719604492,
          -20.174001693725586,
          37.95942687988281,
          -39.959354400634766,
          33.23934555053711,
          6.720686435699463,
          36.88733673095703,
          -29.863550186157227,
          35.87036895751953,
          17.548439025878906,
          36.527225494384766,
          -32.19572067260742,
          34.16284942626953,
          54.56363296508789,
          -16.011844635009766
         ],
         "yaxis": "y"
        },
        {
         "customdata": [
          [
           "The Unforgiven"
          ],
          [
           "To Live Is To Die"
          ],
          [
           "Until It Sleeps"
          ],
          [
           "The Unforgiven Iii"
          ],
          [
           "Bleeding Me"
          ],
          [
           "Turn The Page"
          ],
          [
           "Of Wolf And Man"
          ],
          [
           "The Memory Remains"
          ],
          [
           "All Within My Hands"
          ],
          [
           "Fade To Black"
          ],
          [
           "Nothing Else Matters"
          ],
          [
           "The Call of Ktulu"
          ],
          [
           "For Whom The Bell Tolls"
          ],
          [
           "The Ecstasy Of Gold"
          ],
          [
           "Sad But True"
          ],
          [
           "Wherever I May Roam"
          ],
          [
           "The Unforgiven Ii"
          ],
          [
           "Whiskey In The Jar"
          ],
          [
           "One"
          ],
          [
           "Master Of Puppets"
          ],
          [
           "Enter Sandman"
          ],
          [
           "Creeping Death"
          ],
          [
           "Ride The Lightning"
          ],
          [
           "Fuel"
          ],
          [
           "Seek And Destroy"
          ]
         ],
         "hovertemplate": "artista=Metallica<br>x=%{x}<br>y=%{y}<br>musica=%{customdata[0]}<extra></extra>",
         "legendgroup": "Metallica",
         "marker": {
          "color": "#FFA15A",
          "opacity": 0.5,
          "symbol": "circle"
         },
         "mode": "markers",
         "name": "Metallica",
         "showlegend": true,
         "type": "scattergl",
         "x": [
          7.12377405166626,
          24.215402603149414,
          7.142884254455566,
          -28.263338088989258,
          34.99549865722656,
          18.074922561645508,
          -10.572081565856934,
          6.900074481964111,
          29.881391525268555,
          19.648014068603516,
          16.587467193603516,
          -26.36678123474121,
          28.706985473632812,
          -26.7185001373291,
          13.428634643554688,
          19.402019500732422,
          16.225154876708984,
          -21.50507926940918,
          17.89019775390625,
          -3.3058080673217773,
          6.3501482009887695,
          21.238401412963867,
          33.07305145263672,
          7.031566619873047,
          -3.9403798580169678
         ],
         "xaxis": "x",
         "y": [
          -53.10277557373047,
          -38.09540939331055,
          -0.5246616005897522,
          -17.696361541748047,
          -23.005706787109375,
          -8.093259811401367,
          4.908502101898193,
          -52.4918327331543,
          1.500445008277893,
          0.679716944694519,
          16.643312454223633,
          -63.19281005859375,
          -10.032625198364258,
          -63.19901657104492,
          -0.0272076316177845,
          -35.289798736572266,
          -49.71825408935547,
          22.035608291625977,
          -24.94917106628418,
          -41.38620376586914,
          -49.11857986450195,
          -10.181872367858887,
          -20.64567756652832,
          -52.6008186340332,
          -43.418434143066406
         ],
         "yaxis": "y"
        },
        {
         "customdata": [
          [
           "Man In The Mirror"
          ],
          [
           "Bad"
          ],
          [
           "The Way You Make Me Feel"
          ],
          [
           "Remember The Time"
          ],
          [
           "Ben"
          ],
          [
           "Love Never Felt So Good (Feat. Justin Timberlake)"
          ],
          [
           "Thriller"
          ],
          [
           "Billie Jean"
          ],
          [
           "Beat It"
          ],
          [
           "We Are The World"
          ],
          [
           "Black Or White"
          ],
          [
           "Don't Stop 'Til You Get Enough"
          ],
          [
           "Earth Song"
          ],
          [
           "Human Nature"
          ],
          [
           "Smooth Criminal"
          ],
          [
           "They Don't Care About Us"
          ],
          [
           "You Are Not Alone"
          ],
          [
           "Music And Me"
          ],
          [
           "Happy"
          ],
          [
           "Heal The World"
          ],
          [
           "I'll Be There"
          ],
          [
           "One Day In Your Life"
          ],
          [
           "I Just Can't Stop Loving You (feat. Siedah Garrett)"
          ],
          [
           "The Girl Is Mine (feat. Paul Mccartney)"
          ],
          [
           "Will You Be There"
          ]
         ],
         "hovertemplate": "artista=Michael Jackson<br>x=%{x}<br>y=%{y}<br>musica=%{customdata[0]}<extra></extra>",
         "legendgroup": "Michael Jackson",
         "marker": {
          "color": "#19d3f3",
          "opacity": 0.5,
          "symbol": "circle"
         },
         "mode": "markers",
         "name": "Michael Jackson",
         "showlegend": true,
         "type": "scattergl",
         "x": [
          -3.7622435092926025,
          21.2242488861084,
          -18.35494041442871,
          23.118459701538086,
          -13.081998825073242,
          8.490708351135254,
          4.05745792388916,
          -33.62930679321289,
          -12.32349967956543,
          24.172325134277344,
          -10.348505973815918,
          30.12824058532715,
          -18.19536590576172,
          13.084447860717773,
          -28.897335052490234,
          0.8108375668525696,
          2.425696849822998,
          39.39625549316406,
          -7.128583908081055,
          24.540739059448242,
          -14.369344711303711,
          25.30417823791504,
          -30.04526138305664,
          -8.097784996032715,
          -29.280038833618164
         ],
         "xaxis": "x",
         "y": [
          -0.43678703904151917,
          -30.434282302856445,
          -7.865652561187744,
          -44.30856704711914,
          -17.49658966064453,
          55.3072395324707,
          -40.37368392944336,
          5.137794494628906,
          31.597909927368164,
          -1.015850305557251,
          0.6168370246887207,
          16.059167861938477,
          -44.80250930786133,
          -43.63554000854492,
          -13.445995330810547,
          -37.89396286010742,
          -20.476558685302734,
          -21.50284767150879,
          1.7969145774841309,
          10.859403610229492,
          32.38450241088867,
          9.088502883911133,
          -32.7188606262207,
          -38.824623107910156,
          -18.662187576293945
         ],
         "yaxis": "y"
        },
        {
         "customdata": [
          [
           "Slide Away"
          ],
          [
           "Mother's Daughter"
          ],
          [
           "Malibu"
          ],
          [
           "Party In The U.S.A."
          ],
          [
           "We Can't Stop"
          ],
          [
           "Nothing Breaks Like a Heart"
          ],
          [
           "When I Look At You"
          ],
          [
           "Wrecking Ball"
          ],
          [
           "The Climb"
          ],
          [
           "Heart Of Glass"
          ],
          [
           "Midnight Sky"
          ],
          [
           "Adore You"
          ],
          [
           "7 Things"
          ],
          [
           "Butterfly Fly Away"
          ],
          [
           "Can't Be Tamed"
          ],
          [
           "You'll Always Find Your Way Back Home"
          ],
          [
           "Bad Karma"
          ],
          [
           "Adore You (Cedric Gervais Remix)"
          ],
          [
           "(Happy Xmas) War Is Over (Ft. Mark Ronson, Sean Ono Lennon)"
          ],
          [
           "Butterfly Fly Away (extended Version)"
          ],
          [
           "Jolene"
          ],
          [
           "True Friend"
          ],
          [
           "Ordinary Girl"
          ],
          [
           "I'll Always Remember You"
          ],
          [
           "Who Owns My Heart"
          ]
         ],
         "hovertemplate": "artista=Miley Cyrus<br>x=%{x}<br>y=%{y}<br>musica=%{customdata[0]}<extra></extra>",
         "legendgroup": "Miley Cyrus",
         "marker": {
          "color": "#FF6692",
          "opacity": 0.5,
          "symbol": "circle"
         },
         "mode": "markers",
         "name": "Miley Cyrus",
         "showlegend": true,
         "type": "scattergl",
         "x": [
          -13.535296440124512,
          -20.901744842529297,
          -2.1244821548461914,
          -30.07883071899414,
          40.8043327331543,
          1.9332525730133057,
          -29.876708984375,
          14.881948471069336,
          20.55010986328125,
          -21.157997131347656,
          -7.470583438873291,
          41.678802490234375,
          15.083239555358887,
          18.196001052856445,
          23.7189884185791,
          5.840106010437012,
          -18.954307556152344,
          41.680625915527344,
          31.191314697265625,
          -1.058970332145691,
          -18.481151580810547,
          -2.31382155418396,
          22.342988967895508,
          8.25033187866211,
          42.17853927612305
         ],
         "xaxis": "x",
         "y": [
          19.268413543701172,
          -4.468247890472412,
          15.26439380645752,
          2.5829312801361084,
          -7.216678142547607,
          14.03397274017334,
          -15.569964408874512,
          31.51148796081543,
          -35.14278793334961,
          23.452075958251953,
          13.799821853637695,
          -36.27902603149414,
          4.398792266845703,
          -42.51176834106445,
          -32.916221618652344,
          23.239667892456055,
          1.3999953269958496,
          -36.28066635131836,
          -4.601622581481934,
          -35.251766204833984,
          -10.29861831665039,
          24.459501266479492,
          -28.250600814819336,
          33.38085174560547,
          -1.897930383682251
         ],
         "yaxis": "y"
        },
        {
         "customdata": [
          [
           "Plateau"
          ],
          [
           "The Man Who Sold The World"
          ],
          [
           "Lithium"
          ],
          [
           "About A Girl"
          ],
          [
           "Something In The Way"
          ],
          [
           "Heart Shaped Box"
          ],
          [
           "Jesus Doesn't Want Me For A Sunbeam"
          ],
          [
           "Polly"
          ],
          [
           "In Bloom"
          ],
          [
           "Where Did You Sleep Last Night?"
          ],
          [
           "All Apologies"
          ],
          [
           "Rape Me"
          ],
          [
           "Serve The Servants"
          ],
          [
           "You Know You're Right"
          ],
          [
           "Pennyroyal Tea"
          ],
          [
           "Come As You Are"
          ],
          [
           "Sliver"
          ],
          [
           "Do Re Mi"
          ],
          [
           "Love Buzz"
          ],
          [
           "Drain You"
          ],
          [
           "On A Plain"
          ],
          [
           "Aero Zeppelin"
          ],
          [
           "Dumb"
          ],
          [
           "Breed"
          ],
          [
           "Smells Like Teen Spirit"
          ]
         ],
         "hovertemplate": "artista=Nirvana<br>x=%{x}<br>y=%{y}<br>musica=%{customdata[0]}<extra></extra>",
         "legendgroup": "Nirvana",
         "marker": {
          "color": "#B6E880",
          "opacity": 0.5,
          "symbol": "circle"
         },
         "mode": "markers",
         "name": "Nirvana",
         "showlegend": true,
         "type": "scattergl",
         "x": [
          -5.776589393615723,
          28.72836685180664,
          -31.307228088378906,
          21.40113067626953,
          -4.3476715087890625,
          -22.373098373413086,
          11.865516662597656,
          4.657634258270264,
          33.61558532714844,
          15.089801788330078,
          2.68208909034729,
          -1.6075552701950073,
          -1.8509438037872314,
          -34.34855270385742,
          -33.36669158935547,
          -2.7248775959014893,
          1.0388253927230835,
          15.613197326660156,
          5.675019264221191,
          -30.258499145507812,
          16.842613220214844,
          -21.48921775817871,
          14.25666618347168,
          15.698981285095215,
          -4.70159912109375
         ],
         "xaxis": "x",
         "y": [
          47.42851638793945,
          -5.061728477478027,
          9.722213745117188,
          -16.95062828063965,
          -41.024017333984375,
          24.649396896362305,
          30.202617645263672,
          -54.20820617675781,
          -6.917688369750977,
          36.003448486328125,
          -43.1239128112793,
          -49.602718353271484,
          -4.285226821899414,
          0.7343663573265076,
          -14.107100486755371,
          -40.30009460449219,
          20.867650985717773,
          -50.73495864868164,
          -8.588882446289062,
          -10.951531410217285,
          -24.19712257385254,
          28.12514305114746,
          -34.51483154296875,
          -51.36821365356445,
          -52.04304885864258
         ],
         "yaxis": "y"
        },
        {
         "customdata": [
          [
           "Somebody"
          ],
          [
           "Paradise"
          ],
          [
           "Beautiful life"
          ],
          [
           "Dana Dana"
          ],
          [
           "Better"
          ],
          [
           "All Day"
          ],
          [
           "Come Together"
          ],
          [
           "Feel It Now"
          ],
          [
           "Who Would Think That Love"
          ],
          [
           "Summer in the City"
          ],
          [
           "Na na Na"
          ],
          [
           "The Weekend's Here"
          ],
          [
           "Chained Up"
          ],
          [
           "Paraná"
          ],
          [
           "By My Side"
          ]
         ],
         "hovertemplate": "artista=Now United<br>x=%{x}<br>y=%{y}<br>musica=%{customdata[0]}<extra></extra>",
         "legendgroup": "Now United",
         "marker": {
          "color": "#FF97FF",
          "opacity": 0.5,
          "symbol": "circle"
         },
         "mode": "markers",
         "name": "Now United",
         "showlegend": true,
         "type": "scattergl",
         "x": [
          -2.094304084777832,
          -15.583174705505371,
          6.417730808258057,
          -18.239818572998047,
          29.503944396972656,
          38.10356903076172,
          -8.698841094970703,
          -4.1132988929748535,
          -5.778956413269043,
          22.34897232055664,
          -11.124565124511719,
          36.14736557006836,
          -20.15953254699707,
          -16.285890579223633,
          -12.178512573242188
         ],
         "xaxis": "x",
         "y": [
          32.53437423706055,
          -30.31241226196289,
          -38.967681884765625,
          -29.53095245361328,
          -37.54885482788086,
          -31.479583740234375,
          -6.642417907714844,
          -6.647336959838867,
          -35.78384780883789,
          -27.75087547302246,
          24.645633697509766,
          -14.153379440307617,
          3.375758647918701,
          0.7394509315490723,
          26.39688491821289
         ],
         "yaxis": "y"
        },
        {
         "customdata": [
          [
           "Songbird"
          ],
          [
           "(As Long As They've Got) Cigarettes In Hell"
          ],
          [
           "Roll With It"
          ],
          [
           "Some Might Say"
          ],
          [
           "Rock'n'Roll Star"
          ],
          [
           "Go Let It Out"
          ],
          [
           "Don't Stop..."
          ],
          [
           "Acquiesce"
          ],
          [
           "Cast No Shadow"
          ],
          [
           "(Get Off Your) High Horse Lady"
          ],
          [
           "(It's Good) To Be Free"
          ],
          [
           "Cigarettes & Alcohol"
          ],
          [
           "Little By Little"
          ],
          [
           "Let There Be Love"
          ],
          [
           "Whatever"
          ],
          [
           "Supersonic"
          ],
          [
           "Champagne Supernova"
          ],
          [
           "Stop Crying Your Heart Out"
          ],
          [
           "Don't Look Back In Anger"
          ],
          [
           "Slide Away"
          ],
          [
           "Wonderwall"
          ],
          [
           "Don't Go Away"
          ],
          [
           "Live Forever"
          ],
          [
           "All Around The World"
          ],
          [
           "Stand By Me"
          ]
         ],
         "hovertemplate": "artista=Oasis<br>x=%{x}<br>y=%{y}<br>musica=%{customdata[0]}<extra></extra>",
         "legendgroup": "Oasis",
         "marker": {
          "color": "#FECB52",
          "opacity": 0.5,
          "symbol": "circle"
         },
         "mode": "markers",
         "name": "Oasis",
         "showlegend": true,
         "type": "scattergl",
         "x": [
          4.557990074157715,
          -21.568817138671875,
          4.107547760009766,
          -21.590070724487305,
          21.84885025024414,
          -14.1466646194458,
          24.88715171813965,
          34.701969146728516,
          -26.649120330810547,
          6.7527360916137695,
          2.7706236839294434,
          -7.430394172668457,
          30.500782012939453,
          23.739089965820312,
          -37.22050476074219,
          16.847755432128906,
          26.261972427368164,
          31.77055549621582,
          19.604530334472656,
          -16.649288177490234,
          -36.34326171875,
          13.49032211303711,
          26.098087310791016,
          -8.154595375061035,
          -36.575645446777344
         ],
         "xaxis": "x",
         "y": [
          36.05557632446289,
          14.703965187072754,
          27.601856231689453,
          37.95541763305664,
          44.5965690612793,
          21.640554428100586,
          -5.646973609924316,
          4.111321449279785,
          29.872325897216797,
          -46.15736389160156,
          42.272361755371094,
          17.001893997192383,
          -19.629547119140625,
          0.7450681328773499,
          3.102504253387451,
          20.934999465942383,
          -2.0602059364318848,
          -19.378767013549805,
          10.953369140625,
          -13.605145454406738,
          -3.1900033950805664,
          -4.498086452484131,
          -12.19593620300293,
          37.5407829284668,
          15.389747619628906
         ],
         "yaxis": "y"
        },
        {
         "customdata": [
          [
           "Moments"
          ],
          [
           "Walking in the Wind"
          ],
          [
           "Stockholm Syndrome"
          ],
          [
           "No Control"
          ],
          [
           "Over Again"
          ],
          [
           "End of The Day"
          ],
          [
           "One Thing"
          ],
          [
           "Steal My Girl"
          ],
          [
           "Midnight Memories"
          ],
          [
           "A.M"
          ],
          [
           "Best Song Ever"
          ],
          [
           "Olivia"
          ],
          [
           "Perfect"
          ],
          [
           "If I Could Fly"
          ],
          [
           "Diana"
          ],
          [
           "History"
          ],
          [
           "Little Things"
          ],
          [
           "You & I"
          ],
          [
           "Drag Me Down"
          ],
          [
           "18"
          ],
          [
           "What Makes You Beautiful"
          ],
          [
           "Story of My Life"
          ],
          [
           "Night Changes"
          ],
          [
           "Fool's Gold"
          ],
          [
           "Infinity"
          ]
         ],
         "hovertemplate": "artista=One Direction<br>x=%{x}<br>y=%{y}<br>musica=%{customdata[0]}<extra></extra>",
         "legendgroup": "One Direction",
         "marker": {
          "color": "#636efa",
          "opacity": 0.5,
          "symbol": "circle"
         },
         "mode": "markers",
         "name": "One Direction",
         "showlegend": true,
         "type": "scattergl",
         "x": [
          33.67398452758789,
          25.83871841430664,
          -3.384798765182495,
          1.7077142000198364,
          4.396238327026367,
          10.2723970413208,
          16.277721405029297,
          0.008147381246089935,
          -0.10775991529226303,
          8.961435317993164,
          3.71927809715271,
          -10.350274085998535,
          27.99289894104004,
          15.056472778320312,
          -9.734236717224121,
          12.98019790649414,
          12.679677963256836,
          -1.4314379692077637,
          -27.309961318969727,
          13.944892883300781,
          0.19898347556591034,
          -0.4857862591743469,
          11.113083839416504,
          12.324793815612793,
          -6.82335901260376
         ],
         "xaxis": "x",
         "y": [
          -24.636219024658203,
          -1.2884057760238647,
          32.00628662109375,
          -31.024028778076172,
          22.54872703552246,
          7.451918601989746,
          7.221187114715576,
          15.314550399780273,
          -2.718599557876587,
          7.016618728637695,
          -3.9231626987457275,
          13.443140983581543,
          -29.46285629272461,
          0.03631342574954033,
          -39.78532791137695,
          -6.765468120574951,
          -25.46192741394043,
          -21.332828521728516,
          15.043444633483887,
          23.019126892089844,
          -1.512682557106018,
          5.627636909484863,
          23.71019172668457,
          9.693974494934082,
          18.931713104248047
         ],
         "yaxis": "y"
        },
        {
         "customdata": [
          [
           "Somebody To Love"
          ],
          [
           "Marchin' On"
          ],
          [
           "Wanted"
          ],
          [
           "Start Again (Feat. Logic)"
          ],
          [
           "Kids"
          ],
          [
           "Feel Again"
          ],
          [
           "Something I Need"
          ],
          [
           "Human"
          ],
          [
           "Wherever I Go"
          ],
          [
           "All The Right Moves"
          ],
          [
           "Love Runs Out"
          ],
          [
           "Stop and Stare"
          ],
          [
           "Let's Hurt Tonight"
          ],
          [
           "Didn't I"
          ],
          [
           "Better Days"
          ],
          [
           "Rescue Me"
          ],
          [
           "Say (All I Need)"
          ],
          [
           "If I Lose Myself"
          ],
          [
           "Good Life"
          ],
          [
           "Wild Life"
          ],
          [
           "I Lived"
          ],
          [
           "Secrets"
          ],
          [
           "Apologize"
          ],
          [
           "Counting Stars"
          ],
          [
           "Come Home (Feat. Sara Bareilles)"
          ]
         ],
         "hovertemplate": "artista=OneRepublic<br>x=%{x}<br>y=%{y}<br>musica=%{customdata[0]}<extra></extra>",
         "legendgroup": "OneRepublic",
         "marker": {
          "color": "#EF553B",
          "opacity": 0.5,
          "symbol": "circle"
         },
         "mode": "markers",
         "name": "OneRepublic",
         "showlegend": true,
         "type": "scattergl",
         "x": [
          3.400683641433716,
          -27.41452980041504,
          12.924715995788574,
          -33.163719177246094,
          30.0567684173584,
          1.062172532081604,
          19.17853355407715,
          34.54533004760742,
          -14.872275352478027,
          17.835588455200195,
          -2.900468111038208,
          28.15614128112793,
          2.468703031539917,
          -13.664109230041504,
          -12.599323272705078,
          -23.580713272094727,
          6.63893985748291,
          15.088950157165527,
          14.485952377319336,
          -23.310739517211914,
          38.00543975830078,
          10.919575691223145,
          -22.64606475830078,
          31.26528549194336,
          3.6916279792785645
         ],
         "xaxis": "x",
         "y": [
          -12.246183395385742,
          -21.35894012451172,
          25.927465438842773,
          34.50038146972656,
          -11.916316032409668,
          7.017024040222168,
          32.486366271972656,
          -14.364580154418945,
          39.8567008972168,
          -4.398953914642334,
          38.80296325683594,
          30.159772872924805,
          -5.537521839141846,
          16.184967041015625,
          23.243249893188477,
          7.215421199798584,
          21.44576644897461,
          16.30792236328125,
          17.57707977294922,
          29.16910171508789,
          -31.471107482910156,
          17.05152702331543,
          10.646728515625,
          -13.177041053771973,
          -45.44821548461914
         ],
         "yaxis": "y"
        },
        {
         "customdata": [
          [
           "Flash Pose (Ft. Charli XCX)"
          ]
         ],
         "hovertemplate": "artista=Pabllo Vittar<br>x=%{x}<br>y=%{y}<br>musica=%{customdata[0]}<extra></extra>",
         "legendgroup": "Pabllo Vittar",
         "marker": {
          "color": "#00cc96",
          "opacity": 0.5,
          "symbol": "circle"
         },
         "mode": "markers",
         "name": "Pabllo Vittar",
         "showlegend": true,
         "type": "scattergl",
         "x": [
          -24.07208824157715
         ],
         "xaxis": "x",
         "y": [
          -30.136560440063477
         ],
         "yaxis": "y"
        },
        {
         "customdata": [
          [
           "Daughter"
          ],
          [
           "Dance of the Clairvoyants"
          ],
          [
           "Who Ever Said"
          ],
          [
           "Future Days"
          ],
          [
           "Given to Fly"
          ],
          [
           "Superblood Wolfmoon"
          ],
          [
           "Oceans"
          ],
          [
           "Elderly Woman Behind the Counter in a Small Town"
          ],
          [
           "Nothingman"
          ],
          [
           "Smile"
          ],
          [
           "Do The Evolution"
          ],
          [
           "Release"
          ],
          [
           "Black"
          ],
          [
           "Last Kiss"
          ],
          [
           "Alive"
          ],
          [
           "Jeremy"
          ],
          [
           "Just Breathe"
          ],
          [
           "I Am Mine"
          ],
          [
           "Once"
          ],
          [
           "Light Years"
          ],
          [
           "Yellow Ledbetter"
          ],
          [
           "Better Man"
          ],
          [
           "Soldier Of Love"
          ],
          [
           "Sirens"
          ],
          [
           "Even Flow"
          ]
         ],
         "hovertemplate": "artista=Pearl Jam<br>x=%{x}<br>y=%{y}<br>musica=%{customdata[0]}<extra></extra>",
         "legendgroup": "Pearl Jam",
         "marker": {
          "color": "#ab63fa",
          "opacity": 0.5,
          "symbol": "circle"
         },
         "mode": "markers",
         "name": "Pearl Jam",
         "showlegend": true,
         "type": "scattergl",
         "x": [
          -0.8256731629371643,
          31.67731285095215,
          21.049335479736328,
          6.167629718780518,
          -15.884428024291992,
          4.270050048828125,
          0.7531811594963074,
          -11.66005802154541,
          -4.92710018157959,
          -11.108514785766602,
          -18.83338165283203,
          -15.488837242126465,
          -0.9510037302970886,
          30.23968505859375,
          -7.01088285446167,
          12.244424819946289,
          28.373807907104492,
          7.221584320068359,
          -19.593992233276367,
          -39.03593063354492,
          12.572176933288574,
          -40.80601119995117,
          -32.6199951171875,
          -1.7946374416351318,
          -5.642895221710205
         ],
         "xaxis": "x",
         "y": [
          -34.98017883300781,
          -11.775591850280762,
          -5.508510112762451,
          5.635504245758057,
          -23.1993408203125,
          0.28386232256889343,
          -43.73448181152344,
          8.040667533874512,
          -43.538272857666016,
          20.8236026763916,
          -33.03669738769531,
          -10.431965827941895,
          4.941838264465332,
          24.154800415039062,
          -2.5943713188171387,
          -34.5572395324707,
          -30.044546127319336,
          8.107017517089844,
          5.262265205383301,
          18.303787231445312,
          -37.68682098388672,
          9.616473197937012,
          11.980111122131348,
          38.55374526977539,
          5.179206848144531
         ],
         "yaxis": "y"
        },
        {
         "customdata": [
          [
           "True Love (Feat. Lily Allen)"
          ],
          [
           "Dear Mr. President (feat. Indigo Girls)"
          ],
          [
           "Walk Me Home"
          ],
          [
           "Don't Let Me Get Me"
          ],
          [
           "U + Ur Hand"
          ],
          [
           "Trouble"
          ],
          [
           "I Am Here"
          ],
          [
           "90 Days (Feat. Wrabel)"
          ],
          [
           "(Hey Why) Miss You Sometime"
          ],
          [
           "Are We All We Are"
          ],
          [
           "Just Give Me A Reason (Feat. Nate Ruess)"
          ],
          [
           "A Million Dreams"
          ],
          [
           "F**kin' Perfect"
          ],
          [
           "Try"
          ],
          [
           "Who Knew"
          ],
          [
           "What About Us"
          ],
          [
           "Please Don't Leave Me"
          ],
          [
           "So What"
          ],
          [
           "Beautiful Trauma"
          ],
          [
           "Funhouse"
          ],
          [
           "Just Like Fire"
          ],
          [
           "Sober"
          ],
          [
           "Raise Your Glass"
          ],
          [
           "Blow Me (One Last Kiss)"
          ],
          [
           "Just Like A Pill"
          ]
         ],
         "hovertemplate": "artista=Pink<br>x=%{x}<br>y=%{y}<br>musica=%{customdata[0]}<extra></extra>",
         "legendgroup": "Pink",
         "marker": {
          "color": "#FFA15A",
          "opacity": 0.5,
          "symbol": "circle"
         },
         "mode": "markers",
         "name": "Pink",
         "showlegend": true,
         "type": "scattergl",
         "x": [
          -19.334012985229492,
          -3.7382771968841553,
          7.434145450592041,
          16.38697052001953,
          3.8904032707214355,
          9.701794624328613,
          20.67815399169922,
          -20.245670318603516,
          1.5623518228530884,
          5.893056869506836,
          32.187564849853516,
          23.661148071289062,
          18.63377571105957,
          -21.143512725830078,
          3.3372013568878174,
          -18.19931983947754,
          13.929261207580566,
          4.721236705780029,
          -17.999914169311523,
          -36.27872085571289,
          -18.02663803100586,
          -5.019429683685303,
          -19.97499656677246,
          -30.091432571411133,
          14.507122039794922
         ],
         "xaxis": "x",
         "y": [
          17.10499382019043,
          -18.78571891784668,
          39.82297134399414,
          -27.099544525146484,
          -30.71281623840332,
          -47.02409362792969,
          32.912803649902344,
          -0.44666948914527893,
          -11.287971496582031,
          10.611978530883789,
          -10.430503845214844,
          22.045673370361328,
          -30.571271896362305,
          33.264896392822266,
          -53.849117279052734,
          -44.798606872558594,
          -29.709543228149414,
          -38.0592155456543,
          -2.1410751342773438,
          -5.659183979034424,
          45.01322937011719,
          21.43204116821289,
          29.993106842041016,
          25.37871742248535,
          11.400912284851074
         ],
         "yaxis": "y"
        },
        {
         "customdata": [
          [
           "Another Brick In The Wall, Pt. 2"
          ],
          [
           "On The Turning Away"
          ],
          [
           "Echoes"
          ],
          [
           "Pigs (Three Different Ones)"
          ],
          [
           "Us And Them"
          ],
          [
           "Eclipse"
          ],
          [
           "Brain Damage"
          ],
          [
           "High Hopes"
          ],
          [
           "The Great Gig in the Sky"
          ],
          [
           "Coming Back To Life"
          ],
          [
           "Goodbye Blue Sky"
          ],
          [
           "Shine On You Crazy Diamond"
          ],
          [
           "In the Flesh?"
          ],
          [
           "Money"
          ],
          [
           "Breathe"
          ],
          [
           "Mother"
          ],
          [
           "Another Brick In The Wall, pt. 1"
          ],
          [
           "Hey You"
          ],
          [
           "Time"
          ],
          [
           "The Wall (complete)"
          ],
          [
           "Comfortably Numb"
          ],
          [
           "Wish You Were Here"
          ],
          [
           "Another Brick In The Wall"
          ],
          [
           "Speak to Me"
          ],
          [
           "Learning To Fly"
          ]
         ],
         "hovertemplate": "artista=Pink Floyd<br>x=%{x}<br>y=%{y}<br>musica=%{customdata[0]}<extra></extra>",
         "legendgroup": "Pink Floyd",
         "marker": {
          "color": "#19d3f3",
          "opacity": 0.5,
          "symbol": "circle"
         },
         "mode": "markers",
         "name": "Pink Floyd",
         "showlegend": true,
         "type": "scattergl",
         "x": [
          -7.438672065734863,
          28.336305618286133,
          25.865034103393555,
          -24.410017013549805,
          -3.8834028244018555,
          32.029544830322266,
          -41.809173583984375,
          -4.474276542663574,
          -27.036376953125,
          -4.897646427154541,
          -31.593311309814453,
          -31.078336715698242,
          -27.69292640686035,
          -25.92233657836914,
          -43.60563278198242,
          -32.166831970214844,
          -7.093483924865723,
          -3.8821427822113037,
          -43.41624450683594,
          -28.044384002685547,
          -34.116024017333984,
          17.691797256469727,
          -7.079378604888916,
          -36.550472259521484,
          -29.891536712646484
         ],
         "xaxis": "x",
         "y": [
          10.404019355773926,
          -21.96169090270996,
          7.15086555480957,
          -4.750736713409424,
          12.193316459655762,
          -32.3183708190918,
          0.6094030141830444,
          -33.151954650878906,
          -15.418524742126465,
          46.84297180175781,
          -13.56454086303711,
          -15.673165321350098,
          1.0438165664672852,
          -6.938727855682373,
          0.9563626646995544,
          6.114625930786133,
          9.275056838989258,
          -18.952863693237305,
          2.0725841522216797,
          -11.552298545837402,
          1.227343201637268,
          -34.22447204589844,
          9.963403701782227,
          8.318798065185547,
          2.568092107772827
         ],
         "yaxis": "y"
        },
        {
         "customdata": [
          [
           "On the Road (feat. Meek Mill and Lil Baby)"
          ],
          [
           "Circles"
          ],
          [
           "Yours Truly, Austin Post"
          ],
          [
           "Big Lie"
          ],
          [
           "Sunflower (With Swae Lee)"
          ],
          [
           "I Fall Apart"
          ],
          [
           "Over Now"
          ],
          [
           "Congratulations"
          ],
          [
           "A Thousand Bad Times"
          ],
          [
           "Deja Vu (Feat. Justin Bieber)"
          ],
          [
           "Enemies (Feat. DaBaby)"
          ],
          [
           "Hollywood's Bleeding"
          ],
          [
           "Wow."
          ],
          [
           "White Iverson"
          ],
          [
           "Blame It On Me"
          ],
          [
           "Take What You Want (feat. Ozzy Osbourne and Travis Scott)"
          ],
          [
           "Goodbyes (Feat. Young Thug)"
          ],
          [
           "Rockstar (feat. 21 Savage)"
          ],
          [
           "Stay"
          ],
          [
           "Better Now"
          ],
          [
           "Go Flex"
          ],
          [
           "Die for Me (Feat. Future and Halsey)"
          ],
          [
           "Paranoid"
          ],
          [
           "Psycho (feat. Ty Dolla $ign)"
          ],
          [
           "Saint-Tropez"
          ]
         ],
         "hovertemplate": "artista=Post Malone<br>x=%{x}<br>y=%{y}<br>musica=%{customdata[0]}<extra></extra>",
         "legendgroup": "Post Malone",
         "marker": {
          "color": "#FF6692",
          "opacity": 0.5,
          "symbol": "circle"
         },
         "mode": "markers",
         "name": "Post Malone",
         "showlegend": true,
         "type": "scattergl",
         "x": [
          -16.98675537109375,
          -1.406144380569458,
          -16.48163604736328,
          -10.575494766235352,
          -34.399681091308594,
          40.24782180786133,
          -25.145662307739258,
          -3.2230241298675537,
          -23.071666717529297,
          -17.070762634277344,
          -16.714826583862305,
          -17.23350715637207,
          -28.401124954223633,
          -24.627044677734375,
          -20.325695037841797,
          -2.4763426780700684,
          10.03385066986084,
          -24.377899169921875,
          -9.048799514770508,
          -32.253517150878906,
          -14.300854682922363,
          -15.51955509185791,
          -6.238898277282715,
          -17.713964462280273,
          -20.455503463745117
         ],
         "xaxis": "x",
         "y": [
          23.066287994384766,
          35.41214370727539,
          22.19354248046875,
          -2.229501247406006,
          24.988203048706055,
          -13.374241828918457,
          21.2784366607666,
          2.502448081970215,
          7.017337322235107,
          -13.456271171569824,
          27.594247817993164,
          28.17096710205078,
          5.342708587646484,
          -30.066692352294922,
          22.26058006286621,
          32.146610260009766,
          15.41081428527832,
          -3.5225844383239746,
          24.161996841430664,
          27.780071258544922,
          2.016451597213745,
          27.93701171875,
          24.470378875732422,
          8.670056343078613,
          20.382083892822266
         ],
         "yaxis": "y"
        },
        {
         "customdata": [
          [
           "Love Of My Life"
          ],
          [
           "I Want To Break Free"
          ],
          [
           "We Are The Champions"
          ],
          [
           "The Show Must Go On"
          ],
          [
           "Somebody To Love"
          ],
          [
           "Another One Bites The Dust"
          ],
          [
           "A Kind Of Magic"
          ],
          [
           "Crazy Little Thing Called Love"
          ],
          [
           "Don't Stop Me Now"
          ],
          [
           "We Will Rock You"
          ],
          [
           "20th Century Fox Fanfare"
          ],
          [
           "Who Wants To Live Forever"
          ],
          [
           "Fun It"
          ],
          [
           "(You're So Square) Baby I Don't Care"
          ],
          [
           "Bohemian Rhapsody"
          ],
          [
           "Doing All Right"
          ],
          [
           "I Was Born To Love You"
          ],
          [
           "Bohemian Rhapsody (B-Sensual & No!end Bootleg)"
          ],
          [
           "Forever"
          ],
          [
           "You're My Best Friend"
          ],
          [
           "In The Space Capsule"
          ],
          [
           "A Winter's Tale (Cosy Fireside Mix)"
          ],
          [
           "Radio Ga Ga"
          ],
          [
           "Killer Queen"
          ],
          [
           "Under Pressure (feat. David Bowie)"
          ]
         ],
         "hovertemplate": "artista=Queen<br>x=%{x}<br>y=%{y}<br>musica=%{customdata[0]}<extra></extra>",
         "legendgroup": "Queen",
         "marker": {
          "color": "#B6E880",
          "opacity": 0.5,
          "symbol": "circle"
         },
         "mode": "markers",
         "name": "Queen",
         "showlegend": true,
         "type": "scattergl",
         "x": [
          -27.984806060791016,
          -16.87495231628418,
          26.553585052490234,
          -8.184019088745117,
          -31.967397689819336,
          -41.72745132446289,
          26.12396240234375,
          -7.764255046844482,
          -9.127626419067383,
          18.001379013061523,
          -26.12875747680664,
          -33.51369857788086,
          6.189849853515625,
          -23.873945236206055,
          19.686416625976562,
          11.336037635803223,
          5.0047173500061035,
          19.0640869140625,
          -26.97764015197754,
          29.373815536499023,
          -26.122447967529297,
          13.65948486328125,
          0.2723906934261322,
          1.383697748184204,
          -27.174585342407227
         ],
         "xaxis": "x",
         "y": [
          -12.138470649719238,
          12.969178199768066,
          -41.47339630126953,
          19.78488540649414,
          -10.890539169311523,
          4.427508354187012,
          5.972781181335449,
          -28.049793243408203,
          26.06320571899414,
          -9.935086250305176,
          -62.59259796142578,
          23.495763778686523,
          41.56221008300781,
          14.6997652053833,
          -29.53938865661621,
          3.139077663421631,
          18.833290100097656,
          -14.92057991027832,
          -62.60733413696289,
          -1.439130187034607,
          -62.94207763671875,
          -49.464786529541016,
          -41.6763916015625,
          -41.03230667114258,
          -23.375024795532227
         ],
         "yaxis": "y"
        },
        {
         "customdata": [
          [
           "Pussy"
          ]
         ],
         "hovertemplate": "artista=Rammstein<br>x=%{x}<br>y=%{y}<br>musica=%{customdata[0]}<extra></extra>",
         "legendgroup": "Rammstein",
         "marker": {
          "color": "#FF97FF",
          "opacity": 0.5,
          "symbol": "circle"
         },
         "mode": "markers",
         "name": "Rammstein",
         "showlegend": true,
         "type": "scattergl",
         "x": [
          -20.247173309326172
         ],
         "xaxis": "x",
         "y": [
          -30.015975952148438
         ],
         "yaxis": "y"
        },
        {
         "customdata": [
          [
           "Snow (Hey Oh)"
          ],
          [
           "Californication"
          ],
          [
           "Otherside"
          ],
          [
           "The Power Of Equality"
          ],
          [
           "Easily"
          ],
          [
           "Suck My Kiss"
          ],
          [
           "Encore"
          ],
          [
           "Higher Ground"
          ],
          [
           "Universally Speaking"
          ],
          [
           "Soul To Squeeze"
          ],
          [
           "The Getaway"
          ],
          [
           "Dosed"
          ],
          [
           "Tell Me Baby"
          ],
          [
           "The Zephyr Song"
          ],
          [
           "Goodbye Angels"
          ],
          [
           "Don't Forget Me"
          ],
          [
           "By The Way"
          ],
          [
           "Scar Tissue"
          ],
          [
           "Dark Necessities"
          ],
          [
           "Under The Bridge"
          ],
          [
           "Dani California"
          ],
          [
           "Give It Away"
          ],
          [
           "Around The World"
          ],
          [
           "Road Trippin'"
          ],
          [
           "Can't Stop"
          ]
         ],
         "hovertemplate": "artista=Red Hot Chili Peppers<br>x=%{x}<br>y=%{y}<br>musica=%{customdata[0]}<extra></extra>",
         "legendgroup": "Red Hot Chili Peppers",
         "marker": {
          "color": "#FECB52",
          "opacity": 0.5,
          "symbol": "circle"
         },
         "mode": "markers",
         "name": "Red Hot Chili Peppers",
         "showlegend": true,
         "type": "scattergl",
         "x": [
          -36.53962707519531,
          1.7204097509384155,
          13.657998085021973,
          13.777432441711426,
          10.869732856750488,
          18.623493194580078,
          15.962881088256836,
          -4.817420959472656,
          9.746695518493652,
          2.662602186203003,
          9.672155380249023,
          2.5859246253967285,
          25.177019119262695,
          -33.76543426513672,
          9.087830543518066,
          34.495338439941406,
          -17.31941795349121,
          13.682861328125,
          8.822611808776855,
          -4.081800937652588,
          -23.738311767578125,
          -14.925436973571777,
          12.846183776855469,
          -44.43168258666992,
          3.4706623554229736
         ],
         "xaxis": "x",
         "y": [
          4.817348003387451,
          -40.7588005065918,
          -11.743841171264648,
          -48.080379486083984,
          15.320250511169434,
          -29.0842342376709,
          -34.17954635620117,
          -43.44868850708008,
          -9.974860191345215,
          29.157915115356445,
          -15.215323448181152,
          45.018184661865234,
          11.692741394042969,
          3.85142183303833,
          24.75281524658203,
          -14.951193809509277,
          -32.62360382080078,
          -37.16147994995117,
          9.912698745727539,
          21.72577476501465,
          -17.903778076171875,
          24.357881546020508,
          -33.4879035949707,
          2.635820150375366,
          16.525514602661133
         ],
         "yaxis": "y"
        },
        {
         "customdata": [
          [
           "Umbrella (feat. Jay Z)"
          ],
          [
           "Bitch Better Have My Money"
          ],
          [
           "Stay (feat. Mikky Ekko)"
          ],
          [
           "Take A Bow"
          ],
          [
           "Man Down"
          ],
          [
           "Needed Me"
          ],
          [
           "What's My Name (feat. Drake)"
          ],
          [
           "Only Girl (In The World)"
          ],
          [
           "We Found Love (feat. Calvin Harris)"
          ],
          [
           "Work (Feat. Drake)"
          ],
          [
           "Rude Boy"
          ],
          [
           "S&M"
          ],
          [
           "Don't Stop The Music"
          ],
          [
           "Love The Way You Lie"
          ],
          [
           "Kiss It Better"
          ],
          [
           "Rehab (feat. Justin Timberlake)"
          ],
          [
           "California King Bed"
          ],
          [
           "Where Have You Been"
          ],
          [
           "Consideration (feat. SZA)"
          ],
          [
           "Disturbia"
          ],
          [
           "If It's Lovin' That You Want"
          ],
          [
           "Hate That I Love You (feat. Ne-yo)"
          ],
          [
           "Unfaithful"
          ],
          [
           "Diamonds"
          ],
          [
           "Love On The Brain"
          ]
         ],
         "hovertemplate": "artista=Rihanna<br>x=%{x}<br>y=%{y}<br>musica=%{customdata[0]}<extra></extra>",
         "legendgroup": "Rihanna",
         "marker": {
          "color": "#636efa",
          "opacity": 0.5,
          "symbol": "circle"
         },
         "mode": "markers",
         "name": "Rihanna",
         "showlegend": true,
         "type": "scattergl",
         "x": [
          9.825541496276855,
          28.713125228881836,
          0.11669395118951797,
          20.63727569580078,
          2.2697901725769043,
          -18.01093101501465,
          -2.205116033554077,
          -3.085114002227783,
          -16.954832077026367,
          7.922008991241455,
          4.474401950836182,
          -22.870956420898438,
          37.53335952758789,
          14.435602188110352,
          -4.080216884613037,
          -8.023516654968262,
          19.668415069580078,
          26.007761001586914,
          -33.39812088012695,
          -5.41275691986084,
          8.352187156677246,
          2.5588810443878174,
          20.210834503173828,
          25.64987564086914,
          6.8775787353515625
         ],
         "xaxis": "x",
         "y": [
          -16.168655395507812,
          0.9775784015655518,
          31.556459426879883,
          -12.036050796508789,
          -6.195965766906738,
          29.966289520263672,
          29.131620407104492,
          -1.115615963935852,
          11.704480171203613,
          -40.79017639160156,
          -54.137969970703125,
          -10.585147857666016,
          -16.841140747070312,
          -42.925418853759766,
          30.141510009765625,
          -0.821619987487793,
          -38.308895111083984,
          -30.61904525756836,
          1.9321630001068115,
          -24.907798767089844,
          25.12759017944336,
          27.403066635131836,
          -16.170835494995117,
          2.6706690788269043,
          1.3505855798721313
         ],
         "yaxis": "y"
        },
        {
         "customdata": [
          [
           "People get ready"
          ],
          [
           "The First Cut Is The Deepest"
          ],
          [
           "What a Difference a Day Makes"
          ],
          [
           "Love Touch"
          ],
          [
           "Da Ya Think I'm Sexy (Feat. DNCE)"
          ],
          [
           "Some Guys Have All The Luck"
          ],
          [
           "You Are Everything"
          ],
          [
           "Have I Told You Lately"
          ],
          [
           "Fly Me To The Moon"
          ],
          [
           "Tonight's The Night"
          ],
          [
           "A Reason To Believe"
          ],
          [
           "All For Love"
          ],
          [
           "Baby Jane"
          ],
          [
           "Stop Loving Her Today"
          ],
          [
           "Forever Young"
          ],
          [
           "Maggie May"
          ],
          [
           "Every Beat Of My Heart"
          ],
          [
           "The Way You Look Tonight"
          ],
          [
           "You're In My Heart (The Final Acclaim)"
          ],
          [
           "Have You Ever Seen The Rain?"
          ],
          [
           "Sailing"
          ],
          [
           "I Don't Want To Talk About It"
          ],
          [
           "Young Turks"
          ],
          [
           "My Heart Can't Tell You No"
          ],
          [
           "It's A Heartache"
          ]
         ],
         "hovertemplate": "artista=Rod Stewart<br>x=%{x}<br>y=%{y}<br>musica=%{customdata[0]}<extra></extra>",
         "legendgroup": "Rod Stewart",
         "marker": {
          "color": "#EF553B",
          "opacity": 0.5,
          "symbol": "circle"
         },
         "mode": "markers",
         "name": "Rod Stewart",
         "showlegend": true,
         "type": "scattergl",
         "x": [
          27.326906204223633,
          -13.556431770324707,
          27.971372604370117,
          17.37702751159668,
          -9.694622993469238,
          -0.9272197484970093,
          16.683320999145508,
          -27.523935317993164,
          -1.9293396472930908,
          23.60261344909668,
          -7.232073783874512,
          -0.04125644639134407,
          -1.6069425344467163,
          3.824103593826294,
          -23.176353454589844,
          -29.30825424194336,
          27.946094512939453,
          19.559965133666992,
          19.938692092895508,
          11.01448917388916,
          24.563302993774414,
          -16.274917602539062,
          29.057369232177734,
          -32.50999450683594,
          -8.151853561401367
         ],
         "xaxis": "x",
         "y": [
          -24.141401290893555,
          26.87956428527832,
          12.95369815826416,
          5.219056606292725,
          40.79802322387695,
          42.016021728515625,
          -40.080482482910156,
          24.12950897216797,
          -8.198141098022461,
          -7.609228610992432,
          32.974327087402344,
          18.129539489746094,
          39.333492279052734,
          -27.171199798583984,
          -18.3040828704834,
          26.500486373901367,
          -23.46671485900879,
          9.881539344787598,
          4.774209499359131,
          -27.95949363708496,
          4.598025321960449,
          -3.6186940670013428,
          20.44822120666504,
          7.6194233894348145,
          -14.177775382995605
         ],
         "yaxis": "y"
        },
        {
         "customdata": [
          [
           "Too Good At Goodbyes"
          ],
          [
           "I Feel Love"
          ],
          [
           "Diamonds"
          ],
          [
           "Burning"
          ],
          [
           "Money On My Mind"
          ],
          [
           "Latch"
          ],
          [
           "I'm Not The Only One (Feat. A$AP Rocky)"
          ],
          [
           "Say It First"
          ],
          [
           "Writing's On The Wall"
          ],
          [
           "Fix You"
          ],
          [
           "Baby, You Make Me Crazy (Feat. The Dap-Kings Horns)"
          ],
          [
           "I'm Ready (With Demi Lovato)"
          ],
          [
           "Promises"
          ],
          [
           "Him"
          ],
          [
           "I'm Not The Only One"
          ],
          [
           "To Die For"
          ],
          [
           "Lay Me Down"
          ],
          [
           "Pray"
          ],
          [
           "Pray (Feat. Logic) (Remix)"
          ],
          [
           "My Oasis (Ft. Burna Boy)"
          ],
          [
           "How Do You Sleep?"
          ],
          [
           "Fire on Fire"
          ],
          [
           "Dancing With A Stranger (With Normani)"
          ],
          [
           "Stay With Me"
          ],
          [
           "La La La"
          ]
         ],
         "hovertemplate": "artista=Sam Smith<br>x=%{x}<br>y=%{y}<br>musica=%{customdata[0]}<extra></extra>",
         "legendgroup": "Sam Smith",
         "marker": {
          "color": "#00cc96",
          "opacity": 0.5,
          "symbol": "circle"
         },
         "mode": "markers",
         "name": "Sam Smith",
         "showlegend": true,
         "type": "scattergl",
         "x": [
          -7.882852554321289,
          5.56748104095459,
          -24.44561195373535,
          39.63835144042969,
          32.51542663574219,
          -13.601635932922363,
          31.05251693725586,
          13.254788398742676,
          -8.368078231811523,
          42.81905746459961,
          9.771635055541992,
          1.287030816078186,
          23.560544967651367,
          1.204089879989624,
          30.986997604370117,
          23.58326530456543,
          33.08697509765625,
          -18.823633193969727,
          -9.095423698425293,
          -8.166068077087402,
          14.047096252441406,
          20.000656127929688,
          38.47847366333008,
          -5.910653114318848,
          8.23189640045166
         ],
         "xaxis": "x",
         "y": [
          20.9455509185791,
          -21.61292839050293,
          -28.448551177978516,
          -13.346800804138184,
          -23.174076080322266,
          12.75020694732666,
          9.660773277282715,
          17.065149307250977,
          6.426016330718994,
          25.70729637145996,
          19.178142547607422,
          5.562405586242676,
          -23.239513397216797,
          -51.271461486816406,
          9.861790657043457,
          7.054782867431641,
          -0.5465871691703796,
          -30.406837463378906,
          -5.263424873352051,
          -17.875837326049805,
          29.7695369720459,
          -41.00736999511719,
          -4.067373752593994,
          -7.734737873077393,
          -14.105448722839355
         ],
         "yaxis": "y"
        },
        {
         "customdata": [
          [
           "Falling In Love"
          ],
          [
           "Rhythm Of Love"
          ],
          [
           "Drive"
          ],
          [
           "In Trance"
          ],
          [
           "Big City Nights"
          ],
          [
           "Blackout"
          ],
          [
           "Believe In Love"
          ],
          [
           "Love Of My Life (cover)"
          ],
          [
           "When You Came Into My Life"
          ],
          [
           "Humanity"
          ],
          [
           "When The Smoke Is Going Down"
          ],
          [
           "Dust In The Wind (cover)"
          ],
          [
           "Rock You Like A Hurricane"
          ],
          [
           "Life Is Too Short"
          ],
          [
           "Follow Your Heart"
          ],
          [
           "Under The Same Sun"
          ],
          [
           "Holiday"
          ],
          [
           "Send Me An Angel"
          ],
          [
           "You And I"
          ],
          [
           "Always Somewhere"
          ],
          [
           "Still Loving You"
          ],
          [
           "Wind Of Change"
          ],
          [
           "No One Like You"
          ],
          [
           "The Zoo"
          ]
         ],
         "hovertemplate": "artista=Scorpions<br>x=%{x}<br>y=%{y}<br>musica=%{customdata[0]}<extra></extra>",
         "legendgroup": "Scorpions",
         "marker": {
          "color": "#ab63fa",
          "opacity": 0.5,
          "symbol": "circle"
         },
         "mode": "markers",
         "name": "Scorpions",
         "showlegend": true,
         "type": "scattergl",
         "x": [
          0.9563480019569397,
          24.676258087158203,
          -11.955821990966797,
          -16.182783126831055,
          0.3678140938282013,
          -9.476125717163086,
          34.96413803100586,
          32.90462112426758,
          14.635127067565918,
          -6.74638032913208,
          12.110481262207031,
          25.743497848510742,
          23.556076049804688,
          18.987546920776367,
          33.81097412109375,
          7.00804328918457,
          29.01288414001465,
          34.82921600341797,
          31.342023849487305,
          3.0647811889648438,
          35.363014221191406,
          32.89753341674805,
          5.816364288330078,
          2.2404823303222656
         ],
         "xaxis": "x",
         "y": [
          -51.60945129394531,
          -15.503439903259277,
          38.97175598144531,
          11.136598587036133,
          -21.121198654174805,
          -37.61193084716797,
          14.253832817077637,
          -25.44138526916504,
          -16.244342803955078,
          -40.32998275756836,
          37.23880386352539,
          -41.24736022949219,
          -36.1249885559082,
          -43.1300048828125,
          14.961380958557129,
          38.39115524291992,
          6.543212413787842,
          -26.822046279907227,
          21.872421264648438,
          11.914314270019531,
          -2.12459659576416,
          -15.870059967041016,
          31.72747802734375,
          9.8683443069458
         ],
         "yaxis": "y"
        },
        {
         "customdata": [
          [
           "Good for You (feat. A$AP Rocky)"
          ],
          [
           "Dance Again"
          ],
          [
           "Revival"
          ],
          [
           "Girl Crush (Feat. Iggy Azalea)"
          ],
          [
           "Crowded Room (feat. 6lack)"
          ],
          [
           "Sober"
          ],
          [
           "Ring"
          ],
          [
           "Live Like There's no Tomorrow"
          ],
          [
           "Back To You"
          ],
          [
           "Love You Like a Love Song"
          ],
          [
           "Boyfriend"
          ],
          [
           "Feel Me"
          ],
          [
           "Hands To Myself"
          ],
          [
           "Fetish (Feat. Gucci Mane)"
          ],
          [
           "Vulnerable"
          ],
          [
           "A Year Without Rain"
          ],
          [
           "Who Says"
          ],
          [
           "Look At Her Now"
          ],
          [
           "Souvenir"
          ],
          [
           "Wolves (Feat. Marshmello)"
          ],
          [
           "Rare"
          ],
          [
           "The Heart Wants What It Wants"
          ],
          [
           "Lose You To Love Me"
          ],
          [
           "A Sweeter Place (Ft. Kid Cudi)"
          ],
          [
           "Same Old Love"
          ]
         ],
         "hovertemplate": "artista=Selena Gomez<br>x=%{x}<br>y=%{y}<br>musica=%{customdata[0]}<extra></extra>",
         "legendgroup": "Selena Gomez",
         "marker": {
          "color": "#FFA15A",
          "opacity": 0.5,
          "symbol": "circle"
         },
         "mode": "markers",
         "name": "Selena Gomez",
         "showlegend": true,
         "type": "scattergl",
         "x": [
          -26.76091957092285,
          -19.13256072998047,
          -10.86561107635498,
          -22.74265480041504,
          25.311010360717773,
          -33.01523971557617,
          -22.627408981323242,
          7.5149312019348145,
          -13.42723560333252,
          -33.19255828857422,
          15.614200592041016,
          34.79985809326172,
          17.4295711517334,
          39.26008987426758,
          7.411803245544434,
          -3.4336752891540527,
          5.494509220123291,
          -1.869665503501892,
          6.546718597412109,
          7.045425891876221,
          8.522976875305176,
          5.703891277313232,
          8.487112998962402,
          4.556215286254883,
          0.6309969425201416
         ],
         "xaxis": "x",
         "y": [
          8.84375,
          -21.699750900268555,
          -39.97492218017578,
          22.460294723510742,
          32.704833984375,
          29.18012809753418,
          3.657991409301758,
          36.617881774902344,
          44.12321090698242,
          8.460918426513672,
          22.457775115966797,
          13.34652042388916,
          12.128620147705078,
          19.0117244720459,
          17.858688354492188,
          4.864068508148193,
          -30.457408905029297,
          -14.780369758605957,
          -29.210420608520508,
          16.67633056640625,
          3.8990066051483154,
          26.565139770507812,
          -36.61433792114258,
          -33.054779052734375,
          23.478300094604492
         ],
         "yaxis": "y"
        },
        {
         "customdata": [
          [
           "La La La (Brasil 2014) (Part. Carlinhos Brown)"
          ],
          [
           "Try Everything"
          ],
          [
           "Loca (feat. Dizzee Rascal)"
          ],
          [
           "Whenever, Wherever"
          ],
          [
           "Can't Remember To Forget You (Feat. Rihanna)"
          ],
          [
           "Waka Waka (This Time For Africa)"
          ],
          [
           "Super Bowl LIV Halftime Show (With Jennifer Lopez Ft. Bad Bunny, J Balvin)"
          ],
          [
           "Hips Don't Lie (feat. Wyclef Jean)"
          ]
         ],
         "hovertemplate": "artista=Shakira<br>x=%{x}<br>y=%{y}<br>musica=%{customdata[0]}<extra></extra>",
         "legendgroup": "Shakira",
         "marker": {
          "color": "#19d3f3",
          "opacity": 0.5,
          "symbol": "circle"
         },
         "mode": "markers",
         "name": "Shakira",
         "showlegend": true,
         "type": "scattergl",
         "x": [
          5.97844123840332,
          1.6443008184432983,
          -28.389774322509766,
          22.82845687866211,
          -18.60477066040039,
          12.618812561035156,
          -16.197132110595703,
          -15.124828338623047
         ],
         "xaxis": "x",
         "y": [
          -39.08292007446289,
          -27.318082809448242,
          -6.244572639465332,
          -0.7915180921554565,
          17.110841751098633,
          -48.50135803222656,
          -29.979063034057617,
          -16.716339111328125
         ],
         "yaxis": "y"
        },
        {
         "customdata": [
          [
           "Wonder"
          ],
          [
           "No Promises"
          ],
          [
           "Youth (Feat. Khalid)"
          ],
          [
           "Bad Reputation"
          ],
          [
           "Life Of The Party"
          ],
          [
           "Roses"
          ],
          [
           "Nervous"
          ],
          [
           "Memories"
          ],
          [
           "Lost In Japan"
          ],
          [
           "I Know What You Did Last Summer (feat. Camila Cabello)"
          ],
          [
           "Fallin' All In You"
          ],
          [
           "Why"
          ],
          [
           "If I Can't Have You"
          ],
          [
           "Use Somebody"
          ],
          [
           "Imagination"
          ],
          [
           "In My Blood"
          ],
          [
           "Never Be Alone"
          ],
          [
           "Mercy"
          ],
          [
           "Stitches"
          ],
          [
           "Treat You Better"
          ],
          [
           "There's Nothing Holdin' Me Back"
          ],
          [
           "Señorita (With Camila Cabello)"
          ],
          [
           "Intro"
          ],
          [
           "Because I Had You"
          ],
          [
           "Like To Be You (Feat. Julia Michaels)"
          ]
         ],
         "hovertemplate": "artista=Shawn Mendes<br>x=%{x}<br>y=%{y}<br>musica=%{customdata[0]}<extra></extra>",
         "legendgroup": "Shawn Mendes",
         "marker": {
          "color": "#FF6692",
          "opacity": 0.5,
          "symbol": "circle"
         },
         "mode": "markers",
         "name": "Shawn Mendes",
         "showlegend": true,
         "type": "scattergl",
         "x": [
          -1.1180624961853027,
          21.565275192260742,
          18.466022491455078,
          2.4659066200256348,
          28.430953979492188,
          -13.371495246887207,
          9.207640647888184,
          28.444072723388672,
          8.927980422973633,
          -25.417949676513672,
          11.690298080444336,
          -16.3535099029541,
          -14.447458267211914,
          -8.12440013885498,
          20.830671310424805,
          16.909345626831055,
          19.494823455810547,
          29.199077606201172,
          23.58662986755371,
          33.44618225097656,
          18.786535263061523,
          -20.206205368041992,
          35.60711669921875,
          12.76513385772705,
          -6.486847400665283
         ],
         "xaxis": "x",
         "y": [
          10.67083740234375,
          -14.55260944366455,
          14.894296646118164,
          -29.945398330688477,
          6.133049011230469,
          24.922704696655273,
          42.679569244384766,
          -5.880111217498779,
          16.761648178100586,
          -20.74087905883789,
          3.5796916484832764,
          33.97477340698242,
          44.21987533569336,
          35.07728958129883,
          -34.42591094970703,
          -28.520326614379883,
          15.797037124633789,
          1.1692384481430054,
          -2.486917734146118,
          -32.08393859863281,
          15.561076164245605,
          7.690524578094482,
          -10.942239761352539,
          4.244624137878418,
          15.205209732055664
         ],
         "yaxis": "y"
        },
        {
         "customdata": [
          [
           "Big Girls Cry"
          ],
          [
           "Broken Glass"
          ],
          [
           "My Love"
          ],
          [
           "One Million Bullets"
          ],
          [
           "Saved My Life"
          ],
          [
           "Fire Meet Gasoline"
          ],
          [
           "Move Your Body"
          ],
          [
           "Helium"
          ],
          [
           "I'm Still Here"
          ],
          [
           "Moon"
          ],
          [
           "Chandelier (Piano Version)"
          ],
          [
           "Flames (With David Guetta)"
          ],
          [
           "Never Give Up"
          ],
          [
           "She Wolf"
          ],
          [
           "Alive"
          ],
          [
           "Together"
          ],
          [
           "Courage To Change"
          ],
          [
           "Cheap Thrills (feat. Sean Paul)"
          ],
          [
           "Unstoppable"
          ],
          [
           "Elastic Heart"
          ],
          [
           "Chandelier"
          ],
          [
           "Bird Set Free"
          ],
          [
           "Cheap Thrills"
          ],
          [
           "The Greatest"
          ],
          [
           "Titanium"
          ]
         ],
         "hovertemplate": "artista=Sia<br>x=%{x}<br>y=%{y}<br>musica=%{customdata[0]}<extra></extra>",
         "legendgroup": "Sia",
         "marker": {
          "color": "#B6E880",
          "opacity": 0.5,
          "symbol": "circle"
         },
         "mode": "markers",
         "name": "Sia",
         "showlegend": true,
         "type": "scattergl",
         "x": [
          15.9053316116333,
          -14.329122543334961,
          22.005916595458984,
          -10.021918296813965,
          -18.021047592163086,
          25.941734313964844,
          -16.446969985961914,
          -12.529356956481934,
          28.212732315063477,
          2.5519304275512695,
          5.429107666015625,
          21.190126419067383,
          -25.594512939453125,
          32.54526138305664,
          1.9521925449371338,
          -10.554948806762695,
          -4.343395233154297,
          -12.668082237243652,
          -19.398855209350586,
          8.419713973999023,
          5.433577537536621,
          -18.393430709838867,
          -12.685144424438477,
          -9.707573890686035,
          6.6474761962890625
         ],
         "xaxis": "x",
         "y": [
          -37.00320816040039,
          37.05559158325195,
          -42.90697479248047,
          -38.25244140625,
          -28.528398513793945,
          -35.669090270996094,
          -27.975021362304688,
          2.65132999420166,
          -21.188304901123047,
          16.976938247680664,
          -17.369102478027344,
          -37.006221771240234,
          21.793701171875,
          -13.11694049835205,
          -34.03302001953125,
          33.737457275390625,
          -1.2436518669128418,
          -9.217643737792969,
          -20.90614891052246,
          43.9140739440918,
          -17.371355056762695,
          26.571672439575195,
          -9.214478492736816,
          -4.698476314544678,
          -34.565284729003906
         ],
         "yaxis": "y"
        },
        {
         "customdata": [
          [
           "the last great american dynasty"
          ],
          [
           "All Too Well"
          ],
          [
           "epiphany"
          ],
          [
           "You Belong With Me"
          ],
          [
           "the lakes"
          ],
          [
           "hoax"
          ],
          [
           "I Knew You Were Trouble"
          ],
          [
           "Look What You Made Me Do"
          ],
          [
           "​mirrorball"
          ],
          [
           "Shake It Off"
          ],
          [
           "peace"
          ],
          [
           "illicit affairs"
          ],
          [
           "seven"
          ],
          [
           "my tears ricochet"
          ],
          [
           "cardigan"
          ],
          [
           "​betty"
          ],
          [
           "the 1"
          ],
          [
           "exile (Feat. Bon Iver)"
          ],
          [
           "mad woman"
          ],
          [
           "Lover"
          ],
          [
           "Love Story"
          ],
          [
           "august"
          ],
          [
           "this is me trying"
          ],
          [
           "Blank Space"
          ],
          [
           "invisible string"
          ]
         ],
         "hovertemplate": "artista=Taylor Swift<br>x=%{x}<br>y=%{y}<br>musica=%{customdata[0]}<extra></extra>",
         "legendgroup": "Taylor Swift",
         "marker": {
          "color": "#FF97FF",
          "opacity": 0.5,
          "symbol": "circle"
         },
         "mode": "markers",
         "name": "Taylor Swift",
         "showlegend": true,
         "type": "scattergl",
         "x": [
          -3.6325888633728027,
          7.378400802612305,
          -22.925884246826172,
          26.902189254760742,
          20.129444122314453,
          19.481708526611328,
          -9.403433799743652,
          21.748207092285156,
          -7.624981880187988,
          -38.69255447387695,
          -10.240018844604492,
          19.270431518554688,
          25.522993087768555,
          -9.908705711364746,
          13.842930793762207,
          15.860260009765625,
          10.871260643005371,
          7.702956676483154,
          -7.2365031242370605,
          -8.266156196594238,
          21.730472564697266,
          -7.075214385986328,
          13.504737854003906,
          24.886919021606445,
          -3.9195125102996826
         ],
         "xaxis": "x",
         "y": [
          46.29475021362305,
          39.08644104003906,
          7.6077423095703125,
          -30.635700225830078,
          -37.32204055786133,
          -38.564823150634766,
          15.595145225524902,
          0.320543110370636,
          0.7287597060203552,
          -19.693603515625,
          33.08869171142578,
          27.868915557861328,
          2.760014057159424,
          16.077503204345703,
          -11.656595230102539,
          31.89805793762207,
          34.4785041809082,
          19.38028335571289,
          28.42266082763672,
          4.37469482421875,
          -34.01557540893555,
          22.00274658203125,
          39.99330139160156,
          5.4825849533081055,
          -33.20546340942383
         ],
         "yaxis": "y"
        },
        {
         "customdata": [
          [
           "While My Guitar Gently Weeps"
          ],
          [
           "Something"
          ],
          [
           "Here Comes The Sun"
          ],
          [
           "Hello, Goodbye"
          ],
          [
           "Eleanor Rigby"
          ],
          [
           "Come Together"
          ],
          [
           "A Day In The Life"
          ],
          [
           "In My Life"
          ],
          [
           "Hey Jude"
          ],
          [
           "Help!"
          ],
          [
           "I Want To Hold Your Hand"
          ],
          [
           "Yellow Submarine"
          ],
          [
           "Blackbird"
          ],
          [
           "All My Loving"
          ],
          [
           "Don't Let Me Down"
          ],
          [
           "Oh! Darling"
          ],
          [
           "Let It Be"
          ],
          [
           "She Loves You"
          ],
          [
           "All You Need Is Love"
          ],
          [
           "Across The Universe"
          ],
          [
           "And I Love Her"
          ],
          [
           "A Hard Day's Night"
          ],
          [
           "Yesterday"
          ],
          [
           "Michelle"
          ],
          [
           "Strawberry Fields Forever"
          ]
         ],
         "hovertemplate": "artista=The Beatles<br>x=%{x}<br>y=%{y}<br>musica=%{customdata[0]}<extra></extra>",
         "legendgroup": "The Beatles",
         "marker": {
          "color": "#FECB52",
          "opacity": 0.5,
          "symbol": "circle"
         },
         "mode": "markers",
         "name": "The Beatles",
         "showlegend": true,
         "type": "scattergl",
         "x": [
          24.541603088378906,
          -10.409835815429688,
          -6.069986820220947,
          -25.923992156982422,
          -1.0256268978118896,
          -24.883955001831055,
          -0.38007158041000366,
          17.177751541137695,
          -0.39932313561439514,
          -1.003058910369873,
          14.335626602172852,
          -14.344196319580078,
          -43.06169509887695,
          15.848501205444336,
          4.577443599700928,
          -30.1893367767334,
          6.04921293258667,
          38.40132522583008,
          2.315584421157837,
          -25.58161735534668,
          -25.7335262298584,
          -29.988649368286133,
          3.144724130630493,
          -22.968544006347656,
          21.40734100341797
         ],
         "xaxis": "x",
         "y": [
          -13.85818099975586,
          36.946102142333984,
          29.963735580444336,
          12.096295356750488,
          -16.81479263305664,
          -11.513664245605469,
          46.86800765991211,
          49.05875778198242,
          15.257835388183594,
          25.769004821777344,
          -24.7560977935791,
          -2.5687179565429688,
          2.622955560684204,
          13.619977951049805,
          47.585838317871094,
          -17.54689598083496,
          49.07655334472656,
          -0.9178525805473328,
          -47.48873519897461,
          -9.294154167175293,
          -23.833223342895508,
          -5.057379245758057,
          -53.775596618652344,
          -33.0921630859375,
          -36.6607666015625
         ],
         "yaxis": "y"
        },
        {
         "customdata": [
          [
           "Save Your Tears"
          ],
          [
           "Hardest To Love"
          ],
          [
           "After Hours"
          ],
          [
           "Alone Again"
          ],
          [
           "Too Late"
          ],
          [
           "Reminder"
          ],
          [
           "The Hills (Feat. Eminem) (Remix)"
          ],
          [
           "Pray For Me (With Kendrick Lamar)"
          ],
          [
           "Escape From LA"
          ],
          [
           "Often"
          ],
          [
           "Faith"
          ],
          [
           "In Your Eyes (Feat. Doja Cat) (Remix)"
          ],
          [
           "Can't Feel My Face"
          ],
          [
           "In Your Eyes"
          ],
          [
           "Over Now (With Calvin Harris)"
          ],
          [
           "I Feel It Coming (Feat. Daft Punk)"
          ],
          [
           "The Hills"
          ],
          [
           "Starboy (Feat. Daft Punk)"
          ],
          [
           "Call Out My Name"
          ],
          [
           "Smile (With Juice WRLD)"
          ],
          [
           "Try Me"
          ],
          [
           "Die For You"
          ],
          [
           "Heartless"
          ],
          [
           "Blinding Lights"
          ],
          [
           "Earned It"
          ]
         ],
         "hovertemplate": "artista=The Weeknd<br>x=%{x}<br>y=%{y}<br>musica=%{customdata[0]}<extra></extra>",
         "legendgroup": "The Weeknd",
         "marker": {
          "color": "#636efa",
          "opacity": 0.5,
          "symbol": "circle"
         },
         "mode": "markers",
         "name": "The Weeknd",
         "showlegend": true,
         "type": "scattergl",
         "x": [
          -6.273748874664307,
          -26.136259078979492,
          -4.449803829193115,
          -17.573774337768555,
          -29.753395080566406,
          -11.157031059265137,
          -14.989137649536133,
          -8.6985445022583,
          1.920188307762146,
          16.002042770385742,
          1.2724295854568481,
          -6.266689777374268,
          -10.400958061218262,
          -6.104280948638916,
          -23.19948959350586,
          6.814403057098389,
          -14.907203674316406,
          -11.14267635345459,
          -19.595245361328125,
          -30.485502243041992,
          -1.8516173362731934,
          20.028427124023438,
          -37.28313064575195,
          4.928264617919922,
          35.1470832824707
         ],
         "xaxis": "x",
         "y": [
          28.1053409576416,
          12.931587219238281,
          15.185954093933105,
          0.23028485476970673,
          21.367319107055664,
          36.92441940307617,
          38.21370315551758,
          0.9341211915016174,
          3.5261709690093994,
          -21.8072566986084,
          6.203855514526367,
          14.001258850097656,
          12.166093826293945,
          13.97845458984375,
          -25.979080200195312,
          -7.931178569793701,
          38.23336410522461,
          -39.0147590637207,
          40.828285217285156,
          31.10614585876465,
          21.686954498291016,
          32.76579284667969,
          0.009606091305613518,
          13.751112937927246,
          -15.823553085327148
         ],
         "yaxis": "y"
        },
        {
         "customdata": [
          [
           "With Or Without You"
          ],
          [
           "Mysterious Ways"
          ],
          [
           "Song For Someone"
          ],
          [
           "Lights Of Home"
          ],
          [
           "All I Want Is You"
          ],
          [
           "You're The Best Thing About Me"
          ],
          [
           "Bad"
          ],
          [
           "Stay (Faraway, So Close)"
          ],
          [
           "Vertigo"
          ],
          [
           "Every Breaking Wave"
          ],
          [
           "I Still Haven't Found What I'm Looking For"
          ],
          [
           "City Of Blinding Lights"
          ],
          [
           "Summer Of Love"
          ],
          [
           "Love Is All We Have Left"
          ],
          [
           "Sweetest Thing"
          ],
          [
           "One"
          ],
          [
           "Let Your Love Be Known"
          ],
          [
           "Beautiful Day"
          ],
          [
           "Sunday Bloody Sunday"
          ],
          [
           "Pride (In The Name Of Love)"
          ],
          [
           "New Year's Day"
          ],
          [
           "Where The Streets Have No Name"
          ],
          [
           "Stuck In A Moment You Can't Get Out Of"
          ],
          [
           "Ordinary Love"
          ],
          [
           "Walk On"
          ]
         ],
         "hovertemplate": "artista=U2<br>x=%{x}<br>y=%{y}<br>musica=%{customdata[0]}<extra></extra>",
         "legendgroup": "U2",
         "marker": {
          "color": "#EF553B",
          "opacity": 0.5,
          "symbol": "circle"
         },
         "mode": "markers",
         "name": "U2",
         "showlegend": true,
         "type": "scattergl",
         "x": [
          21.308128356933594,
          -28.831890106201172,
          23.427692413330078,
          10.092081069946289,
          -44.15291213989258,
          24.347566604614258,
          -15.84009075164795,
          22.890766143798828,
          -8.78462028503418,
          42.94282150268555,
          47.00740432739258,
          -30.313743591308594,
          1.754047155380249,
          22.16224479675293,
          -23.718048095703125,
          2.5774569511413574,
          26.150375366210938,
          12.467107772827148,
          3.509315252304077,
          0.5480233430862427,
          -7.213317394256592,
          27.802995681762695,
          1.9401390552520752,
          33.26158142089844,
          32.83317184448242
         ],
         "xaxis": "x",
         "y": [
          -22.89537239074707,
          -11.033217430114746,
          -10.621997833251953,
          5.743199825286865,
          0.15006864070892334,
          20.90274429321289,
          -17.073881149291992,
          -22.795581817626953,
          -22.818500518798828,
          -25.895465850830078,
          -0.07417797297239304,
          -12.66943359375,
          -50.451908111572266,
          23.63579750061035,
          -8.134995460510254,
          -46.75636672973633,
          -15.444684028625488,
          -5.67014217376709,
          -41.6151237487793,
          -11.537504196166992,
          -24.005823135375977,
          8.749690055847168,
          37.09511184692383,
          3.431269884109497,
          -32.08359146118164
         ],
         "yaxis": "y"
        },
        {
         "customdata": [
          [
           "I Look To You"
          ],
          [
           "I Have Nothing"
          ],
          [
           "I Will Always Love You"
          ],
          [
           "Things You Say"
          ],
          [
           "Exhale (Shoop Shoop)"
          ],
          [
           "We Didn't Know (feat. Stevie Wonder)"
          ],
          [
           "I Believe In You And Me"
          ],
          [
           "How Will I Know"
          ],
          [
           "Jesus Loves Me"
          ],
          [
           "One Moment In Time"
          ],
          [
           "I Wanna Dance With Somebody (Who Loves Me)"
          ],
          [
           "Run To You"
          ],
          [
           "It's Not Right But It's Okay"
          ],
          [
           "Saving All My Love For You"
          ],
          [
           "When You Believe (feat. Mariah Carey)"
          ],
          [
           "Didn't We Almost Have It All"
          ],
          [
           "You Give Good Love"
          ],
          [
           "Greatest Love Of All"
          ],
          [
           "Queen of the Night\" (Film Version)"
          ],
          [
           "Where Do Broken Hearts Go"
          ],
          [
           "All The Man That I Need"
          ],
          [
           "My Love Is Your Love"
          ],
          [
           "I'm Every Woman"
          ],
          [
           "I Didn't Know My Own Strength"
          ],
          [
           "Try It On My Own"
          ]
         ],
         "hovertemplate": "artista=Whitney Houston<br>x=%{x}<br>y=%{y}<br>musica=%{customdata[0]}<extra></extra>",
         "legendgroup": "Whitney Houston",
         "marker": {
          "color": "#00cc96",
          "opacity": 0.5,
          "symbol": "circle"
         },
         "mode": "markers",
         "name": "Whitney Houston",
         "showlegend": true,
         "type": "scattergl",
         "x": [
          22.861053466796875,
          19.733240127563477,
          8.73202896118164,
          17.80825424194336,
          6.917792797088623,
          40.50767517089844,
          34.493431091308594,
          -8.862470626831055,
          19.25234031677246,
          9.950113296508789,
          37.029266357421875,
          35.90732192993164,
          -35.247257232666016,
          -2.6754777431488037,
          7.519940376281738,
          30.042909622192383,
          13.022665977478027,
          5.442551612854004,
          7.830572128295898,
          9.816986083984375,
          -27.214616775512695,
          3.233921766281128,
          24.876567840576172,
          21.243961334228516,
          -29.32525062561035
         ],
         "xaxis": "x",
         "y": [
          -21.321147918701172,
          -21.997779846191406,
          -24.62148666381836,
          -14.813605308532715,
          -36.059207916259766,
          -7.177444934844971,
          5.679475784301758,
          -31.409393310546875,
          -26.65949249267578,
          11.132801055908203,
          3.7538235187530518,
          4.9854655265808105,
          -5.570933818817139,
          19.30978012084961,
          5.4737396240234375,
          21.056509017944336,
          31.718631744384766,
          18.857439041137695,
          3.432379961013794,
          32.03272247314453,
          -13.040251731872559,
          32.14500427246094,
          -34.52166748046875,
          3.33272385597229,
          18.319732666015625
         ],
         "yaxis": "y"
        }
       ],
       "layout": {
        "legend": {
         "title": {
          "text": "artista"
         },
         "tracegroupgap": 0
        },
        "margin": {
         "t": 60
        },
        "template": {
         "data": {
          "bar": [
           {
            "error_x": {
             "color": "#2a3f5f"
            },
            "error_y": {
             "color": "#2a3f5f"
            },
            "marker": {
             "line": {
              "color": "#E5ECF6",
              "width": 0.5
             }
            },
            "type": "bar"
           }
          ],
          "barpolar": [
           {
            "marker": {
             "line": {
              "color": "#E5ECF6",
              "width": 0.5
             }
            },
            "type": "barpolar"
           }
          ],
          "carpet": [
           {
            "aaxis": {
             "endlinecolor": "#2a3f5f",
             "gridcolor": "white",
             "linecolor": "white",
             "minorgridcolor": "white",
             "startlinecolor": "#2a3f5f"
            },
            "baxis": {
             "endlinecolor": "#2a3f5f",
             "gridcolor": "white",
             "linecolor": "white",
             "minorgridcolor": "white",
             "startlinecolor": "#2a3f5f"
            },
            "type": "carpet"
           }
          ],
          "choropleth": [
           {
            "colorbar": {
             "outlinewidth": 0,
             "ticks": ""
            },
            "type": "choropleth"
           }
          ],
          "contour": [
           {
            "colorbar": {
             "outlinewidth": 0,
             "ticks": ""
            },
            "colorscale": [
             [
              0,
              "#0d0887"
             ],
             [
              0.1111111111111111,
              "#46039f"
             ],
             [
              0.2222222222222222,
              "#7201a8"
             ],
             [
              0.3333333333333333,
              "#9c179e"
             ],
             [
              0.4444444444444444,
              "#bd3786"
             ],
             [
              0.5555555555555556,
              "#d8576b"
             ],
             [
              0.6666666666666666,
              "#ed7953"
             ],
             [
              0.7777777777777778,
              "#fb9f3a"
             ],
             [
              0.8888888888888888,
              "#fdca26"
             ],
             [
              1,
              "#f0f921"
             ]
            ],
            "type": "contour"
           }
          ],
          "contourcarpet": [
           {
            "colorbar": {
             "outlinewidth": 0,
             "ticks": ""
            },
            "type": "contourcarpet"
           }
          ],
          "heatmap": [
           {
            "colorbar": {
             "outlinewidth": 0,
             "ticks": ""
            },
            "colorscale": [
             [
              0,
              "#0d0887"
             ],
             [
              0.1111111111111111,
              "#46039f"
             ],
             [
              0.2222222222222222,
              "#7201a8"
             ],
             [
              0.3333333333333333,
              "#9c179e"
             ],
             [
              0.4444444444444444,
              "#bd3786"
             ],
             [
              0.5555555555555556,
              "#d8576b"
             ],
             [
              0.6666666666666666,
              "#ed7953"
             ],
             [
              0.7777777777777778,
              "#fb9f3a"
             ],
             [
              0.8888888888888888,
              "#fdca26"
             ],
             [
              1,
              "#f0f921"
             ]
            ],
            "type": "heatmap"
           }
          ],
          "heatmapgl": [
           {
            "colorbar": {
             "outlinewidth": 0,
             "ticks": ""
            },
            "colorscale": [
             [
              0,
              "#0d0887"
             ],
             [
              0.1111111111111111,
              "#46039f"
             ],
             [
              0.2222222222222222,
              "#7201a8"
             ],
             [
              0.3333333333333333,
              "#9c179e"
             ],
             [
              0.4444444444444444,
              "#bd3786"
             ],
             [
              0.5555555555555556,
              "#d8576b"
             ],
             [
              0.6666666666666666,
              "#ed7953"
             ],
             [
              0.7777777777777778,
              "#fb9f3a"
             ],
             [
              0.8888888888888888,
              "#fdca26"
             ],
             [
              1,
              "#f0f921"
             ]
            ],
            "type": "heatmapgl"
           }
          ],
          "histogram": [
           {
            "marker": {
             "colorbar": {
              "outlinewidth": 0,
              "ticks": ""
             }
            },
            "type": "histogram"
           }
          ],
          "histogram2d": [
           {
            "colorbar": {
             "outlinewidth": 0,
             "ticks": ""
            },
            "colorscale": [
             [
              0,
              "#0d0887"
             ],
             [
              0.1111111111111111,
              "#46039f"
             ],
             [
              0.2222222222222222,
              "#7201a8"
             ],
             [
              0.3333333333333333,
              "#9c179e"
             ],
             [
              0.4444444444444444,
              "#bd3786"
             ],
             [
              0.5555555555555556,
              "#d8576b"
             ],
             [
              0.6666666666666666,
              "#ed7953"
             ],
             [
              0.7777777777777778,
              "#fb9f3a"
             ],
             [
              0.8888888888888888,
              "#fdca26"
             ],
             [
              1,
              "#f0f921"
             ]
            ],
            "type": "histogram2d"
           }
          ],
          "histogram2dcontour": [
           {
            "colorbar": {
             "outlinewidth": 0,
             "ticks": ""
            },
            "colorscale": [
             [
              0,
              "#0d0887"
             ],
             [
              0.1111111111111111,
              "#46039f"
             ],
             [
              0.2222222222222222,
              "#7201a8"
             ],
             [
              0.3333333333333333,
              "#9c179e"
             ],
             [
              0.4444444444444444,
              "#bd3786"
             ],
             [
              0.5555555555555556,
              "#d8576b"
             ],
             [
              0.6666666666666666,
              "#ed7953"
             ],
             [
              0.7777777777777778,
              "#fb9f3a"
             ],
             [
              0.8888888888888888,
              "#fdca26"
             ],
             [
              1,
              "#f0f921"
             ]
            ],
            "type": "histogram2dcontour"
           }
          ],
          "mesh3d": [
           {
            "colorbar": {
             "outlinewidth": 0,
             "ticks": ""
            },
            "type": "mesh3d"
           }
          ],
          "parcoords": [
           {
            "line": {
             "colorbar": {
              "outlinewidth": 0,
              "ticks": ""
             }
            },
            "type": "parcoords"
           }
          ],
          "pie": [
           {
            "automargin": true,
            "type": "pie"
           }
          ],
          "scatter": [
           {
            "marker": {
             "colorbar": {
              "outlinewidth": 0,
              "ticks": ""
             }
            },
            "type": "scatter"
           }
          ],
          "scatter3d": [
           {
            "line": {
             "colorbar": {
              "outlinewidth": 0,
              "ticks": ""
             }
            },
            "marker": {
             "colorbar": {
              "outlinewidth": 0,
              "ticks": ""
             }
            },
            "type": "scatter3d"
           }
          ],
          "scattercarpet": [
           {
            "marker": {
             "colorbar": {
              "outlinewidth": 0,
              "ticks": ""
             }
            },
            "type": "scattercarpet"
           }
          ],
          "scattergeo": [
           {
            "marker": {
             "colorbar": {
              "outlinewidth": 0,
              "ticks": ""
             }
            },
            "type": "scattergeo"
           }
          ],
          "scattergl": [
           {
            "marker": {
             "colorbar": {
              "outlinewidth": 0,
              "ticks": ""
             }
            },
            "type": "scattergl"
           }
          ],
          "scattermapbox": [
           {
            "marker": {
             "colorbar": {
              "outlinewidth": 0,
              "ticks": ""
             }
            },
            "type": "scattermapbox"
           }
          ],
          "scatterpolar": [
           {
            "marker": {
             "colorbar": {
              "outlinewidth": 0,
              "ticks": ""
             }
            },
            "type": "scatterpolar"
           }
          ],
          "scatterpolargl": [
           {
            "marker": {
             "colorbar": {
              "outlinewidth": 0,
              "ticks": ""
             }
            },
            "type": "scatterpolargl"
           }
          ],
          "scatterternary": [
           {
            "marker": {
             "colorbar": {
              "outlinewidth": 0,
              "ticks": ""
             }
            },
            "type": "scatterternary"
           }
          ],
          "surface": [
           {
            "colorbar": {
             "outlinewidth": 0,
             "ticks": ""
            },
            "colorscale": [
             [
              0,
              "#0d0887"
             ],
             [
              0.1111111111111111,
              "#46039f"
             ],
             [
              0.2222222222222222,
              "#7201a8"
             ],
             [
              0.3333333333333333,
              "#9c179e"
             ],
             [
              0.4444444444444444,
              "#bd3786"
             ],
             [
              0.5555555555555556,
              "#d8576b"
             ],
             [
              0.6666666666666666,
              "#ed7953"
             ],
             [
              0.7777777777777778,
              "#fb9f3a"
             ],
             [
              0.8888888888888888,
              "#fdca26"
             ],
             [
              1,
              "#f0f921"
             ]
            ],
            "type": "surface"
           }
          ],
          "table": [
           {
            "cells": {
             "fill": {
              "color": "#EBF0F8"
             },
             "line": {
              "color": "white"
             }
            },
            "header": {
             "fill": {
              "color": "#C8D4E3"
             },
             "line": {
              "color": "white"
             }
            },
            "type": "table"
           }
          ]
         },
         "layout": {
          "annotationdefaults": {
           "arrowcolor": "#2a3f5f",
           "arrowhead": 0,
           "arrowwidth": 1
          },
          "coloraxis": {
           "colorbar": {
            "outlinewidth": 0,
            "ticks": ""
           }
          },
          "colorscale": {
           "diverging": [
            [
             0,
             "#8e0152"
            ],
            [
             0.1,
             "#c51b7d"
            ],
            [
             0.2,
             "#de77ae"
            ],
            [
             0.3,
             "#f1b6da"
            ],
            [
             0.4,
             "#fde0ef"
            ],
            [
             0.5,
             "#f7f7f7"
            ],
            [
             0.6,
             "#e6f5d0"
            ],
            [
             0.7,
             "#b8e186"
            ],
            [
             0.8,
             "#7fbc41"
            ],
            [
             0.9,
             "#4d9221"
            ],
            [
             1,
             "#276419"
            ]
           ],
           "sequential": [
            [
             0,
             "#0d0887"
            ],
            [
             0.1111111111111111,
             "#46039f"
            ],
            [
             0.2222222222222222,
             "#7201a8"
            ],
            [
             0.3333333333333333,
             "#9c179e"
            ],
            [
             0.4444444444444444,
             "#bd3786"
            ],
            [
             0.5555555555555556,
             "#d8576b"
            ],
            [
             0.6666666666666666,
             "#ed7953"
            ],
            [
             0.7777777777777778,
             "#fb9f3a"
            ],
            [
             0.8888888888888888,
             "#fdca26"
            ],
            [
             1,
             "#f0f921"
            ]
           ],
           "sequentialminus": [
            [
             0,
             "#0d0887"
            ],
            [
             0.1111111111111111,
             "#46039f"
            ],
            [
             0.2222222222222222,
             "#7201a8"
            ],
            [
             0.3333333333333333,
             "#9c179e"
            ],
            [
             0.4444444444444444,
             "#bd3786"
            ],
            [
             0.5555555555555556,
             "#d8576b"
            ],
            [
             0.6666666666666666,
             "#ed7953"
            ],
            [
             0.7777777777777778,
             "#fb9f3a"
            ],
            [
             0.8888888888888888,
             "#fdca26"
            ],
            [
             1,
             "#f0f921"
            ]
           ]
          },
          "colorway": [
           "#636efa",
           "#EF553B",
           "#00cc96",
           "#ab63fa",
           "#FFA15A",
           "#19d3f3",
           "#FF6692",
           "#B6E880",
           "#FF97FF",
           "#FECB52"
          ],
          "font": {
           "color": "#2a3f5f"
          },
          "geo": {
           "bgcolor": "white",
           "lakecolor": "white",
           "landcolor": "#E5ECF6",
           "showlakes": true,
           "showland": true,
           "subunitcolor": "white"
          },
          "hoverlabel": {
           "align": "left"
          },
          "hovermode": "closest",
          "mapbox": {
           "style": "light"
          },
          "paper_bgcolor": "white",
          "plot_bgcolor": "#E5ECF6",
          "polar": {
           "angularaxis": {
            "gridcolor": "white",
            "linecolor": "white",
            "ticks": ""
           },
           "bgcolor": "#E5ECF6",
           "radialaxis": {
            "gridcolor": "white",
            "linecolor": "white",
            "ticks": ""
           }
          },
          "scene": {
           "xaxis": {
            "backgroundcolor": "#E5ECF6",
            "gridcolor": "white",
            "gridwidth": 2,
            "linecolor": "white",
            "showbackground": true,
            "ticks": "",
            "zerolinecolor": "white"
           },
           "yaxis": {
            "backgroundcolor": "#E5ECF6",
            "gridcolor": "white",
            "gridwidth": 2,
            "linecolor": "white",
            "showbackground": true,
            "ticks": "",
            "zerolinecolor": "white"
           },
           "zaxis": {
            "backgroundcolor": "#E5ECF6",
            "gridcolor": "white",
            "gridwidth": 2,
            "linecolor": "white",
            "showbackground": true,
            "ticks": "",
            "zerolinecolor": "white"
           }
          },
          "shapedefaults": {
           "line": {
            "color": "#2a3f5f"
           }
          },
          "ternary": {
           "aaxis": {
            "gridcolor": "white",
            "linecolor": "white",
            "ticks": ""
           },
           "baxis": {
            "gridcolor": "white",
            "linecolor": "white",
            "ticks": ""
           },
           "bgcolor": "#E5ECF6",
           "caxis": {
            "gridcolor": "white",
            "linecolor": "white",
            "ticks": ""
           }
          },
          "title": {
           "x": 0.05
          },
          "xaxis": {
           "automargin": true,
           "gridcolor": "white",
           "linecolor": "white",
           "ticks": "",
           "title": {
            "standoff": 15
           },
           "zerolinecolor": "white",
           "zerolinewidth": 2
          },
          "yaxis": {
           "automargin": true,
           "gridcolor": "white",
           "linecolor": "white",
           "ticks": "",
           "title": {
            "standoff": 15
           },
           "zerolinecolor": "white",
           "zerolinewidth": 2
          }
         }
        },
        "xaxis": {
         "anchor": "y",
         "domain": [
          0,
          1
         ],
         "title": {
          "text": "x"
         }
        },
        "yaxis": {
         "anchor": "x",
         "domain": [
          0,
          1
         ],
         "title": {
          "text": "y"
         }
        }
       }
      },
      "text/html": [
       "<div>                            <div id=\"ad2de553-b2da-4ac5-98df-898e79a94845\" class=\"plotly-graph-div\" style=\"height:525px; width:100%;\"></div>            <script type=\"text/javascript\">                require([\"plotly\"], function(Plotly) {                    window.PLOTLYENV=window.PLOTLYENV || {};                                    if (document.getElementById(\"ad2de553-b2da-4ac5-98df-898e79a94845\")) {                    Plotly.newPlot(                        \"ad2de553-b2da-4ac5-98df-898e79a94845\",                        [{\"customdata\": [[\"Let Go\"]], \"hovertemplate\": \"artista=-M- (Mathieu Chedid)<br>x=%{x}<br>y=%{y}<br>musica=%{customdata[0]}<extra></extra>\", \"legendgroup\": \"-M- (Mathieu Chedid)\", \"marker\": {\"color\": \"#636efa\", \"opacity\": 0.5, \"symbol\": \"circle\"}, \"mode\": \"markers\", \"name\": \"-M- (Mathieu Chedid)\", \"showlegend\": true, \"type\": \"scattergl\", \"x\": [-33.63623046875], \"xaxis\": \"x\", \"y\": [-27.567663192749023], \"yaxis\": \"y\"}, {\"customdata\": [[\"Someone Like You\"], [\"Hello\"], [\"River Lea\"], [\"If It Hadn't Been For Love\"], [\"Sweetest Devotion\"], [\"Chasing Pavements\"], [\"Lay Me Down\"], [\"Lovesong\"], [\"Love In The Dark\"], [\"Hometown Glory\"], [\"Remedy\"], [\"Million Years Ago\"], [\"Crazy For You\"], [\"Turning Tables\"], [\"Water Under The Bridge\"], [\"Set Fire To The Rain\"], [\"Send My Love (To Your New Lover)\"], [\"When We Were Young\"], [\"One and Only\"], [\"Rolling In The Deep\"], [\"Make You Feel My Love\"], [\"All I Ask\"], [\"Don't You Remember\"], [\"I Miss You\"], [\"Skyfall\"]], \"hovertemplate\": \"artista=Adele<br>x=%{x}<br>y=%{y}<br>musica=%{customdata[0]}<extra></extra>\", \"legendgroup\": \"Adele\", \"marker\": {\"color\": \"#EF553B\", \"opacity\": 0.5, \"symbol\": \"circle\"}, \"mode\": \"markers\", \"name\": \"Adele\", \"showlegend\": true, \"type\": \"scattergl\", \"x\": [-7.201765537261963, 1.2479243278503418, -32.35416793823242, 11.054877281188965, -2.760793685913086, -34.535709381103516, -15.27092170715332, -12.895197868347168, 12.300140380859375, -13.629315376281738, 25.17991065979004, 11.671737670898438, 13.490708351135254, -29.105958938598633, -17.572044372558594, -33.658329010009766, 21.420011520385742, 35.37652587890625, -30.12993812561035, 9.869873046875, 22.62364959716797, 17.730228424072266, -6.280256271362305, 37.12364196777344, 10.960926055908203], \"xaxis\": \"x\", \"y\": [31.894268035888672, -28.993196487426758, 22.003698348999023, 34.44562911987305, -24.448219299316406, -7.264033317565918, 22.978483200073242, 44.45638656616211, 26.583274841308594, -32.61623764038086, 22.930095672607422, 37.306312561035156, -47.891571044921875, 7.441415309906006, 36.26564407348633, 15.646580696105957, 18.459247589111328, 2.9411890506744385, -8.324193954467773, -6.914292335510254, -43.60413360595703, 25.73415756225586, 36.3387336730957, 12.864175796508789, -41.65700149536133], \"yaxis\": \"y\"}, {\"customdata\": [[\"Falling In Love (Is Hard On The Knees)\"], [\"Dude (Looks Like A Lady)\"], [\"Girls Of Summer\"], [\"The Other Side\"], [\"Full Circle\"], [\"Janie's Got a Gun\"], [\"Love In An Elevator\"], [\"Livin' On The Edge\"], [\"All Your Love\"], [\"What Could Have Been Love\"], [\"Sweet Emotion\"], [\"Sing For The Moment\"], [\"Pink\"], [\"Walk This Way\"], [\"Jaded\"], [\"Fly Away From Here\"], [\"Hole In My Soul\"], [\"Angel\"], [\"Amazing\"], [\"Crazy\"], [\"Dream On\"], [\"Cryin'\"], [\"I Don't Want To Miss A Thing\"], [\"What It Takes\"]], \"hovertemplate\": \"artista=Aerosmith<br>x=%{x}<br>y=%{y}<br>musica=%{customdata[0]}<extra></extra>\", \"legendgroup\": \"Aerosmith\", \"marker\": {\"color\": \"#00cc96\", \"opacity\": 0.5, \"symbol\": \"circle\"}, \"mode\": \"markers\", \"name\": \"Aerosmith\", \"showlegend\": true, \"type\": \"scattergl\", \"x\": [-36.528602600097656, 2.183455467224121, 23.043487548828125, -16.80832290649414, 4.741304397583008, 27.71894073486328, -2.8824703693389893, 37.803279876708984, -14.838639259338379, 12.046773910522461, -23.750003814697266, -25.540380477905273, 8.211097717285156, -6.341726779937744, -19.3444881439209, 15.713964462280273, -7.014540672302246, -8.900471687316895, -30.01699447631836, 28.453781127929688, -7.192610263824463, 16.058462142944336, 16.475332260131836, 0.21517768502235413], \"xaxis\": \"x\", \"y\": [4.58784818649292, 24.436525344848633, 21.758129119873047, 33.285911560058594, -40.276615142822266, 10.93662166595459, 0.2616785764694214, -17.133129119873047, 8.41642951965332, 27.291217803955078, 22.175687789916992, 26.68092918395996, 37.42319107055664, -0.17928829789161682, -31.00987434387207, -6.0322771072387695, 40.04982376098633, -31.711402893066406, -14.87342357635498, -32.08693313598633, 24.079710006713867, 32.50557327270508, -19.129419326782227, 32.6220588684082], \"yaxis\": \"y\"}, {\"customdata\": [[\"A Woman's Worth\"], [\"Authors Of Forever\"], [\"Girl On Fire (Inferno Version) (feat. Nicki Minaj)\"], [\"Gramercy Park\"], [\"Show Me Love (feat. Miguel)\"], [\"Me x 7 (feat. Tierra Whack)\"], [\"Time Machine\"], [\"Superwoman\"], [\"Brand New Me\"], [\"Wasted Energy\"], [\"You Don't Know My Name\"], [\"So Done (feat. Khalid)\"], [\"Underdog\"], [\"Love Looks Better\"], [\"Fallin'\"], [\"Girl On Fire\"], [\"No One\"], [\"You Save Me (feat. Snoh Aalegra)\"], [\"Empire State Of Mind (part. Ii)\"], [\"3 Hour Drive (feat. Sampha)\"], [\"If I Ain't Got You\"], [\"Empire State Of Mind\"], [\"Truth Without Love\"], [\"Karma\"], [\"Show Me Love (Ft. Miguel, 21 Savage) (Remix)\"]], \"hovertemplate\": \"artista=Alicia Keys<br>x=%{x}<br>y=%{y}<br>musica=%{customdata[0]}<extra></extra>\", \"legendgroup\": \"Alicia Keys\", \"marker\": {\"color\": \"#ab63fa\", \"opacity\": 0.5, \"symbol\": \"circle\"}, \"mode\": \"markers\", \"name\": \"Alicia Keys\", \"showlegend\": true, \"type\": \"scattergl\", \"x\": [6.457646369934082, 40.54185104370117, 21.906448364257812, -19.00889015197754, 6.040074825286865, -38.438228607177734, 5.477855682373047, 18.189191818237305, 8.578460693359375, -0.9661933183670044, -18.23463249206543, -37.08202362060547, 5.7764668464660645, 10.643702507019043, -1.321120023727417, 21.889211654663086, -36.90334701538086, 14.411391258239746, -3.770857095718384, 28.91972541809082, 17.91554069519043, -27.349191665649414, -0.08987218886613846, -11.316324234008789, 2.022989273071289], \"xaxis\": \"x\", \"y\": [-30.915836334228516, 8.874080657958984, 8.188918113708496, -35.54804611206055, -21.337125778198242, -10.545836448669434, -41.951045989990234, -36.72754669189453, 43.268592834472656, -52.543704986572266, 2.923158884048462, -3.2076783180236816, -44.623966217041016, -30.909164428710938, -28.76538848876953, 8.20748519897461, 3.598339557647705, 33.47698211669922, -24.061349868774414, -31.013399124145508, 7.852120876312256, -15.567733764648438, 0.19869379699230194, -35.28506088256836, -12.253242492675781], \"yaxis\": \"y\"}, {\"customdata\": [[\"Beauty and The Beast (Feat. John Legend)\"], [\"fake smile\"], [\"make up\"], [\"Love Me Harder (Feat. The Weeknd)\"], [\"in my head\"], [\"Don't Call Me Angel (With Miley Cyrus, Lana Del Rey)\"], [\"Break Free (Feat. Zedd)\"], [\"imagine\"], [\"(You Make Me Feel Like) a Natural Woman (Aretha Franklin tribute)\"], [\"bloodline\"], [\"breathin\"], [\"needy\"], [\"break up with your girlfriend, i'm bored\"], [\"Into You\"], [\"Side to Side (Feat. Nicki Minaj)\"], [\"no tears left to cry\"], [\"One Last Time\"], [\"God is a woman\"], [\"thank u, next\"], [\"7 rings\"], [\"Stuck With U (with Justin Bieber)\"], [\"Dangerous Woman\"], [\"How I Look On You\"], [\"Problem (feat. Iggy Azalea)\"], [\"I Have Nothing\"]], \"hovertemplate\": \"artista=Ariana Grande<br>x=%{x}<br>y=%{y}<br>musica=%{customdata[0]}<extra></extra>\", \"legendgroup\": \"Ariana Grande\", \"marker\": {\"color\": \"#FFA15A\", \"opacity\": 0.5, \"symbol\": \"circle\"}, \"mode\": \"markers\", \"name\": \"Ariana Grande\", \"showlegend\": true, \"type\": \"scattergl\", \"x\": [28.197307586669922, -8.83516788482666, -10.002593994140625, -13.12346363067627, 4.682246685028076, 8.824748039245605, -5.509211540222168, 7.832644939422607, 14.046293258666992, -15.396584510803223, -20.439796447753906, -13.136841773986816, -14.45126724243164, -26.32143783569336, 1.153213381767273, -15.145119667053223, 27.417879104614258, 4.160775661468506, -22.629302978515625, -25.672576904296875, -24.142005920410156, -23.948434829711914, -42.60163879394531, -43.9879264831543, 19.67707633972168], \"xaxis\": \"x\", \"y\": [-45.68761444091797, -3.619987726211548, 48.154022216796875, 14.484952926635742, 3.5414485931396484, -0.11203454434871674, 41.31028366088867, -30.454221725463867, 14.216508865356445, -6.7857489585876465, 30.347108840942383, 34.26393127441406, -6.203261852264404, 37.46689987182617, 2.996076822280884, 15.457036972045898, 38.27228546142578, -1.2964601516723633, -29.495418548583984, 41.864723205566406, 33.29357147216797, -26.460886001586914, 19.93696403503418, -8.234273910522461, -21.995927810668945], \"yaxis\": \"y\"}, {\"customdata\": [[\"We Are Warriors\"], [\"Girlfriend\"], [\"Complicated\"], [\"I'm With You\"], [\"When You're Gone\"], [\"Wish You Were Here\"], [\"Sk8er Boi\"], [\"Rock N Roll\"], [\"My Happy Ending\"], [\"Smile\"], [\"Nobody's Home\"], [\"Head Above Water\"], [\"What The Hell\"], [\"Don't Tell Me\"], [\"Let Me Go (Feat. Chad Kroeger)\"], [\"The Best Damn Thing\"], [\"Innocence\"], [\"Hot\"], [\"Tomorrow\"], [\"Keep Holding On\"], [\"Losing Grip\"], [\"I Fell In Love With The Devil\"], [\"Goodbye\"], [\"Things I'll Never Say\"], [\"Nobody's Fool\"]], \"hovertemplate\": \"artista=Avril Lavigne<br>x=%{x}<br>y=%{y}<br>musica=%{customdata[0]}<extra></extra>\", \"legendgroup\": \"Avril Lavigne\", \"marker\": {\"color\": \"#19d3f3\", \"opacity\": 0.5, \"symbol\": \"circle\"}, \"mode\": \"markers\", \"name\": \"Avril Lavigne\", \"showlegend\": true, \"type\": \"scattergl\", \"x\": [-0.3820280432701111, -32.70554733276367, -34.63431930541992, 11.308241844177246, 18.141063690185547, 10.160479545593262, 2.8904330730438232, 9.620500564575195, -1.3922847509384155, -0.6549468636512756, -38.71126174926758, 41.58161163330078, -9.623542785644531, -27.929285049438477, 5.464297771453857, -13.103981018066406, 16.94095802307129, 39.363182067871094, 1.2459956407546997, -11.00671100616455, 13.48918628692627, -21.111051559448242, -21.992855072021484, 15.266440391540527, 7.952692985534668], \"xaxis\": \"x\", \"y\": [-19.58268165588379, -2.650531053543091, -2.1231589317321777, -26.15096092224121, -42.214752197265625, -26.402095794677734, 41.87955856323242, -30.81804656982422, 2.5702099800109863, -31.965608596801758, 9.126150131225586, -13.374484062194824, 9.207579612731934, 21.67328643798828, 47.568946838378906, 28.75122833251953, 8.905441284179688, -23.279983520507812, -36.74123001098633, 19.962081909179688, -19.923328399658203, -8.324170112609863, -22.74388313293457, 14.03528881072998, -13.42994499206543], \"yaxis\": \"y\"}, {\"customdata\": [[\"Savage Love (Laxed - Siren Beat) [BTS Remix]\"], [\"Dynamite\"]], \"hovertemplate\": \"artista=BTS<br>x=%{x}<br>y=%{y}<br>musica=%{customdata[0]}<extra></extra>\", \"legendgroup\": \"BTS\", \"marker\": {\"color\": \"#FF6692\", \"opacity\": 0.5, \"symbol\": \"circle\"}, \"mode\": \"markers\", \"name\": \"BTS\", \"showlegend\": true, \"type\": \"scattergl\", \"x\": [-26.031217575073242, 2.0691263675689697], \"xaxis\": \"x\", \"y\": [-31.419538497924805, 11.354116439819336], \"yaxis\": \"y\"}, {\"customdata\": [[\"Quit Playing Games (With My Heart)\"], [\"As Long As You Love Me\"], [\"Everybody (Backstreet's Back)\"], [\"Incomplete\"], [\"All I Have To Give\"], [\"Drowning\"], [\"Don't Go Breaking My Heart\"], [\"Show Me The Meaning Of Being Lonely\"], [\"No Place\"], [\"I Still...\"], [\"Chateau\"], [\"Nobody Else\"], [\"We've Got It Goin' On\"], [\"New Love\"], [\"The One\"], [\"Helpless When She Smiles\"], [\"I'll Never Break Your Heart\"], [\"Breathe (2019)\"], [\"Larger Than Life\"], [\"The Call\"], [\"Don't Wanna Lose You Now\"], [\"Chances\"], [\"I Want It That Way\"], [\"Shape Of My Heart\"], [\"Inconsolable\"]], \"hovertemplate\": \"artista=Backstreet Boys<br>x=%{x}<br>y=%{y}<br>musica=%{customdata[0]}<extra></extra>\", \"legendgroup\": \"Backstreet Boys\", \"marker\": {\"color\": \"#B6E880\", \"opacity\": 0.5, \"symbol\": \"circle\"}, \"mode\": \"markers\", \"name\": \"Backstreet Boys\", \"showlegend\": true, \"type\": \"scattergl\", \"x\": [-19.95009422302246, 15.774374961853027, -2.658665418624878, 3.9883363246917725, -14.061565399169922, 33.842769622802734, -17.722827911376953, 4.430221080780029, -36.290828704833984, -30.619035720825195, -14.24576187133789, 0.6851547360420227, -24.57467269897461, -0.10942196846008301, 25.134902954101562, 15.053018569946289, 13.38033676147461, 14.074559211730957, 10.726621627807617, -27.62970733642578, 8.603087425231934, 31.318166732788086, -29.083070755004883, -16.14986228942871, -5.055305004119873], \"xaxis\": \"x\", \"y\": [-11.848701477050781, -39.62543487548828, -42.682682037353516, 40.05464553833008, 31.734474182128906, 10.127960205078125, 32.589202880859375, 16.767498016357422, 21.6108455657959, -2.9854893684387207, -6.032585144042969, 12.420331001281738, 34.289608001708984, -3.1934497356414795, -3.165705680847168, -42.18354034423828, 31.5732421875, -42.8804931640625, 13.651361465454102, -13.643181800842285, 18.06909942626953, -16.67190170288086, -24.88643455505371, 30.027616500854492, -13.45706558227539], \"yaxis\": \"y\"}, {\"customdata\": [[\"Rocket\"], [\"Halo\"], [\"Irreplaceable\"], [\"If I Were A Boy\"], [\"Pretty Hurts\"], [\"Listen\"], [\"Brown Skin Girl (With Saint Jhn and Wizkid feat. Blue Ivy Carter)\"], [\"Crazy In Love (feat. Jay Z)\"], [\"***Flawless (Feat. Chimamanda Ngozi Adichie)\"], [\"Formation\"], [\"Freedom (Feat. Kendrick Lamar)\"], [\"Me, Myself And I\"], [\"Love On Top\"], [\"Diva\"], [\"Already (with Shatta Wale and Major Lazer)\"], [\"My Power (With Tierra Whack, Moonchild Sanelly, Nija)\"], [\"***Flawless (Feat. Nicki Minaj)\"], [\"Hold Up\"], [\"Ego\"], [\"Black Parade\"], [\"Sorry\"], [\"I Was Here\"], [\"Single Ladies (Put A Ring On It)\"], [\"Hello\"], [\"Spirit\"]], \"hovertemplate\": \"artista=Beyonc\\u00e9<br>x=%{x}<br>y=%{y}<br>musica=%{customdata[0]}<extra></extra>\", \"legendgroup\": \"Beyonc\\u00e9\", \"marker\": {\"color\": \"#FF97FF\", \"opacity\": 0.5, \"symbol\": \"circle\"}, \"mode\": \"markers\", \"name\": \"Beyonc\\u00e9\", \"showlegend\": true, \"type\": \"scattergl\", \"x\": [5.816309452056885, -15.193469047546387, -29.748823165893555, 35.79582214355469, 8.3477783203125, -3.3895888328552246, 1.0748878717422485, -27.69899559020996, 10.48949909210205, -31.252965927124023, -9.323216438293457, 15.217109680175781, -1.4168941974639893, -25.78461456298828, 1.2697488069534302, -19.337718963623047, -17.21253204345703, -6.343153953552246, -20.019203186035156, -23.843318939208984, -22.68988037109375, 16.979305267333984, -6.637321472167969, -1.843060851097107, 1.938265323638916], \"xaxis\": \"x\", \"y\": [-31.144920349121094, 6.317304611206055, 5.968301296234131, -3.39697527885437, -44.068016052246094, -41.120548248291016, 23.914758682250977, 18.9569091796875, -35.444522857666016, 21.672643661499023, -6.447118282318115, 22.938329696655273, 19.462385177612305, 2.6727371215820312, 27.798019409179688, -2.4971632957458496, 0.3746374547481537, 12.832079887390137, 10.455080032348633, 1.165626883506775, -26.169231414794922, -45.547576904296875, 44.26866149902344, -51.445579528808594, 10.781689643859863], \"yaxis\": \"y\"}, {\"customdata\": [[\"No Time To Die\"], [\"\\u200bwhen the party's over\"], [\"I Love You\"], [\"Lovely (with Khalid)\"], [\"Everything I Wanted\"], [\"Ocean Eyes\"], [\"my future\"], [\"All The Good Girls Go To Hell\"], [\"Idontwannabeyouanymore\"], [\"My Strange Addiction\"], [\"Ilomilo\"], [\"Xanny\"], [\"Bad Guy\"]], \"hovertemplate\": \"artista=Billie Eilish<br>x=%{x}<br>y=%{y}<br>musica=%{customdata[0]}<extra></extra>\", \"legendgroup\": \"Billie Eilish\", \"marker\": {\"color\": \"#FECB52\", \"opacity\": 0.5, \"symbol\": \"circle\"}, \"mode\": \"markers\", \"name\": \"Billie Eilish\", \"showlegend\": true, \"type\": \"scattergl\", \"x\": [21.85188102722168, -9.54725170135498, -9.686113357543945, -4.401978015899658, 37.68269729614258, 5.1962504386901855, 25.179336547851562, 21.543123245239258, 35.917823791503906, 11.67048168182373, 33.01220703125, 18.05718994140625, 19.877172470092773], \"xaxis\": \"x\", \"y\": [-1.8327913284301758, 30.90937042236328, 22.353849411010742, -12.563257217407227, -4.947059631347656, -31.711851119995117, -30.420026779174805, -3.407508611679077, -4.7977986335754395, -14.321712493896484, 8.665853500366211, -4.188491344451904, -2.880671262741089], \"yaxis\": \"y\"}, {\"customdata\": [[\"Missing You\"], [\"Big Love\"], [\"Just Can't Get Enough\"], [\"Don't Phunk With My Heart\"], [\"Girl Like Me (With Shakira)\"], [\"Feel The Beat (With Maluma)\"], [\"Let's Get It Started\"], [\"eXplosion (With Anitta)\"], [\"I Gotta Feeling\"], [\"Where Is The Love?\"], [\"RITMO (Bad Boys For Life) (With J Balvin)\"], [\"MAMACITA (With Ozuna & J. Rey Soul)\"], [\"Vida Loca (With Nicky Jam and Tyga)\"], [\"ACTION\"], [\"Don't Lie\"], [\"Pump It\"], [\"Mas Que Nada\"], [\"Boom Boom Pow\"], [\"Meet Me Halfway\"], [\"Shut Up\"], [\"The Time (Dirty Bit)\"], [\"On My Own\"], [\"My Humps\"]], \"hovertemplate\": \"artista=Black Eyed Peas<br>x=%{x}<br>y=%{y}<br>musica=%{customdata[0]}<extra></extra>\", \"legendgroup\": \"Black Eyed Peas\", \"marker\": {\"color\": \"#636efa\", \"opacity\": 0.5, \"symbol\": \"circle\"}, \"mode\": \"markers\", \"name\": \"Black Eyed Peas\", \"showlegend\": true, \"type\": \"scattergl\", \"x\": [-29.20353126525879, 1.774609088897705, -28.471158981323242, -32.553043365478516, -25.531583786010742, 6.099315643310547, -25.45228385925293, -18.099740982055664, -15.700446128845215, -0.9528579711914062, -24.319782257080078, -26.28238868713379, -33.458003997802734, -8.310097694396973, -32.74026107788086, -23.711084365844727, -26.104761123657227, -9.670183181762695, -11.070033073425293, 19.890954971313477, 11.452628135681152, -13.35669231414795, -32.0545539855957], \"xaxis\": \"x\", \"y\": [-1.3463152647018433, -13.575971603393555, 3.988292694091797, 7.777339458465576, -30.227828979492188, -8.31047248840332, 5.172343730926514, -33.046024322509766, 15.57690143585205, -14.079668998718262, 0.7219268083572388, -29.712074279785156, -27.016767501831055, -40.52589416503906, 28.72157096862793, -10.679767608642578, -32.54294967651367, -25.03781509399414, 25.307130813598633, -9.68031120300293, -5.410276889801025, -26.312854766845703, 3.4832489490509033], \"yaxis\": \"y\"}, {\"customdata\": [[\"Buffalo Soldier\"], [\"Exodus\"], [\"I Shot The Sheriff\"], [\"Soul Rebel\"], [\"Kaya\"], [\"Get Up Stand Up\"], [\"Coming In From The Cold\"], [\"Lively Up Yourself\"], [\"Slave Driver\"], [\"Iron Lion Zion\"], [\"Turn Your Lights Down Low\"], [\"Stir It Up\"], [\"Concrete Jungle\"], [\"Satisfy My Soul\"], [\"Three Little Birds\"], [\"Is This Love?\"], [\"Redemption Song\"], [\"No Woman No Cry\"], [\"One Love / People Get Ready\"], [\"Jammin'\"], [\"Natural Mystic\"], [\"Waiting In Vain\"], [\"Sun Is Shining\"], [\"Could You Be Loved\"], [\"Positive Vibration\"]], \"hovertemplate\": \"artista=Bob Marley<br>x=%{x}<br>y=%{y}<br>musica=%{customdata[0]}<extra></extra>\", \"legendgroup\": \"Bob Marley\", \"marker\": {\"color\": \"#EF553B\", \"opacity\": 0.5, \"symbol\": \"circle\"}, \"mode\": \"markers\", \"name\": \"Bob Marley\", \"showlegend\": true, \"type\": \"scattergl\", \"x\": [-31.805910110473633, -30.20932960510254, -17.328012466430664, -29.51038932800293, -16.190828323364258, -27.108896255493164, 36.7254524230957, -16.03643035888672, 17.473791122436523, -20.632305145263672, -28.60931968688965, -24.322097778320312, -28.024517059326172, -12.143383979797363, -29.643980026245117, -26.7940616607666, -16.817045211791992, 33.813621520996094, -33.07218933105469, -30.06668472290039, 33.138389587402344, -9.108831405639648, -10.563852310180664, -17.525821685791016, -29.254703521728516], \"xaxis\": \"x\", \"y\": [-21.320253372192383, -33.207435607910156, -1.5405528545379639, -23.51601791381836, 24.377216339111328, 6.581132888793945, 7.136279106140137, 38.18981170654297, 40.560176849365234, 1.9880651235580444, 7.015447616577148, 32.35204315185547, 14.59525203704834, 38.67454528808594, -9.555802345275879, 26.05406379699707, -18.993099212646484, -3.4584407806396484, 19.811574935913086, -27.91859245300293, -18.893693923950195, -11.86877727508545, 27.163820266723633, -22.213438034057617, -27.884471893310547], \"yaxis\": \"y\"}, {\"customdata\": [[\"Story Of Love\"], [\"Livin' On A Prayer\"], [\"Beautiful Drug\"], [\"Blood In The Water\"], [\"Bed Of Roses\"], [\"I'll Be There For You\"], [\"Misunderstood\"], [\"Do What You Can\"], [\"Let It Rain\"], [\"You Give Love A Bad Name\"], [\"Limitless\"], [\"Lower The Flag\"], [\"Always\"], [\"Brothers In Arms\"], [\"Thank You For Loving Me\"], [\"American Reckoning\"], [\"These Days\"], [\"Have a Nice Day\"], [\"Wanted Dead Or Alive\"], [\"This Ain't A Love Song\"], [\"Never Say Goodbye\"], [\"Miracle\"], [\"Do What You Can (With Jennifer Nettles)\"], [\"Blaze Of Glory\"], [\"It's My Life\"]], \"hovertemplate\": \"artista=Bon Jovi<br>x=%{x}<br>y=%{y}<br>musica=%{customdata[0]}<extra></extra>\", \"legendgroup\": \"Bon Jovi\", \"marker\": {\"color\": \"#00cc96\", \"opacity\": 0.5, \"symbol\": \"circle\"}, \"mode\": \"markers\", \"name\": \"Bon Jovi\", \"showlegend\": true, \"type\": \"scattergl\", \"x\": [-26.524303436279297, 32.450504302978516, 15.237822532653809, 25.035022735595703, 14.058835983276367, -3.283066987991333, -3.0429928302764893, 42.53739929199219, -17.641042709350586, 35.6610107421875, 21.70797348022461, -14.457624435424805, 5.1235527992248535, -19.273704528808594, 27.5373592376709, 3.5751748085021973, -28.178070068359375, -29.830059051513672, -18.922264099121094, -4.230060577392578, 16.22730827331543, 25.60865592956543, 42.54618453979492, 21.685871124267578, 19.779634475708008], \"xaxis\": \"x\", \"y\": [29.349573135375977, -41.44403076171875, -8.770771026611328, -39.44925308227539, 10.315812110900879, 54.1834602355957, -32.51100540161133, 3.1484525203704834, -33.93659210205078, 15.46501636505127, -27.330333709716797, -18.76820182800293, 38.936676025390625, 23.428512573242188, -34.92522430419922, -39.544464111328125, 27.424503326416016, 38.1400146484375, 25.180438995361328, 36.21443557739258, 18.68342399597168, 6.232022285461426, 3.1585962772369385, 4.074735641479492, -33.61567306518555], \"yaxis\": \"y\"}, {\"customdata\": [[\"Just The Way You Are\"], [\"Locked Out Of Heaven\"], [\"Nothin' On You (remix)\"], [\"Chunky\"], [\"Finesse\"], [\"Rest Of My Life\"], [\"Gorilla\"], [\"Too Good To Say Goodbye\"], [\"Just The Way You Are (Remix) (Feat. Lupe Fiasco)\"], [\"Don't Give Up\"], [\"Finesse (Remix) (Feat. Cardi B)\"], [\"Nothin' On You\"], [\"Talking To The Moon\"], [\"Marry You\"], [\"Treasure\"], [\"Versace On The Floor\"], [\"Billionaire\"], [\"That's What I Like\"], [\"Grenade\"], [\"It Will Rain\"], [\"24k Magic\"], [\"The Lazy Song\"], [\"When I Was Your Man\"], [\"Uptown Funk!\"], [\"Count On Me\"]], \"hovertemplate\": \"artista=Bruno Mars<br>x=%{x}<br>y=%{y}<br>musica=%{customdata[0]}<extra></extra>\", \"legendgroup\": \"Bruno Mars\", \"marker\": {\"color\": \"#ab63fa\", \"opacity\": 0.5, \"symbol\": \"circle\"}, \"mode\": \"markers\", \"name\": \"Bruno Mars\", \"showlegend\": true, \"type\": \"scattergl\", \"x\": [25.870807647705078, 9.240934371948242, -22.203533172607422, 2.8822875022888184, -3.6248884201049805, -4.081442356109619, -25.712955474853516, -9.059401512145996, 25.783533096313477, 38.13763427734375, -3.6278252601623535, -22.1346492767334, 22.97803497314453, -8.235053062438965, -7.779153347015381, 31.797317504882812, -5.864819049835205, -5.17172384262085, -11.893545150756836, -17.963001251220703, -17.429367065429688, -22.45924186706543, 25.706579208374023, -18.859825134277344, -14.514230728149414], \"xaxis\": \"x\", \"y\": [-27.38336944580078, -17.54100799560547, 14.091839790344238, 2.906764030456543, 7.803070068359375, 47.102779388427734, 17.782649993896484, 30.04914665222168, -27.41073989868164, 18.56071662902832, 7.826254844665527, 13.87235164642334, -22.394336700439453, -21.8896484375, 30.237070083618164, -41.30369186401367, 45.61669921875, -23.304019927978516, 18.193504333496094, -5.434329509735107, -22.749711990356445, -2.7418923377990723, -14.608610153198242, -17.44557762145996, -21.989736557006836], \"yaxis\": \"y\"}, {\"customdata\": [[\"Interlude\"], [\"A Thousand Years (Part 2) (Feat. Steve Kaze)\"], [\"I Believe\"], [\"Distance (Feat. Jason Mraz)\"], [\"I Don't Wanna Break\"], [\"Distance\"], [\"Burning Gold\"], [\"Tiny Victories\"], [\"Trust\"], [\"Sea Of Lovers\"], [\"Til There Was You\"], [\"I Will Follow You Into The Dark\"], [\"The Lonely\"], [\"Be My Forever (Feat. Ed Sheeran)\"], [\"You Mean The Whole Wide World To Me\"], [\"The Words\"], [\"I Like You\"], [\"Arms\"], [\"You Are My Sunshine\"], [\"Jar Of Hearts\"], [\"Human\"], [\"A Thousand Years\"], [\"Human (Passion Pit Remix)\"], [\"Ave Maria\"], [\"One Night\"]], \"hovertemplate\": \"artista=Christina Perri<br>x=%{x}<br>y=%{y}<br>musica=%{customdata[0]}<extra></extra>\", \"legendgroup\": \"Christina Perri\", \"marker\": {\"color\": \"#FFA15A\", \"opacity\": 0.5, \"symbol\": \"circle\"}, \"mode\": \"markers\", \"name\": \"Christina Perri\", \"showlegend\": true, \"type\": \"scattergl\", \"x\": [-26.733497619628906, 46.9047966003418, 1.071119785308838, 15.575855255126953, 19.36065673828125, 15.576183319091797, 24.356033325195312, -15.605359077453613, 12.128141403198242, 18.41896629333496, 3.5325984954833984, -13.719229698181152, 24.724950790405273, 28.284687042236328, 0.23324955999851227, 1.6576285362243652, 13.712801933288574, -0.18438751995563507, -25.26230812072754, 32.46340560913086, 35.9973030090332, 46.90359878540039, 36.000457763671875, -25.470354080200195, 25.841184616088867], \"xaxis\": \"x\", \"y\": [-62.354183197021484, 10.36241626739502, -19.333175659179688, 27.349754333496094, -18.079708099365234, 27.34930419921875, 12.621624946594238, 25.810823440551758, -22.6298770904541, -21.611604690551758, 6.951313018798828, 4.742239475250244, 17.273651123046875, -6.677956581115723, 40.98908233642578, 38.996341705322266, 14.658136367797852, 37.94207763671875, 42.58732223510742, 5.422732353210449, -36.868473052978516, 10.359679222106934, -36.878517150878906, -34.994354248046875, 10.84591007232666], \"yaxis\": \"y\"}, {\"customdata\": [[\"Speed Of Sound\"], [\"Green Eyes\"], [\"The Scientist\"], [\"Viva La Vida\"], [\"Paradise\"], [\"Yellow\"], [\"Fix You\"], [\"God Put A Smile Upon Your Face\"], [\"Always In My Head\"], [\"Something Just Like This (feat. The Chainsmokers)\"], [\"Hymn for the Weekend (Feat. Beyonc\\u00e9)\"], [\"Clocks\"], [\"Magic\"], [\"A Sky Full Of Stars\"], [\"Sunrise\"], [\"Charlie Brown\"], [\"Every Teardrop Is a Waterfall\"], [\"A Head Full Of Dreams\"], [\"Trouble\"], [\"Orphans\"], [\"Everyday Life\"], [\"In My Place\"], [\"Adventure Of A Lifetime\"], [\"Up&Up\"]], \"hovertemplate\": \"artista=Coldplay<br>x=%{x}<br>y=%{y}<br>musica=%{customdata[0]}<extra></extra>\", \"legendgroup\": \"Coldplay\", \"marker\": {\"color\": \"#19d3f3\", \"opacity\": 0.5, \"symbol\": \"circle\"}, \"mode\": \"markers\", \"name\": \"Coldplay\", \"showlegend\": true, \"type\": \"scattergl\", \"x\": [-5.683736801147461, 1.760247826576233, 21.87221336364746, 13.507615089416504, -3.727411985397339, 36.53462219238281, 42.82252883911133, -4.970913887023926, 16.460636138916016, -4.498022079467773, -7.998373985290527, -0.41131070256233215, -8.635947227478027, 20.32936668395996, -26.382631301879883, -14.182878494262695, 6.235522747039795, -4.172719478607178, -9.696548461914062, -5.963348388671875, -2.174041986465454, -32.00325393676758, 14.323548316955566, -24.80434799194336], \"xaxis\": \"x\", \"y\": [34.185142517089844, -38.77369689941406, -42.34819412231445, 7.367551803588867, -43.01791000366211, -8.394905090332031, 25.70998764038086, 17.885652542114258, -35.58489990234375, -52.01825714111328, -41.63544464111328, -29.01494026184082, -23.511472702026367, -21.877180099487305, -62.3477783203125, -32.22831344604492, -45.88637161254883, -25.160755157470703, 1.8439240455627441, -16.713272094726562, -35.635887145996094, -20.619306564331055, -30.25979995727539, 34.89582061767578], \"yaxis\": \"y\"}, {\"customdata\": [[\"Confident\"], [\"I Love Me\"], [\"Sorry Not Sorry\"], [\"Stone Cold\"], [\"Anyone\"], [\"Sober\"], [\"Skyscraper\"], [\"Give Your Heart A Break\"], [\"Heart Attack\"], [\"Cool For The Summer\"], [\"Gift Of A Friend\"], [\"Nightingale\"], [\"This Is Me (Gotta Find You) (Feat. Joe Jonas)\"], [\"Sorry (Unreleased)\"], [\"Warrior\"], [\"Father\"], [\"Let It Go\"], [\"Really Don't Care (Feat. Cher Lloyd)\"], [\"Lonely (Feat. Lil Wayne)\"], [\"Don't Forget\"], [\"Be Okay\"], [\"Tell Me You Love Me\"], [\"OK Not To Be OK (With Marshmello)\"], [\"Still Have Me\"]], \"hovertemplate\": \"artista=Demi Lovato<br>x=%{x}<br>y=%{y}<br>musica=%{customdata[0]}<extra></extra>\", \"legendgroup\": \"Demi Lovato\", \"marker\": {\"color\": \"#FF6692\", \"opacity\": 0.5, \"symbol\": \"circle\"}, \"mode\": \"markers\", \"name\": \"Demi Lovato\", \"showlegend\": true, \"type\": \"scattergl\", \"x\": [-1.7274956703186035, -16.42652130126953, -14.233248710632324, 43.610687255859375, 37.937862396240234, -6.432192325592041, 21.302701950073242, 35.00502395629883, -9.503430366516113, 31.225196838378906, 20.241912841796875, 16.710018157958984, 9.213305473327637, 10.874658584594727, -6.388011932373047, 17.109880447387695, 5.902239799499512, -10.796828269958496, 7.524704933166504, 14.903605461120605, 45.90345764160156, 3.0397865772247314, 22.694746017456055, 18.51656723022461], \"xaxis\": \"x\", \"y\": [-13.499613761901855, -30.899303436279297, -0.431649774312973, -11.975048065185547, -5.490179538726807, -2.561744451522827, -32.98680114746094, 14.577153205871582, -0.63453209400177, -21.24371910095215, -45.939815521240234, -28.24927520751953, -11.298196792602539, -11.485018730163574, 40.78070831298828, 32.28236770629883, 48.475730895996094, 28.888214111328125, -1.1957762241363525, -43.85722732543945, -17.704410552978516, -28.872615814208984, 4.76791524887085, -1.3467274904251099], \"yaxis\": \"y\"}, {\"customdata\": [[\"Deep Pockets\"], [\"Sacrifices (Feat. 2 Chainz, Young Thug)\"], [\"Desires (Feat. Future)\"], [\"Take Care (Feat. Rihanna)\"], [\"Legend\"], [\"Nonstop\"], [\"Finesse\"], [\"Know Yourself\"], [\"Chicago Freestyle\"], [\"Time Flies\"], [\"Don't Matter To Me (Feat. Michael Jackson)\"], [\"Ratchet Happy Birthday\"], [\"All Me (Feat. 2 Chainz, Big Sean)\"], [\"Hotline Bling\"], [\"One Dance (Feat. Justin Bieber) (Remix)\"], [\"One Dance\"], [\"When To Say When / Chicago Freestyle (Video Version)\"], [\"Popstar\"], [\"Toosie Slide\"], [\"God's Plan\"], [\"Laugh Now Cry Later (Ft. Lil Durk)\"], [\"When to Say When\"], [\"War\"], [\"Forever (Feat. Kanye West, Lil' Wayne & Eminem)\"], [\"In My Feelings\"]], \"hovertemplate\": \"artista=Drake<br>x=%{x}<br>y=%{y}<br>musica=%{customdata[0]}<extra></extra>\", \"legendgroup\": \"Drake\", \"marker\": {\"color\": \"#B6E880\", \"opacity\": 0.5, \"symbol\": \"circle\"}, \"mode\": \"markers\", \"name\": \"Drake\", \"showlegend\": true, \"type\": \"scattergl\", \"x\": [-18.953767776489258, -19.652782440185547, -1.882574200630188, 2.2621145248413086, -21.29312515258789, -38.40768051147461, 31.792285919189453, -39.28852081298828, -3.742995023727417, -20.6762752532959, -5.925883769989014, 14.763521194458008, -7.958427429199219, -7.228841304779053, -8.241782188415527, -8.25284481048584, -6.776031970977783, -23.72136688232422, -27.445777893066406, -19.860549926757812, 6.420715808868408, -11.13873291015625, -21.891611099243164, -32.81733322143555, -13.641141891479492], \"xaxis\": \"x\", \"y\": [4.752417087554932, 2.583472967147827, 19.028263092041016, 27.885292053222656, -4.270514965057373, 27.9278507232666, -19.886802673339844, -4.269137859344482, 25.934329986572266, 12.96287727355957, 27.101497650146484, -30.998743057250977, -5.4012041091918945, 27.027809143066406, -13.180699348449707, -13.296960830688477, 27.095130920410156, 20.049468994140625, 5.220078468322754, -14.746984481811523, 10.387787818908691, 27.337677001953125, 3.486325263977051, 13.979409217834473, 15.390188217163086], \"yaxis\": \"y\"}, {\"customdata\": [[\"Levitating (feat. DaBaby)\"], [\"No Lie\"], [\"Be The One\"], [\"Love Again\"], [\"Future Nostalgia\"], [\"Pretty Please\"], [\"Kiss and Make Up (With BLACKPINK)\"], [\"Cool\"], [\"Un D\\u00eda (One Day) (With J Balvin, Bad Bunny, Tainy)\"], [\"One Kiss\"], [\"Boys Will Be Boys\"], [\"That Kind of Woman\"], [\"If It Ain't Me (Feat. Normani)\"], [\"Hotter Than Hell\"], [\"Electricity (With Silk City)\"], [\"Genesis\"], [\"Blow Your Mind (Mwah)\"], [\"Hallucinate\"], [\"Levitating (Feat. Madonna and Missy Elliott) (The Blessed Madonna Remix)\"], [\"Physical\"], [\"New Rules\"], [\"Levitating\"], [\"Break My Heart\"], [\"Don't Start Now\"], [\"IDGAF\"]], \"hovertemplate\": \"artista=Dua Lipa<br>x=%{x}<br>y=%{y}<br>musica=%{customdata[0]}<extra></extra>\", \"legendgroup\": \"Dua Lipa\", \"marker\": {\"color\": \"#FF97FF\", \"opacity\": 0.5, \"symbol\": \"circle\"}, \"mode\": \"markers\", \"name\": \"Dua Lipa\", \"showlegend\": true, \"type\": \"scattergl\", \"x\": [-20.24962615966797, 6.152137279510498, 26.014293670654297, -25.51561737060547, 1.8088748455047607, 1.856587529182434, -7.514472007751465, -0.6245192289352417, 42.97807312011719, -6.546432018280029, 25.884443283081055, 22.1068115234375, -4.730365753173828, 45.83966827392578, 10.846049308776855, 21.141334533691406, -9.968704223632812, -6.6343674659729, -20.232789993286133, 43.09474182128906, -5.635097503662109, -20.640111923217773, 27.07521629333496, -23.208698272705078, 15.717205047607422], \"xaxis\": \"x\", \"y\": [-16.84587860107422, -43.775630950927734, -9.460504531860352, 20.07769012451172, -23.373886108398438, -32.485694885253906, -6.843618869781494, 18.378690719604492, 15.784594535827637, -37.92941665649414, -13.910202980041504, -25.256324768066406, 32.09516906738281, -6.24517297744751, -26.37080192565918, 18.422191619873047, -34.469207763671875, 25.873605728149414, -16.775217056274414, -27.959064483642578, -3.148146152496338, -16.69101905822754, 38.00933837890625, -15.525609970092773, 4.105052471160889], \"yaxis\": \"y\"}, {\"customdata\": [[\"Perfect Duet (With Beyonc\\u00e9)\"], [\"Beautiful People (feat. Khalid)\"], [\"Friends\"], [\"One\"], [\"The A Team\"], [\"Best Part Of Me (feat. YEBBA)\"], [\"Dive\"], [\"Don't\"], [\"I See Fire\"], [\"Galway Girl\"], [\"All Of The Stars\"], [\"Castle On The Hill\"], [\"Happier\"], [\"Kiss Me\"], [\"Sing\"], [\"South Of The Border (Ft. Camila Cabello & Cardi B)\"], [\"I Don't Care (With Justin Bieber)\"], [\"Give Me Love\"], [\"Thinking Out Loud\"], [\"Perfect Symphony (With Andrea Bocelli)\"], [\"Tenerife Sea\"], [\"Eraser\"], [\"Photograph\"], [\"Shape Of You\"], [\"Perfect\"]], \"hovertemplate\": \"artista=Ed Sheeran<br>x=%{x}<br>y=%{y}<br>musica=%{customdata[0]}<extra></extra>\", \"legendgroup\": \"Ed Sheeran\", \"marker\": {\"color\": \"#FECB52\", \"opacity\": 0.5, \"symbol\": \"circle\"}, \"mode\": \"markers\", \"name\": \"Ed Sheeran\", \"showlegend\": true, \"type\": \"scattergl\", \"x\": [28.18964385986328, 0.16861112415790558, -13.009568214416504, 8.6124267578125, 14.745582580566406, 8.432474136352539, 32.85215377807617, 6.696649551391602, 14.973383903503418, -38.1615104675293, 24.256986618041992, 7.7116498947143555, -13.186299324035645, 3.2361562252044678, 0.1692834496498108, -18.463680267333984, -6.2388410568237305, 16.6507511138916, -0.3264983296394348, -32.91447830200195, -12.73880672454834, 8.138714790344238, 10.703595161437988, 8.380918502807617, 28.262948989868164], \"xaxis\": \"x\", \"y\": [-0.9936191439628601, -19.978790283203125, 42.368263244628906, 21.58220863342285, -46.72648239135742, 29.143939971923828, 9.132386207580566, 9.533428192138672, -35.80588150024414, 11.720588684082031, 23.12574005126953, 11.93899917602539, 43.01329040527344, -13.894327163696289, -1.515332579612732, 14.72937297821045, 4.792956352233887, 3.9527690410614014, 8.07972240447998, -26.715808868408203, -23.918378829956055, 10.9579439163208, 23.977401733398438, 11.505645751953125, -1.1766918897628784], \"yaxis\": \"y\"}, {\"customdata\": [[\"Empty Garden (hey Hey Johnny)\"], [\"Don't Go Breaking My Heart (Feat. Kiki Dee)\"], [\"I'm Still Standing\"], [\"You Gotta Love Someone\"], [\"Blue Eyes\"], [\"Candle In The Wind (1997)\"], [\"Circle Of Life\"], [\"I Want Love\"], [\"Saturday Night's Alright For Fighting\"], [\"Sad Songs (Say So Much)\"], [\"I Think I'm Going To Kill Myself\"], [\"Bennie And The Jets\"], [\"I Guess That's Why They Call It The Blues\"], [\"Sacrifice\"], [\"Daniel\"], [\"Tiny Dancer\"], [\"Candle In The Wind\"], [\"Don't Let The Sun Go Down On Me\"], [\"Nikita\"], [\"Goodbye Yellow Brick Road\"], [\"Can You Feel The Love Tonight?\"], [\"Skyline Pigeon\"], [\"Rocket Man\"], [\"Your Song\"], [\"The One\"]], \"hovertemplate\": \"artista=Elton John<br>x=%{x}<br>y=%{y}<br>musica=%{customdata[0]}<extra></extra>\", \"legendgroup\": \"Elton John\", \"marker\": {\"color\": \"#636efa\", \"opacity\": 0.5, \"symbol\": \"circle\"}, \"mode\": \"markers\", \"name\": \"Elton John\", \"showlegend\": true, \"type\": \"scattergl\", \"x\": [35.21206283569336, 35.13306427001953, 33.29182815551758, 24.107646942138672, 13.091208457946777, 11.185385704040527, 25.103864669799805, -25.46208953857422, -39.93452453613281, 18.238262176513672, 31.9116153717041, -26.715120315551758, 3.342559576034546, 14.894819259643555, -20.84257698059082, 27.45334243774414, 10.927645683288574, -29.165122985839844, 12.132494926452637, -40.991493225097656, -0.5210691690444946, 28.257465362548828, 1.446613073348999, 32.514915466308594, 27.01866340637207], \"xaxis\": \"x\", \"y\": [-11.137173652648926, -18.347156524658203, 20.985042572021484, -18.309738159179688, -41.597755432128906, -2.57690691947937, 17.134685516357422, 41.20732879638672, 13.542037963867188, 18.842756271362305, -16.222047805786133, -9.662970542907715, 36.62703323364258, -48.608673095703125, 26.01532745361328, -13.806907653808594, -2.427067279815674, 11.752167701721191, 21.271150588989258, -0.13878172636032104, -14.666499137878418, -23.207157135009766, -6.454261779785156, 21.172901153564453, 4.534082412719727], \"yaxis\": \"y\"}, {\"customdata\": [[\"Amazing Grace\"], [\"Kiss Me Quick\"], [\"Burning Love\"], [\"Jailhouse Rock\"], [\"And I Love You So\"], [\"It's Now Or Never\"], [\"Can't Help Falling In Love\"], [\"Stand by Me\"], [\"Bridge Over Troubled Water\"], [\"My Way\"], [\"Suspicious Minds\"], [\"Always On My Mind\"], [\"Unchained Melody\"], [\"If I Can Dream\"], [\"Love Me Tender\"], [\"Blue Suede Shoes\"], [\"I Can't Stop Loving You\"], [\"You'll Never Walk Alone\"], [\"You've Lost That Lovin' Feelin'\"], [\"Don't Be Cruel\"], [\"So High\"], [\"The Wonder Of You\"], [\"How Great Thou Art\"], [\"I've Got Confidence\"], [\"Sweet Caroline\"]], \"hovertemplate\": \"artista=Elvis Presley<br>x=%{x}<br>y=%{y}<br>musica=%{customdata[0]}<extra></extra>\", \"legendgroup\": \"Elvis Presley\", \"marker\": {\"color\": \"#EF553B\", \"opacity\": 0.5, \"symbol\": \"circle\"}, \"mode\": \"markers\", \"name\": \"Elvis Presley\", \"showlegend\": true, \"type\": \"scattergl\", \"x\": [16.803239822387695, -18.70646858215332, 15.893905639648438, -24.885223388671875, 19.309642791748047, 8.022582054138184, -25.229740142822266, 8.359819412231445, 14.227871894836426, 14.113557815551758, 13.868490219116211, -25.64543914794922, 34.43354797363281, 21.62071418762207, -34.35359191894531, -34.35917663574219, 28.275590896606445, -27.87945556640625, -11.562241554260254, -31.770221710205078, -29.226930618286133, 18.34564781188965, -23.857057571411133, 16.760793685913086, 19.623939514160156], \"xaxis\": \"x\", \"y\": [34.36013412475586, 40.62434768676758, -33.40220260620117, -0.8972893357276917, -14.414191246032715, -3.4504988193511963, 17.223020553588867, -1.6513926982879639, 9.854853630065918, 43.32626724243164, -24.91387367248535, -3.5428223609924316, -24.966323852539062, 44.001468658447266, -26.220237731933594, -11.356039047241211, -2.637880325317383, -8.55939769744873, -5.194672584533691, -1.5629079341888428, 8.658334732055664, 25.972043991088867, 26.68252182006836, 23.441181182861328, -10.696362495422363], \"yaxis\": \"y\"}, {\"customdata\": [[\"Venom\"], [\"When I'm Gone\"], [\"Till I Collapse (feat. Nate Dogg)\"], [\"Mockingbird\"], [\"Offended\"], [\"Not Afraid\"], [\"Without Me\"], [\"Godzilla (Feat. Juice WRLD)\"], [\"Stan (feat. Dido)\"], [\"Lose Yourself\"], [\"Love The Way You Lie (feat. Rihanna)\"], [\"The Real Slim Shady\"], [\"My Name Is\"], [\"Superman (feat. Dina Rae)\"], [\"The Monster (Feat. Rihanna)\"], [\"Cleanin' Out My Closet\"], [\"Space Bound\"], [\"Sing For The Moment\"], [\"Lucky You (Feat. Joyner Lucas)\"], [\"8 Mile Tree Last Battle\"], [\"My Darling\"], [\"Premonition (Intro)\"], [\"The Way I Am\"], [\"Beautiful\"], [\"Rap God\"]], \"hovertemplate\": \"artista=Eminem<br>x=%{x}<br>y=%{y}<br>musica=%{customdata[0]}<extra></extra>\", \"legendgroup\": \"Eminem\", \"marker\": {\"color\": \"#00cc96\", \"opacity\": 0.5, \"symbol\": \"circle\"}, \"mode\": \"markers\", \"name\": \"Eminem\", \"showlegend\": true, \"type\": \"scattergl\", \"x\": [-11.531333923339844, -19.938081741333008, -32.98174285888672, -9.680377960205078, -17.120986938476562, -15.10490894317627, -32.8946533203125, -11.514769554138184, -28.230037689208984, 1.3797495365142822, 3.0803003311157227, -14.222426414489746, -25.402389526367188, -31.494873046875, 9.835381507873535, -29.61226463317871, -2.814868688583374, -24.73285675048828, -21.00764274597168, -28.366519927978516, -31.373205184936523, -7.392083644866943, -26.92471694946289, 8.207320213317871, -8.048428535461426], \"xaxis\": \"x\", \"y\": [1.810124158859253, 8.461557388305664, 14.369940757751465, 22.95420265197754, 25.22626495361328, 23.671449661254883, 4.135621547698975, 0.9119482636451721, 19.606216430664062, 12.002673149108887, -29.90182113647461, 20.466583251953125, -13.51448917388916, -2.910616636276245, -10.98035717010498, 25.747509002685547, 15.03492259979248, 26.525726318359375, 22.60439682006836, 5.834871768951416, 20.820032119750977, 20.608381271362305, 24.7589168548584, 17.60946273803711, 1.6127744913101196], \"yaxis\": \"y\"}, {\"customdata\": [[\"It's A Free World, Baby\"], [\"Angel Of The Morning\"], [\"Copacabana\"], [\"Every Word Means No\"], [\"I'd Love You To Want Me\"], [\"Endless Love (Duet With Chandler)\"], [\"Holiday Song\"], [\"Trouble With Boys\"], [\"Baby Got Back\"], [\"Emma\"], [\"Friends 'til The End\"], [\"I'll Be There For You\"], [\"I'm In The Shower\"]], \"hovertemplate\": \"artista=Friends<br>x=%{x}<br>y=%{y}<br>musica=%{customdata[0]}<extra></extra>\", \"legendgroup\": \"Friends\", \"marker\": {\"color\": \"#ab63fa\", \"opacity\": 0.5, \"symbol\": \"circle\"}, \"mode\": \"markers\", \"name\": \"Friends\", \"showlegend\": true, \"type\": \"scattergl\", \"x\": [9.591508865356445, -30.978605270385742, -24.85810089111328, -28.725873947143555, 10.901860237121582, -25.47182273864746, -24.764493942260742, 2.8458545207977295, -12.445499420166016, -36.79495620727539, -3.0976858139038086, -2.99942946434021, 12.913867950439453], \"xaxis\": \"x\", \"y\": [-16.742448806762695, 16.8562068939209, -7.146975517272949, 14.465242385864258, 31.178958892822266, -34.401588439941406, 27.498594284057617, -0.9819628000259399, 0.8387507796287537, -14.756879806518555, 54.44474411010742, 54.57419204711914, -50.7086296081543], \"yaxis\": \"y\"}, {\"customdata\": [[\"Aquele Abra\\u00e7o\"]], \"hovertemplate\": \"artista=Gilberto Gil<br>x=%{x}<br>y=%{y}<br>musica=%{customdata[0]}<extra></extra>\", \"legendgroup\": \"Gilberto Gil\", \"marker\": {\"color\": \"#FFA15A\", \"opacity\": 0.5, \"symbol\": \"circle\"}, \"mode\": \"markers\", \"name\": \"Gilberto Gil\", \"showlegend\": true, \"type\": \"scattergl\", \"x\": [-30.85898208618164], \"xaxis\": \"x\", \"y\": [-28.17700958251953], \"yaxis\": \"y\"}, {\"customdata\": [[\"Out Ta Get Me\"], [\"Live And Let Die\"], [\"Sweet Child O' Mine\"], [\"November Rain\"], [\"Don't Cry\"], [\"Patience\"], [\"Knockin' On Heaven's Door\"], [\"Welcome To The Jungle\"], [\"Paradise City\"], [\"Estranged\"], [\"Civil War\"], [\"Yesterdays\"], [\"Nightrain\"], [\"Mr. Brownstone\"], [\"Since I Don't Have You\"], [\"November Rain (Piano Version/1986 Sound City Session)\"], [\"Rocket Queen\"], [\"So Fine\"], [\"Better\"], [\"This I Love\"], [\"Sympathy For The Devil\"], [\"Chinese Democracy\"], [\"It's So Easy\"], [\"Used To Love Her\"], [\"You Could Be Mine\"]], \"hovertemplate\": \"artista=Guns N' Roses<br>x=%{x}<br>y=%{y}<br>musica=%{customdata[0]}<extra></extra>\", \"legendgroup\": \"Guns N' Roses\", \"marker\": {\"color\": \"#19d3f3\", \"opacity\": 0.5, \"symbol\": \"circle\"}, \"mode\": \"markers\", \"name\": \"Guns N' Roses\", \"showlegend\": true, \"type\": \"scattergl\", \"x\": [26.80986213684082, 16.34259796142578, 25.746112823486328, 6.871473789215088, 31.87619400024414, 17.1282901763916, -10.443558692932129, 19.88799476623535, 11.462231636047363, 15.23101806640625, -13.822290420532227, 5.937583923339844, 27.149450302124023, 29.704235076904297, -28.73844337463379, 6.952770233154297, 23.263704299926758, 23.692825317382812, -28.176088333129883, 29.523632049560547, 8.484821319580078, 17.434925079345703, 19.72959327697754, -13.891717910766602, -34.351165771484375], \"xaxis\": \"x\", \"y\": [-34.64167785644531, 31.0837345123291, -21.08898162841797, 22.406818389892578, -28.492319107055664, 8.288721084594727, -8.394827842712402, -31.892026901245117, 50.5349235534668, 17.565961837768555, 5.98561954498291, -11.494501113891602, -40.92643356323242, -17.71030616760254, -28.35125732421875, 22.51594352722168, -32.428199768066406, 14.383946418762207, 17.261789321899414, -28.292755126953125, -32.97449493408203, 18.223440170288086, -28.65187644958496, -18.92117691040039, 13.534228324890137], \"yaxis\": \"y\"}, {\"customdata\": [[\"Cherry\"], [\"Sunflower, Vol. 6\"], [\"Watermelon Sugar\"], [\"Adore You\"], [\"Lights Up\"], [\"Golden\"], [\"Falling\"], [\"Medicine\"], [\"Sign Of The Times\"]], \"hovertemplate\": \"artista=Harry Styles<br>x=%{x}<br>y=%{y}<br>musica=%{customdata[0]}<extra></extra>\", \"legendgroup\": \"Harry Styles\", \"marker\": {\"color\": \"#FF6692\", \"opacity\": 0.5, \"symbol\": \"circle\"}, \"mode\": \"markers\", \"name\": \"Harry Styles\", \"showlegend\": true, \"type\": \"scattergl\", \"x\": [4.5516276359558105, -11.84217357635498, 15.859418869018555, 22.485023498535156, 23.050020217895508, 29.89674186706543, -34.453311920166016, -27.447181701660156, 15.351873397827148], \"xaxis\": \"x\", \"y\": [-2.361083507537842, -27.291088104248047, -47.9454345703125, 26.32078742980957, -11.933725357055664, 30.425058364868164, -17.00592613220215, 20.20550537109375, 2.6292502880096436], \"yaxis\": \"y\"}, {\"customdata\": [[\"Hino das Ilhas Fiji\"], [\"Hino dos Estados Unidos\"]], \"hovertemplate\": \"artista=Hinos<br>x=%{x}<br>y=%{y}<br>musica=%{customdata[0]}<extra></extra>\", \"legendgroup\": \"Hinos\", \"marker\": {\"color\": \"#B6E880\", \"opacity\": 0.5, \"symbol\": \"circle\"}, \"mode\": \"markers\", \"name\": \"Hinos\", \"showlegend\": true, \"type\": \"scattergl\", \"x\": [-26.24692726135254, -26.096647262573242], \"xaxis\": \"x\", \"y\": [-32.769962310791016, 24.662899017333984], \"yaxis\": \"y\"}, {\"customdata\": [[\"Warriors\"], [\"Sucker For Pain (Feat. Lil Wayne, Wiz Khalifa, Ty Dolla $ign, Logic & X Ambassadors)\"], [\"Walking The Wire\"], [\"Rise Up\"], [\"Believer (Remix) (Ft. Lil Wayne)\"], [\"I'm So Sorry\"], [\"West Coast\"], [\"Born To Be Yours (With Kygo)\"], [\"Boomerang\"], [\"I Don't Know Why\"], [\"Dream\"], [\"Not Today\"], [\"Love\"], [\"On Top Of The World\"], [\"Believer\"], [\"Demons\"], [\"Thunder\"], [\"Bad Liar\"], [\"Radioactive\"], [\"Whatever It Takes\"], [\"Radioactive (Feat. Kendrick Lamar)\"], [\"Birds\"], [\"It's Time\"], [\"Next To Me\"], [\"Natural\"]], \"hovertemplate\": \"artista=Imagine Dragons<br>x=%{x}<br>y=%{y}<br>musica=%{customdata[0]}<extra></extra>\", \"legendgroup\": \"Imagine Dragons\", \"marker\": {\"color\": \"#FF97FF\", \"opacity\": 0.5, \"symbol\": \"circle\"}, \"mode\": \"markers\", \"name\": \"Imagine Dragons\", \"showlegend\": true, \"type\": \"scattergl\", \"x\": [1.1032644510269165, -2.3353402614593506, -3.4556846618652344, -34.11946105957031, -9.628186225891113, 2.757840871810913, -34.13009262084961, -29.739822387695312, -15.01089859008789, -1.6982284784317017, 23.862911224365234, 4.1350274085998535, 7.518857479095459, -40.250694274902344, -9.58003044128418, 28.829145431518555, 8.002574920654297, -9.73398208618164, -11.501338005065918, 32.53369903564453, -11.412495613098145, 18.422216415405273, -6.221574306488037, 19.475143432617188, 29.392271041870117], \"xaxis\": \"x\", \"y\": [35.89008712768555, 13.551881790161133, -23.166349411010742, 38.401145935058594, -35.556373596191406, -6.944566249847412, 24.436426162719727, 34.05091857910156, -28.341970443725586, -28.44371795654297, -28.78741455078125, -26.6299991607666, -22.81351089477539, 23.254804611206055, -35.900535583496094, -16.013469696044922, -50.513038635253906, -2.4201812744140625, 4.44996976852417, -7.759045124053955, 4.469371318817139, -12.048810958862305, 1.8597400188446045, 21.657808303833008, -23.850404739379883], \"yaxis\": \"y\"}, {\"customdata\": [[\"Starting All Over Again\"], [\"Maui Hawaiian Sup'pa Man\"], [\"Tengoku Kara Kaminari (thunder From Heaven)\"], [\"Ahi Wela\"], [\"Kamalani\"], [\"What a Wonderful World\"], [\"E Ala E\"], [\"Hawaiian Like Me\"], [\"Hawaii 78\"], [\"In This Life\"], [\"Margarita\"], [\"Somewhere Over The Rainbow\"], [\"Sea Of Love\"]], \"hovertemplate\": \"artista=Israel Kamakawiwo'ole<br>x=%{x}<br>y=%{y}<br>musica=%{customdata[0]}<extra></extra>\", \"legendgroup\": \"Israel Kamakawiwo'ole\", \"marker\": {\"color\": \"#FECB52\", \"opacity\": 0.5, \"symbol\": \"circle\"}, \"mode\": \"markers\", \"name\": \"Israel Kamakawiwo'ole\", \"showlegend\": true, \"type\": \"scattergl\", \"x\": [5.586589336395264, -23.54523277282715, -19.601680755615234, -30.89720344543457, -25.76963996887207, 12.609044075012207, -23.848342895507812, -21.62088394165039, -35.95378112792969, 10.347625732421875, -31.73754119873047, -17.566911697387695, -0.6491079330444336], \"xaxis\": \"x\", \"y\": [37.37912368774414, 24.509033203125, -26.373947143554688, -23.70076560974121, -16.591909408569336, -32.978519439697266, -13.177783012390137, 19.51578140258789, 32.04483413696289, 37.695125579833984, 20.422483444213867, -34.6197395324707, -9.109824180603027], \"yaxis\": \"y\"}, {\"customdata\": [[\"It's Killing Me\"], [\"Quite Miss Home\"], [\"Can't Take My Eyes Off You\"], [\"Car's Outside\"], [\"Back From The Edge\"], [\"If You Let Me\"], [\"Empty Space\"], [\"Fall\"], [\"Say You Won't Let Go\"], [\"Naked\"], [\"Impossible\"], [\"Falling Like The Stars\"], [\"Train Wreck\"], [\"Can I Be Him\"], [\"Always\"], [\"Rewrite The Stars (with Anne-Marie)\"], [\"At My Weakest\"], [\"Is This Love\"], [\"I Am\"], [\"Safe Inside\"], [\"Finally\"], [\"Maybe\"], [\"Certain Things (feat. Chasing Grace)\"], [\"You're Nobody 'Til Somebody Loves You\"], [\"You (Feat. Travis Barker)\"]], \"hovertemplate\": \"artista=James Arthur<br>x=%{x}<br>y=%{y}<br>musica=%{customdata[0]}<extra></extra>\", \"legendgroup\": \"James Arthur\", \"marker\": {\"color\": \"#636efa\", \"opacity\": 0.5, \"symbol\": \"circle\"}, \"mode\": \"markers\", \"name\": \"James Arthur\", \"showlegend\": true, \"type\": \"scattergl\", \"x\": [20.557796478271484, 6.073489665985107, 14.654330253601074, -10.071529388427734, 33.618980407714844, -1.2125674486160278, -4.765560626983643, -16.1028995513916, 35.020687103271484, 4.385801315307617, 1.7265406847000122, -4.371963024139404, 21.861194610595703, 35.84270095825195, -8.101134300231934, 10.089284896850586, -3.213143825531006, -17.43427276611328, 12.262075424194336, -2.9204156398773193, 19.38340187072754, 7.373605728149414, 29.715965270996094, 13.29269027709961, -28.932151794433594], \"xaxis\": \"x\", \"y\": [-29.956518173217773, 13.911222457885742, 4.128189563751221, -7.950636863708496, -20.94417381286621, 28.326656341552734, 0.7808600664138794, 3.48000431060791, 4.371724605560303, 3.28629732131958, -46.143577575683594, -9.861686706542969, -39.386226654052734, -3.342186689376831, -40.04566192626953, 26.630760192871094, 14.469123840332031, 9.32275390625, -38.03750228881836, 27.183900833129883, 0.902164876461029, 29.057886123657227, -27.756324768066406, 18.980764389038086, 33.883575439453125], \"yaxis\": \"y\"}, {\"customdata\": [[\"I Won't Give Up\"], [\"93 Million Miles\"], [\"Lucky (feat Ximena Sari\\u00f1ana)\"], [\"Hearing Double\"], [\"The World As I See It\"], [\"Love Is Still The Answer\"], [\"You Can Rely On Me\"], [\"5/6\"], [\"Love Love Love\"], [\"A Beautiful Mess\"], [\"I'm Yours (Vers\\u00e3o Videoclipe)\"], [\"Coffee Cup Song\"], [\"You do You (Feat. Tiffany Haddish)\"], [\"Better With You\"], [\"Wise Woman\"], [\"Make Love\"], [\"Butterfly\"], [\"Let's See What The Night Can Do\"], [\"Have It All\"], [\"Song For A Friend\"], [\"Love Someone\"], [\"Look For The Good\"], [\"Gratitude\"], [\"I'm Yours\"], [\"Lucky (feat. Colbie Caillat)\"]], \"hovertemplate\": \"artista=Jason Mraz<br>x=%{x}<br>y=%{y}<br>musica=%{customdata[0]}<extra></extra>\", \"legendgroup\": \"Jason Mraz\", \"marker\": {\"color\": \"#EF553B\", \"opacity\": 0.5, \"symbol\": \"circle\"}, \"mode\": \"markers\", \"name\": \"Jason Mraz\", \"showlegend\": true, \"type\": \"scattergl\", \"x\": [22.607681274414062, 22.783967971801758, -28.2994384765625, -22.416828155517578, 9.149147987365723, 1.3087475299835205, -8.194145202636719, 27.37168312072754, -9.564397811889648, -10.676371574401855, -13.780887603759766, 2.902238607406616, -11.772848129272461, 4.745696067810059, 12.008894920349121, 2.675987482070923, -30.692779541015625, 17.31512451171875, -14.13528823852539, 1.89659583568573, 24.161043167114258, 5.754806041717529, -10.466023445129395, -13.780557632446289, -37.370906829833984], \"xaxis\": \"x\", \"y\": [29.24439239501953, -10.916487693786621, -31.14510726928711, 37.994449615478516, 27.482467651367188, -15.428812026977539, 27.176149368286133, 8.320852279663086, 3.279467821121216, 7.392184734344482, 9.796985626220703, -2.3855175971984863, 21.37822914123535, 30.7908878326416, -8.794209480285645, -10.566500663757324, 19.333707809448242, 2.40437388420105, 31.070167541503906, -11.812150955200195, -18.192947387695312, 41.94169998168945, -19.496326446533203, 9.696333885192871, 6.520201206207275], \"yaxis\": \"y\"}, {\"customdata\": [[\"Conversations In The Dark\"], [\"If You're Out There\"], [\"Favorite Place\"], [\"I Do\"], [\"Tonight (Best You Ever Had) (feat. Ludacris)\"], [\"Save Room\"], [\"Aim High\"], [\"Beauty and The Beast\"], [\"I Love, You Love\"], [\"Actions\"], [\"All Of Me\"], [\"It Don't Have To Change\"], [\"Ooh Laa\"], [\"Always\"], [\"P.D.A. (We Just Don't Care)\"], [\"A Million\"], [\"Never Break\"], [\"Ordinary People\"], [\"A Good Night (Feat. BloodPop\\u00ae)\"], [\"U Move, I Move (Feat. Jhen\\u00e9 Aiko)\"], [\"Preach\"], [\"Our Generation (the Hope Of The World)\"], [\"Wild (Ft. Gary Clark Jr.)\"], [\"You & I (Nobody in the World)\"], [\"Love Me Now\"]], \"hovertemplate\": \"artista=John Legend<br>x=%{x}<br>y=%{y}<br>musica=%{customdata[0]}<extra></extra>\", \"legendgroup\": \"John Legend\", \"marker\": {\"color\": \"#00cc96\", \"opacity\": 0.5, \"symbol\": \"circle\"}, \"mode\": \"markers\", \"name\": \"John Legend\", \"showlegend\": true, \"type\": \"scattergl\", \"x\": [-3.546713352203369, -35.10694885253906, 11.796650886535645, -4.517664432525635, 18.940427780151367, -29.85803985595703, 11.93340015411377, 28.19721221923828, -20.718217849731445, 2.946601629257202, 15.366311073303223, -28.0528564453125, -1.7924226522445679, 8.768308639526367, 19.99698829650879, 33.5479621887207, 22.48540687561035, 19.674175262451172, -7.765717029571533, 19.93008804321289, -9.846835136413574, -24.779598236083984, 28.76970863342285, -5.414795398712158, -12.076922416687012], \"xaxis\": \"x\", \"y\": [16.371732711791992, -5.59035587310791, -16.57691192626953, 27.204198837280273, 37.775390625, -32.254066467285156, 0.23784279823303223, -45.686195373535156, -23.121244430541992, 19.92188262939453, -1.067348837852478, -10.197200775146484, -51.34590148925781, -24.703001022338867, -16.269948959350586, -0.6489073038101196, -34.597774505615234, -8.151113510131836, 25.6673526763916, -23.93583106994629, -22.26393699645996, 25.66707992553711, -32.71537780761719, 10.537569046020508, 15.374236106872559], \"yaxis\": \"y\"}, {\"customdata\": [[\"Real Love\"], [\"Woman\"], [\"God\"], [\"Imagine\"], [\"Intuition\"], [\"Working Class Hero\"], [\"Watching The Wheels\"], [\"Give Peace A Chance\"], [\"Gimme Some Truth\"], [\"Nobody Loves You (When You're Down And Out)\"], [\"Instant Karma\"], [\"Isolation\"], [\"Whatever Gets You Through The Night\"], [\"I Know (I Know)\"], [\"Jealous Guy\"], [\"Oh My Love\"], [\"Stand By Me\"], [\"Mother\"], [\"(Just Like) Starting Over\"], [\"Love\"], [\"How do You Sleep?\"], [\"Mind Games\"], [\"In My Life\"], [\"Beautiful Boy (Darling Boy)\"]], \"hovertemplate\": \"artista=John Lennon<br>x=%{x}<br>y=%{y}<br>musica=%{customdata[0]}<extra></extra>\", \"legendgroup\": \"John Lennon\", \"marker\": {\"color\": \"#ab63fa\", \"opacity\": 0.5, \"symbol\": \"circle\"}, \"mode\": \"markers\", \"name\": \"John Lennon\", \"showlegend\": true, \"type\": \"scattergl\", \"x\": [-11.96788215637207, 7.9895710945129395, -5.9920430183410645, 24.680089950561523, 15.217510223388672, -28.29470443725586, 10.664606094360352, -19.896286010742188, -10.174524307250977, -21.656644821166992, -2.9549028873443604, -0.9792622923851013, -16.448326110839844, 21.3958683013916, -32.084564208984375, -27.499109268188477, -1.8392778635025024, -13.840867042541504, 7.830365180969238, 2.4861061573028564, -3.332576274871826, -35.29744338989258, 17.178150177001953, 6.8821940422058105], \"xaxis\": \"x\", \"y\": [10.357779502868652, -36.44523620605469, -25.983444213867188, -25.419418334960938, 23.76529884338379, 34.305259704589844, 46.68278121948242, -31.85352897644043, -6.470395565032959, 32.792972564697266, 9.519840240478516, -31.879724502563477, 18.15431022644043, 43.34410858154297, -6.8622002601623535, -11.216143608093262, 35.334983825683594, -21.7042293548584, 33.9322395324707, -15.450114250183105, 25.716154098510742, 25.76158332824707, 49.05802917480469, -49.818565368652344], \"yaxis\": \"y\"}, {\"customdata\": [[\"Come Back To Bed\"], [\"Slow Dancing In A Burning Room\"], [\"Free Fallin'\"], [\"Your Body Is A Wonderland\"], [\"Gravity\"], [\"Daughters\"], [\"XO\"], [\"Half Of My Heart\"], [\"Never On The Day You Leave\"], [\"3x5\"], [\"Who Says\"], [\"No Such Thing\"], [\"Love Is a Verb\"], [\"Waiting On The World To Change\"], [\"New Light\"], [\"Love On The Weekend\"], [\"Say\"], [\"Heartbreak Warfare\"], [\"Stop This Train\"], [\"I'm Gonna Find Another You\"], [\"Edge Of Desire\"], [\"I Guess I Just Feel Like\"], [\"Still Feel Like Your Man\"], [\"In Your Atmosphere\"], [\"Who You Love (Feat. Katy Perry)\"]], \"hovertemplate\": \"artista=John Mayer<br>x=%{x}<br>y=%{y}<br>musica=%{customdata[0]}<extra></extra>\", \"legendgroup\": \"John Mayer\", \"marker\": {\"color\": \"#FFA15A\", \"opacity\": 0.5, \"symbol\": \"circle\"}, \"mode\": \"markers\", \"name\": \"John Mayer\", \"showlegend\": true, \"type\": \"scattergl\", \"x\": [24.592849731445312, -7.199433326721191, -5.460482597351074, 8.615328788757324, -9.626855850219727, 25.581546783447266, 28.100847244262695, 19.70515251159668, 6.243854999542236, 30.1881103515625, -36.8648681640625, -32.21886444091797, 26.51036262512207, 33.069236755371094, -4.061834335327148, 32.96047592163086, -13.281097412109375, 6.615532875061035, 15.638570785522461, 9.002954483032227, 16.65842628479004, -18.06650733947754, 2.6250808238983154, -11.688720703125, 6.6536407470703125], \"xaxis\": \"x\", \"y\": [-8.055672645568848, 33.95591735839844, -5.328883647918701, -44.0555305480957, 18.382427215576172, 13.009449005126953, -14.568818092346191, 5.12032413482666, 39.50539016723633, 23.7402286529541, 10.272242546081543, 14.652793884277344, -33.88763427734375, -11.808213233947754, 24.336881637573242, -41.572898864746094, 6.692997455596924, -31.960121154785156, -5.948103427886963, 23.64715576171875, -14.307294845581055, 50.5634880065918, 24.668607711791992, 31.05588722229004, -21.110332489013672], \"yaxis\": \"y\"}, {\"customdata\": [[\"Company\"], [\"Love Yourself\"], [\"Stuck With U (With Ariana Grande)\"], [\"Yummy\"], [\"Sorry\"], [\"Baby\"], [\"Confident (Feat. Chance The Rapper)\"], [\"Eenie Meenie\"], [\"Never Say Never (feat. Jaden Smith)\"], [\"Purpose\"], [\"One Time\"], [\"Love Me\"], [\"Forever (Feat. Post Malone and Clever)\"], [\"What Do You Mean?\"], [\"As Long As You Love Me (feat. Big Sean)\"], [\"Heartbreaker\"], [\"E.T.A.\"], [\"All That Matters\"], [\"Come Around Me\"], [\"Baby (feat. Ludacris)\"], [\"One Less Lonely Girl\"], [\"Habitual\"], [\"All Around Me\"], [\"HOLY (Ft. Chance The Rapper)\"], [\"Intentions (Ft. Quavo)\"]], \"hovertemplate\": \"artista=Justin Bieber<br>x=%{x}<br>y=%{y}<br>musica=%{customdata[0]}<extra></extra>\", \"legendgroup\": \"Justin Bieber\", \"marker\": {\"color\": \"#19d3f3\", \"opacity\": 0.5, \"symbol\": \"circle\"}, \"mode\": \"markers\", \"name\": \"Justin Bieber\", \"showlegend\": true, \"type\": \"scattergl\", \"x\": [-15.94963264465332, -29.888132095336914, -24.142471313476562, -7.635494709014893, -25.938030242919922, -12.730725288391113, -2.29378604888916, -24.39376449584961, -29.008960723876953, 14.407798767089844, 27.97901153564453, 9.92492961883545, -16.689472198486328, -31.810930252075195, 21.750577926635742, -1.7753657102584839, -16.39862060546875, 15.443953514099121, -1.5964620113372803, -12.737029075622559, -43.414337158203125, -11.92122745513916, -4.845582008361816, -20.419984817504883, -14.781234741210938], \"xaxis\": \"x\", \"y\": [-13.744447708129883, 29.44040298461914, 33.29702377319336, -4.806697845458984, 12.732793807983398, -12.615192413330078, -4.202667713165283, -15.57577133178711, -12.078350067138672, 39.531097412109375, 38.71847915649414, -20.168235778808594, 19.17195701599121, -3.472905158996582, 12.559049606323242, 28.604127883911133, 6.516055583953857, -2.425446033477783, 21.98838996887207, -12.602593421936035, -8.127957344055176, -3.419696569442749, 28.73167610168457, 26.283241271972656, 19.946144104003906], \"yaxis\": \"y\"}, {\"customdata\": [[\"Suit & Tie (Feat. Jay Z)\"], [\"Like I Love You (feat. Clipse)\"], [\"Perfect For Me\"], [\"Take Back The Night\"], [\"4 Minutes\"], [\"Pusher Love Girl\"], [\"Filthy\"], [\"Rock Your Body\"], [\"Se\\u00f1orita\"], [\"(And She Said) Take Me Now (feat. Janet Jackson)\"], [\"True Colors (Feat. Anna Kendrick)\"], [\"Summer Love\"], [\"Love Never Felt So Good\"], [\"Not A Bad Thing\"], [\"Don't Slack (With Anderson .Paak)\"], [\"The Other Side (With SZA)\"], [\"My Love (feat. T.I.)\"], [\"TKO\"], [\"SexyBack\"], [\"Cry Me A River\"], [\"Say Something (feat. Chris Stapleton)\"], [\"What Goes Around.../...Comes Around (Interlude)\"], [\"Can't Stop The Feeling\"], [\"Mirrors\"], [\"Apologize\"]], \"hovertemplate\": \"artista=Justin Timberlake<br>x=%{x}<br>y=%{y}<br>musica=%{customdata[0]}<extra></extra>\", \"legendgroup\": \"Justin Timberlake\", \"marker\": {\"color\": \"#FF6692\", \"opacity\": 0.5, \"symbol\": \"circle\"}, \"mode\": \"markers\", \"name\": \"Justin Timberlake\", \"showlegend\": true, \"type\": \"scattergl\", \"x\": [8.665670394897461, 3.813812017440796, -17.680450439453125, 23.994300842285156, 0.6936896443367004, -13.476454734802246, -24.341136932373047, 39.2675895690918, -16.58046531677246, 6.664382457733154, 9.33094310760498, -8.772821426391602, 8.489927291870117, 3.3758704662323, -29.13433265686035, -21.07257080078125, -13.172820091247559, 2.293661117553711, -27.85130500793457, 7.019942283630371, -7.410130977630615, 14.877800941467285, -8.21013069152832, 8.30652141571045, -22.64183235168457], \"xaxis\": \"x\", \"y\": [38.904876708984375, -1.7548930644989014, 24.612781524658203, -7.921203136444092, -36.64848709106445, -26.801651000976562, -20.88246726989746, -22.066429138183594, -22.7043399810791, -32.86836624145508, -39.53092575073242, 28.442493438720703, 55.305030822753906, 38.16190719604492, 19.794647216796875, 27.492820739746094, -16.58617401123047, -24.61054801940918, -18.17901039123535, -2.3787243366241455, 3.0443522930145264, 18.741540908813477, -8.751063346862793, 14.667901039123535, 10.643465042114258], \"yaxis\": \"y\"}, {\"customdata\": [[\"Champagne Problems\"], [\"Hot N' Cold\"], [\"I Kissed A Girl\"], [\"Teenage Dream\"], [\"E.T. (feat. Kanye West)\"], [\"Cry About It Later\"], [\"The One That Got Away\"], [\"Smile\"], [\"Firework\"], [\"Dark Horse (Feat. Juicy J)\"], [\"Roar\"], [\"California Gurls (feat. Snoop Dogg)\"], [\"What Makes a Woman\"], [\"Daisies\"], [\"Last Friday Night (T.G.I.F.)\"], [\"Birthday\"], [\"Tucked\"], [\"Only Love\"], [\"Thinking Of You\"], [\"Resilient\"], [\"Part Of Me\"], [\"Unconditionally\"], [\"365 (With Zedd)\"], [\"Not The End Of The World\"], [\"Never Really Over\"]], \"hovertemplate\": \"artista=Katy Perry<br>x=%{x}<br>y=%{y}<br>musica=%{customdata[0]}<extra></extra>\", \"legendgroup\": \"Katy Perry\", \"marker\": {\"color\": \"#B6E880\", \"opacity\": 0.5, \"symbol\": \"circle\"}, \"mode\": \"markers\", \"name\": \"Katy Perry\", \"showlegend\": true, \"type\": \"scattergl\", \"x\": [-0.4144139885902405, 19.44075584411621, -5.117608547210693, -16.92877197265625, -16.460474014282227, 26.69379997253418, 14.903377532958984, 4.567636013031006, 15.972066879272461, 23.1938419342041, -17.003273010253906, -17.037084579467773, 14.378259658813477, 18.135236740112305, 3.626542091369629, 26.013029098510742, 5.763277053833008, -12.78598690032959, 30.60599708557129, 41.488525390625, -5.8697638511657715, 16.236602783203125, 8.91100788116455, 12.118829727172852, -14.131861686706543], \"xaxis\": \"x\", \"y\": [-13.073209762573242, -9.417346954345703, 3.1522631645202637, 19.72247886657715, -28.802310943603516, -17.692167282104492, -16.09297752380371, -36.763084411621094, -35.31594467163086, -1.6092356443405151, 25.764610290527344, -30.159778594970703, 43.6754035949707, 29.449275970458984, -41.22625732421875, 12.056326866149902, -5.195594310760498, -16.01056671142578, -17.68486785888672, -12.803618431091309, 23.821308135986328, -11.065980911254883, 14.732433319091797, 12.317398071289062, 23.361976623535156], \"yaxis\": \"y\"}, {\"customdata\": [[\"Free Woman\"], [\"I'll Never Love Again\"], [\"Always Remember Us This Way\"], [\"Fun Tonight\"], [\"Yo\\u00fc And I\"], [\"Plastic Doll\"], [\"Paparazzi\"], [\"Replay\"], [\"Chromatica I\"], [\"Enigma\"], [\"Telephone (feat. Beyonc\\u00e9)\"], [\"Shallow (With Bradley Cooper)\"], [\"911\"], [\"1000 Doves\"], [\"Stupid Love\"], [\"Poker Face\"], [\"Bad Romance\"], [\"Alejandro\"], [\"Born This Way\"], [\"Sour Candy (with Blackpink)\"], [\"Million Reasons\"], [\"Sine From Above (with Elton John)\"], [\"Alice\"], [\"Rain On Me (With Ariana Grande)\"], [\"Babylon\"]], \"hovertemplate\": \"artista=Lady Gaga<br>x=%{x}<br>y=%{y}<br>musica=%{customdata[0]}<extra></extra>\", \"legendgroup\": \"Lady Gaga\", \"marker\": {\"color\": \"#FF97FF\", \"opacity\": 0.5, \"symbol\": \"circle\"}, \"mode\": \"markers\", \"name\": \"Lady Gaga\", \"showlegend\": true, \"type\": \"scattergl\", \"x\": [-27.2168025970459, 4.66321325302124, 4.201371192932129, -20.048402786254883, -9.60580062866211, -15.539838790893555, -25.1442928314209, -22.359548568725586, -26.970735549926758, 3.9351770877838135, -29.004173278808594, -26.37226676940918, -5.487864971160889, -35.17591857910156, -20.0517578125, -24.843515396118164, -2.9902572631835938, -10.846274375915527, 20.85136604309082, -20.36083221435547, 19.73025131225586, -0.5424699783325195, 12.568013191223145, 22.314455032348633, -27.61090850830078], \"xaxis\": \"x\", \"y\": [41.94632339477539, 8.108441352844238, -29.11305046081543, 18.688213348388672, -11.075272560119629, -25.477201461791992, -13.801734924316406, 17.609647750854492, -62.95738983154297, 21.87667465209961, -24.14208221435547, -11.725017547607422, 20.497478485107422, 18.110498428344727, -23.952247619628906, -27.574134826660156, -51.84893798828125, -39.5491828918457, -8.793874740600586, -18.86949920654297, 28.040218353271484, 47.5053825378418, -46.95896530151367, -3.8839735984802246, -23.604007720947266], \"yaxis\": \"y\"}, {\"customdata\": [[\"Summertime Sadness\"], [\"Carmen\"], [\"Hope is a dangerous thing for a woman like me to have - but I have it\"], [\"Born To Die\"], [\"Video Games\"], [\"Happiness Is a Butterfly\"], [\"Young And Beautiful\"], [\"Blue Jeans\"], [\"LA Who Am I to Love You?\"], [\"Norman Fucking Rockwell\"], [\"Lust For Life (Feat. The Weeknd)\"], [\"Fuck It I Love You\"], [\"Doin' Time\"], [\"Cinnamon Girl\"], [\"Cherry\"], [\"West Coast\"], [\"Love\"], [\"Love Song\"], [\"Mariners Apartment Complex\"], [\"Ride\"], [\"The Land of 1000 Fires\"], [\"13 Beaches\"], [\"Ride (Monologue)\"], [\"Dark Paradise\"], [\"Ultraviolence\"]], \"hovertemplate\": \"artista=Lana Del Rey<br>x=%{x}<br>y=%{y}<br>musica=%{customdata[0]}<extra></extra>\", \"legendgroup\": \"Lana Del Rey\", \"marker\": {\"color\": \"#FECB52\", \"opacity\": 0.5, \"symbol\": \"circle\"}, \"mode\": \"markers\", \"name\": \"Lana Del Rey\", \"showlegend\": true, \"type\": \"scattergl\", \"x\": [-15.661022186279297, -7.14267110824585, -8.386983871459961, 24.506214141845703, 3.4036359786987305, -18.4669246673584, 9.012292861938477, 9.60998821258545, -20.841663360595703, -13.42953872680664, 20.322683334350586, -6.0186686515808105, -12.234288215637207, 14.660470008850098, -17.691665649414062, -1.5661723613739014, -19.107576370239258, -26.085739135742188, 14.378358840942383, -37.6727294921875, -8.296870231628418, 24.578195571899414, -37.65889358520508, 16.806316375732422, -8.826766014099121], \"xaxis\": \"x\", \"y\": [-9.798135757446289, -5.972430229187012, 2.1889753341674805, 6.570487022399902, 15.465227127075195, 21.271883010864258, 30.951448440551758, 6.344991683959961, 19.97718048095703, -29.493297576904297, -5.667560577392578, -9.921126365661621, -0.5201016664505005, 5.437936782836914, -24.464635848999023, -8.416720390319824, -34.97856521606445, 27.929183959960938, -0.09704222530126572, 9.350873947143555, -34.62619400024414, -27.789653778076172, 9.346510887145996, -19.40249252319336, -36.95075225830078], \"yaxis\": \"y\"}, {\"customdata\": [[\"One\"], [\"Someone You Loved\"], [\"Before You Go\"], [\"Bruises\"], [\"Hold Me While You Wait\"], [\"Grace\"], [\"Forever\"], [\"Maybe\"], [\"Don't Get Me Wrong\"]], \"hovertemplate\": \"artista=Lewis Capaldi<br>x=%{x}<br>y=%{y}<br>musica=%{customdata[0]}<extra></extra>\", \"legendgroup\": \"Lewis Capaldi\", \"marker\": {\"color\": \"#636efa\", \"opacity\": 0.5, \"symbol\": \"circle\"}, \"mode\": \"markers\", \"name\": \"Lewis Capaldi\", \"showlegend\": true, \"type\": \"scattergl\", \"x\": [-0.6160640716552734, 26.94977569580078, -5.432565212249756, 10.686136245727539, -20.383464813232422, 5.562972068786621, 5.833332061767578, -21.238508224487305, 10.24245834350586], \"xaxis\": \"x\", \"y\": [41.413028717041016, 26.570180892944336, 25.999448776245117, 40.00771713256836, 41.44290542602539, -46.55975341796875, 46.23073196411133, 46.353267669677734, 19.856571197509766], \"yaxis\": \"y\"}, {\"customdata\": [[\"Somewhere I Belong\"], [\"Leave Out All The Rest\"], [\"Crawling\"], [\"Numb\"], [\"In The End\"], [\"Burn It Down\"], [\"One More Light\"], [\"In The End (demo Lpu 11)\"], [\"Castle Of Glass\"], [\"What I've Done\"], [\"Faint\"], [\"Papercut\"], [\"Breaking The Habit\"], [\"Waiting For The End\"], [\"From The Inside\"], [\"New Divide\"], [\"One Step Closer\"], [\"Heavy (feat. Kiiara)\"], [\"A Place For My Head\"], [\"Lying From You\"], [\"Iridescent\"], [\"Points Of Authority\"], [\"Lost In The Echo\"], [\"Shadow Of The Day\"], [\"Talking To Myself\"]], \"hovertemplate\": \"artista=Linkin Park<br>x=%{x}<br>y=%{y}<br>musica=%{customdata[0]}<extra></extra>\", \"legendgroup\": \"Linkin Park\", \"marker\": {\"color\": \"#EF553B\", \"opacity\": 0.5, \"symbol\": \"circle\"}, \"mode\": \"markers\", \"name\": \"Linkin Park\", \"showlegend\": true, \"type\": \"scattergl\", \"x\": [-6.283023357391357, 8.821661949157715, -29.03040885925293, 19.060134887695312, 14.870946884155273, 30.960693359375, 18.561372756958008, 30.838167190551758, 26.700639724731445, 16.4034423828125, 22.850839614868164, 30.58902931213379, -32.36301803588867, 32.06809997558594, 18.837533950805664, -32.58647537231445, -9.319012641906738, 35.440216064453125, 4.216862678527832, -13.605003356933594, -2.567092180252075, -28.01919174194336, 8.531153678894043, 23.941869735717773, 38.69972610473633], \"xaxis\": \"x\", \"y\": [20.395153045654297, 40.45147705078125, -15.979866027832031, -20.338106155395508, 20.951778411865234, -8.872186660766602, -49.54698944091797, 23.180051803588867, 14.81736946105957, -49.73775100708008, -32.21417236328125, 30.50248146057129, -8.09836196899414, -12.315167427062988, -22.907974243164062, -9.35985279083252, -46.7770881652832, 27.166976928710938, 30.91753578186035, 49.137142181396484, 17.288257598876953, -4.983773231506348, -40.201717376708984, 11.447830200195312, -0.2721635401248932], \"yaxis\": \"y\"}, {\"customdata\": [[\"Eu Te Quero (Com Zeeba)\"]], \"hovertemplate\": \"artista=Manu Gavassi<br>x=%{x}<br>y=%{y}<br>musica=%{customdata[0]}<extra></extra>\", \"legendgroup\": \"Manu Gavassi\", \"marker\": {\"color\": \"#00cc96\", \"opacity\": 0.5, \"symbol\": \"circle\"}, \"mode\": \"markers\", \"name\": \"Manu Gavassi\", \"showlegend\": true, \"type\": \"scattergl\", \"x\": [-23.859695434570312], \"xaxis\": \"x\", \"y\": [-32.50441360473633], \"yaxis\": \"y\"}, {\"customdata\": [[\"This Love\"], [\"Moves Like Jagger (feat. Christina Aguilera)\"], [\"Nobody's Love\"], [\"Animals\"], [\"Payphone (Feat. Wiz Khalifa)\"], [\"Maps\"], [\"Don't Wanna Know (Feat. Kendrick Lamar)\"], [\"Girls Like You\"], [\"Cold (Feat. Future)\"], [\"Love Somebody\"], [\"What Lovers Do (feat. SZA)\"], [\"Daylight\"], [\"Lost Stars\"], [\"Won't Go Home Without You\"], [\"It Was Always You\"], [\"Payphone (Non-Rap Version)\"], [\"Best 4 U\"], [\"Harder To Breathe\"], [\"She Will Be Loved\"], [\"One More Night\"], [\"Sugar\"], [\"Sunday Morning\"], [\"Girls Like You (Feat. Cardi B)\"], [\"Memories\"]], \"hovertemplate\": \"artista=Maroon 5<br>x=%{x}<br>y=%{y}<br>musica=%{customdata[0]}<extra></extra>\", \"legendgroup\": \"Maroon 5\", \"marker\": {\"color\": \"#ab63fa\", \"opacity\": 0.5, \"symbol\": \"circle\"}, \"mode\": \"markers\", \"name\": \"Maroon 5\", \"showlegend\": true, \"type\": \"scattergl\", \"x\": [5.798685550689697, -6.383365631103516, -11.752856254577637, -16.232589721679688, 3.91424560546875, 20.52806854248047, -24.057750701904297, -12.066619873046875, -0.8249107599258423, -0.11991272866725922, -6.9660139083862305, -1.8306564092636108, 20.771591186523438, 0.749740719795227, 2.977097988128662, 4.194158554077148, 29.289594650268555, -20.47750473022461, 15.713109016418457, 22.27006721496582, 1.928247332572937, 3.968933343887329, -12.068142890930176, -10.024116516113281], \"xaxis\": \"x\", \"y\": [34.59516143798828, 7.086999893188477, 27.802534103393555, -21.575254440307617, 37.093414306640625, -20.69121742248535, -20.92366600036621, 54.571468353271484, 11.07348918914795, 30.519315719604492, -20.174001693725586, 37.95942687988281, -39.959354400634766, 33.23934555053711, 6.720686435699463, 36.88733673095703, -29.863550186157227, 35.87036895751953, 17.548439025878906, 36.527225494384766, -32.19572067260742, 34.16284942626953, 54.56363296508789, -16.011844635009766], \"yaxis\": \"y\"}, {\"customdata\": [[\"The Unforgiven\"], [\"To Live Is To Die\"], [\"Until It Sleeps\"], [\"The Unforgiven Iii\"], [\"Bleeding Me\"], [\"Turn The Page\"], [\"Of Wolf And Man\"], [\"The Memory Remains\"], [\"All Within My Hands\"], [\"Fade To Black\"], [\"Nothing Else Matters\"], [\"The Call of Ktulu\"], [\"For Whom The Bell Tolls\"], [\"The Ecstasy Of Gold\"], [\"Sad But True\"], [\"Wherever I May Roam\"], [\"The Unforgiven Ii\"], [\"Whiskey In The Jar\"], [\"One\"], [\"Master Of Puppets\"], [\"Enter Sandman\"], [\"Creeping Death\"], [\"Ride The Lightning\"], [\"Fuel\"], [\"Seek And Destroy\"]], \"hovertemplate\": \"artista=Metallica<br>x=%{x}<br>y=%{y}<br>musica=%{customdata[0]}<extra></extra>\", \"legendgroup\": \"Metallica\", \"marker\": {\"color\": \"#FFA15A\", \"opacity\": 0.5, \"symbol\": \"circle\"}, \"mode\": \"markers\", \"name\": \"Metallica\", \"showlegend\": true, \"type\": \"scattergl\", \"x\": [7.12377405166626, 24.215402603149414, 7.142884254455566, -28.263338088989258, 34.99549865722656, 18.074922561645508, -10.572081565856934, 6.900074481964111, 29.881391525268555, 19.648014068603516, 16.587467193603516, -26.36678123474121, 28.706985473632812, -26.7185001373291, 13.428634643554688, 19.402019500732422, 16.225154876708984, -21.50507926940918, 17.89019775390625, -3.3058080673217773, 6.3501482009887695, 21.238401412963867, 33.07305145263672, 7.031566619873047, -3.9403798580169678], \"xaxis\": \"x\", \"y\": [-53.10277557373047, -38.09540939331055, -0.5246616005897522, -17.696361541748047, -23.005706787109375, -8.093259811401367, 4.908502101898193, -52.4918327331543, 1.500445008277893, 0.679716944694519, 16.643312454223633, -63.19281005859375, -10.032625198364258, -63.19901657104492, -0.0272076316177845, -35.289798736572266, -49.71825408935547, 22.035608291625977, -24.94917106628418, -41.38620376586914, -49.11857986450195, -10.181872367858887, -20.64567756652832, -52.6008186340332, -43.418434143066406], \"yaxis\": \"y\"}, {\"customdata\": [[\"Man In The Mirror\"], [\"Bad\"], [\"The Way You Make Me Feel\"], [\"Remember The Time\"], [\"Ben\"], [\"Love Never Felt So Good (Feat. Justin Timberlake)\"], [\"Thriller\"], [\"Billie Jean\"], [\"Beat It\"], [\"We Are The World\"], [\"Black Or White\"], [\"Don't Stop 'Til You Get Enough\"], [\"Earth Song\"], [\"Human Nature\"], [\"Smooth Criminal\"], [\"They Don't Care About Us\"], [\"You Are Not Alone\"], [\"Music And Me\"], [\"Happy\"], [\"Heal The World\"], [\"I'll Be There\"], [\"One Day In Your Life\"], [\"I Just Can't Stop Loving You (feat. Siedah Garrett)\"], [\"The Girl Is Mine (feat. Paul Mccartney)\"], [\"Will You Be There\"]], \"hovertemplate\": \"artista=Michael Jackson<br>x=%{x}<br>y=%{y}<br>musica=%{customdata[0]}<extra></extra>\", \"legendgroup\": \"Michael Jackson\", \"marker\": {\"color\": \"#19d3f3\", \"opacity\": 0.5, \"symbol\": \"circle\"}, \"mode\": \"markers\", \"name\": \"Michael Jackson\", \"showlegend\": true, \"type\": \"scattergl\", \"x\": [-3.7622435092926025, 21.2242488861084, -18.35494041442871, 23.118459701538086, -13.081998825073242, 8.490708351135254, 4.05745792388916, -33.62930679321289, -12.32349967956543, 24.172325134277344, -10.348505973815918, 30.12824058532715, -18.19536590576172, 13.084447860717773, -28.897335052490234, 0.8108375668525696, 2.425696849822998, 39.39625549316406, -7.128583908081055, 24.540739059448242, -14.369344711303711, 25.30417823791504, -30.04526138305664, -8.097784996032715, -29.280038833618164], \"xaxis\": \"x\", \"y\": [-0.43678703904151917, -30.434282302856445, -7.865652561187744, -44.30856704711914, -17.49658966064453, 55.3072395324707, -40.37368392944336, 5.137794494628906, 31.597909927368164, -1.015850305557251, 0.6168370246887207, 16.059167861938477, -44.80250930786133, -43.63554000854492, -13.445995330810547, -37.89396286010742, -20.476558685302734, -21.50284767150879, 1.7969145774841309, 10.859403610229492, 32.38450241088867, 9.088502883911133, -32.7188606262207, -38.824623107910156, -18.662187576293945], \"yaxis\": \"y\"}, {\"customdata\": [[\"Slide Away\"], [\"Mother's Daughter\"], [\"Malibu\"], [\"Party In The U.S.A.\"], [\"We Can't Stop\"], [\"Nothing Breaks Like a Heart\"], [\"When I Look At You\"], [\"Wrecking Ball\"], [\"The Climb\"], [\"Heart Of Glass\"], [\"Midnight Sky\"], [\"Adore You\"], [\"7 Things\"], [\"Butterfly Fly Away\"], [\"Can't Be Tamed\"], [\"You'll Always Find Your Way Back Home\"], [\"Bad Karma\"], [\"Adore You (Cedric Gervais Remix)\"], [\"(Happy Xmas) War Is Over (Ft. Mark Ronson, Sean Ono Lennon)\"], [\"Butterfly Fly Away (extended Version)\"], [\"Jolene\"], [\"True Friend\"], [\"Ordinary Girl\"], [\"I'll Always Remember You\"], [\"Who Owns My Heart\"]], \"hovertemplate\": \"artista=Miley Cyrus<br>x=%{x}<br>y=%{y}<br>musica=%{customdata[0]}<extra></extra>\", \"legendgroup\": \"Miley Cyrus\", \"marker\": {\"color\": \"#FF6692\", \"opacity\": 0.5, \"symbol\": \"circle\"}, \"mode\": \"markers\", \"name\": \"Miley Cyrus\", \"showlegend\": true, \"type\": \"scattergl\", \"x\": [-13.535296440124512, -20.901744842529297, -2.1244821548461914, -30.07883071899414, 40.8043327331543, 1.9332525730133057, -29.876708984375, 14.881948471069336, 20.55010986328125, -21.157997131347656, -7.470583438873291, 41.678802490234375, 15.083239555358887, 18.196001052856445, 23.7189884185791, 5.840106010437012, -18.954307556152344, 41.680625915527344, 31.191314697265625, -1.058970332145691, -18.481151580810547, -2.31382155418396, 22.342988967895508, 8.25033187866211, 42.17853927612305], \"xaxis\": \"x\", \"y\": [19.268413543701172, -4.468247890472412, 15.26439380645752, 2.5829312801361084, -7.216678142547607, 14.03397274017334, -15.569964408874512, 31.51148796081543, -35.14278793334961, 23.452075958251953, 13.799821853637695, -36.27902603149414, 4.398792266845703, -42.51176834106445, -32.916221618652344, 23.239667892456055, 1.3999953269958496, -36.28066635131836, -4.601622581481934, -35.251766204833984, -10.29861831665039, 24.459501266479492, -28.250600814819336, 33.38085174560547, -1.897930383682251], \"yaxis\": \"y\"}, {\"customdata\": [[\"Plateau\"], [\"The Man Who Sold The World\"], [\"Lithium\"], [\"About A Girl\"], [\"Something In The Way\"], [\"Heart Shaped Box\"], [\"Jesus Doesn't Want Me For A Sunbeam\"], [\"Polly\"], [\"In Bloom\"], [\"Where Did You Sleep Last Night?\"], [\"All Apologies\"], [\"Rape Me\"], [\"Serve The Servants\"], [\"You Know You're Right\"], [\"Pennyroyal Tea\"], [\"Come As You Are\"], [\"Sliver\"], [\"Do Re Mi\"], [\"Love Buzz\"], [\"Drain You\"], [\"On A Plain\"], [\"Aero Zeppelin\"], [\"Dumb\"], [\"Breed\"], [\"Smells Like Teen Spirit\"]], \"hovertemplate\": \"artista=Nirvana<br>x=%{x}<br>y=%{y}<br>musica=%{customdata[0]}<extra></extra>\", \"legendgroup\": \"Nirvana\", \"marker\": {\"color\": \"#B6E880\", \"opacity\": 0.5, \"symbol\": \"circle\"}, \"mode\": \"markers\", \"name\": \"Nirvana\", \"showlegend\": true, \"type\": \"scattergl\", \"x\": [-5.776589393615723, 28.72836685180664, -31.307228088378906, 21.40113067626953, -4.3476715087890625, -22.373098373413086, 11.865516662597656, 4.657634258270264, 33.61558532714844, 15.089801788330078, 2.68208909034729, -1.6075552701950073, -1.8509438037872314, -34.34855270385742, -33.36669158935547, -2.7248775959014893, 1.0388253927230835, 15.613197326660156, 5.675019264221191, -30.258499145507812, 16.842613220214844, -21.48921775817871, 14.25666618347168, 15.698981285095215, -4.70159912109375], \"xaxis\": \"x\", \"y\": [47.42851638793945, -5.061728477478027, 9.722213745117188, -16.95062828063965, -41.024017333984375, 24.649396896362305, 30.202617645263672, -54.20820617675781, -6.917688369750977, 36.003448486328125, -43.1239128112793, -49.602718353271484, -4.285226821899414, 0.7343663573265076, -14.107100486755371, -40.30009460449219, 20.867650985717773, -50.73495864868164, -8.588882446289062, -10.951531410217285, -24.19712257385254, 28.12514305114746, -34.51483154296875, -51.36821365356445, -52.04304885864258], \"yaxis\": \"y\"}, {\"customdata\": [[\"Somebody\"], [\"Paradise\"], [\"Beautiful life\"], [\"Dana Dana\"], [\"Better\"], [\"All Day\"], [\"Come Together\"], [\"Feel It Now\"], [\"Who Would Think That Love\"], [\"Summer in the City\"], [\"Na na Na\"], [\"The Weekend's Here\"], [\"Chained Up\"], [\"Paran\\u00e1\"], [\"By My Side\"]], \"hovertemplate\": \"artista=Now United<br>x=%{x}<br>y=%{y}<br>musica=%{customdata[0]}<extra></extra>\", \"legendgroup\": \"Now United\", \"marker\": {\"color\": \"#FF97FF\", \"opacity\": 0.5, \"symbol\": \"circle\"}, \"mode\": \"markers\", \"name\": \"Now United\", \"showlegend\": true, \"type\": \"scattergl\", \"x\": [-2.094304084777832, -15.583174705505371, 6.417730808258057, -18.239818572998047, 29.503944396972656, 38.10356903076172, -8.698841094970703, -4.1132988929748535, -5.778956413269043, 22.34897232055664, -11.124565124511719, 36.14736557006836, -20.15953254699707, -16.285890579223633, -12.178512573242188], \"xaxis\": \"x\", \"y\": [32.53437423706055, -30.31241226196289, -38.967681884765625, -29.53095245361328, -37.54885482788086, -31.479583740234375, -6.642417907714844, -6.647336959838867, -35.78384780883789, -27.75087547302246, 24.645633697509766, -14.153379440307617, 3.375758647918701, 0.7394509315490723, 26.39688491821289], \"yaxis\": \"y\"}, {\"customdata\": [[\"Songbird\"], [\"(As Long As They've Got) Cigarettes In Hell\"], [\"Roll With It\"], [\"Some Might Say\"], [\"Rock'n'Roll Star\"], [\"Go Let It Out\"], [\"Don't Stop...\"], [\"Acquiesce\"], [\"Cast No Shadow\"], [\"(Get Off Your) High Horse Lady\"], [\"(It's Good) To Be Free\"], [\"Cigarettes & Alcohol\"], [\"Little By Little\"], [\"Let There Be Love\"], [\"Whatever\"], [\"Supersonic\"], [\"Champagne Supernova\"], [\"Stop Crying Your Heart Out\"], [\"Don't Look Back In Anger\"], [\"Slide Away\"], [\"Wonderwall\"], [\"Don't Go Away\"], [\"Live Forever\"], [\"All Around The World\"], [\"Stand By Me\"]], \"hovertemplate\": \"artista=Oasis<br>x=%{x}<br>y=%{y}<br>musica=%{customdata[0]}<extra></extra>\", \"legendgroup\": \"Oasis\", \"marker\": {\"color\": \"#FECB52\", \"opacity\": 0.5, \"symbol\": \"circle\"}, \"mode\": \"markers\", \"name\": \"Oasis\", \"showlegend\": true, \"type\": \"scattergl\", \"x\": [4.557990074157715, -21.568817138671875, 4.107547760009766, -21.590070724487305, 21.84885025024414, -14.1466646194458, 24.88715171813965, 34.701969146728516, -26.649120330810547, 6.7527360916137695, 2.7706236839294434, -7.430394172668457, 30.500782012939453, 23.739089965820312, -37.22050476074219, 16.847755432128906, 26.261972427368164, 31.77055549621582, 19.604530334472656, -16.649288177490234, -36.34326171875, 13.49032211303711, 26.098087310791016, -8.154595375061035, -36.575645446777344], \"xaxis\": \"x\", \"y\": [36.05557632446289, 14.703965187072754, 27.601856231689453, 37.95541763305664, 44.5965690612793, 21.640554428100586, -5.646973609924316, 4.111321449279785, 29.872325897216797, -46.15736389160156, 42.272361755371094, 17.001893997192383, -19.629547119140625, 0.7450681328773499, 3.102504253387451, 20.934999465942383, -2.0602059364318848, -19.378767013549805, 10.953369140625, -13.605145454406738, -3.1900033950805664, -4.498086452484131, -12.19593620300293, 37.5407829284668, 15.389747619628906], \"yaxis\": \"y\"}, {\"customdata\": [[\"Moments\"], [\"Walking in the Wind\"], [\"Stockholm Syndrome\"], [\"No Control\"], [\"Over Again\"], [\"End of The Day\"], [\"One Thing\"], [\"Steal My Girl\"], [\"Midnight Memories\"], [\"A.M\"], [\"Best Song Ever\"], [\"Olivia\"], [\"Perfect\"], [\"If I Could Fly\"], [\"Diana\"], [\"History\"], [\"Little Things\"], [\"You & I\"], [\"Drag Me Down\"], [\"18\"], [\"What Makes You Beautiful\"], [\"Story of My Life\"], [\"Night Changes\"], [\"Fool's Gold\"], [\"Infinity\"]], \"hovertemplate\": \"artista=One Direction<br>x=%{x}<br>y=%{y}<br>musica=%{customdata[0]}<extra></extra>\", \"legendgroup\": \"One Direction\", \"marker\": {\"color\": \"#636efa\", \"opacity\": 0.5, \"symbol\": \"circle\"}, \"mode\": \"markers\", \"name\": \"One Direction\", \"showlegend\": true, \"type\": \"scattergl\", \"x\": [33.67398452758789, 25.83871841430664, -3.384798765182495, 1.7077142000198364, 4.396238327026367, 10.2723970413208, 16.277721405029297, 0.008147381246089935, -0.10775991529226303, 8.961435317993164, 3.71927809715271, -10.350274085998535, 27.99289894104004, 15.056472778320312, -9.734236717224121, 12.98019790649414, 12.679677963256836, -1.4314379692077637, -27.309961318969727, 13.944892883300781, 0.19898347556591034, -0.4857862591743469, 11.113083839416504, 12.324793815612793, -6.82335901260376], \"xaxis\": \"x\", \"y\": [-24.636219024658203, -1.2884057760238647, 32.00628662109375, -31.024028778076172, 22.54872703552246, 7.451918601989746, 7.221187114715576, 15.314550399780273, -2.718599557876587, 7.016618728637695, -3.9231626987457275, 13.443140983581543, -29.46285629272461, 0.03631342574954033, -39.78532791137695, -6.765468120574951, -25.46192741394043, -21.332828521728516, 15.043444633483887, 23.019126892089844, -1.512682557106018, 5.627636909484863, 23.71019172668457, 9.693974494934082, 18.931713104248047], \"yaxis\": \"y\"}, {\"customdata\": [[\"Somebody To Love\"], [\"Marchin' On\"], [\"Wanted\"], [\"Start Again (Feat. Logic)\"], [\"Kids\"], [\"Feel Again\"], [\"Something I Need\"], [\"Human\"], [\"Wherever I Go\"], [\"All The Right Moves\"], [\"Love Runs Out\"], [\"Stop and Stare\"], [\"Let's Hurt Tonight\"], [\"Didn't I\"], [\"Better Days\"], [\"Rescue Me\"], [\"Say (All I Need)\"], [\"If I Lose Myself\"], [\"Good Life\"], [\"Wild Life\"], [\"I Lived\"], [\"Secrets\"], [\"Apologize\"], [\"Counting Stars\"], [\"Come Home (Feat. Sara Bareilles)\"]], \"hovertemplate\": \"artista=OneRepublic<br>x=%{x}<br>y=%{y}<br>musica=%{customdata[0]}<extra></extra>\", \"legendgroup\": \"OneRepublic\", \"marker\": {\"color\": \"#EF553B\", \"opacity\": 0.5, \"symbol\": \"circle\"}, \"mode\": \"markers\", \"name\": \"OneRepublic\", \"showlegend\": true, \"type\": \"scattergl\", \"x\": [3.400683641433716, -27.41452980041504, 12.924715995788574, -33.163719177246094, 30.0567684173584, 1.062172532081604, 19.17853355407715, 34.54533004760742, -14.872275352478027, 17.835588455200195, -2.900468111038208, 28.15614128112793, 2.468703031539917, -13.664109230041504, -12.599323272705078, -23.580713272094727, 6.63893985748291, 15.088950157165527, 14.485952377319336, -23.310739517211914, 38.00543975830078, 10.919575691223145, -22.64606475830078, 31.26528549194336, 3.6916279792785645], \"xaxis\": \"x\", \"y\": [-12.246183395385742, -21.35894012451172, 25.927465438842773, 34.50038146972656, -11.916316032409668, 7.017024040222168, 32.486366271972656, -14.364580154418945, 39.8567008972168, -4.398953914642334, 38.80296325683594, 30.159772872924805, -5.537521839141846, 16.184967041015625, 23.243249893188477, 7.215421199798584, 21.44576644897461, 16.30792236328125, 17.57707977294922, 29.16910171508789, -31.471107482910156, 17.05152702331543, 10.646728515625, -13.177041053771973, -45.44821548461914], \"yaxis\": \"y\"}, {\"customdata\": [[\"Flash Pose (Ft. Charli XCX)\"]], \"hovertemplate\": \"artista=Pabllo Vittar<br>x=%{x}<br>y=%{y}<br>musica=%{customdata[0]}<extra></extra>\", \"legendgroup\": \"Pabllo Vittar\", \"marker\": {\"color\": \"#00cc96\", \"opacity\": 0.5, \"symbol\": \"circle\"}, \"mode\": \"markers\", \"name\": \"Pabllo Vittar\", \"showlegend\": true, \"type\": \"scattergl\", \"x\": [-24.07208824157715], \"xaxis\": \"x\", \"y\": [-30.136560440063477], \"yaxis\": \"y\"}, {\"customdata\": [[\"Daughter\"], [\"Dance of the Clairvoyants\"], [\"Who Ever Said\"], [\"Future Days\"], [\"Given to Fly\"], [\"Superblood Wolfmoon\"], [\"Oceans\"], [\"Elderly Woman Behind the Counter in a Small Town\"], [\"Nothingman\"], [\"Smile\"], [\"Do The Evolution\"], [\"Release\"], [\"Black\"], [\"Last Kiss\"], [\"Alive\"], [\"Jeremy\"], [\"Just Breathe\"], [\"I Am Mine\"], [\"Once\"], [\"Light Years\"], [\"Yellow Ledbetter\"], [\"Better Man\"], [\"Soldier Of Love\"], [\"Sirens\"], [\"Even Flow\"]], \"hovertemplate\": \"artista=Pearl Jam<br>x=%{x}<br>y=%{y}<br>musica=%{customdata[0]}<extra></extra>\", \"legendgroup\": \"Pearl Jam\", \"marker\": {\"color\": \"#ab63fa\", \"opacity\": 0.5, \"symbol\": \"circle\"}, \"mode\": \"markers\", \"name\": \"Pearl Jam\", \"showlegend\": true, \"type\": \"scattergl\", \"x\": [-0.8256731629371643, 31.67731285095215, 21.049335479736328, 6.167629718780518, -15.884428024291992, 4.270050048828125, 0.7531811594963074, -11.66005802154541, -4.92710018157959, -11.108514785766602, -18.83338165283203, -15.488837242126465, -0.9510037302970886, 30.23968505859375, -7.01088285446167, 12.244424819946289, 28.373807907104492, 7.221584320068359, -19.593992233276367, -39.03593063354492, 12.572176933288574, -40.80601119995117, -32.6199951171875, -1.7946374416351318, -5.642895221710205], \"xaxis\": \"x\", \"y\": [-34.98017883300781, -11.775591850280762, -5.508510112762451, 5.635504245758057, -23.1993408203125, 0.28386232256889343, -43.73448181152344, 8.040667533874512, -43.538272857666016, 20.8236026763916, -33.03669738769531, -10.431965827941895, 4.941838264465332, 24.154800415039062, -2.5943713188171387, -34.5572395324707, -30.044546127319336, 8.107017517089844, 5.262265205383301, 18.303787231445312, -37.68682098388672, 9.616473197937012, 11.980111122131348, 38.55374526977539, 5.179206848144531], \"yaxis\": \"y\"}, {\"customdata\": [[\"True Love (Feat. Lily Allen)\"], [\"Dear Mr. President (feat. Indigo Girls)\"], [\"Walk Me Home\"], [\"Don't Let Me Get Me\"], [\"U + Ur Hand\"], [\"Trouble\"], [\"I Am Here\"], [\"90 Days (Feat. Wrabel)\"], [\"(Hey Why) Miss You Sometime\"], [\"Are We All We Are\"], [\"Just Give Me A Reason (Feat. Nate Ruess)\"], [\"A Million Dreams\"], [\"F**kin' Perfect\"], [\"Try\"], [\"Who Knew\"], [\"What About Us\"], [\"Please Don't Leave Me\"], [\"So What\"], [\"Beautiful Trauma\"], [\"Funhouse\"], [\"Just Like Fire\"], [\"Sober\"], [\"Raise Your Glass\"], [\"Blow Me (One Last Kiss)\"], [\"Just Like A Pill\"]], \"hovertemplate\": \"artista=Pink<br>x=%{x}<br>y=%{y}<br>musica=%{customdata[0]}<extra></extra>\", \"legendgroup\": \"Pink\", \"marker\": {\"color\": \"#FFA15A\", \"opacity\": 0.5, \"symbol\": \"circle\"}, \"mode\": \"markers\", \"name\": \"Pink\", \"showlegend\": true, \"type\": \"scattergl\", \"x\": [-19.334012985229492, -3.7382771968841553, 7.434145450592041, 16.38697052001953, 3.8904032707214355, 9.701794624328613, 20.67815399169922, -20.245670318603516, 1.5623518228530884, 5.893056869506836, 32.187564849853516, 23.661148071289062, 18.63377571105957, -21.143512725830078, 3.3372013568878174, -18.19931983947754, 13.929261207580566, 4.721236705780029, -17.999914169311523, -36.27872085571289, -18.02663803100586, -5.019429683685303, -19.97499656677246, -30.091432571411133, 14.507122039794922], \"xaxis\": \"x\", \"y\": [17.10499382019043, -18.78571891784668, 39.82297134399414, -27.099544525146484, -30.71281623840332, -47.02409362792969, 32.912803649902344, -0.44666948914527893, -11.287971496582031, 10.611978530883789, -10.430503845214844, 22.045673370361328, -30.571271896362305, 33.264896392822266, -53.849117279052734, -44.798606872558594, -29.709543228149414, -38.0592155456543, -2.1410751342773438, -5.659183979034424, 45.01322937011719, 21.43204116821289, 29.993106842041016, 25.37871742248535, 11.400912284851074], \"yaxis\": \"y\"}, {\"customdata\": [[\"Another Brick In The Wall, Pt. 2\"], [\"On The Turning Away\"], [\"Echoes\"], [\"Pigs (Three Different Ones)\"], [\"Us And Them\"], [\"Eclipse\"], [\"Brain Damage\"], [\"High Hopes\"], [\"The Great Gig in the Sky\"], [\"Coming Back To Life\"], [\"Goodbye Blue Sky\"], [\"Shine On You Crazy Diamond\"], [\"In the Flesh?\"], [\"Money\"], [\"Breathe\"], [\"Mother\"], [\"Another Brick In The Wall, pt. 1\"], [\"Hey You\"], [\"Time\"], [\"The Wall (complete)\"], [\"Comfortably Numb\"], [\"Wish You Were Here\"], [\"Another Brick In The Wall\"], [\"Speak to Me\"], [\"Learning To Fly\"]], \"hovertemplate\": \"artista=Pink Floyd<br>x=%{x}<br>y=%{y}<br>musica=%{customdata[0]}<extra></extra>\", \"legendgroup\": \"Pink Floyd\", \"marker\": {\"color\": \"#19d3f3\", \"opacity\": 0.5, \"symbol\": \"circle\"}, \"mode\": \"markers\", \"name\": \"Pink Floyd\", \"showlegend\": true, \"type\": \"scattergl\", \"x\": [-7.438672065734863, 28.336305618286133, 25.865034103393555, -24.410017013549805, -3.8834028244018555, 32.029544830322266, -41.809173583984375, -4.474276542663574, -27.036376953125, -4.897646427154541, -31.593311309814453, -31.078336715698242, -27.69292640686035, -25.92233657836914, -43.60563278198242, -32.166831970214844, -7.093483924865723, -3.8821427822113037, -43.41624450683594, -28.044384002685547, -34.116024017333984, 17.691797256469727, -7.079378604888916, -36.550472259521484, -29.891536712646484], \"xaxis\": \"x\", \"y\": [10.404019355773926, -21.96169090270996, 7.15086555480957, -4.750736713409424, 12.193316459655762, -32.3183708190918, 0.6094030141830444, -33.151954650878906, -15.418524742126465, 46.84297180175781, -13.56454086303711, -15.673165321350098, 1.0438165664672852, -6.938727855682373, 0.9563626646995544, 6.114625930786133, 9.275056838989258, -18.952863693237305, 2.0725841522216797, -11.552298545837402, 1.227343201637268, -34.22447204589844, 9.963403701782227, 8.318798065185547, 2.568092107772827], \"yaxis\": \"y\"}, {\"customdata\": [[\"On the Road (feat. Meek Mill and Lil Baby)\"], [\"Circles\"], [\"Yours Truly, Austin Post\"], [\"Big Lie\"], [\"Sunflower (With Swae Lee)\"], [\"I Fall Apart\"], [\"Over Now\"], [\"Congratulations\"], [\"A Thousand Bad Times\"], [\"Deja Vu (Feat. Justin Bieber)\"], [\"Enemies (Feat. DaBaby)\"], [\"Hollywood's Bleeding\"], [\"Wow.\"], [\"White Iverson\"], [\"Blame It On Me\"], [\"Take What You Want (feat. Ozzy Osbourne and Travis Scott)\"], [\"Goodbyes (Feat. Young Thug)\"], [\"Rockstar (feat. 21 Savage)\"], [\"Stay\"], [\"Better Now\"], [\"Go Flex\"], [\"Die for Me (Feat. Future and Halsey)\"], [\"Paranoid\"], [\"Psycho (feat. Ty Dolla $ign)\"], [\"Saint-Tropez\"]], \"hovertemplate\": \"artista=Post Malone<br>x=%{x}<br>y=%{y}<br>musica=%{customdata[0]}<extra></extra>\", \"legendgroup\": \"Post Malone\", \"marker\": {\"color\": \"#FF6692\", \"opacity\": 0.5, \"symbol\": \"circle\"}, \"mode\": \"markers\", \"name\": \"Post Malone\", \"showlegend\": true, \"type\": \"scattergl\", \"x\": [-16.98675537109375, -1.406144380569458, -16.48163604736328, -10.575494766235352, -34.399681091308594, 40.24782180786133, -25.145662307739258, -3.2230241298675537, -23.071666717529297, -17.070762634277344, -16.714826583862305, -17.23350715637207, -28.401124954223633, -24.627044677734375, -20.325695037841797, -2.4763426780700684, 10.03385066986084, -24.377899169921875, -9.048799514770508, -32.253517150878906, -14.300854682922363, -15.51955509185791, -6.238898277282715, -17.713964462280273, -20.455503463745117], \"xaxis\": \"x\", \"y\": [23.066287994384766, 35.41214370727539, 22.19354248046875, -2.229501247406006, 24.988203048706055, -13.374241828918457, 21.2784366607666, 2.502448081970215, 7.017337322235107, -13.456271171569824, 27.594247817993164, 28.17096710205078, 5.342708587646484, -30.066692352294922, 22.26058006286621, 32.146610260009766, 15.41081428527832, -3.5225844383239746, 24.161996841430664, 27.780071258544922, 2.016451597213745, 27.93701171875, 24.470378875732422, 8.670056343078613, 20.382083892822266], \"yaxis\": \"y\"}, {\"customdata\": [[\"Love Of My Life\"], [\"I Want To Break Free\"], [\"We Are The Champions\"], [\"The Show Must Go On\"], [\"Somebody To Love\"], [\"Another One Bites The Dust\"], [\"A Kind Of Magic\"], [\"Crazy Little Thing Called Love\"], [\"Don't Stop Me Now\"], [\"We Will Rock You\"], [\"20th Century Fox Fanfare\"], [\"Who Wants To Live Forever\"], [\"Fun It\"], [\"(You're So Square) Baby I Don't Care\"], [\"Bohemian Rhapsody\"], [\"Doing All Right\"], [\"I Was Born To Love You\"], [\"Bohemian Rhapsody (B-Sensual & No!end Bootleg)\"], [\"Forever\"], [\"You're My Best Friend\"], [\"In The Space Capsule\"], [\"A Winter's Tale (Cosy Fireside Mix)\"], [\"Radio Ga Ga\"], [\"Killer Queen\"], [\"Under Pressure (feat. David Bowie)\"]], \"hovertemplate\": \"artista=Queen<br>x=%{x}<br>y=%{y}<br>musica=%{customdata[0]}<extra></extra>\", \"legendgroup\": \"Queen\", \"marker\": {\"color\": \"#B6E880\", \"opacity\": 0.5, \"symbol\": \"circle\"}, \"mode\": \"markers\", \"name\": \"Queen\", \"showlegend\": true, \"type\": \"scattergl\", \"x\": [-27.984806060791016, -16.87495231628418, 26.553585052490234, -8.184019088745117, -31.967397689819336, -41.72745132446289, 26.12396240234375, -7.764255046844482, -9.127626419067383, 18.001379013061523, -26.12875747680664, -33.51369857788086, 6.189849853515625, -23.873945236206055, 19.686416625976562, 11.336037635803223, 5.0047173500061035, 19.0640869140625, -26.97764015197754, 29.373815536499023, -26.122447967529297, 13.65948486328125, 0.2723906934261322, 1.383697748184204, -27.174585342407227], \"xaxis\": \"x\", \"y\": [-12.138470649719238, 12.969178199768066, -41.47339630126953, 19.78488540649414, -10.890539169311523, 4.427508354187012, 5.972781181335449, -28.049793243408203, 26.06320571899414, -9.935086250305176, -62.59259796142578, 23.495763778686523, 41.56221008300781, 14.6997652053833, -29.53938865661621, 3.139077663421631, 18.833290100097656, -14.92057991027832, -62.60733413696289, -1.439130187034607, -62.94207763671875, -49.464786529541016, -41.6763916015625, -41.03230667114258, -23.375024795532227], \"yaxis\": \"y\"}, {\"customdata\": [[\"Pussy\"]], \"hovertemplate\": \"artista=Rammstein<br>x=%{x}<br>y=%{y}<br>musica=%{customdata[0]}<extra></extra>\", \"legendgroup\": \"Rammstein\", \"marker\": {\"color\": \"#FF97FF\", \"opacity\": 0.5, \"symbol\": \"circle\"}, \"mode\": \"markers\", \"name\": \"Rammstein\", \"showlegend\": true, \"type\": \"scattergl\", \"x\": [-20.247173309326172], \"xaxis\": \"x\", \"y\": [-30.015975952148438], \"yaxis\": \"y\"}, {\"customdata\": [[\"Snow (Hey Oh)\"], [\"Californication\"], [\"Otherside\"], [\"The Power Of Equality\"], [\"Easily\"], [\"Suck My Kiss\"], [\"Encore\"], [\"Higher Ground\"], [\"Universally Speaking\"], [\"Soul To Squeeze\"], [\"The Getaway\"], [\"Dosed\"], [\"Tell Me Baby\"], [\"The Zephyr Song\"], [\"Goodbye Angels\"], [\"Don't Forget Me\"], [\"By The Way\"], [\"Scar Tissue\"], [\"Dark Necessities\"], [\"Under The Bridge\"], [\"Dani California\"], [\"Give It Away\"], [\"Around The World\"], [\"Road Trippin'\"], [\"Can't Stop\"]], \"hovertemplate\": \"artista=Red Hot Chili Peppers<br>x=%{x}<br>y=%{y}<br>musica=%{customdata[0]}<extra></extra>\", \"legendgroup\": \"Red Hot Chili Peppers\", \"marker\": {\"color\": \"#FECB52\", \"opacity\": 0.5, \"symbol\": \"circle\"}, \"mode\": \"markers\", \"name\": \"Red Hot Chili Peppers\", \"showlegend\": true, \"type\": \"scattergl\", \"x\": [-36.53962707519531, 1.7204097509384155, 13.657998085021973, 13.777432441711426, 10.869732856750488, 18.623493194580078, 15.962881088256836, -4.817420959472656, 9.746695518493652, 2.662602186203003, 9.672155380249023, 2.5859246253967285, 25.177019119262695, -33.76543426513672, 9.087830543518066, 34.495338439941406, -17.31941795349121, 13.682861328125, 8.822611808776855, -4.081800937652588, -23.738311767578125, -14.925436973571777, 12.846183776855469, -44.43168258666992, 3.4706623554229736], \"xaxis\": \"x\", \"y\": [4.817348003387451, -40.7588005065918, -11.743841171264648, -48.080379486083984, 15.320250511169434, -29.0842342376709, -34.17954635620117, -43.44868850708008, -9.974860191345215, 29.157915115356445, -15.215323448181152, 45.018184661865234, 11.692741394042969, 3.85142183303833, 24.75281524658203, -14.951193809509277, -32.62360382080078, -37.16147994995117, 9.912698745727539, 21.72577476501465, -17.903778076171875, 24.357881546020508, -33.4879035949707, 2.635820150375366, 16.525514602661133], \"yaxis\": \"y\"}, {\"customdata\": [[\"Umbrella (feat. Jay Z)\"], [\"Bitch Better Have My Money\"], [\"Stay (feat. Mikky Ekko)\"], [\"Take A Bow\"], [\"Man Down\"], [\"Needed Me\"], [\"What's My Name (feat. Drake)\"], [\"Only Girl (In The World)\"], [\"We Found Love (feat. Calvin Harris)\"], [\"Work (Feat. Drake)\"], [\"Rude Boy\"], [\"S&M\"], [\"Don't Stop The Music\"], [\"Love The Way You Lie\"], [\"Kiss It Better\"], [\"Rehab (feat. Justin Timberlake)\"], [\"California King Bed\"], [\"Where Have You Been\"], [\"Consideration (feat. SZA)\"], [\"Disturbia\"], [\"If It's Lovin' That You Want\"], [\"Hate That I Love You (feat. Ne-yo)\"], [\"Unfaithful\"], [\"Diamonds\"], [\"Love On The Brain\"]], \"hovertemplate\": \"artista=Rihanna<br>x=%{x}<br>y=%{y}<br>musica=%{customdata[0]}<extra></extra>\", \"legendgroup\": \"Rihanna\", \"marker\": {\"color\": \"#636efa\", \"opacity\": 0.5, \"symbol\": \"circle\"}, \"mode\": \"markers\", \"name\": \"Rihanna\", \"showlegend\": true, \"type\": \"scattergl\", \"x\": [9.825541496276855, 28.713125228881836, 0.11669395118951797, 20.63727569580078, 2.2697901725769043, -18.01093101501465, -2.205116033554077, -3.085114002227783, -16.954832077026367, 7.922008991241455, 4.474401950836182, -22.870956420898438, 37.53335952758789, 14.435602188110352, -4.080216884613037, -8.023516654968262, 19.668415069580078, 26.007761001586914, -33.39812088012695, -5.41275691986084, 8.352187156677246, 2.5588810443878174, 20.210834503173828, 25.64987564086914, 6.8775787353515625], \"xaxis\": \"x\", \"y\": [-16.168655395507812, 0.9775784015655518, 31.556459426879883, -12.036050796508789, -6.195965766906738, 29.966289520263672, 29.131620407104492, -1.115615963935852, 11.704480171203613, -40.79017639160156, -54.137969970703125, -10.585147857666016, -16.841140747070312, -42.925418853759766, 30.141510009765625, -0.821619987487793, -38.308895111083984, -30.61904525756836, 1.9321630001068115, -24.907798767089844, 25.12759017944336, 27.403066635131836, -16.170835494995117, 2.6706690788269043, 1.3505855798721313], \"yaxis\": \"y\"}, {\"customdata\": [[\"People get ready\"], [\"The First Cut Is The Deepest\"], [\"What a Difference a Day Makes\"], [\"Love Touch\"], [\"Da Ya Think I'm Sexy (Feat. DNCE)\"], [\"Some Guys Have All The Luck\"], [\"You Are Everything\"], [\"Have I Told You Lately\"], [\"Fly Me To The Moon\"], [\"Tonight's The Night\"], [\"A Reason To Believe\"], [\"All For Love\"], [\"Baby Jane\"], [\"Stop Loving Her Today\"], [\"Forever Young\"], [\"Maggie May\"], [\"Every Beat Of My Heart\"], [\"The Way You Look Tonight\"], [\"You're In My Heart (The Final Acclaim)\"], [\"Have You Ever Seen The Rain?\"], [\"Sailing\"], [\"I Don't Want To Talk About It\"], [\"Young Turks\"], [\"My Heart Can't Tell You No\"], [\"It's A Heartache\"]], \"hovertemplate\": \"artista=Rod Stewart<br>x=%{x}<br>y=%{y}<br>musica=%{customdata[0]}<extra></extra>\", \"legendgroup\": \"Rod Stewart\", \"marker\": {\"color\": \"#EF553B\", \"opacity\": 0.5, \"symbol\": \"circle\"}, \"mode\": \"markers\", \"name\": \"Rod Stewart\", \"showlegend\": true, \"type\": \"scattergl\", \"x\": [27.326906204223633, -13.556431770324707, 27.971372604370117, 17.37702751159668, -9.694622993469238, -0.9272197484970093, 16.683320999145508, -27.523935317993164, -1.9293396472930908, 23.60261344909668, -7.232073783874512, -0.04125644639134407, -1.6069425344467163, 3.824103593826294, -23.176353454589844, -29.30825424194336, 27.946094512939453, 19.559965133666992, 19.938692092895508, 11.01448917388916, 24.563302993774414, -16.274917602539062, 29.057369232177734, -32.50999450683594, -8.151853561401367], \"xaxis\": \"x\", \"y\": [-24.141401290893555, 26.87956428527832, 12.95369815826416, 5.219056606292725, 40.79802322387695, 42.016021728515625, -40.080482482910156, 24.12950897216797, -8.198141098022461, -7.609228610992432, 32.974327087402344, 18.129539489746094, 39.333492279052734, -27.171199798583984, -18.3040828704834, 26.500486373901367, -23.46671485900879, 9.881539344787598, 4.774209499359131, -27.95949363708496, 4.598025321960449, -3.6186940670013428, 20.44822120666504, 7.6194233894348145, -14.177775382995605], \"yaxis\": \"y\"}, {\"customdata\": [[\"Too Good At Goodbyes\"], [\"I Feel Love\"], [\"Diamonds\"], [\"Burning\"], [\"Money On My Mind\"], [\"Latch\"], [\"I'm Not The Only One (Feat. A$AP Rocky)\"], [\"Say It First\"], [\"Writing's On The Wall\"], [\"Fix You\"], [\"Baby, You Make Me Crazy (Feat. The Dap-Kings Horns)\"], [\"I'm Ready (With Demi Lovato)\"], [\"Promises\"], [\"Him\"], [\"I'm Not The Only One\"], [\"To Die For\"], [\"Lay Me Down\"], [\"Pray\"], [\"Pray (Feat. Logic) (Remix)\"], [\"My Oasis (Ft. Burna Boy)\"], [\"How Do You Sleep?\"], [\"Fire on Fire\"], [\"Dancing With A Stranger (With Normani)\"], [\"Stay With Me\"], [\"La La La\"]], \"hovertemplate\": \"artista=Sam Smith<br>x=%{x}<br>y=%{y}<br>musica=%{customdata[0]}<extra></extra>\", \"legendgroup\": \"Sam Smith\", \"marker\": {\"color\": \"#00cc96\", \"opacity\": 0.5, \"symbol\": \"circle\"}, \"mode\": \"markers\", \"name\": \"Sam Smith\", \"showlegend\": true, \"type\": \"scattergl\", \"x\": [-7.882852554321289, 5.56748104095459, -24.44561195373535, 39.63835144042969, 32.51542663574219, -13.601635932922363, 31.05251693725586, 13.254788398742676, -8.368078231811523, 42.81905746459961, 9.771635055541992, 1.287030816078186, 23.560544967651367, 1.204089879989624, 30.986997604370117, 23.58326530456543, 33.08697509765625, -18.823633193969727, -9.095423698425293, -8.166068077087402, 14.047096252441406, 20.000656127929688, 38.47847366333008, -5.910653114318848, 8.23189640045166], \"xaxis\": \"x\", \"y\": [20.9455509185791, -21.61292839050293, -28.448551177978516, -13.346800804138184, -23.174076080322266, 12.75020694732666, 9.660773277282715, 17.065149307250977, 6.426016330718994, 25.70729637145996, 19.178142547607422, 5.562405586242676, -23.239513397216797, -51.271461486816406, 9.861790657043457, 7.054782867431641, -0.5465871691703796, -30.406837463378906, -5.263424873352051, -17.875837326049805, 29.7695369720459, -41.00736999511719, -4.067373752593994, -7.734737873077393, -14.105448722839355], \"yaxis\": \"y\"}, {\"customdata\": [[\"Falling In Love\"], [\"Rhythm Of Love\"], [\"Drive\"], [\"In Trance\"], [\"Big City Nights\"], [\"Blackout\"], [\"Believe In Love\"], [\"Love Of My Life (cover)\"], [\"When You Came Into My Life\"], [\"Humanity\"], [\"When The Smoke Is Going Down\"], [\"Dust In The Wind (cover)\"], [\"Rock You Like A Hurricane\"], [\"Life Is Too Short\"], [\"Follow Your Heart\"], [\"Under The Same Sun\"], [\"Holiday\"], [\"Send Me An Angel\"], [\"You And I\"], [\"Always Somewhere\"], [\"Still Loving You\"], [\"Wind Of Change\"], [\"No One Like You\"], [\"The Zoo\"]], \"hovertemplate\": \"artista=Scorpions<br>x=%{x}<br>y=%{y}<br>musica=%{customdata[0]}<extra></extra>\", \"legendgroup\": \"Scorpions\", \"marker\": {\"color\": \"#ab63fa\", \"opacity\": 0.5, \"symbol\": \"circle\"}, \"mode\": \"markers\", \"name\": \"Scorpions\", \"showlegend\": true, \"type\": \"scattergl\", \"x\": [0.9563480019569397, 24.676258087158203, -11.955821990966797, -16.182783126831055, 0.3678140938282013, -9.476125717163086, 34.96413803100586, 32.90462112426758, 14.635127067565918, -6.74638032913208, 12.110481262207031, 25.743497848510742, 23.556076049804688, 18.987546920776367, 33.81097412109375, 7.00804328918457, 29.01288414001465, 34.82921600341797, 31.342023849487305, 3.0647811889648438, 35.363014221191406, 32.89753341674805, 5.816364288330078, 2.2404823303222656], \"xaxis\": \"x\", \"y\": [-51.60945129394531, -15.503439903259277, 38.97175598144531, 11.136598587036133, -21.121198654174805, -37.61193084716797, 14.253832817077637, -25.44138526916504, -16.244342803955078, -40.32998275756836, 37.23880386352539, -41.24736022949219, -36.1249885559082, -43.1300048828125, 14.961380958557129, 38.39115524291992, 6.543212413787842, -26.822046279907227, 21.872421264648438, 11.914314270019531, -2.12459659576416, -15.870059967041016, 31.72747802734375, 9.8683443069458], \"yaxis\": \"y\"}, {\"customdata\": [[\"Good for You (feat. A$AP Rocky)\"], [\"Dance Again\"], [\"Revival\"], [\"Girl Crush (Feat. Iggy Azalea)\"], [\"Crowded Room (feat. 6lack)\"], [\"Sober\"], [\"Ring\"], [\"Live Like There's no Tomorrow\"], [\"Back To You\"], [\"Love You Like a Love Song\"], [\"Boyfriend\"], [\"Feel Me\"], [\"Hands To Myself\"], [\"Fetish (Feat. Gucci Mane)\"], [\"Vulnerable\"], [\"A Year Without Rain\"], [\"Who Says\"], [\"Look At Her Now\"], [\"Souvenir\"], [\"Wolves (Feat. Marshmello)\"], [\"Rare\"], [\"The Heart Wants What It Wants\"], [\"Lose You To Love Me\"], [\"A Sweeter Place (Ft. Kid Cudi)\"], [\"Same Old Love\"]], \"hovertemplate\": \"artista=Selena Gomez<br>x=%{x}<br>y=%{y}<br>musica=%{customdata[0]}<extra></extra>\", \"legendgroup\": \"Selena Gomez\", \"marker\": {\"color\": \"#FFA15A\", \"opacity\": 0.5, \"symbol\": \"circle\"}, \"mode\": \"markers\", \"name\": \"Selena Gomez\", \"showlegend\": true, \"type\": \"scattergl\", \"x\": [-26.76091957092285, -19.13256072998047, -10.86561107635498, -22.74265480041504, 25.311010360717773, -33.01523971557617, -22.627408981323242, 7.5149312019348145, -13.42723560333252, -33.19255828857422, 15.614200592041016, 34.79985809326172, 17.4295711517334, 39.26008987426758, 7.411803245544434, -3.4336752891540527, 5.494509220123291, -1.869665503501892, 6.546718597412109, 7.045425891876221, 8.522976875305176, 5.703891277313232, 8.487112998962402, 4.556215286254883, 0.6309969425201416], \"xaxis\": \"x\", \"y\": [8.84375, -21.699750900268555, -39.97492218017578, 22.460294723510742, 32.704833984375, 29.18012809753418, 3.657991409301758, 36.617881774902344, 44.12321090698242, 8.460918426513672, 22.457775115966797, 13.34652042388916, 12.128620147705078, 19.0117244720459, 17.858688354492188, 4.864068508148193, -30.457408905029297, -14.780369758605957, -29.210420608520508, 16.67633056640625, 3.8990066051483154, 26.565139770507812, -36.61433792114258, -33.054779052734375, 23.478300094604492], \"yaxis\": \"y\"}, {\"customdata\": [[\"La La La (Brasil 2014) (Part. Carlinhos Brown)\"], [\"Try Everything\"], [\"Loca (feat. Dizzee Rascal)\"], [\"Whenever, Wherever\"], [\"Can't Remember To Forget You (Feat. Rihanna)\"], [\"Waka Waka (This Time For Africa)\"], [\"Super Bowl LIV Halftime Show (With Jennifer Lopez Ft. Bad Bunny, J Balvin)\"], [\"Hips Don't Lie (feat. Wyclef Jean)\"]], \"hovertemplate\": \"artista=Shakira<br>x=%{x}<br>y=%{y}<br>musica=%{customdata[0]}<extra></extra>\", \"legendgroup\": \"Shakira\", \"marker\": {\"color\": \"#19d3f3\", \"opacity\": 0.5, \"symbol\": \"circle\"}, \"mode\": \"markers\", \"name\": \"Shakira\", \"showlegend\": true, \"type\": \"scattergl\", \"x\": [5.97844123840332, 1.6443008184432983, -28.389774322509766, 22.82845687866211, -18.60477066040039, 12.618812561035156, -16.197132110595703, -15.124828338623047], \"xaxis\": \"x\", \"y\": [-39.08292007446289, -27.318082809448242, -6.244572639465332, -0.7915180921554565, 17.110841751098633, -48.50135803222656, -29.979063034057617, -16.716339111328125], \"yaxis\": \"y\"}, {\"customdata\": [[\"Wonder\"], [\"No Promises\"], [\"Youth (Feat. Khalid)\"], [\"Bad Reputation\"], [\"Life Of The Party\"], [\"Roses\"], [\"Nervous\"], [\"Memories\"], [\"Lost In Japan\"], [\"I Know What You Did Last Summer (feat. Camila Cabello)\"], [\"Fallin' All In You\"], [\"Why\"], [\"If I Can't Have You\"], [\"Use Somebody\"], [\"Imagination\"], [\"In My Blood\"], [\"Never Be Alone\"], [\"Mercy\"], [\"Stitches\"], [\"Treat You Better\"], [\"There's Nothing Holdin' Me Back\"], [\"Se\\u00f1orita (With Camila Cabello)\"], [\"Intro\"], [\"Because I Had You\"], [\"Like To Be You (Feat. Julia Michaels)\"]], \"hovertemplate\": \"artista=Shawn Mendes<br>x=%{x}<br>y=%{y}<br>musica=%{customdata[0]}<extra></extra>\", \"legendgroup\": \"Shawn Mendes\", \"marker\": {\"color\": \"#FF6692\", \"opacity\": 0.5, \"symbol\": \"circle\"}, \"mode\": \"markers\", \"name\": \"Shawn Mendes\", \"showlegend\": true, \"type\": \"scattergl\", \"x\": [-1.1180624961853027, 21.565275192260742, 18.466022491455078, 2.4659066200256348, 28.430953979492188, -13.371495246887207, 9.207640647888184, 28.444072723388672, 8.927980422973633, -25.417949676513672, 11.690298080444336, -16.3535099029541, -14.447458267211914, -8.12440013885498, 20.830671310424805, 16.909345626831055, 19.494823455810547, 29.199077606201172, 23.58662986755371, 33.44618225097656, 18.786535263061523, -20.206205368041992, 35.60711669921875, 12.76513385772705, -6.486847400665283], \"xaxis\": \"x\", \"y\": [10.67083740234375, -14.55260944366455, 14.894296646118164, -29.945398330688477, 6.133049011230469, 24.922704696655273, 42.679569244384766, -5.880111217498779, 16.761648178100586, -20.74087905883789, 3.5796916484832764, 33.97477340698242, 44.21987533569336, 35.07728958129883, -34.42591094970703, -28.520326614379883, 15.797037124633789, 1.1692384481430054, -2.486917734146118, -32.08393859863281, 15.561076164245605, 7.690524578094482, -10.942239761352539, 4.244624137878418, 15.205209732055664], \"yaxis\": \"y\"}, {\"customdata\": [[\"Big Girls Cry\"], [\"Broken Glass\"], [\"My Love\"], [\"One Million Bullets\"], [\"Saved My Life\"], [\"Fire Meet Gasoline\"], [\"Move Your Body\"], [\"Helium\"], [\"I'm Still Here\"], [\"Moon\"], [\"Chandelier (Piano Version)\"], [\"Flames (With David Guetta)\"], [\"Never Give Up\"], [\"She Wolf\"], [\"Alive\"], [\"Together\"], [\"Courage To Change\"], [\"Cheap Thrills (feat. Sean Paul)\"], [\"Unstoppable\"], [\"Elastic Heart\"], [\"Chandelier\"], [\"Bird Set Free\"], [\"Cheap Thrills\"], [\"The Greatest\"], [\"Titanium\"]], \"hovertemplate\": \"artista=Sia<br>x=%{x}<br>y=%{y}<br>musica=%{customdata[0]}<extra></extra>\", \"legendgroup\": \"Sia\", \"marker\": {\"color\": \"#B6E880\", \"opacity\": 0.5, \"symbol\": \"circle\"}, \"mode\": \"markers\", \"name\": \"Sia\", \"showlegend\": true, \"type\": \"scattergl\", \"x\": [15.9053316116333, -14.329122543334961, 22.005916595458984, -10.021918296813965, -18.021047592163086, 25.941734313964844, -16.446969985961914, -12.529356956481934, 28.212732315063477, 2.5519304275512695, 5.429107666015625, 21.190126419067383, -25.594512939453125, 32.54526138305664, 1.9521925449371338, -10.554948806762695, -4.343395233154297, -12.668082237243652, -19.398855209350586, 8.419713973999023, 5.433577537536621, -18.393430709838867, -12.685144424438477, -9.707573890686035, 6.6474761962890625], \"xaxis\": \"x\", \"y\": [-37.00320816040039, 37.05559158325195, -42.90697479248047, -38.25244140625, -28.528398513793945, -35.669090270996094, -27.975021362304688, 2.65132999420166, -21.188304901123047, 16.976938247680664, -17.369102478027344, -37.006221771240234, 21.793701171875, -13.11694049835205, -34.03302001953125, 33.737457275390625, -1.2436518669128418, -9.217643737792969, -20.90614891052246, 43.9140739440918, -17.371355056762695, 26.571672439575195, -9.214478492736816, -4.698476314544678, -34.565284729003906], \"yaxis\": \"y\"}, {\"customdata\": [[\"the last great american dynasty\"], [\"All Too Well\"], [\"epiphany\"], [\"You Belong With Me\"], [\"the lakes\"], [\"hoax\"], [\"I Knew You Were Trouble\"], [\"Look What You Made Me Do\"], [\"\\u200bmirrorball\"], [\"Shake It Off\"], [\"peace\"], [\"illicit affairs\"], [\"seven\"], [\"my tears ricochet\"], [\"cardigan\"], [\"\\u200bbetty\"], [\"the 1\"], [\"exile (Feat. Bon Iver)\"], [\"mad woman\"], [\"Lover\"], [\"Love Story\"], [\"august\"], [\"this is me trying\"], [\"Blank Space\"], [\"invisible string\"]], \"hovertemplate\": \"artista=Taylor Swift<br>x=%{x}<br>y=%{y}<br>musica=%{customdata[0]}<extra></extra>\", \"legendgroup\": \"Taylor Swift\", \"marker\": {\"color\": \"#FF97FF\", \"opacity\": 0.5, \"symbol\": \"circle\"}, \"mode\": \"markers\", \"name\": \"Taylor Swift\", \"showlegend\": true, \"type\": \"scattergl\", \"x\": [-3.6325888633728027, 7.378400802612305, -22.925884246826172, 26.902189254760742, 20.129444122314453, 19.481708526611328, -9.403433799743652, 21.748207092285156, -7.624981880187988, -38.69255447387695, -10.240018844604492, 19.270431518554688, 25.522993087768555, -9.908705711364746, 13.842930793762207, 15.860260009765625, 10.871260643005371, 7.702956676483154, -7.2365031242370605, -8.266156196594238, 21.730472564697266, -7.075214385986328, 13.504737854003906, 24.886919021606445, -3.9195125102996826], \"xaxis\": \"x\", \"y\": [46.29475021362305, 39.08644104003906, 7.6077423095703125, -30.635700225830078, -37.32204055786133, -38.564823150634766, 15.595145225524902, 0.320543110370636, 0.7287597060203552, -19.693603515625, 33.08869171142578, 27.868915557861328, 2.760014057159424, 16.077503204345703, -11.656595230102539, 31.89805793762207, 34.4785041809082, 19.38028335571289, 28.42266082763672, 4.37469482421875, -34.01557540893555, 22.00274658203125, 39.99330139160156, 5.4825849533081055, -33.20546340942383], \"yaxis\": \"y\"}, {\"customdata\": [[\"While My Guitar Gently Weeps\"], [\"Something\"], [\"Here Comes The Sun\"], [\"Hello, Goodbye\"], [\"Eleanor Rigby\"], [\"Come Together\"], [\"A Day In The Life\"], [\"In My Life\"], [\"Hey Jude\"], [\"Help!\"], [\"I Want To Hold Your Hand\"], [\"Yellow Submarine\"], [\"Blackbird\"], [\"All My Loving\"], [\"Don't Let Me Down\"], [\"Oh! Darling\"], [\"Let It Be\"], [\"She Loves You\"], [\"All You Need Is Love\"], [\"Across The Universe\"], [\"And I Love Her\"], [\"A Hard Day's Night\"], [\"Yesterday\"], [\"Michelle\"], [\"Strawberry Fields Forever\"]], \"hovertemplate\": \"artista=The Beatles<br>x=%{x}<br>y=%{y}<br>musica=%{customdata[0]}<extra></extra>\", \"legendgroup\": \"The Beatles\", \"marker\": {\"color\": \"#FECB52\", \"opacity\": 0.5, \"symbol\": \"circle\"}, \"mode\": \"markers\", \"name\": \"The Beatles\", \"showlegend\": true, \"type\": \"scattergl\", \"x\": [24.541603088378906, -10.409835815429688, -6.069986820220947, -25.923992156982422, -1.0256268978118896, -24.883955001831055, -0.38007158041000366, 17.177751541137695, -0.39932313561439514, -1.003058910369873, 14.335626602172852, -14.344196319580078, -43.06169509887695, 15.848501205444336, 4.577443599700928, -30.1893367767334, 6.04921293258667, 38.40132522583008, 2.315584421157837, -25.58161735534668, -25.7335262298584, -29.988649368286133, 3.144724130630493, -22.968544006347656, 21.40734100341797], \"xaxis\": \"x\", \"y\": [-13.85818099975586, 36.946102142333984, 29.963735580444336, 12.096295356750488, -16.81479263305664, -11.513664245605469, 46.86800765991211, 49.05875778198242, 15.257835388183594, 25.769004821777344, -24.7560977935791, -2.5687179565429688, 2.622955560684204, 13.619977951049805, 47.585838317871094, -17.54689598083496, 49.07655334472656, -0.9178525805473328, -47.48873519897461, -9.294154167175293, -23.833223342895508, -5.057379245758057, -53.775596618652344, -33.0921630859375, -36.6607666015625], \"yaxis\": \"y\"}, {\"customdata\": [[\"Save Your Tears\"], [\"Hardest To Love\"], [\"After Hours\"], [\"Alone Again\"], [\"Too Late\"], [\"Reminder\"], [\"The Hills (Feat. Eminem) (Remix)\"], [\"Pray For Me (With Kendrick Lamar)\"], [\"Escape From LA\"], [\"Often\"], [\"Faith\"], [\"In Your Eyes (Feat. Doja Cat) (Remix)\"], [\"Can't Feel My Face\"], [\"In Your Eyes\"], [\"Over Now (With Calvin Harris)\"], [\"I Feel It Coming (Feat. Daft Punk)\"], [\"The Hills\"], [\"Starboy (Feat. Daft Punk)\"], [\"Call Out My Name\"], [\"Smile (With Juice WRLD)\"], [\"Try Me\"], [\"Die For You\"], [\"Heartless\"], [\"Blinding Lights\"], [\"Earned It\"]], \"hovertemplate\": \"artista=The Weeknd<br>x=%{x}<br>y=%{y}<br>musica=%{customdata[0]}<extra></extra>\", \"legendgroup\": \"The Weeknd\", \"marker\": {\"color\": \"#636efa\", \"opacity\": 0.5, \"symbol\": \"circle\"}, \"mode\": \"markers\", \"name\": \"The Weeknd\", \"showlegend\": true, \"type\": \"scattergl\", \"x\": [-6.273748874664307, -26.136259078979492, -4.449803829193115, -17.573774337768555, -29.753395080566406, -11.157031059265137, -14.989137649536133, -8.6985445022583, 1.920188307762146, 16.002042770385742, 1.2724295854568481, -6.266689777374268, -10.400958061218262, -6.104280948638916, -23.19948959350586, 6.814403057098389, -14.907203674316406, -11.14267635345459, -19.595245361328125, -30.485502243041992, -1.8516173362731934, 20.028427124023438, -37.28313064575195, 4.928264617919922, 35.1470832824707], \"xaxis\": \"x\", \"y\": [28.1053409576416, 12.931587219238281, 15.185954093933105, 0.23028485476970673, 21.367319107055664, 36.92441940307617, 38.21370315551758, 0.9341211915016174, 3.5261709690093994, -21.8072566986084, 6.203855514526367, 14.001258850097656, 12.166093826293945, 13.97845458984375, -25.979080200195312, -7.931178569793701, 38.23336410522461, -39.0147590637207, 40.828285217285156, 31.10614585876465, 21.686954498291016, 32.76579284667969, 0.009606091305613518, 13.751112937927246, -15.823553085327148], \"yaxis\": \"y\"}, {\"customdata\": [[\"With Or Without You\"], [\"Mysterious Ways\"], [\"Song For Someone\"], [\"Lights Of Home\"], [\"All I Want Is You\"], [\"You're The Best Thing About Me\"], [\"Bad\"], [\"Stay (Faraway, So Close)\"], [\"Vertigo\"], [\"Every Breaking Wave\"], [\"I Still Haven't Found What I'm Looking For\"], [\"City Of Blinding Lights\"], [\"Summer Of Love\"], [\"Love Is All We Have Left\"], [\"Sweetest Thing\"], [\"One\"], [\"Let Your Love Be Known\"], [\"Beautiful Day\"], [\"Sunday Bloody Sunday\"], [\"Pride (In The Name Of Love)\"], [\"New Year's Day\"], [\"Where The Streets Have No Name\"], [\"Stuck In A Moment You Can't Get Out Of\"], [\"Ordinary Love\"], [\"Walk On\"]], \"hovertemplate\": \"artista=U2<br>x=%{x}<br>y=%{y}<br>musica=%{customdata[0]}<extra></extra>\", \"legendgroup\": \"U2\", \"marker\": {\"color\": \"#EF553B\", \"opacity\": 0.5, \"symbol\": \"circle\"}, \"mode\": \"markers\", \"name\": \"U2\", \"showlegend\": true, \"type\": \"scattergl\", \"x\": [21.308128356933594, -28.831890106201172, 23.427692413330078, 10.092081069946289, -44.15291213989258, 24.347566604614258, -15.84009075164795, 22.890766143798828, -8.78462028503418, 42.94282150268555, 47.00740432739258, -30.313743591308594, 1.754047155380249, 22.16224479675293, -23.718048095703125, 2.5774569511413574, 26.150375366210938, 12.467107772827148, 3.509315252304077, 0.5480233430862427, -7.213317394256592, 27.802995681762695, 1.9401390552520752, 33.26158142089844, 32.83317184448242], \"xaxis\": \"x\", \"y\": [-22.89537239074707, -11.033217430114746, -10.621997833251953, 5.743199825286865, 0.15006864070892334, 20.90274429321289, -17.073881149291992, -22.795581817626953, -22.818500518798828, -25.895465850830078, -0.07417797297239304, -12.66943359375, -50.451908111572266, 23.63579750061035, -8.134995460510254, -46.75636672973633, -15.444684028625488, -5.67014217376709, -41.6151237487793, -11.537504196166992, -24.005823135375977, 8.749690055847168, 37.09511184692383, 3.431269884109497, -32.08359146118164], \"yaxis\": \"y\"}, {\"customdata\": [[\"I Look To You\"], [\"I Have Nothing\"], [\"I Will Always Love You\"], [\"Things You Say\"], [\"Exhale (Shoop Shoop)\"], [\"We Didn't Know (feat. Stevie Wonder)\"], [\"I Believe In You And Me\"], [\"How Will I Know\"], [\"Jesus Loves Me\"], [\"One Moment In Time\"], [\"I Wanna Dance With Somebody (Who Loves Me)\"], [\"Run To You\"], [\"It's Not Right But It's Okay\"], [\"Saving All My Love For You\"], [\"When You Believe (feat. Mariah Carey)\"], [\"Didn't We Almost Have It All\"], [\"You Give Good Love\"], [\"Greatest Love Of All\"], [\"Queen of the Night\\\" (Film Version)\"], [\"Where Do Broken Hearts Go\"], [\"All The Man That I Need\"], [\"My Love Is Your Love\"], [\"I'm Every Woman\"], [\"I Didn't Know My Own Strength\"], [\"Try It On My Own\"]], \"hovertemplate\": \"artista=Whitney Houston<br>x=%{x}<br>y=%{y}<br>musica=%{customdata[0]}<extra></extra>\", \"legendgroup\": \"Whitney Houston\", \"marker\": {\"color\": \"#00cc96\", \"opacity\": 0.5, \"symbol\": \"circle\"}, \"mode\": \"markers\", \"name\": \"Whitney Houston\", \"showlegend\": true, \"type\": \"scattergl\", \"x\": [22.861053466796875, 19.733240127563477, 8.73202896118164, 17.80825424194336, 6.917792797088623, 40.50767517089844, 34.493431091308594, -8.862470626831055, 19.25234031677246, 9.950113296508789, 37.029266357421875, 35.90732192993164, -35.247257232666016, -2.6754777431488037, 7.519940376281738, 30.042909622192383, 13.022665977478027, 5.442551612854004, 7.830572128295898, 9.816986083984375, -27.214616775512695, 3.233921766281128, 24.876567840576172, 21.243961334228516, -29.32525062561035], \"xaxis\": \"x\", \"y\": [-21.321147918701172, -21.997779846191406, -24.62148666381836, -14.813605308532715, -36.059207916259766, -7.177444934844971, 5.679475784301758, -31.409393310546875, -26.65949249267578, 11.132801055908203, 3.7538235187530518, 4.9854655265808105, -5.570933818817139, 19.30978012084961, 5.4737396240234375, 21.056509017944336, 31.718631744384766, 18.857439041137695, 3.432379961013794, 32.03272247314453, -13.040251731872559, 32.14500427246094, -34.52166748046875, 3.33272385597229, 18.319732666015625], \"yaxis\": \"y\"}],                        {\"legend\": {\"title\": {\"text\": \"artista\"}, \"tracegroupgap\": 0}, \"margin\": {\"t\": 60}, \"template\": {\"data\": {\"bar\": [{\"error_x\": {\"color\": \"#2a3f5f\"}, \"error_y\": {\"color\": \"#2a3f5f\"}, \"marker\": {\"line\": {\"color\": \"#E5ECF6\", \"width\": 0.5}}, \"type\": \"bar\"}], \"barpolar\": [{\"marker\": {\"line\": {\"color\": \"#E5ECF6\", \"width\": 0.5}}, \"type\": \"barpolar\"}], \"carpet\": [{\"aaxis\": {\"endlinecolor\": \"#2a3f5f\", \"gridcolor\": \"white\", \"linecolor\": \"white\", \"minorgridcolor\": \"white\", \"startlinecolor\": \"#2a3f5f\"}, \"baxis\": {\"endlinecolor\": \"#2a3f5f\", \"gridcolor\": \"white\", \"linecolor\": \"white\", \"minorgridcolor\": \"white\", \"startlinecolor\": \"#2a3f5f\"}, \"type\": \"carpet\"}], \"choropleth\": [{\"colorbar\": {\"outlinewidth\": 0, \"ticks\": \"\"}, \"type\": \"choropleth\"}], \"contour\": [{\"colorbar\": {\"outlinewidth\": 0, \"ticks\": \"\"}, \"colorscale\": [[0.0, \"#0d0887\"], [0.1111111111111111, \"#46039f\"], [0.2222222222222222, \"#7201a8\"], [0.3333333333333333, \"#9c179e\"], [0.4444444444444444, \"#bd3786\"], [0.5555555555555556, \"#d8576b\"], [0.6666666666666666, \"#ed7953\"], [0.7777777777777778, \"#fb9f3a\"], [0.8888888888888888, \"#fdca26\"], [1.0, \"#f0f921\"]], \"type\": \"contour\"}], \"contourcarpet\": [{\"colorbar\": {\"outlinewidth\": 0, \"ticks\": \"\"}, \"type\": \"contourcarpet\"}], \"heatmap\": [{\"colorbar\": {\"outlinewidth\": 0, \"ticks\": \"\"}, \"colorscale\": [[0.0, \"#0d0887\"], [0.1111111111111111, \"#46039f\"], [0.2222222222222222, \"#7201a8\"], [0.3333333333333333, \"#9c179e\"], [0.4444444444444444, \"#bd3786\"], [0.5555555555555556, \"#d8576b\"], [0.6666666666666666, \"#ed7953\"], [0.7777777777777778, \"#fb9f3a\"], [0.8888888888888888, \"#fdca26\"], [1.0, \"#f0f921\"]], \"type\": \"heatmap\"}], \"heatmapgl\": [{\"colorbar\": {\"outlinewidth\": 0, \"ticks\": \"\"}, \"colorscale\": [[0.0, \"#0d0887\"], [0.1111111111111111, \"#46039f\"], [0.2222222222222222, \"#7201a8\"], [0.3333333333333333, \"#9c179e\"], [0.4444444444444444, \"#bd3786\"], [0.5555555555555556, \"#d8576b\"], [0.6666666666666666, \"#ed7953\"], [0.7777777777777778, \"#fb9f3a\"], [0.8888888888888888, \"#fdca26\"], [1.0, \"#f0f921\"]], \"type\": \"heatmapgl\"}], \"histogram\": [{\"marker\": {\"colorbar\": {\"outlinewidth\": 0, \"ticks\": \"\"}}, \"type\": \"histogram\"}], \"histogram2d\": [{\"colorbar\": {\"outlinewidth\": 0, \"ticks\": \"\"}, \"colorscale\": [[0.0, \"#0d0887\"], [0.1111111111111111, \"#46039f\"], [0.2222222222222222, \"#7201a8\"], [0.3333333333333333, \"#9c179e\"], [0.4444444444444444, \"#bd3786\"], [0.5555555555555556, \"#d8576b\"], [0.6666666666666666, \"#ed7953\"], [0.7777777777777778, \"#fb9f3a\"], [0.8888888888888888, \"#fdca26\"], [1.0, \"#f0f921\"]], \"type\": \"histogram2d\"}], \"histogram2dcontour\": [{\"colorbar\": {\"outlinewidth\": 0, \"ticks\": \"\"}, \"colorscale\": [[0.0, \"#0d0887\"], [0.1111111111111111, \"#46039f\"], [0.2222222222222222, \"#7201a8\"], [0.3333333333333333, \"#9c179e\"], [0.4444444444444444, \"#bd3786\"], [0.5555555555555556, \"#d8576b\"], [0.6666666666666666, \"#ed7953\"], [0.7777777777777778, \"#fb9f3a\"], [0.8888888888888888, \"#fdca26\"], [1.0, \"#f0f921\"]], \"type\": \"histogram2dcontour\"}], \"mesh3d\": [{\"colorbar\": {\"outlinewidth\": 0, \"ticks\": \"\"}, \"type\": \"mesh3d\"}], \"parcoords\": [{\"line\": {\"colorbar\": {\"outlinewidth\": 0, \"ticks\": \"\"}}, \"type\": \"parcoords\"}], \"pie\": [{\"automargin\": true, \"type\": \"pie\"}], \"scatter\": [{\"marker\": {\"colorbar\": {\"outlinewidth\": 0, \"ticks\": \"\"}}, \"type\": \"scatter\"}], \"scatter3d\": [{\"line\": {\"colorbar\": {\"outlinewidth\": 0, \"ticks\": \"\"}}, \"marker\": {\"colorbar\": {\"outlinewidth\": 0, \"ticks\": \"\"}}, \"type\": \"scatter3d\"}], \"scattercarpet\": [{\"marker\": {\"colorbar\": {\"outlinewidth\": 0, \"ticks\": \"\"}}, \"type\": \"scattercarpet\"}], \"scattergeo\": [{\"marker\": {\"colorbar\": {\"outlinewidth\": 0, \"ticks\": \"\"}}, \"type\": \"scattergeo\"}], \"scattergl\": [{\"marker\": {\"colorbar\": {\"outlinewidth\": 0, \"ticks\": \"\"}}, \"type\": \"scattergl\"}], \"scattermapbox\": [{\"marker\": {\"colorbar\": {\"outlinewidth\": 0, \"ticks\": \"\"}}, \"type\": \"scattermapbox\"}], \"scatterpolar\": [{\"marker\": {\"colorbar\": {\"outlinewidth\": 0, \"ticks\": \"\"}}, \"type\": \"scatterpolar\"}], \"scatterpolargl\": [{\"marker\": {\"colorbar\": {\"outlinewidth\": 0, \"ticks\": \"\"}}, \"type\": \"scatterpolargl\"}], \"scatterternary\": [{\"marker\": {\"colorbar\": {\"outlinewidth\": 0, \"ticks\": \"\"}}, \"type\": \"scatterternary\"}], \"surface\": [{\"colorbar\": {\"outlinewidth\": 0, \"ticks\": \"\"}, \"colorscale\": [[0.0, \"#0d0887\"], [0.1111111111111111, \"#46039f\"], [0.2222222222222222, \"#7201a8\"], [0.3333333333333333, \"#9c179e\"], [0.4444444444444444, \"#bd3786\"], [0.5555555555555556, \"#d8576b\"], [0.6666666666666666, \"#ed7953\"], [0.7777777777777778, \"#fb9f3a\"], [0.8888888888888888, \"#fdca26\"], [1.0, \"#f0f921\"]], \"type\": \"surface\"}], \"table\": [{\"cells\": {\"fill\": {\"color\": \"#EBF0F8\"}, \"line\": {\"color\": \"white\"}}, \"header\": {\"fill\": {\"color\": \"#C8D4E3\"}, \"line\": {\"color\": \"white\"}}, \"type\": \"table\"}]}, \"layout\": {\"annotationdefaults\": {\"arrowcolor\": \"#2a3f5f\", \"arrowhead\": 0, \"arrowwidth\": 1}, \"coloraxis\": {\"colorbar\": {\"outlinewidth\": 0, \"ticks\": \"\"}}, \"colorscale\": {\"diverging\": [[0, \"#8e0152\"], [0.1, \"#c51b7d\"], [0.2, \"#de77ae\"], [0.3, \"#f1b6da\"], [0.4, \"#fde0ef\"], [0.5, \"#f7f7f7\"], [0.6, \"#e6f5d0\"], [0.7, \"#b8e186\"], [0.8, \"#7fbc41\"], [0.9, \"#4d9221\"], [1, \"#276419\"]], \"sequential\": [[0.0, \"#0d0887\"], [0.1111111111111111, \"#46039f\"], [0.2222222222222222, \"#7201a8\"], [0.3333333333333333, \"#9c179e\"], [0.4444444444444444, \"#bd3786\"], [0.5555555555555556, \"#d8576b\"], [0.6666666666666666, \"#ed7953\"], [0.7777777777777778, \"#fb9f3a\"], [0.8888888888888888, \"#fdca26\"], [1.0, \"#f0f921\"]], \"sequentialminus\": [[0.0, \"#0d0887\"], [0.1111111111111111, \"#46039f\"], [0.2222222222222222, \"#7201a8\"], [0.3333333333333333, \"#9c179e\"], [0.4444444444444444, \"#bd3786\"], [0.5555555555555556, \"#d8576b\"], [0.6666666666666666, \"#ed7953\"], [0.7777777777777778, \"#fb9f3a\"], [0.8888888888888888, \"#fdca26\"], [1.0, \"#f0f921\"]]}, \"colorway\": [\"#636efa\", \"#EF553B\", \"#00cc96\", \"#ab63fa\", \"#FFA15A\", \"#19d3f3\", \"#FF6692\", \"#B6E880\", \"#FF97FF\", \"#FECB52\"], \"font\": {\"color\": \"#2a3f5f\"}, \"geo\": {\"bgcolor\": \"white\", \"lakecolor\": \"white\", \"landcolor\": \"#E5ECF6\", \"showlakes\": true, \"showland\": true, \"subunitcolor\": \"white\"}, \"hoverlabel\": {\"align\": \"left\"}, \"hovermode\": \"closest\", \"mapbox\": {\"style\": \"light\"}, \"paper_bgcolor\": \"white\", \"plot_bgcolor\": \"#E5ECF6\", \"polar\": {\"angularaxis\": {\"gridcolor\": \"white\", \"linecolor\": \"white\", \"ticks\": \"\"}, \"bgcolor\": \"#E5ECF6\", \"radialaxis\": {\"gridcolor\": \"white\", \"linecolor\": \"white\", \"ticks\": \"\"}}, \"scene\": {\"xaxis\": {\"backgroundcolor\": \"#E5ECF6\", \"gridcolor\": \"white\", \"gridwidth\": 2, \"linecolor\": \"white\", \"showbackground\": true, \"ticks\": \"\", \"zerolinecolor\": \"white\"}, \"yaxis\": {\"backgroundcolor\": \"#E5ECF6\", \"gridcolor\": \"white\", \"gridwidth\": 2, \"linecolor\": \"white\", \"showbackground\": true, \"ticks\": \"\", \"zerolinecolor\": \"white\"}, \"zaxis\": {\"backgroundcolor\": \"#E5ECF6\", \"gridcolor\": \"white\", \"gridwidth\": 2, \"linecolor\": \"white\", \"showbackground\": true, \"ticks\": \"\", \"zerolinecolor\": \"white\"}}, \"shapedefaults\": {\"line\": {\"color\": \"#2a3f5f\"}}, \"ternary\": {\"aaxis\": {\"gridcolor\": \"white\", \"linecolor\": \"white\", \"ticks\": \"\"}, \"baxis\": {\"gridcolor\": \"white\", \"linecolor\": \"white\", \"ticks\": \"\"}, \"bgcolor\": \"#E5ECF6\", \"caxis\": {\"gridcolor\": \"white\", \"linecolor\": \"white\", \"ticks\": \"\"}}, \"title\": {\"x\": 0.05}, \"xaxis\": {\"automargin\": true, \"gridcolor\": \"white\", \"linecolor\": \"white\", \"ticks\": \"\", \"title\": {\"standoff\": 15}, \"zerolinecolor\": \"white\", \"zerolinewidth\": 2}, \"yaxis\": {\"automargin\": true, \"gridcolor\": \"white\", \"linecolor\": \"white\", \"ticks\": \"\", \"title\": {\"standoff\": 15}, \"zerolinecolor\": \"white\", \"zerolinewidth\": 2}}}, \"xaxis\": {\"anchor\": \"y\", \"domain\": [0.0, 1.0], \"title\": {\"text\": \"x\"}}, \"yaxis\": {\"anchor\": \"x\", \"domain\": [0.0, 1.0], \"title\": {\"text\": \"y\"}}},                        {\"responsive\": true}                    ).then(function(){\n",
       "                            \n",
       "var gd = document.getElementById('ad2de553-b2da-4ac5-98df-898e79a94845');\n",
       "var x = new MutationObserver(function (mutations, observer) {{\n",
       "        var display = window.getComputedStyle(gd).display;\n",
       "        if (!display || display === 'none') {{\n",
       "            console.log([gd, 'removed!']);\n",
       "            Plotly.purge(gd);\n",
       "            observer.disconnect();\n",
       "        }}\n",
       "}});\n",
       "\n",
       "// Listen for the removal of the full notebook cells\n",
       "var notebookContainer = gd.closest('#notebook-container');\n",
       "if (notebookContainer) {{\n",
       "    x.observe(notebookContainer, {childList: true});\n",
       "}}\n",
       "\n",
       "// Listen for the clearing of the current output cell\n",
       "var outputEl = gd.closest('.output');\n",
       "if (outputEl) {{\n",
       "    x.observe(outputEl, {childList: true});\n",
       "}}\n",
       "\n",
       "                        })                };                });            </script>        </div>"
      ]
     },
     "metadata": {},
     "output_type": "display_data"
    }
   ],
   "source": [
    "fig = px.scatter(\n",
    "    unique_df.sort_values(\"artista\"),\n",
    "    x=\"x\", y=\"y\",\n",
    "    color=\"artista\",\n",
    "    hover_data=[\"musica\"],\n",
    "    opacity=0.5\n",
    ")\n",
    "fig.show()"
   ]
  }
 ],
 "metadata": {
  "kernelspec": {
   "display_name": "Python 3",
   "language": "python",
   "name": "python3"
  },
  "language_info": {
   "codemirror_mode": {
    "name": "ipython",
    "version": 3
   },
   "file_extension": ".py",
   "mimetype": "text/x-python",
   "name": "python",
   "nbconvert_exporter": "python",
   "pygments_lexer": "ipython3",
   "version": "3.8.5"
  }
 },
 "nbformat": 4,
 "nbformat_minor": 4
}
