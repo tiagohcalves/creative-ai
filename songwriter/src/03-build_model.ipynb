{
 "cells": [
  {
   "cell_type": "code",
   "execution_count": 38,
   "metadata": {},
   "outputs": [],
   "source": [
    "import pandas as pd\n",
    "\n",
    "from fastai.text.all import *"
   ]
  },
  {
   "cell_type": "code",
   "execution_count": 40,
   "metadata": {},
   "outputs": [],
   "source": [
    "df = pd.read_csv(\"../data/lyrics_processed.csv\", sep=\";\")\n",
    "lyrics_phrase = pd.read_csv(\"../data/lyrics_phrase_eng.csv\", sep=\";\")\n",
    "clean_lyrics_phrase = pd.read_csv(\"../data/clean_lyrics_phrase_eng.csv\", sep=\";\")"
   ]
  },
  {
   "cell_type": "code",
   "execution_count": 41,
   "metadata": {},
   "outputs": [],
   "source": [
    "lyrics_phrase[\"text\"] = lyrics_phrase[\"text\"].str.lower()"
   ]
  },
  {
   "cell_type": "code",
   "execution_count": 44,
   "metadata": {},
   "outputs": [
    {
     "data": {
      "text/html": [],
      "text/plain": [
       "<IPython.core.display.HTML object>"
      ]
     },
     "metadata": {},
     "output_type": "display_data"
    },
    {
     "name": "stderr",
     "output_type": "stream",
     "text": [
      "/home/tiago/anaconda3/envs/creative-ai/lib/python3.8/site-packages/numpy/core/_asarray.py:83: VisibleDeprecationWarning: Creating an ndarray from ragged nested sequences (which is a list-or-tuple of lists-or-tuples-or ndarrays with different lengths or shapes) is deprecated. If you meant to do this, you must specify 'dtype=object' when creating the ndarray\n",
      "  return array(a, dtype, copy=False, order=order)\n"
     ]
    }
   ],
   "source": [
    "lm_data = TextDataLoaders.from_df(clean_lyrics_phrase, text_col=\"text\", is_lm=True, seed=42)"
   ]
  },
  {
   "cell_type": "code",
   "execution_count": 45,
   "metadata": {},
   "outputs": [
    {
     "data": {
      "text/html": [
       "<table border=\"1\" class=\"dataframe\">\n",
       "  <thead>\n",
       "    <tr style=\"text-align: right;\">\n",
       "      <th></th>\n",
       "      <th>text</th>\n",
       "      <th>text_</th>\n",
       "    </tr>\n",
       "  </thead>\n",
       "  <tbody>\n",
       "    <tr>\n",
       "      <th>0</th>\n",
       "      <td>xxbos xxmaj i 'm waiting on you again , so i do n't take the blame xxbos xxmaj suerte que senti lo que senti xxbos xxmaj and as the day was dawning xxbos xxmaj sing for the year ( sing it ) xxbos xxmaj had a mattress on the floor xxbos xxmaj but my friends you have seen nothin' xxbos xxmaj so i could take the back road xxbos xxmaj and i</td>\n",
       "      <td>xxmaj i 'm waiting on you again , so i do n't take the blame xxbos xxmaj suerte que senti lo que senti xxbos xxmaj and as the day was dawning xxbos xxmaj sing for the year ( sing it ) xxbos xxmaj had a mattress on the floor xxbos xxmaj but my friends you have seen nothin' xxbos xxmaj so i could take the back road xxbos xxmaj and i do</td>\n",
       "    </tr>\n",
       "    <tr>\n",
       "      <th>1</th>\n",
       "      <td>n't have to leave her xxbos xxmaj cause there we are again and i loved you so xxbos nan xxbos 'cause the way you hold me , hold me , hold me , hold me , hold me xxbos xxmaj tonight xxmaj i 'm a rock ' n ' roll star xxbos xxmaj and there 's no time to waste , to waste xxbos xxmaj you can fly away with me tonight</td>\n",
       "      <td>have to leave her xxbos xxmaj cause there we are again and i loved you so xxbos nan xxbos 'cause the way you hold me , hold me , hold me , hold me , hold me xxbos xxmaj tonight xxmaj i 'm a rock ' n ' roll star xxbos xxmaj and there 's no time to waste , to waste xxbos xxmaj you can fly away with me tonight xxbos</td>\n",
       "    </tr>\n",
       "    <tr>\n",
       "      <th>2</th>\n",
       "      <td>my libido xxbos xxmaj are we all we are xxbos xxmaj you see these xxunk ? xxmaj baby xxmaj i 'm your slave xxbos xxmaj but whatever , let 's get lost on mars xxbos xxmaj i 'll meet you there at the altar xxbos xxmaj the master of my sea , oh - ooh xxbos xxmaj and take the love instead xxbos xxmaj we just try to keep those secrets in</td>\n",
       "      <td>libido xxbos xxmaj are we all we are xxbos xxmaj you see these xxunk ? xxmaj baby xxmaj i 'm your slave xxbos xxmaj but whatever , let 's get lost on mars xxbos xxmaj i 'll meet you there at the altar xxbos xxmaj the master of my sea , oh - ooh xxbos xxmaj and take the love instead xxbos xxmaj we just try to keep those secrets in a</td>\n",
       "    </tr>\n",
       "  </tbody>\n",
       "</table>"
      ],
      "text/plain": [
       "<IPython.core.display.HTML object>"
      ]
     },
     "metadata": {},
     "output_type": "display_data"
    }
   ],
   "source": [
    "lm_data.show_batch(max_n=3)"
   ]
  },
  {
   "cell_type": "code",
   "execution_count": 46,
   "metadata": {},
   "outputs": [],
   "source": [
    "learn = language_model_learner(lm_data, AWD_LSTM, metrics=[accuracy, Perplexity()], path=\"../models/\")"
   ]
  },
  {
   "cell_type": "code",
   "execution_count": 47,
   "metadata": {},
   "outputs": [
    {
     "data": {
      "text/html": [
       "<table border=\"1\" class=\"dataframe\">\n",
       "  <thead>\n",
       "    <tr style=\"text-align: left;\">\n",
       "      <th>epoch</th>\n",
       "      <th>train_loss</th>\n",
       "      <th>valid_loss</th>\n",
       "      <th>accuracy</th>\n",
       "      <th>perplexity</th>\n",
       "      <th>time</th>\n",
       "    </tr>\n",
       "  </thead>\n",
       "  <tbody>\n",
       "    <tr>\n",
       "      <td>0</td>\n",
       "      <td>4.055921</td>\n",
       "      <td>3.463859</td>\n",
       "      <td>0.339121</td>\n",
       "      <td>31.940006</td>\n",
       "      <td>00:46</td>\n",
       "    </tr>\n",
       "  </tbody>\n",
       "</table>"
      ],
      "text/plain": [
       "<IPython.core.display.HTML object>"
      ]
     },
     "metadata": {},
     "output_type": "display_data"
    }
   ],
   "source": [
    "learn.fit_one_cycle(1, 1e-2)"
   ]
  },
  {
   "cell_type": "code",
   "execution_count": 48,
   "metadata": {},
   "outputs": [
    {
     "data": {
      "text/plain": [
       "Path('../models/models/1epoch.pth')"
      ]
     },
     "execution_count": 48,
     "metadata": {},
     "output_type": "execute_result"
    }
   ],
   "source": [
    "learn.save('1epoch')"
   ]
  },
  {
   "cell_type": "code",
   "execution_count": 49,
   "metadata": {},
   "outputs": [
    {
     "data": {
      "text/html": [],
      "text/plain": [
       "<IPython.core.display.HTML object>"
      ]
     },
     "metadata": {},
     "output_type": "display_data"
    },
    {
     "data": {
      "text/plain": [
       "SuggestedLRs(lr_min=0.001096478197723627, lr_steep=2.2908675418875646e-06)"
      ]
     },
     "execution_count": 49,
     "metadata": {},
     "output_type": "execute_result"
    },
    {
     "data": {
      "image/png": "[encoded data removed]",
      "text/plain": [
       "<Figure size 432x288 with 1 Axes>"
      ]
     },
     "metadata": {
      "needs_background": "light"
     },
     "output_type": "display_data"
    }
   ],
   "source": [
    "learn.lr_find()"
   ]
  },
  {
   "cell_type": "code",
   "execution_count": 50,
   "metadata": {},
   "outputs": [
    {
     "data": {
      "text/html": [
       "<table border=\"1\" class=\"dataframe\">\n",
       "  <thead>\n",
       "    <tr style=\"text-align: left;\">\n",
       "      <th>epoch</th>\n",
       "      <th>train_loss</th>\n",
       "      <th>valid_loss</th>\n",
       "      <th>accuracy</th>\n",
       "      <th>perplexity</th>\n",
       "      <th>time</th>\n",
       "    </tr>\n",
       "  </thead>\n",
       "  <tbody>\n",
       "    <tr>\n",
       "      <td>0</td>\n",
       "      <td>3.655942</td>\n",
       "      <td>3.326793</td>\n",
       "      <td>0.360767</td>\n",
       "      <td>27.848886</td>\n",
       "      <td>00:52</td>\n",
       "    </tr>\n",
       "    <tr>\n",
       "      <td>1</td>\n",
       "      <td>3.509130</td>\n",
       "      <td>3.215227</td>\n",
       "      <td>0.377009</td>\n",
       "      <td>24.908949</td>\n",
       "      <td>00:53</td>\n",
       "    </tr>\n",
       "    <tr>\n",
       "      <td>2</td>\n",
       "      <td>3.347754</td>\n",
       "      <td>3.084131</td>\n",
       "      <td>0.396761</td>\n",
       "      <td>21.848478</td>\n",
       "      <td>00:53</td>\n",
       "    </tr>\n",
       "    <tr>\n",
       "      <td>3</td>\n",
       "      <td>3.210518</td>\n",
       "      <td>2.990613</td>\n",
       "      <td>0.414718</td>\n",
       "      <td>19.897877</td>\n",
       "      <td>00:53</td>\n",
       "    </tr>\n",
       "    <tr>\n",
       "      <td>4</td>\n",
       "      <td>3.111408</td>\n",
       "      <td>2.928418</td>\n",
       "      <td>0.425648</td>\n",
       "      <td>18.698030</td>\n",
       "      <td>00:53</td>\n",
       "    </tr>\n",
       "    <tr>\n",
       "      <td>5</td>\n",
       "      <td>3.039581</td>\n",
       "      <td>2.875966</td>\n",
       "      <td>0.436120</td>\n",
       "      <td>17.742561</td>\n",
       "      <td>00:53</td>\n",
       "    </tr>\n",
       "    <tr>\n",
       "      <td>6</td>\n",
       "      <td>2.961817</td>\n",
       "      <td>2.839267</td>\n",
       "      <td>0.442922</td>\n",
       "      <td>17.103216</td>\n",
       "      <td>00:53</td>\n",
       "    </tr>\n",
       "    <tr>\n",
       "      <td>7</td>\n",
       "      <td>2.918439</td>\n",
       "      <td>2.821544</td>\n",
       "      <td>0.446314</td>\n",
       "      <td>16.802769</td>\n",
       "      <td>00:53</td>\n",
       "    </tr>\n",
       "    <tr>\n",
       "      <td>8</td>\n",
       "      <td>2.898043</td>\n",
       "      <td>2.814327</td>\n",
       "      <td>0.448276</td>\n",
       "      <td>16.681946</td>\n",
       "      <td>00:53</td>\n",
       "    </tr>\n",
       "    <tr>\n",
       "      <td>9</td>\n",
       "      <td>2.883198</td>\n",
       "      <td>2.813179</td>\n",
       "      <td>0.448781</td>\n",
       "      <td>16.662798</td>\n",
       "      <td>01:04</td>\n",
       "    </tr>\n",
       "  </tbody>\n",
       "</table>"
      ],
      "text/plain": [
       "<IPython.core.display.HTML object>"
      ]
     },
     "metadata": {},
     "output_type": "display_data"
    }
   ],
   "source": [
    "learn.unfreeze()\n",
    "learn.fit_one_cycle(10, 1e-3)"
   ]
  },
  {
   "cell_type": "code",
   "execution_count": 51,
   "metadata": {},
   "outputs": [],
   "source": [
    "learn.export('lyrics_without_tag.pkl')"
   ]
  },
  {
   "cell_type": "markdown",
   "metadata": {},
   "source": [
    "---"
   ]
  },
  {
   "cell_type": "code",
   "execution_count": 26,
   "metadata": {},
   "outputs": [],
   "source": [
    "def get_artist_tag(artist_name):\n",
    "    return \"x_\" + ''.join([w[:2] + w[-2:] for w in artist_name.lower().split(\" \")]) + \"_x\""
   ]
  },
  {
   "cell_type": "code",
   "execution_count": 27,
   "metadata": {},
   "outputs": [],
   "source": [
    "artist_list = df[\"artista\"].unique().tolist()"
   ]
  },
  {
   "cell_type": "code",
   "execution_count": 31,
   "metadata": {},
   "outputs": [
    {
     "data": {
      "text/plain": [
       "'Ed Sheeran'"
      ]
     },
     "execution_count": 31,
     "metadata": {},
     "output_type": "execute_result"
    }
   ],
   "source": [
    "artist = artist_list[1]\n",
    "artist"
   ]
  },
  {
   "cell_type": "markdown",
   "metadata": {},
   "source": [
    "---"
   ]
  },
  {
   "cell_type": "code",
   "execution_count": 32,
   "metadata": {},
   "outputs": [],
   "source": [
    "artist_tag = get_artist_tag(artist)"
   ]
  },
  {
   "cell_type": "code",
   "execution_count": 54,
   "metadata": {},
   "outputs": [
    {
     "data": {
      "text/html": [],
      "text/plain": [
       "<IPython.core.display.HTML object>"
      ]
     },
     "metadata": {},
     "output_type": "display_data"
    },
    {
     "data": {
      "text/html": [],
      "text/plain": [
       "<IPython.core.display.HTML object>"
      ]
     },
     "metadata": {},
     "output_type": "display_data"
    },
    {
     "data": {
      "text/html": [],
      "text/plain": [
       "<IPython.core.display.HTML object>"
      ]
     },
     "metadata": {},
     "output_type": "display_data"
    },
    {
     "data": {
      "text/html": [],
      "text/plain": [
       "<IPython.core.display.HTML object>"
      ]
     },
     "metadata": {},
     "output_type": "display_data"
    },
    {
     "data": {
      "text/html": [],
      "text/plain": [
       "<IPython.core.display.HTML object>"
      ]
     },
     "metadata": {},
     "output_type": "display_data"
    },
    {
     "data": {
      "text/html": [],
      "text/plain": [
       "<IPython.core.display.HTML object>"
      ]
     },
     "metadata": {},
     "output_type": "display_data"
    },
    {
     "data": {
      "text/html": [],
      "text/plain": [
       "<IPython.core.display.HTML object>"
      ]
     },
     "metadata": {},
     "output_type": "display_data"
    },
    {
     "data": {
      "text/html": [],
      "text/plain": [
       "<IPython.core.display.HTML object>"
      ]
     },
     "metadata": {},
     "output_type": "display_data"
    },
    {
     "data": {
      "text/html": [],
      "text/plain": [
       "<IPython.core.display.HTML object>"
      ]
     },
     "metadata": {},
     "output_type": "display_data"
    },
    {
     "data": {
      "text/html": [],
      "text/plain": [
       "<IPython.core.display.HTML object>"
      ]
     },
     "metadata": {},
     "output_type": "display_data"
    },
    {
     "data": {
      "text/html": [],
      "text/plain": [
       "<IPython.core.display.HTML object>"
      ]
     },
     "metadata": {},
     "output_type": "display_data"
    },
    {
     "name": "stdout",
     "output_type": "stream",
     "text": [
      "there 's a lady who 's talking , i am gon na be This just do n't disappoint me i said thatTell me why are you so tired of running from the moment ? Back though you usedYou know i could be another of you And now i know that i need youa long time before you 'll see , I 'm so confused step into the jungle Whatu hhhhhhhhhh builtbuiltbuiltbuiltbuiltbuiltbuiltbuiltbuiltbuilt upupupupupupupupupup inininininininininin aaaaaaaaaa steelsteelsteelsteelsteelsteelsteelsteelsteelsteel carcarcarcarcarcarcarcarcarcar .......... Motto I 'll find a way ,. nan ( jenny in the backseat ) You know , you know , you knowy -da ¡ aquele grande ou Again and again I 'm again possible nan i wannanan The boy is made up , you 're a wild boy . nan InThen meet through the door You can feel my soul I 'm three ,Shower it all better Oh - oh - oh - oh Wo n't you letNothing shows everyone to blame Baby , do n't you thrill me when you close your eyes\n"
     ]
    }
   ],
   "source": [
    "generate_lyrics = learn.predict(\"there's a lady who \", n_words=20)\n",
    "\n",
    "for _ in range(10):\n",
    "    generate_lyrics += learn.predict(generate_lyrics[-30] + \"\\n\", n_words=20)\n",
    "    \n",
    "print(generate_lyrics)"
   ]
  },
  {
   "cell_type": "markdown",
   "metadata": {},
   "source": [
    "failed :/"
   ]
  }
 ],
 "metadata": {
  "kernelspec": {
   "display_name": "Python 3",
   "language": "python",
   "name": "python3"
  },
  "language_info": {
   "codemirror_mode": {
    "name": "ipython",
    "version": 3
   },
   "file_extension": ".py",
   "mimetype": "text/x-python",
   "name": "python",
   "nbconvert_exporter": "python",
   "pygments_lexer": "ipython3",
   "version": "3.8.5"
  }
 },
 "nbformat": 4,
 "nbformat_minor": 4
}
