{
 "cells": [
  {
   "cell_type": "code",
   "execution_count": 1,
   "metadata": {},
   "outputs": [],
   "source": [
    "import pickle\n",
    "\n",
    "import numpy as np\n",
    "import pandas as pd\n",
    "\n",
    "from text_autoencoders import TrainedAutoEncoder"
   ]
  },
  {
   "cell_type": "code",
   "execution_count": 2,
   "metadata": {},
   "outputs": [
    {
     "name": "stdout",
     "output_type": "stream",
     "text": [
      "Model loaded.\n"
     ]
    }
   ],
   "source": [
    "ae = TrainedAutoEncoder(\"../src/text_autoencoders/checkpoints/lyrics/daae/\")"
   ]
  },
  {
   "cell_type": "code",
   "execution_count": 5,
   "metadata": {},
   "outputs": [
    {
     "data": {
      "text/html": [
       "<div>\n",
       "<style scoped>\n",
       "    .dataframe tbody tr th:only-of-type {\n",
       "        vertical-align: middle;\n",
       "    }\n",
       "\n",
       "    .dataframe tbody tr th {\n",
       "        vertical-align: top;\n",
       "    }\n",
       "\n",
       "    .dataframe thead th {\n",
       "        text-align: right;\n",
       "    }\n",
       "</style>\n",
       "<table border=\"1\" class=\"dataframe\">\n",
       "  <thead>\n",
       "    <tr style=\"text-align: right;\">\n",
       "      <th></th>\n",
       "      <th>song_idx</th>\n",
       "      <th>sentence</th>\n",
       "      <th>artista</th>\n",
       "      <th>musica</th>\n",
       "      <th>letra</th>\n",
       "      <th>lang</th>\n",
       "    </tr>\n",
       "  </thead>\n",
       "  <tbody>\n",
       "    <tr>\n",
       "      <th>66856</th>\n",
       "      <td>1839</td>\n",
       "      <td>About this girl</td>\n",
       "      <td>Justin Timberlake</td>\n",
       "      <td>Señorita</td>\n",
       "      <td>Ladies and gentlemen\\nIt's my pleasure to intr...</td>\n",
       "      <td>2</td>\n",
       "    </tr>\n",
       "    <tr>\n",
       "      <th>71964</th>\n",
       "      <td>2054</td>\n",
       "      <td>I know I could lie, but I won't lie to you</td>\n",
       "      <td>OneRepublic</td>\n",
       "      <td>Wherever I Go</td>\n",
       "      <td>I know I could lie but I'm telling the truth\\n...</td>\n",
       "      <td>2</td>\n",
       "    </tr>\n",
       "    <tr>\n",
       "      <th>63630</th>\n",
       "      <td>1776</td>\n",
       "      <td>\"Black biggy biggy black biggy black blake\"</td>\n",
       "      <td>Drake</td>\n",
       "      <td>In My Feelings</td>\n",
       "      <td>Trap, TrapMoneyBenny\\nThis shit got me in my f...</td>\n",
       "      <td>2</td>\n",
       "    </tr>\n",
       "  </tbody>\n",
       "</table>\n",
       "</div>"
      ],
      "text/plain": [
       "       song_idx                                     sentence  \\\n",
       "66856      1839                              About this girl   \n",
       "71964      2054   I know I could lie, but I won't lie to you   \n",
       "63630      1776  \"Black biggy biggy black biggy black blake\"   \n",
       "\n",
       "                 artista          musica  \\\n",
       "66856  Justin Timberlake        Señorita   \n",
       "71964        OneRepublic   Wherever I Go   \n",
       "63630              Drake  In My Feelings   \n",
       "\n",
       "                                                   letra  lang  \n",
       "66856  Ladies and gentlemen\\nIt's my pleasure to intr...     2  \n",
       "71964  I know I could lie but I'm telling the truth\\n...     2  \n",
       "63630  Trap, TrapMoneyBenny\\nThis shit got me in my f...     2  "
      ]
     },
     "execution_count": 5,
     "metadata": {},
     "output_type": "execute_result"
    }
   ],
   "source": [
    "lyrics_df = pd.read_csv(\"../data/processed/lyrics.csv\", sep=\";\")\n",
    "lyrics_df.sample(3)"
   ]
  },
  {
   "cell_type": "code",
   "execution_count": 3,
   "metadata": {},
   "outputs": [],
   "source": [
    "with open(\"../data/processed/sentence_encodings.pkl\", \"rb\") as infile:\n",
    "    sentence_encodings = pickle.load(infile)"
   ]
  },
  {
   "cell_type": "code",
   "execution_count": 6,
   "metadata": {},
   "outputs": [
    {
     "data": {
      "text/plain": [
       "(82579, 128)"
      ]
     },
     "execution_count": 6,
     "metadata": {},
     "output_type": "execute_result"
    }
   ],
   "source": [
    "sentence_encodings.shape"
   ]
  },
  {
   "cell_type": "markdown",
   "metadata": {},
   "source": [
    "---"
   ]
  },
  {
   "cell_type": "code",
   "execution_count": 31,
   "metadata": {},
   "outputs": [
    {
     "data": {
      "text/html": [
       "<div>\n",
       "<style scoped>\n",
       "    .dataframe tbody tr th:only-of-type {\n",
       "        vertical-align: middle;\n",
       "    }\n",
       "\n",
       "    .dataframe tbody tr th {\n",
       "        vertical-align: top;\n",
       "    }\n",
       "\n",
       "    .dataframe thead th {\n",
       "        text-align: right;\n",
       "    }\n",
       "</style>\n",
       "<table border=\"1\" class=\"dataframe\">\n",
       "  <thead>\n",
       "    <tr style=\"text-align: right;\">\n",
       "      <th></th>\n",
       "      <th>song_idx</th>\n",
       "      <th>sentence</th>\n",
       "      <th>artista</th>\n",
       "      <th>musica</th>\n",
       "      <th>letra</th>\n",
       "      <th>lang</th>\n",
       "    </tr>\n",
       "  </thead>\n",
       "  <tbody>\n",
       "    <tr>\n",
       "      <th>15315</th>\n",
       "      <td>352</td>\n",
       "      <td>Ale-ale-jandro</td>\n",
       "      <td>Lady Gaga</td>\n",
       "      <td>Alejandro</td>\n",
       "      <td>I know that we are young\\nAnd I know that you ...</td>\n",
       "      <td>2</td>\n",
       "    </tr>\n",
       "  </tbody>\n",
       "</table>\n",
       "</div>"
      ],
      "text/plain": [
       "       song_idx        sentence    artista     musica  \\\n",
       "15315       352  Ale-ale-jandro  Lady Gaga  Alejandro   \n",
       "\n",
       "                                                   letra  lang  \n",
       "15315  I know that we are young\\nAnd I know that you ...     2  "
      ]
     },
     "execution_count": 31,
     "metadata": {},
     "output_type": "execute_result"
    }
   ],
   "source": [
    "lyrics_df.sample()"
   ]
  },
  {
   "cell_type": "code",
   "execution_count": 25,
   "metadata": {},
   "outputs": [
    {
     "data": {
      "text/html": [
       "<div>\n",
       "<style scoped>\n",
       "    .dataframe tbody tr th:only-of-type {\n",
       "        vertical-align: middle;\n",
       "    }\n",
       "\n",
       "    .dataframe tbody tr th {\n",
       "        vertical-align: top;\n",
       "    }\n",
       "\n",
       "    .dataframe thead th {\n",
       "        text-align: right;\n",
       "    }\n",
       "</style>\n",
       "<table border=\"1\" class=\"dataframe\">\n",
       "  <thead>\n",
       "    <tr style=\"text-align: right;\">\n",
       "      <th></th>\n",
       "      <th>song_idx</th>\n",
       "      <th>sentence</th>\n",
       "      <th>artista</th>\n",
       "      <th>musica</th>\n",
       "      <th>letra</th>\n",
       "      <th>lang</th>\n",
       "    </tr>\n",
       "  </thead>\n",
       "  <tbody>\n",
       "    <tr>\n",
       "      <th>54313</th>\n",
       "      <td>1388</td>\n",
       "      <td>Hey hey you you</td>\n",
       "      <td>Avril Lavigne</td>\n",
       "      <td>Girlfriend</td>\n",
       "      <td>Hey hey you you \\nI don't like your girlfriend...</td>\n",
       "      <td>2</td>\n",
       "    </tr>\n",
       "    <tr>\n",
       "      <th>54314</th>\n",
       "      <td>1388</td>\n",
       "      <td>I don't like your girlfriend</td>\n",
       "      <td>Avril Lavigne</td>\n",
       "      <td>Girlfriend</td>\n",
       "      <td>Hey hey you you \\nI don't like your girlfriend...</td>\n",
       "      <td>2</td>\n",
       "    </tr>\n",
       "    <tr>\n",
       "      <th>54315</th>\n",
       "      <td>1388</td>\n",
       "      <td>No way no way</td>\n",
       "      <td>Avril Lavigne</td>\n",
       "      <td>Girlfriend</td>\n",
       "      <td>Hey hey you you \\nI don't like your girlfriend...</td>\n",
       "      <td>2</td>\n",
       "    </tr>\n",
       "  </tbody>\n",
       "</table>\n",
       "</div>"
      ],
      "text/plain": [
       "       song_idx                       sentence        artista      musica  \\\n",
       "54313      1388               Hey hey you you   Avril Lavigne  Girlfriend   \n",
       "54314      1388  I don't like your girlfriend   Avril Lavigne  Girlfriend   \n",
       "54315      1388                 No way no way   Avril Lavigne  Girlfriend   \n",
       "\n",
       "                                                   letra  lang  \n",
       "54313  Hey hey you you \\nI don't like your girlfriend...     2  \n",
       "54314  Hey hey you you \\nI don't like your girlfriend...     2  \n",
       "54315  Hey hey you you \\nI don't like your girlfriend...     2  "
      ]
     },
     "execution_count": 25,
     "metadata": {},
     "output_type": "execute_result"
    }
   ],
   "source": [
    "song_1 = 1388\n",
    "song_1_lyrics = lyrics_df.query(\"song_idx == @song_1\")\n",
    "song_1_lyrics.head(3)"
   ]
  },
  {
   "cell_type": "code",
   "execution_count": 32,
   "metadata": {},
   "outputs": [
    {
     "data": {
      "text/html": [
       "<div>\n",
       "<style scoped>\n",
       "    .dataframe tbody tr th:only-of-type {\n",
       "        vertical-align: middle;\n",
       "    }\n",
       "\n",
       "    .dataframe tbody tr th {\n",
       "        vertical-align: top;\n",
       "    }\n",
       "\n",
       "    .dataframe thead th {\n",
       "        text-align: right;\n",
       "    }\n",
       "</style>\n",
       "<table border=\"1\" class=\"dataframe\">\n",
       "  <thead>\n",
       "    <tr style=\"text-align: right;\">\n",
       "      <th></th>\n",
       "      <th>song_idx</th>\n",
       "      <th>sentence</th>\n",
       "      <th>artista</th>\n",
       "      <th>musica</th>\n",
       "      <th>letra</th>\n",
       "      <th>lang</th>\n",
       "    </tr>\n",
       "  </thead>\n",
       "  <tbody>\n",
       "    <tr>\n",
       "      <th>15256</th>\n",
       "      <td>352</td>\n",
       "      <td>I know that we are young</td>\n",
       "      <td>Lady Gaga</td>\n",
       "      <td>Alejandro</td>\n",
       "      <td>I know that we are young\\nAnd I know that you ...</td>\n",
       "      <td>2</td>\n",
       "    </tr>\n",
       "    <tr>\n",
       "      <th>15257</th>\n",
       "      <td>352</td>\n",
       "      <td>And I know that you may love me</td>\n",
       "      <td>Lady Gaga</td>\n",
       "      <td>Alejandro</td>\n",
       "      <td>I know that we are young\\nAnd I know that you ...</td>\n",
       "      <td>2</td>\n",
       "    </tr>\n",
       "    <tr>\n",
       "      <th>15258</th>\n",
       "      <td>352</td>\n",
       "      <td>But I just can't be with you like this anymore</td>\n",
       "      <td>Lady Gaga</td>\n",
       "      <td>Alejandro</td>\n",
       "      <td>I know that we are young\\nAnd I know that you ...</td>\n",
       "      <td>2</td>\n",
       "    </tr>\n",
       "  </tbody>\n",
       "</table>\n",
       "</div>"
      ],
      "text/plain": [
       "       song_idx                                        sentence    artista  \\\n",
       "15256       352                        I know that we are young  Lady Gaga   \n",
       "15257       352                 And I know that you may love me  Lady Gaga   \n",
       "15258       352  But I just can't be with you like this anymore  Lady Gaga   \n",
       "\n",
       "          musica                                              letra  lang  \n",
       "15256  Alejandro  I know that we are young\\nAnd I know that you ...     2  \n",
       "15257  Alejandro  I know that we are young\\nAnd I know that you ...     2  \n",
       "15258  Alejandro  I know that we are young\\nAnd I know that you ...     2  "
      ]
     },
     "execution_count": 32,
     "metadata": {},
     "output_type": "execute_result"
    }
   ],
   "source": [
    "song_2 = 352\n",
    "song_2_lyrics = lyrics_df.query(\"song_idx == @song_2\")\n",
    "song_2_lyrics.head(3)"
   ]
  },
  {
   "cell_type": "markdown",
   "metadata": {},
   "source": [
    "---"
   ]
  },
  {
   "cell_type": "code",
   "execution_count": 33,
   "metadata": {},
   "outputs": [],
   "source": [
    "encoding_s1 = sentence_encodings[song_1_lyrics.index.tolist()]\n",
    "encoding_s2 = sentence_encodings[song_2_lyrics.index.tolist()]"
   ]
  },
  {
   "cell_type": "code",
   "execution_count": 34,
   "metadata": {},
   "outputs": [
    {
     "data": {
      "text/plain": [
       "61"
      ]
     },
     "execution_count": 34,
     "metadata": {},
     "output_type": "execute_result"
    }
   ],
   "source": [
    "n_phrases = min(len(encoding_s1), len(encoding_s2))\n",
    "n_phrases"
   ]
  },
  {
   "cell_type": "code",
   "execution_count": 35,
   "metadata": {},
   "outputs": [],
   "source": [
    "def interpolate(e1, e2, n, w1=0.5, w2=0.5, shuffle=False):\n",
    "    if shuffle:\n",
    "        np.random.shuffle(e1)\n",
    "        np.random.shuffle(e2)\n",
    "        \n",
    "    return (\n",
    "        (w1 * e1[:n,:] + w2 * e2[:n,:]) / (w1+w2)\n",
    "    )"
   ]
  },
  {
   "cell_type": "code",
   "execution_count": 45,
   "metadata": {},
   "outputs": [],
   "source": [
    "interpolated_enc = interpolate(encoding_s1, encoding_s2, n_phrases, 0.4, 0.6, True)"
   ]
  },
  {
   "cell_type": "code",
   "execution_count": 46,
   "metadata": {},
   "outputs": [],
   "source": [
    "interpolate_dec = ae.decode(interpolated_enc)"
   ]
  },
  {
   "cell_type": "code",
   "execution_count": 47,
   "metadata": {},
   "outputs": [
    {
     "name": "stdout",
     "output_type": "stream",
     "text": [
      "i know that you are\n",
      "i aint really loved somebody\n",
      "i think i had - tattoos\n",
      "you don ' t know my name\n",
      "in this way ,\n",
      "i just settled inside my skin\n",
      "i just settled with my skin\n",
      "but i just can ' t be a friend\n",
      "no - dejarte - need\n",
      "( just let me go )\n",
      "oh\n",
      "i don ' t need you\n",
      "i ' m not your babe\n",
      "don ' t wanna look , don ' t wanna look\n",
      "alejandro , i don ' t care to tell you\n",
      "like it feels like a perfect\n",
      "that was so i gotta choose\n",
      "i aint really loved somebody\n",
      "won ' t you stay enough\n",
      "don ' t wanna kiss , don ' t wanna touch\n",
      "she got her love on her\n",
      "i can see the drapes\n",
      "and i know that you look with me\n",
      "like a girl , the tension\n",
      "but you ' re gonna find a good ,\n",
      "she likes - - sweet\n",
      "alejandro\n",
      "i don ' t know , my name\n",
      "she ' s just a poor\n",
      "you know that i miss you\n",
      "oh\n",
      "ale - ale - jandro\n",
      "i got a ale - ale\n",
      "she ' s got to run\n",
      "don ' t call my name\n",
      "you know that i love ya boy\n",
      "don ' t call my name , roberto\n",
      "don ' t call my name\n",
      "i laid his bro\n",
      "i don ' t like your name\n",
      "oh it ' s time to be sorry\n",
      "i ' m not your babe , fernando\n",
      "i ' m not your babe\n",
      "i ' m not your own savior ,\n",
      "( woo , uh , oh )\n",
      "( woo , uh , oh )\n",
      "but this time i gotta get\n",
      "no one got a little around\n",
      "but my heart , it was like a lady ,\n",
      "don ' t you hear my name , she ' s confident\n",
      "i can ' t be your superman ,\n",
      "and i don ' t look at you\n",
      "don ' t call my name\n",
      "but i can not t , you can be mine\n",
      "she ' s not the same\n",
      "alejandro\n",
      "ale - ale - jandro\n",
      "nothing to lose no\n",
      "nothing to lose no\n",
      "and watch that burn now\n",
      "you can try to stay\n"
     ]
    }
   ],
   "source": [
    "new_song = '\\n'.join([' '.join(p).replace('<unk>', '').strip() for p in interpolate_dec])\n",
    "print(new_song)"
   ]
  },
  {
   "cell_type": "code",
   "execution_count": 155,
   "metadata": {},
   "outputs": [
    {
     "name": "stdout",
     "output_type": "stream",
     "text": [
      "\n",
      "to deal for the you look like right\n",
      "for my eyes look you like\n",
      "me away and make it okay .\n",
      "i wore\n",
      "wanted some  we waited\n",
      "put on  to  make it a\n",
      "to a   my  is\n",
      "a shit deal .\n",
      "it goes to this\n",
      "me by them and the  you you\n",
      "me  really  and  you show\n",
      "the moves like\n",
      "got the handle\n",
      "got the  like\n",
      "need to order to find you\n",
      "in my eyes  you own one\n",
      "them out like\n",
      "got you smells like\n",
      "got the  like\n",
      "hard when you feel  up  .\n",
      "are right .\n",
      "when you  with  you make this\n",
      "got the key .\n",
      "you get in the  you get inside\n",
      "you you get  inside it\n",
      "you   but not   .\n",
      "take it out from here\n",
      "it goes to like this\n",
      "me by the smell and  you know\n",
      "me  out  and  you show\n",
      "the lights like\n",
      "got out they are like\n",
      "got the  like  ?\n",
      "back to find you out .\n",
      "in my eyes and take your time\n",
      "them out like\n",
      "got the a/c\n",
      "got the  like\n",
      "\n",
      "if you want to make me smile\n",
      "up just for the night\n",
      "to top  ?\n",
      "have the keep it\n",
      "can find this\n",
      "watch and   you show once .\n",
      "to again and baby baby call it\n",
      "my   have  going to it\n",
      "else can see this ?\n",
      "it goes like this\n",
      "me by you and the know you love me  .\n",
      "up\n",
      "the lights like\n",
      "the lights is like\n"
     ]
    }
   ],
   "source": [
    "new_song = '\\n'.join([' '.join(p).replace('<unk>', '').strip() for p in interpolate_dec])\n",
    "print(new_song)"
   ]
  }
 ],
 "metadata": {
  "kernelspec": {
   "display_name": "Python 3",
   "language": "python",
   "name": "python3"
  },
  "language_info": {
   "codemirror_mode": {
    "name": "ipython",
    "version": 3
   },
   "file_extension": ".py",
   "mimetype": "text/x-python",
   "name": "python",
   "nbconvert_exporter": "python",
   "pygments_lexer": "ipython3",
   "version": "3.8.5"
  }
 },
 "nbformat": 4,
 "nbformat_minor": 4
}
