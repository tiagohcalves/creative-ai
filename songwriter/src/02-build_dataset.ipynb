{
 "cells": [
  {
   "cell_type": "code",
   "execution_count": 1,
   "metadata": {},
   "outputs": [],
   "source": [
    "import pandas as pd"
   ]
  },
  {
   "cell_type": "code",
   "execution_count": 2,
   "metadata": {},
   "outputs": [],
   "source": [
    "df = pd.read_csv(\"../data/data_raw.csv\", sep=\";\")"
   ]
  },
  {
   "cell_type": "code",
   "execution_count": 3,
   "metadata": {},
   "outputs": [
    {
     "data": {
      "text/plain": [
       "(2396, 4)"
      ]
     },
     "execution_count": 3,
     "metadata": {},
     "output_type": "execute_result"
    }
   ],
   "source": [
    "df.shape"
   ]
  },
  {
   "cell_type": "code",
   "execution_count": 4,
   "metadata": {},
   "outputs": [
    {
     "data": {
      "text/html": [
       "<div>\n",
       "<style scoped>\n",
       "    .dataframe tbody tr th:only-of-type {\n",
       "        vertical-align: middle;\n",
       "    }\n",
       "\n",
       "    .dataframe tbody tr th {\n",
       "        vertical-align: top;\n",
       "    }\n",
       "\n",
       "    .dataframe thead th {\n",
       "        text-align: right;\n",
       "    }\n",
       "</style>\n",
       "<table border=\"1\" class=\"dataframe\">\n",
       "  <thead>\n",
       "    <tr style=\"text-align: right;\">\n",
       "      <th></th>\n",
       "      <th>artista</th>\n",
       "      <th>musica</th>\n",
       "      <th>letra</th>\n",
       "      <th>lang</th>\n",
       "    </tr>\n",
       "  </thead>\n",
       "  <tbody>\n",
       "    <tr>\n",
       "      <th>0</th>\n",
       "      <td>Dua Lipa</td>\n",
       "      <td>Levitating (feat. DaBaby)</td>\n",
       "      <td>[DaBaby:]\\nBillboard Baby, Dua Lipa make 'em d...</td>\n",
       "      <td>2</td>\n",
       "    </tr>\n",
       "    <tr>\n",
       "      <th>1</th>\n",
       "      <td>Dua Lipa</td>\n",
       "      <td>Don't Start Now</td>\n",
       "      <td>If you don't wanna see me\\n\\nDid a full 180, c...</td>\n",
       "      <td>2</td>\n",
       "    </tr>\n",
       "    <tr>\n",
       "      <th>2</th>\n",
       "      <td>Dua Lipa</td>\n",
       "      <td>Break My Heart</td>\n",
       "      <td>I've always been the one to say the first good...</td>\n",
       "      <td>2</td>\n",
       "    </tr>\n",
       "    <tr>\n",
       "      <th>3</th>\n",
       "      <td>Dua Lipa</td>\n",
       "      <td>Levitating</td>\n",
       "      <td>If you wanna run away with me\\nI know a galaxy...</td>\n",
       "      <td>2</td>\n",
       "    </tr>\n",
       "    <tr>\n",
       "      <th>4</th>\n",
       "      <td>Dua Lipa</td>\n",
       "      <td>New Rules</td>\n",
       "      <td>Talkin' in my sleep at night\\nMakin' myself cr...</td>\n",
       "      <td>2</td>\n",
       "    </tr>\n",
       "  </tbody>\n",
       "</table>\n",
       "</div>"
      ],
      "text/plain": [
       "    artista                     musica  \\\n",
       "0  Dua Lipa  Levitating (feat. DaBaby)   \n",
       "1  Dua Lipa            Don't Start Now   \n",
       "2  Dua Lipa             Break My Heart   \n",
       "3  Dua Lipa                 Levitating   \n",
       "4  Dua Lipa                  New Rules   \n",
       "\n",
       "                                               letra  lang  \n",
       "0  [DaBaby:]\\nBillboard Baby, Dua Lipa make 'em d...     2  \n",
       "1  If you don't wanna see me\\n\\nDid a full 180, c...     2  \n",
       "2  I've always been the one to say the first good...     2  \n",
       "3  If you wanna run away with me\\nI know a galaxy...     2  \n",
       "4  Talkin' in my sleep at night\\nMakin' myself cr...     2  "
      ]
     },
     "execution_count": 4,
     "metadata": {},
     "output_type": "execute_result"
    }
   ],
   "source": [
    "df.head()"
   ]
  },
  {
   "cell_type": "code",
   "execution_count": 5,
   "metadata": {},
   "outputs": [
    {
     "data": {
      "text/plain": [
       "artista\n",
       "Zezé Di Camargo e Luciano    25\n",
       "Henrique e Juliano           25\n",
       "Ed Sheeran                   25\n",
       "Elton John                   25\n",
       "Elvis Presley                25\n",
       "                             ..\n",
       "-M- (Mathieu Chedid)         16\n",
       "Friends                      14\n",
       "Billie Eilish                13\n",
       "Harry Styles                  9\n",
       "Lewis Capaldi                 9\n",
       "Length: 99, dtype: int64"
      ]
     },
     "execution_count": 5,
     "metadata": {},
     "output_type": "execute_result"
    }
   ],
   "source": [
    "df.value_counts(\"artista\")"
   ]
  },
  {
   "cell_type": "code",
   "execution_count": 6,
   "metadata": {},
   "outputs": [
    {
     "data": {
      "text/plain": [
       "array(['-M- (Mathieu Chedid)', 'Adele', 'Aerosmith', 'Alicia Keys',\n",
       "       'Aline Barros', 'Anavitória', 'Anitta', 'Ariana Grande',\n",
       "       'Avril Lavigne', 'BTS', 'Backstreet Boys', 'Beyoncé',\n",
       "       'Billie Eilish', 'Black Eyed Peas', 'Bob Marley', 'Bon Jovi',\n",
       "       'Bruno Mars', 'Bruno e Marrone', 'Caetano Veloso',\n",
       "       'Charlie Brown Jr', 'Christina Perri', 'Coldplay',\n",
       "       'Corinhos Evangélicos', 'Demi Lovato', 'Drake', 'Dua Lipa',\n",
       "       'Ed Sheeran', 'Elton John', 'Elvis Presley', 'Eminem',\n",
       "       'Fernandinho', 'Friends', 'Gilberto Gil', \"Guns N' Roses\",\n",
       "       'Gusttavo Lima', 'Harpa Cristã', 'Harry Styles',\n",
       "       'Henrique e Juliano', 'Hinos', 'Imagine Dragons',\n",
       "       \"Israel Kamakawiwo'ole\", 'James Arthur', 'Jason Mraz',\n",
       "       'John Legend', 'John Lennon', 'John Mayer', 'Jorge e Mateus',\n",
       "       'Justin Bieber', 'Justin Timberlake', 'Katy Perry', 'Lady Gaga',\n",
       "       'Lana Del Rey', 'Legião Urbana', 'Lewis Capaldi', 'Linkin Park',\n",
       "       'Luan Santana', 'Manu Gavassi', 'Maroon 5', 'Marília Mendonça',\n",
       "       'Melim', 'Metallica', 'Michael Jackson', 'Miley Cyrus',\n",
       "       'Músicas Católicas', 'Músicas Gospel', 'Nirvana', 'Now United',\n",
       "       'Oasis', 'One Direction', 'OneRepublic', 'Pabllo Vittar',\n",
       "       'Padre Zezinho', 'Pearl Jam', 'Pineapple', 'Pink', 'Pink Floyd',\n",
       "       'Post Malone', 'Queen', \"Racionais Mc's\", 'Rammstein',\n",
       "       'Raul Seixas', 'Raça Negra', 'Red Hot Chili Peppers', 'Rihanna',\n",
       "       'Roberto Carlos', 'Rod Stewart', 'Sam Smith', 'Scorpions',\n",
       "       'Selena Gomez', 'Shakira', 'Shawn Mendes', 'Sia', 'Sorriso Maroto',\n",
       "       'Taylor Swift', 'The Beatles', 'The Weeknd', 'U2',\n",
       "       'Whitney Houston', 'Zezé Di Camargo e Luciano'], dtype=object)"
      ]
     },
     "execution_count": 6,
     "metadata": {},
     "output_type": "execute_result"
    }
   ],
   "source": [
    "df[\"artista\"].sort_values().unique()"
   ]
  },
  {
   "cell_type": "code",
   "execution_count": 7,
   "metadata": {},
   "outputs": [
    {
     "data": {
      "text/plain": [
       "2    1556\n",
       "1     739\n",
       "3      32\n",
       "5      24\n",
       "9      22\n",
       "4      16\n",
       "8       7\n",
       "Name: lang, dtype: int64"
      ]
     },
     "execution_count": 7,
     "metadata": {},
     "output_type": "execute_result"
    }
   ],
   "source": [
    "df[\"lang\"].value_counts()"
   ]
  },
  {
   "cell_type": "markdown",
   "metadata": {},
   "source": [
    "---"
   ]
  },
  {
   "cell_type": "markdown",
   "metadata": {},
   "source": [
    "Create a unique artist tag and add is to each new paragraph on the lyrics. \n",
    "This should guide the song writing by the model."
   ]
  },
  {
   "cell_type": "code",
   "execution_count": 8,
   "metadata": {},
   "outputs": [],
   "source": [
    "def get_artist_tag(artist_name):\n",
    "    return \"x_\" + ''.join([w[:2] + w[-2:] for w in artist_name.lower().split(\" \")]) + \"_x\""
   ]
  },
  {
   "cell_type": "code",
   "execution_count": 9,
   "metadata": {},
   "outputs": [],
   "source": [
    "# df[\"artist_tag\"] = df[\"artista\"].apply(lambda x: \"xx_\" + x.lower().replace(\" \", \"_\") + \"_xx\")\n",
    "df[\"artist_tag\"] = df[\"artista\"].apply(\n",
    "    lambda x: get_artist_tag(x)\n",
    ")"
   ]
  },
  {
   "cell_type": "code",
   "execution_count": 10,
   "metadata": {},
   "outputs": [
    {
     "data": {
      "text/plain": [
       "99"
      ]
     },
     "execution_count": 10,
     "metadata": {},
     "output_type": "execute_result"
    }
   ],
   "source": [
    "# there is one conflict\n",
    "df[\"artist_tag\"].nunique()"
   ]
  },
  {
   "cell_type": "code",
   "execution_count": 11,
   "metadata": {},
   "outputs": [],
   "source": [
    "df[\"artist_lyrics\"] = df.apply(\n",
    "    lambda x: [x[\"artist_tag\"] + \" \" + phrase for phrase in x[\"letra\"].split(\"\\n\") if len(phrase) > 3], \n",
    "    axis=1\n",
    ")"
   ]
  },
  {
   "cell_type": "code",
   "execution_count": 15,
   "metadata": {},
   "outputs": [],
   "source": [
    "df[\"clean_lyrics\"] = df[\"letra\"].apply(lambda x: [phrase for phrase in x.split(\"\\n\") if len(phrase) > 3])"
   ]
  },
  {
   "cell_type": "code",
   "execution_count": 16,
   "metadata": {},
   "outputs": [
    {
     "data": {
      "text/html": [
       "<div>\n",
       "<style scoped>\n",
       "    .dataframe tbody tr th:only-of-type {\n",
       "        vertical-align: middle;\n",
       "    }\n",
       "\n",
       "    .dataframe tbody tr th {\n",
       "        vertical-align: top;\n",
       "    }\n",
       "\n",
       "    .dataframe thead th {\n",
       "        text-align: right;\n",
       "    }\n",
       "</style>\n",
       "<table border=\"1\" class=\"dataframe\">\n",
       "  <thead>\n",
       "    <tr style=\"text-align: right;\">\n",
       "      <th></th>\n",
       "      <th>artista</th>\n",
       "      <th>musica</th>\n",
       "      <th>letra</th>\n",
       "      <th>lang</th>\n",
       "      <th>artist_tag</th>\n",
       "      <th>artist_lyrics</th>\n",
       "      <th>clean_lyrics</th>\n",
       "    </tr>\n",
       "  </thead>\n",
       "  <tbody>\n",
       "    <tr>\n",
       "      <th>1923</th>\n",
       "      <td>Selena Gomez</td>\n",
       "      <td>Vulnerable</td>\n",
       "      <td>If I give you every piece of me\\nI know that y...</td>\n",
       "      <td>2</td>\n",
       "      <td>x_senagoez_x</td>\n",
       "      <td>[x_senagoez_x If I give you every piece of me,...</td>\n",
       "      <td>[If I give you every piece of me, I know that ...</td>\n",
       "    </tr>\n",
       "    <tr>\n",
       "      <th>31</th>\n",
       "      <td>Ed Sheeran</td>\n",
       "      <td>Give Me Love</td>\n",
       "      <td>Give me love like her\\n'Cause lately I've been...</td>\n",
       "      <td>2</td>\n",
       "      <td>x_ededshan_x</td>\n",
       "      <td>[x_ededshan_x Give me love like her, x_ededsha...</td>\n",
       "      <td>[Give me love like her, 'Cause lately I've bee...</td>\n",
       "    </tr>\n",
       "    <tr>\n",
       "      <th>1072</th>\n",
       "      <td>Músicas Gospel</td>\n",
       "      <td>Até Tocar o Céu</td>\n",
       "      <td>Até tocar o Céu\\nAté tocar o Céu\\nVou te busca...</td>\n",
       "      <td>1</td>\n",
       "      <td>x_múasgoel_x</td>\n",
       "      <td>[x_múasgoel_x Até tocar o Céu, x_múasgoel_x At...</td>\n",
       "      <td>[Até tocar o Céu, Até tocar o Céu, Vou te busc...</td>\n",
       "    </tr>\n",
       "    <tr>\n",
       "      <th>1234</th>\n",
       "      <td>Red Hot Chili Peppers</td>\n",
       "      <td>Encore</td>\n",
       "      <td>Listen to the beatles\\nAnd the sound of laughi...</td>\n",
       "      <td>2</td>\n",
       "      <td>x_reedhootchlipers_x</td>\n",
       "      <td>[x_reedhootchlipers_x Listen to the beatles, x...</td>\n",
       "      <td>[Listen to the beatles, And the sound of laugh...</td>\n",
       "    </tr>\n",
       "    <tr>\n",
       "      <th>246</th>\n",
       "      <td>Guns N' Roses</td>\n",
       "      <td>Civil War</td>\n",
       "      <td>\"What we've got here is failure to comunicate\\...</td>\n",
       "      <td>2</td>\n",
       "      <td>x_gunsn'n'roes_x</td>\n",
       "      <td>[x_gunsn'n'roes_x \"What we've got here is fail...</td>\n",
       "      <td>[\"What we've got here is failure to comunicate...</td>\n",
       "    </tr>\n",
       "  </tbody>\n",
       "</table>\n",
       "</div>"
      ],
      "text/plain": [
       "                    artista           musica  \\\n",
       "1923           Selena Gomez       Vulnerable   \n",
       "31               Ed Sheeran     Give Me Love   \n",
       "1072         Músicas Gospel  Até Tocar o Céu   \n",
       "1234  Red Hot Chili Peppers           Encore   \n",
       "246           Guns N' Roses        Civil War   \n",
       "\n",
       "                                                  letra  lang  \\\n",
       "1923  If I give you every piece of me\\nI know that y...     2   \n",
       "31    Give me love like her\\n'Cause lately I've been...     2   \n",
       "1072  Até tocar o Céu\\nAté tocar o Céu\\nVou te busca...     1   \n",
       "1234  Listen to the beatles\\nAnd the sound of laughi...     2   \n",
       "246   \"What we've got here is failure to comunicate\\...     2   \n",
       "\n",
       "                artist_tag                                      artist_lyrics  \\\n",
       "1923          x_senagoez_x  [x_senagoez_x If I give you every piece of me,...   \n",
       "31            x_ededshan_x  [x_ededshan_x Give me love like her, x_ededsha...   \n",
       "1072          x_múasgoel_x  [x_múasgoel_x Até tocar o Céu, x_múasgoel_x At...   \n",
       "1234  x_reedhootchlipers_x  [x_reedhootchlipers_x Listen to the beatles, x...   \n",
       "246       x_gunsn'n'roes_x  [x_gunsn'n'roes_x \"What we've got here is fail...   \n",
       "\n",
       "                                           clean_lyrics  \n",
       "1923  [If I give you every piece of me, I know that ...  \n",
       "31    [Give me love like her, 'Cause lately I've bee...  \n",
       "1072  [Até tocar o Céu, Até tocar o Céu, Vou te busc...  \n",
       "1234  [Listen to the beatles, And the sound of laugh...  \n",
       "246   [\"What we've got here is failure to comunicate...  "
      ]
     },
     "execution_count": 16,
     "metadata": {},
     "output_type": "execute_result"
    }
   ],
   "source": [
    "df.sample(5)"
   ]
  },
  {
   "cell_type": "code",
   "execution_count": 17,
   "metadata": {},
   "outputs": [],
   "source": [
    "lyrics_phrase = pd.Series([l for lyrics in df.query(\"lang == 2\")[\"artist_lyrics\"] for l in lyrics], name=\"text\")\n",
    "clean_lyrics_phrase = pd.Series([l for lyrics in df.query(\"lang == 2\")[\"clean_lyrics\"] for l in lyrics], name=\"text\")"
   ]
  },
  {
   "cell_type": "code",
   "execution_count": 18,
   "metadata": {},
   "outputs": [],
   "source": [
    "df.to_csv(\"../data/lyrics_processed.csv\", sep=\";\", index=False)\n",
    "\n",
    "lyrics_phrase.to_csv(\"../data/lyrics_phrase_eng.csv\", sep=\";\", index=False)\n",
    "clean_lyrics_phrase.to_csv(\"../data/clean_lyrics_phrase_eng.csv\", sep=\";\", index=False)"
   ]
  },
  {
   "cell_type": "code",
   "execution_count": 19,
   "metadata": {},
   "outputs": [],
   "source": [
    "lyrics_phrase = pd.Series([l for lyrics in df.query(\"lang == 1\")[\"artist_lyrics\"] for l in lyrics], name=\"text\")\n",
    "clean_lyrics_phrase = pd.Series([l for lyrics in df.query(\"lang == 1\")[\"clean_lyrics\"] for l in lyrics], name=\"text\")"
   ]
  },
  {
   "cell_type": "code",
   "execution_count": 20,
   "metadata": {},
   "outputs": [],
   "source": [
    "lyrics_phrase.to_csv(\"../data/lyrics_phrase_pt.csv\", sep=\";\", index=False)\n",
    "clean_lyrics_phrase.to_csv(\"../data/clean_lyrics_phrase_pt.csv\", sep=\";\", index=False)"
   ]
  }
 ],
 "metadata": {
  "kernelspec": {
   "display_name": "Python 3",
   "language": "python",
   "name": "python3"
  },
  "language_info": {
   "codemirror_mode": {
    "name": "ipython",
    "version": 3
   },
   "file_extension": ".py",
   "mimetype": "text/x-python",
   "name": "python",
   "nbconvert_exporter": "python",
   "pygments_lexer": "ipython3",
   "version": "3.8.5"
  }
 },
 "nbformat": 4,
 "nbformat_minor": 4
}
