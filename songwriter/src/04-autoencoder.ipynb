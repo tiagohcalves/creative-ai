{
 "cells": [
  {
   "cell_type": "code",
   "execution_count": 1,
   "metadata": {},
   "outputs": [],
   "source": [
    "import pickle\n",
    "\n",
    "import numpy as np\n",
    "import pandas as pd\n",
    "from sklearn.manifold import TSNE\n",
    "from sklearn.metrics.pairwise import cosine_distances\n",
    "\n",
    "from text_autoencoders import TrainedAutoEncoder"
   ]
  },
  {
   "cell_type": "code",
   "execution_count": 2,
   "metadata": {},
   "outputs": [
    {
     "name": "stdout",
     "output_type": "stream",
     "text": [
      "Model loaded.\n"
     ]
    }
   ],
   "source": [
    "ae = TrainedAutoEncoder(\"../src/text_autoencoders/checkpoints/yelp/daae/\")"
   ]
  },
  {
   "cell_type": "markdown",
   "metadata": {},
   "source": [
    "---"
   ]
  },
  {
   "cell_type": "markdown",
   "metadata": {},
   "source": [
    "TODO:\n",
    "- [x] relate phrases with lyrics and artitst (may have to rebuild the set)\n",
    "- [x] encode phrases in lyrics\n",
    "- [x] get the mean vector of each lyric\n",
    "- [ ] get the mean vector of each artist\n",
    "- [x] reduce dim for lyrics and artists\n",
    "- [x] create map of lyric -> 2dim\n",
    "- [ ] create map of artist -> 2dim\n",
    "- [x] plot lyrics space\n",
    "- [ ] plot artists space"
   ]
  },
  {
   "cell_type": "code",
   "execution_count": 13,
   "metadata": {},
   "outputs": [],
   "source": [
    "df = pd.read_csv(\"../data/data_raw.csv\", sep=\";\")\n",
    "df[\"clean_lyrics\"] = df[\"letra\"].apply(lambda x: [phrase for phrase in x.split(\"\\n\") if len(phrase) > 3])\n",
    "df = df.reset_index()"
   ]
  },
  {
   "cell_type": "code",
   "execution_count": 46,
   "metadata": {},
   "outputs": [],
   "source": [
    "lyrics_df = pd.DataFrame([(i, l) for i, lyrics in df.query(\"lang == 2\")[[\"index\", \"clean_lyrics\"]].values for l in lyrics], columns=[\"song_idx\", \"sentence\"])\n",
    "lyrics_df = lyrics_df.merge(df, left_on=\"song_idx\", right_on=\"index\").drop(columns=[\"clean_lyrics\", \"index\"])"
   ]
  },
  {
   "cell_type": "code",
   "execution_count": 47,
   "metadata": {},
   "outputs": [
    {
     "data": {
      "text/html": [
       "<div>\n",
       "<style scoped>\n",
       "    .dataframe tbody tr th:only-of-type {\n",
       "        vertical-align: middle;\n",
       "    }\n",
       "\n",
       "    .dataframe tbody tr th {\n",
       "        vertical-align: top;\n",
       "    }\n",
       "\n",
       "    .dataframe thead th {\n",
       "        text-align: right;\n",
       "    }\n",
       "</style>\n",
       "<table border=\"1\" class=\"dataframe\">\n",
       "  <thead>\n",
       "    <tr style=\"text-align: right;\">\n",
       "      <th></th>\n",
       "      <th>song_idx</th>\n",
       "      <th>sentence</th>\n",
       "      <th>artista</th>\n",
       "      <th>musica</th>\n",
       "      <th>letra</th>\n",
       "      <th>lang</th>\n",
       "    </tr>\n",
       "  </thead>\n",
       "  <tbody>\n",
       "    <tr>\n",
       "      <th>0</th>\n",
       "      <td>0</td>\n",
       "      <td>[DaBaby:]</td>\n",
       "      <td>Dua Lipa</td>\n",
       "      <td>Levitating (feat. DaBaby)</td>\n",
       "      <td>[DaBaby:]\\nBillboard Baby, Dua Lipa make 'em d...</td>\n",
       "      <td>2</td>\n",
       "    </tr>\n",
       "    <tr>\n",
       "      <th>1</th>\n",
       "      <td>0</td>\n",
       "      <td>Billboard Baby, Dua Lipa make 'em dance when i...</td>\n",
       "      <td>Dua Lipa</td>\n",
       "      <td>Levitating (feat. DaBaby)</td>\n",
       "      <td>[DaBaby:]\\nBillboard Baby, Dua Lipa make 'em d...</td>\n",
       "      <td>2</td>\n",
       "    </tr>\n",
       "    <tr>\n",
       "      <th>2</th>\n",
       "      <td>0</td>\n",
       "      <td>Everybody lookin' for a dance floor to run on</td>\n",
       "      <td>Dua Lipa</td>\n",
       "      <td>Levitating (feat. DaBaby)</td>\n",
       "      <td>[DaBaby:]\\nBillboard Baby, Dua Lipa make 'em d...</td>\n",
       "      <td>2</td>\n",
       "    </tr>\n",
       "    <tr>\n",
       "      <th>3</th>\n",
       "      <td>0</td>\n",
       "      <td>[Dua Lipa:]</td>\n",
       "      <td>Dua Lipa</td>\n",
       "      <td>Levitating (feat. DaBaby)</td>\n",
       "      <td>[DaBaby:]\\nBillboard Baby, Dua Lipa make 'em d...</td>\n",
       "      <td>2</td>\n",
       "    </tr>\n",
       "    <tr>\n",
       "      <th>4</th>\n",
       "      <td>0</td>\n",
       "      <td>If you wanna run away with me, I know a galaxy</td>\n",
       "      <td>Dua Lipa</td>\n",
       "      <td>Levitating (feat. DaBaby)</td>\n",
       "      <td>[DaBaby:]\\nBillboard Baby, Dua Lipa make 'em d...</td>\n",
       "      <td>2</td>\n",
       "    </tr>\n",
       "  </tbody>\n",
       "</table>\n",
       "</div>"
      ],
      "text/plain": [
       "   song_idx                                           sentence   artista  \\\n",
       "0         0                                          [DaBaby:]  Dua Lipa   \n",
       "1         0  Billboard Baby, Dua Lipa make 'em dance when i...  Dua Lipa   \n",
       "2         0      Everybody lookin' for a dance floor to run on  Dua Lipa   \n",
       "3         0                                        [Dua Lipa:]  Dua Lipa   \n",
       "4         0     If you wanna run away with me, I know a galaxy  Dua Lipa   \n",
       "\n",
       "                      musica  \\\n",
       "0  Levitating (feat. DaBaby)   \n",
       "1  Levitating (feat. DaBaby)   \n",
       "2  Levitating (feat. DaBaby)   \n",
       "3  Levitating (feat. DaBaby)   \n",
       "4  Levitating (feat. DaBaby)   \n",
       "\n",
       "                                               letra  lang  \n",
       "0  [DaBaby:]\\nBillboard Baby, Dua Lipa make 'em d...     2  \n",
       "1  [DaBaby:]\\nBillboard Baby, Dua Lipa make 'em d...     2  \n",
       "2  [DaBaby:]\\nBillboard Baby, Dua Lipa make 'em d...     2  \n",
       "3  [DaBaby:]\\nBillboard Baby, Dua Lipa make 'em d...     2  \n",
       "4  [DaBaby:]\\nBillboard Baby, Dua Lipa make 'em d...     2  "
      ]
     },
     "execution_count": 47,
     "metadata": {},
     "output_type": "execute_result"
    }
   ],
   "source": [
    "lyrics_df.head()"
   ]
  },
  {
   "cell_type": "markdown",
   "metadata": {},
   "source": [
    "---"
   ]
  },
  {
   "cell_type": "code",
   "execution_count": 133,
   "metadata": {},
   "outputs": [],
   "source": [
    "sentence_encodings = ae.encode(lyrics_df[\"sentence\"].str.split(\" \").values)"
   ]
  },
  {
   "cell_type": "code",
   "execution_count": 135,
   "metadata": {},
   "outputs": [
    {
     "data": {
      "text/plain": [
       "(82579, 128)"
      ]
     },
     "execution_count": 135,
     "metadata": {},
     "output_type": "execute_result"
    }
   ],
   "source": [
    "sentence_encodings.shape"
   ]
  },
  {
   "cell_type": "code",
   "execution_count": 136,
   "metadata": {},
   "outputs": [],
   "source": [
    "song_idxs = lyrics_df.reset_index().groupby(\"song_idx\")[\"index\"].apply(list)"
   ]
  },
  {
   "cell_type": "code",
   "execution_count": 137,
   "metadata": {},
   "outputs": [],
   "source": [
    "song_encodings_map = {}\n",
    "\n",
    "for i, idxs in song_idxs.iteritems():\n",
    "    song_encodings_map[i] = sentence_encodings[idxs].mean(axis=0)"
   ]
  },
  {
   "cell_type": "code",
   "execution_count": 138,
   "metadata": {},
   "outputs": [],
   "source": [
    "with open(\"../data/processed/sentence_encodings.pkl\", \"wb\") as outfile:\n",
    "    pickle.dump(sentence_encodings, outfile)"
   ]
  },
  {
   "cell_type": "code",
   "execution_count": 139,
   "metadata": {},
   "outputs": [],
   "source": [
    "with open(\"../data/processed/song_encodings.pkl\", \"wb\") as outfile:\n",
    "    pickle.dump(song_encodings_map, outfile)"
   ]
  },
  {
   "cell_type": "code",
   "execution_count": 140,
   "metadata": {},
   "outputs": [],
   "source": [
    "lyrics_df.to_csv(\"../data/processed/lyrics.csv\", sep=\";\", index=False)"
   ]
  },
  {
   "cell_type": "code",
   "execution_count": 147,
   "metadata": {},
   "outputs": [
    {
     "data": {
      "text/plain": [
       "1556"
      ]
     },
     "execution_count": 147,
     "metadata": {},
     "output_type": "execute_result"
    }
   ],
   "source": [
    "len(song_encodings_map)"
   ]
  },
  {
   "cell_type": "markdown",
   "metadata": {},
   "source": [
    "---"
   ]
  },
  {
   "cell_type": "markdown",
   "metadata": {},
   "source": [
    "Song vector space"
   ]
  },
  {
   "cell_type": "code",
   "execution_count": 141,
   "metadata": {},
   "outputs": [],
   "source": [
    "tsne = TSNE()"
   ]
  },
  {
   "cell_type": "code",
   "execution_count": 142,
   "metadata": {},
   "outputs": [],
   "source": [
    "# song_embeddings = {\n",
    "#     i: emb \n",
    "#     for i, emb in \n",
    "#     zip(list(song_encodings_map.keys()), tsne.fit_transform(list(song_encodings_map.values())))\n",
    "# }\n",
    "\n",
    "song_embeddings = tsne.fit_transform(list(song_encodings_map.values()))"
   ]
  },
  {
   "cell_type": "code",
   "execution_count": 156,
   "metadata": {},
   "outputs": [],
   "source": [
    "song_df = pd.DataFrame(\n",
    "    zip(list(song_encodings_map.keys()), song_embeddings[:,0], song_embeddings[:,1]),\n",
    "    columns=[\"song_idx\", \"x\", \"y\"]\n",
    ")"
   ]
  },
  {
   "cell_type": "code",
   "execution_count": 157,
   "metadata": {},
   "outputs": [
    {
     "data": {
      "text/plain": [
       "(1556, 3)"
      ]
     },
     "execution_count": 157,
     "metadata": {},
     "output_type": "execute_result"
    }
   ],
   "source": [
    "song_df.shape"
   ]
  },
  {
   "cell_type": "code",
   "execution_count": 165,
   "metadata": {},
   "outputs": [
    {
     "data": {
      "text/html": [
       "<div>\n",
       "<style scoped>\n",
       "    .dataframe tbody tr th:only-of-type {\n",
       "        vertical-align: middle;\n",
       "    }\n",
       "\n",
       "    .dataframe tbody tr th {\n",
       "        vertical-align: top;\n",
       "    }\n",
       "\n",
       "    .dataframe thead th {\n",
       "        text-align: right;\n",
       "    }\n",
       "</style>\n",
       "<table border=\"1\" class=\"dataframe\">\n",
       "  <thead>\n",
       "    <tr style=\"text-align: right;\">\n",
       "      <th></th>\n",
       "      <th>song_idx</th>\n",
       "      <th>x</th>\n",
       "      <th>y</th>\n",
       "    </tr>\n",
       "  </thead>\n",
       "  <tbody>\n",
       "    <tr>\n",
       "      <th>0</th>\n",
       "      <td>0</td>\n",
       "      <td>7.424465</td>\n",
       "      <td>-1.148654</td>\n",
       "    </tr>\n",
       "    <tr>\n",
       "      <th>1</th>\n",
       "      <td>1</td>\n",
       "      <td>-0.293809</td>\n",
       "      <td>0.497196</td>\n",
       "    </tr>\n",
       "    <tr>\n",
       "      <th>2</th>\n",
       "      <td>2</td>\n",
       "      <td>6.215290</td>\n",
       "      <td>17.715231</td>\n",
       "    </tr>\n",
       "    <tr>\n",
       "      <th>3</th>\n",
       "      <td>3</td>\n",
       "      <td>7.430250</td>\n",
       "      <td>-1.086189</td>\n",
       "    </tr>\n",
       "    <tr>\n",
       "      <th>4</th>\n",
       "      <td>4</td>\n",
       "      <td>1.919331</td>\n",
       "      <td>-0.682756</td>\n",
       "    </tr>\n",
       "  </tbody>\n",
       "</table>\n",
       "</div>"
      ],
      "text/plain": [
       "   song_idx         x          y\n",
       "0         0  7.424465  -1.148654\n",
       "1         1 -0.293809   0.497196\n",
       "2         2  6.215290  17.715231\n",
       "3         3  7.430250  -1.086189\n",
       "4         4  1.919331  -0.682756"
      ]
     },
     "execution_count": 165,
     "metadata": {},
     "output_type": "execute_result"
    }
   ],
   "source": [
    "song_df.head()"
   ]
  },
  {
   "cell_type": "code",
   "execution_count": 166,
   "metadata": {},
   "outputs": [
    {
     "data": {
      "text/html": [
       "<div>\n",
       "<style scoped>\n",
       "    .dataframe tbody tr th:only-of-type {\n",
       "        vertical-align: middle;\n",
       "    }\n",
       "\n",
       "    .dataframe tbody tr th {\n",
       "        vertical-align: top;\n",
       "    }\n",
       "\n",
       "    .dataframe thead th {\n",
       "        text-align: right;\n",
       "    }\n",
       "</style>\n",
       "<table border=\"1\" class=\"dataframe\">\n",
       "  <thead>\n",
       "    <tr style=\"text-align: right;\">\n",
       "      <th></th>\n",
       "      <th>song_idx</th>\n",
       "      <th>x</th>\n",
       "      <th>y</th>\n",
       "      <th>sentence</th>\n",
       "      <th>artista</th>\n",
       "      <th>musica</th>\n",
       "      <th>letra</th>\n",
       "      <th>lang</th>\n",
       "    </tr>\n",
       "  </thead>\n",
       "  <tbody>\n",
       "    <tr>\n",
       "      <th>0</th>\n",
       "      <td>0</td>\n",
       "      <td>7.424465</td>\n",
       "      <td>-1.148654</td>\n",
       "      <td>[DaBaby:]</td>\n",
       "      <td>Dua Lipa</td>\n",
       "      <td>Levitating (feat. DaBaby)</td>\n",
       "      <td>[DaBaby:]\\nBillboard Baby, Dua Lipa make 'em d...</td>\n",
       "      <td>2</td>\n",
       "    </tr>\n",
       "    <tr>\n",
       "      <th>1</th>\n",
       "      <td>0</td>\n",
       "      <td>7.424465</td>\n",
       "      <td>-1.148654</td>\n",
       "      <td>Billboard Baby, Dua Lipa make 'em dance when i...</td>\n",
       "      <td>Dua Lipa</td>\n",
       "      <td>Levitating (feat. DaBaby)</td>\n",
       "      <td>[DaBaby:]\\nBillboard Baby, Dua Lipa make 'em d...</td>\n",
       "      <td>2</td>\n",
       "    </tr>\n",
       "    <tr>\n",
       "      <th>2</th>\n",
       "      <td>0</td>\n",
       "      <td>7.424465</td>\n",
       "      <td>-1.148654</td>\n",
       "      <td>Everybody lookin' for a dance floor to run on</td>\n",
       "      <td>Dua Lipa</td>\n",
       "      <td>Levitating (feat. DaBaby)</td>\n",
       "      <td>[DaBaby:]\\nBillboard Baby, Dua Lipa make 'em d...</td>\n",
       "      <td>2</td>\n",
       "    </tr>\n",
       "    <tr>\n",
       "      <th>3</th>\n",
       "      <td>0</td>\n",
       "      <td>7.424465</td>\n",
       "      <td>-1.148654</td>\n",
       "      <td>[Dua Lipa:]</td>\n",
       "      <td>Dua Lipa</td>\n",
       "      <td>Levitating (feat. DaBaby)</td>\n",
       "      <td>[DaBaby:]\\nBillboard Baby, Dua Lipa make 'em d...</td>\n",
       "      <td>2</td>\n",
       "    </tr>\n",
       "    <tr>\n",
       "      <th>4</th>\n",
       "      <td>0</td>\n",
       "      <td>7.424465</td>\n",
       "      <td>-1.148654</td>\n",
       "      <td>If you wanna run away with me, I know a galaxy</td>\n",
       "      <td>Dua Lipa</td>\n",
       "      <td>Levitating (feat. DaBaby)</td>\n",
       "      <td>[DaBaby:]\\nBillboard Baby, Dua Lipa make 'em d...</td>\n",
       "      <td>2</td>\n",
       "    </tr>\n",
       "  </tbody>\n",
       "</table>\n",
       "</div>"
      ],
      "text/plain": [
       "   song_idx         x         y  \\\n",
       "0         0  7.424465 -1.148654   \n",
       "1         0  7.424465 -1.148654   \n",
       "2         0  7.424465 -1.148654   \n",
       "3         0  7.424465 -1.148654   \n",
       "4         0  7.424465 -1.148654   \n",
       "\n",
       "                                            sentence   artista  \\\n",
       "0                                          [DaBaby:]  Dua Lipa   \n",
       "1  Billboard Baby, Dua Lipa make 'em dance when i...  Dua Lipa   \n",
       "2      Everybody lookin' for a dance floor to run on  Dua Lipa   \n",
       "3                                        [Dua Lipa:]  Dua Lipa   \n",
       "4     If you wanna run away with me, I know a galaxy  Dua Lipa   \n",
       "\n",
       "                      musica  \\\n",
       "0  Levitating (feat. DaBaby)   \n",
       "1  Levitating (feat. DaBaby)   \n",
       "2  Levitating (feat. DaBaby)   \n",
       "3  Levitating (feat. DaBaby)   \n",
       "4  Levitating (feat. DaBaby)   \n",
       "\n",
       "                                               letra  lang  \n",
       "0  [DaBaby:]\\nBillboard Baby, Dua Lipa make 'em d...     2  \n",
       "1  [DaBaby:]\\nBillboard Baby, Dua Lipa make 'em d...     2  \n",
       "2  [DaBaby:]\\nBillboard Baby, Dua Lipa make 'em d...     2  \n",
       "3  [DaBaby:]\\nBillboard Baby, Dua Lipa make 'em d...     2  \n",
       "4  [DaBaby:]\\nBillboard Baby, Dua Lipa make 'em d...     2  "
      ]
     },
     "execution_count": 166,
     "metadata": {},
     "output_type": "execute_result"
    }
   ],
   "source": [
    "song_df = song_df.merge(lyrics_df, left_on=\"song_idx\", right_on=\"song_idx\")\n",
    "song_df.head()"
   ]
  },
  {
   "cell_type": "code",
   "execution_count": 168,
   "metadata": {},
   "outputs": [
    {
     "data": {
      "text/plain": [
       "(82579, 6)"
      ]
     },
     "execution_count": 168,
     "metadata": {},
     "output_type": "execute_result"
    }
   ],
   "source": [
    "lyrics_df.shape"
   ]
  },
  {
   "cell_type": "code",
   "execution_count": 167,
   "metadata": {},
   "outputs": [
    {
     "data": {
      "text/plain": [
       "(82579, 8)"
      ]
     },
     "execution_count": 167,
     "metadata": {},
     "output_type": "execute_result"
    }
   ],
   "source": [
    "song_df.shape"
   ]
  },
  {
   "cell_type": "code",
   "execution_count": 169,
   "metadata": {},
   "outputs": [],
   "source": [
    "song_df.to_csv(\"../data/processed/songs_with_coordinates.csv\", sep=\";\", index=False)"
   ]
  },
  {
   "cell_type": "markdown",
   "metadata": {},
   "source": [
    "---"
   ]
  },
  {
   "cell_type": "code",
   "execution_count": 180,
   "metadata": {},
   "outputs": [
    {
     "data": {
      "text/html": [
       "<div>\n",
       "<style scoped>\n",
       "    .dataframe tbody tr th:only-of-type {\n",
       "        vertical-align: middle;\n",
       "    }\n",
       "\n",
       "    .dataframe tbody tr th {\n",
       "        vertical-align: top;\n",
       "    }\n",
       "\n",
       "    .dataframe thead th {\n",
       "        text-align: right;\n",
       "    }\n",
       "</style>\n",
       "<table border=\"1\" class=\"dataframe\">\n",
       "  <thead>\n",
       "    <tr style=\"text-align: right;\">\n",
       "      <th></th>\n",
       "      <th>song_idx</th>\n",
       "      <th>sentence</th>\n",
       "      <th>artista</th>\n",
       "      <th>musica</th>\n",
       "      <th>letra</th>\n",
       "      <th>lang</th>\n",
       "    </tr>\n",
       "  </thead>\n",
       "  <tbody>\n",
       "    <tr>\n",
       "      <th>47144</th>\n",
       "      <td>1156</td>\n",
       "      <td>We could to turn darkness into light</td>\n",
       "      <td>John Legend</td>\n",
       "      <td>Love Me Now</td>\n",
       "      <td>Pulling me further, further than I've been bef...</td>\n",
       "      <td>2</td>\n",
       "    </tr>\n",
       "  </tbody>\n",
       "</table>\n",
       "</div>"
      ],
      "text/plain": [
       "       song_idx                              sentence      artista  \\\n",
       "47144      1156  We could to turn darkness into light  John Legend   \n",
       "\n",
       "            musica                                              letra  lang  \n",
       "47144  Love Me Now  Pulling me further, further than I've been bef...     2  "
      ]
     },
     "execution_count": 180,
     "metadata": {},
     "output_type": "execute_result"
    }
   ],
   "source": [
    "lyrics_df.sample()"
   ]
  },
  {
   "cell_type": "code",
   "execution_count": 197,
   "metadata": {},
   "outputs": [],
   "source": [
    "distances = cosine_distances(sentence_encodings[47144].reshape(1, -1), sentence_encodings)"
   ]
  },
  {
   "cell_type": "code",
   "execution_count": 203,
   "metadata": {},
   "outputs": [
    {
     "data": {
      "text/html": [
       "<div>\n",
       "<style scoped>\n",
       "    .dataframe tbody tr th:only-of-type {\n",
       "        vertical-align: middle;\n",
       "    }\n",
       "\n",
       "    .dataframe tbody tr th {\n",
       "        vertical-align: top;\n",
       "    }\n",
       "\n",
       "    .dataframe thead th {\n",
       "        text-align: right;\n",
       "    }\n",
       "</style>\n",
       "<table border=\"1\" class=\"dataframe\">\n",
       "  <thead>\n",
       "    <tr style=\"text-align: right;\">\n",
       "      <th></th>\n",
       "      <th>song_idx</th>\n",
       "      <th>sentence</th>\n",
       "      <th>artista</th>\n",
       "      <th>musica</th>\n",
       "      <th>letra</th>\n",
       "      <th>lang</th>\n",
       "    </tr>\n",
       "  </thead>\n",
       "  <tbody>\n",
       "    <tr>\n",
       "      <th>47144</th>\n",
       "      <td>1156</td>\n",
       "      <td>We could to turn darkness into light</td>\n",
       "      <td>John Legend</td>\n",
       "      <td>Love Me Now</td>\n",
       "      <td>Pulling me further, further than I've been bef...</td>\n",
       "      <td>2</td>\n",
       "    </tr>\n",
       "    <tr>\n",
       "      <th>74573</th>\n",
       "      <td>2103</td>\n",
       "      <td>Shut the door, turn the light off</td>\n",
       "      <td>One Direction</td>\n",
       "      <td>Moments</td>\n",
       "      <td>Shut the door, turn the light off\\nI wanna be ...</td>\n",
       "      <td>2</td>\n",
       "    </tr>\n",
       "    <tr>\n",
       "      <th>37927</th>\n",
       "      <td>864</td>\n",
       "      <td>Pink when I turn out the light</td>\n",
       "      <td>Aerosmith</td>\n",
       "      <td>Pink</td>\n",
       "      <td>Pink it´s my new obsession\\nPink it´s not even...</td>\n",
       "      <td>2</td>\n",
       "    </tr>\n",
       "    <tr>\n",
       "      <th>37918</th>\n",
       "      <td>864</td>\n",
       "      <td>Pink when I turn out the light</td>\n",
       "      <td>Aerosmith</td>\n",
       "      <td>Pink</td>\n",
       "      <td>Pink it´s my new obsession\\nPink it´s not even...</td>\n",
       "      <td>2</td>\n",
       "    </tr>\n",
       "    <tr>\n",
       "      <th>18879</th>\n",
       "      <td>437</td>\n",
       "      <td>There will be niks when I'm done</td>\n",
       "      <td>Beyoncé</td>\n",
       "      <td>My Power (With Tierra Whack, Moonchild Sanelly...</td>\n",
       "      <td>They'll never take my power, my power, my powe...</td>\n",
       "      <td>2</td>\n",
       "    </tr>\n",
       "  </tbody>\n",
       "</table>\n",
       "</div>"
      ],
      "text/plain": [
       "       song_idx                              sentence        artista  \\\n",
       "47144      1156  We could to turn darkness into light    John Legend   \n",
       "74573      2103     Shut the door, turn the light off  One Direction   \n",
       "37927       864        Pink when I turn out the light      Aerosmith   \n",
       "37918       864        Pink when I turn out the light      Aerosmith   \n",
       "18879       437      There will be niks when I'm done        Beyoncé   \n",
       "\n",
       "                                                  musica  \\\n",
       "47144                                        Love Me Now   \n",
       "74573                                            Moments   \n",
       "37927                                               Pink   \n",
       "37918                                               Pink   \n",
       "18879  My Power (With Tierra Whack, Moonchild Sanelly...   \n",
       "\n",
       "                                                   letra  lang  \n",
       "47144  Pulling me further, further than I've been bef...     2  \n",
       "74573  Shut the door, turn the light off\\nI wanna be ...     2  \n",
       "37927  Pink it´s my new obsession\\nPink it´s not even...     2  \n",
       "37918  Pink it´s my new obsession\\nPink it´s not even...     2  \n",
       "18879  They'll never take my power, my power, my powe...     2  "
      ]
     },
     "execution_count": 203,
     "metadata": {},
     "output_type": "execute_result"
    }
   ],
   "source": [
    "lyrics_df.iloc[distances.argsort()[0]].head()"
   ]
  },
  {
   "cell_type": "markdown",
   "metadata": {},
   "source": [
    "Distances seens to work"
   ]
  },
  {
   "cell_type": "code",
   "execution_count": 213,
   "metadata": {},
   "outputs": [
    {
     "data": {
      "text/plain": [
       "17043"
      ]
     },
     "execution_count": 213,
     "metadata": {},
     "output_type": "execute_result"
    }
   ],
   "source": []
  },
  {
   "cell_type": "code",
   "execution_count": 219,
   "metadata": {},
   "outputs": [
    {
     "data": {
      "text/html": [
       "<div>\n",
       "<style scoped>\n",
       "    .dataframe tbody tr th:only-of-type {\n",
       "        vertical-align: middle;\n",
       "    }\n",
       "\n",
       "    .dataframe tbody tr th {\n",
       "        vertical-align: top;\n",
       "    }\n",
       "\n",
       "    .dataframe thead th {\n",
       "        text-align: right;\n",
       "    }\n",
       "</style>\n",
       "<table border=\"1\" class=\"dataframe\">\n",
       "  <thead>\n",
       "    <tr style=\"text-align: right;\">\n",
       "      <th></th>\n",
       "      <th>song_idx</th>\n",
       "      <th>sentence</th>\n",
       "      <th>artista</th>\n",
       "      <th>musica</th>\n",
       "      <th>letra</th>\n",
       "      <th>lang</th>\n",
       "    </tr>\n",
       "  </thead>\n",
       "  <tbody>\n",
       "    <tr>\n",
       "      <th>58813</th>\n",
       "      <td>1556</td>\n",
       "      <td>Come on listen, listen</td>\n",
       "      <td>John Lennon</td>\n",
       "      <td>Whatever Gets You Through The Night</td>\n",
       "      <td>Whatever gets you through the night 's alright...</td>\n",
       "      <td>2</td>\n",
       "    </tr>\n",
       "    <tr>\n",
       "      <th>55414</th>\n",
       "      <td>1407</td>\n",
       "      <td>You! You need to listen</td>\n",
       "      <td>Avril Lavigne</td>\n",
       "      <td>Losing Grip</td>\n",
       "      <td>Are you aware of what you make me feel, baby?\\...</td>\n",
       "      <td>2</td>\n",
       "    </tr>\n",
       "    <tr>\n",
       "      <th>58820</th>\n",
       "      <td>1556</td>\n",
       "      <td>Come on listen, listen</td>\n",
       "      <td>John Lennon</td>\n",
       "      <td>Whatever Gets You Through The Night</td>\n",
       "      <td>Whatever gets you through the night 's alright...</td>\n",
       "      <td>2</td>\n",
       "    </tr>\n",
       "    <tr>\n",
       "      <th>55393</th>\n",
       "      <td>1407</td>\n",
       "      <td>You, You need to listen</td>\n",
       "      <td>Avril Lavigne</td>\n",
       "      <td>Losing Grip</td>\n",
       "      <td>Are you aware of what you make me feel, baby?\\...</td>\n",
       "      <td>2</td>\n",
       "    </tr>\n",
       "    <tr>\n",
       "      <th>37654</th>\n",
       "      <td>858</td>\n",
       "      <td>But I just couldn't listen</td>\n",
       "      <td>Aerosmith</td>\n",
       "      <td>Amazing</td>\n",
       "      <td>I kept the right ones out \\nAnd let the wrong ...</td>\n",
       "      <td>2</td>\n",
       "    </tr>\n",
       "  </tbody>\n",
       "</table>\n",
       "</div>"
      ],
      "text/plain": [
       "       song_idx                     sentence        artista  \\\n",
       "58813      1556      Come on listen, listen     John Lennon   \n",
       "55414      1407     You! You need to listen   Avril Lavigne   \n",
       "58820      1556       Come on listen, listen    John Lennon   \n",
       "55393      1407      You, You need to listen  Avril Lavigne   \n",
       "37654       858  But I just couldn't listen       Aerosmith   \n",
       "\n",
       "                                    musica  \\\n",
       "58813  Whatever Gets You Through The Night   \n",
       "55414                          Losing Grip   \n",
       "58820  Whatever Gets You Through The Night   \n",
       "55393                          Losing Grip   \n",
       "37654                              Amazing   \n",
       "\n",
       "                                                   letra  lang  \n",
       "58813  Whatever gets you through the night 's alright...     2  \n",
       "55414  Are you aware of what you make me feel, baby?\\...     2  \n",
       "58820  Whatever gets you through the night 's alright...     2  \n",
       "55393  Are you aware of what you make me feel, baby?\\...     2  \n",
       "37654  I kept the right ones out \\nAnd let the wrong ...     2  "
      ]
     },
     "execution_count": 219,
     "metadata": {},
     "output_type": "execute_result"
    }
   ],
   "source": [
    "random_idx = np.random.randint(0, lyrics_df.shape[0])\n",
    "distances = cosine_distances(sentence_encodings[random_idx].reshape(1, -1), sentence_encodings)\n",
    "lyrics_df.iloc[distances.argsort()[0]].head()"
   ]
  }
 ],
 "metadata": {
  "kernelspec": {
   "display_name": "Python 3",
   "language": "python",
   "name": "python3"
  },
  "language_info": {
   "codemirror_mode": {
    "name": "ipython",
    "version": 3
   },
   "file_extension": ".py",
   "mimetype": "text/x-python",
   "name": "python",
   "nbconvert_exporter": "python",
   "pygments_lexer": "ipython3",
   "version": "3.8.5"
  }
 },
 "nbformat": 4,
 "nbformat_minor": 4
}
