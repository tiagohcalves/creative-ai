{
 "cells": [
  {
   "cell_type": "code",
   "execution_count": 8,
   "metadata": {},
   "outputs": [],
   "source": [
    "import pickle\n",
    "import string\n",
    "\n",
    "import numpy as np\n",
    "import pandas as pd\n",
    "from sklearn.manifold import TSNE\n",
    "from sklearn.metrics.pairwise import cosine_distances\n",
    "\n",
    "from text_autoencoders import TrainedAutoEncoder"
   ]
  },
  {
   "cell_type": "code",
   "execution_count": 3,
   "metadata": {},
   "outputs": [
    {
     "name": "stdout",
     "output_type": "stream",
     "text": [
      "Model loaded.\n"
     ]
    }
   ],
   "source": [
    "ae = TrainedAutoEncoder(\"../src/text_autoencoders/checkpoints/lyrics/daae/\")"
   ]
  },
  {
   "cell_type": "markdown",
   "metadata": {},
   "source": [
    "---"
   ]
  },
  {
   "cell_type": "markdown",
   "metadata": {},
   "source": [
    "TODO:\n",
    "- [x] relate phrases with lyrics and artitst (may have to rebuild the set)\n",
    "- [x] encode phrases in lyrics\n",
    "- [x] get the mean vector of each lyric\n",
    "- [ ] get the mean vector of each artist\n",
    "- [x] reduce dim for lyrics and artists\n",
    "- [x] create map of lyric -> 2dim\n",
    "- [ ] create map of artist -> 2dim\n",
    "- [x] plot lyrics space\n",
    "- [ ] plot artists space"
   ]
  },
  {
   "cell_type": "code",
   "execution_count": 4,
   "metadata": {},
   "outputs": [],
   "source": [
    "df = pd.read_csv(\"../data/data_raw.csv\", sep=\";\")\n",
    "df[\"clean_lyrics\"] = df[\"letra\"].apply(lambda x: [phrase for phrase in x.split(\"\\n\") if len(phrase) > 3])\n",
    "df = df.reset_index()"
   ]
  },
  {
   "cell_type": "code",
   "execution_count": 5,
   "metadata": {},
   "outputs": [],
   "source": [
    "lyrics_df = pd.DataFrame([(i, l) for i, lyrics in df.query(\"lang == 2\")[[\"index\", \"clean_lyrics\"]].values for l in lyrics], columns=[\"song_idx\", \"sentence\"])\n",
    "lyrics_df = lyrics_df.merge(df, left_on=\"song_idx\", right_on=\"index\").drop(columns=[\"clean_lyrics\", \"index\"])"
   ]
  },
  {
   "cell_type": "code",
   "execution_count": 7,
   "metadata": {},
   "outputs": [
    {
     "data": {
      "text/html": [
       "<div>\n",
       "<style scoped>\n",
       "    .dataframe tbody tr th:only-of-type {\n",
       "        vertical-align: middle;\n",
       "    }\n",
       "\n",
       "    .dataframe tbody tr th {\n",
       "        vertical-align: top;\n",
       "    }\n",
       "\n",
       "    .dataframe thead th {\n",
       "        text-align: right;\n",
       "    }\n",
       "</style>\n",
       "<table border=\"1\" class=\"dataframe\">\n",
       "  <thead>\n",
       "    <tr style=\"text-align: right;\">\n",
       "      <th></th>\n",
       "      <th>song_idx</th>\n",
       "      <th>sentence</th>\n",
       "      <th>artista</th>\n",
       "      <th>musica</th>\n",
       "      <th>letra</th>\n",
       "      <th>lang</th>\n",
       "    </tr>\n",
       "  </thead>\n",
       "  <tbody>\n",
       "    <tr>\n",
       "      <th>0</th>\n",
       "      <td>0</td>\n",
       "      <td>[DaBaby:]</td>\n",
       "      <td>Dua Lipa</td>\n",
       "      <td>Levitating (feat. DaBaby)</td>\n",
       "      <td>[DaBaby:]\\nBillboard Baby, Dua Lipa make 'em d...</td>\n",
       "      <td>2</td>\n",
       "    </tr>\n",
       "    <tr>\n",
       "      <th>1</th>\n",
       "      <td>0</td>\n",
       "      <td>Billboard Baby, Dua Lipa make 'em dance when i...</td>\n",
       "      <td>Dua Lipa</td>\n",
       "      <td>Levitating (feat. DaBaby)</td>\n",
       "      <td>[DaBaby:]\\nBillboard Baby, Dua Lipa make 'em d...</td>\n",
       "      <td>2</td>\n",
       "    </tr>\n",
       "    <tr>\n",
       "      <th>2</th>\n",
       "      <td>0</td>\n",
       "      <td>Everybody lookin' for a dance floor to run on</td>\n",
       "      <td>Dua Lipa</td>\n",
       "      <td>Levitating (feat. DaBaby)</td>\n",
       "      <td>[DaBaby:]\\nBillboard Baby, Dua Lipa make 'em d...</td>\n",
       "      <td>2</td>\n",
       "    </tr>\n",
       "    <tr>\n",
       "      <th>3</th>\n",
       "      <td>0</td>\n",
       "      <td>[Dua Lipa:]</td>\n",
       "      <td>Dua Lipa</td>\n",
       "      <td>Levitating (feat. DaBaby)</td>\n",
       "      <td>[DaBaby:]\\nBillboard Baby, Dua Lipa make 'em d...</td>\n",
       "      <td>2</td>\n",
       "    </tr>\n",
       "    <tr>\n",
       "      <th>4</th>\n",
       "      <td>0</td>\n",
       "      <td>If you wanna run away with me, I know a galaxy</td>\n",
       "      <td>Dua Lipa</td>\n",
       "      <td>Levitating (feat. DaBaby)</td>\n",
       "      <td>[DaBaby:]\\nBillboard Baby, Dua Lipa make 'em d...</td>\n",
       "      <td>2</td>\n",
       "    </tr>\n",
       "  </tbody>\n",
       "</table>\n",
       "</div>"
      ],
      "text/plain": [
       "   song_idx                                           sentence   artista  \\\n",
       "0         0                                          [DaBaby:]  Dua Lipa   \n",
       "1         0  Billboard Baby, Dua Lipa make 'em dance when i...  Dua Lipa   \n",
       "2         0      Everybody lookin' for a dance floor to run on  Dua Lipa   \n",
       "3         0                                        [Dua Lipa:]  Dua Lipa   \n",
       "4         0     If you wanna run away with me, I know a galaxy  Dua Lipa   \n",
       "\n",
       "                      musica  \\\n",
       "0  Levitating (feat. DaBaby)   \n",
       "1  Levitating (feat. DaBaby)   \n",
       "2  Levitating (feat. DaBaby)   \n",
       "3  Levitating (feat. DaBaby)   \n",
       "4  Levitating (feat. DaBaby)   \n",
       "\n",
       "                                               letra  lang  \n",
       "0  [DaBaby:]\\nBillboard Baby, Dua Lipa make 'em d...     2  \n",
       "1  [DaBaby:]\\nBillboard Baby, Dua Lipa make 'em d...     2  \n",
       "2  [DaBaby:]\\nBillboard Baby, Dua Lipa make 'em d...     2  \n",
       "3  [DaBaby:]\\nBillboard Baby, Dua Lipa make 'em d...     2  \n",
       "4  [DaBaby:]\\nBillboard Baby, Dua Lipa make 'em d...     2  "
      ]
     },
     "execution_count": 7,
     "metadata": {},
     "output_type": "execute_result"
    }
   ],
   "source": [
    "lyrics_df.head()"
   ]
  },
  {
   "cell_type": "code",
   "execution_count": 9,
   "metadata": {},
   "outputs": [],
   "source": [
    "def process_text(text):\n",
    "    return \"\".join([f\" {c} \" if c in string.punctuation else c for c in text.lower().strip()])"
   ]
  },
  {
   "cell_type": "markdown",
   "metadata": {},
   "source": [
    "---"
   ]
  },
  {
   "cell_type": "code",
   "execution_count": 29,
   "metadata": {},
   "outputs": [
    {
     "data": {
      "text/plain": [
       "array([list(['', '[', 'dababy', ':', '', ']', '']),\n",
       "       list(['billboard', 'baby', ',', '', 'dua', 'lipa', 'make', '', \"'\", 'em', 'dance', 'when', 'it', 'come', 'on']),\n",
       "       list(['everybody', 'lookin', \"'\", '', 'for', 'a', 'dance', 'floor', 'to', 'run', 'on']),\n",
       "       ...,\n",
       "       list(['just', 'call', 'me', 'angel', 'of', 'the', 'morning', ',', '', 'angel']),\n",
       "       list(['then', 'slowly', 'turn', 'away', 'from', 'me']),\n",
       "       list(['oh', 'baby', ',', '', 'i', 'love', 'you', 'baby', ',', '', 'oh', 'baby'])],\n",
       "      dtype=object)"
      ]
     },
     "execution_count": 29,
     "metadata": {},
     "output_type": "execute_result"
    }
   ],
   "source": [
    "lyrics_df[\"sentence\"].apply(process_text).str.split(\" \").values"
   ]
  },
  {
   "cell_type": "code",
   "execution_count": 13,
   "metadata": {},
   "outputs": [],
   "source": [
    "sentence_encodings = ae.encode(lyrics_df[\"sentence\"].apply(process_text).str.split(\" \").values)"
   ]
  },
  {
   "cell_type": "code",
   "execution_count": 14,
   "metadata": {},
   "outputs": [
    {
     "data": {
      "text/plain": [
       "(82579, 128)"
      ]
     },
     "execution_count": 14,
     "metadata": {},
     "output_type": "execute_result"
    }
   ],
   "source": [
    "sentence_encodings.shape"
   ]
  },
  {
   "cell_type": "code",
   "execution_count": 15,
   "metadata": {},
   "outputs": [],
   "source": [
    "song_idxs = lyrics_df.reset_index().groupby(\"song_idx\")[\"index\"].apply(list)"
   ]
  },
  {
   "cell_type": "code",
   "execution_count": 16,
   "metadata": {},
   "outputs": [],
   "source": [
    "song_encodings_map = {}\n",
    "\n",
    "for i, idxs in song_idxs.iteritems():\n",
    "    song_encodings_map[i] = sentence_encodings[idxs].mean(axis=0)"
   ]
  },
  {
   "cell_type": "code",
   "execution_count": 17,
   "metadata": {},
   "outputs": [],
   "source": [
    "with open(\"../data/processed/sentence_encodings.pkl\", \"wb\") as outfile:\n",
    "    pickle.dump(sentence_encodings, outfile)"
   ]
  },
  {
   "cell_type": "code",
   "execution_count": 18,
   "metadata": {},
   "outputs": [],
   "source": [
    "with open(\"../data/processed/song_encodings.pkl\", \"wb\") as outfile:\n",
    "    pickle.dump(song_encodings_map, outfile)"
   ]
  },
  {
   "cell_type": "code",
   "execution_count": 19,
   "metadata": {},
   "outputs": [],
   "source": [
    "lyrics_df.to_csv(\"../data/processed/lyrics.csv\", sep=\";\", index=False)"
   ]
  },
  {
   "cell_type": "code",
   "execution_count": 20,
   "metadata": {},
   "outputs": [
    {
     "data": {
      "text/plain": [
       "1556"
      ]
     },
     "execution_count": 20,
     "metadata": {},
     "output_type": "execute_result"
    }
   ],
   "source": [
    "len(song_encodings_map)"
   ]
  },
  {
   "cell_type": "markdown",
   "metadata": {},
   "source": [
    "---"
   ]
  },
  {
   "cell_type": "code",
   "execution_count": 24,
   "metadata": {},
   "outputs": [
    {
     "data": {
      "text/html": [
       "<div>\n",
       "<style scoped>\n",
       "    .dataframe tbody tr th:only-of-type {\n",
       "        vertical-align: middle;\n",
       "    }\n",
       "\n",
       "    .dataframe tbody tr th {\n",
       "        vertical-align: top;\n",
       "    }\n",
       "\n",
       "    .dataframe thead th {\n",
       "        text-align: right;\n",
       "    }\n",
       "</style>\n",
       "<table border=\"1\" class=\"dataframe\">\n",
       "  <thead>\n",
       "    <tr style=\"text-align: right;\">\n",
       "      <th></th>\n",
       "      <th>song_idx</th>\n",
       "      <th>sentence</th>\n",
       "      <th>artista</th>\n",
       "      <th>musica</th>\n",
       "      <th>letra</th>\n",
       "      <th>lang</th>\n",
       "    </tr>\n",
       "  </thead>\n",
       "  <tbody>\n",
       "    <tr>\n",
       "      <th>81990</th>\n",
       "      <td>2349</td>\n",
       "      <td>Don't cry, cause on earth we wasn't meant to stay</td>\n",
       "      <td>Whitney Houston</td>\n",
       "      <td>My Love Is Your Love</td>\n",
       "      <td>If tomorrow is judgement day (sing mommy)\\nAnd...</td>\n",
       "      <td>2</td>\n",
       "    </tr>\n",
       "  </tbody>\n",
       "</table>\n",
       "</div>"
      ],
      "text/plain": [
       "       song_idx                                           sentence  \\\n",
       "81990      2349  Don't cry, cause on earth we wasn't meant to stay   \n",
       "\n",
       "               artista                musica  \\\n",
       "81990  Whitney Houston  My Love Is Your Love   \n",
       "\n",
       "                                                   letra  lang  \n",
       "81990  If tomorrow is judgement day (sing mommy)\\nAnd...     2  "
      ]
     },
     "execution_count": 24,
     "metadata": {},
     "output_type": "execute_result"
    }
   ],
   "source": [
    "lyrics_df.sample()"
   ]
  },
  {
   "cell_type": "code",
   "execution_count": 25,
   "metadata": {},
   "outputs": [],
   "source": [
    "distances = cosine_distances(sentence_encodings[81990].reshape(1, -1), sentence_encodings)"
   ]
  },
  {
   "cell_type": "code",
   "execution_count": 26,
   "metadata": {},
   "outputs": [
    {
     "data": {
      "text/html": [
       "<div>\n",
       "<style scoped>\n",
       "    .dataframe tbody tr th:only-of-type {\n",
       "        vertical-align: middle;\n",
       "    }\n",
       "\n",
       "    .dataframe tbody tr th {\n",
       "        vertical-align: top;\n",
       "    }\n",
       "\n",
       "    .dataframe thead th {\n",
       "        text-align: right;\n",
       "    }\n",
       "</style>\n",
       "<table border=\"1\" class=\"dataframe\">\n",
       "  <thead>\n",
       "    <tr style=\"text-align: right;\">\n",
       "      <th></th>\n",
       "      <th>song_idx</th>\n",
       "      <th>sentence</th>\n",
       "      <th>artista</th>\n",
       "      <th>musica</th>\n",
       "      <th>letra</th>\n",
       "      <th>lang</th>\n",
       "    </tr>\n",
       "  </thead>\n",
       "  <tbody>\n",
       "    <tr>\n",
       "      <th>81990</th>\n",
       "      <td>2349</td>\n",
       "      <td>Don't cry, cause on earth we wasn't meant to stay</td>\n",
       "      <td>Whitney Houston</td>\n",
       "      <td>My Love Is Your Love</td>\n",
       "      <td>If tomorrow is judgement day (sing mommy)\\nAnd...</td>\n",
       "      <td>2</td>\n",
       "    </tr>\n",
       "    <tr>\n",
       "      <th>49640</th>\n",
       "      <td>1204</td>\n",
       "      <td>Don't get me wrong, I wasn't out to deceive</td>\n",
       "      <td>Alicia Keys</td>\n",
       "      <td>Gramercy Park</td>\n",
       "      <td>Are you gonna see me when light gets dark?\\nTh...</td>\n",
       "      <td>2</td>\n",
       "    </tr>\n",
       "    <tr>\n",
       "      <th>33585</th>\n",
       "      <td>748</td>\n",
       "      <td>Don't say I didn't, say I didn't warn ya</td>\n",
       "      <td>Taylor Swift</td>\n",
       "      <td>Blank Space</td>\n",
       "      <td>Nice to meet you, where you been?\\nI could sho...</td>\n",
       "      <td>2</td>\n",
       "    </tr>\n",
       "    <tr>\n",
       "      <th>33587</th>\n",
       "      <td>748</td>\n",
       "      <td>Don't say I didn't, say I didn't warn ya</td>\n",
       "      <td>Taylor Swift</td>\n",
       "      <td>Blank Space</td>\n",
       "      <td>Nice to meet you, where you been?\\nI could sho...</td>\n",
       "      <td>2</td>\n",
       "    </tr>\n",
       "    <tr>\n",
       "      <th>46277</th>\n",
       "      <td>1139</td>\n",
       "      <td>But I can't move on if we're still gonna talk</td>\n",
       "      <td>Shawn Mendes</td>\n",
       "      <td>If I Can't Have You</td>\n",
       "      <td>I can't write one song that's not about you\\nC...</td>\n",
       "      <td>2</td>\n",
       "    </tr>\n",
       "  </tbody>\n",
       "</table>\n",
       "</div>"
      ],
      "text/plain": [
       "       song_idx                                           sentence  \\\n",
       "81990      2349  Don't cry, cause on earth we wasn't meant to stay   \n",
       "49640      1204        Don't get me wrong, I wasn't out to deceive   \n",
       "33585       748           Don't say I didn't, say I didn't warn ya   \n",
       "33587       748           Don't say I didn't, say I didn't warn ya   \n",
       "46277      1139      But I can't move on if we're still gonna talk   \n",
       "\n",
       "               artista                musica  \\\n",
       "81990  Whitney Houston  My Love Is Your Love   \n",
       "49640      Alicia Keys         Gramercy Park   \n",
       "33585     Taylor Swift           Blank Space   \n",
       "33587     Taylor Swift           Blank Space   \n",
       "46277     Shawn Mendes   If I Can't Have You   \n",
       "\n",
       "                                                   letra  lang  \n",
       "81990  If tomorrow is judgement day (sing mommy)\\nAnd...     2  \n",
       "49640  Are you gonna see me when light gets dark?\\nTh...     2  \n",
       "33585  Nice to meet you, where you been?\\nI could sho...     2  \n",
       "33587  Nice to meet you, where you been?\\nI could sho...     2  \n",
       "46277  I can't write one song that's not about you\\nC...     2  "
      ]
     },
     "execution_count": 26,
     "metadata": {},
     "output_type": "execute_result"
    }
   ],
   "source": [
    "lyrics_df.iloc[distances.argsort()[0]].head()"
   ]
  },
  {
   "cell_type": "markdown",
   "metadata": {},
   "source": [
    "Distances seens to work"
   ]
  },
  {
   "cell_type": "code",
   "execution_count": 27,
   "metadata": {},
   "outputs": [
    {
     "data": {
      "text/html": [
       "<div>\n",
       "<style scoped>\n",
       "    .dataframe tbody tr th:only-of-type {\n",
       "        vertical-align: middle;\n",
       "    }\n",
       "\n",
       "    .dataframe tbody tr th {\n",
       "        vertical-align: top;\n",
       "    }\n",
       "\n",
       "    .dataframe thead th {\n",
       "        text-align: right;\n",
       "    }\n",
       "</style>\n",
       "<table border=\"1\" class=\"dataframe\">\n",
       "  <thead>\n",
       "    <tr style=\"text-align: right;\">\n",
       "      <th></th>\n",
       "      <th>song_idx</th>\n",
       "      <th>sentence</th>\n",
       "      <th>artista</th>\n",
       "      <th>musica</th>\n",
       "      <th>letra</th>\n",
       "      <th>lang</th>\n",
       "    </tr>\n",
       "  </thead>\n",
       "  <tbody>\n",
       "    <tr>\n",
       "      <th>61779</th>\n",
       "      <td>1635</td>\n",
       "      <td>Yesterday seems as though it never existed</td>\n",
       "      <td>Metallica</td>\n",
       "      <td>Fade To Black</td>\n",
       "      <td>Life, it seems, will fade away\\nDrifting furth...</td>\n",
       "      <td>2</td>\n",
       "    </tr>\n",
       "    <tr>\n",
       "      <th>51936</th>\n",
       "      <td>1245</td>\n",
       "      <td>Life goes on as it never ends</td>\n",
       "      <td>Backstreet Boys</td>\n",
       "      <td>Show Me The Meaning Of Being Lonely</td>\n",
       "      <td>Show me the meaning of being lonely\\nSo many w...</td>\n",
       "      <td>2</td>\n",
       "    </tr>\n",
       "    <tr>\n",
       "      <th>52146</th>\n",
       "      <td>1250</td>\n",
       "      <td>Impossible as it may seem</td>\n",
       "      <td>Backstreet Boys</td>\n",
       "      <td>Quit Playing Games (With My Heart)</td>\n",
       "      <td>Baby...Oh...\\n\\nEven in my heart, I see\\nYou'r...</td>\n",
       "      <td>2</td>\n",
       "    </tr>\n",
       "    <tr>\n",
       "      <th>43409</th>\n",
       "      <td>1035</td>\n",
       "      <td>True as it can be</td>\n",
       "      <td>Ariana Grande</td>\n",
       "      <td>Beauty and The Beast (Feat. John Legend)</td>\n",
       "      <td>Tale as old as time\\nTrue as it can be\\nBarely...</td>\n",
       "      <td>2</td>\n",
       "    </tr>\n",
       "    <tr>\n",
       "      <th>47976</th>\n",
       "      <td>1172</td>\n",
       "      <td>True as it can be</td>\n",
       "      <td>John Legend</td>\n",
       "      <td>Beauty and The Beast</td>\n",
       "      <td>Tale as old as time\\nTrue as it can be\\nBarely...</td>\n",
       "      <td>2</td>\n",
       "    </tr>\n",
       "  </tbody>\n",
       "</table>\n",
       "</div>"
      ],
      "text/plain": [
       "       song_idx                                    sentence          artista  \\\n",
       "61779      1635  Yesterday seems as though it never existed        Metallica   \n",
       "51936      1245               Life goes on as it never ends  Backstreet Boys   \n",
       "52146      1250                   Impossible as it may seem  Backstreet Boys   \n",
       "43409      1035                           True as it can be    Ariana Grande   \n",
       "47976      1172                           True as it can be      John Legend   \n",
       "\n",
       "                                         musica  \\\n",
       "61779                             Fade To Black   \n",
       "51936       Show Me The Meaning Of Being Lonely   \n",
       "52146        Quit Playing Games (With My Heart)   \n",
       "43409  Beauty and The Beast (Feat. John Legend)   \n",
       "47976                      Beauty and The Beast   \n",
       "\n",
       "                                                   letra  lang  \n",
       "61779  Life, it seems, will fade away\\nDrifting furth...     2  \n",
       "51936  Show me the meaning of being lonely\\nSo many w...     2  \n",
       "52146  Baby...Oh...\\n\\nEven in my heart, I see\\nYou'r...     2  \n",
       "43409  Tale as old as time\\nTrue as it can be\\nBarely...     2  \n",
       "47976  Tale as old as time\\nTrue as it can be\\nBarely...     2  "
      ]
     },
     "execution_count": 27,
     "metadata": {},
     "output_type": "execute_result"
    }
   ],
   "source": [
    "random_idx = np.random.randint(0, lyrics_df.shape[0])\n",
    "distances = cosine_distances(sentence_encodings[random_idx].reshape(1, -1), sentence_encodings)\n",
    "lyrics_df.iloc[distances.argsort()[0]].head()"
   ]
  }
 ],
 "metadata": {
  "kernelspec": {
   "display_name": "Python 3",
   "language": "python",
   "name": "python3"
  },
  "language_info": {
   "codemirror_mode": {
    "name": "ipython",
    "version": 3
   },
   "file_extension": ".py",
   "mimetype": "text/x-python",
   "name": "python",
   "nbconvert_exporter": "python",
   "pygments_lexer": "ipython3",
   "version": "3.8.5"
  }
 },
 "nbformat": 4,
 "nbformat_minor": 4
}
