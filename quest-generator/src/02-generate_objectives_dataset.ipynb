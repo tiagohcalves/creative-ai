{
 "cells": [
  {
   "cell_type": "code",
   "execution_count": 1,
   "metadata": {},
   "outputs": [],
   "source": [
    "import json\n",
    "import pandas as pd"
   ]
  },
  {
   "cell_type": "code",
   "execution_count": 2,
   "metadata": {},
   "outputs": [],
   "source": [
    "with open(\"quests/skyrim_quests.json\") as infile:\n",
    "    quests_json = json.load(infile)"
   ]
  },
  {
   "cell_type": "code",
   "execution_count": 47,
   "metadata": {},
   "outputs": [],
   "source": [
    "quest_objectives = {\n",
    "    \"source\": [],\n",
    "    \"id\": [],\n",
    "    \"title\": [],\n",
    "    \"objectives\": []\n",
    "}"
   ]
  },
  {
   "cell_type": "code",
   "execution_count": 48,
   "metadata": {
    "scrolled": true
   },
   "outputs": [
    {
     "name": "stdout",
     "output_type": "stream",
     "text": [
      "83790 failed for 'elements'\n",
      "1071119 failed for list index out of range\n",
      "78079 failed for 'elements'\n",
      "41733 failed for 'elements'\n",
      "49336 failed for 'elements'\n",
      "54454 failed for 'elements'\n",
      "71427 failed for list index out of range\n",
      "41731 failed for list index out of range\n",
      "161125 failed for list index out of range\n",
      "111315 failed for 'elements'\n",
      "17187 failed for 'elements'\n",
      "76767 failed for 'elements'\n",
      "129458 failed for list index out of range\n",
      "90035 failed for list index out of range\n",
      "78054 failed for list index out of range\n",
      "166767 failed for list index out of range\n",
      "214536 failed for list index out of range\n",
      "129456 failed for list index out of range\n",
      "50303 failed for list index out of range\n",
      "131936 failed for list index out of range\n",
      "905960 failed for list index out of range\n",
      "120756 failed for list index out of range\n",
      "121681 failed for list index out of range\n",
      "100863 failed for list index out of range\n",
      "869052 failed for list index out of range\n",
      "882799 failed for list index out of range\n"
     ]
    }
   ],
   "source": [
    "for quest_id, quest in quests_json.items():\n",
    "    try:\n",
    "        quest_title = quest[0][\"title\"]\n",
    "        quest_objs = ' \\n'.join([e['text'] for e in quest[1]['content'][0]['elements']])\n",
    "\n",
    "        quest_objectives[\"source\"].append(\"skyrim\")\n",
    "        quest_objectives[\"id\"].append(quest_id)    \n",
    "        quest_objectives[\"title\"].append(quest_title)    \n",
    "        quest_objectives[\"objectives\"].append(quest_objs)    \n",
    "    except Exception as e:\n",
    "        print(f\"{quest_id} failed for {e}\")"
   ]
  },
  {
   "cell_type": "code",
   "execution_count": 50,
   "metadata": {},
   "outputs": [],
   "source": [
    "skyrim_quests = pd.DataFrame(quest_objectives)"
   ]
  },
  {
   "cell_type": "markdown",
   "metadata": {},
   "source": [
    "---"
   ]
  },
  {
   "cell_type": "code",
   "execution_count": 51,
   "metadata": {},
   "outputs": [],
   "source": [
    "with open(\"quests/witcher_contracts.json\") as infile:\n",
    "    quests_json = json.load(infile)"
   ]
  },
  {
   "cell_type": "code",
   "execution_count": 66,
   "metadata": {
    "scrolled": true
   },
   "outputs": [
    {
     "name": "stdout",
     "output_type": "stream",
     "text": [
      "42681 failed for 'elements'\n",
      "42811 failed for 'elements'\n",
      "36195 failed for 'elements'\n",
      "24786 failed for 'elements'\n"
     ]
    }
   ],
   "source": [
    "quest_objectives = {\n",
    "    \"source\": [],\n",
    "    \"id\": [],\n",
    "    \"title\": [],\n",
    "    \"objectives\": []\n",
    "}\n",
    "\n",
    "for quest_id, quest in quests_json.items():\n",
    "    try:\n",
    "        quest_title = quest[0][\"title\"]\n",
    "        quest_objs = ' \\n'.join([e['text'] for e in quest[2]['content'][0]['elements']])\n",
    "\n",
    "        quest_objectives[\"source\"].append(\"wicher_contracts\")\n",
    "        quest_objectives[\"id\"].append(quest_id)    \n",
    "        quest_objectives[\"title\"].append(quest_title)    \n",
    "        quest_objectives[\"objectives\"].append(quest_objs)    \n",
    "    except Exception as e:\n",
    "        print(f\"{quest_id} failed for {e}\")"
   ]
  },
  {
   "cell_type": "code",
   "execution_count": 68,
   "metadata": {},
   "outputs": [],
   "source": [
    "wicher_contracts = pd.DataFrame(quest_objectives)"
   ]
  },
  {
   "cell_type": "code",
   "execution_count": 70,
   "metadata": {},
   "outputs": [
    {
     "data": {
      "text/html": [
       "<div>\n",
       "<style scoped>\n",
       "    .dataframe tbody tr th:only-of-type {\n",
       "        vertical-align: middle;\n",
       "    }\n",
       "\n",
       "    .dataframe tbody tr th {\n",
       "        vertical-align: top;\n",
       "    }\n",
       "\n",
       "    .dataframe thead th {\n",
       "        text-align: right;\n",
       "    }\n",
       "</style>\n",
       "<table border=\"1\" class=\"dataframe\">\n",
       "  <thead>\n",
       "    <tr style=\"text-align: right;\">\n",
       "      <th></th>\n",
       "      <th>source</th>\n",
       "      <th>id</th>\n",
       "      <th>title</th>\n",
       "      <th>objectives</th>\n",
       "    </tr>\n",
       "  </thead>\n",
       "  <tbody>\n",
       "    <tr>\n",
       "      <th>0</th>\n",
       "      <td>wicher_contracts</td>\n",
       "      <td>24948</td>\n",
       "      <td>Contract: Deadly Delights</td>\n",
       "      <td>Talk to the guard. \\nGet information from the ...</td>\n",
       "    </tr>\n",
       "    <tr>\n",
       "      <th>1</th>\n",
       "      <td>wicher_contracts</td>\n",
       "      <td>55540</td>\n",
       "      <td>Contract: Doors Slamming Shut</td>\n",
       "      <td>Talk to Kurt Dysart. \\nTravel to the haunted m...</td>\n",
       "    </tr>\n",
       "    <tr>\n",
       "      <th>2</th>\n",
       "      <td>wicher_contracts</td>\n",
       "      <td>59433</td>\n",
       "      <td>Contract: Dragon</td>\n",
       "      <td>Talk to the village elder of Fyesdal. \\nTalk t...</td>\n",
       "    </tr>\n",
       "    <tr>\n",
       "      <th>3</th>\n",
       "      <td>wicher_contracts</td>\n",
       "      <td>53305</td>\n",
       "      <td>Contract: Here Comes the Groom</td>\n",
       "      <td>If quest is started from the notice: \\nExplore...</td>\n",
       "    </tr>\n",
       "    <tr>\n",
       "      <th>4</th>\n",
       "      <td>wicher_contracts</td>\n",
       "      <td>42728</td>\n",
       "      <td>Contract: Jenny o' the Woods</td>\n",
       "      <td>Talk to the ealdorman of Midcopse. \\nInterroga...</td>\n",
       "    </tr>\n",
       "  </tbody>\n",
       "</table>\n",
       "</div>"
      ],
      "text/plain": [
       "             source     id                           title  \\\n",
       "0  wicher_contracts  24948       Contract: Deadly Delights   \n",
       "1  wicher_contracts  55540   Contract: Doors Slamming Shut   \n",
       "2  wicher_contracts  59433                Contract: Dragon   \n",
       "3  wicher_contracts  53305  Contract: Here Comes the Groom   \n",
       "4  wicher_contracts  42728    Contract: Jenny o' the Woods   \n",
       "\n",
       "                                          objectives  \n",
       "0  Talk to the guard. \\nGet information from the ...  \n",
       "1  Talk to Kurt Dysart. \\nTravel to the haunted m...  \n",
       "2  Talk to the village elder of Fyesdal. \\nTalk t...  \n",
       "3  If quest is started from the notice: \\nExplore...  \n",
       "4  Talk to the ealdorman of Midcopse. \\nInterroga...  "
      ]
     },
     "execution_count": 70,
     "metadata": {},
     "output_type": "execute_result"
    }
   ],
   "source": [
    "wicher_contracts.head()"
   ]
  },
  {
   "cell_type": "markdown",
   "metadata": {},
   "source": [
    "---"
   ]
  },
  {
   "cell_type": "code",
   "execution_count": 71,
   "metadata": {},
   "outputs": [],
   "source": [
    "with open(\"quests/witcher_hunts.json\") as infile:\n",
    "    quests_json = json.load(infile)"
   ]
  },
  {
   "cell_type": "code",
   "execution_count": 72,
   "metadata": {
    "scrolled": true
   },
   "outputs": [
    {
     "name": "stdout",
     "output_type": "stream",
     "text": [
      "63508 failed for 'elements'\n",
      "63509 failed for 'elements'\n",
      "63375 failed for 'elements'\n",
      "63510 failed for 'elements'\n"
     ]
    }
   ],
   "source": [
    "quest_objectives = {\n",
    "    \"source\": [],\n",
    "    \"id\": [],\n",
    "    \"title\": [],\n",
    "    \"objectives\": []\n",
    "}\n",
    "\n",
    "for quest_id, quest in quests_json.items():\n",
    "    try:\n",
    "        quest_title = quest[0][\"title\"]\n",
    "        quest_objs = ' \\n'.join([e['text'] for e in quest[2]['content'][0]['elements']])\n",
    "\n",
    "        quest_objectives[\"source\"].append(\"wicher_contracts\")\n",
    "        quest_objectives[\"id\"].append(quest_id)    \n",
    "        quest_objectives[\"title\"].append(quest_title)    \n",
    "        quest_objectives[\"objectives\"].append(quest_objs)    \n",
    "    except Exception as e:\n",
    "        print(f\"{quest_id} failed for {e}\")"
   ]
  },
  {
   "cell_type": "code",
   "execution_count": 73,
   "metadata": {},
   "outputs": [],
   "source": [
    "wicher_hunts = pd.DataFrame(quest_objectives)"
   ]
  },
  {
   "cell_type": "code",
   "execution_count": 74,
   "metadata": {},
   "outputs": [
    {
     "data": {
      "text/html": [
       "<div>\n",
       "<style scoped>\n",
       "    .dataframe tbody tr th:only-of-type {\n",
       "        vertical-align: middle;\n",
       "    }\n",
       "\n",
       "    .dataframe tbody tr th {\n",
       "        vertical-align: top;\n",
       "    }\n",
       "\n",
       "    .dataframe thead th {\n",
       "        text-align: right;\n",
       "    }\n",
       "</style>\n",
       "<table border=\"1\" class=\"dataframe\">\n",
       "  <thead>\n",
       "    <tr style=\"text-align: right;\">\n",
       "      <th></th>\n",
       "      <th>source</th>\n",
       "      <th>id</th>\n",
       "      <th>title</th>\n",
       "      <th>objectives</th>\n",
       "    </tr>\n",
       "  </thead>\n",
       "  <tbody>\n",
       "    <tr>\n",
       "      <th>0</th>\n",
       "      <td>wicher_contracts</td>\n",
       "      <td>45825</td>\n",
       "      <td>A Plea Ignored</td>\n",
       "      <td>Read the letter you found. \\nFind the valuable...</td>\n",
       "    </tr>\n",
       "    <tr>\n",
       "      <th>1</th>\n",
       "      <td>wicher_contracts</td>\n",
       "      <td>45821</td>\n",
       "      <td>An Unfortunate Turn of Events</td>\n",
       "      <td>Read the letter you found. \\nFind the cargo th...</td>\n",
       "    </tr>\n",
       "    <tr>\n",
       "      <th>2</th>\n",
       "      <td>wicher_contracts</td>\n",
       "      <td>45824</td>\n",
       "      <td>Battlefield Loot</td>\n",
       "      <td>Read the notes you found. \\nFollow the blood t...</td>\n",
       "    </tr>\n",
       "    <tr>\n",
       "      <th>3</th>\n",
       "      <td>wicher_contracts</td>\n",
       "      <td>45832</td>\n",
       "      <td>Blood Gold</td>\n",
       "      <td>Read the letter you found. \\nFollow the blood ...</td>\n",
       "    </tr>\n",
       "    <tr>\n",
       "      <th>4</th>\n",
       "      <td>wicher_contracts</td>\n",
       "      <td>45837</td>\n",
       "      <td>Coast of Wrecks (quest)</td>\n",
       "      <td>Read the letter you found. \\nFind the cargo us...</td>\n",
       "    </tr>\n",
       "  </tbody>\n",
       "</table>\n",
       "</div>"
      ],
      "text/plain": [
       "             source     id                          title  \\\n",
       "0  wicher_contracts  45825                 A Plea Ignored   \n",
       "1  wicher_contracts  45821  An Unfortunate Turn of Events   \n",
       "2  wicher_contracts  45824               Battlefield Loot   \n",
       "3  wicher_contracts  45832                     Blood Gold   \n",
       "4  wicher_contracts  45837        Coast of Wrecks (quest)   \n",
       "\n",
       "                                          objectives  \n",
       "0  Read the letter you found. \\nFind the valuable...  \n",
       "1  Read the letter you found. \\nFind the cargo th...  \n",
       "2  Read the notes you found. \\nFollow the blood t...  \n",
       "3  Read the letter you found. \\nFollow the blood ...  \n",
       "4  Read the letter you found. \\nFind the cargo us...  "
      ]
     },
     "execution_count": 74,
     "metadata": {},
     "output_type": "execute_result"
    }
   ],
   "source": [
    "wicher_hunts.head()"
   ]
  },
  {
   "cell_type": "markdown",
   "metadata": {},
   "source": [
    "---"
   ]
  },
  {
   "cell_type": "code",
   "execution_count": 75,
   "metadata": {},
   "outputs": [],
   "source": [
    "with open(\"quests/witcher_quests.json\") as infile:\n",
    "    quests_json = json.load(infile)"
   ]
  },
  {
   "cell_type": "code",
   "execution_count": 89,
   "metadata": {
    "scrolled": true
   },
   "outputs": [],
   "source": [
    "quest_objectives = {\n",
    "    \"source\": [],\n",
    "    \"id\": [],\n",
    "    \"title\": [],\n",
    "    \"objectives\": []\n",
    "}\n",
    "\n",
    "for quest_id, quest in quests_json.items():\n",
    "    try:\n",
    "        quest_title = quest[0][\"title\"]\n",
    "        for sec in quest:\n",
    "            if sec[\"title\"] == \"Objectives\":\n",
    "                quest_objs = ' \\n'.join([e['text'] for e in sec['content'][0]['elements']])\n",
    "\n",
    "        quest_objectives[\"source\"].append(\"wicher_contracts\")\n",
    "        quest_objectives[\"id\"].append(quest_id)    \n",
    "        quest_objectives[\"title\"].append(quest_title)    \n",
    "        quest_objectives[\"objectives\"].append(quest_objs)    \n",
    "    except Exception as e:\n",
    "        print(f\"{quest_id} failed for {e}\")"
   ]
  },
  {
   "cell_type": "code",
   "execution_count": 90,
   "metadata": {},
   "outputs": [],
   "source": [
    "wicher_quests = pd.DataFrame(quest_objectives)"
   ]
  },
  {
   "cell_type": "code",
   "execution_count": 91,
   "metadata": {},
   "outputs": [
    {
     "data": {
      "text/html": [
       "<div>\n",
       "<style scoped>\n",
       "    .dataframe tbody tr th:only-of-type {\n",
       "        vertical-align: middle;\n",
       "    }\n",
       "\n",
       "    .dataframe tbody tr th {\n",
       "        vertical-align: top;\n",
       "    }\n",
       "\n",
       "    .dataframe thead th {\n",
       "        text-align: right;\n",
       "    }\n",
       "</style>\n",
       "<table border=\"1\" class=\"dataframe\">\n",
       "  <thead>\n",
       "    <tr style=\"text-align: right;\">\n",
       "      <th></th>\n",
       "      <th>source</th>\n",
       "      <th>id</th>\n",
       "      <th>title</th>\n",
       "      <th>objectives</th>\n",
       "    </tr>\n",
       "  </thead>\n",
       "  <tbody>\n",
       "    <tr>\n",
       "      <th>0</th>\n",
       "      <td>wicher_contracts</td>\n",
       "      <td>39826</td>\n",
       "      <td>A Mysterious Passenger</td>\n",
       "      <td>Talk to Donar about the ugly creature Skjall saw.</td>\n",
       "    </tr>\n",
       "    <tr>\n",
       "      <th>1</th>\n",
       "      <td>wicher_contracts</td>\n",
       "      <td>21769</td>\n",
       "      <td>A Poet Under Pressure</td>\n",
       "      <td>(Optional) Ask Dijkstra to help rescuing Dande...</td>\n",
       "    </tr>\n",
       "    <tr>\n",
       "      <th>2</th>\n",
       "      <td>wicher_contracts</td>\n",
       "      <td>20893</td>\n",
       "      <td>A Princess in Distress</td>\n",
       "      <td>Find the pellar's goat using the bell and your...</td>\n",
       "    </tr>\n",
       "    <tr>\n",
       "      <th>3</th>\n",
       "      <td>wicher_contracts</td>\n",
       "      <td>40301</td>\n",
       "      <td>Bald Mountain (quest)</td>\n",
       "      <td>Find a way to the mountain's summit. \\nTalk to...</td>\n",
       "    </tr>\n",
       "    <tr>\n",
       "      <th>4</th>\n",
       "      <td>wicher_contracts</td>\n",
       "      <td>24677</td>\n",
       "      <td>Battle Preparations</td>\n",
       "      <td>Meet Avallac'h on the ship. \\nFind the Sunston...</td>\n",
       "    </tr>\n",
       "  </tbody>\n",
       "</table>\n",
       "</div>"
      ],
      "text/plain": [
       "             source     id                   title  \\\n",
       "0  wicher_contracts  39826  A Mysterious Passenger   \n",
       "1  wicher_contracts  21769   A Poet Under Pressure   \n",
       "2  wicher_contracts  20893  A Princess in Distress   \n",
       "3  wicher_contracts  40301   Bald Mountain (quest)   \n",
       "4  wicher_contracts  24677     Battle Preparations   \n",
       "\n",
       "                                          objectives  \n",
       "0  Talk to Donar about the ugly creature Skjall saw.  \n",
       "1  (Optional) Ask Dijkstra to help rescuing Dande...  \n",
       "2  Find the pellar's goat using the bell and your...  \n",
       "3  Find a way to the mountain's summit. \\nTalk to...  \n",
       "4  Meet Avallac'h on the ship. \\nFind the Sunston...  "
      ]
     },
     "execution_count": 91,
     "metadata": {},
     "output_type": "execute_result"
    }
   ],
   "source": [
    "wicher_quests.head()"
   ]
  },
  {
   "cell_type": "markdown",
   "metadata": {},
   "source": [
    "---"
   ]
  },
  {
   "cell_type": "code",
   "execution_count": 93,
   "metadata": {},
   "outputs": [],
   "source": [
    "with open(\"quests/witcher_side_quests.json\") as infile:\n",
    "    quests_json = json.load(infile)"
   ]
  },
  {
   "cell_type": "code",
   "execution_count": 94,
   "metadata": {
    "scrolled": true
   },
   "outputs": [
    {
     "name": "stdout",
     "output_type": "stream",
     "text": [
      "24789 failed for 'elements'\n",
      "54084 failed for 'elements'\n",
      "24795 failed for 'elements'\n",
      "24798 failed for 'elements'\n"
     ]
    }
   ],
   "source": [
    "quest_objectives = {\n",
    "    \"source\": [],\n",
    "    \"id\": [],\n",
    "    \"title\": [],\n",
    "    \"objectives\": []\n",
    "}\n",
    "\n",
    "for quest_id, quest in quests_json.items():\n",
    "    try:\n",
    "        quest_title = quest[0][\"title\"]\n",
    "        for sec in quest:\n",
    "            if sec[\"title\"] == \"Objectives\":\n",
    "                quest_objs = ' \\n'.join([e['text'] for e in sec['content'][0]['elements']])\n",
    "\n",
    "        quest_objectives[\"source\"].append(\"wicher_contracts\")\n",
    "        quest_objectives[\"id\"].append(quest_id)    \n",
    "        quest_objectives[\"title\"].append(quest_title)    \n",
    "        quest_objectives[\"objectives\"].append(quest_objs)    \n",
    "    except Exception as e:\n",
    "        print(f\"{quest_id} failed for {e}\")"
   ]
  },
  {
   "cell_type": "code",
   "execution_count": 95,
   "metadata": {},
   "outputs": [],
   "source": [
    "wicher_side_quests = pd.DataFrame(quest_objectives)"
   ]
  },
  {
   "cell_type": "code",
   "execution_count": 96,
   "metadata": {},
   "outputs": [
    {
     "data": {
      "text/html": [
       "<div>\n",
       "<style scoped>\n",
       "    .dataframe tbody tr th:only-of-type {\n",
       "        vertical-align: middle;\n",
       "    }\n",
       "\n",
       "    .dataframe tbody tr th {\n",
       "        vertical-align: top;\n",
       "    }\n",
       "\n",
       "    .dataframe thead th {\n",
       "        text-align: right;\n",
       "    }\n",
       "</style>\n",
       "<table border=\"1\" class=\"dataframe\">\n",
       "  <thead>\n",
       "    <tr style=\"text-align: right;\">\n",
       "      <th></th>\n",
       "      <th>source</th>\n",
       "      <th>id</th>\n",
       "      <th>title</th>\n",
       "      <th>objectives</th>\n",
       "    </tr>\n",
       "  </thead>\n",
       "  <tbody>\n",
       "    <tr>\n",
       "      <th>0</th>\n",
       "      <td>wicher_contracts</td>\n",
       "      <td>24763</td>\n",
       "      <td>A Barnful of Trouble</td>\n",
       "      <td>Kill the ghouls. \\nCollect your reward.</td>\n",
       "    </tr>\n",
       "    <tr>\n",
       "      <th>1</th>\n",
       "      <td>wicher_contracts</td>\n",
       "      <td>24733</td>\n",
       "      <td>A Dangerous Game</td>\n",
       "      <td>Get the Fringilla Vigo, Isengrim, and Natalis ...</td>\n",
       "    </tr>\n",
       "    <tr>\n",
       "      <th>2</th>\n",
       "      <td>wicher_contracts</td>\n",
       "      <td>24744</td>\n",
       "      <td>A Deadly Plot</td>\n",
       "      <td>Meet Dijkstra at the Passiflora. \\nTalk to the...</td>\n",
       "    </tr>\n",
       "    <tr>\n",
       "      <th>3</th>\n",
       "      <td>wicher_contracts</td>\n",
       "      <td>24722</td>\n",
       "      <td>A Dog's Life</td>\n",
       "      <td>Follow the dog. \\nDefeat the bandits. \\nSearch...</td>\n",
       "    </tr>\n",
       "    <tr>\n",
       "      <th>4</th>\n",
       "      <td>wicher_contracts</td>\n",
       "      <td>24719</td>\n",
       "      <td>A Favor for a Friend</td>\n",
       "      <td>Find the ingredients from the missing transpor...</td>\n",
       "    </tr>\n",
       "  </tbody>\n",
       "</table>\n",
       "</div>"
      ],
      "text/plain": [
       "             source     id                 title  \\\n",
       "0  wicher_contracts  24763  A Barnful of Trouble   \n",
       "1  wicher_contracts  24733      A Dangerous Game   \n",
       "2  wicher_contracts  24744         A Deadly Plot   \n",
       "3  wicher_contracts  24722          A Dog's Life   \n",
       "4  wicher_contracts  24719  A Favor for a Friend   \n",
       "\n",
       "                                          objectives  \n",
       "0            Kill the ghouls. \\nCollect your reward.  \n",
       "1  Get the Fringilla Vigo, Isengrim, and Natalis ...  \n",
       "2  Meet Dijkstra at the Passiflora. \\nTalk to the...  \n",
       "3  Follow the dog. \\nDefeat the bandits. \\nSearch...  \n",
       "4  Find the ingredients from the missing transpor...  "
      ]
     },
     "execution_count": 96,
     "metadata": {},
     "output_type": "execute_result"
    }
   ],
   "source": [
    "wicher_side_quests.head()"
   ]
  },
  {
   "cell_type": "markdown",
   "metadata": {},
   "source": [
    "---"
   ]
  },
  {
   "cell_type": "code",
   "execution_count": 100,
   "metadata": {},
   "outputs": [],
   "source": [
    "quest_objectives_df = pd.concat([skyrim_quests, wicher_contracts, wicher_hunts, wicher_quests, wicher_side_quests])"
   ]
  },
  {
   "cell_type": "code",
   "execution_count": 102,
   "metadata": {},
   "outputs": [
    {
     "data": {
      "text/html": [
       "<div>\n",
       "<style scoped>\n",
       "    .dataframe tbody tr th:only-of-type {\n",
       "        vertical-align: middle;\n",
       "    }\n",
       "\n",
       "    .dataframe tbody tr th {\n",
       "        vertical-align: top;\n",
       "    }\n",
       "\n",
       "    .dataframe thead th {\n",
       "        text-align: right;\n",
       "    }\n",
       "</style>\n",
       "<table border=\"1\" class=\"dataframe\">\n",
       "  <thead>\n",
       "    <tr style=\"text-align: right;\">\n",
       "      <th></th>\n",
       "      <th>source</th>\n",
       "      <th>id</th>\n",
       "      <th>title</th>\n",
       "      <th>objectives</th>\n",
       "    </tr>\n",
       "  </thead>\n",
       "  <tbody>\n",
       "    <tr>\n",
       "      <th>269</th>\n",
       "      <td>skyrim</td>\n",
       "      <td>266530</td>\n",
       "      <td>The Dainty Sload</td>\n",
       "      <td>Speak to Erikur. \\nSpeak to Sabine Nytte at th...</td>\n",
       "    </tr>\n",
       "    <tr>\n",
       "      <th>28</th>\n",
       "      <td>wicher_contracts</td>\n",
       "      <td>20887</td>\n",
       "      <td>Imperial Audience</td>\n",
       "      <td>Get dressed and talk to the chamberlain. \\nFol...</td>\n",
       "    </tr>\n",
       "    <tr>\n",
       "      <th>96</th>\n",
       "      <td>skyrim</td>\n",
       "      <td>83908</td>\n",
       "      <td>Fetch Me That Book!</td>\n",
       "      <td>Find the copy of the book \\nReturn the book to...</td>\n",
       "    </tr>\n",
       "    <tr>\n",
       "      <th>79</th>\n",
       "      <td>wicher_contracts</td>\n",
       "      <td>24742</td>\n",
       "      <td>It Takes Three to Tango</td>\n",
       "      <td>Bring some good wine to your rendezvous with T...</td>\n",
       "    </tr>\n",
       "    <tr>\n",
       "      <th>22</th>\n",
       "      <td>wicher_contracts</td>\n",
       "      <td>38238</td>\n",
       "      <td>Contract: The Mystery of the Byways Murders</td>\n",
       "      <td>Read the notice: \\nFind out what happened in B...</td>\n",
       "    </tr>\n",
       "  </tbody>\n",
       "</table>\n",
       "</div>"
      ],
      "text/plain": [
       "               source      id                                        title  \\\n",
       "269            skyrim  266530                             The Dainty Sload   \n",
       "28   wicher_contracts   20887                            Imperial Audience   \n",
       "96             skyrim   83908                          Fetch Me That Book!   \n",
       "79   wicher_contracts   24742                      It Takes Three to Tango   \n",
       "22   wicher_contracts   38238  Contract: The Mystery of the Byways Murders   \n",
       "\n",
       "                                            objectives  \n",
       "269  Speak to Erikur. \\nSpeak to Sabine Nytte at th...  \n",
       "28   Get dressed and talk to the chamberlain. \\nFol...  \n",
       "96   Find the copy of the book \\nReturn the book to...  \n",
       "79   Bring some good wine to your rendezvous with T...  \n",
       "22   Read the notice: \\nFind out what happened in B...  "
      ]
     },
     "execution_count": 102,
     "metadata": {},
     "output_type": "execute_result"
    }
   ],
   "source": [
    "quest_objectives_df.sample(5)"
   ]
  },
  {
   "cell_type": "code",
   "execution_count": 103,
   "metadata": {},
   "outputs": [
    {
     "data": {
      "text/plain": [
       "(624, 4)"
      ]
     },
     "execution_count": 103,
     "metadata": {},
     "output_type": "execute_result"
    }
   ],
   "source": [
    "quest_objectives_df.shape"
   ]
  },
  {
   "cell_type": "code",
   "execution_count": 104,
   "metadata": {},
   "outputs": [],
   "source": [
    "quest_objectives_df.to_csv(\"quests/quest_objectives.csv\", sep=\";\")"
   ]
  }
 ],
 "metadata": {
  "kernelspec": {
   "display_name": "Python 3",
   "language": "python",
   "name": "python3"
  },
  "language_info": {
   "codemirror_mode": {
    "name": "ipython",
    "version": 3
   },
   "file_extension": ".py",
   "mimetype": "text/x-python",
   "name": "python",
   "nbconvert_exporter": "python",
   "pygments_lexer": "ipython3",
   "version": "3.7.3"
  }
 },
 "nbformat": 4,
 "nbformat_minor": 4
}
