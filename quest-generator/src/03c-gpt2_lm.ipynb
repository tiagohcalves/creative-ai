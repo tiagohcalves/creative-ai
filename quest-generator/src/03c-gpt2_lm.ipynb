{
 "cells": [
  {
   "cell_type": "code",
   "execution_count": 1,
   "metadata": {},
   "outputs": [],
   "source": [
    "import pandas as pd\n",
    "\n",
    "from transformers import pipeline, set_seed"
   ]
  },
  {
   "cell_type": "code",
   "execution_count": 2,
   "metadata": {},
   "outputs": [],
   "source": [
    "df = pd.read_csv(\"../data/quests/quest_objectives.csv\", sep=\";\")"
   ]
  },
  {
   "cell_type": "code",
   "execution_count": 3,
   "metadata": {},
   "outputs": [
    {
     "data": {
      "text/html": [
       "<div>\n",
       "<style scoped>\n",
       "    .dataframe tbody tr th:only-of-type {\n",
       "        vertical-align: middle;\n",
       "    }\n",
       "\n",
       "    .dataframe tbody tr th {\n",
       "        vertical-align: top;\n",
       "    }\n",
       "\n",
       "    .dataframe thead th {\n",
       "        text-align: right;\n",
       "    }\n",
       "</style>\n",
       "<table border=\"1\" class=\"dataframe\">\n",
       "  <thead>\n",
       "    <tr style=\"text-align: right;\">\n",
       "      <th></th>\n",
       "      <th>Unnamed: 0</th>\n",
       "      <th>source</th>\n",
       "      <th>id</th>\n",
       "      <th>title</th>\n",
       "      <th>objectives</th>\n",
       "    </tr>\n",
       "  </thead>\n",
       "  <tbody>\n",
       "    <tr>\n",
       "      <th>0</th>\n",
       "      <td>0</td>\n",
       "      <td>skyrim</td>\n",
       "      <td>55074</td>\n",
       "      <td>A Blade in the Dark</td>\n",
       "      <td>Talk to Delphine \\nLocate the dragon burial si...</td>\n",
       "    </tr>\n",
       "    <tr>\n",
       "      <th>1</th>\n",
       "      <td>1</td>\n",
       "      <td>skyrim</td>\n",
       "      <td>55212</td>\n",
       "      <td>A Chance Arrangement</td>\n",
       "      <td>Talk to Brynjolf about joining the Thieves Gui...</td>\n",
       "    </tr>\n",
       "    <tr>\n",
       "      <th>2</th>\n",
       "      <td>2</td>\n",
       "      <td>skyrim</td>\n",
       "      <td>51114</td>\n",
       "      <td>A Cornered Rat</td>\n",
       "      <td>Talk to Brynjolf \\nSearch the Ratway for Esber...</td>\n",
       "    </tr>\n",
       "    <tr>\n",
       "      <th>3</th>\n",
       "      <td>3</td>\n",
       "      <td>skyrim</td>\n",
       "      <td>52017</td>\n",
       "      <td>A Daedra's Best Friend</td>\n",
       "      <td>Talk with Barbas \\nTravel with Barbas to the s...</td>\n",
       "    </tr>\n",
       "    <tr>\n",
       "      <th>4</th>\n",
       "      <td>4</td>\n",
       "      <td>skyrim</td>\n",
       "      <td>63392</td>\n",
       "      <td>A False Front (Imperials)</td>\n",
       "      <td>Find the Stormcloak courier \\nRetrive the Stor...</td>\n",
       "    </tr>\n",
       "  </tbody>\n",
       "</table>\n",
       "</div>"
      ],
      "text/plain": [
       "   Unnamed: 0  source     id                      title  \\\n",
       "0           0  skyrim  55074        A Blade in the Dark   \n",
       "1           1  skyrim  55212       A Chance Arrangement   \n",
       "2           2  skyrim  51114             A Cornered Rat   \n",
       "3           3  skyrim  52017     A Daedra's Best Friend   \n",
       "4           4  skyrim  63392  A False Front (Imperials)   \n",
       "\n",
       "                                          objectives  \n",
       "0  Talk to Delphine \\nLocate the dragon burial si...  \n",
       "1  Talk to Brynjolf about joining the Thieves Gui...  \n",
       "2  Talk to Brynjolf \\nSearch the Ratway for Esber...  \n",
       "3  Talk with Barbas \\nTravel with Barbas to the s...  \n",
       "4  Find the Stormcloak courier \\nRetrive the Stor...  "
      ]
     },
     "execution_count": 3,
     "metadata": {},
     "output_type": "execute_result"
    }
   ],
   "source": [
    "df.head()"
   ]
  },
  {
   "cell_type": "code",
   "execution_count": 5,
   "metadata": {},
   "outputs": [],
   "source": [
    "generator = pipeline('text-generation', model='gpt2')\n",
    "set_seed(42)"
   ]
  },
  {
   "cell_type": "code",
   "execution_count": 36,
   "metadata": {},
   "outputs": [],
   "source": [
    "sample = df.sample() "
   ]
  },
  {
   "cell_type": "code",
   "execution_count": 37,
   "metadata": {},
   "outputs": [
    {
     "data": {
      "text/plain": [
       "'Armed Assault - Knock on the door to check on the inhabitants of the house.'"
      ]
     },
     "execution_count": 37,
     "metadata": {},
     "output_type": "execute_result"
    }
   ],
   "source": [
    "input_sentence = sample[\"title\"].values[0] + \" - \" + \"\".join(sample[\"objectives\"].values[0].split(\"\\n\")[0])\n",
    "input_sentence"
   ]
  },
  {
   "cell_type": "code",
   "execution_count": 39,
   "metadata": {},
   "outputs": [
    {
     "name": "stderr",
     "output_type": "stream",
     "text": [
      "Setting `pad_token_id` to 50256 (first `eos_token_id`) to generate sequence\n"
     ]
    },
    {
     "data": {
      "text/plain": [
       "[{'generated_text': \"Armed Assault - Knock on the door to check on the inhabitants of the house. I've seen people leaving their houses and I'm hoping they can keep their eyes open and see what we are doing here. As you guys can make out, it\"},\n",
       " {'generated_text': 'Armed Assault - Knock on the door to check on the inhabitants of the house. Make sure to have a small map of your home before entering and then try and get into the house. The building will be locked for now.\\n\\nCel'},\n",
       " {'generated_text': 'Armed Assault - Knock on the door to check on the inhabitants of the house.\\n\\nThe first time I visited this facility was on a trip to a movie in a small town. In the room where the guards are waiting for you, there'},\n",
       " {'generated_text': 'Armed Assault - Knock on the door to check on the inhabitants of the house.\\n\\n- Knock on the door to check on the inhabitants of the house. Out of Sight of the Living - Find the living space as you enter. Note:'},\n",
       " {'generated_text': 'Armed Assault - Knock on the door to check on the inhabitants of the house.\\n\\nMossad - On the boat when you arrive.\\n\\nMossad - On the ship when you arrive.\\n\\nMossad / Wolf'}]"
      ]
     },
     "execution_count": 39,
     "metadata": {},
     "output_type": "execute_result"
    }
   ],
   "source": [
    "generator(input_sentence, max_length=50, num_return_sequences=5)"
   ]
  }
 ],
 "metadata": {
  "kernelspec": {
   "display_name": "Python 3",
   "language": "python",
   "name": "python3"
  },
  "language_info": {
   "codemirror_mode": {
    "name": "ipython",
    "version": 3
   },
   "file_extension": ".py",
   "mimetype": "text/x-python",
   "name": "python",
   "nbconvert_exporter": "python",
   "pygments_lexer": "ipython3",
   "version": "3.8.5"
  }
 },
 "nbformat": 4,
 "nbformat_minor": 4
}
