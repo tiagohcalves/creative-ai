{
 "cells": [
  {
   "cell_type": "markdown",
   "metadata": {},
   "source": [
    "Ideia:\n",
    "- Extract entities from the quests\n",
    "- Replace entities with masks\n",
    "- Train causal language model to generate quests if masks\n",
    "- Use masked language modeling to fill masks in quests"
   ]
  },
  {
   "cell_type": "markdown",
   "metadata": {},
   "source": [
    "https://huggingface.co/transformers/usage.html#named-entity-recognition"
   ]
  },
  {
   "cell_type": "code",
   "execution_count": 1,
   "metadata": {},
   "outputs": [],
   "source": [
    "import json\n",
    "\n",
    "import pandas as pd\n",
    "from transformers import AutoModelForTokenClassification, AutoTokenizer, pipeline\n",
    "import torch\n",
    "\n",
    "from english_words import english_words_lower_set\n",
    "from nltk.tokenize import word_tokenize"
   ]
  },
  {
   "cell_type": "code",
   "execution_count": 2,
   "metadata": {},
   "outputs": [
    {
     "data": {
      "text/html": [
       "<div>\n",
       "<style scoped>\n",
       "    .dataframe tbody tr th:only-of-type {\n",
       "        vertical-align: middle;\n",
       "    }\n",
       "\n",
       "    .dataframe tbody tr th {\n",
       "        vertical-align: top;\n",
       "    }\n",
       "\n",
       "    .dataframe thead th {\n",
       "        text-align: right;\n",
       "    }\n",
       "</style>\n",
       "<table border=\"1\" class=\"dataframe\">\n",
       "  <thead>\n",
       "    <tr style=\"text-align: right;\">\n",
       "      <th></th>\n",
       "      <th>source</th>\n",
       "      <th>id</th>\n",
       "      <th>title</th>\n",
       "      <th>objectives</th>\n",
       "    </tr>\n",
       "  </thead>\n",
       "  <tbody>\n",
       "    <tr>\n",
       "      <th>0</th>\n",
       "      <td>skyrim</td>\n",
       "      <td>55074</td>\n",
       "      <td>A Blade in the Dark</td>\n",
       "      <td>Talk to Delphine \\nLocate the dragon burial si...</td>\n",
       "    </tr>\n",
       "    <tr>\n",
       "      <th>1</th>\n",
       "      <td>skyrim</td>\n",
       "      <td>55212</td>\n",
       "      <td>A Chance Arrangement</td>\n",
       "      <td>Talk to Brynjolf about joining the Thieves Gui...</td>\n",
       "    </tr>\n",
       "    <tr>\n",
       "      <th>2</th>\n",
       "      <td>skyrim</td>\n",
       "      <td>51114</td>\n",
       "      <td>A Cornered Rat</td>\n",
       "      <td>Talk to Brynjolf \\nSearch the Ratway for Esber...</td>\n",
       "    </tr>\n",
       "    <tr>\n",
       "      <th>3</th>\n",
       "      <td>skyrim</td>\n",
       "      <td>52017</td>\n",
       "      <td>A Daedra's Best Friend</td>\n",
       "      <td>Talk with Barbas \\nTravel with Barbas to the s...</td>\n",
       "    </tr>\n",
       "    <tr>\n",
       "      <th>4</th>\n",
       "      <td>skyrim</td>\n",
       "      <td>63392</td>\n",
       "      <td>A False Front (Imperials)</td>\n",
       "      <td>Find the Stormcloak courier \\nRetrive the Stor...</td>\n",
       "    </tr>\n",
       "  </tbody>\n",
       "</table>\n",
       "</div>"
      ],
      "text/plain": [
       "   source     id                      title  \\\n",
       "0  skyrim  55074        A Blade in the Dark   \n",
       "1  skyrim  55212       A Chance Arrangement   \n",
       "2  skyrim  51114             A Cornered Rat   \n",
       "3  skyrim  52017     A Daedra's Best Friend   \n",
       "4  skyrim  63392  A False Front (Imperials)   \n",
       "\n",
       "                                          objectives  \n",
       "0  Talk to Delphine \\nLocate the dragon burial si...  \n",
       "1  Talk to Brynjolf about joining the Thieves Gui...  \n",
       "2  Talk to Brynjolf \\nSearch the Ratway for Esber...  \n",
       "3  Talk with Barbas \\nTravel with Barbas to the s...  \n",
       "4  Find the Stormcloak courier \\nRetrive the Stor...  "
      ]
     },
     "execution_count": 2,
     "metadata": {},
     "output_type": "execute_result"
    }
   ],
   "source": [
    "df = pd.read_csv(\"../data/quests/quest_objectives.csv\", sep=\";\").drop(columns=\"Unnamed: 0\")\n",
    "df.head()"
   ]
  },
  {
   "cell_type": "code",
   "execution_count": 3,
   "metadata": {},
   "outputs": [],
   "source": [
    "nlp = pipeline('ner', grouped_entities=True)"
   ]
  },
  {
   "cell_type": "code",
   "execution_count": 4,
   "metadata": {},
   "outputs": [
    {
     "name": "stdout",
     "output_type": "stream",
     "text": [
      "Talk to Brynjolf about joining the Thieves Guild \n",
      "Meet Brynjolf during daytime \n",
      "Steal Madesi's ring from his strongbox \n",
      "Plant Madesi's ring \n",
      "Speak to Brynjolf\n"
     ]
    }
   ],
   "source": [
    "sentence = df.iloc[1][\"objectives\"]\n",
    "print(sentence)"
   ]
  },
  {
   "cell_type": "code",
   "execution_count": 5,
   "metadata": {},
   "outputs": [
    {
     "data": {
      "text/plain": [
       "[{'entity_group': 'I-PER', 'score': 0.9526254137357076, 'word': 'Brynjolf'},\n",
       " {'entity_group': 'I-ORG',\n",
       "  'score': 0.9813089668750763,\n",
       "  'word': 'Thieves Guild'},\n",
       " {'entity_group': 'I-PER', 'score': 0.9145381450653076, 'word': 'Brynjolf'},\n",
       " {'entity_group': 'I-PER', 'score': 0.9662201702594757, 'word': 'Madesi'},\n",
       " {'entity_group': 'I-PER', 'score': 0.9338123500347137, 'word': 'Madesi'},\n",
       " {'entity_group': 'I-PER', 'score': 0.813558836778005, 'word': 'Brynjolf'}]"
      ]
     },
     "execution_count": 5,
     "metadata": {},
     "output_type": "execute_result"
    }
   ],
   "source": [
    "nlp(sentence)"
   ]
  },
  {
   "cell_type": "code",
   "execution_count": 14,
   "metadata": {},
   "outputs": [],
   "source": [
    "entity_map = {\n",
    "    \"I-PER\": \"xperx\",\n",
    "    \"I-ORG\": \"xorgx\",\n",
    "    \"I-LOC\": \"xlocx\",\n",
    "    \"I-MISC\": \"xmiscx\"\n",
    "}\n",
    "\n",
    "token_entity_map = {}\n",
    "\n",
    "for sentence in df[\"objectives\"].values:\n",
    "    for ent in nlp(sentence):\n",
    "        if len(ent[\"word\"]) > 1:\n",
    "            token_entity_map[ent[\"word\"]] = entity_map[ent[\"entity_group\"]]"
   ]
  },
  {
   "cell_type": "code",
   "execution_count": 15,
   "metadata": {},
   "outputs": [],
   "source": [
    "with open(\"../data/assets/entities.json\", \"w\") as outfile:\n",
    "    json.dump(token_entity_map, outfile)"
   ]
  },
  {
   "cell_type": "markdown",
   "metadata": {},
   "source": [
    "---"
   ]
  },
  {
   "cell_type": "code",
   "execution_count": 16,
   "metadata": {},
   "outputs": [],
   "source": [
    "def replace_sentence(sentence, token_map):\n",
    "    return ' '.join([\n",
    "        word if word not in token_map else token_map[word] \n",
    "        for word\n",
    "        in word_tokenize(sentence)\n",
    "    ])"
   ]
  },
  {
   "cell_type": "code",
   "execution_count": 17,
   "metadata": {},
   "outputs": [],
   "source": [
    "df[\"objectives_entities\"] = df[\"objectives\"].apply(lambda x: replace_sentence(x, token_entity_map))"
   ]
  },
  {
   "cell_type": "code",
   "execution_count": 18,
   "metadata": {},
   "outputs": [
    {
     "data": {
      "text/plain": [
       "array(['Befriend the xorgx xmiscx xlocx Assist five citizens xmiscx xlocx Purchase xlocx Return to the xorgx'],\n",
       "      dtype=object)"
      ]
     },
     "execution_count": 18,
     "metadata": {},
     "output_type": "execute_result"
    }
   ],
   "source": [
    "df.sample()[\"objectives_entities\"].values"
   ]
  },
  {
   "cell_type": "code",
   "execution_count": 19,
   "metadata": {},
   "outputs": [],
   "source": [
    "df.to_csv(\"../data/quests/quest_objectives_entities.csv\", sep=\";\", index=False)"
   ]
  },
  {
   "cell_type": "markdown",
   "metadata": {},
   "source": [
    "---"
   ]
  }
 ],
 "metadata": {
  "kernelspec": {
   "display_name": "Python 3",
   "language": "python",
   "name": "python3"
  },
  "language_info": {
   "codemirror_mode": {
    "name": "ipython",
    "version": 3
   },
   "file_extension": ".py",
   "mimetype": "text/x-python",
   "name": "python",
   "nbconvert_exporter": "python",
   "pygments_lexer": "ipython3",
   "version": "3.8.5"
  }
 },
 "nbformat": 4,
 "nbformat_minor": 4
}
