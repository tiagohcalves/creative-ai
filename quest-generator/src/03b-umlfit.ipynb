{
 "cells": [
  {
   "cell_type": "markdown",
   "metadata": {},
   "source": [
    "https://docs.fast.ai/tutorial.text#Fine-tuning-a-language-model-on-IMDb"
   ]
  },
  {
   "cell_type": "code",
   "execution_count": 1,
   "metadata": {},
   "outputs": [],
   "source": [
    "import pickle\n",
    "\n",
    "import pandas as pd\n",
    "from sklearn.model_selection import train_test_split\n",
    "\n",
    "from english_words import english_words_lower_set\n",
    "import fastai\n",
    "from fastai.text.all import *"
   ]
  },
  {
   "cell_type": "code",
   "execution_count": 2,
   "metadata": {},
   "outputs": [],
   "source": [
    "df_quests = pd.read_csv(\"../data/quests/quest_objectives_entities.csv\", sep=\";\")"
   ]
  },
  {
   "cell_type": "code",
   "execution_count": 3,
   "metadata": {},
   "outputs": [
    {
     "data": {
      "text/html": [
       "<div>\n",
       "<style scoped>\n",
       "    .dataframe tbody tr th:only-of-type {\n",
       "        vertical-align: middle;\n",
       "    }\n",
       "\n",
       "    .dataframe tbody tr th {\n",
       "        vertical-align: top;\n",
       "    }\n",
       "\n",
       "    .dataframe thead th {\n",
       "        text-align: right;\n",
       "    }\n",
       "</style>\n",
       "<table border=\"1\" class=\"dataframe\">\n",
       "  <thead>\n",
       "    <tr style=\"text-align: right;\">\n",
       "      <th></th>\n",
       "      <th>source</th>\n",
       "      <th>id</th>\n",
       "      <th>title</th>\n",
       "      <th>objectives</th>\n",
       "      <th>objectives_entities</th>\n",
       "    </tr>\n",
       "  </thead>\n",
       "  <tbody>\n",
       "    <tr>\n",
       "      <th>0</th>\n",
       "      <td>skyrim</td>\n",
       "      <td>55074</td>\n",
       "      <td>A Blade in the Dark</td>\n",
       "      <td>Talk to Delphine \\nLocate the dragon burial site \\nKill the Dragon Sahloknir \\nReturn to Delphine</td>\n",
       "      <td>Talk to xperx Locate the dragon burial site xorgx the xmiscx Sahloknir Return to xperx</td>\n",
       "    </tr>\n",
       "    <tr>\n",
       "      <th>1</th>\n",
       "      <td>skyrim</td>\n",
       "      <td>55212</td>\n",
       "      <td>A Chance Arrangement</td>\n",
       "      <td>Talk to Brynjolf about joining the Thieves Guild \\nMeet Brynjolf during daytime \\nSteal Madesi's ring from his strongbox \\nPlant Madesi's ring \\nSpeak to Brynjolf</td>\n",
       "      <td>Talk to xperx about joining the Thieves Guild Meet xperx during daytime Steal xorgx 's ring from his strongbox Plant xorgx 's ring Speak to xperx</td>\n",
       "    </tr>\n",
       "    <tr>\n",
       "      <th>2</th>\n",
       "      <td>skyrim</td>\n",
       "      <td>51114</td>\n",
       "      <td>A Cornered Rat</td>\n",
       "      <td>Talk to Brynjolf \\nSearch the Ratway for Esbern's hideout \\nFind Esbern in the Ratway Warrens \\nTalk to Esbern</td>\n",
       "      <td>Talk to xperx Search the xlocx for xperx 's hideout xmiscx xperx in the xlocx Warrens Talk to xperx</td>\n",
       "    </tr>\n",
       "    <tr>\n",
       "      <th>3</th>\n",
       "      <td>skyrim</td>\n",
       "      <td>52017</td>\n",
       "      <td>A Daedra's Best Friend</td>\n",
       "      <td>Talk with Barbas \\nTravel with Barbas to the shrine of Clavicus Vile \\nJoin Barbas outside Haemar's Shame \\nRetrieve the Rueful Axe with Barbas \\nReturn to the shrine of Clavicus Vile with Barbas and the Rueful Axe \\nGive the Rueful Axe to Clavicus Vile or kill Barbas with the Rueful Axe \\nSpeak to Clavicus Vile</td>\n",
       "      <td>Talk with xperx Travel with xperx to the shrine xmiscx Clavicus Vile Join xperx outside Haemar 's Shame Retrieve the Rueful Axe with xperx Return to the shrine xmiscx Clavicus Vile with xperx xorgx the Rueful Axe Give the Rueful Axe to Clavicus Vile or kill xperx with the Rueful Axe Speak to Clavicus Vile</td>\n",
       "    </tr>\n",
       "    <tr>\n",
       "      <th>4</th>\n",
       "      <td>skyrim</td>\n",
       "      <td>63392</td>\n",
       "      <td>A False Front (Imperials)</td>\n",
       "      <td>Find the Stormcloak courier \\nRetrive the Stormcloak courier's package \\nBring the documents to Legate Rikke \\nBring the forged documents to Frorkmar Banner-Torn</td>\n",
       "      <td>xmiscx the xorgx courier Retrive the xorgx courier 's package Bring the documents to Legate xperx Bring the forged documents to Frorkmar Banner-Torn</td>\n",
       "    </tr>\n",
       "  </tbody>\n",
       "</table>\n",
       "</div>"
      ],
      "text/plain": [
       "   source     id                      title  \\\n",
       "0  skyrim  55074        A Blade in the Dark   \n",
       "1  skyrim  55212       A Chance Arrangement   \n",
       "2  skyrim  51114             A Cornered Rat   \n",
       "3  skyrim  52017     A Daedra's Best Friend   \n",
       "4  skyrim  63392  A False Front (Imperials)   \n",
       "\n",
       "                                                                                                                                                                                                                                                                                                                  objectives  \\\n",
       "0                                                                                                                                                                                                                          Talk to Delphine \\nLocate the dragon burial site \\nKill the Dragon Sahloknir \\nReturn to Delphine   \n",
       "1                                                                                                                                                         Talk to Brynjolf about joining the Thieves Guild \\nMeet Brynjolf during daytime \\nSteal Madesi's ring from his strongbox \\nPlant Madesi's ring \\nSpeak to Brynjolf   \n",
       "2                                                                                                                                                                                                             Talk to Brynjolf \\nSearch the Ratway for Esbern's hideout \\nFind Esbern in the Ratway Warrens \\nTalk to Esbern   \n",
       "3  Talk with Barbas \\nTravel with Barbas to the shrine of Clavicus Vile \\nJoin Barbas outside Haemar's Shame \\nRetrieve the Rueful Axe with Barbas \\nReturn to the shrine of Clavicus Vile with Barbas and the Rueful Axe \\nGive the Rueful Axe to Clavicus Vile or kill Barbas with the Rueful Axe \\nSpeak to Clavicus Vile   \n",
       "4                                                                                                                                                          Find the Stormcloak courier \\nRetrive the Stormcloak courier's package \\nBring the documents to Legate Rikke \\nBring the forged documents to Frorkmar Banner-Torn   \n",
       "\n",
       "                                                                                                                                                                                                                                                                                                  objectives_entities  \n",
       "0                                                                                                                                                                                                                              Talk to xperx Locate the dragon burial site xorgx the xmiscx Sahloknir Return to xperx  \n",
       "1                                                                                                                                                                   Talk to xperx about joining the Thieves Guild Meet xperx during daytime Steal xorgx 's ring from his strongbox Plant xorgx 's ring Speak to xperx  \n",
       "2                                                                                                                                                                                                                 Talk to xperx Search the xlocx for xperx 's hideout xmiscx xperx in the xlocx Warrens Talk to xperx  \n",
       "3  Talk with xperx Travel with xperx to the shrine xmiscx Clavicus Vile Join xperx outside Haemar 's Shame Retrieve the Rueful Axe with xperx Return to the shrine xmiscx Clavicus Vile with xperx xorgx the Rueful Axe Give the Rueful Axe to Clavicus Vile or kill xperx with the Rueful Axe Speak to Clavicus Vile  \n",
       "4                                                                                                                                                                xmiscx the xorgx courier Retrive the xorgx courier 's package Bring the documents to Legate xperx Bring the forged documents to Frorkmar Banner-Torn  "
      ]
     },
     "execution_count": 3,
     "metadata": {},
     "output_type": "execute_result"
    }
   ],
   "source": [
    "df_quests.head()"
   ]
  },
  {
   "cell_type": "code",
   "execution_count": 4,
   "metadata": {},
   "outputs": [],
   "source": [
    "df_quests[\"text\"] = df_quests.apply(lambda x: (x[\"title\"] + \" > \" + x[\"objectives_entities\"].replace(\".\", \" > \")).lower(), axis=1)"
   ]
  },
  {
   "cell_type": "code",
   "execution_count": 5,
   "metadata": {},
   "outputs": [
    {
     "data": {
      "text/plain": [
       "277                                                                                                                                                                                                                                                                  the golden claw (skyrim) > retrieve the xlocx claw cut arvel down retrieve the xlocx claw xmiscx the secret xmiscx bleak falls xorgx bring the claw to xlocx\n",
       "117                                                                                                                                                                                                                                                                                                      good intentions > speak with xorgx listen to xorgx follow xorgx xmiscx the augur xmiscx xlocx report back to xperx xorgx\n",
       "455    the isle of mists (quest) > xperx to xorgx  >  talk to friends who could help defeat the xorgx xorgx ask them to join your fight  >  get on a boat  >  travel to the isle xmiscx mists  >  follow the firefly  >  check what 's in the hut  >  look for xperx along the coast  >  look for xperx in the cave  >  look for xperx near the lighthouse  >  wake xperx up  >  bring xperx to the hut  >  return to the hut  > \n",
       "Name: text, dtype: object"
      ]
     },
     "execution_count": 5,
     "metadata": {},
     "output_type": "execute_result"
    }
   ],
   "source": [
    "df_quests.sample(3)[\"text\"]"
   ]
  },
  {
   "cell_type": "code",
   "execution_count": 6,
   "metadata": {},
   "outputs": [],
   "source": [
    "with open(\"../data/raw/gameofthrones.txt\") as infile:\n",
    "    got_txt = infile.readlines()\n",
    "got_txt = [l for l in got_txt if l != \"\\n\"]"
   ]
  },
  {
   "cell_type": "code",
   "execution_count": 7,
   "metadata": {},
   "outputs": [],
   "source": [
    "df_got = pd.DataFrame({\"text\": got_txt})"
   ]
  },
  {
   "cell_type": "code",
   "execution_count": 9,
   "metadata": {},
   "outputs": [],
   "source": [
    "df = pd.concat([df_got[\"text\"], df_quests[\"text\"]]).to_frame()"
   ]
  },
  {
   "cell_type": "code",
   "execution_count": 10,
   "metadata": {},
   "outputs": [
    {
     "data": {
      "text/html": [],
      "text/plain": [
       "<IPython.core.display.HTML object>"
      ]
     },
     "metadata": {},
     "output_type": "display_data"
    },
    {
     "name": "stderr",
     "output_type": "stream",
     "text": [
      "/home/tiago/anaconda3/envs/creative-ai/lib/python3.8/site-packages/numpy/core/_asarray.py:83: VisibleDeprecationWarning: Creating an ndarray from ragged nested sequences (which is a list-or-tuple of lists-or-tuples-or ndarrays with different lengths or shapes) is deprecated. If you meant to do this, you must specify 'dtype=object' when creating the ndarray\n",
      "  return array(a, dtype, copy=False, order=order)\n"
     ]
    }
   ],
   "source": [
    "lm_data = TextDataLoaders.from_df(df, text_col=\"text\", is_lm=True, seed=7)"
   ]
  },
  {
   "cell_type": "code",
   "execution_count": 11,
   "metadata": {},
   "outputs": [
    {
     "data": {
      "text/html": [
       "<table border=\"1\" class=\"dataframe\">\n",
       "  <thead>\n",
       "    <tr style=\"text-align: right;\">\n",
       "      <th></th>\n",
       "      <th>text</th>\n",
       "      <th>text_</th>\n",
       "    </tr>\n",
       "  </thead>\n",
       "  <tbody>\n",
       "    <tr>\n",
       "      <th>0</th>\n",
       "      <td>xxbos “ gods , xxmaj catelyn , xxmaj sansa is only eleven , ” xxmaj ned said . “ and xxmaj joffrey … xxmaj joffrey is … ” xxbos a column of riders emerged from beneath the portcullis with a clink of steel and a clatter of hooves . xxmaj clegane stepped close to the king , one hand on the hilt of his longsword . xxmaj the visitors were dinted and</td>\n",
       "      <td>“ gods , xxmaj catelyn , xxmaj sansa is only eleven , ” xxmaj ned said . “ and xxmaj joffrey … xxmaj joffrey is … ” xxbos a column of riders emerged from beneath the portcullis with a clink of steel and a clatter of hooves . xxmaj clegane stepped close to the king , one hand on the hilt of his longsword . xxmaj the visitors were dinted and haggard</td>\n",
       "    </tr>\n",
       "    <tr>\n",
       "      <th>1</th>\n",
       "      <td>battle of the xxmaj blackwater changed all . xxmaj the rose and the lion joined there , to shatter xxmaj stannis xxmaj baratheon ’s host and burn his fleet to ashes . ” xxbos xxmaj the bloodstained messenger shook his head . “ our outriders had been vanishing . xxmaj marq xxmaj piper ’s work , we thought . xxmaj the ones who did come back had seen nothing . ” xxbos</td>\n",
       "      <td>of the xxmaj blackwater changed all . xxmaj the rose and the lion joined there , to shatter xxmaj stannis xxmaj baratheon ’s host and burn his fleet to ashes . ” xxbos xxmaj the bloodstained messenger shook his head . “ our outriders had been vanishing . xxmaj marq xxmaj piper ’s work , we thought . xxmaj the ones who did come back had seen nothing . ” xxbos “</td>\n",
       "    </tr>\n",
       "    <tr>\n",
       "      <th>2</th>\n",
       "      <td>. xxmaj and someone will need to wake xxmaj joffrey . ” xxbos xxmaj she took a deep breath to calm herself . “ i thought i was alone , xxup i … ” xxmaj she glanced away . xxbos “ one against seven ? ” xxmaj halder gave a signal . xxmaj the boys spread out , surrounding him . xxbos “ who do you think sends the wind , if</td>\n",
       "      <td>xxmaj and someone will need to wake xxmaj joffrey . ” xxbos xxmaj she took a deep breath to calm herself . “ i thought i was alone , xxup i … ” xxmaj she glanced away . xxbos “ one against seven ? ” xxmaj halder gave a signal . xxmaj the boys spread out , surrounding him . xxbos “ who do you think sends the wind , if not</td>\n",
       "    </tr>\n",
       "  </tbody>\n",
       "</table>"
      ],
      "text/plain": [
       "<IPython.core.display.HTML object>"
      ]
     },
     "metadata": {},
     "output_type": "display_data"
    }
   ],
   "source": [
    "lm_data.show_batch(max_n=3)"
   ]
  },
  {
   "cell_type": "code",
   "execution_count": 12,
   "metadata": {},
   "outputs": [],
   "source": [
    "learn = language_model_learner(lm_data, AWD_LSTM, metrics=[accuracy, Perplexity()], path=\"../models/\")"
   ]
  },
  {
   "cell_type": "code",
   "execution_count": 13,
   "metadata": {},
   "outputs": [
    {
     "data": {
      "text/html": [
       "<table border=\"1\" class=\"dataframe\">\n",
       "  <thead>\n",
       "    <tr style=\"text-align: left;\">\n",
       "      <th>epoch</th>\n",
       "      <th>train_loss</th>\n",
       "      <th>valid_loss</th>\n",
       "      <th>accuracy</th>\n",
       "      <th>perplexity</th>\n",
       "      <th>time</th>\n",
       "    </tr>\n",
       "  </thead>\n",
       "  <tbody>\n",
       "    <tr>\n",
       "      <td>0</td>\n",
       "      <td>4.195041</td>\n",
       "      <td>3.725751</td>\n",
       "      <td>0.285722</td>\n",
       "      <td>41.502407</td>\n",
       "      <td>00:58</td>\n",
       "    </tr>\n",
       "  </tbody>\n",
       "</table>"
      ],
      "text/plain": [
       "<IPython.core.display.HTML object>"
      ]
     },
     "metadata": {},
     "output_type": "display_data"
    }
   ],
   "source": [
    "learn.fit_one_cycle(1, 1e-2)"
   ]
  },
  {
   "cell_type": "code",
   "execution_count": 14,
   "metadata": {},
   "outputs": [
    {
     "data": {
      "text/plain": [
       "Path('../models/models/1epoch.pth')"
      ]
     },
     "execution_count": 14,
     "metadata": {},
     "output_type": "execute_result"
    }
   ],
   "source": [
    "learn.save('1epoch')"
   ]
  },
  {
   "cell_type": "code",
   "execution_count": 15,
   "metadata": {},
   "outputs": [],
   "source": [
    "learn = learn.load('1epoch')"
   ]
  },
  {
   "cell_type": "code",
   "execution_count": 16,
   "metadata": {},
   "outputs": [
    {
     "data": {
      "text/html": [
       "<table border=\"1\" class=\"dataframe\">\n",
       "  <thead>\n",
       "    <tr style=\"text-align: left;\">\n",
       "      <th>epoch</th>\n",
       "      <th>train_loss</th>\n",
       "      <th>valid_loss</th>\n",
       "      <th>accuracy</th>\n",
       "      <th>perplexity</th>\n",
       "      <th>time</th>\n",
       "    </tr>\n",
       "  </thead>\n",
       "  <tbody>\n",
       "    <tr>\n",
       "      <td>0</td>\n",
       "      <td>3.924222</td>\n",
       "      <td>3.620647</td>\n",
       "      <td>0.300250</td>\n",
       "      <td>37.361721</td>\n",
       "      <td>01:08</td>\n",
       "    </tr>\n",
       "    <tr>\n",
       "      <td>1</td>\n",
       "      <td>3.786116</td>\n",
       "      <td>3.528270</td>\n",
       "      <td>0.311006</td>\n",
       "      <td>34.064983</td>\n",
       "      <td>01:09</td>\n",
       "    </tr>\n",
       "    <tr>\n",
       "      <td>2</td>\n",
       "      <td>3.673791</td>\n",
       "      <td>3.448728</td>\n",
       "      <td>0.320587</td>\n",
       "      <td>31.460360</td>\n",
       "      <td>01:08</td>\n",
       "    </tr>\n",
       "    <tr>\n",
       "      <td>3</td>\n",
       "      <td>3.563691</td>\n",
       "      <td>3.394011</td>\n",
       "      <td>0.327964</td>\n",
       "      <td>29.785168</td>\n",
       "      <td>01:08</td>\n",
       "    </tr>\n",
       "    <tr>\n",
       "      <td>4</td>\n",
       "      <td>3.492585</td>\n",
       "      <td>3.358512</td>\n",
       "      <td>0.331786</td>\n",
       "      <td>28.746376</td>\n",
       "      <td>01:08</td>\n",
       "    </tr>\n",
       "    <tr>\n",
       "      <td>5</td>\n",
       "      <td>3.406917</td>\n",
       "      <td>3.333518</td>\n",
       "      <td>0.334803</td>\n",
       "      <td>28.036810</td>\n",
       "      <td>01:08</td>\n",
       "    </tr>\n",
       "    <tr>\n",
       "      <td>6</td>\n",
       "      <td>3.356275</td>\n",
       "      <td>3.318056</td>\n",
       "      <td>0.337136</td>\n",
       "      <td>27.606640</td>\n",
       "      <td>01:08</td>\n",
       "    </tr>\n",
       "    <tr>\n",
       "      <td>7</td>\n",
       "      <td>3.307809</td>\n",
       "      <td>3.309276</td>\n",
       "      <td>0.338147</td>\n",
       "      <td>27.365303</td>\n",
       "      <td>01:08</td>\n",
       "    </tr>\n",
       "    <tr>\n",
       "      <td>8</td>\n",
       "      <td>3.283530</td>\n",
       "      <td>3.306637</td>\n",
       "      <td>0.338591</td>\n",
       "      <td>27.293173</td>\n",
       "      <td>01:08</td>\n",
       "    </tr>\n",
       "    <tr>\n",
       "      <td>9</td>\n",
       "      <td>3.268065</td>\n",
       "      <td>3.306350</td>\n",
       "      <td>0.338578</td>\n",
       "      <td>27.285339</td>\n",
       "      <td>01:12</td>\n",
       "    </tr>\n",
       "  </tbody>\n",
       "</table>"
      ],
      "text/plain": [
       "<IPython.core.display.HTML object>"
      ]
     },
     "metadata": {},
     "output_type": "display_data"
    }
   ],
   "source": [
    "learn.unfreeze()\n",
    "learn.fit_one_cycle(10, 1e-3)"
   ]
  },
  {
   "cell_type": "code",
   "execution_count": 52,
   "metadata": {},
   "outputs": [],
   "source": [
    "learn.export('finetuned_book.pkl')"
   ]
  },
  {
   "cell_type": "code",
   "execution_count": 19,
   "metadata": {},
   "outputs": [],
   "source": [
    "with open(\"../models/models/book_vocab.pkl\", \"wb\") as outfile:\n",
    "    pickle.dump(lm_data.vocab, outfile)"
   ]
  },
  {
   "cell_type": "markdown",
   "metadata": {},
   "source": [
    "---"
   ]
  },
  {
   "cell_type": "code",
   "execution_count": 21,
   "metadata": {},
   "outputs": [
    {
     "data": {
      "text/plain": [
       "0          A Blade in the Dark\n",
       "1         A Chance Arrangement\n",
       "2               A Cornered Rat\n",
       "3       A Daedra's Best Friend\n",
       "4    A False Front (Imperials)\n",
       "Name: title, dtype: object"
      ]
     },
     "execution_count": 21,
     "metadata": {},
     "output_type": "execute_result"
    }
   ],
   "source": [
    "df_quests.head()[\"title\"]"
   ]
  },
  {
   "cell_type": "code",
   "execution_count": 27,
   "metadata": {},
   "outputs": [
    {
     "data": {
      "text/html": [],
      "text/plain": [
       "<IPython.core.display.HTML object>"
      ]
     },
     "metadata": {},
     "output_type": "display_data"
    },
    {
     "data": {
      "text/html": [],
      "text/plain": [
       "<IPython.core.display.HTML object>"
      ]
     },
     "metadata": {},
     "output_type": "display_data"
    },
    {
     "data": {
      "text/html": [],
      "text/plain": [
       "<IPython.core.display.HTML object>"
      ]
     },
     "metadata": {},
     "output_type": "display_data"
    },
    {
     "data": {
      "text/html": [],
      "text/plain": [
       "<IPython.core.display.HTML object>"
      ]
     },
     "metadata": {},
     "output_type": "display_data"
    },
    {
     "data": {
      "text/html": [],
      "text/plain": [
       "<IPython.core.display.HTML object>"
      ]
     },
     "metadata": {},
     "output_type": "display_data"
    },
    {
     "data": {
      "text/plain": [
       "['swords in the dark > read the letter you found > xmiscx the agent near the kitchen in the xorgx',\n",
       " \"swords in the dark > get xperx 's payment on the xmiscx giver give the rope to xperx\",\n",
       " 'swords in the dark > talk to xperx > talk to the woman > talk to the xperx xorgx xorgx',\n",
       " 'swords in the dark > xmiscx the target where the doorway is using your witcher senses > fist the gueren',\n",
       " 'swords in the dark > pass the cried raven xmiscx broken eagle jacks against the crow xmiscx the star xmiscx']"
      ]
     },
     "execution_count": 27,
     "metadata": {},
     "output_type": "execute_result"
    }
   ],
   "source": [
    "quest_title = \"Swords in the dark\"\n",
    "\n",
    "n_goals = 5\n",
    "[learn.predict(quest_title.lower() + \" >\", n_words=15) for _ in range(n_goals)]"
   ]
  },
  {
   "cell_type": "code",
   "execution_count": 44,
   "metadata": {},
   "outputs": [
    {
     "data": {
      "text/html": [],
      "text/plain": [
       "<IPython.core.display.HTML object>"
      ]
     },
     "metadata": {},
     "output_type": "display_data"
    },
    {
     "data": {
      "text/html": [],
      "text/plain": [
       "<IPython.core.display.HTML object>"
      ]
     },
     "metadata": {},
     "output_type": "display_data"
    },
    {
     "data": {
      "text/html": [],
      "text/plain": [
       "<IPython.core.display.HTML object>"
      ]
     },
     "metadata": {},
     "output_type": "display_data"
    },
    {
     "data": {
      "text/html": [],
      "text/plain": [
       "<IPython.core.display.HTML object>"
      ]
     },
     "metadata": {},
     "output_type": "display_data"
    },
    {
     "data": {
      "text/html": [],
      "text/plain": [
       "<IPython.core.display.HTML object>"
      ]
     },
     "metadata": {},
     "output_type": "display_data"
    },
    {
     "data": {
      "text/plain": [
       "[\"swords in the dark > enter shrine > execute a spell on bearers in ruby thugs ' n retrieve your escort hut '\",\n",
       " 'swords in the dark > enter shrine > talk to the vampire drummers if whickered is done with monsters : wolf - boots',\n",
       " \"swords in the dark > enter shrine > captain 's secret : bobbed > read the letter you found > clanged the\",\n",
       " 'swords in the dark > enter shrine > talk to scowled get defeat activate the home > befriend the stranger > search the',\n",
       " 'swords in the dark > enter shrine > learn elderly iron sword bring probing some high - ankle rings caps with arms come']"
      ]
     },
     "execution_count": 44,
     "metadata": {},
     "output_type": "execute_result"
    }
   ],
   "source": [
    "quest_title = \"Swords in the dark > enter shrine\"\n",
    "\n",
    "n_goals = 5\n",
    "[learn_quests.predict(quest_title.lower() + \" >\", n_words=15) for _ in range(n_goals)]"
   ]
  },
  {
   "cell_type": "markdown",
   "metadata": {},
   "source": [
    "---"
   ]
  },
  {
   "cell_type": "code",
   "execution_count": 28,
   "metadata": {},
   "outputs": [
    {
     "data": {
      "text/html": [],
      "text/plain": [
       "<IPython.core.display.HTML object>"
      ]
     },
     "metadata": {},
     "output_type": "display_data"
    },
    {
     "name": "stderr",
     "output_type": "stream",
     "text": [
      "/home/tiago/anaconda3/envs/creative-ai/lib/python3.8/site-packages/numpy/core/_asarray.py:83: VisibleDeprecationWarning: Creating an ndarray from ragged nested sequences (which is a list-or-tuple of lists-or-tuples-or ndarrays with different lengths or shapes) is deprecated. If you meant to do this, you must specify 'dtype=object' when creating the ndarray\n",
      "  return array(a, dtype, copy=False, order=order)\n"
     ]
    }
   ],
   "source": [
    "lm_data_quests = TextDataLoaders.from_df(df_quests, text_col=\"text\", is_lm=True, seed=7, text_vocab=lm_data.vocab)"
   ]
  },
  {
   "cell_type": "code",
   "execution_count": 30,
   "metadata": {},
   "outputs": [
    {
     "data": {
      "text/html": [
       "<table border=\"1\" class=\"dataframe\">\n",
       "  <thead>\n",
       "    <tr style=\"text-align: right;\">\n",
       "      <th></th>\n",
       "      <th>text</th>\n",
       "      <th>text_</th>\n",
       "    </tr>\n",
       "  </thead>\n",
       "  <tbody>\n",
       "    <tr>\n",
       "      <th>0</th>\n",
       "      <td>xxbos ciri 's story : the race &gt; beat the baron in the horse race &gt; xxbos armed assault &gt; knock on the door to check on the xxunk xmiscx the house &gt; xxbos blood 's honor &gt; speak to xperx xxunk collect a xlocx xmiscx 's head wipe out the xlocx xxunk ( optional ) return to xperx xxbos xxunk xxunk &gt; xmiscx the scribe in the xorgx xorgx sign up</td>\n",
       "      <td>ciri 's story : the race &gt; beat the baron in the horse race &gt; xxbos armed assault &gt; knock on the door to check on the xxunk xmiscx the house &gt; xxbos blood 's honor &gt; speak to xperx xxunk collect a xlocx xmiscx 's head wipe out the xlocx xxunk ( optional ) return to xperx xxbos xxunk xxunk &gt; xmiscx the scribe in the xorgx xorgx sign up for</td>\n",
       "    </tr>\n",
       "    <tr>\n",
       "      <th>1</th>\n",
       "      <td>xperx &gt; meet xperx at the seven cats inn &gt; ( 80 ) xperx to xlocx xorgx look for xperx &gt; ask xperx what he knows about xperx &gt; xmiscx xperx &gt; xmiscx the shrine where xperx xxunk &gt; xorgx xperx &gt; ( ? ) search xperx 's body &gt; meet xperx at the nowhere inn &gt; meet xperx on xxunk square , near xperx 's residence &gt; ( xxunk ) decide</td>\n",
       "      <td>&gt; meet xperx at the seven cats inn &gt; ( 80 ) xperx to xlocx xorgx look for xperx &gt; ask xperx what he knows about xperx &gt; xmiscx xperx &gt; xmiscx the shrine where xperx xxunk &gt; xorgx xperx &gt; ( ? ) search xperx 's body &gt; meet xperx at the nowhere inn &gt; meet xperx on xxunk square , near xperx 's residence &gt; ( xxunk ) decide xxunk</td>\n",
       "    </tr>\n",
       "    <tr>\n",
       "      <th>2</th>\n",
       "      <td>you dare ! &gt; xmiscx out more about the contract &gt; xmiscx out what 's stealing the old woman 's chickens using your witcher senses &gt; convince the old woman to take in the children &gt; xxbos shahvee 's amulet &gt; xmiscx the amulet xmiscx xxunk for shahvee return the amulet xmiscx xxunk to shahvee xxbos xxunk ( skyrim ) &gt; help xperx reach the top xmiscx xxunk xlocx defeat xperx 's</td>\n",
       "      <td>dare ! &gt; xmiscx out more about the contract &gt; xmiscx out what 's stealing the old woman 's chickens using your witcher senses &gt; convince the old woman to take in the children &gt; xxbos shahvee 's amulet &gt; xmiscx the amulet xmiscx xxunk for shahvee return the amulet xmiscx xxunk to shahvee xxbos xxunk ( skyrim ) &gt; help xperx reach the top xmiscx xxunk xlocx defeat xperx 's mother</td>\n",
       "    </tr>\n",
       "  </tbody>\n",
       "</table>"
      ],
      "text/plain": [
       "<IPython.core.display.HTML object>"
      ]
     },
     "metadata": {},
     "output_type": "display_data"
    }
   ],
   "source": [
    "lm_data_quests.show_batch(max_n=3)"
   ]
  },
  {
   "cell_type": "code",
   "execution_count": 32,
   "metadata": {},
   "outputs": [],
   "source": [
    "learn_quests = language_model_learner(lm_data_quests, AWD_LSTM, metrics=[accuracy, Perplexity()], path=\"../models/\")"
   ]
  },
  {
   "cell_type": "code",
   "execution_count": 33,
   "metadata": {},
   "outputs": [
    {
     "data": {
      "text/html": [
       "<table border=\"1\" class=\"dataframe\">\n",
       "  <thead>\n",
       "    <tr style=\"text-align: left;\">\n",
       "      <th>epoch</th>\n",
       "      <th>train_loss</th>\n",
       "      <th>valid_loss</th>\n",
       "      <th>accuracy</th>\n",
       "      <th>perplexity</th>\n",
       "      <th>time</th>\n",
       "    </tr>\n",
       "  </thead>\n",
       "  <tbody>\n",
       "    <tr>\n",
       "      <td>0</td>\n",
       "      <td>7.785580</td>\n",
       "      <td>6.885910</td>\n",
       "      <td>0.146267</td>\n",
       "      <td>978.391602</td>\n",
       "      <td>00:01</td>\n",
       "    </tr>\n",
       "  </tbody>\n",
       "</table>"
      ],
      "text/plain": [
       "<IPython.core.display.HTML object>"
      ]
     },
     "metadata": {},
     "output_type": "display_data"
    }
   ],
   "source": [
    "learn_quests.fit_one_cycle(1, 1e-2)"
   ]
  },
  {
   "cell_type": "code",
   "execution_count": 34,
   "metadata": {},
   "outputs": [
    {
     "data": {
      "text/html": [
       "<table border=\"1\" class=\"dataframe\">\n",
       "  <thead>\n",
       "    <tr style=\"text-align: left;\">\n",
       "      <th>epoch</th>\n",
       "      <th>train_loss</th>\n",
       "      <th>valid_loss</th>\n",
       "      <th>accuracy</th>\n",
       "      <th>perplexity</th>\n",
       "      <th>time</th>\n",
       "    </tr>\n",
       "  </thead>\n",
       "  <tbody>\n",
       "    <tr>\n",
       "      <td>0</td>\n",
       "      <td>7.034710</td>\n",
       "      <td>6.015705</td>\n",
       "      <td>0.202148</td>\n",
       "      <td>409.814697</td>\n",
       "      <td>00:01</td>\n",
       "    </tr>\n",
       "    <tr>\n",
       "      <td>1</td>\n",
       "      <td>6.606172</td>\n",
       "      <td>5.423470</td>\n",
       "      <td>0.223850</td>\n",
       "      <td>226.664398</td>\n",
       "      <td>00:01</td>\n",
       "    </tr>\n",
       "    <tr>\n",
       "      <td>2</td>\n",
       "      <td>6.235723</td>\n",
       "      <td>5.008296</td>\n",
       "      <td>0.290690</td>\n",
       "      <td>149.649521</td>\n",
       "      <td>00:01</td>\n",
       "    </tr>\n",
       "    <tr>\n",
       "      <td>3</td>\n",
       "      <td>5.940209</td>\n",
       "      <td>4.652508</td>\n",
       "      <td>0.329536</td>\n",
       "      <td>104.847588</td>\n",
       "      <td>00:01</td>\n",
       "    </tr>\n",
       "    <tr>\n",
       "      <td>4</td>\n",
       "      <td>5.688892</td>\n",
       "      <td>4.444615</td>\n",
       "      <td>0.321181</td>\n",
       "      <td>85.167114</td>\n",
       "      <td>00:01</td>\n",
       "    </tr>\n",
       "    <tr>\n",
       "      <td>5</td>\n",
       "      <td>5.477461</td>\n",
       "      <td>4.250602</td>\n",
       "      <td>0.343750</td>\n",
       "      <td>70.147614</td>\n",
       "      <td>00:01</td>\n",
       "    </tr>\n",
       "    <tr>\n",
       "      <td>6</td>\n",
       "      <td>5.297235</td>\n",
       "      <td>4.183322</td>\n",
       "      <td>0.348633</td>\n",
       "      <td>65.583359</td>\n",
       "      <td>00:01</td>\n",
       "    </tr>\n",
       "    <tr>\n",
       "      <td>7</td>\n",
       "      <td>5.142070</td>\n",
       "      <td>4.058821</td>\n",
       "      <td>0.357856</td>\n",
       "      <td>57.906010</td>\n",
       "      <td>00:01</td>\n",
       "    </tr>\n",
       "    <tr>\n",
       "      <td>8</td>\n",
       "      <td>5.016280</td>\n",
       "      <td>4.043697</td>\n",
       "      <td>0.351671</td>\n",
       "      <td>57.036839</td>\n",
       "      <td>00:01</td>\n",
       "    </tr>\n",
       "    <tr>\n",
       "      <td>9</td>\n",
       "      <td>4.913169</td>\n",
       "      <td>4.044274</td>\n",
       "      <td>0.351888</td>\n",
       "      <td>57.069729</td>\n",
       "      <td>00:01</td>\n",
       "    </tr>\n",
       "  </tbody>\n",
       "</table>"
      ],
      "text/plain": [
       "<IPython.core.display.HTML object>"
      ]
     },
     "metadata": {},
     "output_type": "display_data"
    }
   ],
   "source": [
    "learn_quests.unfreeze()\n",
    "learn_quests.fit_one_cycle(10, 1e-3)"
   ]
  },
  {
   "cell_type": "code",
   "execution_count": 53,
   "metadata": {},
   "outputs": [],
   "source": [
    "learn_quests.export('finetuned_quests.pkl')"
   ]
  },
  {
   "cell_type": "code",
   "execution_count": 46,
   "metadata": {},
   "outputs": [
    {
     "data": {
      "text/html": [],
      "text/plain": [
       "<IPython.core.display.HTML object>"
      ]
     },
     "metadata": {},
     "output_type": "display_data"
    },
    {
     "data": {
      "text/html": [],
      "text/plain": [
       "<IPython.core.display.HTML object>"
      ]
     },
     "metadata": {},
     "output_type": "display_data"
    },
    {
     "data": {
      "text/html": [],
      "text/plain": [
       "<IPython.core.display.HTML object>"
      ]
     },
     "metadata": {},
     "output_type": "display_data"
    },
    {
     "data": {
      "text/html": [],
      "text/plain": [
       "<IPython.core.display.HTML object>"
      ]
     },
     "metadata": {},
     "output_type": "display_data"
    },
    {
     "data": {
      "text/html": [],
      "text/plain": [
       "<IPython.core.display.HTML object>"
      ]
     },
     "metadata": {},
     "output_type": "display_data"
    },
    {
     "data": {
      "text/plain": [
       "['swords in the dark > speak to > read information you found > quest the key to the collect black',\n",
       " 'swords in the dark > read your shouts bring the void to the injured sodden > follow the … wonder',\n",
       " 'swords in the dark > > speak to pick up > get a shipment from the former continue to the',\n",
       " 'swords in the dark > speak to stubs ( weddings ) say what happened to the murderer : question what',\n",
       " 'swords in the dark > read the letter you found > minds > optional in the boar skull >']"
      ]
     },
     "execution_count": 46,
     "metadata": {},
     "output_type": "execute_result"
    }
   ],
   "source": [
    "quest_title = \"Swords in the dark\"\n",
    "\n",
    "n_goals = 5\n",
    "[learn_quests.predict(quest_title.lower() + \" >\", n_words=15) for _ in range(n_goals)]"
   ]
  },
  {
   "cell_type": "code",
   "execution_count": 43,
   "metadata": {},
   "outputs": [
    {
     "data": {
      "text/html": [],
      "text/plain": [
       "<IPython.core.display.HTML object>"
      ]
     },
     "metadata": {},
     "output_type": "display_data"
    },
    {
     "data": {
      "text/html": [],
      "text/plain": [
       "<IPython.core.display.HTML object>"
      ]
     },
     "metadata": {},
     "output_type": "display_data"
    },
    {
     "data": {
      "text/html": [],
      "text/plain": [
       "<IPython.core.display.HTML object>"
      ]
     },
     "metadata": {},
     "output_type": "display_data"
    },
    {
     "data": {
      "text/html": [],
      "text/plain": [
       "<IPython.core.display.HTML object>"
      ]
     },
     "metadata": {},
     "output_type": "display_data"
    },
    {
     "data": {
      "text/html": [],
      "text/plain": [
       "<IPython.core.display.HTML object>"
      ]
     },
     "metadata": {},
     "output_type": "display_data"
    },
    {
     "data": {
      "text/plain": [
       "['swords in the dark > enter shrine > hunt there > get the reward > the responsibility for carpets > collect seeds',\n",
       " 'swords in the dark > enter shrine > find the elder assassin > seek the puzzle beans extra dice > friends with courtesies',\n",
       " \"swords in the dark > enter shrine > talk to m > bar 's curse > retrieve fifty collect hand - encrusted\",\n",
       " 'swords in the dark > enter shrine > grace for the traitors > read the letter you found near the camp >',\n",
       " \"swords in the dark > enter shrine > check for dracarys ' secrets : > thieves in the cave > 0 / 2\"]"
      ]
     },
     "execution_count": 43,
     "metadata": {},
     "output_type": "execute_result"
    }
   ],
   "source": [
    "quest_title = \"Swords in the dark > enter shrine\"\n",
    "\n",
    "n_goals = 5\n",
    "[learn_quests.predict(quest_title.lower() + \" >\", n_words=15) for _ in range(n_goals)]"
   ]
  },
  {
   "cell_type": "code",
   "execution_count": 45,
   "metadata": {},
   "outputs": [
    {
     "data": {
      "text/html": [],
      "text/plain": [
       "<IPython.core.display.HTML object>"
      ]
     },
     "metadata": {},
     "output_type": "display_data"
    },
    {
     "data": {
      "text/html": [],
      "text/plain": [
       "<IPython.core.display.HTML object>"
      ]
     },
     "metadata": {},
     "output_type": "display_data"
    },
    {
     "data": {
      "text/html": [],
      "text/plain": [
       "<IPython.core.display.HTML object>"
      ]
     },
     "metadata": {},
     "output_type": "display_data"
    },
    {
     "data": {
      "text/html": [],
      "text/plain": [
       "<IPython.core.display.HTML object>"
      ]
     },
     "metadata": {},
     "output_type": "display_data"
    },
    {
     "data": {
      "text/html": [],
      "text/plain": [
       "<IPython.core.display.HTML object>"
      ]
     },
     "metadata": {},
     "output_type": "display_data"
    },
    {
     "data": {
      "text/plain": [
       "[\"swords in the dark > enter shrine > hunt there > take the sword dragon 's sword > solve in the blood > talk to\",\n",
       " 'swords in the dark > enter shrine > hunt there > put on the steel sword upgrade sword > you can unlocked lawless > talk to',\n",
       " 'swords in the dark > enter shrine > hunt there > meet massive grave > askew around mummers manacles > talk to mortified fleshless > speak',\n",
       " 'swords in the dark > enter shrine > hunt there > begin talks with the seamen in survivors discover that stiffening ( if let speak )',\n",
       " 'swords in the dark > enter shrine > hunt there > deal with the thieves legend > search the woods by floor > complete the final']"
      ]
     },
     "execution_count": 45,
     "metadata": {},
     "output_type": "execute_result"
    }
   ],
   "source": [
    "quest_title = \"Swords in the dark > enter shrine > hunt there\"\n",
    "\n",
    "n_goals = 5\n",
    "[learn_quests.predict(quest_title.lower() + \" >\", n_words=15) for _ in range(n_goals)]"
   ]
  },
  {
   "cell_type": "markdown",
   "metadata": {},
   "source": [
    "---"
   ]
  },
  {
   "cell_type": "markdown",
   "metadata": {},
   "source": [
    "# backup"
   ]
  },
  {
   "cell_type": "code",
   "execution_count": 55,
   "metadata": {},
   "outputs": [
    {
     "data": {
      "text/html": [
       "<table border=\"1\" class=\"dataframe\">\n",
       "  <thead>\n",
       "    <tr style=\"text-align: left;\">\n",
       "      <th>epoch</th>\n",
       "      <th>train_loss</th>\n",
       "      <th>valid_loss</th>\n",
       "      <th>time</th>\n",
       "    </tr>\n",
       "  </thead>\n",
       "  <tbody>\n",
       "    <tr>\n",
       "      <td>0</td>\n",
       "      <td>6.589756</td>\n",
       "      <td>5.739772</td>\n",
       "      <td>00:00</td>\n",
       "    </tr>\n",
       "  </tbody>\n",
       "</table>"
      ],
      "text/plain": [
       "<IPython.core.display.HTML object>"
      ]
     },
     "metadata": {},
     "output_type": "display_data"
    },
    {
     "data": {
      "text/html": [
       "<table border=\"1\" class=\"dataframe\">\n",
       "  <thead>\n",
       "    <tr style=\"text-align: left;\">\n",
       "      <th>epoch</th>\n",
       "      <th>train_loss</th>\n",
       "      <th>valid_loss</th>\n",
       "      <th>time</th>\n",
       "    </tr>\n",
       "  </thead>\n",
       "  <tbody>\n",
       "    <tr>\n",
       "      <td>0</td>\n",
       "      <td>5.706264</td>\n",
       "      <td>4.869517</td>\n",
       "      <td>00:01</td>\n",
       "    </tr>\n",
       "    <tr>\n",
       "      <td>1</td>\n",
       "      <td>5.222791</td>\n",
       "      <td>4.101242</td>\n",
       "      <td>00:01</td>\n",
       "    </tr>\n",
       "    <tr>\n",
       "      <td>2</td>\n",
       "      <td>4.813826</td>\n",
       "      <td>3.628067</td>\n",
       "      <td>00:01</td>\n",
       "    </tr>\n",
       "    <tr>\n",
       "      <td>3</td>\n",
       "      <td>4.486436</td>\n",
       "      <td>3.427560</td>\n",
       "      <td>00:01</td>\n",
       "    </tr>\n",
       "    <tr>\n",
       "      <td>4</td>\n",
       "      <td>4.238911</td>\n",
       "      <td>3.203441</td>\n",
       "      <td>00:01</td>\n",
       "    </tr>\n",
       "    <tr>\n",
       "      <td>5</td>\n",
       "      <td>4.023324</td>\n",
       "      <td>3.121645</td>\n",
       "      <td>00:01</td>\n",
       "    </tr>\n",
       "    <tr>\n",
       "      <td>6</td>\n",
       "      <td>3.852403</td>\n",
       "      <td>3.077629</td>\n",
       "      <td>00:01</td>\n",
       "    </tr>\n",
       "    <tr>\n",
       "      <td>7</td>\n",
       "      <td>3.714095</td>\n",
       "      <td>3.050021</td>\n",
       "      <td>00:01</td>\n",
       "    </tr>\n",
       "    <tr>\n",
       "      <td>8</td>\n",
       "      <td>3.595885</td>\n",
       "      <td>3.038499</td>\n",
       "      <td>00:01</td>\n",
       "    </tr>\n",
       "    <tr>\n",
       "      <td>9</td>\n",
       "      <td>3.501235</td>\n",
       "      <td>3.035754</td>\n",
       "      <td>00:01</td>\n",
       "    </tr>\n",
       "  </tbody>\n",
       "</table>"
      ],
      "text/plain": [
       "<IPython.core.display.HTML object>"
      ]
     },
     "metadata": {},
     "output_type": "display_data"
    }
   ],
   "source": [
    "learn.fine_tune(10, 1e-2)"
   ]
  },
  {
   "cell_type": "code",
   "execution_count": 57,
   "metadata": {},
   "outputs": [
    {
     "data": {
      "text/html": [],
      "text/plain": [
       "<IPython.core.display.HTML object>"
      ]
     },
     "metadata": {},
     "output_type": "display_data"
    },
    {
     "data": {
      "text/plain": [
       "'a blade in the dark > talk to the black man > collect boots word from killing the baron of his home . > retrieve gold'"
      ]
     },
     "execution_count": 57,
     "metadata": {},
     "output_type": "execute_result"
    }
   ],
   "source": [
    "learn.predict(title.lower() + ' > ', n_words=20)"
   ]
  },
  {
   "cell_type": "code",
   "execution_count": 58,
   "metadata": {},
   "outputs": [
    {
     "data": {
      "text/html": [],
      "text/plain": [
       "<IPython.core.display.HTML object>"
      ]
     },
     "metadata": {},
     "output_type": "display_data"
    },
    {
     "data": {
      "text/plain": [
       "'a blade in the dark > bring power to lower giver the family battle > look for the guardian leader fort in sirens . >'"
      ]
     },
     "execution_count": 58,
     "metadata": {},
     "output_type": "execute_result"
    }
   ],
   "source": [
    "learn.predict(title.lower() + ' > ', n_words=20)"
   ]
  },
  {
   "cell_type": "code",
   "execution_count": 59,
   "metadata": {},
   "outputs": [],
   "source": [
    "title = \"The Crimson Conspiracy\""
   ]
  },
  {
   "cell_type": "code",
   "execution_count": 60,
   "metadata": {},
   "outputs": [
    {
     "data": {
      "text/html": [],
      "text/plain": [
       "<IPython.core.display.HTML object>"
      ]
     },
     "metadata": {},
     "output_type": "display_data"
    },
    {
     "data": {
      "text/plain": [
       "'the crimson xxunk > locate high and water vilkas notes to the 25 citizens of the ruins of woe against earth . >'"
      ]
     },
     "execution_count": 60,
     "metadata": {},
     "output_type": "execute_result"
    }
   ],
   "source": [
    "learn.predict(title.lower() + ' > ', n_words=20)"
   ]
  },
  {
   "cell_type": "code",
   "execution_count": 61,
   "metadata": {},
   "outputs": [],
   "source": [
    "title = \"A curious looking egg\""
   ]
  },
  {
   "cell_type": "code",
   "execution_count": 62,
   "metadata": {},
   "outputs": [
    {
     "data": {
      "text/html": [],
      "text/plain": [
       "<IPython.core.display.HTML object>"
      ]
     },
     "metadata": {},
     "output_type": "display_data"
    },
    {
     "data": {
      "text/plain": [
       "'a xxunk xxunk xxunk > find the ring on orchard of wood > find the way to the obelisk . > use the obelisk'"
      ]
     },
     "execution_count": 62,
     "metadata": {},
     "output_type": "execute_result"
    }
   ],
   "source": [
    "learn.predict(title.lower() + ' > ', n_words=20)"
   ]
  },
  {
   "cell_type": "markdown",
   "metadata": {},
   "source": [
    "---"
   ]
  },
  {
   "cell_type": "code",
   "execution_count": 50,
   "metadata": {},
   "outputs": [],
   "source": [
    "loaded_learn = load_learner(\"../models/finetuned_quests\")"
   ]
  },
  {
   "cell_type": "code",
   "execution_count": 51,
   "metadata": {},
   "outputs": [
    {
     "data": {
      "text/plain": [
       "<fastai.text.learner.LMLearner at 0x7f882ed36730>"
      ]
     },
     "execution_count": 51,
     "metadata": {},
     "output_type": "execute_result"
    }
   ],
   "source": [
    "loaded_learn"
   ]
  }
 ],
 "metadata": {
  "kernelspec": {
   "display_name": "Python 3",
   "language": "python",
   "name": "python3"
  },
  "language_info": {
   "codemirror_mode": {
    "name": "ipython",
    "version": 3
   },
   "file_extension": ".py",
   "mimetype": "text/x-python",
   "name": "python",
   "nbconvert_exporter": "python",
   "pygments_lexer": "ipython3",
   "version": "3.8.5"
  }
 },
 "nbformat": 4,
 "nbformat_minor": 4
}
